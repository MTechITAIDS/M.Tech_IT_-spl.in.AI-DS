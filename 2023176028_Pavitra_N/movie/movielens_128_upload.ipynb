{
 "cells": [
  {
   "cell_type": "code",
   "execution_count": 1,
   "id": "8ed0e962-ff22-4329-bdcf-305a56d922af",
   "metadata": {},
   "outputs": [],
   "source": [
    "import pandas as pd\n",
    "import numpy as np\n",
    "from sklearn.preprocessing import LabelEncoder\n",
    "import torch\n",
    "from torch.utils.data import TensorDataset, DataLoader, random_split"
   ]
  },
  {
   "cell_type": "code",
   "execution_count": 2,
   "id": "8412a2e7-a662-4b07-b6f7-7bd32782fbff",
   "metadata": {},
   "outputs": [],
   "source": [
    "ratings = pd.read_csv('ratings.csv')\n",
    "movies = pd.read_csv('movies.csv')\n",
    "users = pd.read_csv('users.csv')"
   ]
  },
  {
   "cell_type": "code",
   "execution_count": 3,
   "id": "9d10d86f-56b9-4a7e-b733-13550ef81ba6",
   "metadata": {},
   "outputs": [
    {
     "data": {
      "text/html": [
       "<div>\n",
       "<style scoped>\n",
       "    .dataframe tbody tr th:only-of-type {\n",
       "        vertical-align: middle;\n",
       "    }\n",
       "\n",
       "    .dataframe tbody tr th {\n",
       "        vertical-align: top;\n",
       "    }\n",
       "\n",
       "    .dataframe thead th {\n",
       "        text-align: right;\n",
       "    }\n",
       "</style>\n",
       "<table border=\"1\" class=\"dataframe\">\n",
       "  <thead>\n",
       "    <tr style=\"text-align: right;\">\n",
       "      <th></th>\n",
       "      <th>UserID</th>\n",
       "      <th>MovieID</th>\n",
       "      <th>Rating</th>\n",
       "      <th>Timestamp</th>\n",
       "      <th>Title</th>\n",
       "      <th>Genres</th>\n",
       "      <th>Gender</th>\n",
       "      <th>Age</th>\n",
       "      <th>Occupation</th>\n",
       "      <th>Zip-code</th>\n",
       "    </tr>\n",
       "  </thead>\n",
       "  <tbody>\n",
       "    <tr>\n",
       "      <th>0</th>\n",
       "      <td>1</td>\n",
       "      <td>1193</td>\n",
       "      <td>5</td>\n",
       "      <td>978300760</td>\n",
       "      <td>One Flew Over the Cuckoo's Nest (1975)</td>\n",
       "      <td>Drama</td>\n",
       "      <td>F</td>\n",
       "      <td>1</td>\n",
       "      <td>10</td>\n",
       "      <td>48067</td>\n",
       "    </tr>\n",
       "    <tr>\n",
       "      <th>1</th>\n",
       "      <td>1</td>\n",
       "      <td>661</td>\n",
       "      <td>3</td>\n",
       "      <td>978302109</td>\n",
       "      <td>James and the Giant Peach (1996)</td>\n",
       "      <td>Animation|Children's|Musical</td>\n",
       "      <td>F</td>\n",
       "      <td>1</td>\n",
       "      <td>10</td>\n",
       "      <td>48067</td>\n",
       "    </tr>\n",
       "    <tr>\n",
       "      <th>2</th>\n",
       "      <td>1</td>\n",
       "      <td>914</td>\n",
       "      <td>3</td>\n",
       "      <td>978301968</td>\n",
       "      <td>My Fair Lady (1964)</td>\n",
       "      <td>Musical|Romance</td>\n",
       "      <td>F</td>\n",
       "      <td>1</td>\n",
       "      <td>10</td>\n",
       "      <td>48067</td>\n",
       "    </tr>\n",
       "    <tr>\n",
       "      <th>3</th>\n",
       "      <td>1</td>\n",
       "      <td>3408</td>\n",
       "      <td>4</td>\n",
       "      <td>978300275</td>\n",
       "      <td>Erin Brockovich (2000)</td>\n",
       "      <td>Drama</td>\n",
       "      <td>F</td>\n",
       "      <td>1</td>\n",
       "      <td>10</td>\n",
       "      <td>48067</td>\n",
       "    </tr>\n",
       "    <tr>\n",
       "      <th>4</th>\n",
       "      <td>1</td>\n",
       "      <td>2355</td>\n",
       "      <td>5</td>\n",
       "      <td>978824291</td>\n",
       "      <td>Bug's Life, A (1998)</td>\n",
       "      <td>Animation|Children's|Comedy</td>\n",
       "      <td>F</td>\n",
       "      <td>1</td>\n",
       "      <td>10</td>\n",
       "      <td>48067</td>\n",
       "    </tr>\n",
       "  </tbody>\n",
       "</table>\n",
       "</div>"
      ],
      "text/plain": [
       "   UserID  MovieID  Rating  Timestamp                                   Title  \\\n",
       "0       1     1193       5  978300760  One Flew Over the Cuckoo's Nest (1975)   \n",
       "1       1      661       3  978302109        James and the Giant Peach (1996)   \n",
       "2       1      914       3  978301968                     My Fair Lady (1964)   \n",
       "3       1     3408       4  978300275                  Erin Brockovich (2000)   \n",
       "4       1     2355       5  978824291                    Bug's Life, A (1998)   \n",
       "\n",
       "                         Genres Gender  Age  Occupation Zip-code  \n",
       "0                         Drama      F    1          10    48067  \n",
       "1  Animation|Children's|Musical      F    1          10    48067  \n",
       "2               Musical|Romance      F    1          10    48067  \n",
       "3                         Drama      F    1          10    48067  \n",
       "4   Animation|Children's|Comedy      F    1          10    48067  "
      ]
     },
     "execution_count": 3,
     "metadata": {},
     "output_type": "execute_result"
    }
   ],
   "source": [
    "data = pd.merge(ratings, movies, on='MovieID')\n",
    "data = pd.merge(data, users, on='UserID')\n",
    "data.head()"
   ]
  },
  {
   "cell_type": "code",
   "execution_count": 4,
   "id": "8941d6a4-3919-42ec-9159-34ee0e78466d",
   "metadata": {},
   "outputs": [],
   "source": [
    "movie_id_to_name = pd.Series(movies.Title.values, index=movies.MovieID).to_dict()\n"
   ]
  },
  {
   "cell_type": "code",
   "execution_count": 5,
   "id": "def48e3a-f223-46cd-ae48-c4740e52b0c7",
   "metadata": {},
   "outputs": [
    {
     "name": "stdout",
     "output_type": "stream",
     "text": [
      "Data after filtering: (1000209, 10)\n"
     ]
    }
   ],
   "source": [
    "user_counts = data['UserID'].value_counts()\n",
    "filtered_users = user_counts[user_counts >= 5].index\n",
    "data = data[data['UserID'].isin(filtered_users)]\n",
    "print(f\"Data after filtering: {data.shape}\")"
   ]
  },
  {
   "cell_type": "code",
   "execution_count": 6,
   "id": "e4afcf80-3784-4564-a0ed-f3401863f4b9",
   "metadata": {},
   "outputs": [
    {
     "name": "stdout",
     "output_type": "stream",
     "text": [
      "Data after filtering: (999611, 10)\n"
     ]
    }
   ],
   "source": [
    "movie_counts = data['MovieID'].value_counts()\n",
    "filtered_movies = movie_counts[movie_counts >= 5].index\n",
    "data = data[data['MovieID'].isin(filtered_movies)]\n",
    "print(f\"Data after filtering: {data.shape}\")"
   ]
  },
  {
   "cell_type": "code",
   "execution_count": 7,
   "id": "b3aba8bd-4a8b-4c3e-8ea5-62b863d84595",
   "metadata": {},
   "outputs": [
    {
     "data": {
      "text/html": [
       "<div>\n",
       "<style scoped>\n",
       "    .dataframe tbody tr th:only-of-type {\n",
       "        vertical-align: middle;\n",
       "    }\n",
       "\n",
       "    .dataframe tbody tr th {\n",
       "        vertical-align: top;\n",
       "    }\n",
       "\n",
       "    .dataframe thead th {\n",
       "        text-align: right;\n",
       "    }\n",
       "</style>\n",
       "<table border=\"1\" class=\"dataframe\">\n",
       "  <thead>\n",
       "    <tr style=\"text-align: right;\">\n",
       "      <th></th>\n",
       "      <th>UserID</th>\n",
       "      <th>MovieID</th>\n",
       "      <th>Rating</th>\n",
       "      <th>Timestamp</th>\n",
       "      <th>Title</th>\n",
       "      <th>Genres</th>\n",
       "      <th>Gender</th>\n",
       "      <th>Age</th>\n",
       "      <th>Occupation</th>\n",
       "      <th>Zip-code</th>\n",
       "    </tr>\n",
       "  </thead>\n",
       "  <tbody>\n",
       "    <tr>\n",
       "      <th>0</th>\n",
       "      <td>1</td>\n",
       "      <td>1193</td>\n",
       "      <td>5</td>\n",
       "      <td>2000-12-31 22:12:40</td>\n",
       "      <td>One Flew Over the Cuckoo's Nest (1975)</td>\n",
       "      <td>Drama</td>\n",
       "      <td>F</td>\n",
       "      <td>1</td>\n",
       "      <td>10</td>\n",
       "      <td>48067</td>\n",
       "    </tr>\n",
       "    <tr>\n",
       "      <th>1</th>\n",
       "      <td>1</td>\n",
       "      <td>661</td>\n",
       "      <td>3</td>\n",
       "      <td>2000-12-31 22:35:09</td>\n",
       "      <td>James and the Giant Peach (1996)</td>\n",
       "      <td>Animation|Children's|Musical</td>\n",
       "      <td>F</td>\n",
       "      <td>1</td>\n",
       "      <td>10</td>\n",
       "      <td>48067</td>\n",
       "    </tr>\n",
       "    <tr>\n",
       "      <th>2</th>\n",
       "      <td>1</td>\n",
       "      <td>914</td>\n",
       "      <td>3</td>\n",
       "      <td>2000-12-31 22:32:48</td>\n",
       "      <td>My Fair Lady (1964)</td>\n",
       "      <td>Musical|Romance</td>\n",
       "      <td>F</td>\n",
       "      <td>1</td>\n",
       "      <td>10</td>\n",
       "      <td>48067</td>\n",
       "    </tr>\n",
       "    <tr>\n",
       "      <th>3</th>\n",
       "      <td>1</td>\n",
       "      <td>3408</td>\n",
       "      <td>4</td>\n",
       "      <td>2000-12-31 22:04:35</td>\n",
       "      <td>Erin Brockovich (2000)</td>\n",
       "      <td>Drama</td>\n",
       "      <td>F</td>\n",
       "      <td>1</td>\n",
       "      <td>10</td>\n",
       "      <td>48067</td>\n",
       "    </tr>\n",
       "    <tr>\n",
       "      <th>4</th>\n",
       "      <td>1</td>\n",
       "      <td>2355</td>\n",
       "      <td>5</td>\n",
       "      <td>2001-01-06 23:38:11</td>\n",
       "      <td>Bug's Life, A (1998)</td>\n",
       "      <td>Animation|Children's|Comedy</td>\n",
       "      <td>F</td>\n",
       "      <td>1</td>\n",
       "      <td>10</td>\n",
       "      <td>48067</td>\n",
       "    </tr>\n",
       "  </tbody>\n",
       "</table>\n",
       "</div>"
      ],
      "text/plain": [
       "   UserID  MovieID  Rating           Timestamp  \\\n",
       "0       1     1193       5 2000-12-31 22:12:40   \n",
       "1       1      661       3 2000-12-31 22:35:09   \n",
       "2       1      914       3 2000-12-31 22:32:48   \n",
       "3       1     3408       4 2000-12-31 22:04:35   \n",
       "4       1     2355       5 2001-01-06 23:38:11   \n",
       "\n",
       "                                    Title                        Genres  \\\n",
       "0  One Flew Over the Cuckoo's Nest (1975)                         Drama   \n",
       "1        James and the Giant Peach (1996)  Animation|Children's|Musical   \n",
       "2                     My Fair Lady (1964)               Musical|Romance   \n",
       "3                  Erin Brockovich (2000)                         Drama   \n",
       "4                    Bug's Life, A (1998)   Animation|Children's|Comedy   \n",
       "\n",
       "  Gender  Age  Occupation Zip-code  \n",
       "0      F    1          10    48067  \n",
       "1      F    1          10    48067  \n",
       "2      F    1          10    48067  \n",
       "3      F    1          10    48067  \n",
       "4      F    1          10    48067  "
      ]
     },
     "execution_count": 7,
     "metadata": {},
     "output_type": "execute_result"
    }
   ],
   "source": [
    "data['Timestamp'] = pd.to_datetime(data['Timestamp'], unit='s')\n",
    "data.head()"
   ]
  },
  {
   "cell_type": "code",
   "execution_count": 8,
   "id": "25c168da-adb5-4108-80e5-3d08369032ca",
   "metadata": {},
   "outputs": [],
   "source": [
    "user_encoder = LabelEncoder()\n",
    "data[\"EncodedUserID\"] = user_encoder.fit_transform(data[\"UserID\"]) + 1"
   ]
  },
  {
   "cell_type": "code",
   "execution_count": 9,
   "id": "5d33f961-e1f8-4af2-b43d-0037592be83c",
   "metadata": {},
   "outputs": [],
   "source": [
    "movie_encoder = LabelEncoder()\n",
    "data[\"EncodedMovieID\"] = movie_encoder.fit_transform(data[\"MovieID\"]) + 1"
   ]
  },
  {
   "cell_type": "code",
   "execution_count": 10,
   "id": "644df271-08ed-437d-b2ea-80ee6fcca2c6",
   "metadata": {},
   "outputs": [
    {
     "name": "stdout",
     "output_type": "stream",
     "text": [
      "3416\n",
      "3416\n"
     ]
    }
   ],
   "source": [
    "print(data['EncodedMovieID'].nunique())  \n",
    "print(data['EncodedMovieID'].max()) "
   ]
  },
  {
   "cell_type": "code",
   "execution_count": 11,
   "id": "85d5c195-7695-47c6-af1d-c55c003f9d87",
   "metadata": {},
   "outputs": [],
   "source": [
    "movie_id_to_name = pd.Series(movies.Title.values, index=movies.MovieID).to_dict()\n",
    "encoded_movie_id_to_name = {\n",
    "    movie_encoder.transform([k])[0] + 1: v for k, v in movie_id_to_name.items() if k in movie_encoder.classes_\n",
    "}\n",
    "encoded_movie_name_to_id = {v: k for k, v in encoded_movie_id_to_name.items()}"
   ]
  },
  {
   "cell_type": "code",
   "execution_count": 12,
   "id": "b99941d5-0642-48d2-9e03-9f3038997543",
   "metadata": {},
   "outputs": [
    {
     "name": "stdout",
     "output_type": "stream",
     "text": [
      "   EncodedUserID           Timestamp\n",
      "0              1 2000-12-31 22:00:19\n",
      "1              1 2000-12-31 22:00:55\n",
      "2              1 2000-12-31 22:00:55\n",
      "3              1 2000-12-31 22:00:55\n",
      "4              1 2000-12-31 22:01:43\n"
     ]
    }
   ],
   "source": [
    "data = data.sort_values([\"EncodedUserID\", \"Timestamp\"]).reset_index(drop=True)\n",
    "print(data[['EncodedUserID','Timestamp']].head())"
   ]
  },
  {
   "cell_type": "code",
   "execution_count": 13,
   "id": "81ef1767-b0ed-41e8-98f5-7db7cd562710",
   "metadata": {},
   "outputs": [
    {
     "data": {
      "text/html": [
       "<div>\n",
       "<style scoped>\n",
       "    .dataframe tbody tr th:only-of-type {\n",
       "        vertical-align: middle;\n",
       "    }\n",
       "\n",
       "    .dataframe tbody tr th {\n",
       "        vertical-align: top;\n",
       "    }\n",
       "\n",
       "    .dataframe thead th {\n",
       "        text-align: right;\n",
       "    }\n",
       "</style>\n",
       "<table border=\"1\" class=\"dataframe\">\n",
       "  <thead>\n",
       "    <tr style=\"text-align: right;\">\n",
       "      <th></th>\n",
       "      <th>UserID</th>\n",
       "      <th>MovieID</th>\n",
       "      <th>Rating</th>\n",
       "      <th>Timestamp</th>\n",
       "      <th>Title</th>\n",
       "      <th>Genres</th>\n",
       "      <th>Gender</th>\n",
       "      <th>Age</th>\n",
       "      <th>Occupation</th>\n",
       "      <th>Zip-code</th>\n",
       "      <th>EncodedUserID</th>\n",
       "      <th>EncodedMovieID</th>\n",
       "    </tr>\n",
       "  </thead>\n",
       "  <tbody>\n",
       "    <tr>\n",
       "      <th>0</th>\n",
       "      <td>1</td>\n",
       "      <td>3186</td>\n",
       "      <td>4</td>\n",
       "      <td>2000-12-31 22:00:19</td>\n",
       "      <td>Girl, Interrupted (1999)</td>\n",
       "      <td>Drama</td>\n",
       "      <td>F</td>\n",
       "      <td>1</td>\n",
       "      <td>10</td>\n",
       "      <td>48067</td>\n",
       "      <td>1</td>\n",
       "      <td>2758</td>\n",
       "    </tr>\n",
       "    <tr>\n",
       "      <th>1</th>\n",
       "      <td>1</td>\n",
       "      <td>1270</td>\n",
       "      <td>5</td>\n",
       "      <td>2000-12-31 22:00:55</td>\n",
       "      <td>Back to the Future (1985)</td>\n",
       "      <td>Comedy|Sci-Fi</td>\n",
       "      <td>F</td>\n",
       "      <td>1</td>\n",
       "      <td>10</td>\n",
       "      <td>48067</td>\n",
       "      <td>1</td>\n",
       "      <td>1069</td>\n",
       "    </tr>\n",
       "    <tr>\n",
       "      <th>2</th>\n",
       "      <td>1</td>\n",
       "      <td>1721</td>\n",
       "      <td>4</td>\n",
       "      <td>2000-12-31 22:00:55</td>\n",
       "      <td>Titanic (1997)</td>\n",
       "      <td>Drama|Romance</td>\n",
       "      <td>F</td>\n",
       "      <td>1</td>\n",
       "      <td>10</td>\n",
       "      <td>48067</td>\n",
       "      <td>1</td>\n",
       "      <td>1445</td>\n",
       "    </tr>\n",
       "    <tr>\n",
       "      <th>3</th>\n",
       "      <td>1</td>\n",
       "      <td>1022</td>\n",
       "      <td>5</td>\n",
       "      <td>2000-12-31 22:00:55</td>\n",
       "      <td>Cinderella (1950)</td>\n",
       "      <td>Animation|Children's|Musical</td>\n",
       "      <td>F</td>\n",
       "      <td>1</td>\n",
       "      <td>10</td>\n",
       "      <td>48067</td>\n",
       "      <td>1</td>\n",
       "      <td>862</td>\n",
       "    </tr>\n",
       "    <tr>\n",
       "      <th>4</th>\n",
       "      <td>1</td>\n",
       "      <td>2340</td>\n",
       "      <td>3</td>\n",
       "      <td>2000-12-31 22:01:43</td>\n",
       "      <td>Meet Joe Black (1998)</td>\n",
       "      <td>Romance</td>\n",
       "      <td>F</td>\n",
       "      <td>1</td>\n",
       "      <td>10</td>\n",
       "      <td>48067</td>\n",
       "      <td>1</td>\n",
       "      <td>1979</td>\n",
       "    </tr>\n",
       "  </tbody>\n",
       "</table>\n",
       "</div>"
      ],
      "text/plain": [
       "   UserID  MovieID  Rating           Timestamp                      Title  \\\n",
       "0       1     3186       4 2000-12-31 22:00:19   Girl, Interrupted (1999)   \n",
       "1       1     1270       5 2000-12-31 22:00:55  Back to the Future (1985)   \n",
       "2       1     1721       4 2000-12-31 22:00:55             Titanic (1997)   \n",
       "3       1     1022       5 2000-12-31 22:00:55          Cinderella (1950)   \n",
       "4       1     2340       3 2000-12-31 22:01:43      Meet Joe Black (1998)   \n",
       "\n",
       "                         Genres Gender  Age  Occupation Zip-code  \\\n",
       "0                         Drama      F    1          10    48067   \n",
       "1                 Comedy|Sci-Fi      F    1          10    48067   \n",
       "2                 Drama|Romance      F    1          10    48067   \n",
       "3  Animation|Children's|Musical      F    1          10    48067   \n",
       "4                       Romance      F    1          10    48067   \n",
       "\n",
       "   EncodedUserID  EncodedMovieID  \n",
       "0              1            2758  \n",
       "1              1            1069  \n",
       "2              1            1445  \n",
       "3              1             862  \n",
       "4              1            1979  "
      ]
     },
     "execution_count": 13,
     "metadata": {},
     "output_type": "execute_result"
    }
   ],
   "source": [
    "data.head()"
   ]
  },
  {
   "cell_type": "code",
   "execution_count": 14,
   "id": "25c34029-0d6a-405b-86bf-8bdce9176239",
   "metadata": {},
   "outputs": [
    {
     "name": "stdout",
     "output_type": "stream",
     "text": [
      "No EncodedMovieID entry has been assigned the value 0.\n",
      "No EncodedUserID entry has been assigned the value 0.\n"
     ]
    }
   ],
   "source": [
    "if (data['EncodedMovieID'] == 0).any():\n",
    "    print(\"The encoder assigned 0 as a value for some EncodedMovieID entries.\")\n",
    "else:\n",
    "    print(\"No EncodedMovieID entry has been assigned the value 0.\")\n",
    "\n",
    "if (data['EncodedUserID'] == 0).any():\n",
    "    print(\"The encoder assigned 0 as a value for some EncodedUserID entries.\")\n",
    "else:\n",
    "    print(\"No EncodedUserID entry has been assigned the value 0.\")\n",
    "\n"
   ]
  },
  {
   "cell_type": "code",
   "execution_count": 15,
   "id": "8fa2e36c-7d72-434e-b8cc-392dd8aa5ad9",
   "metadata": {},
   "outputs": [
    {
     "name": "stdout",
     "output_type": "stream",
     "text": [
      "[list([2758, 1069, 1445, 862, 1979, 1520, 2926, 2412, 1008, 995, 634, 242, 768, 562, 2303, 1631, 1698, 2686, 787, 875, 1632, 1688, 135, 868, 927, 763, 1086, 2405, 2370, 1045, 596, 2514, 497, 2695, 2399, 1960, 869, 998, 551, 2035, 1302, 494, 552, 2298, 649, 546, 1, 1993, 1937, 674, 1315, 1579, 47])\n",
      " list([999, 1011, 1018, 2326, 1092, 2539, 1026, 995, 296, 2617, 2459, 1014, 1615, 1008, 550, 2676, 2981, 1548, 482, 920, 2134, 2622, 105, 1735, 2723, 1046, 2686, 1148, 997, 1627, 1623, 769, 1518, 914, 1632, 2984, 3140, 3218, 1058, 1624, 1486, 2337, 1638, 932, 751, 2967, 3078, 2453, 2868, 2652, 247, 1952, 548, 1052, 2655, 1043, 3183, 1625, 1044, 1885, 3163, 827, 1860, 1914, 1221, 2807, 588, 217, 926, 945, 465, 1045, 3360, 1295, 990, 2033, 1996, 1960, 333, 2689, 1064, 3286, 547, 1698, 2197, 424, 2512, 1353, 447, 148, 357, 2934, 2808, 1192, 21, 326, 1288, 1991, 1676, 1921, 1158, 589, 2064, 1490, 1160, 1308, 2123, 1173, 671, 2481, 2688, 345, 1497, 150, 426, 409, 1341, 2242, 1426, 2809, 644, 1672, 1794, 271, 91, 1423, 402, 1301, 1587])]\n",
      "6040\n"
     ]
    }
   ],
   "source": [
    "user_sequences = data.groupby('EncodedUserID')['EncodedMovieID'].apply(list).values\n",
    "print(user_sequences[:2])\n",
    "print(len(user_sequences))"
   ]
  },
  {
   "cell_type": "code",
   "execution_count": 16,
   "id": "bac80187-3963-475a-9731-86d457cf672f",
   "metadata": {},
   "outputs": [],
   "source": [
    "def generate_sequences(sequence, window_size=10):\n",
    "    if len(sequence) < window_size:\n",
    "        sequence = [0] * (window_size - len(sequence)) + sequence\n",
    "    return [sequence[i:i + window_size] for i in range(len(sequence) - window_size + 1)]\n"
   ]
  },
  {
   "cell_type": "code",
   "execution_count": null,
   "id": "8eea3ee6-1a5f-4eb8-98e9-cfb58be8b6fa",
   "metadata": {},
   "outputs": [],
   "source": []
  },
  {
   "cell_type": "code",
   "execution_count": 18,
   "id": "21f7b854-d92b-495e-85d5-51e651164f15",
   "metadata": {},
   "outputs": [
    {
     "name": "stdout",
     "output_type": "stream",
     "text": [
      "3132\n",
      "128306\n"
     ]
    }
   ],
   "source": [
    "user_interaction_counts = [len(seq) for seq in user_sequences]\n",
    "filtered_user_sequences = [\n",
    "    seq for seq, count in zip(user_sequences, user_interaction_counts)\n",
    "    if count <= 100  \n",
    "]\n",
    "print(len(filtered_user_sequences))\n",
    "\n",
    "all_sequences = []\n",
    "for seq in filtered_user_sequences:\n",
    "    all_sequences.extend(generate_sequences(seq))\n",
    "print(len(all_sequences))"
   ]
  },
  {
   "cell_type": "code",
   "execution_count": 19,
   "id": "537d0927-fd47-4f4d-b33a-e297b2091308",
   "metadata": {},
   "outputs": [
    {
     "name": "stdout",
     "output_type": "stream",
     "text": [
      "[[2758, 1069, 1445, 862, 1979, 1520, 2926, 2412, 1008, 995], [1069, 1445, 862, 1979, 1520, 2926, 2412, 1008, 995, 634], [1445, 862, 1979, 1520, 2926, 2412, 1008, 995, 634, 242], [862, 1979, 1520, 2926, 2412, 1008, 995, 634, 242, 768], [1979, 1520, 2926, 2412, 1008, 995, 634, 242, 768, 562]]\n"
     ]
    }
   ],
   "source": [
    "print(all_sequences[:5])"
   ]
  },
  {
   "cell_type": "code",
   "execution_count": 20,
   "id": "729c3d10-8978-49f7-b206-8e1a7c8ec39b",
   "metadata": {},
   "outputs": [
    {
     "name": "stdout",
     "output_type": "stream",
     "text": [
      "tensor([[2758, 1069, 1445,  862, 1979, 1520, 2926, 2412, 1008],\n",
      "        [1069, 1445,  862, 1979, 1520, 2926, 2412, 1008,  995],\n",
      "        [1445,  862, 1979, 1520, 2926, 2412, 1008,  995,  634],\n",
      "        [ 862, 1979, 1520, 2926, 2412, 1008,  995,  634,  242],\n",
      "        [1979, 1520, 2926, 2412, 1008,  995,  634,  242,  768],\n",
      "        [1520, 2926, 2412, 1008,  995,  634,  242,  768,  562],\n",
      "        [2926, 2412, 1008,  995,  634,  242,  768,  562, 2303],\n",
      "        [2412, 1008,  995,  634,  242,  768,  562, 2303, 1631],\n",
      "        [1008,  995,  634,  242,  768,  562, 2303, 1631, 1698],\n",
      "        [ 995,  634,  242,  768,  562, 2303, 1631, 1698, 2686],\n",
      "        [ 634,  242,  768,  562, 2303, 1631, 1698, 2686,  787],\n",
      "        [ 242,  768,  562, 2303, 1631, 1698, 2686,  787,  875],\n",
      "        [ 768,  562, 2303, 1631, 1698, 2686,  787,  875, 1632],\n",
      "        [ 562, 2303, 1631, 1698, 2686,  787,  875, 1632, 1688],\n",
      "        [2303, 1631, 1698, 2686,  787,  875, 1632, 1688,  135],\n",
      "        [1631, 1698, 2686,  787,  875, 1632, 1688,  135,  868],\n",
      "        [1698, 2686,  787,  875, 1632, 1688,  135,  868,  927],\n",
      "        [2686,  787,  875, 1632, 1688,  135,  868,  927,  763],\n",
      "        [ 787,  875, 1632, 1688,  135,  868,  927,  763, 1086],\n",
      "        [ 875, 1632, 1688,  135,  868,  927,  763, 1086, 2405]])\n"
     ]
    }
   ],
   "source": [
    "all_sequences = torch.tensor(all_sequences, dtype=torch.long)\n",
    "inputs = all_sequences[:, :-1]  \n",
    "targets = all_sequences[:, -1]  \n",
    "print(inputs[:20])"
   ]
  },
  {
   "cell_type": "code",
   "execution_count": 21,
   "id": "4964e47e-b7d2-4283-98be-f0a92c26306a",
   "metadata": {},
   "outputs": [
    {
     "name": "stdout",
     "output_type": "stream",
     "text": [
      "tensor([ 995,  634,  242,  ..., 1202, 2310,  985])\n"
     ]
    }
   ],
   "source": [
    "print(targets)\n"
   ]
  },
  {
   "cell_type": "code",
   "execution_count": 22,
   "id": "6f9111d6-8c71-4af6-9e5c-5b5707e71857",
   "metadata": {},
   "outputs": [
    {
     "name": "stdout",
     "output_type": "stream",
     "text": [
      "Inputs shape: torch.Size([128306, 9]), Targets shape: torch.Size([128306])\n"
     ]
    }
   ],
   "source": [
    "print(f'Inputs shape: {inputs.shape}, Targets shape: {targets.shape}')\n"
   ]
  },
  {
   "cell_type": "code",
   "execution_count": 34,
   "id": "da9e5ee7-40c9-4898-abf6-53f11ace64f5",
   "metadata": {},
   "outputs": [
    {
     "name": "stdout",
     "output_type": "stream",
     "text": [
      "Train size: 89814\n",
      "Validation size: 19245\n",
      "Test size: 19247\n"
     ]
    }
   ],
   "source": [
    "import torch\n",
    "from torch.utils.data import TensorDataset, DataLoader, random_split\n",
    "\n",
    "\n",
    "dataset = TensorDataset(inputs, targets)\n",
    "\n",
    "total_size = len(dataset)\n",
    "train_size = int(0.7 * total_size)  \n",
    "val_size = int(0.15 * total_size)   \n",
    "test_size = total_size - train_size - val_size  \n",
    "\n",
    "train_dataset, val_dataset, test_dataset = random_split(dataset, [train_size, val_size, test_size])\n",
    "\n",
    "train_loader = DataLoader(train_dataset, batch_size=256, shuffle=True)\n",
    "val_loader = DataLoader(val_dataset, batch_size=256, shuffle=False)\n",
    "test_loader = DataLoader(test_dataset, batch_size=256, shuffle=False)\n",
    "\n",
    "print(f\"Train size: {len(train_loader.dataset)}\")\n",
    "print(f\"Validation size: {len(val_loader.dataset)}\")\n",
    "print(f\"Test size: {len(test_loader.dataset)}\")"
   ]
  },
  {
   "cell_type": "code",
   "execution_count": 24,
   "id": "a2b8d290-8b94-44cb-a2fc-5653f2b2e30a",
   "metadata": {},
   "outputs": [
    {
     "name": "stdout",
     "output_type": "stream",
     "text": [
      "Batch Inputs: torch.Size([256, 9]), Batch Targets: torch.Size([256])\n"
     ]
    }
   ],
   "source": [
    "for batch_inputs, batch_targets in train_loader:\n",
    "    print(f'Batch Inputs: {batch_inputs.shape}, Batch Targets: {batch_targets.shape}')\n",
    "    break"
   ]
  },
  {
   "cell_type": "code",
   "execution_count": 25,
   "id": "e7bae51c-9ca9-445d-aae9-d8d73299308d",
   "metadata": {},
   "outputs": [],
   "source": [
    "import pickle\n",
    "with open(\"movie_mappings.pkl\", \"wb\") as f:\n",
    "    pickle.dump(\n",
    "        {\n",
    "            \"encoded_movie_id_to_name\": encoded_movie_id_to_name,\n",
    "            \"encoded_movie_name_to_id\": encoded_movie_name_to_id,\n",
    "        },\n",
    "        f,\n",
    "    )"
   ]
  },
  {
   "cell_type": "code",
   "execution_count": 26,
   "id": "f3cd0a3a-4291-4256-9f1c-b1aef3f5a5d8",
   "metadata": {},
   "outputs": [
    {
     "name": "stdout",
     "output_type": "stream",
     "text": [
      "3417\n"
     ]
    }
   ],
   "source": [
    "num_items = data['EncodedMovieID'].nunique() + 1\n",
    "print(num_items)"
   ]
  },
  {
   "cell_type": "code",
   "execution_count": 27,
   "id": "d3c9094c-adbb-42fe-8c44-771af6bbd5dc",
   "metadata": {},
   "outputs": [],
   "source": [
    "import torch\n",
    "import torch.nn as nn\n",
    "import torch.nn.functional as F\n",
    "\n",
    "class MultiHeadSelfAttention(nn.Module):\n",
    "    def __init__(self, embedding_dim, num_heads, dropout=0.1):\n",
    "        super(MultiHeadSelfAttention, self).__init__()\n",
    "        self.num_heads = num_heads\n",
    "        self.head_dim = embedding_dim // num_heads\n",
    "\n",
    "        assert embedding_dim % num_heads == 0, \"Embedding dimension must be divisible by number of heads\"\n",
    "\n",
    "        self.query = nn.Linear(embedding_dim, embedding_dim)\n",
    "        self.key = nn.Linear(embedding_dim, embedding_dim)\n",
    "        self.value = nn.Linear(embedding_dim, embedding_dim)\n",
    "\n",
    "        self.out = nn.Linear(embedding_dim, embedding_dim)\n",
    "        self.dropout = nn.Dropout(dropout)\n",
    "\n",
    "    def forward(self, x):\n",
    "        B, N, E = x.size()  \n",
    "\n",
    "        Q = self.query(x).view(B, N, self.num_heads, self.head_dim).transpose(1, 2)\n",
    "        K = self.key(x).view(B, N, self.num_heads, self.head_dim).transpose(1, 2)\n",
    "        V = self.value(x).view(B, N, self.num_heads, self.head_dim).transpose(1, 2)\n",
    "\n",
    "        scores = torch.matmul(Q, K.transpose(-2, -1)) / (self.head_dim ** 0.5)\n",
    "        attn = F.softmax(scores, dim=-1)\n",
    "        attn = self.dropout(attn)\n",
    "\n",
    "        output = torch.matmul(attn, V)\n",
    "        output = output.transpose(1, 2).contiguous().view(B, N, E)\n",
    "\n",
    "        return self.out(output)\n",
    "\n",
    "class PointWiseFeedForward(nn.Module):\n",
    "    def __init__(self, embedding_dim, ff_dim, dropout=0.1):\n",
    "        super(PointWiseFeedForward, self).__init__()\n",
    "        self.linear1 = nn.Linear(embedding_dim, ff_dim)\n",
    "        self.dropout = nn.Dropout(dropout)\n",
    "        self.linear2 = nn.Linear(ff_dim, embedding_dim)\n",
    "\n",
    "    def forward(self, x):\n",
    "        x = self.dropout(F.relu(self.linear1(x)))\n",
    "        return self.linear2(x)\n",
    "\n",
    "class CustomTransformerEncoderLayer(nn.Module):\n",
    "    def __init__(self, embedding_dim, num_heads, ff_dim, dropout=0.1):\n",
    "        super(CustomTransformerEncoderLayer, self).__init__()\n",
    "        self.msa = MultiHeadSelfAttention(embedding_dim, num_heads, dropout)\n",
    "        self.ffn = PointWiseFeedForward(embedding_dim, ff_dim, dropout)\n",
    "\n",
    "        self.norm1 = nn.LayerNorm(embedding_dim)\n",
    "        self.norm2 = nn.LayerNorm(embedding_dim)\n",
    "        self.dropout = nn.Dropout(dropout)\n",
    "\n",
    "    def forward(self, x):\n",
    "        x = x + self.dropout(self.msa(self.norm1(x)))\n",
    "        x = x + self.dropout(self.ffn(self.norm2(x)))\n",
    "        return x\n",
    "\n",
    "class ModelAugmentation(nn.Module):\n",
    "    def __init__(self, embedding_dim, dropout=0.1):\n",
    "        super(ModelAugmentation, self).__init__()\n",
    "        self.ffn = nn.Sequential(\n",
    "            nn.Linear(embedding_dim, embedding_dim),\n",
    "            nn.GELU(),\n",
    "            nn.Dropout(dropout),\n",
    "            nn.Linear(embedding_dim, embedding_dim)\n",
    "        )\n",
    "        self.norm = nn.LayerNorm(embedding_dim)\n",
    "\n",
    "    def forward(self, x):\n",
    "        return self.norm(self.ffn(x) + x)\n",
    "\n",
    "class UET4Rec(nn.Module):\n",
    "    def __init__(self, num_items, embedding_dim=64, nhead=4, max_len=50, dropout=0.2, ff_dim=256):\n",
    "        super(UET4Rec, self).__init__()\n",
    "\n",
    "        self.item_embedding = nn.Embedding(num_items, embedding_dim, padding_idx=0)\n",
    "\n",
    "        self.position_embedding = nn.Embedding(max_len, embedding_dim)\n",
    "\n",
    "        self.encoder1 = nn.Sequential(\n",
    "            nn.Conv1d(embedding_dim, embedding_dim // 2, kernel_size=5, padding=2),\n",
    "            nn.BatchNorm1d(embedding_dim // 2),\n",
    "            nn.LeakyReLU(0.1),\n",
    "            nn.Dropout(dropout)\n",
    "        )\n",
    "\n",
    "        self.encoder2 = nn.Sequential(\n",
    "            nn.Conv1d(embedding_dim // 2, embedding_dim // 4, kernel_size=5, padding=2),\n",
    "            nn.BatchNorm1d(embedding_dim // 4),\n",
    "            nn.LeakyReLU(0.1),\n",
    "            nn.Dropout(dropout)\n",
    "        )\n",
    "\n",
    "        self.encoder3 = nn.Sequential(\n",
    "            nn.Conv1d(embedding_dim // 4, embedding_dim // 8, kernel_size=5, padding=2)\n",
    "        )\n",
    "\n",
    "        self.transformer = nn.ModuleList([\n",
    "            CustomTransformerEncoderLayer(embedding_dim // 8, nhead, ff_dim, dropout) for _ in range(3)\n",
    "        ])\n",
    "\n",
    "        self.decoder1 = nn.Sequential(\n",
    "            nn.Conv1d(embedding_dim // 8, embedding_dim // 4, kernel_size=5, padding=2),\n",
    "            nn.BatchNorm1d(embedding_dim // 4),\n",
    "            nn.LeakyReLU(0.1),\n",
    "            nn.Dropout(dropout)\n",
    "        )\n",
    "\n",
    "        self.decoder2 = nn.Sequential(\n",
    "            nn.Conv1d(embedding_dim // 4, embedding_dim // 2, kernel_size=5, padding=2),\n",
    "            nn.BatchNorm1d(embedding_dim // 2),\n",
    "            nn.LeakyReLU(0.1),\n",
    "            nn.Dropout(dropout)\n",
    "        )\n",
    "\n",
    "        self.decoder3 = nn.Sequential(\n",
    "            nn.Conv1d(embedding_dim // 2, embedding_dim, kernel_size=5, padding=2)\n",
    "        )\n",
    "\n",
    "        self.ma = ModelAugmentation(embedding_dim, dropout)\n",
    "\n",
    "        self.fc = nn.Linear(embedding_dim, num_items)\n",
    "\n",
    "    def forward(self, x):\n",
    "        batch_size, seq_len = x.size()\n",
    "\n",
    "        positions = torch.arange(0, seq_len).unsqueeze(0).repeat(batch_size, 1).to(x.device)\n",
    "        x = self.item_embedding(x) + self.position_embedding(positions)\n",
    "\n",
    "        x = x.permute(0, 2, 1)  \n",
    "        enc1 = self.encoder1(x)\n",
    "        enc2 = self.encoder2(enc1)\n",
    "        enc3 = self.encoder3(enc2)\n",
    "\n",
    "        x = enc3.permute(0, 2, 1)  \n",
    "        for layer in self.transformer:\n",
    "            x = layer(x)\n",
    "        x = x.permute(0, 2, 1)  \n",
    "\n",
    "        dec1 = self.decoder1(x + enc3)  \n",
    "        dec2 = self.decoder2(dec1 + enc2)  \n",
    "        dec3 = self.decoder3(dec2 + enc1)  \n",
    "\n",
    "        x = dec3[:, :, -1]  \n",
    "        x = self.ma(x)  \n",
    "        out = self.fc(x)  \n",
    "\n",
    "        return out\n"
   ]
  },
  {
   "cell_type": "code",
   "execution_count": 28,
   "id": "ff5963a5-dcce-41f7-97a5-05d4eaf3d694",
   "metadata": {},
   "outputs": [
    {
     "name": "stdout",
     "output_type": "stream",
     "text": [
      "UET4Rec(\n",
      "  (item_embedding): Embedding(3417, 128, padding_idx=0)\n",
      "  (position_embedding): Embedding(9, 128)\n",
      "  (encoder1): Sequential(\n",
      "    (0): Conv1d(128, 64, kernel_size=(5,), stride=(1,), padding=(2,))\n",
      "    (1): BatchNorm1d(64, eps=1e-05, momentum=0.1, affine=True, track_running_stats=True)\n",
      "    (2): LeakyReLU(negative_slope=0.1)\n",
      "    (3): Dropout(p=0.2, inplace=False)\n",
      "  )\n",
      "  (encoder2): Sequential(\n",
      "    (0): Conv1d(64, 32, kernel_size=(5,), stride=(1,), padding=(2,))\n",
      "    (1): BatchNorm1d(32, eps=1e-05, momentum=0.1, affine=True, track_running_stats=True)\n",
      "    (2): LeakyReLU(negative_slope=0.1)\n",
      "    (3): Dropout(p=0.2, inplace=False)\n",
      "  )\n",
      "  (encoder3): Sequential(\n",
      "    (0): Conv1d(32, 16, kernel_size=(5,), stride=(1,), padding=(2,))\n",
      "  )\n",
      "  (transformer): ModuleList(\n",
      "    (0-2): 3 x CustomTransformerEncoderLayer(\n",
      "      (msa): MultiHeadSelfAttention(\n",
      "        (query): Linear(in_features=16, out_features=16, bias=True)\n",
      "        (key): Linear(in_features=16, out_features=16, bias=True)\n",
      "        (value): Linear(in_features=16, out_features=16, bias=True)\n",
      "        (out): Linear(in_features=16, out_features=16, bias=True)\n",
      "        (dropout): Dropout(p=0.2, inplace=False)\n",
      "      )\n",
      "      (ffn): PointWiseFeedForward(\n",
      "        (linear1): Linear(in_features=16, out_features=256, bias=True)\n",
      "        (dropout): Dropout(p=0.2, inplace=False)\n",
      "        (linear2): Linear(in_features=256, out_features=16, bias=True)\n",
      "      )\n",
      "      (norm1): LayerNorm((16,), eps=1e-05, elementwise_affine=True)\n",
      "      (norm2): LayerNorm((16,), eps=1e-05, elementwise_affine=True)\n",
      "      (dropout): Dropout(p=0.2, inplace=False)\n",
      "    )\n",
      "  )\n",
      "  (decoder1): Sequential(\n",
      "    (0): Conv1d(16, 32, kernel_size=(5,), stride=(1,), padding=(2,))\n",
      "    (1): BatchNorm1d(32, eps=1e-05, momentum=0.1, affine=True, track_running_stats=True)\n",
      "    (2): LeakyReLU(negative_slope=0.1)\n",
      "    (3): Dropout(p=0.2, inplace=False)\n",
      "  )\n",
      "  (decoder2): Sequential(\n",
      "    (0): Conv1d(32, 64, kernel_size=(5,), stride=(1,), padding=(2,))\n",
      "    (1): BatchNorm1d(64, eps=1e-05, momentum=0.1, affine=True, track_running_stats=True)\n",
      "    (2): LeakyReLU(negative_slope=0.1)\n",
      "    (3): Dropout(p=0.2, inplace=False)\n",
      "  )\n",
      "  (decoder3): Sequential(\n",
      "    (0): Conv1d(64, 128, kernel_size=(5,), stride=(1,), padding=(2,))\n",
      "  )\n",
      "  (ma): ModelAugmentation(\n",
      "    (ffn): Sequential(\n",
      "      (0): Linear(in_features=128, out_features=128, bias=True)\n",
      "      (1): GELU(approximate='none')\n",
      "      (2): Dropout(p=0.2, inplace=False)\n",
      "      (3): Linear(in_features=128, out_features=128, bias=True)\n",
      "    )\n",
      "    (norm): LayerNorm((128,), eps=1e-05, elementwise_affine=True)\n",
      "  )\n",
      "  (fc): Linear(in_features=128, out_features=3417, bias=True)\n",
      ")\n"
     ]
    }
   ],
   "source": [
    "embedding_dim = 128\n",
    "nhead = 4\n",
    "ff_dim = 256\n",
    "dropout = 0.2\n",
    "max_len = 9\n",
    "\n",
    "model = UET4Rec(\n",
    "    num_items=num_items,\n",
    "    embedding_dim=embedding_dim,\n",
    "    nhead=nhead,\n",
    "    max_len=max_len,\n",
    "    dropout=dropout,\n",
    "    ff_dim=ff_dim\n",
    ")\n",
    "\n",
    "device = torch.device(\"cuda\" if torch.cuda.is_available() else \"cpu\")\n",
    "model.to(device)\n",
    "\n",
    "print(model)"
   ]
  },
  {
   "cell_type": "code",
   "execution_count": 29,
   "id": "4033b6d4-09e9-4005-93b5-ddbb78dee782",
   "metadata": {},
   "outputs": [
    {
     "name": "stdout",
     "output_type": "stream",
     "text": [
      "Starting Training...\n"
     ]
    },
    {
     "name": "stderr",
     "output_type": "stream",
     "text": [
      "Epoch [1/1000]: 100%|████████████████████████████████████████████| 351/351 [00:34<00:00, 10.29batch/s, Batch Loss=7.13]\n"
     ]
    },
    {
     "name": "stdout",
     "output_type": "stream",
     "text": [
      "Epoch [1/1000], Training Loss: 7.2097, Accuracy: 0.0062\n"
     ]
    },
    {
     "name": "stderr",
     "output_type": "stream",
     "text": [
      "Epoch [2/1000]: 100%|████████████████████████████████████████████| 351/351 [00:25<00:00, 13.84batch/s, Batch Loss=6.32]\n"
     ]
    },
    {
     "name": "stdout",
     "output_type": "stream",
     "text": [
      "Epoch [2/1000], Training Loss: 6.5303, Accuracy: 0.0224\n"
     ]
    },
    {
     "name": "stderr",
     "output_type": "stream",
     "text": [
      "Epoch [3/1000]: 100%|████████████████████████████████████████████| 351/351 [00:25<00:00, 13.56batch/s, Batch Loss=5.55]\n"
     ]
    },
    {
     "name": "stdout",
     "output_type": "stream",
     "text": [
      "Epoch [3/1000], Training Loss: 5.9566, Accuracy: 0.0391\n"
     ]
    },
    {
     "name": "stderr",
     "output_type": "stream",
     "text": [
      "Epoch [4/1000]: 100%|████████████████████████████████████████████| 351/351 [00:26<00:00, 13.27batch/s, Batch Loss=5.34]\n"
     ]
    },
    {
     "name": "stdout",
     "output_type": "stream",
     "text": [
      "Epoch [4/1000], Training Loss: 5.6267, Accuracy: 0.0520\n"
     ]
    },
    {
     "name": "stderr",
     "output_type": "stream",
     "text": [
      "Epoch [5/1000]: 100%|████████████████████████████████████████████| 351/351 [00:26<00:00, 13.40batch/s, Batch Loss=5.58]\n"
     ]
    },
    {
     "name": "stdout",
     "output_type": "stream",
     "text": [
      "Epoch [5/1000], Training Loss: 5.3810, Accuracy: 0.0627\n"
     ]
    },
    {
     "name": "stderr",
     "output_type": "stream",
     "text": [
      "Epoch [6/1000]: 100%|████████████████████████████████████████████| 351/351 [00:25<00:00, 13.68batch/s, Batch Loss=5.32]\n"
     ]
    },
    {
     "name": "stdout",
     "output_type": "stream",
     "text": [
      "Epoch [6/1000], Training Loss: 5.1718, Accuracy: 0.0728\n"
     ]
    },
    {
     "name": "stderr",
     "output_type": "stream",
     "text": [
      "Epoch [7/1000]: 100%|████████████████████████████████████████████| 351/351 [00:25<00:00, 14.03batch/s, Batch Loss=4.87]\n"
     ]
    },
    {
     "name": "stdout",
     "output_type": "stream",
     "text": [
      "Epoch [7/1000], Training Loss: 4.9837, Accuracy: 0.0856\n"
     ]
    },
    {
     "name": "stderr",
     "output_type": "stream",
     "text": [
      "Epoch [8/1000]: 100%|███████████████████████████████████████████████| 351/351 [00:25<00:00, 13.53batch/s, Batch Loss=5]\n"
     ]
    },
    {
     "name": "stdout",
     "output_type": "stream",
     "text": [
      "Epoch [8/1000], Training Loss: 4.8156, Accuracy: 0.0995\n"
     ]
    },
    {
     "name": "stderr",
     "output_type": "stream",
     "text": [
      "Epoch [9/1000]: 100%|████████████████████████████████████████████| 351/351 [00:26<00:00, 13.13batch/s, Batch Loss=4.82]\n"
     ]
    },
    {
     "name": "stdout",
     "output_type": "stream",
     "text": [
      "Epoch [9/1000], Training Loss: 4.6662, Accuracy: 0.1125\n"
     ]
    },
    {
     "name": "stderr",
     "output_type": "stream",
     "text": [
      "Epoch [10/1000]: 100%|███████████████████████████████████████████| 351/351 [00:25<00:00, 13.51batch/s, Batch Loss=4.69]\n"
     ]
    },
    {
     "name": "stdout",
     "output_type": "stream",
     "text": [
      "Epoch [10/1000], Training Loss: 4.5254, Accuracy: 0.1274\n"
     ]
    },
    {
     "name": "stderr",
     "output_type": "stream",
     "text": [
      "Epoch [11/1000]: 100%|███████████████████████████████████████████| 351/351 [00:25<00:00, 13.97batch/s, Batch Loss=4.56]\n"
     ]
    },
    {
     "name": "stdout",
     "output_type": "stream",
     "text": [
      "Epoch [11/1000], Training Loss: 4.3944, Accuracy: 0.1417\n"
     ]
    },
    {
     "name": "stderr",
     "output_type": "stream",
     "text": [
      "Epoch [12/1000]: 100%|███████████████████████████████████████████| 351/351 [00:25<00:00, 13.80batch/s, Batch Loss=4.63]\n"
     ]
    },
    {
     "name": "stdout",
     "output_type": "stream",
     "text": [
      "Epoch [12/1000], Training Loss: 4.2812, Accuracy: 0.1547\n"
     ]
    },
    {
     "name": "stderr",
     "output_type": "stream",
     "text": [
      "Epoch [13/1000]: 100%|███████████████████████████████████████████| 351/351 [00:25<00:00, 13.67batch/s, Batch Loss=4.56]\n"
     ]
    },
    {
     "name": "stdout",
     "output_type": "stream",
     "text": [
      "Epoch [13/1000], Training Loss: 4.1778, Accuracy: 0.1654\n"
     ]
    },
    {
     "name": "stderr",
     "output_type": "stream",
     "text": [
      "Epoch [14/1000]: 100%|███████████████████████████████████████████| 351/351 [00:25<00:00, 13.57batch/s, Batch Loss=3.99]\n"
     ]
    },
    {
     "name": "stdout",
     "output_type": "stream",
     "text": [
      "Epoch [14/1000], Training Loss: 4.0809, Accuracy: 0.1770\n"
     ]
    },
    {
     "name": "stderr",
     "output_type": "stream",
     "text": [
      "Epoch [15/1000]: 100%|███████████████████████████████████████████| 351/351 [00:26<00:00, 13.35batch/s, Batch Loss=3.88]\n"
     ]
    },
    {
     "name": "stdout",
     "output_type": "stream",
     "text": [
      "Epoch [15/1000], Training Loss: 3.9927, Accuracy: 0.1890\n"
     ]
    },
    {
     "name": "stderr",
     "output_type": "stream",
     "text": [
      "Epoch [16/1000]: 100%|███████████████████████████████████████████| 351/351 [00:26<00:00, 13.25batch/s, Batch Loss=4.06]\n"
     ]
    },
    {
     "name": "stdout",
     "output_type": "stream",
     "text": [
      "Epoch [16/1000], Training Loss: 3.9154, Accuracy: 0.1978\n"
     ]
    },
    {
     "name": "stderr",
     "output_type": "stream",
     "text": [
      "Epoch [17/1000]: 100%|███████████████████████████████████████████| 351/351 [00:27<00:00, 12.97batch/s, Batch Loss=3.86]\n"
     ]
    },
    {
     "name": "stdout",
     "output_type": "stream",
     "text": [
      "Epoch [17/1000], Training Loss: 3.8380, Accuracy: 0.2078\n"
     ]
    },
    {
     "name": "stderr",
     "output_type": "stream",
     "text": [
      "Epoch [18/1000]: 100%|███████████████████████████████████████████| 351/351 [00:26<00:00, 13.19batch/s, Batch Loss=3.75]\n"
     ]
    },
    {
     "name": "stdout",
     "output_type": "stream",
     "text": [
      "Epoch [18/1000], Training Loss: 3.7674, Accuracy: 0.2174\n"
     ]
    },
    {
     "name": "stderr",
     "output_type": "stream",
     "text": [
      "Epoch [19/1000]: 100%|███████████████████████████████████████████| 351/351 [00:26<00:00, 13.28batch/s, Batch Loss=3.92]\n"
     ]
    },
    {
     "name": "stdout",
     "output_type": "stream",
     "text": [
      "Epoch [19/1000], Training Loss: 3.7031, Accuracy: 0.2269\n"
     ]
    },
    {
     "name": "stderr",
     "output_type": "stream",
     "text": [
      "Epoch [20/1000]: 100%|███████████████████████████████████████████| 351/351 [00:25<00:00, 13.65batch/s, Batch Loss=3.85]\n"
     ]
    },
    {
     "name": "stdout",
     "output_type": "stream",
     "text": [
      "Epoch [20/1000], Training Loss: 3.6404, Accuracy: 0.2339\n"
     ]
    },
    {
     "name": "stderr",
     "output_type": "stream",
     "text": [
      "Epoch [21/1000]: 100%|███████████████████████████████████████████| 351/351 [00:25<00:00, 13.65batch/s, Batch Loss=3.67]\n"
     ]
    },
    {
     "name": "stdout",
     "output_type": "stream",
     "text": [
      "Epoch [21/1000], Training Loss: 3.5922, Accuracy: 0.2412\n"
     ]
    },
    {
     "name": "stderr",
     "output_type": "stream",
     "text": [
      "Epoch [22/1000]: 100%|███████████████████████████████████████████| 351/351 [00:25<00:00, 14.01batch/s, Batch Loss=3.62]\n"
     ]
    },
    {
     "name": "stdout",
     "output_type": "stream",
     "text": [
      "Epoch [22/1000], Training Loss: 3.5398, Accuracy: 0.2490\n"
     ]
    },
    {
     "name": "stderr",
     "output_type": "stream",
     "text": [
      "Epoch [23/1000]: 100%|███████████████████████████████████████████| 351/351 [00:25<00:00, 13.73batch/s, Batch Loss=3.67]\n"
     ]
    },
    {
     "name": "stdout",
     "output_type": "stream",
     "text": [
      "Epoch [23/1000], Training Loss: 3.4916, Accuracy: 0.2559\n"
     ]
    },
    {
     "name": "stderr",
     "output_type": "stream",
     "text": [
      "Epoch [24/1000]: 100%|███████████████████████████████████████████| 351/351 [00:25<00:00, 13.84batch/s, Batch Loss=3.32]\n"
     ]
    },
    {
     "name": "stdout",
     "output_type": "stream",
     "text": [
      "Epoch [24/1000], Training Loss: 3.4376, Accuracy: 0.2623\n"
     ]
    },
    {
     "name": "stderr",
     "output_type": "stream",
     "text": [
      "Epoch [25/1000]: 100%|███████████████████████████████████████████| 351/351 [00:25<00:00, 13.82batch/s, Batch Loss=3.81]\n"
     ]
    },
    {
     "name": "stdout",
     "output_type": "stream",
     "text": [
      "Epoch [25/1000], Training Loss: 3.3964, Accuracy: 0.2703\n"
     ]
    },
    {
     "name": "stderr",
     "output_type": "stream",
     "text": [
      "Epoch [26/1000]: 100%|███████████████████████████████████████████| 351/351 [00:24<00:00, 14.14batch/s, Batch Loss=3.58]\n"
     ]
    },
    {
     "name": "stdout",
     "output_type": "stream",
     "text": [
      "Epoch [26/1000], Training Loss: 3.3578, Accuracy: 0.2750\n"
     ]
    },
    {
     "name": "stderr",
     "output_type": "stream",
     "text": [
      "Epoch [27/1000]: 100%|███████████████████████████████████████████| 351/351 [00:25<00:00, 13.79batch/s, Batch Loss=3.42]\n"
     ]
    },
    {
     "name": "stdout",
     "output_type": "stream",
     "text": [
      "Epoch [27/1000], Training Loss: 3.3112, Accuracy: 0.2825\n"
     ]
    },
    {
     "name": "stderr",
     "output_type": "stream",
     "text": [
      "Epoch [28/1000]: 100%|███████████████████████████████████████████| 351/351 [00:25<00:00, 13.79batch/s, Batch Loss=3.29]\n"
     ]
    },
    {
     "name": "stdout",
     "output_type": "stream",
     "text": [
      "Epoch [28/1000], Training Loss: 3.2766, Accuracy: 0.2853\n"
     ]
    },
    {
     "name": "stderr",
     "output_type": "stream",
     "text": [
      "Epoch [29/1000]: 100%|███████████████████████████████████████████| 351/351 [00:25<00:00, 13.69batch/s, Batch Loss=3.52]\n"
     ]
    },
    {
     "name": "stdout",
     "output_type": "stream",
     "text": [
      "Epoch [29/1000], Training Loss: 3.2440, Accuracy: 0.2917\n"
     ]
    },
    {
     "name": "stderr",
     "output_type": "stream",
     "text": [
      "Epoch [30/1000]: 100%|███████████████████████████████████████████| 351/351 [00:25<00:00, 13.55batch/s, Batch Loss=3.29]\n"
     ]
    },
    {
     "name": "stdout",
     "output_type": "stream",
     "text": [
      "Epoch [30/1000], Training Loss: 3.2104, Accuracy: 0.2975\n"
     ]
    },
    {
     "name": "stderr",
     "output_type": "stream",
     "text": [
      "Epoch [31/1000]: 100%|███████████████████████████████████████████| 351/351 [00:26<00:00, 13.48batch/s, Batch Loss=3.44]\n"
     ]
    },
    {
     "name": "stdout",
     "output_type": "stream",
     "text": [
      "Epoch [31/1000], Training Loss: 3.1804, Accuracy: 0.3033\n"
     ]
    },
    {
     "name": "stderr",
     "output_type": "stream",
     "text": [
      "Epoch [32/1000]: 100%|███████████████████████████████████████████| 351/351 [00:27<00:00, 12.91batch/s, Batch Loss=3.35]\n"
     ]
    },
    {
     "name": "stdout",
     "output_type": "stream",
     "text": [
      "Epoch [32/1000], Training Loss: 3.1450, Accuracy: 0.3063\n"
     ]
    },
    {
     "name": "stderr",
     "output_type": "stream",
     "text": [
      "Epoch [33/1000]: 100%|███████████████████████████████████████████| 351/351 [00:25<00:00, 13.57batch/s, Batch Loss=3.44]\n"
     ]
    },
    {
     "name": "stdout",
     "output_type": "stream",
     "text": [
      "Epoch [33/1000], Training Loss: 3.1159, Accuracy: 0.3098\n"
     ]
    },
    {
     "name": "stderr",
     "output_type": "stream",
     "text": [
      "Epoch [34/1000]: 100%|███████████████████████████████████████████| 351/351 [00:26<00:00, 13.50batch/s, Batch Loss=3.31]\n"
     ]
    },
    {
     "name": "stdout",
     "output_type": "stream",
     "text": [
      "Epoch [34/1000], Training Loss: 3.0852, Accuracy: 0.3166\n"
     ]
    },
    {
     "name": "stderr",
     "output_type": "stream",
     "text": [
      "Epoch [35/1000]: 100%|███████████████████████████████████████████| 351/351 [00:25<00:00, 13.90batch/s, Batch Loss=3.33]\n"
     ]
    },
    {
     "name": "stdout",
     "output_type": "stream",
     "text": [
      "Epoch [35/1000], Training Loss: 3.0565, Accuracy: 0.3201\n"
     ]
    },
    {
     "name": "stderr",
     "output_type": "stream",
     "text": [
      "Epoch [36/1000]: 100%|███████████████████████████████████████████| 351/351 [00:26<00:00, 13.41batch/s, Batch Loss=3.28]\n"
     ]
    },
    {
     "name": "stdout",
     "output_type": "stream",
     "text": [
      "Epoch [36/1000], Training Loss: 3.0281, Accuracy: 0.3268\n"
     ]
    },
    {
     "name": "stderr",
     "output_type": "stream",
     "text": [
      "Epoch [37/1000]: 100%|███████████████████████████████████████████| 351/351 [00:26<00:00, 13.37batch/s, Batch Loss=3.27]\n"
     ]
    },
    {
     "name": "stdout",
     "output_type": "stream",
     "text": [
      "Epoch [37/1000], Training Loss: 3.0035, Accuracy: 0.3271\n"
     ]
    },
    {
     "name": "stderr",
     "output_type": "stream",
     "text": [
      "Epoch [38/1000]: 100%|███████████████████████████████████████████| 351/351 [00:25<00:00, 13.91batch/s, Batch Loss=3.27]\n"
     ]
    },
    {
     "name": "stdout",
     "output_type": "stream",
     "text": [
      "Epoch [38/1000], Training Loss: 2.9866, Accuracy: 0.3340\n"
     ]
    },
    {
     "name": "stderr",
     "output_type": "stream",
     "text": [
      "Epoch [39/1000]: 100%|███████████████████████████████████████████| 351/351 [00:25<00:00, 13.77batch/s, Batch Loss=3.13]\n"
     ]
    },
    {
     "name": "stdout",
     "output_type": "stream",
     "text": [
      "Epoch [39/1000], Training Loss: 2.9605, Accuracy: 0.3355\n"
     ]
    },
    {
     "name": "stderr",
     "output_type": "stream",
     "text": [
      "Epoch [40/1000]: 100%|███████████████████████████████████████████| 351/351 [00:25<00:00, 13.69batch/s, Batch Loss=3.21]\n"
     ]
    },
    {
     "name": "stdout",
     "output_type": "stream",
     "text": [
      "Epoch [40/1000], Training Loss: 2.9349, Accuracy: 0.3402\n"
     ]
    },
    {
     "name": "stderr",
     "output_type": "stream",
     "text": [
      "Epoch [41/1000]: 100%|███████████████████████████████████████████| 351/351 [00:25<00:00, 13.75batch/s, Batch Loss=2.88]\n"
     ]
    },
    {
     "name": "stdout",
     "output_type": "stream",
     "text": [
      "Epoch [41/1000], Training Loss: 2.9108, Accuracy: 0.3442\n"
     ]
    },
    {
     "name": "stderr",
     "output_type": "stream",
     "text": [
      "Epoch [42/1000]: 100%|███████████████████████████████████████████| 351/351 [00:25<00:00, 13.67batch/s, Batch Loss=3.08]\n"
     ]
    },
    {
     "name": "stdout",
     "output_type": "stream",
     "text": [
      "Epoch [42/1000], Training Loss: 2.8868, Accuracy: 0.3479\n"
     ]
    },
    {
     "name": "stderr",
     "output_type": "stream",
     "text": [
      "Epoch [43/1000]: 100%|███████████████████████████████████████████| 351/351 [00:25<00:00, 13.83batch/s, Batch Loss=3.09]\n"
     ]
    },
    {
     "name": "stdout",
     "output_type": "stream",
     "text": [
      "Epoch [43/1000], Training Loss: 2.8698, Accuracy: 0.3506\n"
     ]
    },
    {
     "name": "stderr",
     "output_type": "stream",
     "text": [
      "Epoch [44/1000]: 100%|███████████████████████████████████████████| 351/351 [00:25<00:00, 13.82batch/s, Batch Loss=2.67]\n"
     ]
    },
    {
     "name": "stdout",
     "output_type": "stream",
     "text": [
      "Epoch [44/1000], Training Loss: 2.8485, Accuracy: 0.3527\n"
     ]
    },
    {
     "name": "stderr",
     "output_type": "stream",
     "text": [
      "Epoch [45/1000]: 100%|███████████████████████████████████████████| 351/351 [00:26<00:00, 13.44batch/s, Batch Loss=3.12]\n"
     ]
    },
    {
     "name": "stdout",
     "output_type": "stream",
     "text": [
      "Epoch [45/1000], Training Loss: 2.8267, Accuracy: 0.3588\n"
     ]
    },
    {
     "name": "stderr",
     "output_type": "stream",
     "text": [
      "Epoch [46/1000]: 100%|███████████████████████████████████████████| 351/351 [00:25<00:00, 13.71batch/s, Batch Loss=2.99]\n"
     ]
    },
    {
     "name": "stdout",
     "output_type": "stream",
     "text": [
      "Epoch [46/1000], Training Loss: 2.8056, Accuracy: 0.3610\n"
     ]
    },
    {
     "name": "stderr",
     "output_type": "stream",
     "text": [
      "Epoch [47/1000]: 100%|███████████████████████████████████████████| 351/351 [00:25<00:00, 13.58batch/s, Batch Loss=2.96]\n"
     ]
    },
    {
     "name": "stdout",
     "output_type": "stream",
     "text": [
      "Epoch [47/1000], Training Loss: 2.7912, Accuracy: 0.3640\n"
     ]
    },
    {
     "name": "stderr",
     "output_type": "stream",
     "text": [
      "Epoch [48/1000]: 100%|████████████████████████████████████████████| 351/351 [00:25<00:00, 13.54batch/s, Batch Loss=2.8]\n"
     ]
    },
    {
     "name": "stdout",
     "output_type": "stream",
     "text": [
      "Epoch [48/1000], Training Loss: 2.7708, Accuracy: 0.3675\n"
     ]
    },
    {
     "name": "stderr",
     "output_type": "stream",
     "text": [
      "Epoch [49/1000]: 100%|███████████████████████████████████████████| 351/351 [00:25<00:00, 13.78batch/s, Batch Loss=2.83]\n"
     ]
    },
    {
     "name": "stdout",
     "output_type": "stream",
     "text": [
      "Epoch [49/1000], Training Loss: 2.7518, Accuracy: 0.3696\n"
     ]
    },
    {
     "name": "stderr",
     "output_type": "stream",
     "text": [
      "Epoch [50/1000]: 100%|███████████████████████████████████████████| 351/351 [00:25<00:00, 13.98batch/s, Batch Loss=3.06]\n"
     ]
    },
    {
     "name": "stdout",
     "output_type": "stream",
     "text": [
      "Epoch [50/1000], Training Loss: 2.7319, Accuracy: 0.3736\n",
      "Model saved at 'uet4rec64_ml_model_epoch_50.pth'\n"
     ]
    },
    {
     "name": "stderr",
     "output_type": "stream",
     "text": [
      "Epoch [51/1000]: 100%|███████████████████████████████████████████| 351/351 [00:25<00:00, 13.76batch/s, Batch Loss=2.89]\n"
     ]
    },
    {
     "name": "stdout",
     "output_type": "stream",
     "text": [
      "Epoch [51/1000], Training Loss: 2.7143, Accuracy: 0.3752\n"
     ]
    },
    {
     "name": "stderr",
     "output_type": "stream",
     "text": [
      "Epoch [52/1000]: 100%|███████████████████████████████████████████| 351/351 [00:25<00:00, 13.53batch/s, Batch Loss=2.89]\n"
     ]
    },
    {
     "name": "stdout",
     "output_type": "stream",
     "text": [
      "Epoch [52/1000], Training Loss: 2.6983, Accuracy: 0.3791\n"
     ]
    },
    {
     "name": "stderr",
     "output_type": "stream",
     "text": [
      "Epoch [53/1000]: 100%|███████████████████████████████████████████| 351/351 [00:24<00:00, 14.45batch/s, Batch Loss=2.84]\n"
     ]
    },
    {
     "name": "stdout",
     "output_type": "stream",
     "text": [
      "Epoch [53/1000], Training Loss: 2.6749, Accuracy: 0.3820\n"
     ]
    },
    {
     "name": "stderr",
     "output_type": "stream",
     "text": [
      "Epoch [54/1000]: 100%|███████████████████████████████████████████| 351/351 [00:24<00:00, 14.53batch/s, Batch Loss=2.78]\n"
     ]
    },
    {
     "name": "stdout",
     "output_type": "stream",
     "text": [
      "Epoch [54/1000], Training Loss: 2.6637, Accuracy: 0.3839\n"
     ]
    },
    {
     "name": "stderr",
     "output_type": "stream",
     "text": [
      "Epoch [55/1000]: 100%|███████████████████████████████████████████| 351/351 [00:24<00:00, 14.43batch/s, Batch Loss=2.95]\n"
     ]
    },
    {
     "name": "stdout",
     "output_type": "stream",
     "text": [
      "Epoch [55/1000], Training Loss: 2.6508, Accuracy: 0.3880\n"
     ]
    },
    {
     "name": "stderr",
     "output_type": "stream",
     "text": [
      "Epoch [56/1000]: 100%|███████████████████████████████████████████| 351/351 [00:25<00:00, 13.95batch/s, Batch Loss=2.78]\n"
     ]
    },
    {
     "name": "stdout",
     "output_type": "stream",
     "text": [
      "Epoch [56/1000], Training Loss: 2.6301, Accuracy: 0.3899\n"
     ]
    },
    {
     "name": "stderr",
     "output_type": "stream",
     "text": [
      "Epoch [57/1000]: 100%|███████████████████████████████████████████| 351/351 [00:27<00:00, 12.98batch/s, Batch Loss=2.76]\n"
     ]
    },
    {
     "name": "stdout",
     "output_type": "stream",
     "text": [
      "Epoch [57/1000], Training Loss: 2.6273, Accuracy: 0.3905\n"
     ]
    },
    {
     "name": "stderr",
     "output_type": "stream",
     "text": [
      "Epoch [58/1000]: 100%|███████████████████████████████████████████| 351/351 [00:26<00:00, 13.47batch/s, Batch Loss=2.52]\n"
     ]
    },
    {
     "name": "stdout",
     "output_type": "stream",
     "text": [
      "Epoch [58/1000], Training Loss: 2.5983, Accuracy: 0.3950\n"
     ]
    },
    {
     "name": "stderr",
     "output_type": "stream",
     "text": [
      "Epoch [59/1000]: 100%|███████████████████████████████████████████| 351/351 [00:26<00:00, 13.13batch/s, Batch Loss=2.71]\n"
     ]
    },
    {
     "name": "stdout",
     "output_type": "stream",
     "text": [
      "Epoch [59/1000], Training Loss: 2.5974, Accuracy: 0.3975\n"
     ]
    },
    {
     "name": "stderr",
     "output_type": "stream",
     "text": [
      "Epoch [60/1000]: 100%|███████████████████████████████████████████| 351/351 [00:26<00:00, 13.37batch/s, Batch Loss=2.76]\n"
     ]
    },
    {
     "name": "stdout",
     "output_type": "stream",
     "text": [
      "Epoch [60/1000], Training Loss: 2.5803, Accuracy: 0.3988\n"
     ]
    },
    {
     "name": "stderr",
     "output_type": "stream",
     "text": [
      "Epoch [61/1000]: 100%|███████████████████████████████████████████| 351/351 [00:25<00:00, 13.57batch/s, Batch Loss=2.77]\n"
     ]
    },
    {
     "name": "stdout",
     "output_type": "stream",
     "text": [
      "Epoch [61/1000], Training Loss: 2.5605, Accuracy: 0.4032\n"
     ]
    },
    {
     "name": "stderr",
     "output_type": "stream",
     "text": [
      "Epoch [62/1000]: 100%|███████████████████████████████████████████| 351/351 [00:25<00:00, 13.69batch/s, Batch Loss=2.67]\n"
     ]
    },
    {
     "name": "stdout",
     "output_type": "stream",
     "text": [
      "Epoch [62/1000], Training Loss: 2.5520, Accuracy: 0.4025\n"
     ]
    },
    {
     "name": "stderr",
     "output_type": "stream",
     "text": [
      "Epoch [63/1000]: 100%|███████████████████████████████████████████| 351/351 [00:25<00:00, 13.59batch/s, Batch Loss=2.86]\n"
     ]
    },
    {
     "name": "stdout",
     "output_type": "stream",
     "text": [
      "Epoch [63/1000], Training Loss: 2.5290, Accuracy: 0.4088\n"
     ]
    },
    {
     "name": "stderr",
     "output_type": "stream",
     "text": [
      "Epoch [64/1000]: 100%|███████████████████████████████████████████| 351/351 [00:25<00:00, 13.82batch/s, Batch Loss=2.72]\n"
     ]
    },
    {
     "name": "stdout",
     "output_type": "stream",
     "text": [
      "Epoch [64/1000], Training Loss: 2.5252, Accuracy: 0.4090\n"
     ]
    },
    {
     "name": "stderr",
     "output_type": "stream",
     "text": [
      "Epoch [65/1000]: 100%|███████████████████████████████████████████| 351/351 [00:25<00:00, 13.74batch/s, Batch Loss=2.49]\n"
     ]
    },
    {
     "name": "stdout",
     "output_type": "stream",
     "text": [
      "Epoch [65/1000], Training Loss: 2.5104, Accuracy: 0.4119\n"
     ]
    },
    {
     "name": "stderr",
     "output_type": "stream",
     "text": [
      "Epoch [66/1000]: 100%|███████████████████████████████████████████| 351/351 [00:25<00:00, 13.59batch/s, Batch Loss=2.66]\n"
     ]
    },
    {
     "name": "stdout",
     "output_type": "stream",
     "text": [
      "Epoch [66/1000], Training Loss: 2.4928, Accuracy: 0.4137\n"
     ]
    },
    {
     "name": "stderr",
     "output_type": "stream",
     "text": [
      "Epoch [67/1000]: 100%|███████████████████████████████████████████| 351/351 [00:25<00:00, 13.90batch/s, Batch Loss=2.72]\n"
     ]
    },
    {
     "name": "stdout",
     "output_type": "stream",
     "text": [
      "Epoch [67/1000], Training Loss: 2.4832, Accuracy: 0.4157\n"
     ]
    },
    {
     "name": "stderr",
     "output_type": "stream",
     "text": [
      "Epoch [68/1000]: 100%|████████████████████████████████████████████| 351/351 [00:25<00:00, 13.88batch/s, Batch Loss=2.7]\n"
     ]
    },
    {
     "name": "stdout",
     "output_type": "stream",
     "text": [
      "Epoch [68/1000], Training Loss: 2.4753, Accuracy: 0.4163\n"
     ]
    },
    {
     "name": "stderr",
     "output_type": "stream",
     "text": [
      "Epoch [69/1000]: 100%|███████████████████████████████████████████| 351/351 [00:25<00:00, 13.92batch/s, Batch Loss=2.72]\n"
     ]
    },
    {
     "name": "stdout",
     "output_type": "stream",
     "text": [
      "Epoch [69/1000], Training Loss: 2.4561, Accuracy: 0.4196\n"
     ]
    },
    {
     "name": "stderr",
     "output_type": "stream",
     "text": [
      "Epoch [70/1000]: 100%|███████████████████████████████████████████| 351/351 [00:25<00:00, 13.88batch/s, Batch Loss=2.96]\n"
     ]
    },
    {
     "name": "stdout",
     "output_type": "stream",
     "text": [
      "Epoch [70/1000], Training Loss: 2.4490, Accuracy: 0.4239\n"
     ]
    },
    {
     "name": "stderr",
     "output_type": "stream",
     "text": [
      "Epoch [71/1000]: 100%|███████████████████████████████████████████| 351/351 [00:25<00:00, 13.84batch/s, Batch Loss=2.64]\n"
     ]
    },
    {
     "name": "stdout",
     "output_type": "stream",
     "text": [
      "Epoch [71/1000], Training Loss: 2.4348, Accuracy: 0.4245\n"
     ]
    },
    {
     "name": "stderr",
     "output_type": "stream",
     "text": [
      "Epoch [72/1000]: 100%|███████████████████████████████████████████| 351/351 [00:25<00:00, 14.04batch/s, Batch Loss=2.35]\n"
     ]
    },
    {
     "name": "stdout",
     "output_type": "stream",
     "text": [
      "Epoch [72/1000], Training Loss: 2.4253, Accuracy: 0.4271\n"
     ]
    },
    {
     "name": "stderr",
     "output_type": "stream",
     "text": [
      "Epoch [73/1000]: 100%|███████████████████████████████████████████| 351/351 [00:25<00:00, 13.97batch/s, Batch Loss=2.71]\n"
     ]
    },
    {
     "name": "stdout",
     "output_type": "stream",
     "text": [
      "Epoch [73/1000], Training Loss: 2.4059, Accuracy: 0.4296\n"
     ]
    },
    {
     "name": "stderr",
     "output_type": "stream",
     "text": [
      "Epoch [74/1000]: 100%|████████████████████████████████████████████| 351/351 [00:25<00:00, 14.02batch/s, Batch Loss=2.4]\n"
     ]
    },
    {
     "name": "stdout",
     "output_type": "stream",
     "text": [
      "Epoch [74/1000], Training Loss: 2.4008, Accuracy: 0.4313\n"
     ]
    },
    {
     "name": "stderr",
     "output_type": "stream",
     "text": [
      "Epoch [75/1000]: 100%|███████████████████████████████████████████| 351/351 [00:24<00:00, 14.08batch/s, Batch Loss=2.36]\n"
     ]
    },
    {
     "name": "stdout",
     "output_type": "stream",
     "text": [
      "Epoch [75/1000], Training Loss: 2.3935, Accuracy: 0.4293\n"
     ]
    },
    {
     "name": "stderr",
     "output_type": "stream",
     "text": [
      "Epoch [76/1000]: 100%|███████████████████████████████████████████| 351/351 [00:25<00:00, 13.76batch/s, Batch Loss=2.61]\n"
     ]
    },
    {
     "name": "stdout",
     "output_type": "stream",
     "text": [
      "Epoch [76/1000], Training Loss: 2.3811, Accuracy: 0.4337\n"
     ]
    },
    {
     "name": "stderr",
     "output_type": "stream",
     "text": [
      "Epoch [77/1000]: 100%|███████████████████████████████████████████| 351/351 [00:25<00:00, 13.57batch/s, Batch Loss=2.35]\n"
     ]
    },
    {
     "name": "stdout",
     "output_type": "stream",
     "text": [
      "Epoch [77/1000], Training Loss: 2.3779, Accuracy: 0.4337\n"
     ]
    },
    {
     "name": "stderr",
     "output_type": "stream",
     "text": [
      "Epoch [78/1000]: 100%|████████████████████████████████████████████| 351/351 [00:25<00:00, 13.50batch/s, Batch Loss=2.4]\n"
     ]
    },
    {
     "name": "stdout",
     "output_type": "stream",
     "text": [
      "Epoch [78/1000], Training Loss: 2.3574, Accuracy: 0.4386\n"
     ]
    },
    {
     "name": "stderr",
     "output_type": "stream",
     "text": [
      "Epoch [79/1000]: 100%|███████████████████████████████████████████| 351/351 [00:25<00:00, 13.62batch/s, Batch Loss=2.45]\n"
     ]
    },
    {
     "name": "stdout",
     "output_type": "stream",
     "text": [
      "Epoch [79/1000], Training Loss: 2.3523, Accuracy: 0.4404\n"
     ]
    },
    {
     "name": "stderr",
     "output_type": "stream",
     "text": [
      "Epoch [80/1000]: 100%|███████████████████████████████████████████| 351/351 [00:25<00:00, 13.53batch/s, Batch Loss=2.53]\n"
     ]
    },
    {
     "name": "stdout",
     "output_type": "stream",
     "text": [
      "Epoch [80/1000], Training Loss: 2.3465, Accuracy: 0.4399\n"
     ]
    },
    {
     "name": "stderr",
     "output_type": "stream",
     "text": [
      "Epoch [81/1000]: 100%|███████████████████████████████████████████| 351/351 [00:26<00:00, 13.47batch/s, Batch Loss=2.48]\n"
     ]
    },
    {
     "name": "stdout",
     "output_type": "stream",
     "text": [
      "Epoch [81/1000], Training Loss: 2.3256, Accuracy: 0.4451\n"
     ]
    },
    {
     "name": "stderr",
     "output_type": "stream",
     "text": [
      "Epoch [82/1000]: 100%|███████████████████████████████████████████| 351/351 [00:25<00:00, 13.53batch/s, Batch Loss=2.51]\n"
     ]
    },
    {
     "name": "stdout",
     "output_type": "stream",
     "text": [
      "Epoch [82/1000], Training Loss: 2.3202, Accuracy: 0.4461\n"
     ]
    },
    {
     "name": "stderr",
     "output_type": "stream",
     "text": [
      "Epoch [83/1000]: 100%|███████████████████████████████████████████| 351/351 [00:25<00:00, 14.02batch/s, Batch Loss=2.33]\n"
     ]
    },
    {
     "name": "stdout",
     "output_type": "stream",
     "text": [
      "Epoch [83/1000], Training Loss: 2.3088, Accuracy: 0.4457\n"
     ]
    },
    {
     "name": "stderr",
     "output_type": "stream",
     "text": [
      "Epoch [84/1000]: 100%|███████████████████████████████████████████| 351/351 [00:25<00:00, 13.95batch/s, Batch Loss=2.48]\n"
     ]
    },
    {
     "name": "stdout",
     "output_type": "stream",
     "text": [
      "Epoch [84/1000], Training Loss: 2.3000, Accuracy: 0.4502\n"
     ]
    },
    {
     "name": "stderr",
     "output_type": "stream",
     "text": [
      "Epoch [85/1000]: 100%|███████████████████████████████████████████| 351/351 [00:25<00:00, 13.98batch/s, Batch Loss=2.38]\n"
     ]
    },
    {
     "name": "stdout",
     "output_type": "stream",
     "text": [
      "Epoch [85/1000], Training Loss: 2.2928, Accuracy: 0.4479\n"
     ]
    },
    {
     "name": "stderr",
     "output_type": "stream",
     "text": [
      "Epoch [86/1000]: 100%|███████████████████████████████████████████| 351/351 [00:25<00:00, 13.90batch/s, Batch Loss=2.56]\n"
     ]
    },
    {
     "name": "stdout",
     "output_type": "stream",
     "text": [
      "Epoch [86/1000], Training Loss: 2.2793, Accuracy: 0.4531\n"
     ]
    },
    {
     "name": "stderr",
     "output_type": "stream",
     "text": [
      "Epoch [87/1000]: 100%|███████████████████████████████████████████| 351/351 [00:25<00:00, 13.83batch/s, Batch Loss=2.42]\n"
     ]
    },
    {
     "name": "stdout",
     "output_type": "stream",
     "text": [
      "Epoch [87/1000], Training Loss: 2.2750, Accuracy: 0.4527\n"
     ]
    },
    {
     "name": "stderr",
     "output_type": "stream",
     "text": [
      "Epoch [88/1000]: 100%|███████████████████████████████████████████| 351/351 [00:24<00:00, 14.16batch/s, Batch Loss=2.32]\n"
     ]
    },
    {
     "name": "stdout",
     "output_type": "stream",
     "text": [
      "Epoch [88/1000], Training Loss: 2.2697, Accuracy: 0.4533\n"
     ]
    },
    {
     "name": "stderr",
     "output_type": "stream",
     "text": [
      "Epoch [89/1000]: 100%|███████████████████████████████████████████| 351/351 [00:24<00:00, 14.21batch/s, Batch Loss=2.42]\n"
     ]
    },
    {
     "name": "stdout",
     "output_type": "stream",
     "text": [
      "Epoch [89/1000], Training Loss: 2.2518, Accuracy: 0.4573\n"
     ]
    },
    {
     "name": "stderr",
     "output_type": "stream",
     "text": [
      "Epoch [90/1000]: 100%|███████████████████████████████████████████| 351/351 [00:25<00:00, 13.80batch/s, Batch Loss=2.19]\n"
     ]
    },
    {
     "name": "stdout",
     "output_type": "stream",
     "text": [
      "Epoch [90/1000], Training Loss: 2.2510, Accuracy: 0.4567\n"
     ]
    },
    {
     "name": "stderr",
     "output_type": "stream",
     "text": [
      "Epoch [91/1000]: 100%|███████████████████████████████████████████| 351/351 [00:25<00:00, 13.75batch/s, Batch Loss=2.18]\n"
     ]
    },
    {
     "name": "stdout",
     "output_type": "stream",
     "text": [
      "Epoch [91/1000], Training Loss: 2.2332, Accuracy: 0.4595\n"
     ]
    },
    {
     "name": "stderr",
     "output_type": "stream",
     "text": [
      "Epoch [92/1000]: 100%|███████████████████████████████████████████| 351/351 [00:24<00:00, 14.12batch/s, Batch Loss=2.48]\n"
     ]
    },
    {
     "name": "stdout",
     "output_type": "stream",
     "text": [
      "Epoch [92/1000], Training Loss: 2.2299, Accuracy: 0.4611\n"
     ]
    },
    {
     "name": "stderr",
     "output_type": "stream",
     "text": [
      "Epoch [93/1000]: 100%|████████████████████████████████████████████| 351/351 [00:25<00:00, 13.93batch/s, Batch Loss=2.3]\n"
     ]
    },
    {
     "name": "stdout",
     "output_type": "stream",
     "text": [
      "Epoch [93/1000], Training Loss: 2.2189, Accuracy: 0.4654\n"
     ]
    },
    {
     "name": "stderr",
     "output_type": "stream",
     "text": [
      "Epoch [94/1000]: 100%|███████████████████████████████████████████| 351/351 [00:25<00:00, 13.89batch/s, Batch Loss=2.55]\n"
     ]
    },
    {
     "name": "stdout",
     "output_type": "stream",
     "text": [
      "Epoch [94/1000], Training Loss: 2.2092, Accuracy: 0.4651\n"
     ]
    },
    {
     "name": "stderr",
     "output_type": "stream",
     "text": [
      "Epoch [95/1000]: 100%|███████████████████████████████████████████| 351/351 [00:25<00:00, 14.00batch/s, Batch Loss=2.24]\n"
     ]
    },
    {
     "name": "stdout",
     "output_type": "stream",
     "text": [
      "Epoch [95/1000], Training Loss: 2.2043, Accuracy: 0.4660\n"
     ]
    },
    {
     "name": "stderr",
     "output_type": "stream",
     "text": [
      "Epoch [96/1000]: 100%|███████████████████████████████████████████| 351/351 [00:25<00:00, 13.98batch/s, Batch Loss=2.33]\n"
     ]
    },
    {
     "name": "stdout",
     "output_type": "stream",
     "text": [
      "Epoch [96/1000], Training Loss: 2.2098, Accuracy: 0.4642\n"
     ]
    },
    {
     "name": "stderr",
     "output_type": "stream",
     "text": [
      "Epoch [97/1000]: 100%|████████████████████████████████████████████| 351/351 [00:25<00:00, 13.86batch/s, Batch Loss=2.3]\n"
     ]
    },
    {
     "name": "stdout",
     "output_type": "stream",
     "text": [
      "Epoch [97/1000], Training Loss: 2.1931, Accuracy: 0.4676\n"
     ]
    },
    {
     "name": "stderr",
     "output_type": "stream",
     "text": [
      "Epoch [98/1000]: 100%|███████████████████████████████████████████| 351/351 [00:25<00:00, 13.68batch/s, Batch Loss=2.54]\n"
     ]
    },
    {
     "name": "stdout",
     "output_type": "stream",
     "text": [
      "Epoch [98/1000], Training Loss: 2.1827, Accuracy: 0.4702\n"
     ]
    },
    {
     "name": "stderr",
     "output_type": "stream",
     "text": [
      "Epoch [99/1000]: 100%|███████████████████████████████████████████| 351/351 [00:26<00:00, 13.20batch/s, Batch Loss=2.31]\n"
     ]
    },
    {
     "name": "stdout",
     "output_type": "stream",
     "text": [
      "Epoch [99/1000], Training Loss: 2.1690, Accuracy: 0.4736\n"
     ]
    },
    {
     "name": "stderr",
     "output_type": "stream",
     "text": [
      "Epoch [100/1000]: 100%|██████████████████████████████████████████| 351/351 [00:25<00:00, 13.68batch/s, Batch Loss=2.14]\n"
     ]
    },
    {
     "name": "stdout",
     "output_type": "stream",
     "text": [
      "Epoch [100/1000], Training Loss: 2.1600, Accuracy: 0.4761\n",
      "Model saved at 'uet4rec64_ml_model_epoch_100.pth'\n"
     ]
    },
    {
     "name": "stderr",
     "output_type": "stream",
     "text": [
      "Epoch [101/1000]: 100%|██████████████████████████████████████████| 351/351 [00:26<00:00, 13.30batch/s, Batch Loss=2.01]\n"
     ]
    },
    {
     "name": "stdout",
     "output_type": "stream",
     "text": [
      "Epoch [101/1000], Training Loss: 2.1572, Accuracy: 0.4741\n"
     ]
    },
    {
     "name": "stderr",
     "output_type": "stream",
     "text": [
      "Epoch [102/1000]: 100%|██████████████████████████████████████████| 351/351 [00:24<00:00, 14.21batch/s, Batch Loss=2.05]\n"
     ]
    },
    {
     "name": "stdout",
     "output_type": "stream",
     "text": [
      "Epoch [102/1000], Training Loss: 2.1520, Accuracy: 0.4753\n"
     ]
    },
    {
     "name": "stderr",
     "output_type": "stream",
     "text": [
      "Epoch [103/1000]: 100%|██████████████████████████████████████████| 351/351 [00:26<00:00, 13.32batch/s, Batch Loss=2.29]\n"
     ]
    },
    {
     "name": "stdout",
     "output_type": "stream",
     "text": [
      "Epoch [103/1000], Training Loss: 2.1389, Accuracy: 0.4783\n"
     ]
    },
    {
     "name": "stderr",
     "output_type": "stream",
     "text": [
      "Epoch [104/1000]: 100%|██████████████████████████████████████████| 351/351 [00:26<00:00, 13.05batch/s, Batch Loss=2.31]\n"
     ]
    },
    {
     "name": "stdout",
     "output_type": "stream",
     "text": [
      "Epoch [104/1000], Training Loss: 2.1348, Accuracy: 0.4800\n"
     ]
    },
    {
     "name": "stderr",
     "output_type": "stream",
     "text": [
      "Epoch [105/1000]: 100%|██████████████████████████████████████████| 351/351 [00:26<00:00, 13.34batch/s, Batch Loss=2.15]\n"
     ]
    },
    {
     "name": "stdout",
     "output_type": "stream",
     "text": [
      "Epoch [105/1000], Training Loss: 2.1232, Accuracy: 0.4825\n"
     ]
    },
    {
     "name": "stderr",
     "output_type": "stream",
     "text": [
      "Epoch [106/1000]: 100%|██████████████████████████████████████████| 351/351 [00:25<00:00, 13.80batch/s, Batch Loss=2.57]\n"
     ]
    },
    {
     "name": "stdout",
     "output_type": "stream",
     "text": [
      "Epoch [106/1000], Training Loss: 2.1205, Accuracy: 0.4825\n"
     ]
    },
    {
     "name": "stderr",
     "output_type": "stream",
     "text": [
      "Epoch [107/1000]: 100%|██████████████████████████████████████████| 351/351 [00:25<00:00, 13.82batch/s, Batch Loss=2.14]\n"
     ]
    },
    {
     "name": "stdout",
     "output_type": "stream",
     "text": [
      "Epoch [107/1000], Training Loss: 2.1133, Accuracy: 0.4840\n"
     ]
    },
    {
     "name": "stderr",
     "output_type": "stream",
     "text": [
      "Epoch [108/1000]: 100%|██████████████████████████████████████████| 351/351 [00:25<00:00, 13.75batch/s, Batch Loss=2.08]\n"
     ]
    },
    {
     "name": "stdout",
     "output_type": "stream",
     "text": [
      "Epoch [108/1000], Training Loss: 2.1098, Accuracy: 0.4849\n"
     ]
    },
    {
     "name": "stderr",
     "output_type": "stream",
     "text": [
      "Epoch [109/1000]: 100%|██████████████████████████████████████████| 351/351 [00:25<00:00, 13.52batch/s, Batch Loss=2.16]\n"
     ]
    },
    {
     "name": "stdout",
     "output_type": "stream",
     "text": [
      "Epoch [109/1000], Training Loss: 2.1018, Accuracy: 0.4846\n"
     ]
    },
    {
     "name": "stderr",
     "output_type": "stream",
     "text": [
      "Epoch [110/1000]: 100%|██████████████████████████████████████████| 351/351 [00:25<00:00, 13.75batch/s, Batch Loss=2.11]\n"
     ]
    },
    {
     "name": "stdout",
     "output_type": "stream",
     "text": [
      "Epoch [110/1000], Training Loss: 2.1016, Accuracy: 0.4869\n"
     ]
    },
    {
     "name": "stderr",
     "output_type": "stream",
     "text": [
      "Epoch [111/1000]: 100%|██████████████████████████████████████████| 351/351 [00:25<00:00, 13.73batch/s, Batch Loss=2.02]\n"
     ]
    },
    {
     "name": "stdout",
     "output_type": "stream",
     "text": [
      "Epoch [111/1000], Training Loss: 2.0902, Accuracy: 0.4898\n"
     ]
    },
    {
     "name": "stderr",
     "output_type": "stream",
     "text": [
      "Epoch [112/1000]: 100%|██████████████████████████████████████████| 351/351 [00:25<00:00, 13.81batch/s, Batch Loss=2.33]\n"
     ]
    },
    {
     "name": "stdout",
     "output_type": "stream",
     "text": [
      "Epoch [112/1000], Training Loss: 2.0793, Accuracy: 0.4877\n"
     ]
    },
    {
     "name": "stderr",
     "output_type": "stream",
     "text": [
      "Epoch [113/1000]: 100%|███████████████████████████████████████████| 351/351 [00:24<00:00, 14.07batch/s, Batch Loss=2.3]\n"
     ]
    },
    {
     "name": "stdout",
     "output_type": "stream",
     "text": [
      "Epoch [113/1000], Training Loss: 2.0772, Accuracy: 0.4892\n"
     ]
    },
    {
     "name": "stderr",
     "output_type": "stream",
     "text": [
      "Epoch [114/1000]: 100%|██████████████████████████████████████████| 351/351 [00:24<00:00, 14.15batch/s, Batch Loss=2.21]\n"
     ]
    },
    {
     "name": "stdout",
     "output_type": "stream",
     "text": [
      "Epoch [114/1000], Training Loss: 2.0685, Accuracy: 0.4912\n"
     ]
    },
    {
     "name": "stderr",
     "output_type": "stream",
     "text": [
      "Epoch [115/1000]: 100%|██████████████████████████████████████████| 351/351 [00:26<00:00, 13.42batch/s, Batch Loss=2.18]\n"
     ]
    },
    {
     "name": "stdout",
     "output_type": "stream",
     "text": [
      "Epoch [115/1000], Training Loss: 2.0659, Accuracy: 0.4935\n"
     ]
    },
    {
     "name": "stderr",
     "output_type": "stream",
     "text": [
      "Epoch [116/1000]: 100%|██████████████████████████████████████████| 351/351 [00:25<00:00, 13.91batch/s, Batch Loss=1.98]\n"
     ]
    },
    {
     "name": "stdout",
     "output_type": "stream",
     "text": [
      "Epoch [116/1000], Training Loss: 2.0600, Accuracy: 0.4929\n"
     ]
    },
    {
     "name": "stderr",
     "output_type": "stream",
     "text": [
      "Epoch [117/1000]: 100%|██████████████████████████████████████████| 351/351 [00:25<00:00, 13.82batch/s, Batch Loss=2.26]\n"
     ]
    },
    {
     "name": "stdout",
     "output_type": "stream",
     "text": [
      "Epoch [117/1000], Training Loss: 2.0599, Accuracy: 0.4932\n"
     ]
    },
    {
     "name": "stderr",
     "output_type": "stream",
     "text": [
      "Epoch [118/1000]: 100%|██████████████████████████████████████████| 351/351 [00:25<00:00, 13.98batch/s, Batch Loss=2.18]\n"
     ]
    },
    {
     "name": "stdout",
     "output_type": "stream",
     "text": [
      "Epoch [118/1000], Training Loss: 2.0423, Accuracy: 0.4977\n"
     ]
    },
    {
     "name": "stderr",
     "output_type": "stream",
     "text": [
      "Epoch [119/1000]: 100%|██████████████████████████████████████████| 351/351 [00:25<00:00, 13.95batch/s, Batch Loss=2.21]\n"
     ]
    },
    {
     "name": "stdout",
     "output_type": "stream",
     "text": [
      "Epoch [119/1000], Training Loss: 2.0385, Accuracy: 0.4957\n"
     ]
    },
    {
     "name": "stderr",
     "output_type": "stream",
     "text": [
      "Epoch [120/1000]: 100%|██████████████████████████████████████████| 351/351 [00:25<00:00, 13.68batch/s, Batch Loss=2.33]\n"
     ]
    },
    {
     "name": "stdout",
     "output_type": "stream",
     "text": [
      "Epoch [120/1000], Training Loss: 2.0365, Accuracy: 0.4987\n"
     ]
    },
    {
     "name": "stderr",
     "output_type": "stream",
     "text": [
      "Epoch [121/1000]: 100%|██████████████████████████████████████████| 351/351 [00:25<00:00, 13.93batch/s, Batch Loss=2.09]\n"
     ]
    },
    {
     "name": "stdout",
     "output_type": "stream",
     "text": [
      "Epoch [121/1000], Training Loss: 2.0269, Accuracy: 0.5003\n"
     ]
    },
    {
     "name": "stderr",
     "output_type": "stream",
     "text": [
      "Epoch [122/1000]: 100%|██████████████████████████████████████████| 351/351 [00:25<00:00, 13.82batch/s, Batch Loss=2.15]\n"
     ]
    },
    {
     "name": "stdout",
     "output_type": "stream",
     "text": [
      "Epoch [122/1000], Training Loss: 2.0203, Accuracy: 0.5011\n"
     ]
    },
    {
     "name": "stderr",
     "output_type": "stream",
     "text": [
      "Epoch [123/1000]: 100%|██████████████████████████████████████████| 351/351 [00:25<00:00, 13.94batch/s, Batch Loss=2.37]\n"
     ]
    },
    {
     "name": "stdout",
     "output_type": "stream",
     "text": [
      "Epoch [123/1000], Training Loss: 2.0154, Accuracy: 0.5018\n"
     ]
    },
    {
     "name": "stderr",
     "output_type": "stream",
     "text": [
      "Epoch [124/1000]: 100%|██████████████████████████████████████████| 351/351 [00:25<00:00, 13.69batch/s, Batch Loss=2.12]\n"
     ]
    },
    {
     "name": "stdout",
     "output_type": "stream",
     "text": [
      "Epoch [124/1000], Training Loss: 2.0096, Accuracy: 0.5031\n"
     ]
    },
    {
     "name": "stderr",
     "output_type": "stream",
     "text": [
      "Epoch [125/1000]: 100%|██████████████████████████████████████████| 351/351 [00:25<00:00, 14.02batch/s, Batch Loss=2.25]\n"
     ]
    },
    {
     "name": "stdout",
     "output_type": "stream",
     "text": [
      "Epoch [125/1000], Training Loss: 1.9980, Accuracy: 0.5068\n"
     ]
    },
    {
     "name": "stderr",
     "output_type": "stream",
     "text": [
      "Epoch [126/1000]: 100%|██████████████████████████████████████████| 351/351 [00:24<00:00, 14.57batch/s, Batch Loss=2.11]\n"
     ]
    },
    {
     "name": "stdout",
     "output_type": "stream",
     "text": [
      "Epoch [126/1000], Training Loss: 2.0026, Accuracy: 0.5028\n"
     ]
    },
    {
     "name": "stderr",
     "output_type": "stream",
     "text": [
      "Epoch [127/1000]: 100%|██████████████████████████████████████████| 351/351 [00:24<00:00, 14.23batch/s, Batch Loss=2.09]\n"
     ]
    },
    {
     "name": "stdout",
     "output_type": "stream",
     "text": [
      "Epoch [127/1000], Training Loss: 2.0001, Accuracy: 0.5034\n"
     ]
    },
    {
     "name": "stderr",
     "output_type": "stream",
     "text": [
      "Epoch [128/1000]: 100%|██████████████████████████████████████████| 351/351 [00:25<00:00, 13.96batch/s, Batch Loss=2.02]\n"
     ]
    },
    {
     "name": "stdout",
     "output_type": "stream",
     "text": [
      "Epoch [128/1000], Training Loss: 1.9840, Accuracy: 0.5100\n"
     ]
    },
    {
     "name": "stderr",
     "output_type": "stream",
     "text": [
      "Epoch [129/1000]: 100%|██████████████████████████████████████████| 351/351 [00:25<00:00, 13.82batch/s, Batch Loss=2.11]\n"
     ]
    },
    {
     "name": "stdout",
     "output_type": "stream",
     "text": [
      "Epoch [129/1000], Training Loss: 1.9791, Accuracy: 0.5095\n"
     ]
    },
    {
     "name": "stderr",
     "output_type": "stream",
     "text": [
      "Epoch [130/1000]: 100%|██████████████████████████████████████████| 351/351 [00:25<00:00, 13.69batch/s, Batch Loss=2.14]\n"
     ]
    },
    {
     "name": "stdout",
     "output_type": "stream",
     "text": [
      "Epoch [130/1000], Training Loss: 1.9786, Accuracy: 0.5103\n"
     ]
    },
    {
     "name": "stderr",
     "output_type": "stream",
     "text": [
      "Epoch [131/1000]: 100%|██████████████████████████████████████████| 351/351 [00:25<00:00, 13.84batch/s, Batch Loss=2.17]\n"
     ]
    },
    {
     "name": "stdout",
     "output_type": "stream",
     "text": [
      "Epoch [131/1000], Training Loss: 1.9679, Accuracy: 0.5109\n"
     ]
    },
    {
     "name": "stderr",
     "output_type": "stream",
     "text": [
      "Epoch [132/1000]: 100%|██████████████████████████████████████████| 351/351 [00:25<00:00, 13.88batch/s, Batch Loss=2.17]\n"
     ]
    },
    {
     "name": "stdout",
     "output_type": "stream",
     "text": [
      "Epoch [132/1000], Training Loss: 1.9684, Accuracy: 0.5110\n"
     ]
    },
    {
     "name": "stderr",
     "output_type": "stream",
     "text": [
      "Epoch [133/1000]: 100%|██████████████████████████████████████████| 351/351 [00:25<00:00, 13.67batch/s, Batch Loss=1.91]\n"
     ]
    },
    {
     "name": "stdout",
     "output_type": "stream",
     "text": [
      "Epoch [133/1000], Training Loss: 1.9599, Accuracy: 0.5117\n"
     ]
    },
    {
     "name": "stderr",
     "output_type": "stream",
     "text": [
      "Epoch [134/1000]: 100%|██████████████████████████████████████████| 351/351 [00:25<00:00, 13.75batch/s, Batch Loss=1.95]\n"
     ]
    },
    {
     "name": "stdout",
     "output_type": "stream",
     "text": [
      "Epoch [134/1000], Training Loss: 1.9516, Accuracy: 0.5148\n"
     ]
    },
    {
     "name": "stderr",
     "output_type": "stream",
     "text": [
      "Epoch [135/1000]: 100%|██████████████████████████████████████████| 351/351 [00:25<00:00, 13.97batch/s, Batch Loss=1.89]\n"
     ]
    },
    {
     "name": "stdout",
     "output_type": "stream",
     "text": [
      "Epoch [135/1000], Training Loss: 1.9457, Accuracy: 0.5157\n"
     ]
    },
    {
     "name": "stderr",
     "output_type": "stream",
     "text": [
      "Epoch [136/1000]: 100%|██████████████████████████████████████████| 351/351 [00:25<00:00, 13.95batch/s, Batch Loss=1.98]\n"
     ]
    },
    {
     "name": "stdout",
     "output_type": "stream",
     "text": [
      "Epoch [136/1000], Training Loss: 1.9377, Accuracy: 0.5182\n"
     ]
    },
    {
     "name": "stderr",
     "output_type": "stream",
     "text": [
      "Epoch [137/1000]: 100%|██████████████████████████████████████████| 351/351 [00:24<00:00, 14.21batch/s, Batch Loss=2.07]\n"
     ]
    },
    {
     "name": "stdout",
     "output_type": "stream",
     "text": [
      "Epoch [137/1000], Training Loss: 1.9522, Accuracy: 0.5145\n"
     ]
    },
    {
     "name": "stderr",
     "output_type": "stream",
     "text": [
      "Epoch [138/1000]: 100%|██████████████████████████████████████████| 351/351 [00:24<00:00, 14.28batch/s, Batch Loss=1.92]\n"
     ]
    },
    {
     "name": "stdout",
     "output_type": "stream",
     "text": [
      "Epoch [138/1000], Training Loss: 1.9360, Accuracy: 0.5179\n"
     ]
    },
    {
     "name": "stderr",
     "output_type": "stream",
     "text": [
      "Epoch [139/1000]: 100%|██████████████████████████████████████████| 351/351 [00:24<00:00, 14.05batch/s, Batch Loss=2.01]\n"
     ]
    },
    {
     "name": "stdout",
     "output_type": "stream",
     "text": [
      "Epoch [139/1000], Training Loss: 1.9270, Accuracy: 0.5183\n"
     ]
    },
    {
     "name": "stderr",
     "output_type": "stream",
     "text": [
      "Epoch [140/1000]: 100%|██████████████████████████████████████████| 351/351 [00:24<00:00, 14.18batch/s, Batch Loss=2.05]\n"
     ]
    },
    {
     "name": "stdout",
     "output_type": "stream",
     "text": [
      "Epoch [140/1000], Training Loss: 1.9255, Accuracy: 0.5193\n"
     ]
    },
    {
     "name": "stderr",
     "output_type": "stream",
     "text": [
      "Epoch [141/1000]: 100%|██████████████████████████████████████████| 351/351 [00:24<00:00, 14.27batch/s, Batch Loss=2.08]\n"
     ]
    },
    {
     "name": "stdout",
     "output_type": "stream",
     "text": [
      "Epoch [141/1000], Training Loss: 1.9195, Accuracy: 0.5210\n"
     ]
    },
    {
     "name": "stderr",
     "output_type": "stream",
     "text": [
      "Epoch [142/1000]: 100%|██████████████████████████████████████████| 351/351 [00:24<00:00, 14.16batch/s, Batch Loss=2.08]\n"
     ]
    },
    {
     "name": "stdout",
     "output_type": "stream",
     "text": [
      "Epoch [142/1000], Training Loss: 1.9259, Accuracy: 0.5190\n"
     ]
    },
    {
     "name": "stderr",
     "output_type": "stream",
     "text": [
      "Epoch [143/1000]: 100%|██████████████████████████████████████████| 351/351 [00:24<00:00, 14.16batch/s, Batch Loss=2.38]\n"
     ]
    },
    {
     "name": "stdout",
     "output_type": "stream",
     "text": [
      "Epoch [143/1000], Training Loss: 1.9082, Accuracy: 0.5232\n"
     ]
    },
    {
     "name": "stderr",
     "output_type": "stream",
     "text": [
      "Epoch [144/1000]: 100%|██████████████████████████████████████████| 351/351 [00:24<00:00, 14.17batch/s, Batch Loss=1.95]\n"
     ]
    },
    {
     "name": "stdout",
     "output_type": "stream",
     "text": [
      "Epoch [144/1000], Training Loss: 1.9112, Accuracy: 0.5196\n"
     ]
    },
    {
     "name": "stderr",
     "output_type": "stream",
     "text": [
      "Epoch [145/1000]: 100%|██████████████████████████████████████████| 351/351 [00:24<00:00, 14.29batch/s, Batch Loss=2.17]\n"
     ]
    },
    {
     "name": "stdout",
     "output_type": "stream",
     "text": [
      "Epoch [145/1000], Training Loss: 1.9059, Accuracy: 0.5230\n"
     ]
    },
    {
     "name": "stderr",
     "output_type": "stream",
     "text": [
      "Epoch [146/1000]: 100%|██████████████████████████████████████████| 351/351 [00:25<00:00, 13.97batch/s, Batch Loss=2.16]\n"
     ]
    },
    {
     "name": "stdout",
     "output_type": "stream",
     "text": [
      "Epoch [146/1000], Training Loss: 1.8937, Accuracy: 0.5265\n"
     ]
    },
    {
     "name": "stderr",
     "output_type": "stream",
     "text": [
      "Epoch [147/1000]: 100%|██████████████████████████████████████████| 351/351 [00:24<00:00, 14.07batch/s, Batch Loss=1.99]\n"
     ]
    },
    {
     "name": "stdout",
     "output_type": "stream",
     "text": [
      "Epoch [147/1000], Training Loss: 1.8873, Accuracy: 0.5260\n"
     ]
    },
    {
     "name": "stderr",
     "output_type": "stream",
     "text": [
      "Epoch [148/1000]: 100%|██████████████████████████████████████████| 351/351 [00:24<00:00, 14.21batch/s, Batch Loss=2.01]\n"
     ]
    },
    {
     "name": "stdout",
     "output_type": "stream",
     "text": [
      "Epoch [148/1000], Training Loss: 1.8868, Accuracy: 0.5284\n"
     ]
    },
    {
     "name": "stderr",
     "output_type": "stream",
     "text": [
      "Epoch [149/1000]: 100%|██████████████████████████████████████████| 351/351 [00:24<00:00, 14.20batch/s, Batch Loss=2.06]\n"
     ]
    },
    {
     "name": "stdout",
     "output_type": "stream",
     "text": [
      "Epoch [149/1000], Training Loss: 1.8803, Accuracy: 0.5278\n"
     ]
    },
    {
     "name": "stderr",
     "output_type": "stream",
     "text": [
      "Epoch [150/1000]: 100%|██████████████████████████████████████████| 351/351 [00:24<00:00, 14.09batch/s, Batch Loss=1.93]\n"
     ]
    },
    {
     "name": "stdout",
     "output_type": "stream",
     "text": [
      "Epoch [150/1000], Training Loss: 1.8862, Accuracy: 0.5267\n",
      "Model saved at 'uet4rec64_ml_model_epoch_150.pth'\n"
     ]
    },
    {
     "name": "stderr",
     "output_type": "stream",
     "text": [
      "Epoch [151/1000]: 100%|██████████████████████████████████████████| 351/351 [00:25<00:00, 13.97batch/s, Batch Loss=2.01]\n"
     ]
    },
    {
     "name": "stdout",
     "output_type": "stream",
     "text": [
      "Epoch [151/1000], Training Loss: 1.8721, Accuracy: 0.5298\n"
     ]
    },
    {
     "name": "stderr",
     "output_type": "stream",
     "text": [
      "Epoch [152/1000]: 100%|███████████████████████████████████████████| 351/351 [00:24<00:00, 14.30batch/s, Batch Loss=2.2]\n"
     ]
    },
    {
     "name": "stdout",
     "output_type": "stream",
     "text": [
      "Epoch [152/1000], Training Loss: 1.8704, Accuracy: 0.5284\n"
     ]
    },
    {
     "name": "stderr",
     "output_type": "stream",
     "text": [
      "Epoch [153/1000]: 100%|██████████████████████████████████████████| 351/351 [00:24<00:00, 14.33batch/s, Batch Loss=2.44]\n"
     ]
    },
    {
     "name": "stdout",
     "output_type": "stream",
     "text": [
      "Epoch [153/1000], Training Loss: 1.8701, Accuracy: 0.5287\n"
     ]
    },
    {
     "name": "stderr",
     "output_type": "stream",
     "text": [
      "Epoch [154/1000]: 100%|██████████████████████████████████████████| 351/351 [00:24<00:00, 14.26batch/s, Batch Loss=1.87]\n"
     ]
    },
    {
     "name": "stdout",
     "output_type": "stream",
     "text": [
      "Epoch [154/1000], Training Loss: 1.8572, Accuracy: 0.5313\n"
     ]
    },
    {
     "name": "stderr",
     "output_type": "stream",
     "text": [
      "Epoch [155/1000]: 100%|██████████████████████████████████████████| 351/351 [00:24<00:00, 14.25batch/s, Batch Loss=1.86]\n"
     ]
    },
    {
     "name": "stdout",
     "output_type": "stream",
     "text": [
      "Epoch [155/1000], Training Loss: 1.8556, Accuracy: 0.5331\n"
     ]
    },
    {
     "name": "stderr",
     "output_type": "stream",
     "text": [
      "Epoch [156/1000]: 100%|██████████████████████████████████████████| 351/351 [00:24<00:00, 14.43batch/s, Batch Loss=1.95]\n"
     ]
    },
    {
     "name": "stdout",
     "output_type": "stream",
     "text": [
      "Epoch [156/1000], Training Loss: 1.8525, Accuracy: 0.5342\n"
     ]
    },
    {
     "name": "stderr",
     "output_type": "stream",
     "text": [
      "Epoch [157/1000]: 100%|██████████████████████████████████████████| 351/351 [00:24<00:00, 14.28batch/s, Batch Loss=1.92]\n"
     ]
    },
    {
     "name": "stdout",
     "output_type": "stream",
     "text": [
      "Epoch [157/1000], Training Loss: 1.8502, Accuracy: 0.5329\n"
     ]
    },
    {
     "name": "stderr",
     "output_type": "stream",
     "text": [
      "Epoch [158/1000]: 100%|███████████████████████████████████████████| 351/351 [00:24<00:00, 14.45batch/s, Batch Loss=1.9]\n"
     ]
    },
    {
     "name": "stdout",
     "output_type": "stream",
     "text": [
      "Epoch [158/1000], Training Loss: 1.8470, Accuracy: 0.5345\n"
     ]
    },
    {
     "name": "stderr",
     "output_type": "stream",
     "text": [
      "Epoch [159/1000]: 100%|██████████████████████████████████████████| 351/351 [00:24<00:00, 14.32batch/s, Batch Loss=2.04]\n"
     ]
    },
    {
     "name": "stdout",
     "output_type": "stream",
     "text": [
      "Epoch [159/1000], Training Loss: 1.8396, Accuracy: 0.5355\n"
     ]
    },
    {
     "name": "stderr",
     "output_type": "stream",
     "text": [
      "Epoch [160/1000]: 100%|██████████████████████████████████████████| 351/351 [00:24<00:00, 14.48batch/s, Batch Loss=1.86]\n"
     ]
    },
    {
     "name": "stdout",
     "output_type": "stream",
     "text": [
      "Epoch [160/1000], Training Loss: 1.8335, Accuracy: 0.5364\n"
     ]
    },
    {
     "name": "stderr",
     "output_type": "stream",
     "text": [
      "Epoch [161/1000]: 100%|██████████████████████████████████████████| 351/351 [00:24<00:00, 14.35batch/s, Batch Loss=1.84]\n"
     ]
    },
    {
     "name": "stdout",
     "output_type": "stream",
     "text": [
      "Epoch [161/1000], Training Loss: 1.8350, Accuracy: 0.5376\n"
     ]
    },
    {
     "name": "stderr",
     "output_type": "stream",
     "text": [
      "Epoch [162/1000]: 100%|██████████████████████████████████████████| 351/351 [00:24<00:00, 14.44batch/s, Batch Loss=2.08]\n"
     ]
    },
    {
     "name": "stdout",
     "output_type": "stream",
     "text": [
      "Epoch [162/1000], Training Loss: 1.8347, Accuracy: 0.5364\n"
     ]
    },
    {
     "name": "stderr",
     "output_type": "stream",
     "text": [
      "Epoch [163/1000]: 100%|███████████████████████████████████████████| 351/351 [00:24<00:00, 14.33batch/s, Batch Loss=1.9]\n"
     ]
    },
    {
     "name": "stdout",
     "output_type": "stream",
     "text": [
      "Epoch [163/1000], Training Loss: 1.8253, Accuracy: 0.5374\n"
     ]
    },
    {
     "name": "stderr",
     "output_type": "stream",
     "text": [
      "Epoch [164/1000]: 100%|██████████████████████████████████████████| 351/351 [00:24<00:00, 14.07batch/s, Batch Loss=1.83]\n"
     ]
    },
    {
     "name": "stdout",
     "output_type": "stream",
     "text": [
      "Epoch [164/1000], Training Loss: 1.8243, Accuracy: 0.5406\n"
     ]
    },
    {
     "name": "stderr",
     "output_type": "stream",
     "text": [
      "Epoch [165/1000]: 100%|██████████████████████████████████████████| 351/351 [00:24<00:00, 14.05batch/s, Batch Loss=1.86]\n"
     ]
    },
    {
     "name": "stdout",
     "output_type": "stream",
     "text": [
      "Epoch [165/1000], Training Loss: 1.8103, Accuracy: 0.5412\n"
     ]
    },
    {
     "name": "stderr",
     "output_type": "stream",
     "text": [
      "Epoch [166/1000]: 100%|██████████████████████████████████████████| 351/351 [00:24<00:00, 14.07batch/s, Batch Loss=2.09]\n"
     ]
    },
    {
     "name": "stdout",
     "output_type": "stream",
     "text": [
      "Epoch [166/1000], Training Loss: 1.8199, Accuracy: 0.5404\n"
     ]
    },
    {
     "name": "stderr",
     "output_type": "stream",
     "text": [
      "Epoch [167/1000]: 100%|██████████████████████████████████████████| 351/351 [00:24<00:00, 14.18batch/s, Batch Loss=1.82]\n"
     ]
    },
    {
     "name": "stdout",
     "output_type": "stream",
     "text": [
      "Epoch [167/1000], Training Loss: 1.8074, Accuracy: 0.5415\n"
     ]
    },
    {
     "name": "stderr",
     "output_type": "stream",
     "text": [
      "Epoch [168/1000]: 100%|██████████████████████████████████████████| 351/351 [00:25<00:00, 13.99batch/s, Batch Loss=1.88]\n"
     ]
    },
    {
     "name": "stdout",
     "output_type": "stream",
     "text": [
      "Epoch [168/1000], Training Loss: 1.8056, Accuracy: 0.5435\n"
     ]
    },
    {
     "name": "stderr",
     "output_type": "stream",
     "text": [
      "Epoch [169/1000]: 100%|██████████████████████████████████████████| 351/351 [00:26<00:00, 13.30batch/s, Batch Loss=2.02]\n"
     ]
    },
    {
     "name": "stdout",
     "output_type": "stream",
     "text": [
      "Epoch [169/1000], Training Loss: 1.7935, Accuracy: 0.5475\n"
     ]
    },
    {
     "name": "stderr",
     "output_type": "stream",
     "text": [
      "Epoch [170/1000]: 100%|██████████████████████████████████████████| 351/351 [00:25<00:00, 13.64batch/s, Batch Loss=2.02]\n"
     ]
    },
    {
     "name": "stdout",
     "output_type": "stream",
     "text": [
      "Epoch [170/1000], Training Loss: 1.7978, Accuracy: 0.5444\n"
     ]
    },
    {
     "name": "stderr",
     "output_type": "stream",
     "text": [
      "Epoch [171/1000]: 100%|██████████████████████████████████████████| 351/351 [00:25<00:00, 13.60batch/s, Batch Loss=1.72]\n"
     ]
    },
    {
     "name": "stdout",
     "output_type": "stream",
     "text": [
      "Epoch [171/1000], Training Loss: 1.7943, Accuracy: 0.5454\n"
     ]
    },
    {
     "name": "stderr",
     "output_type": "stream",
     "text": [
      "Epoch [172/1000]: 100%|██████████████████████████████████████████| 351/351 [00:25<00:00, 13.57batch/s, Batch Loss=1.85]\n"
     ]
    },
    {
     "name": "stdout",
     "output_type": "stream",
     "text": [
      "Epoch [172/1000], Training Loss: 1.7900, Accuracy: 0.5464\n"
     ]
    },
    {
     "name": "stderr",
     "output_type": "stream",
     "text": [
      "Epoch [173/1000]: 100%|██████████████████████████████████████████| 351/351 [00:25<00:00, 14.03batch/s, Batch Loss=1.82]\n"
     ]
    },
    {
     "name": "stdout",
     "output_type": "stream",
     "text": [
      "Epoch [173/1000], Training Loss: 1.7860, Accuracy: 0.5467\n"
     ]
    },
    {
     "name": "stderr",
     "output_type": "stream",
     "text": [
      "Epoch [174/1000]: 100%|██████████████████████████████████████████| 351/351 [00:23<00:00, 14.66batch/s, Batch Loss=1.77]\n"
     ]
    },
    {
     "name": "stdout",
     "output_type": "stream",
     "text": [
      "Epoch [174/1000], Training Loss: 1.7795, Accuracy: 0.5479\n"
     ]
    },
    {
     "name": "stderr",
     "output_type": "stream",
     "text": [
      "Epoch [175/1000]: 100%|██████████████████████████████████████████| 351/351 [00:23<00:00, 14.66batch/s, Batch Loss=1.99]\n"
     ]
    },
    {
     "name": "stdout",
     "output_type": "stream",
     "text": [
      "Epoch [175/1000], Training Loss: 1.7840, Accuracy: 0.5474\n"
     ]
    },
    {
     "name": "stderr",
     "output_type": "stream",
     "text": [
      "Epoch [176/1000]: 100%|███████████████████████████████████████████| 351/351 [00:25<00:00, 13.55batch/s, Batch Loss=1.8]\n"
     ]
    },
    {
     "name": "stdout",
     "output_type": "stream",
     "text": [
      "Epoch [176/1000], Training Loss: 1.7827, Accuracy: 0.5474\n"
     ]
    },
    {
     "name": "stderr",
     "output_type": "stream",
     "text": [
      "Epoch [177/1000]: 100%|██████████████████████████████████████████| 351/351 [00:24<00:00, 14.52batch/s, Batch Loss=1.93]\n"
     ]
    },
    {
     "name": "stdout",
     "output_type": "stream",
     "text": [
      "Epoch [177/1000], Training Loss: 1.7759, Accuracy: 0.5500\n"
     ]
    },
    {
     "name": "stderr",
     "output_type": "stream",
     "text": [
      "Epoch [178/1000]: 100%|██████████████████████████████████████████| 351/351 [00:23<00:00, 14.68batch/s, Batch Loss=1.92]\n"
     ]
    },
    {
     "name": "stdout",
     "output_type": "stream",
     "text": [
      "Epoch [178/1000], Training Loss: 1.7724, Accuracy: 0.5492\n"
     ]
    },
    {
     "name": "stderr",
     "output_type": "stream",
     "text": [
      "Epoch [179/1000]: 100%|███████████████████████████████████████████| 351/351 [00:23<00:00, 14.87batch/s, Batch Loss=1.8]\n"
     ]
    },
    {
     "name": "stdout",
     "output_type": "stream",
     "text": [
      "Epoch [179/1000], Training Loss: 1.7679, Accuracy: 0.5526\n"
     ]
    },
    {
     "name": "stderr",
     "output_type": "stream",
     "text": [
      "Epoch [180/1000]: 100%|██████████████████████████████████████████| 351/351 [00:26<00:00, 13.38batch/s, Batch Loss=1.95]\n"
     ]
    },
    {
     "name": "stdout",
     "output_type": "stream",
     "text": [
      "Epoch [180/1000], Training Loss: 1.7631, Accuracy: 0.5509\n"
     ]
    },
    {
     "name": "stderr",
     "output_type": "stream",
     "text": [
      "Epoch [181/1000]: 100%|██████████████████████████████████████████| 351/351 [00:26<00:00, 13.40batch/s, Batch Loss=1.89]\n"
     ]
    },
    {
     "name": "stdout",
     "output_type": "stream",
     "text": [
      "Epoch [181/1000], Training Loss: 1.7603, Accuracy: 0.5524\n"
     ]
    },
    {
     "name": "stderr",
     "output_type": "stream",
     "text": [
      "Epoch [182/1000]: 100%|██████████████████████████████████████████| 351/351 [00:25<00:00, 13.58batch/s, Batch Loss=1.72]\n"
     ]
    },
    {
     "name": "stdout",
     "output_type": "stream",
     "text": [
      "Epoch [182/1000], Training Loss: 1.7551, Accuracy: 0.5547\n"
     ]
    },
    {
     "name": "stderr",
     "output_type": "stream",
     "text": [
      "Epoch [183/1000]: 100%|██████████████████████████████████████████| 351/351 [00:25<00:00, 13.93batch/s, Batch Loss=1.61]\n"
     ]
    },
    {
     "name": "stdout",
     "output_type": "stream",
     "text": [
      "Epoch [183/1000], Training Loss: 1.7588, Accuracy: 0.5529\n"
     ]
    },
    {
     "name": "stderr",
     "output_type": "stream",
     "text": [
      "Epoch [184/1000]: 100%|██████████████████████████████████████████| 351/351 [00:25<00:00, 13.88batch/s, Batch Loss=1.73]\n"
     ]
    },
    {
     "name": "stdout",
     "output_type": "stream",
     "text": [
      "Epoch [184/1000], Training Loss: 1.7479, Accuracy: 0.5550\n"
     ]
    },
    {
     "name": "stderr",
     "output_type": "stream",
     "text": [
      "Epoch [185/1000]: 100%|██████████████████████████████████████████| 351/351 [00:24<00:00, 14.15batch/s, Batch Loss=1.95]\n"
     ]
    },
    {
     "name": "stdout",
     "output_type": "stream",
     "text": [
      "Epoch [185/1000], Training Loss: 1.7420, Accuracy: 0.5560\n"
     ]
    },
    {
     "name": "stderr",
     "output_type": "stream",
     "text": [
      "Epoch [186/1000]: 100%|██████████████████████████████████████████| 351/351 [00:25<00:00, 14.00batch/s, Batch Loss=1.77]\n"
     ]
    },
    {
     "name": "stdout",
     "output_type": "stream",
     "text": [
      "Epoch [186/1000], Training Loss: 1.7493, Accuracy: 0.5529\n"
     ]
    },
    {
     "name": "stderr",
     "output_type": "stream",
     "text": [
      "Epoch [187/1000]: 100%|██████████████████████████████████████████| 351/351 [00:25<00:00, 13.96batch/s, Batch Loss=1.98]\n"
     ]
    },
    {
     "name": "stdout",
     "output_type": "stream",
     "text": [
      "Epoch [187/1000], Training Loss: 1.7423, Accuracy: 0.5551\n"
     ]
    },
    {
     "name": "stderr",
     "output_type": "stream",
     "text": [
      "Epoch [188/1000]: 100%|██████████████████████████████████████████| 351/351 [00:25<00:00, 13.89batch/s, Batch Loss=1.88]\n"
     ]
    },
    {
     "name": "stdout",
     "output_type": "stream",
     "text": [
      "Epoch [188/1000], Training Loss: 1.7345, Accuracy: 0.5600\n"
     ]
    },
    {
     "name": "stderr",
     "output_type": "stream",
     "text": [
      "Epoch [189/1000]: 100%|██████████████████████████████████████████| 351/351 [00:25<00:00, 13.79batch/s, Batch Loss=1.75]\n"
     ]
    },
    {
     "name": "stdout",
     "output_type": "stream",
     "text": [
      "Epoch [189/1000], Training Loss: 1.7330, Accuracy: 0.5580\n"
     ]
    },
    {
     "name": "stderr",
     "output_type": "stream",
     "text": [
      "Epoch [190/1000]: 100%|██████████████████████████████████████████| 351/351 [00:24<00:00, 14.18batch/s, Batch Loss=2.12]\n"
     ]
    },
    {
     "name": "stdout",
     "output_type": "stream",
     "text": [
      "Epoch [190/1000], Training Loss: 1.7200, Accuracy: 0.5594\n"
     ]
    },
    {
     "name": "stderr",
     "output_type": "stream",
     "text": [
      "Epoch [191/1000]: 100%|██████████████████████████████████████████| 351/351 [00:24<00:00, 14.05batch/s, Batch Loss=1.53]\n"
     ]
    },
    {
     "name": "stdout",
     "output_type": "stream",
     "text": [
      "Epoch [191/1000], Training Loss: 1.7298, Accuracy: 0.5574\n"
     ]
    },
    {
     "name": "stderr",
     "output_type": "stream",
     "text": [
      "Epoch [192/1000]: 100%|██████████████████████████████████████████| 351/351 [00:24<00:00, 14.05batch/s, Batch Loss=1.98]\n"
     ]
    },
    {
     "name": "stdout",
     "output_type": "stream",
     "text": [
      "Epoch [192/1000], Training Loss: 1.7273, Accuracy: 0.5600\n"
     ]
    },
    {
     "name": "stderr",
     "output_type": "stream",
     "text": [
      "Epoch [193/1000]: 100%|██████████████████████████████████████████| 351/351 [00:24<00:00, 14.11batch/s, Batch Loss=1.65]\n"
     ]
    },
    {
     "name": "stdout",
     "output_type": "stream",
     "text": [
      "Epoch [193/1000], Training Loss: 1.7233, Accuracy: 0.5588\n"
     ]
    },
    {
     "name": "stderr",
     "output_type": "stream",
     "text": [
      "Epoch [194/1000]: 100%|██████████████████████████████████████████| 351/351 [00:25<00:00, 13.98batch/s, Batch Loss=1.88]\n"
     ]
    },
    {
     "name": "stdout",
     "output_type": "stream",
     "text": [
      "Epoch [194/1000], Training Loss: 1.7213, Accuracy: 0.5598\n"
     ]
    },
    {
     "name": "stderr",
     "output_type": "stream",
     "text": [
      "Epoch [195/1000]: 100%|██████████████████████████████████████████| 351/351 [00:25<00:00, 13.86batch/s, Batch Loss=1.78]\n"
     ]
    },
    {
     "name": "stdout",
     "output_type": "stream",
     "text": [
      "Epoch [195/1000], Training Loss: 1.7164, Accuracy: 0.5623\n"
     ]
    },
    {
     "name": "stderr",
     "output_type": "stream",
     "text": [
      "Epoch [196/1000]: 100%|██████████████████████████████████████████| 351/351 [00:25<00:00, 13.85batch/s, Batch Loss=1.87]\n"
     ]
    },
    {
     "name": "stdout",
     "output_type": "stream",
     "text": [
      "Epoch [196/1000], Training Loss: 1.7085, Accuracy: 0.5619\n"
     ]
    },
    {
     "name": "stderr",
     "output_type": "stream",
     "text": [
      "Epoch [197/1000]: 100%|██████████████████████████████████████████| 351/351 [00:25<00:00, 14.01batch/s, Batch Loss=1.93]\n"
     ]
    },
    {
     "name": "stdout",
     "output_type": "stream",
     "text": [
      "Epoch [197/1000], Training Loss: 1.7134, Accuracy: 0.5619\n"
     ]
    },
    {
     "name": "stderr",
     "output_type": "stream",
     "text": [
      "Epoch [198/1000]: 100%|██████████████████████████████████████████| 351/351 [00:25<00:00, 14.02batch/s, Batch Loss=1.82]\n"
     ]
    },
    {
     "name": "stdout",
     "output_type": "stream",
     "text": [
      "Epoch [198/1000], Training Loss: 1.7072, Accuracy: 0.5615\n"
     ]
    },
    {
     "name": "stderr",
     "output_type": "stream",
     "text": [
      "Epoch [199/1000]: 100%|██████████████████████████████████████████| 351/351 [00:24<00:00, 14.12batch/s, Batch Loss=1.67]\n"
     ]
    },
    {
     "name": "stdout",
     "output_type": "stream",
     "text": [
      "Epoch [199/1000], Training Loss: 1.7081, Accuracy: 0.5621\n"
     ]
    },
    {
     "name": "stderr",
     "output_type": "stream",
     "text": [
      "Epoch [200/1000]: 100%|██████████████████████████████████████████| 351/351 [00:25<00:00, 13.82batch/s, Batch Loss=1.75]\n"
     ]
    },
    {
     "name": "stdout",
     "output_type": "stream",
     "text": [
      "Epoch [200/1000], Training Loss: 1.7015, Accuracy: 0.5651\n",
      "Model saved at 'uet4rec64_ml_model_epoch_200.pth'\n"
     ]
    },
    {
     "name": "stderr",
     "output_type": "stream",
     "text": [
      "Epoch [201/1000]: 100%|██████████████████████████████████████████| 351/351 [00:24<00:00, 14.12batch/s, Batch Loss=1.83]\n"
     ]
    },
    {
     "name": "stdout",
     "output_type": "stream",
     "text": [
      "Epoch [201/1000], Training Loss: 1.7003, Accuracy: 0.5648\n"
     ]
    },
    {
     "name": "stderr",
     "output_type": "stream",
     "text": [
      "Epoch [202/1000]: 100%|██████████████████████████████████████████| 351/351 [00:25<00:00, 13.89batch/s, Batch Loss=1.75]\n"
     ]
    },
    {
     "name": "stdout",
     "output_type": "stream",
     "text": [
      "Epoch [202/1000], Training Loss: 1.6913, Accuracy: 0.5660\n"
     ]
    },
    {
     "name": "stderr",
     "output_type": "stream",
     "text": [
      "Epoch [203/1000]: 100%|██████████████████████████████████████████| 351/351 [00:24<00:00, 14.28batch/s, Batch Loss=1.83]\n"
     ]
    },
    {
     "name": "stdout",
     "output_type": "stream",
     "text": [
      "Epoch [203/1000], Training Loss: 1.6922, Accuracy: 0.5673\n"
     ]
    },
    {
     "name": "stderr",
     "output_type": "stream",
     "text": [
      "Epoch [204/1000]: 100%|███████████████████████████████████████████| 351/351 [00:25<00:00, 13.98batch/s, Batch Loss=1.7]\n"
     ]
    },
    {
     "name": "stdout",
     "output_type": "stream",
     "text": [
      "Epoch [204/1000], Training Loss: 1.6832, Accuracy: 0.5677\n"
     ]
    },
    {
     "name": "stderr",
     "output_type": "stream",
     "text": [
      "Epoch [205/1000]: 100%|██████████████████████████████████████████| 351/351 [00:24<00:00, 14.21batch/s, Batch Loss=1.68]\n"
     ]
    },
    {
     "name": "stdout",
     "output_type": "stream",
     "text": [
      "Epoch [205/1000], Training Loss: 1.6819, Accuracy: 0.5686\n"
     ]
    },
    {
     "name": "stderr",
     "output_type": "stream",
     "text": [
      "Epoch [206/1000]: 100%|██████████████████████████████████████████| 351/351 [00:25<00:00, 13.97batch/s, Batch Loss=1.79]\n"
     ]
    },
    {
     "name": "stdout",
     "output_type": "stream",
     "text": [
      "Epoch [206/1000], Training Loss: 1.6800, Accuracy: 0.5685\n"
     ]
    },
    {
     "name": "stderr",
     "output_type": "stream",
     "text": [
      "Epoch [207/1000]: 100%|███████████████████████████████████████████| 351/351 [00:25<00:00, 13.94batch/s, Batch Loss=1.6]\n"
     ]
    },
    {
     "name": "stdout",
     "output_type": "stream",
     "text": [
      "Epoch [207/1000], Training Loss: 1.6731, Accuracy: 0.5698\n"
     ]
    },
    {
     "name": "stderr",
     "output_type": "stream",
     "text": [
      "Epoch [208/1000]: 100%|██████████████████████████████████████████| 351/351 [00:25<00:00, 13.77batch/s, Batch Loss=1.88]\n"
     ]
    },
    {
     "name": "stdout",
     "output_type": "stream",
     "text": [
      "Epoch [208/1000], Training Loss: 1.6779, Accuracy: 0.5680\n"
     ]
    },
    {
     "name": "stderr",
     "output_type": "stream",
     "text": [
      "Epoch [209/1000]: 100%|██████████████████████████████████████████| 351/351 [00:25<00:00, 13.89batch/s, Batch Loss=1.58]\n"
     ]
    },
    {
     "name": "stdout",
     "output_type": "stream",
     "text": [
      "Epoch [209/1000], Training Loss: 1.6681, Accuracy: 0.5712\n"
     ]
    },
    {
     "name": "stderr",
     "output_type": "stream",
     "text": [
      "Epoch [210/1000]: 100%|██████████████████████████████████████████| 351/351 [00:25<00:00, 13.71batch/s, Batch Loss=1.56]\n"
     ]
    },
    {
     "name": "stdout",
     "output_type": "stream",
     "text": [
      "Epoch [210/1000], Training Loss: 1.6744, Accuracy: 0.5693\n"
     ]
    },
    {
     "name": "stderr",
     "output_type": "stream",
     "text": [
      "Epoch [211/1000]: 100%|██████████████████████████████████████████| 351/351 [00:26<00:00, 13.45batch/s, Batch Loss=1.89]\n"
     ]
    },
    {
     "name": "stdout",
     "output_type": "stream",
     "text": [
      "Epoch [211/1000], Training Loss: 1.6699, Accuracy: 0.5700\n"
     ]
    },
    {
     "name": "stderr",
     "output_type": "stream",
     "text": [
      "Epoch [212/1000]: 100%|██████████████████████████████████████████| 351/351 [00:26<00:00, 13.01batch/s, Batch Loss=1.86]\n"
     ]
    },
    {
     "name": "stdout",
     "output_type": "stream",
     "text": [
      "Epoch [212/1000], Training Loss: 1.6637, Accuracy: 0.5716\n"
     ]
    },
    {
     "name": "stderr",
     "output_type": "stream",
     "text": [
      "Epoch [213/1000]: 100%|██████████████████████████████████████████| 351/351 [00:25<00:00, 13.57batch/s, Batch Loss=1.68]\n"
     ]
    },
    {
     "name": "stdout",
     "output_type": "stream",
     "text": [
      "Epoch [213/1000], Training Loss: 1.6641, Accuracy: 0.5721\n"
     ]
    },
    {
     "name": "stderr",
     "output_type": "stream",
     "text": [
      "Epoch [214/1000]: 100%|██████████████████████████████████████████| 351/351 [00:24<00:00, 14.10batch/s, Batch Loss=1.69]\n"
     ]
    },
    {
     "name": "stdout",
     "output_type": "stream",
     "text": [
      "Epoch [214/1000], Training Loss: 1.6568, Accuracy: 0.5732\n"
     ]
    },
    {
     "name": "stderr",
     "output_type": "stream",
     "text": [
      "Epoch [215/1000]: 100%|██████████████████████████████████████████| 351/351 [00:24<00:00, 14.57batch/s, Batch Loss=1.79]\n"
     ]
    },
    {
     "name": "stdout",
     "output_type": "stream",
     "text": [
      "Epoch [215/1000], Training Loss: 1.6650, Accuracy: 0.5711\n"
     ]
    },
    {
     "name": "stderr",
     "output_type": "stream",
     "text": [
      "Epoch [216/1000]: 100%|███████████████████████████████████████████| 351/351 [00:25<00:00, 13.62batch/s, Batch Loss=1.5]\n"
     ]
    },
    {
     "name": "stdout",
     "output_type": "stream",
     "text": [
      "Epoch [216/1000], Training Loss: 1.6504, Accuracy: 0.5737\n"
     ]
    },
    {
     "name": "stderr",
     "output_type": "stream",
     "text": [
      "Epoch [217/1000]: 100%|██████████████████████████████████████████| 351/351 [00:25<00:00, 13.56batch/s, Batch Loss=1.49]\n"
     ]
    },
    {
     "name": "stdout",
     "output_type": "stream",
     "text": [
      "Epoch [217/1000], Training Loss: 1.6486, Accuracy: 0.5741\n"
     ]
    },
    {
     "name": "stderr",
     "output_type": "stream",
     "text": [
      "Epoch [218/1000]: 100%|██████████████████████████████████████████| 351/351 [00:26<00:00, 13.08batch/s, Batch Loss=1.74]\n"
     ]
    },
    {
     "name": "stdout",
     "output_type": "stream",
     "text": [
      "Epoch [218/1000], Training Loss: 1.6459, Accuracy: 0.5741\n"
     ]
    },
    {
     "name": "stderr",
     "output_type": "stream",
     "text": [
      "Epoch [219/1000]: 100%|██████████████████████████████████████████| 351/351 [00:25<00:00, 13.64batch/s, Batch Loss=1.66]\n"
     ]
    },
    {
     "name": "stdout",
     "output_type": "stream",
     "text": [
      "Epoch [219/1000], Training Loss: 1.6465, Accuracy: 0.5762\n"
     ]
    },
    {
     "name": "stderr",
     "output_type": "stream",
     "text": [
      "Epoch [220/1000]: 100%|██████████████████████████████████████████| 351/351 [00:25<00:00, 13.69batch/s, Batch Loss=1.62]\n"
     ]
    },
    {
     "name": "stdout",
     "output_type": "stream",
     "text": [
      "Epoch [220/1000], Training Loss: 1.6352, Accuracy: 0.5778\n"
     ]
    },
    {
     "name": "stderr",
     "output_type": "stream",
     "text": [
      "Epoch [221/1000]: 100%|██████████████████████████████████████████| 351/351 [00:24<00:00, 14.16batch/s, Batch Loss=1.96]\n"
     ]
    },
    {
     "name": "stdout",
     "output_type": "stream",
     "text": [
      "Epoch [221/1000], Training Loss: 1.6462, Accuracy: 0.5749\n"
     ]
    },
    {
     "name": "stderr",
     "output_type": "stream",
     "text": [
      "Epoch [222/1000]: 100%|██████████████████████████████████████████| 351/351 [00:24<00:00, 14.15batch/s, Batch Loss=1.83]\n"
     ]
    },
    {
     "name": "stdout",
     "output_type": "stream",
     "text": [
      "Epoch [222/1000], Training Loss: 1.6372, Accuracy: 0.5781\n"
     ]
    },
    {
     "name": "stderr",
     "output_type": "stream",
     "text": [
      "Epoch [223/1000]: 100%|██████████████████████████████████████████| 351/351 [00:23<00:00, 14.93batch/s, Batch Loss=1.66]\n"
     ]
    },
    {
     "name": "stdout",
     "output_type": "stream",
     "text": [
      "Epoch [223/1000], Training Loss: 1.6373, Accuracy: 0.5774\n"
     ]
    },
    {
     "name": "stderr",
     "output_type": "stream",
     "text": [
      "Epoch [224/1000]: 100%|██████████████████████████████████████████| 351/351 [00:23<00:00, 14.88batch/s, Batch Loss=1.53]\n"
     ]
    },
    {
     "name": "stdout",
     "output_type": "stream",
     "text": [
      "Epoch [224/1000], Training Loss: 1.6323, Accuracy: 0.5780\n"
     ]
    },
    {
     "name": "stderr",
     "output_type": "stream",
     "text": [
      "Epoch [225/1000]: 100%|██████████████████████████████████████████| 351/351 [00:23<00:00, 14.98batch/s, Batch Loss=1.84]\n"
     ]
    },
    {
     "name": "stdout",
     "output_type": "stream",
     "text": [
      "Epoch [225/1000], Training Loss: 1.6387, Accuracy: 0.5785\n"
     ]
    },
    {
     "name": "stderr",
     "output_type": "stream",
     "text": [
      "Epoch [226/1000]: 100%|██████████████████████████████████████████| 351/351 [00:23<00:00, 14.96batch/s, Batch Loss=1.68]\n"
     ]
    },
    {
     "name": "stdout",
     "output_type": "stream",
     "text": [
      "Epoch [226/1000], Training Loss: 1.6241, Accuracy: 0.5802\n"
     ]
    },
    {
     "name": "stderr",
     "output_type": "stream",
     "text": [
      "Epoch [227/1000]: 100%|██████████████████████████████████████████| 351/351 [00:23<00:00, 14.65batch/s, Batch Loss=1.91]\n"
     ]
    },
    {
     "name": "stdout",
     "output_type": "stream",
     "text": [
      "Epoch [227/1000], Training Loss: 1.6357, Accuracy: 0.5774\n"
     ]
    },
    {
     "name": "stderr",
     "output_type": "stream",
     "text": [
      "Epoch [228/1000]: 100%|██████████████████████████████████████████| 351/351 [00:25<00:00, 13.93batch/s, Batch Loss=1.72]\n"
     ]
    },
    {
     "name": "stdout",
     "output_type": "stream",
     "text": [
      "Epoch [228/1000], Training Loss: 1.6240, Accuracy: 0.5795\n"
     ]
    },
    {
     "name": "stderr",
     "output_type": "stream",
     "text": [
      "Epoch [229/1000]: 100%|██████████████████████████████████████████| 351/351 [00:24<00:00, 14.38batch/s, Batch Loss=1.77]\n"
     ]
    },
    {
     "name": "stdout",
     "output_type": "stream",
     "text": [
      "Epoch [229/1000], Training Loss: 1.6264, Accuracy: 0.5788\n"
     ]
    },
    {
     "name": "stderr",
     "output_type": "stream",
     "text": [
      "Epoch [230/1000]: 100%|██████████████████████████████████████████| 351/351 [00:23<00:00, 14.78batch/s, Batch Loss=1.85]\n"
     ]
    },
    {
     "name": "stdout",
     "output_type": "stream",
     "text": [
      "Epoch [230/1000], Training Loss: 1.6145, Accuracy: 0.5811\n"
     ]
    },
    {
     "name": "stderr",
     "output_type": "stream",
     "text": [
      "Epoch [231/1000]: 100%|██████████████████████████████████████████| 351/351 [00:23<00:00, 14.72batch/s, Batch Loss=1.62]\n"
     ]
    },
    {
     "name": "stdout",
     "output_type": "stream",
     "text": [
      "Epoch [231/1000], Training Loss: 1.6238, Accuracy: 0.5797\n"
     ]
    },
    {
     "name": "stderr",
     "output_type": "stream",
     "text": [
      "Epoch [232/1000]: 100%|██████████████████████████████████████████| 351/351 [00:23<00:00, 14.83batch/s, Batch Loss=1.67]\n"
     ]
    },
    {
     "name": "stdout",
     "output_type": "stream",
     "text": [
      "Epoch [232/1000], Training Loss: 1.6093, Accuracy: 0.5827\n"
     ]
    },
    {
     "name": "stderr",
     "output_type": "stream",
     "text": [
      "Epoch [233/1000]: 100%|██████████████████████████████████████████| 351/351 [00:23<00:00, 14.93batch/s, Batch Loss=1.72]\n"
     ]
    },
    {
     "name": "stdout",
     "output_type": "stream",
     "text": [
      "Epoch [233/1000], Training Loss: 1.6053, Accuracy: 0.5830\n"
     ]
    },
    {
     "name": "stderr",
     "output_type": "stream",
     "text": [
      "Epoch [234/1000]: 100%|██████████████████████████████████████████| 351/351 [00:23<00:00, 14.73batch/s, Batch Loss=1.72]\n"
     ]
    },
    {
     "name": "stdout",
     "output_type": "stream",
     "text": [
      "Epoch [234/1000], Training Loss: 1.6046, Accuracy: 0.5838\n"
     ]
    },
    {
     "name": "stderr",
     "output_type": "stream",
     "text": [
      "Epoch [235/1000]: 100%|███████████████████████████████████████████| 351/351 [00:25<00:00, 13.78batch/s, Batch Loss=1.8]\n"
     ]
    },
    {
     "name": "stdout",
     "output_type": "stream",
     "text": [
      "Epoch [235/1000], Training Loss: 1.6101, Accuracy: 0.5816\n"
     ]
    },
    {
     "name": "stderr",
     "output_type": "stream",
     "text": [
      "Epoch [236/1000]: 100%|██████████████████████████████████████████| 351/351 [00:23<00:00, 14.93batch/s, Batch Loss=1.65]\n"
     ]
    },
    {
     "name": "stdout",
     "output_type": "stream",
     "text": [
      "Epoch [236/1000], Training Loss: 1.6042, Accuracy: 0.5849\n"
     ]
    },
    {
     "name": "stderr",
     "output_type": "stream",
     "text": [
      "Epoch [237/1000]: 100%|██████████████████████████████████████████| 351/351 [00:24<00:00, 14.11batch/s, Batch Loss=1.75]\n"
     ]
    },
    {
     "name": "stdout",
     "output_type": "stream",
     "text": [
      "Epoch [237/1000], Training Loss: 1.5939, Accuracy: 0.5851\n"
     ]
    },
    {
     "name": "stderr",
     "output_type": "stream",
     "text": [
      "Epoch [238/1000]: 100%|██████████████████████████████████████████| 351/351 [00:23<00:00, 14.94batch/s, Batch Loss=1.78]\n"
     ]
    },
    {
     "name": "stdout",
     "output_type": "stream",
     "text": [
      "Epoch [238/1000], Training Loss: 1.6082, Accuracy: 0.5848\n"
     ]
    },
    {
     "name": "stderr",
     "output_type": "stream",
     "text": [
      "Epoch [239/1000]: 100%|██████████████████████████████████████████| 351/351 [00:24<00:00, 14.55batch/s, Batch Loss=1.54]\n"
     ]
    },
    {
     "name": "stdout",
     "output_type": "stream",
     "text": [
      "Epoch [239/1000], Training Loss: 1.5975, Accuracy: 0.5833\n"
     ]
    },
    {
     "name": "stderr",
     "output_type": "stream",
     "text": [
      "Epoch [240/1000]: 100%|███████████████████████████████████████████| 351/351 [00:25<00:00, 13.99batch/s, Batch Loss=1.7]\n"
     ]
    },
    {
     "name": "stdout",
     "output_type": "stream",
     "text": [
      "Epoch [240/1000], Training Loss: 1.5911, Accuracy: 0.5855\n"
     ]
    },
    {
     "name": "stderr",
     "output_type": "stream",
     "text": [
      "Epoch [241/1000]: 100%|██████████████████████████████████████████| 351/351 [00:25<00:00, 13.93batch/s, Batch Loss=1.45]\n"
     ]
    },
    {
     "name": "stdout",
     "output_type": "stream",
     "text": [
      "Epoch [241/1000], Training Loss: 1.5985, Accuracy: 0.5844\n"
     ]
    },
    {
     "name": "stderr",
     "output_type": "stream",
     "text": [
      "Epoch [242/1000]: 100%|██████████████████████████████████████████| 351/351 [00:24<00:00, 14.24batch/s, Batch Loss=1.53]\n"
     ]
    },
    {
     "name": "stdout",
     "output_type": "stream",
     "text": [
      "Epoch [242/1000], Training Loss: 1.5927, Accuracy: 0.5872\n"
     ]
    },
    {
     "name": "stderr",
     "output_type": "stream",
     "text": [
      "Epoch [243/1000]: 100%|██████████████████████████████████████████| 351/351 [00:24<00:00, 14.39batch/s, Batch Loss=1.78]\n"
     ]
    },
    {
     "name": "stdout",
     "output_type": "stream",
     "text": [
      "Epoch [243/1000], Training Loss: 1.5846, Accuracy: 0.5876\n"
     ]
    },
    {
     "name": "stderr",
     "output_type": "stream",
     "text": [
      "Epoch [244/1000]: 100%|██████████████████████████████████████████| 351/351 [00:23<00:00, 14.65batch/s, Batch Loss=1.46]\n"
     ]
    },
    {
     "name": "stdout",
     "output_type": "stream",
     "text": [
      "Epoch [244/1000], Training Loss: 1.5846, Accuracy: 0.5888\n"
     ]
    },
    {
     "name": "stderr",
     "output_type": "stream",
     "text": [
      "Epoch [245/1000]: 100%|██████████████████████████████████████████| 351/351 [00:23<00:00, 15.02batch/s, Batch Loss=1.69]\n"
     ]
    },
    {
     "name": "stdout",
     "output_type": "stream",
     "text": [
      "Epoch [245/1000], Training Loss: 1.5876, Accuracy: 0.5849\n"
     ]
    },
    {
     "name": "stderr",
     "output_type": "stream",
     "text": [
      "Epoch [246/1000]: 100%|██████████████████████████████████████████| 351/351 [00:23<00:00, 15.00batch/s, Batch Loss=1.67]\n"
     ]
    },
    {
     "name": "stdout",
     "output_type": "stream",
     "text": [
      "Epoch [246/1000], Training Loss: 1.5843, Accuracy: 0.5885\n"
     ]
    },
    {
     "name": "stderr",
     "output_type": "stream",
     "text": [
      "Epoch [247/1000]: 100%|██████████████████████████████████████████| 351/351 [00:23<00:00, 14.84batch/s, Batch Loss=1.74]\n"
     ]
    },
    {
     "name": "stdout",
     "output_type": "stream",
     "text": [
      "Epoch [247/1000], Training Loss: 1.5677, Accuracy: 0.5926\n"
     ]
    },
    {
     "name": "stderr",
     "output_type": "stream",
     "text": [
      "Epoch [248/1000]: 100%|██████████████████████████████████████████| 351/351 [00:24<00:00, 14.15batch/s, Batch Loss=1.74]\n"
     ]
    },
    {
     "name": "stdout",
     "output_type": "stream",
     "text": [
      "Epoch [248/1000], Training Loss: 1.5788, Accuracy: 0.5881\n"
     ]
    },
    {
     "name": "stderr",
     "output_type": "stream",
     "text": [
      "Epoch [249/1000]: 100%|██████████████████████████████████████████| 351/351 [00:25<00:00, 13.83batch/s, Batch Loss=1.89]\n"
     ]
    },
    {
     "name": "stdout",
     "output_type": "stream",
     "text": [
      "Epoch [249/1000], Training Loss: 1.5791, Accuracy: 0.5887\n"
     ]
    },
    {
     "name": "stderr",
     "output_type": "stream",
     "text": [
      "Epoch [250/1000]: 100%|██████████████████████████████████████████| 351/351 [00:25<00:00, 13.52batch/s, Batch Loss=1.68]\n"
     ]
    },
    {
     "name": "stdout",
     "output_type": "stream",
     "text": [
      "Epoch [250/1000], Training Loss: 1.5735, Accuracy: 0.5900\n",
      "Model saved at 'uet4rec64_ml_model_epoch_250.pth'\n"
     ]
    },
    {
     "name": "stderr",
     "output_type": "stream",
     "text": [
      "Epoch [251/1000]: 100%|██████████████████████████████████████████| 351/351 [00:26<00:00, 13.30batch/s, Batch Loss=1.74]\n"
     ]
    },
    {
     "name": "stdout",
     "output_type": "stream",
     "text": [
      "Epoch [251/1000], Training Loss: 1.5733, Accuracy: 0.5932\n"
     ]
    },
    {
     "name": "stderr",
     "output_type": "stream",
     "text": [
      "Epoch [252/1000]: 100%|██████████████████████████████████████████| 351/351 [00:24<00:00, 14.08batch/s, Batch Loss=1.63]\n"
     ]
    },
    {
     "name": "stdout",
     "output_type": "stream",
     "text": [
      "Epoch [252/1000], Training Loss: 1.5710, Accuracy: 0.5894\n"
     ]
    },
    {
     "name": "stderr",
     "output_type": "stream",
     "text": [
      "Epoch [253/1000]: 100%|██████████████████████████████████████████| 351/351 [00:24<00:00, 14.25batch/s, Batch Loss=1.81]\n"
     ]
    },
    {
     "name": "stdout",
     "output_type": "stream",
     "text": [
      "Epoch [253/1000], Training Loss: 1.5653, Accuracy: 0.5905\n"
     ]
    },
    {
     "name": "stderr",
     "output_type": "stream",
     "text": [
      "Epoch [254/1000]: 100%|██████████████████████████████████████████| 351/351 [00:24<00:00, 14.23batch/s, Batch Loss=1.81]\n"
     ]
    },
    {
     "name": "stdout",
     "output_type": "stream",
     "text": [
      "Epoch [254/1000], Training Loss: 1.5610, Accuracy: 0.5923\n"
     ]
    },
    {
     "name": "stderr",
     "output_type": "stream",
     "text": [
      "Epoch [255/1000]: 100%|███████████████████████████████████████████| 351/351 [00:25<00:00, 14.01batch/s, Batch Loss=1.6]\n"
     ]
    },
    {
     "name": "stdout",
     "output_type": "stream",
     "text": [
      "Epoch [255/1000], Training Loss: 1.5648, Accuracy: 0.5941\n"
     ]
    },
    {
     "name": "stderr",
     "output_type": "stream",
     "text": [
      "Epoch [256/1000]: 100%|██████████████████████████████████████████| 351/351 [00:25<00:00, 14.00batch/s, Batch Loss=1.62]\n"
     ]
    },
    {
     "name": "stdout",
     "output_type": "stream",
     "text": [
      "Epoch [256/1000], Training Loss: 1.5632, Accuracy: 0.5918\n"
     ]
    },
    {
     "name": "stderr",
     "output_type": "stream",
     "text": [
      "Epoch [257/1000]: 100%|██████████████████████████████████████████| 351/351 [00:24<00:00, 14.25batch/s, Batch Loss=1.75]\n"
     ]
    },
    {
     "name": "stdout",
     "output_type": "stream",
     "text": [
      "Epoch [257/1000], Training Loss: 1.5551, Accuracy: 0.5954\n"
     ]
    },
    {
     "name": "stderr",
     "output_type": "stream",
     "text": [
      "Epoch [258/1000]: 100%|██████████████████████████████████████████| 351/351 [00:24<00:00, 14.24batch/s, Batch Loss=1.74]\n"
     ]
    },
    {
     "name": "stdout",
     "output_type": "stream",
     "text": [
      "Epoch [258/1000], Training Loss: 1.5558, Accuracy: 0.5923\n"
     ]
    },
    {
     "name": "stderr",
     "output_type": "stream",
     "text": [
      "Epoch [259/1000]: 100%|███████████████████████████████████████████| 351/351 [00:25<00:00, 13.82batch/s, Batch Loss=1.7]\n"
     ]
    },
    {
     "name": "stdout",
     "output_type": "stream",
     "text": [
      "Epoch [259/1000], Training Loss: 1.5473, Accuracy: 0.5955\n"
     ]
    },
    {
     "name": "stderr",
     "output_type": "stream",
     "text": [
      "Epoch [260/1000]: 100%|██████████████████████████████████████████| 351/351 [00:25<00:00, 13.89batch/s, Batch Loss=1.45]\n"
     ]
    },
    {
     "name": "stdout",
     "output_type": "stream",
     "text": [
      "Epoch [260/1000], Training Loss: 1.5525, Accuracy: 0.5942\n"
     ]
    },
    {
     "name": "stderr",
     "output_type": "stream",
     "text": [
      "Epoch [261/1000]: 100%|██████████████████████████████████████████| 351/351 [00:24<00:00, 14.29batch/s, Batch Loss=1.54]\n"
     ]
    },
    {
     "name": "stdout",
     "output_type": "stream",
     "text": [
      "Epoch [261/1000], Training Loss: 1.5505, Accuracy: 0.5954\n"
     ]
    },
    {
     "name": "stderr",
     "output_type": "stream",
     "text": [
      "Epoch [262/1000]: 100%|██████████████████████████████████████████| 351/351 [00:24<00:00, 14.31batch/s, Batch Loss=1.63]\n"
     ]
    },
    {
     "name": "stdout",
     "output_type": "stream",
     "text": [
      "Epoch [262/1000], Training Loss: 1.5450, Accuracy: 0.5978\n"
     ]
    },
    {
     "name": "stderr",
     "output_type": "stream",
     "text": [
      "Epoch [263/1000]: 100%|██████████████████████████████████████████| 351/351 [00:25<00:00, 13.65batch/s, Batch Loss=1.65]\n"
     ]
    },
    {
     "name": "stdout",
     "output_type": "stream",
     "text": [
      "Epoch [263/1000], Training Loss: 1.5478, Accuracy: 0.5940\n"
     ]
    },
    {
     "name": "stderr",
     "output_type": "stream",
     "text": [
      "Epoch [264/1000]: 100%|██████████████████████████████████████████| 351/351 [00:25<00:00, 13.69batch/s, Batch Loss=1.59]\n"
     ]
    },
    {
     "name": "stdout",
     "output_type": "stream",
     "text": [
      "Epoch [264/1000], Training Loss: 1.5498, Accuracy: 0.5957\n"
     ]
    },
    {
     "name": "stderr",
     "output_type": "stream",
     "text": [
      "Epoch [265/1000]: 100%|██████████████████████████████████████████| 351/351 [00:24<00:00, 14.21batch/s, Batch Loss=1.95]\n"
     ]
    },
    {
     "name": "stdout",
     "output_type": "stream",
     "text": [
      "Epoch [265/1000], Training Loss: 1.5435, Accuracy: 0.5968\n"
     ]
    },
    {
     "name": "stderr",
     "output_type": "stream",
     "text": [
      "Epoch [266/1000]: 100%|██████████████████████████████████████████| 351/351 [00:24<00:00, 14.41batch/s, Batch Loss=1.77]\n"
     ]
    },
    {
     "name": "stdout",
     "output_type": "stream",
     "text": [
      "Epoch [266/1000], Training Loss: 1.5412, Accuracy: 0.5958\n"
     ]
    },
    {
     "name": "stderr",
     "output_type": "stream",
     "text": [
      "Epoch [267/1000]: 100%|██████████████████████████████████████████| 351/351 [00:25<00:00, 13.82batch/s, Batch Loss=1.63]\n"
     ]
    },
    {
     "name": "stdout",
     "output_type": "stream",
     "text": [
      "Epoch [267/1000], Training Loss: 1.5361, Accuracy: 0.5982\n"
     ]
    },
    {
     "name": "stderr",
     "output_type": "stream",
     "text": [
      "Epoch [268/1000]: 100%|██████████████████████████████████████████| 351/351 [00:24<00:00, 14.12batch/s, Batch Loss=1.61]\n"
     ]
    },
    {
     "name": "stdout",
     "output_type": "stream",
     "text": [
      "Epoch [268/1000], Training Loss: 1.5329, Accuracy: 0.5977\n"
     ]
    },
    {
     "name": "stderr",
     "output_type": "stream",
     "text": [
      "Epoch [269/1000]: 100%|██████████████████████████████████████████| 351/351 [00:25<00:00, 14.00batch/s, Batch Loss=1.77]\n"
     ]
    },
    {
     "name": "stdout",
     "output_type": "stream",
     "text": [
      "Epoch [269/1000], Training Loss: 1.5364, Accuracy: 0.5998\n"
     ]
    },
    {
     "name": "stderr",
     "output_type": "stream",
     "text": [
      "Epoch [270/1000]: 100%|██████████████████████████████████████████| 351/351 [00:24<00:00, 14.16batch/s, Batch Loss=1.34]\n"
     ]
    },
    {
     "name": "stdout",
     "output_type": "stream",
     "text": [
      "Epoch [270/1000], Training Loss: 1.5213, Accuracy: 0.6020\n"
     ]
    },
    {
     "name": "stderr",
     "output_type": "stream",
     "text": [
      "Epoch [271/1000]: 100%|██████████████████████████████████████████| 351/351 [00:25<00:00, 13.87batch/s, Batch Loss=1.77]\n"
     ]
    },
    {
     "name": "stdout",
     "output_type": "stream",
     "text": [
      "Epoch [271/1000], Training Loss: 1.5281, Accuracy: 0.6014\n"
     ]
    },
    {
     "name": "stderr",
     "output_type": "stream",
     "text": [
      "Epoch [272/1000]: 100%|██████████████████████████████████████████| 351/351 [00:24<00:00, 14.13batch/s, Batch Loss=1.45]\n"
     ]
    },
    {
     "name": "stdout",
     "output_type": "stream",
     "text": [
      "Epoch [272/1000], Training Loss: 1.5330, Accuracy: 0.5995\n"
     ]
    },
    {
     "name": "stderr",
     "output_type": "stream",
     "text": [
      "Epoch [273/1000]: 100%|██████████████████████████████████████████| 351/351 [00:24<00:00, 14.29batch/s, Batch Loss=1.43]\n"
     ]
    },
    {
     "name": "stdout",
     "output_type": "stream",
     "text": [
      "Epoch [273/1000], Training Loss: 1.5233, Accuracy: 0.6024\n"
     ]
    },
    {
     "name": "stderr",
     "output_type": "stream",
     "text": [
      "Epoch [274/1000]: 100%|██████████████████████████████████████████| 351/351 [00:24<00:00, 14.46batch/s, Batch Loss=1.41]\n"
     ]
    },
    {
     "name": "stdout",
     "output_type": "stream",
     "text": [
      "Epoch [274/1000], Training Loss: 1.5190, Accuracy: 0.5995\n"
     ]
    },
    {
     "name": "stderr",
     "output_type": "stream",
     "text": [
      "Epoch [275/1000]: 100%|██████████████████████████████████████████| 351/351 [00:24<00:00, 14.53batch/s, Batch Loss=1.86]\n"
     ]
    },
    {
     "name": "stdout",
     "output_type": "stream",
     "text": [
      "Epoch [275/1000], Training Loss: 1.5262, Accuracy: 0.6002\n"
     ]
    },
    {
     "name": "stderr",
     "output_type": "stream",
     "text": [
      "Epoch [276/1000]: 100%|██████████████████████████████████████████| 351/351 [00:24<00:00, 14.50batch/s, Batch Loss=1.52]\n"
     ]
    },
    {
     "name": "stdout",
     "output_type": "stream",
     "text": [
      "Epoch [276/1000], Training Loss: 1.5194, Accuracy: 0.6008\n"
     ]
    },
    {
     "name": "stderr",
     "output_type": "stream",
     "text": [
      "Epoch [277/1000]: 100%|███████████████████████████████████████████| 351/351 [00:24<00:00, 14.61batch/s, Batch Loss=1.5]\n"
     ]
    },
    {
     "name": "stdout",
     "output_type": "stream",
     "text": [
      "Epoch [277/1000], Training Loss: 1.5206, Accuracy: 0.6022\n"
     ]
    },
    {
     "name": "stderr",
     "output_type": "stream",
     "text": [
      "Epoch [278/1000]: 100%|██████████████████████████████████████████| 351/351 [00:24<00:00, 14.07batch/s, Batch Loss=1.41]\n"
     ]
    },
    {
     "name": "stdout",
     "output_type": "stream",
     "text": [
      "Epoch [278/1000], Training Loss: 1.5147, Accuracy: 0.6030\n"
     ]
    },
    {
     "name": "stderr",
     "output_type": "stream",
     "text": [
      "Epoch [279/1000]: 100%|██████████████████████████████████████████| 351/351 [00:24<00:00, 14.12batch/s, Batch Loss=1.77]\n"
     ]
    },
    {
     "name": "stdout",
     "output_type": "stream",
     "text": [
      "Epoch [279/1000], Training Loss: 1.5111, Accuracy: 0.6023\n"
     ]
    },
    {
     "name": "stderr",
     "output_type": "stream",
     "text": [
      "Epoch [280/1000]: 100%|██████████████████████████████████████████| 351/351 [00:24<00:00, 14.39batch/s, Batch Loss=1.38]\n"
     ]
    },
    {
     "name": "stdout",
     "output_type": "stream",
     "text": [
      "Epoch [280/1000], Training Loss: 1.5149, Accuracy: 0.6030\n"
     ]
    },
    {
     "name": "stderr",
     "output_type": "stream",
     "text": [
      "Epoch [281/1000]: 100%|██████████████████████████████████████████| 351/351 [00:24<00:00, 14.22batch/s, Batch Loss=1.72]\n"
     ]
    },
    {
     "name": "stdout",
     "output_type": "stream",
     "text": [
      "Epoch [281/1000], Training Loss: 1.5158, Accuracy: 0.6021\n"
     ]
    },
    {
     "name": "stderr",
     "output_type": "stream",
     "text": [
      "Epoch [282/1000]: 100%|██████████████████████████████████████████| 351/351 [00:25<00:00, 14.01batch/s, Batch Loss=1.59]\n"
     ]
    },
    {
     "name": "stdout",
     "output_type": "stream",
     "text": [
      "Epoch [282/1000], Training Loss: 1.5061, Accuracy: 0.6039\n"
     ]
    },
    {
     "name": "stderr",
     "output_type": "stream",
     "text": [
      "Epoch [283/1000]: 100%|██████████████████████████████████████████| 351/351 [00:24<00:00, 14.27batch/s, Batch Loss=1.61]\n"
     ]
    },
    {
     "name": "stdout",
     "output_type": "stream",
     "text": [
      "Epoch [283/1000], Training Loss: 1.5031, Accuracy: 0.6058\n"
     ]
    },
    {
     "name": "stderr",
     "output_type": "stream",
     "text": [
      "Epoch [284/1000]: 100%|██████████████████████████████████████████| 351/351 [00:24<00:00, 14.44batch/s, Batch Loss=1.47]\n"
     ]
    },
    {
     "name": "stdout",
     "output_type": "stream",
     "text": [
      "Epoch [284/1000], Training Loss: 1.5034, Accuracy: 0.6059\n"
     ]
    },
    {
     "name": "stderr",
     "output_type": "stream",
     "text": [
      "Epoch [285/1000]: 100%|██████████████████████████████████████████| 351/351 [00:24<00:00, 14.35batch/s, Batch Loss=1.74]\n"
     ]
    },
    {
     "name": "stdout",
     "output_type": "stream",
     "text": [
      "Epoch [285/1000], Training Loss: 1.5023, Accuracy: 0.6043\n"
     ]
    },
    {
     "name": "stderr",
     "output_type": "stream",
     "text": [
      "Epoch [286/1000]: 100%|██████████████████████████████████████████| 351/351 [00:24<00:00, 14.36batch/s, Batch Loss=1.73]\n"
     ]
    },
    {
     "name": "stdout",
     "output_type": "stream",
     "text": [
      "Epoch [286/1000], Training Loss: 1.5053, Accuracy: 0.6029\n"
     ]
    },
    {
     "name": "stderr",
     "output_type": "stream",
     "text": [
      "Epoch [287/1000]: 100%|██████████████████████████████████████████| 351/351 [00:24<00:00, 14.08batch/s, Batch Loss=1.48]\n"
     ]
    },
    {
     "name": "stdout",
     "output_type": "stream",
     "text": [
      "Epoch [287/1000], Training Loss: 1.5001, Accuracy: 0.6058\n"
     ]
    },
    {
     "name": "stderr",
     "output_type": "stream",
     "text": [
      "Epoch [288/1000]: 100%|██████████████████████████████████████████| 351/351 [00:24<00:00, 14.31batch/s, Batch Loss=1.76]\n"
     ]
    },
    {
     "name": "stdout",
     "output_type": "stream",
     "text": [
      "Epoch [288/1000], Training Loss: 1.5014, Accuracy: 0.6049\n"
     ]
    },
    {
     "name": "stderr",
     "output_type": "stream",
     "text": [
      "Epoch [289/1000]: 100%|██████████████████████████████████████████| 351/351 [00:24<00:00, 14.22batch/s, Batch Loss=1.49]\n"
     ]
    },
    {
     "name": "stdout",
     "output_type": "stream",
     "text": [
      "Epoch [289/1000], Training Loss: 1.4980, Accuracy: 0.6055\n"
     ]
    },
    {
     "name": "stderr",
     "output_type": "stream",
     "text": [
      "Epoch [290/1000]: 100%|██████████████████████████████████████████| 351/351 [00:24<00:00, 14.20batch/s, Batch Loss=1.54]\n"
     ]
    },
    {
     "name": "stdout",
     "output_type": "stream",
     "text": [
      "Epoch [290/1000], Training Loss: 1.4933, Accuracy: 0.6063\n"
     ]
    },
    {
     "name": "stderr",
     "output_type": "stream",
     "text": [
      "Epoch [291/1000]: 100%|███████████████████████████████████████████| 351/351 [00:24<00:00, 14.16batch/s, Batch Loss=1.7]\n"
     ]
    },
    {
     "name": "stdout",
     "output_type": "stream",
     "text": [
      "Epoch [291/1000], Training Loss: 1.4967, Accuracy: 0.6062\n"
     ]
    },
    {
     "name": "stderr",
     "output_type": "stream",
     "text": [
      "Epoch [292/1000]: 100%|██████████████████████████████████████████| 351/351 [00:24<00:00, 14.15batch/s, Batch Loss=1.64]\n"
     ]
    },
    {
     "name": "stdout",
     "output_type": "stream",
     "text": [
      "Epoch [292/1000], Training Loss: 1.4957, Accuracy: 0.6065\n"
     ]
    },
    {
     "name": "stderr",
     "output_type": "stream",
     "text": [
      "Epoch [293/1000]: 100%|██████████████████████████████████████████| 351/351 [00:24<00:00, 14.19batch/s, Batch Loss=1.69]\n"
     ]
    },
    {
     "name": "stdout",
     "output_type": "stream",
     "text": [
      "Epoch [293/1000], Training Loss: 1.4915, Accuracy: 0.6070\n"
     ]
    },
    {
     "name": "stderr",
     "output_type": "stream",
     "text": [
      "Epoch [294/1000]: 100%|██████████████████████████████████████████| 351/351 [00:24<00:00, 14.31batch/s, Batch Loss=1.59]\n"
     ]
    },
    {
     "name": "stdout",
     "output_type": "stream",
     "text": [
      "Epoch [294/1000], Training Loss: 1.4935, Accuracy: 0.6053\n"
     ]
    },
    {
     "name": "stderr",
     "output_type": "stream",
     "text": [
      "Epoch [295/1000]: 100%|██████████████████████████████████████████| 351/351 [00:24<00:00, 14.37batch/s, Batch Loss=1.64]\n"
     ]
    },
    {
     "name": "stdout",
     "output_type": "stream",
     "text": [
      "Epoch [295/1000], Training Loss: 1.4973, Accuracy: 0.6055\n"
     ]
    },
    {
     "name": "stderr",
     "output_type": "stream",
     "text": [
      "Epoch [296/1000]: 100%|██████████████████████████████████████████| 351/351 [00:24<00:00, 14.30batch/s, Batch Loss=1.58]\n"
     ]
    },
    {
     "name": "stdout",
     "output_type": "stream",
     "text": [
      "Epoch [296/1000], Training Loss: 1.4820, Accuracy: 0.6108\n"
     ]
    },
    {
     "name": "stderr",
     "output_type": "stream",
     "text": [
      "Epoch [297/1000]: 100%|██████████████████████████████████████████| 351/351 [00:24<00:00, 14.35batch/s, Batch Loss=1.63]\n"
     ]
    },
    {
     "name": "stdout",
     "output_type": "stream",
     "text": [
      "Epoch [297/1000], Training Loss: 1.4801, Accuracy: 0.6098\n"
     ]
    },
    {
     "name": "stderr",
     "output_type": "stream",
     "text": [
      "Epoch [298/1000]: 100%|██████████████████████████████████████████| 351/351 [00:24<00:00, 14.25batch/s, Batch Loss=1.56]\n"
     ]
    },
    {
     "name": "stdout",
     "output_type": "stream",
     "text": [
      "Epoch [298/1000], Training Loss: 1.4773, Accuracy: 0.6106\n"
     ]
    },
    {
     "name": "stderr",
     "output_type": "stream",
     "text": [
      "Epoch [299/1000]: 100%|██████████████████████████████████████████| 351/351 [00:24<00:00, 14.40batch/s, Batch Loss=1.44]\n"
     ]
    },
    {
     "name": "stdout",
     "output_type": "stream",
     "text": [
      "Epoch [299/1000], Training Loss: 1.4861, Accuracy: 0.6096\n"
     ]
    },
    {
     "name": "stderr",
     "output_type": "stream",
     "text": [
      "Epoch [300/1000]: 100%|██████████████████████████████████████████| 351/351 [00:24<00:00, 14.42batch/s, Batch Loss=1.62]\n"
     ]
    },
    {
     "name": "stdout",
     "output_type": "stream",
     "text": [
      "Epoch [300/1000], Training Loss: 1.4736, Accuracy: 0.6106\n",
      "Model saved at 'uet4rec64_ml_model_epoch_300.pth'\n"
     ]
    },
    {
     "name": "stderr",
     "output_type": "stream",
     "text": [
      "Epoch [301/1000]: 100%|██████████████████████████████████████████| 351/351 [00:24<00:00, 14.32batch/s, Batch Loss=1.77]\n"
     ]
    },
    {
     "name": "stdout",
     "output_type": "stream",
     "text": [
      "Epoch [301/1000], Training Loss: 1.4737, Accuracy: 0.6107\n"
     ]
    },
    {
     "name": "stderr",
     "output_type": "stream",
     "text": [
      "Epoch [302/1000]: 100%|██████████████████████████████████████████| 351/351 [00:24<00:00, 14.18batch/s, Batch Loss=1.72]\n"
     ]
    },
    {
     "name": "stdout",
     "output_type": "stream",
     "text": [
      "Epoch [302/1000], Training Loss: 1.4786, Accuracy: 0.6106\n"
     ]
    },
    {
     "name": "stderr",
     "output_type": "stream",
     "text": [
      "Epoch [303/1000]: 100%|███████████████████████████████████████████| 351/351 [00:24<00:00, 14.33batch/s, Batch Loss=1.5]\n"
     ]
    },
    {
     "name": "stdout",
     "output_type": "stream",
     "text": [
      "Epoch [303/1000], Training Loss: 1.4683, Accuracy: 0.6111\n"
     ]
    },
    {
     "name": "stderr",
     "output_type": "stream",
     "text": [
      "Epoch [304/1000]: 100%|██████████████████████████████████████████| 351/351 [00:23<00:00, 14.65batch/s, Batch Loss=1.57]\n"
     ]
    },
    {
     "name": "stdout",
     "output_type": "stream",
     "text": [
      "Epoch [304/1000], Training Loss: 1.4644, Accuracy: 0.6127\n"
     ]
    },
    {
     "name": "stderr",
     "output_type": "stream",
     "text": [
      "Epoch [305/1000]: 100%|██████████████████████████████████████████| 351/351 [00:24<00:00, 14.21batch/s, Batch Loss=1.75]\n"
     ]
    },
    {
     "name": "stdout",
     "output_type": "stream",
     "text": [
      "Epoch [305/1000], Training Loss: 1.4672, Accuracy: 0.6126\n"
     ]
    },
    {
     "name": "stderr",
     "output_type": "stream",
     "text": [
      "Epoch [306/1000]: 100%|██████████████████████████████████████████| 351/351 [00:23<00:00, 14.89batch/s, Batch Loss=1.53]\n"
     ]
    },
    {
     "name": "stdout",
     "output_type": "stream",
     "text": [
      "Epoch [306/1000], Training Loss: 1.4627, Accuracy: 0.6135\n"
     ]
    },
    {
     "name": "stderr",
     "output_type": "stream",
     "text": [
      "Epoch [307/1000]: 100%|██████████████████████████████████████████| 351/351 [00:23<00:00, 14.88batch/s, Batch Loss=1.59]\n"
     ]
    },
    {
     "name": "stdout",
     "output_type": "stream",
     "text": [
      "Epoch [307/1000], Training Loss: 1.4561, Accuracy: 0.6162\n"
     ]
    },
    {
     "name": "stderr",
     "output_type": "stream",
     "text": [
      "Epoch [308/1000]: 100%|██████████████████████████████████████████| 351/351 [00:23<00:00, 14.75batch/s, Batch Loss=1.54]\n"
     ]
    },
    {
     "name": "stdout",
     "output_type": "stream",
     "text": [
      "Epoch [308/1000], Training Loss: 1.4605, Accuracy: 0.6145\n"
     ]
    },
    {
     "name": "stderr",
     "output_type": "stream",
     "text": [
      "Epoch [309/1000]: 100%|██████████████████████████████████████████| 351/351 [00:24<00:00, 14.26batch/s, Batch Loss=1.44]\n"
     ]
    },
    {
     "name": "stdout",
     "output_type": "stream",
     "text": [
      "Epoch [309/1000], Training Loss: 1.4550, Accuracy: 0.6154\n"
     ]
    },
    {
     "name": "stderr",
     "output_type": "stream",
     "text": [
      "Epoch [310/1000]: 100%|██████████████████████████████████████████| 351/351 [00:24<00:00, 14.46batch/s, Batch Loss=1.31]\n"
     ]
    },
    {
     "name": "stdout",
     "output_type": "stream",
     "text": [
      "Epoch [310/1000], Training Loss: 1.4667, Accuracy: 0.6098\n"
     ]
    },
    {
     "name": "stderr",
     "output_type": "stream",
     "text": [
      "Epoch [311/1000]: 100%|██████████████████████████████████████████| 351/351 [00:24<00:00, 14.35batch/s, Batch Loss=1.81]\n"
     ]
    },
    {
     "name": "stdout",
     "output_type": "stream",
     "text": [
      "Epoch [311/1000], Training Loss: 1.4658, Accuracy: 0.6131\n"
     ]
    },
    {
     "name": "stderr",
     "output_type": "stream",
     "text": [
      "Epoch [312/1000]: 100%|██████████████████████████████████████████| 351/351 [00:24<00:00, 14.34batch/s, Batch Loss=1.48]\n"
     ]
    },
    {
     "name": "stdout",
     "output_type": "stream",
     "text": [
      "Epoch [312/1000], Training Loss: 1.4608, Accuracy: 0.6125\n"
     ]
    },
    {
     "name": "stderr",
     "output_type": "stream",
     "text": [
      "Epoch [313/1000]: 100%|██████████████████████████████████████████| 351/351 [00:23<00:00, 14.70batch/s, Batch Loss=1.52]\n"
     ]
    },
    {
     "name": "stdout",
     "output_type": "stream",
     "text": [
      "Epoch [313/1000], Training Loss: 1.4561, Accuracy: 0.6139\n"
     ]
    },
    {
     "name": "stderr",
     "output_type": "stream",
     "text": [
      "Epoch [314/1000]: 100%|██████████████████████████████████████████| 351/351 [00:24<00:00, 14.41batch/s, Batch Loss=1.84]\n"
     ]
    },
    {
     "name": "stdout",
     "output_type": "stream",
     "text": [
      "Epoch [314/1000], Training Loss: 1.4551, Accuracy: 0.6140\n"
     ]
    },
    {
     "name": "stderr",
     "output_type": "stream",
     "text": [
      "Epoch [315/1000]: 100%|██████████████████████████████████████████| 351/351 [00:25<00:00, 13.82batch/s, Batch Loss=1.41]\n"
     ]
    },
    {
     "name": "stdout",
     "output_type": "stream",
     "text": [
      "Epoch [315/1000], Training Loss: 1.4570, Accuracy: 0.6132\n"
     ]
    },
    {
     "name": "stderr",
     "output_type": "stream",
     "text": [
      "Epoch [316/1000]: 100%|██████████████████████████████████████████| 351/351 [00:24<00:00, 14.12batch/s, Batch Loss=1.73]\n"
     ]
    },
    {
     "name": "stdout",
     "output_type": "stream",
     "text": [
      "Epoch [316/1000], Training Loss: 1.4518, Accuracy: 0.6166\n"
     ]
    },
    {
     "name": "stderr",
     "output_type": "stream",
     "text": [
      "Epoch [317/1000]: 100%|███████████████████████████████████████████| 351/351 [00:25<00:00, 14.03batch/s, Batch Loss=1.6]\n"
     ]
    },
    {
     "name": "stdout",
     "output_type": "stream",
     "text": [
      "Epoch [317/1000], Training Loss: 1.4573, Accuracy: 0.6150\n"
     ]
    },
    {
     "name": "stderr",
     "output_type": "stream",
     "text": [
      "Epoch [318/1000]: 100%|██████████████████████████████████████████| 351/351 [00:23<00:00, 14.71batch/s, Batch Loss=1.32]\n"
     ]
    },
    {
     "name": "stdout",
     "output_type": "stream",
     "text": [
      "Epoch [318/1000], Training Loss: 1.4443, Accuracy: 0.6157\n"
     ]
    },
    {
     "name": "stderr",
     "output_type": "stream",
     "text": [
      "Epoch [319/1000]: 100%|██████████████████████████████████████████| 351/351 [00:23<00:00, 14.90batch/s, Batch Loss=1.41]\n"
     ]
    },
    {
     "name": "stdout",
     "output_type": "stream",
     "text": [
      "Epoch [319/1000], Training Loss: 1.4438, Accuracy: 0.6174\n"
     ]
    },
    {
     "name": "stderr",
     "output_type": "stream",
     "text": [
      "Epoch [320/1000]: 100%|██████████████████████████████████████████| 351/351 [00:25<00:00, 14.02batch/s, Batch Loss=1.64]\n"
     ]
    },
    {
     "name": "stdout",
     "output_type": "stream",
     "text": [
      "Epoch [320/1000], Training Loss: 1.4420, Accuracy: 0.6167\n"
     ]
    },
    {
     "name": "stderr",
     "output_type": "stream",
     "text": [
      "Epoch [321/1000]: 100%|██████████████████████████████████████████| 351/351 [00:25<00:00, 14.00batch/s, Batch Loss=1.45]\n"
     ]
    },
    {
     "name": "stdout",
     "output_type": "stream",
     "text": [
      "Epoch [321/1000], Training Loss: 1.4453, Accuracy: 0.6157\n"
     ]
    },
    {
     "name": "stderr",
     "output_type": "stream",
     "text": [
      "Epoch [322/1000]: 100%|██████████████████████████████████████████| 351/351 [00:24<00:00, 14.11batch/s, Batch Loss=1.68]\n"
     ]
    },
    {
     "name": "stdout",
     "output_type": "stream",
     "text": [
      "Epoch [322/1000], Training Loss: 1.4435, Accuracy: 0.6179\n"
     ]
    },
    {
     "name": "stderr",
     "output_type": "stream",
     "text": [
      "Epoch [323/1000]: 100%|██████████████████████████████████████████| 351/351 [00:24<00:00, 14.49batch/s, Batch Loss=1.48]\n"
     ]
    },
    {
     "name": "stdout",
     "output_type": "stream",
     "text": [
      "Epoch [323/1000], Training Loss: 1.4451, Accuracy: 0.6172\n"
     ]
    },
    {
     "name": "stderr",
     "output_type": "stream",
     "text": [
      "Epoch [324/1000]: 100%|██████████████████████████████████████████| 351/351 [00:24<00:00, 14.11batch/s, Batch Loss=1.53]\n"
     ]
    },
    {
     "name": "stdout",
     "output_type": "stream",
     "text": [
      "Epoch [324/1000], Training Loss: 1.4393, Accuracy: 0.6161\n"
     ]
    },
    {
     "name": "stderr",
     "output_type": "stream",
     "text": [
      "Epoch [325/1000]: 100%|██████████████████████████████████████████| 351/351 [00:23<00:00, 14.76batch/s, Batch Loss=1.47]\n"
     ]
    },
    {
     "name": "stdout",
     "output_type": "stream",
     "text": [
      "Epoch [325/1000], Training Loss: 1.4396, Accuracy: 0.6170\n"
     ]
    },
    {
     "name": "stderr",
     "output_type": "stream",
     "text": [
      "Epoch [326/1000]: 100%|██████████████████████████████████████████| 351/351 [00:24<00:00, 14.52batch/s, Batch Loss=1.61]\n"
     ]
    },
    {
     "name": "stdout",
     "output_type": "stream",
     "text": [
      "Epoch [326/1000], Training Loss: 1.4432, Accuracy: 0.6164\n"
     ]
    },
    {
     "name": "stderr",
     "output_type": "stream",
     "text": [
      "Epoch [327/1000]: 100%|██████████████████████████████████████████| 351/351 [00:24<00:00, 14.48batch/s, Batch Loss=1.33]\n"
     ]
    },
    {
     "name": "stdout",
     "output_type": "stream",
     "text": [
      "Epoch [327/1000], Training Loss: 1.4323, Accuracy: 0.6189\n"
     ]
    },
    {
     "name": "stderr",
     "output_type": "stream",
     "text": [
      "Epoch [328/1000]: 100%|██████████████████████████████████████████| 351/351 [00:25<00:00, 13.92batch/s, Batch Loss=1.41]\n"
     ]
    },
    {
     "name": "stdout",
     "output_type": "stream",
     "text": [
      "Epoch [328/1000], Training Loss: 1.4304, Accuracy: 0.6206\n"
     ]
    },
    {
     "name": "stderr",
     "output_type": "stream",
     "text": [
      "Epoch [329/1000]: 100%|██████████████████████████████████████████| 351/351 [00:24<00:00, 14.38batch/s, Batch Loss=1.47]\n"
     ]
    },
    {
     "name": "stdout",
     "output_type": "stream",
     "text": [
      "Epoch [329/1000], Training Loss: 1.4447, Accuracy: 0.6161\n"
     ]
    },
    {
     "name": "stderr",
     "output_type": "stream",
     "text": [
      "Epoch [330/1000]: 100%|██████████████████████████████████████████| 351/351 [00:24<00:00, 14.35batch/s, Batch Loss=1.38]\n"
     ]
    },
    {
     "name": "stdout",
     "output_type": "stream",
     "text": [
      "Epoch [330/1000], Training Loss: 1.4347, Accuracy: 0.6184\n"
     ]
    },
    {
     "name": "stderr",
     "output_type": "stream",
     "text": [
      "Epoch [331/1000]: 100%|██████████████████████████████████████████| 351/351 [00:24<00:00, 14.23batch/s, Batch Loss=1.28]\n"
     ]
    },
    {
     "name": "stdout",
     "output_type": "stream",
     "text": [
      "Epoch [331/1000], Training Loss: 1.4336, Accuracy: 0.6183\n"
     ]
    },
    {
     "name": "stderr",
     "output_type": "stream",
     "text": [
      "Epoch [332/1000]: 100%|██████████████████████████████████████████| 351/351 [00:25<00:00, 13.78batch/s, Batch Loss=1.26]\n"
     ]
    },
    {
     "name": "stdout",
     "output_type": "stream",
     "text": [
      "Epoch [332/1000], Training Loss: 1.4286, Accuracy: 0.6192\n"
     ]
    },
    {
     "name": "stderr",
     "output_type": "stream",
     "text": [
      "Epoch [333/1000]: 100%|██████████████████████████████████████████| 351/351 [00:26<00:00, 13.43batch/s, Batch Loss=1.56]\n"
     ]
    },
    {
     "name": "stdout",
     "output_type": "stream",
     "text": [
      "Epoch [333/1000], Training Loss: 1.4354, Accuracy: 0.6192\n"
     ]
    },
    {
     "name": "stderr",
     "output_type": "stream",
     "text": [
      "Epoch [334/1000]: 100%|██████████████████████████████████████████| 351/351 [00:24<00:00, 14.16batch/s, Batch Loss=1.44]\n"
     ]
    },
    {
     "name": "stdout",
     "output_type": "stream",
     "text": [
      "Epoch [334/1000], Training Loss: 1.4179, Accuracy: 0.6202\n"
     ]
    },
    {
     "name": "stderr",
     "output_type": "stream",
     "text": [
      "Epoch [335/1000]: 100%|██████████████████████████████████████████| 351/351 [00:24<00:00, 14.18batch/s, Batch Loss=1.43]\n"
     ]
    },
    {
     "name": "stdout",
     "output_type": "stream",
     "text": [
      "Epoch [335/1000], Training Loss: 1.4283, Accuracy: 0.6196\n"
     ]
    },
    {
     "name": "stderr",
     "output_type": "stream",
     "text": [
      "Epoch [336/1000]: 100%|██████████████████████████████████████████| 351/351 [00:26<00:00, 13.22batch/s, Batch Loss=1.48]\n"
     ]
    },
    {
     "name": "stdout",
     "output_type": "stream",
     "text": [
      "Epoch [336/1000], Training Loss: 1.4191, Accuracy: 0.6233\n"
     ]
    },
    {
     "name": "stderr",
     "output_type": "stream",
     "text": [
      "Epoch [337/1000]: 100%|██████████████████████████████████████████| 351/351 [00:25<00:00, 13.78batch/s, Batch Loss=1.47]\n"
     ]
    },
    {
     "name": "stdout",
     "output_type": "stream",
     "text": [
      "Epoch [337/1000], Training Loss: 1.4206, Accuracy: 0.6226\n"
     ]
    },
    {
     "name": "stderr",
     "output_type": "stream",
     "text": [
      "Epoch [338/1000]: 100%|██████████████████████████████████████████| 351/351 [00:25<00:00, 13.56batch/s, Batch Loss=1.68]\n"
     ]
    },
    {
     "name": "stdout",
     "output_type": "stream",
     "text": [
      "Epoch [338/1000], Training Loss: 1.4198, Accuracy: 0.6231\n"
     ]
    },
    {
     "name": "stderr",
     "output_type": "stream",
     "text": [
      "Epoch [339/1000]: 100%|██████████████████████████████████████████| 351/351 [00:25<00:00, 13.83batch/s, Batch Loss=1.32]\n"
     ]
    },
    {
     "name": "stdout",
     "output_type": "stream",
     "text": [
      "Epoch [339/1000], Training Loss: 1.4199, Accuracy: 0.6214\n"
     ]
    },
    {
     "name": "stderr",
     "output_type": "stream",
     "text": [
      "Epoch [340/1000]: 100%|██████████████████████████████████████████| 351/351 [00:25<00:00, 13.85batch/s, Batch Loss=1.36]\n"
     ]
    },
    {
     "name": "stdout",
     "output_type": "stream",
     "text": [
      "Epoch [340/1000], Training Loss: 1.4079, Accuracy: 0.6243\n"
     ]
    },
    {
     "name": "stderr",
     "output_type": "stream",
     "text": [
      "Epoch [341/1000]: 100%|██████████████████████████████████████████| 351/351 [00:24<00:00, 14.45batch/s, Batch Loss=1.29]\n"
     ]
    },
    {
     "name": "stdout",
     "output_type": "stream",
     "text": [
      "Epoch [341/1000], Training Loss: 1.4164, Accuracy: 0.6216\n"
     ]
    },
    {
     "name": "stderr",
     "output_type": "stream",
     "text": [
      "Epoch [342/1000]: 100%|██████████████████████████████████████████| 351/351 [00:23<00:00, 15.05batch/s, Batch Loss=1.56]\n"
     ]
    },
    {
     "name": "stdout",
     "output_type": "stream",
     "text": [
      "Epoch [342/1000], Training Loss: 1.4156, Accuracy: 0.6230\n"
     ]
    },
    {
     "name": "stderr",
     "output_type": "stream",
     "text": [
      "Epoch [343/1000]: 100%|██████████████████████████████████████████| 351/351 [00:23<00:00, 15.06batch/s, Batch Loss=1.46]\n"
     ]
    },
    {
     "name": "stdout",
     "output_type": "stream",
     "text": [
      "Epoch [343/1000], Training Loss: 1.4197, Accuracy: 0.6210\n"
     ]
    },
    {
     "name": "stderr",
     "output_type": "stream",
     "text": [
      "Epoch [344/1000]: 100%|██████████████████████████████████████████| 351/351 [00:23<00:00, 14.84batch/s, Batch Loss=1.59]\n"
     ]
    },
    {
     "name": "stdout",
     "output_type": "stream",
     "text": [
      "Epoch [344/1000], Training Loss: 1.4182, Accuracy: 0.6222\n"
     ]
    },
    {
     "name": "stderr",
     "output_type": "stream",
     "text": [
      "Epoch [345/1000]: 100%|██████████████████████████████████████████| 351/351 [00:23<00:00, 15.09batch/s, Batch Loss=1.44]\n"
     ]
    },
    {
     "name": "stdout",
     "output_type": "stream",
     "text": [
      "Epoch [345/1000], Training Loss: 1.4019, Accuracy: 0.6254\n"
     ]
    },
    {
     "name": "stderr",
     "output_type": "stream",
     "text": [
      "Epoch [346/1000]: 100%|██████████████████████████████████████████| 351/351 [00:23<00:00, 14.63batch/s, Batch Loss=1.66]\n"
     ]
    },
    {
     "name": "stdout",
     "output_type": "stream",
     "text": [
      "Epoch [346/1000], Training Loss: 1.4150, Accuracy: 0.6248\n"
     ]
    },
    {
     "name": "stderr",
     "output_type": "stream",
     "text": [
      "Epoch [347/1000]: 100%|██████████████████████████████████████████| 351/351 [00:24<00:00, 14.16batch/s, Batch Loss=1.44]\n"
     ]
    },
    {
     "name": "stdout",
     "output_type": "stream",
     "text": [
      "Epoch [347/1000], Training Loss: 1.4121, Accuracy: 0.6236\n"
     ]
    },
    {
     "name": "stderr",
     "output_type": "stream",
     "text": [
      "Epoch [348/1000]: 100%|██████████████████████████████████████████| 351/351 [00:24<00:00, 14.38batch/s, Batch Loss=1.47]\n"
     ]
    },
    {
     "name": "stdout",
     "output_type": "stream",
     "text": [
      "Epoch [348/1000], Training Loss: 1.4086, Accuracy: 0.6260\n"
     ]
    },
    {
     "name": "stderr",
     "output_type": "stream",
     "text": [
      "Epoch [349/1000]: 100%|██████████████████████████████████████████| 351/351 [00:25<00:00, 13.97batch/s, Batch Loss=1.36]\n"
     ]
    },
    {
     "name": "stdout",
     "output_type": "stream",
     "text": [
      "Epoch [349/1000], Training Loss: 1.4014, Accuracy: 0.6270\n"
     ]
    },
    {
     "name": "stderr",
     "output_type": "stream",
     "text": [
      "Epoch [350/1000]: 100%|██████████████████████████████████████████| 351/351 [00:24<00:00, 14.28batch/s, Batch Loss=1.52]\n"
     ]
    },
    {
     "name": "stdout",
     "output_type": "stream",
     "text": [
      "Epoch [350/1000], Training Loss: 1.3969, Accuracy: 0.6264\n",
      "Model saved at 'uet4rec64_ml_model_epoch_350.pth'\n"
     ]
    },
    {
     "name": "stderr",
     "output_type": "stream",
     "text": [
      "Epoch [351/1000]: 100%|███████████████████████████████████████████| 351/351 [00:24<00:00, 14.31batch/s, Batch Loss=1.6]\n"
     ]
    },
    {
     "name": "stdout",
     "output_type": "stream",
     "text": [
      "Epoch [351/1000], Training Loss: 1.4021, Accuracy: 0.6267\n"
     ]
    },
    {
     "name": "stderr",
     "output_type": "stream",
     "text": [
      "Epoch [352/1000]: 100%|██████████████████████████████████████████| 351/351 [00:25<00:00, 13.91batch/s, Batch Loss=1.48]\n"
     ]
    },
    {
     "name": "stdout",
     "output_type": "stream",
     "text": [
      "Epoch [352/1000], Training Loss: 1.3993, Accuracy: 0.6279\n"
     ]
    },
    {
     "name": "stderr",
     "output_type": "stream",
     "text": [
      "Epoch [353/1000]: 100%|██████████████████████████████████████████| 351/351 [00:24<00:00, 14.21batch/s, Batch Loss=1.62]\n"
     ]
    },
    {
     "name": "stdout",
     "output_type": "stream",
     "text": [
      "Epoch [353/1000], Training Loss: 1.3954, Accuracy: 0.6287\n"
     ]
    },
    {
     "name": "stderr",
     "output_type": "stream",
     "text": [
      "Epoch [354/1000]: 100%|██████████████████████████████████████████| 351/351 [00:24<00:00, 14.04batch/s, Batch Loss=1.45]\n"
     ]
    },
    {
     "name": "stdout",
     "output_type": "stream",
     "text": [
      "Epoch [354/1000], Training Loss: 1.4019, Accuracy: 0.6274\n"
     ]
    },
    {
     "name": "stderr",
     "output_type": "stream",
     "text": [
      "Epoch [355/1000]: 100%|██████████████████████████████████████████| 351/351 [00:25<00:00, 13.93batch/s, Batch Loss=1.53]\n"
     ]
    },
    {
     "name": "stdout",
     "output_type": "stream",
     "text": [
      "Epoch [355/1000], Training Loss: 1.3921, Accuracy: 0.6290\n"
     ]
    },
    {
     "name": "stderr",
     "output_type": "stream",
     "text": [
      "Epoch [356/1000]: 100%|██████████████████████████████████████████| 351/351 [00:24<00:00, 14.19batch/s, Batch Loss=1.35]\n"
     ]
    },
    {
     "name": "stdout",
     "output_type": "stream",
     "text": [
      "Epoch [356/1000], Training Loss: 1.3985, Accuracy: 0.6277\n"
     ]
    },
    {
     "name": "stderr",
     "output_type": "stream",
     "text": [
      "Epoch [357/1000]: 100%|██████████████████████████████████████████| 351/351 [00:25<00:00, 13.94batch/s, Batch Loss=1.37]\n"
     ]
    },
    {
     "name": "stdout",
     "output_type": "stream",
     "text": [
      "Epoch [357/1000], Training Loss: 1.3979, Accuracy: 0.6274\n"
     ]
    },
    {
     "name": "stderr",
     "output_type": "stream",
     "text": [
      "Epoch [358/1000]: 100%|██████████████████████████████████████████| 351/351 [00:24<00:00, 14.13batch/s, Batch Loss=1.36]\n"
     ]
    },
    {
     "name": "stdout",
     "output_type": "stream",
     "text": [
      "Epoch [358/1000], Training Loss: 1.3939, Accuracy: 0.6283\n"
     ]
    },
    {
     "name": "stderr",
     "output_type": "stream",
     "text": [
      "Epoch [359/1000]: 100%|██████████████████████████████████████████| 351/351 [00:25<00:00, 13.79batch/s, Batch Loss=1.61]\n"
     ]
    },
    {
     "name": "stdout",
     "output_type": "stream",
     "text": [
      "Epoch [359/1000], Training Loss: 1.3876, Accuracy: 0.6300\n"
     ]
    },
    {
     "name": "stderr",
     "output_type": "stream",
     "text": [
      "Epoch [360/1000]: 100%|██████████████████████████████████████████| 351/351 [00:25<00:00, 13.69batch/s, Batch Loss=1.34]\n"
     ]
    },
    {
     "name": "stdout",
     "output_type": "stream",
     "text": [
      "Epoch [360/1000], Training Loss: 1.3885, Accuracy: 0.6283\n"
     ]
    },
    {
     "name": "stderr",
     "output_type": "stream",
     "text": [
      "Epoch [361/1000]: 100%|██████████████████████████████████████████| 351/351 [00:25<00:00, 14.02batch/s, Batch Loss=1.18]\n"
     ]
    },
    {
     "name": "stdout",
     "output_type": "stream",
     "text": [
      "Epoch [361/1000], Training Loss: 1.3841, Accuracy: 0.6301\n"
     ]
    },
    {
     "name": "stderr",
     "output_type": "stream",
     "text": [
      "Epoch [362/1000]: 100%|██████████████████████████████████████████| 351/351 [00:23<00:00, 15.04batch/s, Batch Loss=1.67]\n"
     ]
    },
    {
     "name": "stdout",
     "output_type": "stream",
     "text": [
      "Epoch [362/1000], Training Loss: 1.3875, Accuracy: 0.6285\n"
     ]
    },
    {
     "name": "stderr",
     "output_type": "stream",
     "text": [
      "Epoch [363/1000]: 100%|██████████████████████████████████████████| 351/351 [00:23<00:00, 14.68batch/s, Batch Loss=1.57]\n"
     ]
    },
    {
     "name": "stdout",
     "output_type": "stream",
     "text": [
      "Epoch [363/1000], Training Loss: 1.3864, Accuracy: 0.6301\n"
     ]
    },
    {
     "name": "stderr",
     "output_type": "stream",
     "text": [
      "Epoch [364/1000]: 100%|██████████████████████████████████████████| 351/351 [00:27<00:00, 12.92batch/s, Batch Loss=1.35]\n"
     ]
    },
    {
     "name": "stdout",
     "output_type": "stream",
     "text": [
      "Epoch [364/1000], Training Loss: 1.3841, Accuracy: 0.6296\n"
     ]
    },
    {
     "name": "stderr",
     "output_type": "stream",
     "text": [
      "Epoch [365/1000]: 100%|██████████████████████████████████████████| 351/351 [00:23<00:00, 14.72batch/s, Batch Loss=1.29]\n"
     ]
    },
    {
     "name": "stdout",
     "output_type": "stream",
     "text": [
      "Epoch [365/1000], Training Loss: 1.3842, Accuracy: 0.6291\n"
     ]
    },
    {
     "name": "stderr",
     "output_type": "stream",
     "text": [
      "Epoch [366/1000]: 100%|██████████████████████████████████████████| 351/351 [00:25<00:00, 13.56batch/s, Batch Loss=1.62]\n"
     ]
    },
    {
     "name": "stdout",
     "output_type": "stream",
     "text": [
      "Epoch [366/1000], Training Loss: 1.3804, Accuracy: 0.6305\n"
     ]
    },
    {
     "name": "stderr",
     "output_type": "stream",
     "text": [
      "Epoch [367/1000]: 100%|██████████████████████████████████████████| 351/351 [00:25<00:00, 13.63batch/s, Batch Loss=1.46]\n"
     ]
    },
    {
     "name": "stdout",
     "output_type": "stream",
     "text": [
      "Epoch [367/1000], Training Loss: 1.3757, Accuracy: 0.6305\n"
     ]
    },
    {
     "name": "stderr",
     "output_type": "stream",
     "text": [
      "Epoch [368/1000]: 100%|██████████████████████████████████████████| 351/351 [00:26<00:00, 13.48batch/s, Batch Loss=1.35]\n"
     ]
    },
    {
     "name": "stdout",
     "output_type": "stream",
     "text": [
      "Epoch [368/1000], Training Loss: 1.3789, Accuracy: 0.6306\n"
     ]
    },
    {
     "name": "stderr",
     "output_type": "stream",
     "text": [
      "Epoch [369/1000]: 100%|███████████████████████████████████████████| 351/351 [00:24<00:00, 14.17batch/s, Batch Loss=1.5]\n"
     ]
    },
    {
     "name": "stdout",
     "output_type": "stream",
     "text": [
      "Epoch [369/1000], Training Loss: 1.3869, Accuracy: 0.6283\n"
     ]
    },
    {
     "name": "stderr",
     "output_type": "stream",
     "text": [
      "Epoch [370/1000]: 100%|██████████████████████████████████████████| 351/351 [00:24<00:00, 14.25batch/s, Batch Loss=1.47]\n"
     ]
    },
    {
     "name": "stdout",
     "output_type": "stream",
     "text": [
      "Epoch [370/1000], Training Loss: 1.3730, Accuracy: 0.6331\n"
     ]
    },
    {
     "name": "stderr",
     "output_type": "stream",
     "text": [
      "Epoch [371/1000]: 100%|██████████████████████████████████████████| 351/351 [00:25<00:00, 13.93batch/s, Batch Loss=1.61]\n"
     ]
    },
    {
     "name": "stdout",
     "output_type": "stream",
     "text": [
      "Epoch [371/1000], Training Loss: 1.3783, Accuracy: 0.6301\n"
     ]
    },
    {
     "name": "stderr",
     "output_type": "stream",
     "text": [
      "Epoch [372/1000]: 100%|██████████████████████████████████████████| 351/351 [00:25<00:00, 13.98batch/s, Batch Loss=1.26]\n"
     ]
    },
    {
     "name": "stdout",
     "output_type": "stream",
     "text": [
      "Epoch [372/1000], Training Loss: 1.3767, Accuracy: 0.6318\n"
     ]
    },
    {
     "name": "stderr",
     "output_type": "stream",
     "text": [
      "Epoch [373/1000]: 100%|██████████████████████████████████████████| 351/351 [00:24<00:00, 14.10batch/s, Batch Loss=1.35]\n"
     ]
    },
    {
     "name": "stdout",
     "output_type": "stream",
     "text": [
      "Epoch [373/1000], Training Loss: 1.3706, Accuracy: 0.6333\n"
     ]
    },
    {
     "name": "stderr",
     "output_type": "stream",
     "text": [
      "Epoch [374/1000]: 100%|██████████████████████████████████████████| 351/351 [00:24<00:00, 14.05batch/s, Batch Loss=1.39]\n"
     ]
    },
    {
     "name": "stdout",
     "output_type": "stream",
     "text": [
      "Epoch [374/1000], Training Loss: 1.3723, Accuracy: 0.6317\n"
     ]
    },
    {
     "name": "stderr",
     "output_type": "stream",
     "text": [
      "Epoch [375/1000]: 100%|██████████████████████████████████████████| 351/351 [00:24<00:00, 14.11batch/s, Batch Loss=1.59]\n"
     ]
    },
    {
     "name": "stdout",
     "output_type": "stream",
     "text": [
      "Epoch [375/1000], Training Loss: 1.3737, Accuracy: 0.6323\n"
     ]
    },
    {
     "name": "stderr",
     "output_type": "stream",
     "text": [
      "Epoch [376/1000]: 100%|██████████████████████████████████████████| 351/351 [00:25<00:00, 14.03batch/s, Batch Loss=1.53]\n"
     ]
    },
    {
     "name": "stdout",
     "output_type": "stream",
     "text": [
      "Epoch [376/1000], Training Loss: 1.3660, Accuracy: 0.6347\n"
     ]
    },
    {
     "name": "stderr",
     "output_type": "stream",
     "text": [
      "Epoch [377/1000]: 100%|██████████████████████████████████████████| 351/351 [00:24<00:00, 14.32batch/s, Batch Loss=1.52]\n"
     ]
    },
    {
     "name": "stdout",
     "output_type": "stream",
     "text": [
      "Epoch [377/1000], Training Loss: 1.3705, Accuracy: 0.6321\n"
     ]
    },
    {
     "name": "stderr",
     "output_type": "stream",
     "text": [
      "Epoch [378/1000]: 100%|███████████████████████████████████████████| 351/351 [00:24<00:00, 14.37batch/s, Batch Loss=1.4]\n"
     ]
    },
    {
     "name": "stdout",
     "output_type": "stream",
     "text": [
      "Epoch [378/1000], Training Loss: 1.3721, Accuracy: 0.6302\n"
     ]
    },
    {
     "name": "stderr",
     "output_type": "stream",
     "text": [
      "Epoch [379/1000]: 100%|██████████████████████████████████████████| 351/351 [00:24<00:00, 14.35batch/s, Batch Loss=1.39]\n"
     ]
    },
    {
     "name": "stdout",
     "output_type": "stream",
     "text": [
      "Epoch [379/1000], Training Loss: 1.3666, Accuracy: 0.6342\n"
     ]
    },
    {
     "name": "stderr",
     "output_type": "stream",
     "text": [
      "Epoch [380/1000]: 100%|███████████████████████████████████████████| 351/351 [00:24<00:00, 14.30batch/s, Batch Loss=1.2]\n"
     ]
    },
    {
     "name": "stdout",
     "output_type": "stream",
     "text": [
      "Epoch [380/1000], Training Loss: 1.3626, Accuracy: 0.6339\n"
     ]
    },
    {
     "name": "stderr",
     "output_type": "stream",
     "text": [
      "Epoch [381/1000]: 100%|██████████████████████████████████████████| 351/351 [00:24<00:00, 14.37batch/s, Batch Loss=1.49]\n"
     ]
    },
    {
     "name": "stdout",
     "output_type": "stream",
     "text": [
      "Epoch [381/1000], Training Loss: 1.3646, Accuracy: 0.6347\n"
     ]
    },
    {
     "name": "stderr",
     "output_type": "stream",
     "text": [
      "Epoch [382/1000]: 100%|██████████████████████████████████████████| 351/351 [00:24<00:00, 14.18batch/s, Batch Loss=1.39]\n"
     ]
    },
    {
     "name": "stdout",
     "output_type": "stream",
     "text": [
      "Epoch [382/1000], Training Loss: 1.3694, Accuracy: 0.6312\n"
     ]
    },
    {
     "name": "stderr",
     "output_type": "stream",
     "text": [
      "Epoch [383/1000]: 100%|██████████████████████████████████████████| 351/351 [00:24<00:00, 14.21batch/s, Batch Loss=1.34]\n"
     ]
    },
    {
     "name": "stdout",
     "output_type": "stream",
     "text": [
      "Epoch [383/1000], Training Loss: 1.3618, Accuracy: 0.6341\n"
     ]
    },
    {
     "name": "stderr",
     "output_type": "stream",
     "text": [
      "Epoch [384/1000]: 100%|██████████████████████████████████████████| 351/351 [00:24<00:00, 14.21batch/s, Batch Loss=1.32]\n"
     ]
    },
    {
     "name": "stdout",
     "output_type": "stream",
     "text": [
      "Epoch [384/1000], Training Loss: 1.3592, Accuracy: 0.6368\n"
     ]
    },
    {
     "name": "stderr",
     "output_type": "stream",
     "text": [
      "Epoch [385/1000]: 100%|██████████████████████████████████████████| 351/351 [00:25<00:00, 13.57batch/s, Batch Loss=1.42]\n"
     ]
    },
    {
     "name": "stdout",
     "output_type": "stream",
     "text": [
      "Epoch [385/1000], Training Loss: 1.3615, Accuracy: 0.6351\n"
     ]
    },
    {
     "name": "stderr",
     "output_type": "stream",
     "text": [
      "Epoch [386/1000]: 100%|██████████████████████████████████████████| 351/351 [00:24<00:00, 14.37batch/s, Batch Loss=1.57]\n"
     ]
    },
    {
     "name": "stdout",
     "output_type": "stream",
     "text": [
      "Epoch [386/1000], Training Loss: 1.3561, Accuracy: 0.6348\n"
     ]
    },
    {
     "name": "stderr",
     "output_type": "stream",
     "text": [
      "Epoch [387/1000]: 100%|██████████████████████████████████████████| 351/351 [00:24<00:00, 14.34batch/s, Batch Loss=1.44]\n"
     ]
    },
    {
     "name": "stdout",
     "output_type": "stream",
     "text": [
      "Epoch [387/1000], Training Loss: 1.3543, Accuracy: 0.6357\n"
     ]
    },
    {
     "name": "stderr",
     "output_type": "stream",
     "text": [
      "Epoch [388/1000]: 100%|██████████████████████████████████████████| 351/351 [00:24<00:00, 14.39batch/s, Batch Loss=1.59]\n"
     ]
    },
    {
     "name": "stdout",
     "output_type": "stream",
     "text": [
      "Epoch [388/1000], Training Loss: 1.3572, Accuracy: 0.6370\n"
     ]
    },
    {
     "name": "stderr",
     "output_type": "stream",
     "text": [
      "Epoch [389/1000]: 100%|██████████████████████████████████████████| 351/351 [00:24<00:00, 14.47batch/s, Batch Loss=1.67]\n"
     ]
    },
    {
     "name": "stdout",
     "output_type": "stream",
     "text": [
      "Epoch [389/1000], Training Loss: 1.3527, Accuracy: 0.6354\n"
     ]
    },
    {
     "name": "stderr",
     "output_type": "stream",
     "text": [
      "Epoch [390/1000]: 100%|██████████████████████████████████████████| 351/351 [00:24<00:00, 14.46batch/s, Batch Loss=1.47]\n"
     ]
    },
    {
     "name": "stdout",
     "output_type": "stream",
     "text": [
      "Epoch [390/1000], Training Loss: 1.3523, Accuracy: 0.6365\n"
     ]
    },
    {
     "name": "stderr",
     "output_type": "stream",
     "text": [
      "Epoch [391/1000]: 100%|██████████████████████████████████████████| 351/351 [00:24<00:00, 14.33batch/s, Batch Loss=1.46]\n"
     ]
    },
    {
     "name": "stdout",
     "output_type": "stream",
     "text": [
      "Epoch [391/1000], Training Loss: 1.3424, Accuracy: 0.6403\n"
     ]
    },
    {
     "name": "stderr",
     "output_type": "stream",
     "text": [
      "Epoch [392/1000]: 100%|██████████████████████████████████████████| 351/351 [00:24<00:00, 14.46batch/s, Batch Loss=1.43]\n"
     ]
    },
    {
     "name": "stdout",
     "output_type": "stream",
     "text": [
      "Epoch [392/1000], Training Loss: 1.3462, Accuracy: 0.6361\n"
     ]
    },
    {
     "name": "stderr",
     "output_type": "stream",
     "text": [
      "Epoch [393/1000]: 100%|██████████████████████████████████████████| 351/351 [00:24<00:00, 14.53batch/s, Batch Loss=1.41]\n"
     ]
    },
    {
     "name": "stdout",
     "output_type": "stream",
     "text": [
      "Epoch [393/1000], Training Loss: 1.3518, Accuracy: 0.6362\n"
     ]
    },
    {
     "name": "stderr",
     "output_type": "stream",
     "text": [
      "Epoch [394/1000]: 100%|██████████████████████████████████████████| 351/351 [00:24<00:00, 14.40batch/s, Batch Loss=1.59]\n"
     ]
    },
    {
     "name": "stdout",
     "output_type": "stream",
     "text": [
      "Epoch [394/1000], Training Loss: 1.3522, Accuracy: 0.6364\n"
     ]
    },
    {
     "name": "stderr",
     "output_type": "stream",
     "text": [
      "Epoch [395/1000]: 100%|██████████████████████████████████████████| 351/351 [00:24<00:00, 14.28batch/s, Batch Loss=1.26]\n"
     ]
    },
    {
     "name": "stdout",
     "output_type": "stream",
     "text": [
      "Epoch [395/1000], Training Loss: 1.3465, Accuracy: 0.6381\n"
     ]
    },
    {
     "name": "stderr",
     "output_type": "stream",
     "text": [
      "Epoch [396/1000]: 100%|██████████████████████████████████████████| 351/351 [00:24<00:00, 14.44batch/s, Batch Loss=1.45]\n"
     ]
    },
    {
     "name": "stdout",
     "output_type": "stream",
     "text": [
      "Epoch [396/1000], Training Loss: 1.3523, Accuracy: 0.6350\n"
     ]
    },
    {
     "name": "stderr",
     "output_type": "stream",
     "text": [
      "Epoch [397/1000]: 100%|██████████████████████████████████████████| 351/351 [00:24<00:00, 14.29batch/s, Batch Loss=1.49]\n"
     ]
    },
    {
     "name": "stdout",
     "output_type": "stream",
     "text": [
      "Epoch [397/1000], Training Loss: 1.3467, Accuracy: 0.6377\n"
     ]
    },
    {
     "name": "stderr",
     "output_type": "stream",
     "text": [
      "Epoch [398/1000]: 100%|██████████████████████████████████████████| 351/351 [00:24<00:00, 14.35batch/s, Batch Loss=1.48]\n"
     ]
    },
    {
     "name": "stdout",
     "output_type": "stream",
     "text": [
      "Epoch [398/1000], Training Loss: 1.3424, Accuracy: 0.6390\n"
     ]
    },
    {
     "name": "stderr",
     "output_type": "stream",
     "text": [
      "Epoch [399/1000]: 100%|██████████████████████████████████████████| 351/351 [00:24<00:00, 14.38batch/s, Batch Loss=1.39]\n"
     ]
    },
    {
     "name": "stdout",
     "output_type": "stream",
     "text": [
      "Epoch [399/1000], Training Loss: 1.3412, Accuracy: 0.6371\n"
     ]
    },
    {
     "name": "stderr",
     "output_type": "stream",
     "text": [
      "Epoch [400/1000]: 100%|██████████████████████████████████████████| 351/351 [00:24<00:00, 14.50batch/s, Batch Loss=1.57]\n"
     ]
    },
    {
     "name": "stdout",
     "output_type": "stream",
     "text": [
      "Epoch [400/1000], Training Loss: 1.3493, Accuracy: 0.6375\n",
      "Model saved at 'uet4rec64_ml_model_epoch_400.pth'\n"
     ]
    },
    {
     "name": "stderr",
     "output_type": "stream",
     "text": [
      "Epoch [401/1000]: 100%|██████████████████████████████████████████| 351/351 [00:24<00:00, 14.46batch/s, Batch Loss=1.52]\n"
     ]
    },
    {
     "name": "stdout",
     "output_type": "stream",
     "text": [
      "Epoch [401/1000], Training Loss: 1.3388, Accuracy: 0.6390\n"
     ]
    },
    {
     "name": "stderr",
     "output_type": "stream",
     "text": [
      "Epoch [402/1000]: 100%|██████████████████████████████████████████| 351/351 [00:24<00:00, 14.32batch/s, Batch Loss=1.42]\n"
     ]
    },
    {
     "name": "stdout",
     "output_type": "stream",
     "text": [
      "Epoch [402/1000], Training Loss: 1.3443, Accuracy: 0.6383\n"
     ]
    },
    {
     "name": "stderr",
     "output_type": "stream",
     "text": [
      "Epoch [403/1000]: 100%|██████████████████████████████████████████| 351/351 [00:24<00:00, 14.29batch/s, Batch Loss=1.32]\n"
     ]
    },
    {
     "name": "stdout",
     "output_type": "stream",
     "text": [
      "Epoch [403/1000], Training Loss: 1.3408, Accuracy: 0.6400\n"
     ]
    },
    {
     "name": "stderr",
     "output_type": "stream",
     "text": [
      "Epoch [404/1000]: 100%|██████████████████████████████████████████| 351/351 [00:24<00:00, 14.53batch/s, Batch Loss=1.54]\n"
     ]
    },
    {
     "name": "stdout",
     "output_type": "stream",
     "text": [
      "Epoch [404/1000], Training Loss: 1.3341, Accuracy: 0.6401\n"
     ]
    },
    {
     "name": "stderr",
     "output_type": "stream",
     "text": [
      "Epoch [405/1000]: 100%|██████████████████████████████████████████| 351/351 [00:24<00:00, 14.39batch/s, Batch Loss=1.25]\n"
     ]
    },
    {
     "name": "stdout",
     "output_type": "stream",
     "text": [
      "Epoch [405/1000], Training Loss: 1.3390, Accuracy: 0.6392\n"
     ]
    },
    {
     "name": "stderr",
     "output_type": "stream",
     "text": [
      "Epoch [406/1000]: 100%|██████████████████████████████████████████| 351/351 [00:24<00:00, 14.33batch/s, Batch Loss=1.33]\n"
     ]
    },
    {
     "name": "stdout",
     "output_type": "stream",
     "text": [
      "Epoch [406/1000], Training Loss: 1.3356, Accuracy: 0.6410\n"
     ]
    },
    {
     "name": "stderr",
     "output_type": "stream",
     "text": [
      "Epoch [407/1000]: 100%|██████████████████████████████████████████| 351/351 [00:24<00:00, 14.29batch/s, Batch Loss=1.59]\n"
     ]
    },
    {
     "name": "stdout",
     "output_type": "stream",
     "text": [
      "Epoch [407/1000], Training Loss: 1.3330, Accuracy: 0.6411\n"
     ]
    },
    {
     "name": "stderr",
     "output_type": "stream",
     "text": [
      "Epoch [408/1000]: 100%|██████████████████████████████████████████| 351/351 [00:24<00:00, 14.27batch/s, Batch Loss=1.26]\n"
     ]
    },
    {
     "name": "stdout",
     "output_type": "stream",
     "text": [
      "Epoch [408/1000], Training Loss: 1.3350, Accuracy: 0.6409\n"
     ]
    },
    {
     "name": "stderr",
     "output_type": "stream",
     "text": [
      "Epoch [409/1000]: 100%|██████████████████████████████████████████| 351/351 [00:23<00:00, 14.92batch/s, Batch Loss=1.44]\n"
     ]
    },
    {
     "name": "stdout",
     "output_type": "stream",
     "text": [
      "Epoch [409/1000], Training Loss: 1.3371, Accuracy: 0.6400\n"
     ]
    },
    {
     "name": "stderr",
     "output_type": "stream",
     "text": [
      "Epoch [410/1000]: 100%|███████████████████████████████████████████| 351/351 [00:23<00:00, 14.80batch/s, Batch Loss=1.3]\n"
     ]
    },
    {
     "name": "stdout",
     "output_type": "stream",
     "text": [
      "Epoch [410/1000], Training Loss: 1.3310, Accuracy: 0.6396\n"
     ]
    },
    {
     "name": "stderr",
     "output_type": "stream",
     "text": [
      "Epoch [411/1000]: 100%|███████████████████████████████████████████| 351/351 [00:25<00:00, 14.01batch/s, Batch Loss=1.4]\n"
     ]
    },
    {
     "name": "stdout",
     "output_type": "stream",
     "text": [
      "Epoch [411/1000], Training Loss: 1.3325, Accuracy: 0.6398\n"
     ]
    },
    {
     "name": "stderr",
     "output_type": "stream",
     "text": [
      "Epoch [412/1000]: 100%|██████████████████████████████████████████| 351/351 [00:24<00:00, 14.59batch/s, Batch Loss=1.29]\n"
     ]
    },
    {
     "name": "stdout",
     "output_type": "stream",
     "text": [
      "Epoch [412/1000], Training Loss: 1.3310, Accuracy: 0.6419\n"
     ]
    },
    {
     "name": "stderr",
     "output_type": "stream",
     "text": [
      "Epoch [413/1000]: 100%|██████████████████████████████████████████| 351/351 [00:23<00:00, 15.00batch/s, Batch Loss=1.35]\n"
     ]
    },
    {
     "name": "stdout",
     "output_type": "stream",
     "text": [
      "Epoch [413/1000], Training Loss: 1.3279, Accuracy: 0.6422\n"
     ]
    },
    {
     "name": "stderr",
     "output_type": "stream",
     "text": [
      "Epoch [414/1000]: 100%|██████████████████████████████████████████| 351/351 [00:23<00:00, 14.99batch/s, Batch Loss=1.49]\n"
     ]
    },
    {
     "name": "stdout",
     "output_type": "stream",
     "text": [
      "Epoch [414/1000], Training Loss: 1.3279, Accuracy: 0.6409\n"
     ]
    },
    {
     "name": "stderr",
     "output_type": "stream",
     "text": [
      "Epoch [415/1000]: 100%|██████████████████████████████████████████| 351/351 [00:24<00:00, 14.49batch/s, Batch Loss=1.55]\n"
     ]
    },
    {
     "name": "stdout",
     "output_type": "stream",
     "text": [
      "Epoch [415/1000], Training Loss: 1.3317, Accuracy: 0.6409\n"
     ]
    },
    {
     "name": "stderr",
     "output_type": "stream",
     "text": [
      "Epoch [416/1000]: 100%|██████████████████████████████████████████| 351/351 [00:25<00:00, 14.02batch/s, Batch Loss=1.49]\n"
     ]
    },
    {
     "name": "stdout",
     "output_type": "stream",
     "text": [
      "Epoch [416/1000], Training Loss: 1.3308, Accuracy: 0.6401\n"
     ]
    },
    {
     "name": "stderr",
     "output_type": "stream",
     "text": [
      "Epoch [417/1000]: 100%|██████████████████████████████████████████| 351/351 [00:25<00:00, 14.01batch/s, Batch Loss=1.51]\n"
     ]
    },
    {
     "name": "stdout",
     "output_type": "stream",
     "text": [
      "Epoch [417/1000], Training Loss: 1.3161, Accuracy: 0.6444\n"
     ]
    },
    {
     "name": "stderr",
     "output_type": "stream",
     "text": [
      "Epoch [418/1000]: 100%|██████████████████████████████████████████| 351/351 [00:24<00:00, 14.16batch/s, Batch Loss=1.19]\n"
     ]
    },
    {
     "name": "stdout",
     "output_type": "stream",
     "text": [
      "Epoch [418/1000], Training Loss: 1.3205, Accuracy: 0.6438\n"
     ]
    },
    {
     "name": "stderr",
     "output_type": "stream",
     "text": [
      "Epoch [419/1000]: 100%|██████████████████████████████████████████| 351/351 [00:24<00:00, 14.09batch/s, Batch Loss=1.43]\n"
     ]
    },
    {
     "name": "stdout",
     "output_type": "stream",
     "text": [
      "Epoch [419/1000], Training Loss: 1.3227, Accuracy: 0.6421\n"
     ]
    },
    {
     "name": "stderr",
     "output_type": "stream",
     "text": [
      "Epoch [420/1000]: 100%|███████████████████████████████████████████| 351/351 [00:24<00:00, 14.04batch/s, Batch Loss=1.4]\n"
     ]
    },
    {
     "name": "stdout",
     "output_type": "stream",
     "text": [
      "Epoch [420/1000], Training Loss: 1.3229, Accuracy: 0.6422\n"
     ]
    },
    {
     "name": "stderr",
     "output_type": "stream",
     "text": [
      "Epoch [421/1000]: 100%|██████████████████████████████████████████| 351/351 [00:24<00:00, 14.21batch/s, Batch Loss=1.36]\n"
     ]
    },
    {
     "name": "stdout",
     "output_type": "stream",
     "text": [
      "Epoch [421/1000], Training Loss: 1.3239, Accuracy: 0.6437\n"
     ]
    },
    {
     "name": "stderr",
     "output_type": "stream",
     "text": [
      "Epoch [422/1000]: 100%|██████████████████████████████████████████| 351/351 [00:24<00:00, 14.44batch/s, Batch Loss=1.63]\n"
     ]
    },
    {
     "name": "stdout",
     "output_type": "stream",
     "text": [
      "Epoch [422/1000], Training Loss: 1.3158, Accuracy: 0.6446\n"
     ]
    },
    {
     "name": "stderr",
     "output_type": "stream",
     "text": [
      "Epoch [423/1000]: 100%|██████████████████████████████████████████| 351/351 [00:24<00:00, 14.14batch/s, Batch Loss=1.42]\n"
     ]
    },
    {
     "name": "stdout",
     "output_type": "stream",
     "text": [
      "Epoch [423/1000], Training Loss: 1.3213, Accuracy: 0.6438\n"
     ]
    },
    {
     "name": "stderr",
     "output_type": "stream",
     "text": [
      "Epoch [424/1000]: 100%|██████████████████████████████████████████| 351/351 [00:25<00:00, 13.95batch/s, Batch Loss=1.28]\n"
     ]
    },
    {
     "name": "stdout",
     "output_type": "stream",
     "text": [
      "Epoch [424/1000], Training Loss: 1.3250, Accuracy: 0.6417\n"
     ]
    },
    {
     "name": "stderr",
     "output_type": "stream",
     "text": [
      "Epoch [425/1000]: 100%|██████████████████████████████████████████| 351/351 [00:24<00:00, 14.07batch/s, Batch Loss=1.35]\n"
     ]
    },
    {
     "name": "stdout",
     "output_type": "stream",
     "text": [
      "Epoch [425/1000], Training Loss: 1.3150, Accuracy: 0.6442\n"
     ]
    },
    {
     "name": "stderr",
     "output_type": "stream",
     "text": [
      "Epoch [426/1000]: 100%|██████████████████████████████████████████| 351/351 [00:24<00:00, 14.04batch/s, Batch Loss=1.46]\n"
     ]
    },
    {
     "name": "stdout",
     "output_type": "stream",
     "text": [
      "Epoch [426/1000], Training Loss: 1.3188, Accuracy: 0.6437\n"
     ]
    },
    {
     "name": "stderr",
     "output_type": "stream",
     "text": [
      "Epoch [427/1000]: 100%|██████████████████████████████████████████| 351/351 [00:25<00:00, 13.99batch/s, Batch Loss=1.26]\n"
     ]
    },
    {
     "name": "stdout",
     "output_type": "stream",
     "text": [
      "Epoch [427/1000], Training Loss: 1.3093, Accuracy: 0.6460\n"
     ]
    },
    {
     "name": "stderr",
     "output_type": "stream",
     "text": [
      "Epoch [428/1000]: 100%|███████████████████████████████████████████| 351/351 [00:24<00:00, 14.19batch/s, Batch Loss=1.5]\n"
     ]
    },
    {
     "name": "stdout",
     "output_type": "stream",
     "text": [
      "Epoch [428/1000], Training Loss: 1.3171, Accuracy: 0.6434\n"
     ]
    },
    {
     "name": "stderr",
     "output_type": "stream",
     "text": [
      "Epoch [429/1000]: 100%|██████████████████████████████████████████| 351/351 [00:24<00:00, 14.14batch/s, Batch Loss=1.54]\n"
     ]
    },
    {
     "name": "stdout",
     "output_type": "stream",
     "text": [
      "Epoch [429/1000], Training Loss: 1.3147, Accuracy: 0.6452\n"
     ]
    },
    {
     "name": "stderr",
     "output_type": "stream",
     "text": [
      "Epoch [430/1000]: 100%|███████████████████████████████████████████| 351/351 [00:25<00:00, 13.80batch/s, Batch Loss=1.4]\n"
     ]
    },
    {
     "name": "stdout",
     "output_type": "stream",
     "text": [
      "Epoch [430/1000], Training Loss: 1.3081, Accuracy: 0.6456\n"
     ]
    },
    {
     "name": "stderr",
     "output_type": "stream",
     "text": [
      "Epoch [431/1000]: 100%|██████████████████████████████████████████| 351/351 [00:24<00:00, 14.06batch/s, Batch Loss=1.35]\n"
     ]
    },
    {
     "name": "stdout",
     "output_type": "stream",
     "text": [
      "Epoch [431/1000], Training Loss: 1.3090, Accuracy: 0.6444\n"
     ]
    },
    {
     "name": "stderr",
     "output_type": "stream",
     "text": [
      "Epoch [432/1000]: 100%|███████████████████████████████████████████| 351/351 [00:25<00:00, 13.77batch/s, Batch Loss=1.5]\n"
     ]
    },
    {
     "name": "stdout",
     "output_type": "stream",
     "text": [
      "Epoch [432/1000], Training Loss: 1.3076, Accuracy: 0.6459\n"
     ]
    },
    {
     "name": "stderr",
     "output_type": "stream",
     "text": [
      "Epoch [433/1000]: 100%|██████████████████████████████████████████| 351/351 [00:26<00:00, 13.30batch/s, Batch Loss=1.36]\n"
     ]
    },
    {
     "name": "stdout",
     "output_type": "stream",
     "text": [
      "Epoch [433/1000], Training Loss: 1.3015, Accuracy: 0.6469\n"
     ]
    },
    {
     "name": "stderr",
     "output_type": "stream",
     "text": [
      "Epoch [434/1000]: 100%|██████████████████████████████████████████| 351/351 [00:27<00:00, 12.99batch/s, Batch Loss=1.46]\n"
     ]
    },
    {
     "name": "stdout",
     "output_type": "stream",
     "text": [
      "Epoch [434/1000], Training Loss: 1.3126, Accuracy: 0.6452\n"
     ]
    },
    {
     "name": "stderr",
     "output_type": "stream",
     "text": [
      "Epoch [435/1000]: 100%|██████████████████████████████████████████| 351/351 [00:24<00:00, 14.54batch/s, Batch Loss=1.36]\n"
     ]
    },
    {
     "name": "stdout",
     "output_type": "stream",
     "text": [
      "Epoch [435/1000], Training Loss: 1.3044, Accuracy: 0.6468\n"
     ]
    },
    {
     "name": "stderr",
     "output_type": "stream",
     "text": [
      "Epoch [436/1000]: 100%|██████████████████████████████████████████| 351/351 [00:25<00:00, 13.59batch/s, Batch Loss=1.23]\n"
     ]
    },
    {
     "name": "stdout",
     "output_type": "stream",
     "text": [
      "Epoch [436/1000], Training Loss: 1.3059, Accuracy: 0.6480\n"
     ]
    },
    {
     "name": "stderr",
     "output_type": "stream",
     "text": [
      "Epoch [437/1000]: 100%|██████████████████████████████████████████| 351/351 [00:24<00:00, 14.08batch/s, Batch Loss=1.47]\n"
     ]
    },
    {
     "name": "stdout",
     "output_type": "stream",
     "text": [
      "Epoch [437/1000], Training Loss: 1.3030, Accuracy: 0.6481\n"
     ]
    },
    {
     "name": "stderr",
     "output_type": "stream",
     "text": [
      "Epoch [438/1000]: 100%|██████████████████████████████████████████| 351/351 [00:25<00:00, 13.90batch/s, Batch Loss=1.51]\n"
     ]
    },
    {
     "name": "stdout",
     "output_type": "stream",
     "text": [
      "Epoch [438/1000], Training Loss: 1.2979, Accuracy: 0.6480\n"
     ]
    },
    {
     "name": "stderr",
     "output_type": "stream",
     "text": [
      "Epoch [439/1000]: 100%|██████████████████████████████████████████| 351/351 [00:25<00:00, 13.88batch/s, Batch Loss=1.35]\n"
     ]
    },
    {
     "name": "stdout",
     "output_type": "stream",
     "text": [
      "Epoch [439/1000], Training Loss: 1.3076, Accuracy: 0.6463\n"
     ]
    },
    {
     "name": "stderr",
     "output_type": "stream",
     "text": [
      "Epoch [440/1000]: 100%|██████████████████████████████████████████| 351/351 [00:25<00:00, 13.68batch/s, Batch Loss=1.53]\n"
     ]
    },
    {
     "name": "stdout",
     "output_type": "stream",
     "text": [
      "Epoch [440/1000], Training Loss: 1.2980, Accuracy: 0.6475\n"
     ]
    },
    {
     "name": "stderr",
     "output_type": "stream",
     "text": [
      "Epoch [441/1000]: 100%|██████████████████████████████████████████| 351/351 [00:25<00:00, 13.65batch/s, Batch Loss=1.46]\n"
     ]
    },
    {
     "name": "stdout",
     "output_type": "stream",
     "text": [
      "Epoch [441/1000], Training Loss: 1.3039, Accuracy: 0.6465\n"
     ]
    },
    {
     "name": "stderr",
     "output_type": "stream",
     "text": [
      "Epoch [442/1000]: 100%|██████████████████████████████████████████| 351/351 [00:24<00:00, 14.14batch/s, Batch Loss=1.18]\n"
     ]
    },
    {
     "name": "stdout",
     "output_type": "stream",
     "text": [
      "Epoch [442/1000], Training Loss: 1.3021, Accuracy: 0.6481\n"
     ]
    },
    {
     "name": "stderr",
     "output_type": "stream",
     "text": [
      "Epoch [443/1000]: 100%|██████████████████████████████████████████| 351/351 [00:24<00:00, 14.18batch/s, Batch Loss=1.56]\n"
     ]
    },
    {
     "name": "stdout",
     "output_type": "stream",
     "text": [
      "Epoch [443/1000], Training Loss: 1.2943, Accuracy: 0.6492\n"
     ]
    },
    {
     "name": "stderr",
     "output_type": "stream",
     "text": [
      "Epoch [444/1000]: 100%|███████████████████████████████████████████| 351/351 [00:24<00:00, 14.05batch/s, Batch Loss=1.3]\n"
     ]
    },
    {
     "name": "stdout",
     "output_type": "stream",
     "text": [
      "Epoch [444/1000], Training Loss: 1.2982, Accuracy: 0.6475\n"
     ]
    },
    {
     "name": "stderr",
     "output_type": "stream",
     "text": [
      "Epoch [445/1000]: 100%|██████████████████████████████████████████| 351/351 [00:25<00:00, 13.84batch/s, Batch Loss=1.21]\n"
     ]
    },
    {
     "name": "stdout",
     "output_type": "stream",
     "text": [
      "Epoch [445/1000], Training Loss: 1.2981, Accuracy: 0.6465\n"
     ]
    },
    {
     "name": "stderr",
     "output_type": "stream",
     "text": [
      "Epoch [446/1000]: 100%|██████████████████████████████████████████| 351/351 [00:25<00:00, 13.87batch/s, Batch Loss=1.33]\n"
     ]
    },
    {
     "name": "stdout",
     "output_type": "stream",
     "text": [
      "Epoch [446/1000], Training Loss: 1.2967, Accuracy: 0.6487\n"
     ]
    },
    {
     "name": "stderr",
     "output_type": "stream",
     "text": [
      "Epoch [447/1000]: 100%|██████████████████████████████████████████| 351/351 [00:24<00:00, 14.09batch/s, Batch Loss=1.49]\n"
     ]
    },
    {
     "name": "stdout",
     "output_type": "stream",
     "text": [
      "Epoch [447/1000], Training Loss: 1.2997, Accuracy: 0.6456\n"
     ]
    },
    {
     "name": "stderr",
     "output_type": "stream",
     "text": [
      "Epoch [448/1000]: 100%|██████████████████████████████████████████| 351/351 [00:25<00:00, 14.03batch/s, Batch Loss=1.47]\n"
     ]
    },
    {
     "name": "stdout",
     "output_type": "stream",
     "text": [
      "Epoch [448/1000], Training Loss: 1.2848, Accuracy: 0.6526\n"
     ]
    },
    {
     "name": "stderr",
     "output_type": "stream",
     "text": [
      "Epoch [449/1000]: 100%|██████████████████████████████████████████| 351/351 [00:24<00:00, 14.09batch/s, Batch Loss=1.14]\n"
     ]
    },
    {
     "name": "stdout",
     "output_type": "stream",
     "text": [
      "Epoch [449/1000], Training Loss: 1.2957, Accuracy: 0.6484\n"
     ]
    },
    {
     "name": "stderr",
     "output_type": "stream",
     "text": [
      "Epoch [450/1000]: 100%|███████████████████████████████████████████| 351/351 [00:25<00:00, 13.79batch/s, Batch Loss=1.3]\n"
     ]
    },
    {
     "name": "stdout",
     "output_type": "stream",
     "text": [
      "Epoch [450/1000], Training Loss: 1.2869, Accuracy: 0.6511\n",
      "Model saved at 'uet4rec64_ml_model_epoch_450.pth'\n"
     ]
    },
    {
     "name": "stderr",
     "output_type": "stream",
     "text": [
      "Epoch [451/1000]: 100%|██████████████████████████████████████████| 351/351 [00:24<00:00, 14.20batch/s, Batch Loss=1.38]\n"
     ]
    },
    {
     "name": "stdout",
     "output_type": "stream",
     "text": [
      "Epoch [451/1000], Training Loss: 1.2908, Accuracy: 0.6497\n"
     ]
    },
    {
     "name": "stderr",
     "output_type": "stream",
     "text": [
      "Epoch [452/1000]: 100%|██████████████████████████████████████████| 351/351 [00:24<00:00, 14.25batch/s, Batch Loss=1.55]\n"
     ]
    },
    {
     "name": "stdout",
     "output_type": "stream",
     "text": [
      "Epoch [452/1000], Training Loss: 1.2977, Accuracy: 0.6469\n"
     ]
    },
    {
     "name": "stderr",
     "output_type": "stream",
     "text": [
      "Epoch [453/1000]: 100%|██████████████████████████████████████████| 351/351 [00:23<00:00, 14.74batch/s, Batch Loss=1.23]\n"
     ]
    },
    {
     "name": "stdout",
     "output_type": "stream",
     "text": [
      "Epoch [453/1000], Training Loss: 1.2916, Accuracy: 0.6509\n"
     ]
    },
    {
     "name": "stderr",
     "output_type": "stream",
     "text": [
      "Epoch [454/1000]: 100%|██████████████████████████████████████████| 351/351 [00:23<00:00, 14.74batch/s, Batch Loss=1.29]\n"
     ]
    },
    {
     "name": "stdout",
     "output_type": "stream",
     "text": [
      "Epoch [454/1000], Training Loss: 1.2865, Accuracy: 0.6514\n"
     ]
    },
    {
     "name": "stderr",
     "output_type": "stream",
     "text": [
      "Epoch [455/1000]: 100%|██████████████████████████████████████████| 351/351 [00:25<00:00, 14.00batch/s, Batch Loss=1.24]\n"
     ]
    },
    {
     "name": "stdout",
     "output_type": "stream",
     "text": [
      "Epoch [455/1000], Training Loss: 1.2871, Accuracy: 0.6487\n"
     ]
    },
    {
     "name": "stderr",
     "output_type": "stream",
     "text": [
      "Epoch [456/1000]: 100%|██████████████████████████████████████████| 351/351 [00:25<00:00, 13.98batch/s, Batch Loss=1.26]\n"
     ]
    },
    {
     "name": "stdout",
     "output_type": "stream",
     "text": [
      "Epoch [456/1000], Training Loss: 1.2846, Accuracy: 0.6531\n"
     ]
    },
    {
     "name": "stderr",
     "output_type": "stream",
     "text": [
      "Epoch [457/1000]: 100%|██████████████████████████████████████████| 351/351 [00:23<00:00, 14.67batch/s, Batch Loss=1.56]\n"
     ]
    },
    {
     "name": "stdout",
     "output_type": "stream",
     "text": [
      "Epoch [457/1000], Training Loss: 1.2825, Accuracy: 0.6535\n"
     ]
    },
    {
     "name": "stderr",
     "output_type": "stream",
     "text": [
      "Epoch [458/1000]: 100%|███████████████████████████████████████████| 351/351 [00:23<00:00, 14.86batch/s, Batch Loss=1.4]\n"
     ]
    },
    {
     "name": "stdout",
     "output_type": "stream",
     "text": [
      "Epoch [458/1000], Training Loss: 1.2893, Accuracy: 0.6491\n"
     ]
    },
    {
     "name": "stderr",
     "output_type": "stream",
     "text": [
      "Epoch [459/1000]: 100%|██████████████████████████████████████████| 351/351 [00:23<00:00, 14.82batch/s, Batch Loss=1.24]\n"
     ]
    },
    {
     "name": "stdout",
     "output_type": "stream",
     "text": [
      "Epoch [459/1000], Training Loss: 1.2850, Accuracy: 0.6495\n"
     ]
    },
    {
     "name": "stderr",
     "output_type": "stream",
     "text": [
      "Epoch [460/1000]: 100%|███████████████████████████████████████████| 351/351 [00:24<00:00, 14.21batch/s, Batch Loss=1.4]\n"
     ]
    },
    {
     "name": "stdout",
     "output_type": "stream",
     "text": [
      "Epoch [460/1000], Training Loss: 1.2876, Accuracy: 0.6494\n"
     ]
    },
    {
     "name": "stderr",
     "output_type": "stream",
     "text": [
      "Epoch [461/1000]: 100%|██████████████████████████████████████████| 351/351 [00:25<00:00, 13.98batch/s, Batch Loss=1.68]\n"
     ]
    },
    {
     "name": "stdout",
     "output_type": "stream",
     "text": [
      "Epoch [461/1000], Training Loss: 1.2821, Accuracy: 0.6518\n"
     ]
    },
    {
     "name": "stderr",
     "output_type": "stream",
     "text": [
      "Epoch [462/1000]: 100%|██████████████████████████████████████████| 351/351 [00:25<00:00, 13.97batch/s, Batch Loss=1.21]\n"
     ]
    },
    {
     "name": "stdout",
     "output_type": "stream",
     "text": [
      "Epoch [462/1000], Training Loss: 1.2812, Accuracy: 0.6521\n"
     ]
    },
    {
     "name": "stderr",
     "output_type": "stream",
     "text": [
      "Epoch [463/1000]: 100%|██████████████████████████████████████████| 351/351 [00:24<00:00, 14.12batch/s, Batch Loss=1.61]\n"
     ]
    },
    {
     "name": "stdout",
     "output_type": "stream",
     "text": [
      "Epoch [463/1000], Training Loss: 1.2741, Accuracy: 0.6539\n"
     ]
    },
    {
     "name": "stderr",
     "output_type": "stream",
     "text": [
      "Epoch [464/1000]: 100%|██████████████████████████████████████████| 351/351 [00:25<00:00, 13.70batch/s, Batch Loss=1.51]\n"
     ]
    },
    {
     "name": "stdout",
     "output_type": "stream",
     "text": [
      "Epoch [464/1000], Training Loss: 1.2826, Accuracy: 0.6503\n"
     ]
    },
    {
     "name": "stderr",
     "output_type": "stream",
     "text": [
      "Epoch [465/1000]: 100%|██████████████████████████████████████████| 351/351 [00:25<00:00, 13.78batch/s, Batch Loss=1.43]\n"
     ]
    },
    {
     "name": "stdout",
     "output_type": "stream",
     "text": [
      "Epoch [465/1000], Training Loss: 1.2778, Accuracy: 0.6531\n"
     ]
    },
    {
     "name": "stderr",
     "output_type": "stream",
     "text": [
      "Epoch [466/1000]: 100%|██████████████████████████████████████████| 351/351 [00:25<00:00, 13.74batch/s, Batch Loss=1.46]\n"
     ]
    },
    {
     "name": "stdout",
     "output_type": "stream",
     "text": [
      "Epoch [466/1000], Training Loss: 1.2798, Accuracy: 0.6507\n"
     ]
    },
    {
     "name": "stderr",
     "output_type": "stream",
     "text": [
      "Epoch [467/1000]: 100%|██████████████████████████████████████████| 351/351 [00:25<00:00, 13.82batch/s, Batch Loss=1.35]\n"
     ]
    },
    {
     "name": "stdout",
     "output_type": "stream",
     "text": [
      "Epoch [467/1000], Training Loss: 1.2770, Accuracy: 0.6534\n"
     ]
    },
    {
     "name": "stderr",
     "output_type": "stream",
     "text": [
      "Epoch [468/1000]: 100%|██████████████████████████████████████████| 351/351 [00:25<00:00, 13.89batch/s, Batch Loss=1.49]\n"
     ]
    },
    {
     "name": "stdout",
     "output_type": "stream",
     "text": [
      "Epoch [468/1000], Training Loss: 1.2772, Accuracy: 0.6511\n"
     ]
    },
    {
     "name": "stderr",
     "output_type": "stream",
     "text": [
      "Epoch [469/1000]: 100%|██████████████████████████████████████████| 351/351 [00:25<00:00, 13.75batch/s, Batch Loss=1.32]\n"
     ]
    },
    {
     "name": "stdout",
     "output_type": "stream",
     "text": [
      "Epoch [469/1000], Training Loss: 1.2697, Accuracy: 0.6544\n"
     ]
    },
    {
     "name": "stderr",
     "output_type": "stream",
     "text": [
      "Epoch [470/1000]: 100%|██████████████████████████████████████████| 351/351 [00:25<00:00, 13.88batch/s, Batch Loss=1.17]\n"
     ]
    },
    {
     "name": "stdout",
     "output_type": "stream",
     "text": [
      "Epoch [470/1000], Training Loss: 1.2795, Accuracy: 0.6518\n"
     ]
    },
    {
     "name": "stderr",
     "output_type": "stream",
     "text": [
      "Epoch [471/1000]: 100%|██████████████████████████████████████████| 351/351 [00:25<00:00, 13.90batch/s, Batch Loss=1.38]\n"
     ]
    },
    {
     "name": "stdout",
     "output_type": "stream",
     "text": [
      "Epoch [471/1000], Training Loss: 1.2741, Accuracy: 0.6534\n"
     ]
    },
    {
     "name": "stderr",
     "output_type": "stream",
     "text": [
      "Epoch [472/1000]: 100%|███████████████████████████████████████████| 351/351 [00:25<00:00, 13.95batch/s, Batch Loss=1.3]\n"
     ]
    },
    {
     "name": "stdout",
     "output_type": "stream",
     "text": [
      "Epoch [472/1000], Training Loss: 1.2737, Accuracy: 0.6544\n"
     ]
    },
    {
     "name": "stderr",
     "output_type": "stream",
     "text": [
      "Epoch [473/1000]: 100%|██████████████████████████████████████████| 351/351 [00:25<00:00, 13.84batch/s, Batch Loss=1.41]\n"
     ]
    },
    {
     "name": "stdout",
     "output_type": "stream",
     "text": [
      "Epoch [473/1000], Training Loss: 1.2714, Accuracy: 0.6554\n"
     ]
    },
    {
     "name": "stderr",
     "output_type": "stream",
     "text": [
      "Epoch [474/1000]: 100%|██████████████████████████████████████████| 351/351 [00:25<00:00, 13.75batch/s, Batch Loss=1.09]\n"
     ]
    },
    {
     "name": "stdout",
     "output_type": "stream",
     "text": [
      "Epoch [474/1000], Training Loss: 1.2680, Accuracy: 0.6546\n"
     ]
    },
    {
     "name": "stderr",
     "output_type": "stream",
     "text": [
      "Epoch [475/1000]: 100%|██████████████████████████████████████████| 351/351 [00:25<00:00, 13.93batch/s, Batch Loss=1.34]\n"
     ]
    },
    {
     "name": "stdout",
     "output_type": "stream",
     "text": [
      "Epoch [475/1000], Training Loss: 1.2625, Accuracy: 0.6569\n"
     ]
    },
    {
     "name": "stderr",
     "output_type": "stream",
     "text": [
      "Epoch [476/1000]: 100%|██████████████████████████████████████████| 351/351 [00:24<00:00, 14.08batch/s, Batch Loss=1.31]\n"
     ]
    },
    {
     "name": "stdout",
     "output_type": "stream",
     "text": [
      "Epoch [476/1000], Training Loss: 1.2701, Accuracy: 0.6536\n"
     ]
    },
    {
     "name": "stderr",
     "output_type": "stream",
     "text": [
      "Epoch [477/1000]: 100%|██████████████████████████████████████████| 351/351 [00:25<00:00, 13.93batch/s, Batch Loss=1.33]\n"
     ]
    },
    {
     "name": "stdout",
     "output_type": "stream",
     "text": [
      "Epoch [477/1000], Training Loss: 1.2704, Accuracy: 0.6558\n"
     ]
    },
    {
     "name": "stderr",
     "output_type": "stream",
     "text": [
      "Epoch [478/1000]: 100%|██████████████████████████████████████████| 351/351 [00:24<00:00, 14.05batch/s, Batch Loss=1.43]\n"
     ]
    },
    {
     "name": "stdout",
     "output_type": "stream",
     "text": [
      "Epoch [478/1000], Training Loss: 1.2727, Accuracy: 0.6549\n"
     ]
    },
    {
     "name": "stderr",
     "output_type": "stream",
     "text": [
      "Epoch [479/1000]: 100%|██████████████████████████████████████████| 351/351 [00:25<00:00, 13.99batch/s, Batch Loss=1.34]\n"
     ]
    },
    {
     "name": "stdout",
     "output_type": "stream",
     "text": [
      "Epoch [479/1000], Training Loss: 1.2704, Accuracy: 0.6541\n"
     ]
    },
    {
     "name": "stderr",
     "output_type": "stream",
     "text": [
      "Epoch [480/1000]: 100%|██████████████████████████████████████████| 351/351 [00:24<00:00, 14.20batch/s, Batch Loss=1.56]\n"
     ]
    },
    {
     "name": "stdout",
     "output_type": "stream",
     "text": [
      "Epoch [480/1000], Training Loss: 1.2721, Accuracy: 0.6534\n"
     ]
    },
    {
     "name": "stderr",
     "output_type": "stream",
     "text": [
      "Epoch [481/1000]: 100%|██████████████████████████████████████████| 351/351 [00:25<00:00, 13.94batch/s, Batch Loss=1.51]\n"
     ]
    },
    {
     "name": "stdout",
     "output_type": "stream",
     "text": [
      "Epoch [481/1000], Training Loss: 1.2588, Accuracy: 0.6564\n"
     ]
    },
    {
     "name": "stderr",
     "output_type": "stream",
     "text": [
      "Epoch [482/1000]: 100%|███████████████████████████████████████████| 351/351 [00:26<00:00, 13.21batch/s, Batch Loss=1.3]\n"
     ]
    },
    {
     "name": "stdout",
     "output_type": "stream",
     "text": [
      "Epoch [482/1000], Training Loss: 1.2591, Accuracy: 0.6562\n"
     ]
    },
    {
     "name": "stderr",
     "output_type": "stream",
     "text": [
      "Epoch [483/1000]: 100%|███████████████████████████████████████████| 351/351 [00:24<00:00, 14.07batch/s, Batch Loss=1.2]\n"
     ]
    },
    {
     "name": "stdout",
     "output_type": "stream",
     "text": [
      "Epoch [483/1000], Training Loss: 1.2608, Accuracy: 0.6572\n"
     ]
    },
    {
     "name": "stderr",
     "output_type": "stream",
     "text": [
      "Epoch [484/1000]: 100%|██████████████████████████████████████████| 351/351 [00:25<00:00, 13.98batch/s, Batch Loss=1.42]\n"
     ]
    },
    {
     "name": "stdout",
     "output_type": "stream",
     "text": [
      "Epoch [484/1000], Training Loss: 1.2549, Accuracy: 0.6575\n"
     ]
    },
    {
     "name": "stderr",
     "output_type": "stream",
     "text": [
      "Epoch [485/1000]: 100%|██████████████████████████████████████████| 351/351 [00:25<00:00, 13.86batch/s, Batch Loss=1.23]\n"
     ]
    },
    {
     "name": "stdout",
     "output_type": "stream",
     "text": [
      "Epoch [485/1000], Training Loss: 1.2612, Accuracy: 0.6575\n"
     ]
    },
    {
     "name": "stderr",
     "output_type": "stream",
     "text": [
      "Epoch [486/1000]: 100%|██████████████████████████████████████████| 351/351 [00:25<00:00, 13.76batch/s, Batch Loss=1.22]\n"
     ]
    },
    {
     "name": "stdout",
     "output_type": "stream",
     "text": [
      "Epoch [486/1000], Training Loss: 1.2572, Accuracy: 0.6571\n"
     ]
    },
    {
     "name": "stderr",
     "output_type": "stream",
     "text": [
      "Epoch [487/1000]: 100%|██████████████████████████████████████████| 351/351 [00:27<00:00, 12.93batch/s, Batch Loss=1.25]\n"
     ]
    },
    {
     "name": "stdout",
     "output_type": "stream",
     "text": [
      "Epoch [487/1000], Training Loss: 1.2611, Accuracy: 0.6560\n"
     ]
    },
    {
     "name": "stderr",
     "output_type": "stream",
     "text": [
      "Epoch [488/1000]: 100%|██████████████████████████████████████████| 351/351 [00:26<00:00, 13.31batch/s, Batch Loss=1.32]\n"
     ]
    },
    {
     "name": "stdout",
     "output_type": "stream",
     "text": [
      "Epoch [488/1000], Training Loss: 1.2633, Accuracy: 0.6555\n"
     ]
    },
    {
     "name": "stderr",
     "output_type": "stream",
     "text": [
      "Epoch [489/1000]: 100%|███████████████████████████████████████████| 351/351 [00:25<00:00, 13.95batch/s, Batch Loss=1.2]\n"
     ]
    },
    {
     "name": "stdout",
     "output_type": "stream",
     "text": [
      "Epoch [489/1000], Training Loss: 1.2590, Accuracy: 0.6565\n"
     ]
    },
    {
     "name": "stderr",
     "output_type": "stream",
     "text": [
      "Epoch [490/1000]: 100%|██████████████████████████████████████████| 351/351 [00:24<00:00, 14.06batch/s, Batch Loss=1.38]\n"
     ]
    },
    {
     "name": "stdout",
     "output_type": "stream",
     "text": [
      "Epoch [490/1000], Training Loss: 1.2610, Accuracy: 0.6565\n"
     ]
    },
    {
     "name": "stderr",
     "output_type": "stream",
     "text": [
      "Epoch [491/1000]: 100%|██████████████████████████████████████████| 351/351 [00:25<00:00, 13.87batch/s, Batch Loss=1.34]\n"
     ]
    },
    {
     "name": "stdout",
     "output_type": "stream",
     "text": [
      "Epoch [491/1000], Training Loss: 1.2584, Accuracy: 0.6572\n"
     ]
    },
    {
     "name": "stderr",
     "output_type": "stream",
     "text": [
      "Epoch [492/1000]: 100%|██████████████████████████████████████████| 351/351 [00:25<00:00, 13.92batch/s, Batch Loss=1.41]\n"
     ]
    },
    {
     "name": "stdout",
     "output_type": "stream",
     "text": [
      "Epoch [492/1000], Training Loss: 1.2516, Accuracy: 0.6587\n"
     ]
    },
    {
     "name": "stderr",
     "output_type": "stream",
     "text": [
      "Epoch [493/1000]: 100%|██████████████████████████████████████████| 351/351 [00:25<00:00, 13.95batch/s, Batch Loss=1.34]\n"
     ]
    },
    {
     "name": "stdout",
     "output_type": "stream",
     "text": [
      "Epoch [493/1000], Training Loss: 1.2491, Accuracy: 0.6607\n"
     ]
    },
    {
     "name": "stderr",
     "output_type": "stream",
     "text": [
      "Epoch [494/1000]: 100%|██████████████████████████████████████████| 351/351 [00:25<00:00, 13.87batch/s, Batch Loss=1.26]\n"
     ]
    },
    {
     "name": "stdout",
     "output_type": "stream",
     "text": [
      "Epoch [494/1000], Training Loss: 1.2549, Accuracy: 0.6563\n"
     ]
    },
    {
     "name": "stderr",
     "output_type": "stream",
     "text": [
      "Epoch [495/1000]: 100%|██████████████████████████████████████████| 351/351 [00:25<00:00, 13.82batch/s, Batch Loss=1.14]\n"
     ]
    },
    {
     "name": "stdout",
     "output_type": "stream",
     "text": [
      "Epoch [495/1000], Training Loss: 1.2556, Accuracy: 0.6572\n"
     ]
    },
    {
     "name": "stderr",
     "output_type": "stream",
     "text": [
      "Epoch [496/1000]: 100%|██████████████████████████████████████████| 351/351 [00:25<00:00, 13.83batch/s, Batch Loss=1.36]\n"
     ]
    },
    {
     "name": "stdout",
     "output_type": "stream",
     "text": [
      "Epoch [496/1000], Training Loss: 1.2481, Accuracy: 0.6592\n"
     ]
    },
    {
     "name": "stderr",
     "output_type": "stream",
     "text": [
      "Epoch [497/1000]: 100%|██████████████████████████████████████████| 351/351 [00:25<00:00, 13.73batch/s, Batch Loss=1.52]\n"
     ]
    },
    {
     "name": "stdout",
     "output_type": "stream",
     "text": [
      "Epoch [497/1000], Training Loss: 1.2523, Accuracy: 0.6585\n"
     ]
    },
    {
     "name": "stderr",
     "output_type": "stream",
     "text": [
      "Epoch [498/1000]: 100%|██████████████████████████████████████████| 351/351 [00:25<00:00, 13.83batch/s, Batch Loss=1.25]\n"
     ]
    },
    {
     "name": "stdout",
     "output_type": "stream",
     "text": [
      "Epoch [498/1000], Training Loss: 1.2477, Accuracy: 0.6606\n"
     ]
    },
    {
     "name": "stderr",
     "output_type": "stream",
     "text": [
      "Epoch [499/1000]: 100%|██████████████████████████████████████████| 351/351 [00:25<00:00, 13.95batch/s, Batch Loss=1.25]\n"
     ]
    },
    {
     "name": "stdout",
     "output_type": "stream",
     "text": [
      "Epoch [499/1000], Training Loss: 1.2401, Accuracy: 0.6606\n"
     ]
    },
    {
     "name": "stderr",
     "output_type": "stream",
     "text": [
      "Epoch [500/1000]: 100%|██████████████████████████████████████████| 351/351 [00:25<00:00, 13.89batch/s, Batch Loss=1.29]\n"
     ]
    },
    {
     "name": "stdout",
     "output_type": "stream",
     "text": [
      "Epoch [500/1000], Training Loss: 1.2496, Accuracy: 0.6575\n",
      "Model saved at 'uet4rec64_ml_model_epoch_500.pth'\n"
     ]
    },
    {
     "name": "stderr",
     "output_type": "stream",
     "text": [
      "Epoch [501/1000]: 100%|██████████████████████████████████████████| 351/351 [00:25<00:00, 13.84batch/s, Batch Loss=1.54]\n"
     ]
    },
    {
     "name": "stdout",
     "output_type": "stream",
     "text": [
      "Epoch [501/1000], Training Loss: 1.2459, Accuracy: 0.6602\n"
     ]
    },
    {
     "name": "stderr",
     "output_type": "stream",
     "text": [
      "Epoch [502/1000]: 100%|██████████████████████████████████████████| 351/351 [00:25<00:00, 13.87batch/s, Batch Loss=1.44]\n"
     ]
    },
    {
     "name": "stdout",
     "output_type": "stream",
     "text": [
      "Epoch [502/1000], Training Loss: 1.2500, Accuracy: 0.6590\n"
     ]
    },
    {
     "name": "stderr",
     "output_type": "stream",
     "text": [
      "Epoch [503/1000]: 100%|██████████████████████████████████████████| 351/351 [00:25<00:00, 13.76batch/s, Batch Loss=1.15]\n"
     ]
    },
    {
     "name": "stdout",
     "output_type": "stream",
     "text": [
      "Epoch [503/1000], Training Loss: 1.2506, Accuracy: 0.6586\n"
     ]
    },
    {
     "name": "stderr",
     "output_type": "stream",
     "text": [
      "Epoch [504/1000]: 100%|██████████████████████████████████████████| 351/351 [00:25<00:00, 13.89batch/s, Batch Loss=1.15]\n"
     ]
    },
    {
     "name": "stdout",
     "output_type": "stream",
     "text": [
      "Epoch [504/1000], Training Loss: 1.2468, Accuracy: 0.6595\n"
     ]
    },
    {
     "name": "stderr",
     "output_type": "stream",
     "text": [
      "Epoch [505/1000]: 100%|██████████████████████████████████████████| 351/351 [00:25<00:00, 13.83batch/s, Batch Loss=1.46]\n"
     ]
    },
    {
     "name": "stdout",
     "output_type": "stream",
     "text": [
      "Epoch [505/1000], Training Loss: 1.2475, Accuracy: 0.6599\n"
     ]
    },
    {
     "name": "stderr",
     "output_type": "stream",
     "text": [
      "Epoch [506/1000]: 100%|██████████████████████████████████████████| 351/351 [00:25<00:00, 13.90batch/s, Batch Loss=1.37]\n"
     ]
    },
    {
     "name": "stdout",
     "output_type": "stream",
     "text": [
      "Epoch [506/1000], Training Loss: 1.2446, Accuracy: 0.6599\n"
     ]
    },
    {
     "name": "stderr",
     "output_type": "stream",
     "text": [
      "Epoch [507/1000]: 100%|███████████████████████████████████████████| 351/351 [00:25<00:00, 13.52batch/s, Batch Loss=1.5]\n"
     ]
    },
    {
     "name": "stdout",
     "output_type": "stream",
     "text": [
      "Epoch [507/1000], Training Loss: 1.2464, Accuracy: 0.6614\n"
     ]
    },
    {
     "name": "stderr",
     "output_type": "stream",
     "text": [
      "Epoch [508/1000]: 100%|██████████████████████████████████████████| 351/351 [00:26<00:00, 13.14batch/s, Batch Loss=1.23]\n"
     ]
    },
    {
     "name": "stdout",
     "output_type": "stream",
     "text": [
      "Epoch [508/1000], Training Loss: 1.2457, Accuracy: 0.6594\n"
     ]
    },
    {
     "name": "stderr",
     "output_type": "stream",
     "text": [
      "Epoch [509/1000]: 100%|█████████████████████████████████████████| 351/351 [00:25<00:00, 13.69batch/s, Batch Loss=0.957]\n"
     ]
    },
    {
     "name": "stdout",
     "output_type": "stream",
     "text": [
      "Epoch [509/1000], Training Loss: 1.2410, Accuracy: 0.6602\n"
     ]
    },
    {
     "name": "stderr",
     "output_type": "stream",
     "text": [
      "Epoch [510/1000]: 100%|██████████████████████████████████████████| 351/351 [00:25<00:00, 13.76batch/s, Batch Loss=1.36]\n"
     ]
    },
    {
     "name": "stdout",
     "output_type": "stream",
     "text": [
      "Epoch [510/1000], Training Loss: 1.2404, Accuracy: 0.6605\n"
     ]
    },
    {
     "name": "stderr",
     "output_type": "stream",
     "text": [
      "Epoch [511/1000]: 100%|██████████████████████████████████████████| 351/351 [00:25<00:00, 13.77batch/s, Batch Loss=1.27]\n"
     ]
    },
    {
     "name": "stdout",
     "output_type": "stream",
     "text": [
      "Epoch [511/1000], Training Loss: 1.2377, Accuracy: 0.6606\n"
     ]
    },
    {
     "name": "stderr",
     "output_type": "stream",
     "text": [
      "Epoch [512/1000]: 100%|██████████████████████████████████████████| 351/351 [00:25<00:00, 13.72batch/s, Batch Loss=1.38]\n"
     ]
    },
    {
     "name": "stdout",
     "output_type": "stream",
     "text": [
      "Epoch [512/1000], Training Loss: 1.2371, Accuracy: 0.6596\n"
     ]
    },
    {
     "name": "stderr",
     "output_type": "stream",
     "text": [
      "Epoch [513/1000]: 100%|██████████████████████████████████████████| 351/351 [00:25<00:00, 13.77batch/s, Batch Loss=1.31]\n"
     ]
    },
    {
     "name": "stdout",
     "output_type": "stream",
     "text": [
      "Epoch [513/1000], Training Loss: 1.2420, Accuracy: 0.6612\n"
     ]
    },
    {
     "name": "stderr",
     "output_type": "stream",
     "text": [
      "Epoch [514/1000]: 100%|██████████████████████████████████████████| 351/351 [00:25<00:00, 13.71batch/s, Batch Loss=1.14]\n"
     ]
    },
    {
     "name": "stdout",
     "output_type": "stream",
     "text": [
      "Epoch [514/1000], Training Loss: 1.2411, Accuracy: 0.6612\n"
     ]
    },
    {
     "name": "stderr",
     "output_type": "stream",
     "text": [
      "Epoch [515/1000]: 100%|██████████████████████████████████████████| 351/351 [00:25<00:00, 13.74batch/s, Batch Loss=1.55]\n"
     ]
    },
    {
     "name": "stdout",
     "output_type": "stream",
     "text": [
      "Epoch [515/1000], Training Loss: 1.2330, Accuracy: 0.6617\n"
     ]
    },
    {
     "name": "stderr",
     "output_type": "stream",
     "text": [
      "Epoch [516/1000]: 100%|██████████████████████████████████████████| 351/351 [00:25<00:00, 13.75batch/s, Batch Loss=1.24]\n"
     ]
    },
    {
     "name": "stdout",
     "output_type": "stream",
     "text": [
      "Epoch [516/1000], Training Loss: 1.2354, Accuracy: 0.6597\n"
     ]
    },
    {
     "name": "stderr",
     "output_type": "stream",
     "text": [
      "Epoch [517/1000]: 100%|██████████████████████████████████████████| 351/351 [00:25<00:00, 13.89batch/s, Batch Loss=1.41]\n"
     ]
    },
    {
     "name": "stdout",
     "output_type": "stream",
     "text": [
      "Epoch [517/1000], Training Loss: 1.2384, Accuracy: 0.6599\n"
     ]
    },
    {
     "name": "stderr",
     "output_type": "stream",
     "text": [
      "Epoch [518/1000]: 100%|██████████████████████████████████████████| 351/351 [00:25<00:00, 13.88batch/s, Batch Loss=1.44]\n"
     ]
    },
    {
     "name": "stdout",
     "output_type": "stream",
     "text": [
      "Epoch [518/1000], Training Loss: 1.2331, Accuracy: 0.6631\n"
     ]
    },
    {
     "name": "stderr",
     "output_type": "stream",
     "text": [
      "Epoch [519/1000]: 100%|██████████████████████████████████████████| 351/351 [00:25<00:00, 13.76batch/s, Batch Loss=1.42]\n"
     ]
    },
    {
     "name": "stdout",
     "output_type": "stream",
     "text": [
      "Epoch [519/1000], Training Loss: 1.2338, Accuracy: 0.6609\n"
     ]
    },
    {
     "name": "stderr",
     "output_type": "stream",
     "text": [
      "Epoch [520/1000]: 100%|██████████████████████████████████████████| 351/351 [00:25<00:00, 13.80batch/s, Batch Loss=1.46]\n"
     ]
    },
    {
     "name": "stdout",
     "output_type": "stream",
     "text": [
      "Epoch [520/1000], Training Loss: 1.2328, Accuracy: 0.6644\n"
     ]
    },
    {
     "name": "stderr",
     "output_type": "stream",
     "text": [
      "Epoch [521/1000]: 100%|██████████████████████████████████████████| 351/351 [00:25<00:00, 13.85batch/s, Batch Loss=1.33]\n"
     ]
    },
    {
     "name": "stdout",
     "output_type": "stream",
     "text": [
      "Epoch [521/1000], Training Loss: 1.2323, Accuracy: 0.6616\n"
     ]
    },
    {
     "name": "stderr",
     "output_type": "stream",
     "text": [
      "Epoch [522/1000]: 100%|██████████████████████████████████████████| 351/351 [00:25<00:00, 13.75batch/s, Batch Loss=1.41]\n"
     ]
    },
    {
     "name": "stdout",
     "output_type": "stream",
     "text": [
      "Epoch [522/1000], Training Loss: 1.2375, Accuracy: 0.6616\n"
     ]
    },
    {
     "name": "stderr",
     "output_type": "stream",
     "text": [
      "Epoch [523/1000]: 100%|██████████████████████████████████████████| 351/351 [00:25<00:00, 13.83batch/s, Batch Loss=1.39]\n"
     ]
    },
    {
     "name": "stdout",
     "output_type": "stream",
     "text": [
      "Epoch [523/1000], Training Loss: 1.2228, Accuracy: 0.6653\n"
     ]
    },
    {
     "name": "stderr",
     "output_type": "stream",
     "text": [
      "Epoch [524/1000]: 100%|██████████████████████████████████████████| 351/351 [00:25<00:00, 13.81batch/s, Batch Loss=1.29]\n"
     ]
    },
    {
     "name": "stdout",
     "output_type": "stream",
     "text": [
      "Epoch [524/1000], Training Loss: 1.2318, Accuracy: 0.6622\n"
     ]
    },
    {
     "name": "stderr",
     "output_type": "stream",
     "text": [
      "Epoch [525/1000]: 100%|██████████████████████████████████████████| 351/351 [00:25<00:00, 13.84batch/s, Batch Loss=1.44]\n"
     ]
    },
    {
     "name": "stdout",
     "output_type": "stream",
     "text": [
      "Epoch [525/1000], Training Loss: 1.2286, Accuracy: 0.6631\n"
     ]
    },
    {
     "name": "stderr",
     "output_type": "stream",
     "text": [
      "Epoch [526/1000]: 100%|██████████████████████████████████████████| 351/351 [00:25<00:00, 13.86batch/s, Batch Loss=1.44]\n"
     ]
    },
    {
     "name": "stdout",
     "output_type": "stream",
     "text": [
      "Epoch [526/1000], Training Loss: 1.2368, Accuracy: 0.6615\n"
     ]
    },
    {
     "name": "stderr",
     "output_type": "stream",
     "text": [
      "Epoch [527/1000]: 100%|██████████████████████████████████████████| 351/351 [00:25<00:00, 13.82batch/s, Batch Loss=1.31]\n"
     ]
    },
    {
     "name": "stdout",
     "output_type": "stream",
     "text": [
      "Epoch [527/1000], Training Loss: 1.2290, Accuracy: 0.6620\n"
     ]
    },
    {
     "name": "stderr",
     "output_type": "stream",
     "text": [
      "Epoch [528/1000]: 100%|██████████████████████████████████████████| 351/351 [00:25<00:00, 13.76batch/s, Batch Loss=1.43]\n"
     ]
    },
    {
     "name": "stdout",
     "output_type": "stream",
     "text": [
      "Epoch [528/1000], Training Loss: 1.2318, Accuracy: 0.6620\n"
     ]
    },
    {
     "name": "stderr",
     "output_type": "stream",
     "text": [
      "Epoch [529/1000]: 100%|██████████████████████████████████████████| 351/351 [00:25<00:00, 13.54batch/s, Batch Loss=1.46]\n"
     ]
    },
    {
     "name": "stdout",
     "output_type": "stream",
     "text": [
      "Epoch [529/1000], Training Loss: 1.2299, Accuracy: 0.6632\n"
     ]
    },
    {
     "name": "stderr",
     "output_type": "stream",
     "text": [
      "Epoch [530/1000]: 100%|██████████████████████████████████████████| 351/351 [00:25<00:00, 13.59batch/s, Batch Loss=1.22]\n"
     ]
    },
    {
     "name": "stdout",
     "output_type": "stream",
     "text": [
      "Epoch [530/1000], Training Loss: 1.2271, Accuracy: 0.6638\n"
     ]
    },
    {
     "name": "stderr",
     "output_type": "stream",
     "text": [
      "Epoch [531/1000]: 100%|██████████████████████████████████████████| 351/351 [00:25<00:00, 13.89batch/s, Batch Loss=1.18]\n"
     ]
    },
    {
     "name": "stdout",
     "output_type": "stream",
     "text": [
      "Epoch [531/1000], Training Loss: 1.2301, Accuracy: 0.6637\n"
     ]
    },
    {
     "name": "stderr",
     "output_type": "stream",
     "text": [
      "Epoch [532/1000]: 100%|██████████████████████████████████████████| 351/351 [00:25<00:00, 13.83batch/s, Batch Loss=1.32]\n"
     ]
    },
    {
     "name": "stdout",
     "output_type": "stream",
     "text": [
      "Epoch [532/1000], Training Loss: 1.2226, Accuracy: 0.6652\n"
     ]
    },
    {
     "name": "stderr",
     "output_type": "stream",
     "text": [
      "Epoch [533/1000]: 100%|██████████████████████████████████████████| 351/351 [00:25<00:00, 13.85batch/s, Batch Loss=1.14]\n"
     ]
    },
    {
     "name": "stdout",
     "output_type": "stream",
     "text": [
      "Epoch [533/1000], Training Loss: 1.2318, Accuracy: 0.6615\n"
     ]
    },
    {
     "name": "stderr",
     "output_type": "stream",
     "text": [
      "Epoch [534/1000]: 100%|██████████████████████████████████████████| 351/351 [00:25<00:00, 13.92batch/s, Batch Loss=1.27]\n"
     ]
    },
    {
     "name": "stdout",
     "output_type": "stream",
     "text": [
      "Epoch [534/1000], Training Loss: 1.2274, Accuracy: 0.6626\n"
     ]
    },
    {
     "name": "stderr",
     "output_type": "stream",
     "text": [
      "Epoch [535/1000]: 100%|██████████████████████████████████████████| 351/351 [00:25<00:00, 13.82batch/s, Batch Loss=1.36]\n"
     ]
    },
    {
     "name": "stdout",
     "output_type": "stream",
     "text": [
      "Epoch [535/1000], Training Loss: 1.2199, Accuracy: 0.6645\n"
     ]
    },
    {
     "name": "stderr",
     "output_type": "stream",
     "text": [
      "Epoch [536/1000]: 100%|██████████████████████████████████████████| 351/351 [00:25<00:00, 13.70batch/s, Batch Loss=1.29]\n"
     ]
    },
    {
     "name": "stdout",
     "output_type": "stream",
     "text": [
      "Epoch [536/1000], Training Loss: 1.2266, Accuracy: 0.6634\n"
     ]
    },
    {
     "name": "stderr",
     "output_type": "stream",
     "text": [
      "Epoch [537/1000]: 100%|██████████████████████████████████████████| 351/351 [00:25<00:00, 13.84batch/s, Batch Loss=1.25]\n"
     ]
    },
    {
     "name": "stdout",
     "output_type": "stream",
     "text": [
      "Epoch [537/1000], Training Loss: 1.2220, Accuracy: 0.6654\n"
     ]
    },
    {
     "name": "stderr",
     "output_type": "stream",
     "text": [
      "Epoch [538/1000]: 100%|███████████████████████████████████████████| 351/351 [00:25<00:00, 13.77batch/s, Batch Loss=1.4]\n"
     ]
    },
    {
     "name": "stdout",
     "output_type": "stream",
     "text": [
      "Epoch [538/1000], Training Loss: 1.2212, Accuracy: 0.6632\n"
     ]
    },
    {
     "name": "stderr",
     "output_type": "stream",
     "text": [
      "Epoch [539/1000]: 100%|██████████████████████████████████████████| 351/351 [00:25<00:00, 13.75batch/s, Batch Loss=1.35]\n"
     ]
    },
    {
     "name": "stdout",
     "output_type": "stream",
     "text": [
      "Epoch [539/1000], Training Loss: 1.2218, Accuracy: 0.6653\n"
     ]
    },
    {
     "name": "stderr",
     "output_type": "stream",
     "text": [
      "Epoch [540/1000]: 100%|██████████████████████████████████████████| 351/351 [00:25<00:00, 13.80batch/s, Batch Loss=1.31]\n"
     ]
    },
    {
     "name": "stdout",
     "output_type": "stream",
     "text": [
      "Epoch [540/1000], Training Loss: 1.2224, Accuracy: 0.6635\n"
     ]
    },
    {
     "name": "stderr",
     "output_type": "stream",
     "text": [
      "Epoch [541/1000]: 100%|██████████████████████████████████████████| 351/351 [00:25<00:00, 13.89batch/s, Batch Loss=1.27]\n"
     ]
    },
    {
     "name": "stdout",
     "output_type": "stream",
     "text": [
      "Epoch [541/1000], Training Loss: 1.2232, Accuracy: 0.6654\n"
     ]
    },
    {
     "name": "stderr",
     "output_type": "stream",
     "text": [
      "Epoch [542/1000]: 100%|██████████████████████████████████████████| 351/351 [00:25<00:00, 13.92batch/s, Batch Loss=1.18]\n"
     ]
    },
    {
     "name": "stdout",
     "output_type": "stream",
     "text": [
      "Epoch [542/1000], Training Loss: 1.2191, Accuracy: 0.6664\n"
     ]
    },
    {
     "name": "stderr",
     "output_type": "stream",
     "text": [
      "Epoch [543/1000]: 100%|██████████████████████████████████████████| 351/351 [00:25<00:00, 13.91batch/s, Batch Loss=1.24]\n"
     ]
    },
    {
     "name": "stdout",
     "output_type": "stream",
     "text": [
      "Epoch [543/1000], Training Loss: 1.2189, Accuracy: 0.6657\n"
     ]
    },
    {
     "name": "stderr",
     "output_type": "stream",
     "text": [
      "Epoch [544/1000]: 100%|██████████████████████████████████████████| 351/351 [00:25<00:00, 13.75batch/s, Batch Loss=1.16]\n"
     ]
    },
    {
     "name": "stdout",
     "output_type": "stream",
     "text": [
      "Epoch [544/1000], Training Loss: 1.2174, Accuracy: 0.6656\n"
     ]
    },
    {
     "name": "stderr",
     "output_type": "stream",
     "text": [
      "Epoch [545/1000]: 100%|██████████████████████████████████████████| 351/351 [00:25<00:00, 13.76batch/s, Batch Loss=1.36]\n"
     ]
    },
    {
     "name": "stdout",
     "output_type": "stream",
     "text": [
      "Epoch [545/1000], Training Loss: 1.2163, Accuracy: 0.6669\n"
     ]
    },
    {
     "name": "stderr",
     "output_type": "stream",
     "text": [
      "Epoch [546/1000]: 100%|██████████████████████████████████████████| 351/351 [00:25<00:00, 13.83batch/s, Batch Loss=1.44]\n"
     ]
    },
    {
     "name": "stdout",
     "output_type": "stream",
     "text": [
      "Epoch [546/1000], Training Loss: 1.2243, Accuracy: 0.6639\n"
     ]
    },
    {
     "name": "stderr",
     "output_type": "stream",
     "text": [
      "Epoch [547/1000]: 100%|██████████████████████████████████████████| 351/351 [00:25<00:00, 13.87batch/s, Batch Loss=1.13]\n"
     ]
    },
    {
     "name": "stdout",
     "output_type": "stream",
     "text": [
      "Epoch [547/1000], Training Loss: 1.2139, Accuracy: 0.6658\n"
     ]
    },
    {
     "name": "stderr",
     "output_type": "stream",
     "text": [
      "Epoch [548/1000]: 100%|██████████████████████████████████████████| 351/351 [00:25<00:00, 13.96batch/s, Batch Loss=1.19]\n"
     ]
    },
    {
     "name": "stdout",
     "output_type": "stream",
     "text": [
      "Epoch [548/1000], Training Loss: 1.2162, Accuracy: 0.6664\n"
     ]
    },
    {
     "name": "stderr",
     "output_type": "stream",
     "text": [
      "Epoch [549/1000]: 100%|██████████████████████████████████████████| 351/351 [00:25<00:00, 13.74batch/s, Batch Loss=1.37]\n"
     ]
    },
    {
     "name": "stdout",
     "output_type": "stream",
     "text": [
      "Epoch [549/1000], Training Loss: 1.2079, Accuracy: 0.6682\n"
     ]
    },
    {
     "name": "stderr",
     "output_type": "stream",
     "text": [
      "Epoch [550/1000]: 100%|██████████████████████████████████████████| 351/351 [00:27<00:00, 12.93batch/s, Batch Loss=1.44]\n"
     ]
    },
    {
     "name": "stdout",
     "output_type": "stream",
     "text": [
      "Epoch [550/1000], Training Loss: 1.2211, Accuracy: 0.6657\n",
      "Model saved at 'uet4rec64_ml_model_epoch_550.pth'\n"
     ]
    },
    {
     "name": "stderr",
     "output_type": "stream",
     "text": [
      "Epoch [551/1000]: 100%|██████████████████████████████████████████| 351/351 [00:25<00:00, 13.79batch/s, Batch Loss=1.53]\n"
     ]
    },
    {
     "name": "stdout",
     "output_type": "stream",
     "text": [
      "Epoch [551/1000], Training Loss: 1.2105, Accuracy: 0.6688\n"
     ]
    },
    {
     "name": "stderr",
     "output_type": "stream",
     "text": [
      "Epoch [552/1000]: 100%|██████████████████████████████████████████| 351/351 [00:25<00:00, 13.95batch/s, Batch Loss=1.31]\n"
     ]
    },
    {
     "name": "stdout",
     "output_type": "stream",
     "text": [
      "Epoch [552/1000], Training Loss: 1.2109, Accuracy: 0.6683\n"
     ]
    },
    {
     "name": "stderr",
     "output_type": "stream",
     "text": [
      "Epoch [553/1000]: 100%|██████████████████████████████████████████| 351/351 [00:25<00:00, 13.79batch/s, Batch Loss=1.35]\n"
     ]
    },
    {
     "name": "stdout",
     "output_type": "stream",
     "text": [
      "Epoch [553/1000], Training Loss: 1.2119, Accuracy: 0.6674\n"
     ]
    },
    {
     "name": "stderr",
     "output_type": "stream",
     "text": [
      "Epoch [554/1000]: 100%|██████████████████████████████████████████| 351/351 [00:25<00:00, 13.70batch/s, Batch Loss=1.43]\n"
     ]
    },
    {
     "name": "stdout",
     "output_type": "stream",
     "text": [
      "Epoch [554/1000], Training Loss: 1.2137, Accuracy: 0.6662\n"
     ]
    },
    {
     "name": "stderr",
     "output_type": "stream",
     "text": [
      "Epoch [555/1000]: 100%|██████████████████████████████████████████| 351/351 [00:25<00:00, 13.65batch/s, Batch Loss=1.36]\n"
     ]
    },
    {
     "name": "stdout",
     "output_type": "stream",
     "text": [
      "Epoch [555/1000], Training Loss: 1.2062, Accuracy: 0.6684\n"
     ]
    },
    {
     "name": "stderr",
     "output_type": "stream",
     "text": [
      "Epoch [556/1000]: 100%|██████████████████████████████████████████| 351/351 [00:25<00:00, 13.71batch/s, Batch Loss=1.36]\n"
     ]
    },
    {
     "name": "stdout",
     "output_type": "stream",
     "text": [
      "Epoch [556/1000], Training Loss: 1.2095, Accuracy: 0.6699\n"
     ]
    },
    {
     "name": "stderr",
     "output_type": "stream",
     "text": [
      "Epoch [557/1000]: 100%|██████████████████████████████████████████| 351/351 [00:26<00:00, 13.08batch/s, Batch Loss=1.22]\n"
     ]
    },
    {
     "name": "stdout",
     "output_type": "stream",
     "text": [
      "Epoch [557/1000], Training Loss: 1.2110, Accuracy: 0.6662\n"
     ]
    },
    {
     "name": "stderr",
     "output_type": "stream",
     "text": [
      "Epoch [558/1000]: 100%|███████████████████████████████████████████| 351/351 [00:25<00:00, 13.59batch/s, Batch Loss=1.3]\n"
     ]
    },
    {
     "name": "stdout",
     "output_type": "stream",
     "text": [
      "Epoch [558/1000], Training Loss: 1.2076, Accuracy: 0.6687\n"
     ]
    },
    {
     "name": "stderr",
     "output_type": "stream",
     "text": [
      "Epoch [559/1000]: 100%|██████████████████████████████████████████| 351/351 [00:25<00:00, 13.96batch/s, Batch Loss=1.35]\n"
     ]
    },
    {
     "name": "stdout",
     "output_type": "stream",
     "text": [
      "Epoch [559/1000], Training Loss: 1.2120, Accuracy: 0.6667\n"
     ]
    },
    {
     "name": "stderr",
     "output_type": "stream",
     "text": [
      "Epoch [560/1000]: 100%|██████████████████████████████████████████| 351/351 [00:25<00:00, 13.64batch/s, Batch Loss=1.22]\n"
     ]
    },
    {
     "name": "stdout",
     "output_type": "stream",
     "text": [
      "Epoch [560/1000], Training Loss: 1.1977, Accuracy: 0.6699\n"
     ]
    },
    {
     "name": "stderr",
     "output_type": "stream",
     "text": [
      "Epoch [561/1000]: 100%|███████████████████████████████████████████| 351/351 [00:24<00:00, 14.07batch/s, Batch Loss=1.3]\n"
     ]
    },
    {
     "name": "stdout",
     "output_type": "stream",
     "text": [
      "Epoch [561/1000], Training Loss: 1.2109, Accuracy: 0.6649\n"
     ]
    },
    {
     "name": "stderr",
     "output_type": "stream",
     "text": [
      "Epoch [562/1000]: 100%|██████████████████████████████████████████| 351/351 [00:25<00:00, 13.98batch/s, Batch Loss=1.37]\n"
     ]
    },
    {
     "name": "stdout",
     "output_type": "stream",
     "text": [
      "Epoch [562/1000], Training Loss: 1.2025, Accuracy: 0.6698\n"
     ]
    },
    {
     "name": "stderr",
     "output_type": "stream",
     "text": [
      "Epoch [563/1000]: 100%|██████████████████████████████████████████| 351/351 [00:25<00:00, 13.97batch/s, Batch Loss=1.27]\n"
     ]
    },
    {
     "name": "stdout",
     "output_type": "stream",
     "text": [
      "Epoch [563/1000], Training Loss: 1.2044, Accuracy: 0.6680\n"
     ]
    },
    {
     "name": "stderr",
     "output_type": "stream",
     "text": [
      "Epoch [564/1000]: 100%|██████████████████████████████████████████| 351/351 [00:24<00:00, 14.10batch/s, Batch Loss=1.37]\n"
     ]
    },
    {
     "name": "stdout",
     "output_type": "stream",
     "text": [
      "Epoch [564/1000], Training Loss: 1.2018, Accuracy: 0.6697\n"
     ]
    },
    {
     "name": "stderr",
     "output_type": "stream",
     "text": [
      "Epoch [565/1000]: 100%|██████████████████████████████████████████| 351/351 [00:50<00:00,  6.98batch/s, Batch Loss=1.19]\n"
     ]
    },
    {
     "name": "stdout",
     "output_type": "stream",
     "text": [
      "Epoch [565/1000], Training Loss: 1.2101, Accuracy: 0.6672\n"
     ]
    },
    {
     "name": "stderr",
     "output_type": "stream",
     "text": [
      "Epoch [566/1000]: 100%|██████████████████████████████████████████| 351/351 [00:54<00:00,  6.44batch/s, Batch Loss=1.44]\n"
     ]
    },
    {
     "name": "stdout",
     "output_type": "stream",
     "text": [
      "Epoch [566/1000], Training Loss: 1.2061, Accuracy: 0.6691\n"
     ]
    },
    {
     "name": "stderr",
     "output_type": "stream",
     "text": [
      "Epoch [567/1000]: 100%|██████████████████████████████████████████| 351/351 [00:54<00:00,  6.42batch/s, Batch Loss=1.12]\n"
     ]
    },
    {
     "name": "stdout",
     "output_type": "stream",
     "text": [
      "Epoch [567/1000], Training Loss: 1.2065, Accuracy: 0.6666\n"
     ]
    },
    {
     "name": "stderr",
     "output_type": "stream",
     "text": [
      "Epoch [568/1000]: 100%|██████████████████████████████████████████| 351/351 [00:54<00:00,  6.42batch/s, Batch Loss=1.22]\n"
     ]
    },
    {
     "name": "stdout",
     "output_type": "stream",
     "text": [
      "Epoch [568/1000], Training Loss: 1.1954, Accuracy: 0.6694\n"
     ]
    },
    {
     "name": "stderr",
     "output_type": "stream",
     "text": [
      "Epoch [569/1000]: 100%|██████████████████████████████████████████| 351/351 [00:54<00:00,  6.45batch/s, Batch Loss=1.28]\n"
     ]
    },
    {
     "name": "stdout",
     "output_type": "stream",
     "text": [
      "Epoch [569/1000], Training Loss: 1.2097, Accuracy: 0.6685\n"
     ]
    },
    {
     "name": "stderr",
     "output_type": "stream",
     "text": [
      "Epoch [570/1000]: 100%|██████████████████████████████████████████| 351/351 [00:54<00:00,  6.44batch/s, Batch Loss=1.41]\n"
     ]
    },
    {
     "name": "stdout",
     "output_type": "stream",
     "text": [
      "Epoch [570/1000], Training Loss: 1.2079, Accuracy: 0.6682\n"
     ]
    },
    {
     "name": "stderr",
     "output_type": "stream",
     "text": [
      "Epoch [571/1000]: 100%|██████████████████████████████████████████| 351/351 [00:54<00:00,  6.43batch/s, Batch Loss=1.27]\n"
     ]
    },
    {
     "name": "stdout",
     "output_type": "stream",
     "text": [
      "Epoch [571/1000], Training Loss: 1.1966, Accuracy: 0.6692\n"
     ]
    },
    {
     "name": "stderr",
     "output_type": "stream",
     "text": [
      "Epoch [572/1000]: 100%|██████████████████████████████████████████| 351/351 [00:54<00:00,  6.47batch/s, Batch Loss=1.27]\n"
     ]
    },
    {
     "name": "stdout",
     "output_type": "stream",
     "text": [
      "Epoch [572/1000], Training Loss: 1.1994, Accuracy: 0.6685\n"
     ]
    },
    {
     "name": "stderr",
     "output_type": "stream",
     "text": [
      "Epoch [573/1000]: 100%|██████████████████████████████████████████| 351/351 [00:54<00:00,  6.47batch/s, Batch Loss=1.19]\n"
     ]
    },
    {
     "name": "stdout",
     "output_type": "stream",
     "text": [
      "Epoch [573/1000], Training Loss: 1.1977, Accuracy: 0.6693\n"
     ]
    },
    {
     "name": "stderr",
     "output_type": "stream",
     "text": [
      "Epoch [574/1000]: 100%|███████████████████████████████████████████| 351/351 [00:54<00:00,  6.47batch/s, Batch Loss=1.2]\n"
     ]
    },
    {
     "name": "stdout",
     "output_type": "stream",
     "text": [
      "Epoch [574/1000], Training Loss: 1.2065, Accuracy: 0.6678\n"
     ]
    },
    {
     "name": "stderr",
     "output_type": "stream",
     "text": [
      "Epoch [575/1000]: 100%|██████████████████████████████████████████| 351/351 [00:54<00:00,  6.45batch/s, Batch Loss=1.08]\n"
     ]
    },
    {
     "name": "stdout",
     "output_type": "stream",
     "text": [
      "Epoch [575/1000], Training Loss: 1.1987, Accuracy: 0.6690\n"
     ]
    },
    {
     "name": "stderr",
     "output_type": "stream",
     "text": [
      "Epoch [576/1000]: 100%|██████████████████████████████████████████| 351/351 [00:54<00:00,  6.48batch/s, Batch Loss=1.15]\n"
     ]
    },
    {
     "name": "stdout",
     "output_type": "stream",
     "text": [
      "Epoch [576/1000], Training Loss: 1.1940, Accuracy: 0.6694\n"
     ]
    },
    {
     "name": "stderr",
     "output_type": "stream",
     "text": [
      "Epoch [577/1000]: 100%|██████████████████████████████████████████| 351/351 [00:27<00:00, 12.92batch/s, Batch Loss=1.26]\n"
     ]
    },
    {
     "name": "stdout",
     "output_type": "stream",
     "text": [
      "Epoch [577/1000], Training Loss: 1.2008, Accuracy: 0.6684\n"
     ]
    },
    {
     "name": "stderr",
     "output_type": "stream",
     "text": [
      "Epoch [578/1000]: 100%|███████████████████████████████████████████| 351/351 [00:24<00:00, 14.07batch/s, Batch Loss=1.3]\n"
     ]
    },
    {
     "name": "stdout",
     "output_type": "stream",
     "text": [
      "Epoch [578/1000], Training Loss: 1.1954, Accuracy: 0.6715\n"
     ]
    },
    {
     "name": "stderr",
     "output_type": "stream",
     "text": [
      "Epoch [579/1000]: 100%|██████████████████████████████████████████| 351/351 [00:25<00:00, 13.96batch/s, Batch Loss=1.18]\n"
     ]
    },
    {
     "name": "stdout",
     "output_type": "stream",
     "text": [
      "Epoch [579/1000], Training Loss: 1.1898, Accuracy: 0.6715\n"
     ]
    },
    {
     "name": "stderr",
     "output_type": "stream",
     "text": [
      "Epoch [580/1000]: 100%|██████████████████████████████████████████| 351/351 [00:24<00:00, 14.22batch/s, Batch Loss=1.14]\n"
     ]
    },
    {
     "name": "stdout",
     "output_type": "stream",
     "text": [
      "Epoch [580/1000], Training Loss: 1.1962, Accuracy: 0.6706\n"
     ]
    },
    {
     "name": "stderr",
     "output_type": "stream",
     "text": [
      "Epoch [581/1000]: 100%|██████████████████████████████████████████| 351/351 [00:24<00:00, 14.20batch/s, Batch Loss=1.33]\n"
     ]
    },
    {
     "name": "stdout",
     "output_type": "stream",
     "text": [
      "Epoch [581/1000], Training Loss: 1.2012, Accuracy: 0.6703\n"
     ]
    },
    {
     "name": "stderr",
     "output_type": "stream",
     "text": [
      "Epoch [582/1000]: 100%|██████████████████████████████████████████| 351/351 [00:24<00:00, 14.28batch/s, Batch Loss=1.36]\n"
     ]
    },
    {
     "name": "stdout",
     "output_type": "stream",
     "text": [
      "Epoch [582/1000], Training Loss: 1.1935, Accuracy: 0.6706\n"
     ]
    },
    {
     "name": "stderr",
     "output_type": "stream",
     "text": [
      "Epoch [583/1000]: 100%|██████████████████████████████████████████| 351/351 [00:24<00:00, 14.14batch/s, Batch Loss=1.34]\n"
     ]
    },
    {
     "name": "stdout",
     "output_type": "stream",
     "text": [
      "Epoch [583/1000], Training Loss: 1.1986, Accuracy: 0.6686\n"
     ]
    },
    {
     "name": "stderr",
     "output_type": "stream",
     "text": [
      "Epoch [584/1000]: 100%|██████████████████████████████████████████| 351/351 [00:25<00:00, 13.67batch/s, Batch Loss=1.24]\n"
     ]
    },
    {
     "name": "stdout",
     "output_type": "stream",
     "text": [
      "Epoch [584/1000], Training Loss: 1.1916, Accuracy: 0.6715\n"
     ]
    },
    {
     "name": "stderr",
     "output_type": "stream",
     "text": [
      "Epoch [585/1000]: 100%|███████████████████████████████████████████| 351/351 [00:24<00:00, 14.18batch/s, Batch Loss=1.3]\n"
     ]
    },
    {
     "name": "stdout",
     "output_type": "stream",
     "text": [
      "Epoch [585/1000], Training Loss: 1.1906, Accuracy: 0.6733\n"
     ]
    },
    {
     "name": "stderr",
     "output_type": "stream",
     "text": [
      "Epoch [586/1000]: 100%|██████████████████████████████████████████| 351/351 [00:24<00:00, 14.31batch/s, Batch Loss=1.38]\n"
     ]
    },
    {
     "name": "stdout",
     "output_type": "stream",
     "text": [
      "Epoch [586/1000], Training Loss: 1.1859, Accuracy: 0.6720\n"
     ]
    },
    {
     "name": "stderr",
     "output_type": "stream",
     "text": [
      "Epoch [587/1000]: 100%|██████████████████████████████████████████| 351/351 [00:24<00:00, 14.16batch/s, Batch Loss=1.44]\n"
     ]
    },
    {
     "name": "stdout",
     "output_type": "stream",
     "text": [
      "Epoch [587/1000], Training Loss: 1.1861, Accuracy: 0.6723\n"
     ]
    },
    {
     "name": "stderr",
     "output_type": "stream",
     "text": [
      "Epoch [588/1000]: 100%|██████████████████████████████████████████| 351/351 [00:24<00:00, 14.23batch/s, Batch Loss=1.21]\n"
     ]
    },
    {
     "name": "stdout",
     "output_type": "stream",
     "text": [
      "Epoch [588/1000], Training Loss: 1.1917, Accuracy: 0.6719\n"
     ]
    },
    {
     "name": "stderr",
     "output_type": "stream",
     "text": [
      "Epoch [589/1000]: 100%|███████████████████████████████████████████| 351/351 [00:25<00:00, 13.92batch/s, Batch Loss=1.1]\n"
     ]
    },
    {
     "name": "stdout",
     "output_type": "stream",
     "text": [
      "Epoch [589/1000], Training Loss: 1.1791, Accuracy: 0.6754\n"
     ]
    },
    {
     "name": "stderr",
     "output_type": "stream",
     "text": [
      "Epoch [590/1000]: 100%|██████████████████████████████████████████| 351/351 [00:24<00:00, 14.06batch/s, Batch Loss=1.22]\n"
     ]
    },
    {
     "name": "stdout",
     "output_type": "stream",
     "text": [
      "Epoch [590/1000], Training Loss: 1.1936, Accuracy: 0.6701\n"
     ]
    },
    {
     "name": "stderr",
     "output_type": "stream",
     "text": [
      "Epoch [591/1000]: 100%|██████████████████████████████████████████| 351/351 [00:25<00:00, 13.50batch/s, Batch Loss=1.14]\n"
     ]
    },
    {
     "name": "stdout",
     "output_type": "stream",
     "text": [
      "Epoch [591/1000], Training Loss: 1.1941, Accuracy: 0.6705\n"
     ]
    },
    {
     "name": "stderr",
     "output_type": "stream",
     "text": [
      "Epoch [592/1000]: 100%|██████████████████████████████████████████| 351/351 [00:24<00:00, 14.15batch/s, Batch Loss=1.19]\n"
     ]
    },
    {
     "name": "stdout",
     "output_type": "stream",
     "text": [
      "Epoch [592/1000], Training Loss: 1.1901, Accuracy: 0.6711\n"
     ]
    },
    {
     "name": "stderr",
     "output_type": "stream",
     "text": [
      "Epoch [593/1000]: 100%|██████████████████████████████████████████| 351/351 [00:25<00:00, 13.93batch/s, Batch Loss=1.21]\n"
     ]
    },
    {
     "name": "stdout",
     "output_type": "stream",
     "text": [
      "Epoch [593/1000], Training Loss: 1.1881, Accuracy: 0.6709\n"
     ]
    },
    {
     "name": "stderr",
     "output_type": "stream",
     "text": [
      "Epoch [594/1000]: 100%|██████████████████████████████████████████| 351/351 [00:24<00:00, 14.10batch/s, Batch Loss=1.33]\n"
     ]
    },
    {
     "name": "stdout",
     "output_type": "stream",
     "text": [
      "Epoch [594/1000], Training Loss: 1.1849, Accuracy: 0.6729\n"
     ]
    },
    {
     "name": "stderr",
     "output_type": "stream",
     "text": [
      "Epoch [595/1000]: 100%|██████████████████████████████████████████| 351/351 [00:24<00:00, 14.25batch/s, Batch Loss=1.24]\n"
     ]
    },
    {
     "name": "stdout",
     "output_type": "stream",
     "text": [
      "Epoch [595/1000], Training Loss: 1.1825, Accuracy: 0.6728\n"
     ]
    },
    {
     "name": "stderr",
     "output_type": "stream",
     "text": [
      "Epoch [596/1000]: 100%|██████████████████████████████████████████| 351/351 [00:26<00:00, 13.45batch/s, Batch Loss=1.08]\n"
     ]
    },
    {
     "name": "stdout",
     "output_type": "stream",
     "text": [
      "Epoch [596/1000], Training Loss: 1.1822, Accuracy: 0.6733\n"
     ]
    },
    {
     "name": "stderr",
     "output_type": "stream",
     "text": [
      "Epoch [597/1000]: 100%|██████████████████████████████████████████| 351/351 [00:24<00:00, 14.10batch/s, Batch Loss=1.24]\n"
     ]
    },
    {
     "name": "stdout",
     "output_type": "stream",
     "text": [
      "Epoch [597/1000], Training Loss: 1.1802, Accuracy: 0.6736\n"
     ]
    },
    {
     "name": "stderr",
     "output_type": "stream",
     "text": [
      "Epoch [598/1000]: 100%|██████████████████████████████████████████| 351/351 [00:24<00:00, 14.24batch/s, Batch Loss=1.21]\n"
     ]
    },
    {
     "name": "stdout",
     "output_type": "stream",
     "text": [
      "Epoch [598/1000], Training Loss: 1.1815, Accuracy: 0.6727\n"
     ]
    },
    {
     "name": "stderr",
     "output_type": "stream",
     "text": [
      "Epoch [599/1000]: 100%|██████████████████████████████████████████| 351/351 [00:24<00:00, 14.26batch/s, Batch Loss=1.27]\n"
     ]
    },
    {
     "name": "stdout",
     "output_type": "stream",
     "text": [
      "Epoch [599/1000], Training Loss: 1.1825, Accuracy: 0.6734\n"
     ]
    },
    {
     "name": "stderr",
     "output_type": "stream",
     "text": [
      "Epoch [600/1000]: 100%|██████████████████████████████████████████| 351/351 [00:24<00:00, 14.38batch/s, Batch Loss=1.13]\n"
     ]
    },
    {
     "name": "stdout",
     "output_type": "stream",
     "text": [
      "Epoch [600/1000], Training Loss: 1.1807, Accuracy: 0.6752\n",
      "Model saved at 'uet4rec64_ml_model_epoch_600.pth'\n"
     ]
    },
    {
     "name": "stderr",
     "output_type": "stream",
     "text": [
      "Epoch [601/1000]: 100%|██████████████████████████████████████████| 351/351 [00:24<00:00, 14.26batch/s, Batch Loss=1.28]\n"
     ]
    },
    {
     "name": "stdout",
     "output_type": "stream",
     "text": [
      "Epoch [601/1000], Training Loss: 1.1795, Accuracy: 0.6738\n"
     ]
    },
    {
     "name": "stderr",
     "output_type": "stream",
     "text": [
      "Epoch [602/1000]: 100%|██████████████████████████████████████████| 351/351 [00:25<00:00, 14.01batch/s, Batch Loss=1.36]\n"
     ]
    },
    {
     "name": "stdout",
     "output_type": "stream",
     "text": [
      "Epoch [602/1000], Training Loss: 1.1812, Accuracy: 0.6721\n"
     ]
    },
    {
     "name": "stderr",
     "output_type": "stream",
     "text": [
      "Epoch [603/1000]: 100%|██████████████████████████████████████████| 351/351 [00:26<00:00, 13.46batch/s, Batch Loss=1.07]\n"
     ]
    },
    {
     "name": "stdout",
     "output_type": "stream",
     "text": [
      "Epoch [603/1000], Training Loss: 1.1769, Accuracy: 0.6752\n"
     ]
    },
    {
     "name": "stderr",
     "output_type": "stream",
     "text": [
      "Epoch [604/1000]: 100%|███████████████████████████████████████████| 351/351 [00:26<00:00, 13.37batch/s, Batch Loss=1.1]\n"
     ]
    },
    {
     "name": "stdout",
     "output_type": "stream",
     "text": [
      "Epoch [604/1000], Training Loss: 1.1799, Accuracy: 0.6743\n"
     ]
    },
    {
     "name": "stderr",
     "output_type": "stream",
     "text": [
      "Epoch [605/1000]: 100%|██████████████████████████████████████████| 351/351 [00:24<00:00, 14.08batch/s, Batch Loss=1.28]\n"
     ]
    },
    {
     "name": "stdout",
     "output_type": "stream",
     "text": [
      "Epoch [605/1000], Training Loss: 1.1770, Accuracy: 0.6736\n"
     ]
    },
    {
     "name": "stderr",
     "output_type": "stream",
     "text": [
      "Epoch [606/1000]: 100%|██████████████████████████████████████████| 351/351 [00:24<00:00, 14.34batch/s, Batch Loss=1.25]\n"
     ]
    },
    {
     "name": "stdout",
     "output_type": "stream",
     "text": [
      "Epoch [606/1000], Training Loss: 1.1795, Accuracy: 0.6737\n"
     ]
    },
    {
     "name": "stderr",
     "output_type": "stream",
     "text": [
      "Epoch [607/1000]: 100%|██████████████████████████████████████████| 351/351 [00:24<00:00, 14.19batch/s, Batch Loss=1.19]\n"
     ]
    },
    {
     "name": "stdout",
     "output_type": "stream",
     "text": [
      "Epoch [607/1000], Training Loss: 1.1763, Accuracy: 0.6741\n"
     ]
    },
    {
     "name": "stderr",
     "output_type": "stream",
     "text": [
      "Epoch [608/1000]: 100%|██████████████████████████████████████████| 351/351 [00:25<00:00, 13.92batch/s, Batch Loss=1.36]\n"
     ]
    },
    {
     "name": "stdout",
     "output_type": "stream",
     "text": [
      "Epoch [608/1000], Training Loss: 1.1800, Accuracy: 0.6739\n"
     ]
    },
    {
     "name": "stderr",
     "output_type": "stream",
     "text": [
      "Epoch [609/1000]: 100%|██████████████████████████████████████████| 351/351 [00:24<00:00, 14.09batch/s, Batch Loss=1.24]\n"
     ]
    },
    {
     "name": "stdout",
     "output_type": "stream",
     "text": [
      "Epoch [609/1000], Training Loss: 1.1781, Accuracy: 0.6738\n"
     ]
    },
    {
     "name": "stderr",
     "output_type": "stream",
     "text": [
      "Epoch [610/1000]: 100%|██████████████████████████████████████████| 351/351 [00:24<00:00, 14.12batch/s, Batch Loss=1.13]\n"
     ]
    },
    {
     "name": "stdout",
     "output_type": "stream",
     "text": [
      "Epoch [610/1000], Training Loss: 1.1811, Accuracy: 0.6734\n"
     ]
    },
    {
     "name": "stderr",
     "output_type": "stream",
     "text": [
      "Epoch [611/1000]: 100%|██████████████████████████████████████████| 351/351 [00:24<00:00, 14.50batch/s, Batch Loss=1.31]\n"
     ]
    },
    {
     "name": "stdout",
     "output_type": "stream",
     "text": [
      "Epoch [611/1000], Training Loss: 1.1696, Accuracy: 0.6778\n"
     ]
    },
    {
     "name": "stderr",
     "output_type": "stream",
     "text": [
      "Epoch [612/1000]: 100%|██████████████████████████████████████████| 351/351 [00:24<00:00, 14.43batch/s, Batch Loss=1.25]\n"
     ]
    },
    {
     "name": "stdout",
     "output_type": "stream",
     "text": [
      "Epoch [612/1000], Training Loss: 1.1662, Accuracy: 0.6776\n"
     ]
    },
    {
     "name": "stderr",
     "output_type": "stream",
     "text": [
      "Epoch [613/1000]: 100%|██████████████████████████████████████████| 351/351 [00:24<00:00, 14.40batch/s, Batch Loss=1.08]\n"
     ]
    },
    {
     "name": "stdout",
     "output_type": "stream",
     "text": [
      "Epoch [613/1000], Training Loss: 1.1834, Accuracy: 0.6737\n"
     ]
    },
    {
     "name": "stderr",
     "output_type": "stream",
     "text": [
      "Epoch [614/1000]: 100%|██████████████████████████████████████████| 351/351 [00:24<00:00, 14.22batch/s, Batch Loss=1.09]\n"
     ]
    },
    {
     "name": "stdout",
     "output_type": "stream",
     "text": [
      "Epoch [614/1000], Training Loss: 1.1751, Accuracy: 0.6752\n"
     ]
    },
    {
     "name": "stderr",
     "output_type": "stream",
     "text": [
      "Epoch [615/1000]: 100%|██████████████████████████████████████████| 351/351 [00:24<00:00, 14.34batch/s, Batch Loss=1.19]\n"
     ]
    },
    {
     "name": "stdout",
     "output_type": "stream",
     "text": [
      "Epoch [615/1000], Training Loss: 1.1760, Accuracy: 0.6745\n"
     ]
    },
    {
     "name": "stderr",
     "output_type": "stream",
     "text": [
      "Epoch [616/1000]: 100%|██████████████████████████████████████████| 351/351 [00:24<00:00, 14.22batch/s, Batch Loss=1.06]\n"
     ]
    },
    {
     "name": "stdout",
     "output_type": "stream",
     "text": [
      "Epoch [616/1000], Training Loss: 1.1832, Accuracy: 0.6724\n"
     ]
    },
    {
     "name": "stderr",
     "output_type": "stream",
     "text": [
      "Epoch [617/1000]: 100%|██████████████████████████████████████████| 351/351 [00:24<00:00, 14.29batch/s, Batch Loss=1.35]\n"
     ]
    },
    {
     "name": "stdout",
     "output_type": "stream",
     "text": [
      "Epoch [617/1000], Training Loss: 1.1666, Accuracy: 0.6780\n"
     ]
    },
    {
     "name": "stderr",
     "output_type": "stream",
     "text": [
      "Epoch [618/1000]: 100%|██████████████████████████████████████████| 351/351 [00:25<00:00, 13.96batch/s, Batch Loss=1.21]\n"
     ]
    },
    {
     "name": "stdout",
     "output_type": "stream",
     "text": [
      "Epoch [618/1000], Training Loss: 1.1663, Accuracy: 0.6748\n"
     ]
    },
    {
     "name": "stderr",
     "output_type": "stream",
     "text": [
      "Epoch [619/1000]: 100%|██████████████████████████████████████████| 351/351 [00:24<00:00, 14.25batch/s, Batch Loss=1.22]\n"
     ]
    },
    {
     "name": "stdout",
     "output_type": "stream",
     "text": [
      "Epoch [619/1000], Training Loss: 1.1741, Accuracy: 0.6761\n"
     ]
    },
    {
     "name": "stderr",
     "output_type": "stream",
     "text": [
      "Epoch [620/1000]: 100%|██████████████████████████████████████████| 351/351 [00:25<00:00, 13.59batch/s, Batch Loss=1.25]\n"
     ]
    },
    {
     "name": "stdout",
     "output_type": "stream",
     "text": [
      "Epoch [620/1000], Training Loss: 1.1717, Accuracy: 0.6744\n"
     ]
    },
    {
     "name": "stderr",
     "output_type": "stream",
     "text": [
      "Epoch [621/1000]: 100%|██████████████████████████████████████████| 351/351 [00:27<00:00, 12.58batch/s, Batch Loss=1.37]\n"
     ]
    },
    {
     "name": "stdout",
     "output_type": "stream",
     "text": [
      "Epoch [621/1000], Training Loss: 1.1776, Accuracy: 0.6738\n"
     ]
    },
    {
     "name": "stderr",
     "output_type": "stream",
     "text": [
      "Epoch [622/1000]: 100%|██████████████████████████████████████████| 351/351 [00:25<00:00, 13.74batch/s, Batch Loss=1.13]\n"
     ]
    },
    {
     "name": "stdout",
     "output_type": "stream",
     "text": [
      "Epoch [622/1000], Training Loss: 1.1706, Accuracy: 0.6752\n"
     ]
    },
    {
     "name": "stderr",
     "output_type": "stream",
     "text": [
      "Epoch [623/1000]: 100%|██████████████████████████████████████████| 351/351 [00:24<00:00, 14.23batch/s, Batch Loss=1.43]\n"
     ]
    },
    {
     "name": "stdout",
     "output_type": "stream",
     "text": [
      "Epoch [623/1000], Training Loss: 1.1677, Accuracy: 0.6771\n"
     ]
    },
    {
     "name": "stderr",
     "output_type": "stream",
     "text": [
      "Epoch [624/1000]: 100%|██████████████████████████████████████████| 351/351 [00:24<00:00, 14.43batch/s, Batch Loss=1.34]\n"
     ]
    },
    {
     "name": "stdout",
     "output_type": "stream",
     "text": [
      "Epoch [624/1000], Training Loss: 1.1731, Accuracy: 0.6751\n"
     ]
    },
    {
     "name": "stderr",
     "output_type": "stream",
     "text": [
      "Epoch [625/1000]: 100%|██████████████████████████████████████████| 351/351 [00:24<00:00, 14.28batch/s, Batch Loss=1.22]\n"
     ]
    },
    {
     "name": "stdout",
     "output_type": "stream",
     "text": [
      "Epoch [625/1000], Training Loss: 1.1656, Accuracy: 0.6761\n"
     ]
    },
    {
     "name": "stderr",
     "output_type": "stream",
     "text": [
      "Epoch [626/1000]: 100%|███████████████████████████████████████████| 351/351 [00:24<00:00, 14.16batch/s, Batch Loss=1.1]\n"
     ]
    },
    {
     "name": "stdout",
     "output_type": "stream",
     "text": [
      "Epoch [626/1000], Training Loss: 1.1648, Accuracy: 0.6769\n"
     ]
    },
    {
     "name": "stderr",
     "output_type": "stream",
     "text": [
      "Epoch [627/1000]: 100%|██████████████████████████████████████████| 351/351 [00:24<00:00, 14.24batch/s, Batch Loss=1.19]\n"
     ]
    },
    {
     "name": "stdout",
     "output_type": "stream",
     "text": [
      "Epoch [627/1000], Training Loss: 1.1637, Accuracy: 0.6771\n"
     ]
    },
    {
     "name": "stderr",
     "output_type": "stream",
     "text": [
      "Epoch [628/1000]: 100%|██████████████████████████████████████████| 351/351 [00:24<00:00, 14.36batch/s, Batch Loss=1.15]\n"
     ]
    },
    {
     "name": "stdout",
     "output_type": "stream",
     "text": [
      "Epoch [628/1000], Training Loss: 1.1635, Accuracy: 0.6770\n"
     ]
    },
    {
     "name": "stderr",
     "output_type": "stream",
     "text": [
      "Epoch [629/1000]: 100%|██████████████████████████████████████████| 351/351 [00:24<00:00, 14.34batch/s, Batch Loss=1.26]\n"
     ]
    },
    {
     "name": "stdout",
     "output_type": "stream",
     "text": [
      "Epoch [629/1000], Training Loss: 1.1639, Accuracy: 0.6777\n"
     ]
    },
    {
     "name": "stderr",
     "output_type": "stream",
     "text": [
      "Epoch [630/1000]: 100%|██████████████████████████████████████████| 351/351 [00:26<00:00, 13.35batch/s, Batch Loss=1.18]\n"
     ]
    },
    {
     "name": "stdout",
     "output_type": "stream",
     "text": [
      "Epoch [630/1000], Training Loss: 1.1660, Accuracy: 0.6771\n"
     ]
    },
    {
     "name": "stderr",
     "output_type": "stream",
     "text": [
      "Epoch [631/1000]: 100%|██████████████████████████████████████████| 351/351 [00:25<00:00, 13.86batch/s, Batch Loss=1.63]\n"
     ]
    },
    {
     "name": "stdout",
     "output_type": "stream",
     "text": [
      "Epoch [631/1000], Training Loss: 1.1597, Accuracy: 0.6798\n"
     ]
    },
    {
     "name": "stderr",
     "output_type": "stream",
     "text": [
      "Epoch [632/1000]: 100%|██████████████████████████████████████████| 351/351 [00:26<00:00, 13.47batch/s, Batch Loss=1.36]\n"
     ]
    },
    {
     "name": "stdout",
     "output_type": "stream",
     "text": [
      "Epoch [632/1000], Training Loss: 1.1660, Accuracy: 0.6767\n"
     ]
    },
    {
     "name": "stderr",
     "output_type": "stream",
     "text": [
      "Epoch [633/1000]: 100%|██████████████████████████████████████████| 351/351 [00:25<00:00, 13.64batch/s, Batch Loss=1.32]\n"
     ]
    },
    {
     "name": "stdout",
     "output_type": "stream",
     "text": [
      "Epoch [633/1000], Training Loss: 1.1640, Accuracy: 0.6776\n"
     ]
    },
    {
     "name": "stderr",
     "output_type": "stream",
     "text": [
      "Epoch [634/1000]: 100%|██████████████████████████████████████████| 351/351 [00:24<00:00, 14.17batch/s, Batch Loss=1.15]\n"
     ]
    },
    {
     "name": "stdout",
     "output_type": "stream",
     "text": [
      "Epoch [634/1000], Training Loss: 1.1664, Accuracy: 0.6773\n"
     ]
    },
    {
     "name": "stderr",
     "output_type": "stream",
     "text": [
      "Epoch [635/1000]: 100%|█████████████████████████████████████████| 351/351 [00:24<00:00, 14.18batch/s, Batch Loss=0.986]\n"
     ]
    },
    {
     "name": "stdout",
     "output_type": "stream",
     "text": [
      "Epoch [635/1000], Training Loss: 1.1661, Accuracy: 0.6759\n"
     ]
    },
    {
     "name": "stderr",
     "output_type": "stream",
     "text": [
      "Epoch [636/1000]: 100%|██████████████████████████████████████████| 351/351 [00:25<00:00, 14.00batch/s, Batch Loss=1.25]\n"
     ]
    },
    {
     "name": "stdout",
     "output_type": "stream",
     "text": [
      "Epoch [636/1000], Training Loss: 1.1627, Accuracy: 0.6784\n"
     ]
    },
    {
     "name": "stderr",
     "output_type": "stream",
     "text": [
      "Epoch [637/1000]: 100%|██████████████████████████████████████████| 351/351 [00:25<00:00, 13.63batch/s, Batch Loss=1.27]\n"
     ]
    },
    {
     "name": "stdout",
     "output_type": "stream",
     "text": [
      "Epoch [637/1000], Training Loss: 1.1522, Accuracy: 0.6801\n"
     ]
    },
    {
     "name": "stderr",
     "output_type": "stream",
     "text": [
      "Epoch [638/1000]: 100%|███████████████████████████████████████████| 351/351 [00:25<00:00, 13.67batch/s, Batch Loss=1.2]\n"
     ]
    },
    {
     "name": "stdout",
     "output_type": "stream",
     "text": [
      "Epoch [638/1000], Training Loss: 1.1571, Accuracy: 0.6776\n"
     ]
    },
    {
     "name": "stderr",
     "output_type": "stream",
     "text": [
      "Epoch [639/1000]: 100%|██████████████████████████████████████████| 351/351 [00:24<00:00, 14.15batch/s, Batch Loss=1.28]\n"
     ]
    },
    {
     "name": "stdout",
     "output_type": "stream",
     "text": [
      "Epoch [639/1000], Training Loss: 1.1592, Accuracy: 0.6797\n"
     ]
    },
    {
     "name": "stderr",
     "output_type": "stream",
     "text": [
      "Epoch [640/1000]: 100%|██████████████████████████████████████████| 351/351 [00:24<00:00, 14.07batch/s, Batch Loss=1.23]\n"
     ]
    },
    {
     "name": "stdout",
     "output_type": "stream",
     "text": [
      "Epoch [640/1000], Training Loss: 1.1685, Accuracy: 0.6766\n"
     ]
    },
    {
     "name": "stderr",
     "output_type": "stream",
     "text": [
      "Epoch [641/1000]: 100%|██████████████████████████████████████████| 351/351 [00:25<00:00, 14.02batch/s, Batch Loss=1.09]\n"
     ]
    },
    {
     "name": "stdout",
     "output_type": "stream",
     "text": [
      "Epoch [641/1000], Training Loss: 1.1592, Accuracy: 0.6779\n"
     ]
    },
    {
     "name": "stderr",
     "output_type": "stream",
     "text": [
      "Epoch [642/1000]: 100%|██████████████████████████████████████████| 351/351 [00:25<00:00, 13.91batch/s, Batch Loss=1.07]\n"
     ]
    },
    {
     "name": "stdout",
     "output_type": "stream",
     "text": [
      "Epoch [642/1000], Training Loss: 1.1522, Accuracy: 0.6805\n"
     ]
    },
    {
     "name": "stderr",
     "output_type": "stream",
     "text": [
      "Epoch [643/1000]: 100%|██████████████████████████████████████████| 351/351 [00:25<00:00, 13.80batch/s, Batch Loss=1.11]\n"
     ]
    },
    {
     "name": "stdout",
     "output_type": "stream",
     "text": [
      "Epoch [643/1000], Training Loss: 1.1628, Accuracy: 0.6759\n"
     ]
    },
    {
     "name": "stderr",
     "output_type": "stream",
     "text": [
      "Epoch [644/1000]: 100%|██████████████████████████████████████████| 351/351 [00:25<00:00, 13.78batch/s, Batch Loss=1.23]\n"
     ]
    },
    {
     "name": "stdout",
     "output_type": "stream",
     "text": [
      "Epoch [644/1000], Training Loss: 1.1565, Accuracy: 0.6796\n"
     ]
    },
    {
     "name": "stderr",
     "output_type": "stream",
     "text": [
      "Epoch [645/1000]: 100%|██████████████████████████████████████████| 351/351 [00:25<00:00, 13.78batch/s, Batch Loss=1.29]\n"
     ]
    },
    {
     "name": "stdout",
     "output_type": "stream",
     "text": [
      "Epoch [645/1000], Training Loss: 1.1498, Accuracy: 0.6825\n"
     ]
    },
    {
     "name": "stderr",
     "output_type": "stream",
     "text": [
      "Epoch [646/1000]: 100%|██████████████████████████████████████████| 351/351 [00:25<00:00, 13.85batch/s, Batch Loss=1.24]\n"
     ]
    },
    {
     "name": "stdout",
     "output_type": "stream",
     "text": [
      "Epoch [646/1000], Training Loss: 1.1562, Accuracy: 0.6802\n"
     ]
    },
    {
     "name": "stderr",
     "output_type": "stream",
     "text": [
      "Epoch [647/1000]: 100%|███████████████████████████████████████████| 351/351 [00:25<00:00, 13.89batch/s, Batch Loss=1.1]\n"
     ]
    },
    {
     "name": "stdout",
     "output_type": "stream",
     "text": [
      "Epoch [647/1000], Training Loss: 1.1529, Accuracy: 0.6811\n"
     ]
    },
    {
     "name": "stderr",
     "output_type": "stream",
     "text": [
      "Epoch [648/1000]: 100%|██████████████████████████████████████████| 351/351 [00:25<00:00, 13.91batch/s, Batch Loss=1.38]\n"
     ]
    },
    {
     "name": "stdout",
     "output_type": "stream",
     "text": [
      "Epoch [648/1000], Training Loss: 1.1559, Accuracy: 0.6788\n"
     ]
    },
    {
     "name": "stderr",
     "output_type": "stream",
     "text": [
      "Epoch [649/1000]: 100%|██████████████████████████████████████████| 351/351 [00:25<00:00, 13.90batch/s, Batch Loss=1.12]\n"
     ]
    },
    {
     "name": "stdout",
     "output_type": "stream",
     "text": [
      "Epoch [649/1000], Training Loss: 1.1523, Accuracy: 0.6789\n"
     ]
    },
    {
     "name": "stderr",
     "output_type": "stream",
     "text": [
      "Epoch [650/1000]: 100%|██████████████████████████████████████████| 351/351 [00:25<00:00, 13.95batch/s, Batch Loss=1.15]\n"
     ]
    },
    {
     "name": "stdout",
     "output_type": "stream",
     "text": [
      "Epoch [650/1000], Training Loss: 1.1551, Accuracy: 0.6799\n",
      "Model saved at 'uet4rec64_ml_model_epoch_650.pth'\n"
     ]
    },
    {
     "name": "stderr",
     "output_type": "stream",
     "text": [
      "Epoch [651/1000]: 100%|██████████████████████████████████████████| 351/351 [00:25<00:00, 13.97batch/s, Batch Loss=1.17]\n"
     ]
    },
    {
     "name": "stdout",
     "output_type": "stream",
     "text": [
      "Epoch [651/1000], Training Loss: 1.1541, Accuracy: 0.6791\n"
     ]
    },
    {
     "name": "stderr",
     "output_type": "stream",
     "text": [
      "Epoch [652/1000]: 100%|██████████████████████████████████████████| 351/351 [00:25<00:00, 13.98batch/s, Batch Loss=1.23]\n"
     ]
    },
    {
     "name": "stdout",
     "output_type": "stream",
     "text": [
      "Epoch [652/1000], Training Loss: 1.1524, Accuracy: 0.6801\n"
     ]
    },
    {
     "name": "stderr",
     "output_type": "stream",
     "text": [
      "Epoch [653/1000]: 100%|██████████████████████████████████████████| 351/351 [00:25<00:00, 13.93batch/s, Batch Loss=1.32]\n"
     ]
    },
    {
     "name": "stdout",
     "output_type": "stream",
     "text": [
      "Epoch [653/1000], Training Loss: 1.1541, Accuracy: 0.6796\n"
     ]
    },
    {
     "name": "stderr",
     "output_type": "stream",
     "text": [
      "Epoch [654/1000]: 100%|██████████████████████████████████████████| 351/351 [00:24<00:00, 14.15batch/s, Batch Loss=1.23]\n"
     ]
    },
    {
     "name": "stdout",
     "output_type": "stream",
     "text": [
      "Epoch [654/1000], Training Loss: 1.1516, Accuracy: 0.6798\n"
     ]
    },
    {
     "name": "stderr",
     "output_type": "stream",
     "text": [
      "Epoch [655/1000]: 100%|██████████████████████████████████████████| 351/351 [00:25<00:00, 13.97batch/s, Batch Loss=1.11]\n"
     ]
    },
    {
     "name": "stdout",
     "output_type": "stream",
     "text": [
      "Epoch [655/1000], Training Loss: 1.1591, Accuracy: 0.6780\n"
     ]
    },
    {
     "name": "stderr",
     "output_type": "stream",
     "text": [
      "Epoch [656/1000]: 100%|███████████████████████████████████████████| 351/351 [00:25<00:00, 13.68batch/s, Batch Loss=1.3]\n"
     ]
    },
    {
     "name": "stdout",
     "output_type": "stream",
     "text": [
      "Epoch [656/1000], Training Loss: 1.1517, Accuracy: 0.6805\n"
     ]
    },
    {
     "name": "stderr",
     "output_type": "stream",
     "text": [
      "Epoch [657/1000]: 100%|██████████████████████████████████████████| 351/351 [00:25<00:00, 14.00batch/s, Batch Loss=1.28]\n"
     ]
    },
    {
     "name": "stdout",
     "output_type": "stream",
     "text": [
      "Epoch [657/1000], Training Loss: 1.1519, Accuracy: 0.6807\n"
     ]
    },
    {
     "name": "stderr",
     "output_type": "stream",
     "text": [
      "Epoch [658/1000]: 100%|██████████████████████████████████████████| 351/351 [00:24<00:00, 14.16batch/s, Batch Loss=1.14]\n"
     ]
    },
    {
     "name": "stdout",
     "output_type": "stream",
     "text": [
      "Epoch [658/1000], Training Loss: 1.1473, Accuracy: 0.6814\n"
     ]
    },
    {
     "name": "stderr",
     "output_type": "stream",
     "text": [
      "Epoch [659/1000]: 100%|██████████████████████████████████████████| 351/351 [00:24<00:00, 14.14batch/s, Batch Loss=1.04]\n"
     ]
    },
    {
     "name": "stdout",
     "output_type": "stream",
     "text": [
      "Epoch [659/1000], Training Loss: 1.1485, Accuracy: 0.6815\n"
     ]
    },
    {
     "name": "stderr",
     "output_type": "stream",
     "text": [
      "Epoch [660/1000]: 100%|██████████████████████████████████████████| 351/351 [00:24<00:00, 14.14batch/s, Batch Loss=1.24]\n"
     ]
    },
    {
     "name": "stdout",
     "output_type": "stream",
     "text": [
      "Epoch [660/1000], Training Loss: 1.1470, Accuracy: 0.6813\n"
     ]
    },
    {
     "name": "stderr",
     "output_type": "stream",
     "text": [
      "Epoch [661/1000]: 100%|██████████████████████████████████████████| 351/351 [00:25<00:00, 14.01batch/s, Batch Loss=1.16]\n"
     ]
    },
    {
     "name": "stdout",
     "output_type": "stream",
     "text": [
      "Epoch [661/1000], Training Loss: 1.1443, Accuracy: 0.6815\n"
     ]
    },
    {
     "name": "stderr",
     "output_type": "stream",
     "text": [
      "Epoch [662/1000]: 100%|██████████████████████████████████████████| 351/351 [00:25<00:00, 13.78batch/s, Batch Loss=1.08]\n"
     ]
    },
    {
     "name": "stdout",
     "output_type": "stream",
     "text": [
      "Epoch [662/1000], Training Loss: 1.1466, Accuracy: 0.6816\n"
     ]
    },
    {
     "name": "stderr",
     "output_type": "stream",
     "text": [
      "Epoch [663/1000]: 100%|███████████████████████████████████████████| 351/351 [00:25<00:00, 13.52batch/s, Batch Loss=1.2]\n"
     ]
    },
    {
     "name": "stdout",
     "output_type": "stream",
     "text": [
      "Epoch [663/1000], Training Loss: 1.1445, Accuracy: 0.6825\n"
     ]
    },
    {
     "name": "stderr",
     "output_type": "stream",
     "text": [
      "Epoch [664/1000]: 100%|███████████████████████████████████████████| 351/351 [00:25<00:00, 13.71batch/s, Batch Loss=1.2]\n"
     ]
    },
    {
     "name": "stdout",
     "output_type": "stream",
     "text": [
      "Epoch [664/1000], Training Loss: 1.1425, Accuracy: 0.6825\n"
     ]
    },
    {
     "name": "stderr",
     "output_type": "stream",
     "text": [
      "Epoch [665/1000]: 100%|██████████████████████████████████████████| 351/351 [00:25<00:00, 13.76batch/s, Batch Loss=1.15]\n"
     ]
    },
    {
     "name": "stdout",
     "output_type": "stream",
     "text": [
      "Epoch [665/1000], Training Loss: 1.1478, Accuracy: 0.6815\n"
     ]
    },
    {
     "name": "stderr",
     "output_type": "stream",
     "text": [
      "Epoch [666/1000]: 100%|██████████████████████████████████████████| 351/351 [00:25<00:00, 14.01batch/s, Batch Loss=1.03]\n"
     ]
    },
    {
     "name": "stdout",
     "output_type": "stream",
     "text": [
      "Epoch [666/1000], Training Loss: 1.1397, Accuracy: 0.6825\n"
     ]
    },
    {
     "name": "stderr",
     "output_type": "stream",
     "text": [
      "Epoch [667/1000]: 100%|██████████████████████████████████████████| 351/351 [00:24<00:00, 14.16batch/s, Batch Loss=1.17]\n"
     ]
    },
    {
     "name": "stdout",
     "output_type": "stream",
     "text": [
      "Epoch [667/1000], Training Loss: 1.1471, Accuracy: 0.6812\n"
     ]
    },
    {
     "name": "stderr",
     "output_type": "stream",
     "text": [
      "Epoch [668/1000]: 100%|██████████████████████████████████████████| 351/351 [00:25<00:00, 13.90batch/s, Batch Loss=1.18]\n"
     ]
    },
    {
     "name": "stdout",
     "output_type": "stream",
     "text": [
      "Epoch [668/1000], Training Loss: 1.1426, Accuracy: 0.6833\n"
     ]
    },
    {
     "name": "stderr",
     "output_type": "stream",
     "text": [
      "Epoch [669/1000]: 100%|██████████████████████████████████████████| 351/351 [00:25<00:00, 13.57batch/s, Batch Loss=1.19]\n"
     ]
    },
    {
     "name": "stdout",
     "output_type": "stream",
     "text": [
      "Epoch [669/1000], Training Loss: 1.1454, Accuracy: 0.6823\n"
     ]
    },
    {
     "name": "stderr",
     "output_type": "stream",
     "text": [
      "Epoch [670/1000]: 100%|███████████████████████████████████████████| 351/351 [00:24<00:00, 14.21batch/s, Batch Loss=1.2]\n"
     ]
    },
    {
     "name": "stdout",
     "output_type": "stream",
     "text": [
      "Epoch [670/1000], Training Loss: 1.1427, Accuracy: 0.6805\n"
     ]
    },
    {
     "name": "stderr",
     "output_type": "stream",
     "text": [
      "Epoch [671/1000]: 100%|██████████████████████████████████████████| 351/351 [00:24<00:00, 14.06batch/s, Batch Loss=1.18]\n"
     ]
    },
    {
     "name": "stdout",
     "output_type": "stream",
     "text": [
      "Epoch [671/1000], Training Loss: 1.1433, Accuracy: 0.6835\n"
     ]
    },
    {
     "name": "stderr",
     "output_type": "stream",
     "text": [
      "Epoch [672/1000]: 100%|██████████████████████████████████████████| 351/351 [00:25<00:00, 13.88batch/s, Batch Loss=1.17]\n"
     ]
    },
    {
     "name": "stdout",
     "output_type": "stream",
     "text": [
      "Epoch [672/1000], Training Loss: 1.1429, Accuracy: 0.6816\n"
     ]
    },
    {
     "name": "stderr",
     "output_type": "stream",
     "text": [
      "Epoch [673/1000]: 100%|██████████████████████████████████████████| 351/351 [00:25<00:00, 13.97batch/s, Batch Loss=1.11]\n"
     ]
    },
    {
     "name": "stdout",
     "output_type": "stream",
     "text": [
      "Epoch [673/1000], Training Loss: 1.1407, Accuracy: 0.6823\n"
     ]
    },
    {
     "name": "stderr",
     "output_type": "stream",
     "text": [
      "Epoch [674/1000]: 100%|██████████████████████████████████████████| 351/351 [00:24<00:00, 14.09batch/s, Batch Loss=1.05]\n"
     ]
    },
    {
     "name": "stdout",
     "output_type": "stream",
     "text": [
      "Epoch [674/1000], Training Loss: 1.1331, Accuracy: 0.6855\n"
     ]
    },
    {
     "name": "stderr",
     "output_type": "stream",
     "text": [
      "Epoch [675/1000]: 100%|█████████████████████████████████████████| 351/351 [00:24<00:00, 14.06batch/s, Batch Loss=0.986]\n"
     ]
    },
    {
     "name": "stdout",
     "output_type": "stream",
     "text": [
      "Epoch [675/1000], Training Loss: 1.1457, Accuracy: 0.6807\n"
     ]
    },
    {
     "name": "stderr",
     "output_type": "stream",
     "text": [
      "Epoch [676/1000]: 100%|██████████████████████████████████████████| 351/351 [00:24<00:00, 14.11batch/s, Batch Loss=1.35]\n"
     ]
    },
    {
     "name": "stdout",
     "output_type": "stream",
     "text": [
      "Epoch [676/1000], Training Loss: 1.1419, Accuracy: 0.6820\n"
     ]
    },
    {
     "name": "stderr",
     "output_type": "stream",
     "text": [
      "Epoch [677/1000]: 100%|██████████████████████████████████████████| 351/351 [00:24<00:00, 14.16batch/s, Batch Loss=1.23]\n"
     ]
    },
    {
     "name": "stdout",
     "output_type": "stream",
     "text": [
      "Epoch [677/1000], Training Loss: 1.1424, Accuracy: 0.6834\n"
     ]
    },
    {
     "name": "stderr",
     "output_type": "stream",
     "text": [
      "Epoch [678/1000]: 100%|██████████████████████████████████████████| 351/351 [00:24<00:00, 14.36batch/s, Batch Loss=1.28]\n"
     ]
    },
    {
     "name": "stdout",
     "output_type": "stream",
     "text": [
      "Epoch [678/1000], Training Loss: 1.1468, Accuracy: 0.6822\n"
     ]
    },
    {
     "name": "stderr",
     "output_type": "stream",
     "text": [
      "Epoch [679/1000]: 100%|██████████████████████████████████████████| 351/351 [00:24<00:00, 14.35batch/s, Batch Loss=1.21]\n"
     ]
    },
    {
     "name": "stdout",
     "output_type": "stream",
     "text": [
      "Epoch [679/1000], Training Loss: 1.1395, Accuracy: 0.6826\n"
     ]
    },
    {
     "name": "stderr",
     "output_type": "stream",
     "text": [
      "Epoch [680/1000]: 100%|██████████████████████████████████████████| 351/351 [00:24<00:00, 14.24batch/s, Batch Loss=1.21]\n"
     ]
    },
    {
     "name": "stdout",
     "output_type": "stream",
     "text": [
      "Epoch [680/1000], Training Loss: 1.1422, Accuracy: 0.6820\n"
     ]
    },
    {
     "name": "stderr",
     "output_type": "stream",
     "text": [
      "Epoch [681/1000]: 100%|██████████████████████████████████████████| 351/351 [00:24<00:00, 14.23batch/s, Batch Loss=1.15]\n"
     ]
    },
    {
     "name": "stdout",
     "output_type": "stream",
     "text": [
      "Epoch [681/1000], Training Loss: 1.1411, Accuracy: 0.6823\n"
     ]
    },
    {
     "name": "stderr",
     "output_type": "stream",
     "text": [
      "Epoch [682/1000]: 100%|██████████████████████████████████████████| 351/351 [00:24<00:00, 14.34batch/s, Batch Loss=1.33]\n"
     ]
    },
    {
     "name": "stdout",
     "output_type": "stream",
     "text": [
      "Epoch [682/1000], Training Loss: 1.1324, Accuracy: 0.6849\n"
     ]
    },
    {
     "name": "stderr",
     "output_type": "stream",
     "text": [
      "Epoch [683/1000]: 100%|██████████████████████████████████████████| 351/351 [00:24<00:00, 14.04batch/s, Batch Loss=1.29]\n"
     ]
    },
    {
     "name": "stdout",
     "output_type": "stream",
     "text": [
      "Epoch [683/1000], Training Loss: 1.1381, Accuracy: 0.6842\n"
     ]
    },
    {
     "name": "stderr",
     "output_type": "stream",
     "text": [
      "Epoch [684/1000]: 100%|██████████████████████████████████████████| 351/351 [00:25<00:00, 13.92batch/s, Batch Loss=1.09]\n"
     ]
    },
    {
     "name": "stdout",
     "output_type": "stream",
     "text": [
      "Epoch [684/1000], Training Loss: 1.1415, Accuracy: 0.6823\n"
     ]
    },
    {
     "name": "stderr",
     "output_type": "stream",
     "text": [
      "Epoch [685/1000]: 100%|███████████████████████████████████████████| 351/351 [00:24<00:00, 14.08batch/s, Batch Loss=1.2]\n"
     ]
    },
    {
     "name": "stdout",
     "output_type": "stream",
     "text": [
      "Epoch [685/1000], Training Loss: 1.1278, Accuracy: 0.6873\n"
     ]
    },
    {
     "name": "stderr",
     "output_type": "stream",
     "text": [
      "Epoch [686/1000]: 100%|██████████████████████████████████████████| 351/351 [00:24<00:00, 14.15batch/s, Batch Loss=1.15]\n"
     ]
    },
    {
     "name": "stdout",
     "output_type": "stream",
     "text": [
      "Epoch [686/1000], Training Loss: 1.1325, Accuracy: 0.6833\n"
     ]
    },
    {
     "name": "stderr",
     "output_type": "stream",
     "text": [
      "Epoch [687/1000]: 100%|██████████████████████████████████████████| 351/351 [00:24<00:00, 14.17batch/s, Batch Loss=1.29]\n"
     ]
    },
    {
     "name": "stdout",
     "output_type": "stream",
     "text": [
      "Epoch [687/1000], Training Loss: 1.1330, Accuracy: 0.6845\n"
     ]
    },
    {
     "name": "stderr",
     "output_type": "stream",
     "text": [
      "Epoch [688/1000]: 100%|██████████████████████████████████████████| 351/351 [00:24<00:00, 14.25batch/s, Batch Loss=1.17]\n"
     ]
    },
    {
     "name": "stdout",
     "output_type": "stream",
     "text": [
      "Epoch [688/1000], Training Loss: 1.1442, Accuracy: 0.6823\n"
     ]
    },
    {
     "name": "stderr",
     "output_type": "stream",
     "text": [
      "Epoch [689/1000]: 100%|██████████████████████████████████████████| 351/351 [00:24<00:00, 14.24batch/s, Batch Loss=1.02]\n"
     ]
    },
    {
     "name": "stdout",
     "output_type": "stream",
     "text": [
      "Epoch [689/1000], Training Loss: 1.1376, Accuracy: 0.6835\n"
     ]
    },
    {
     "name": "stderr",
     "output_type": "stream",
     "text": [
      "Epoch [690/1000]: 100%|██████████████████████████████████████████| 351/351 [00:24<00:00, 14.04batch/s, Batch Loss=1.25]\n"
     ]
    },
    {
     "name": "stdout",
     "output_type": "stream",
     "text": [
      "Epoch [690/1000], Training Loss: 1.1341, Accuracy: 0.6839\n"
     ]
    },
    {
     "name": "stderr",
     "output_type": "stream",
     "text": [
      "Epoch [691/1000]: 100%|███████████████████████████████████████████| 351/351 [00:24<00:00, 14.21batch/s, Batch Loss=1.1]\n"
     ]
    },
    {
     "name": "stdout",
     "output_type": "stream",
     "text": [
      "Epoch [691/1000], Training Loss: 1.1356, Accuracy: 0.6828\n"
     ]
    },
    {
     "name": "stderr",
     "output_type": "stream",
     "text": [
      "Epoch [692/1000]: 100%|██████████████████████████████████████████| 351/351 [00:25<00:00, 14.02batch/s, Batch Loss=1.24]\n"
     ]
    },
    {
     "name": "stdout",
     "output_type": "stream",
     "text": [
      "Epoch [692/1000], Training Loss: 1.1287, Accuracy: 0.6854\n"
     ]
    },
    {
     "name": "stderr",
     "output_type": "stream",
     "text": [
      "Epoch [693/1000]: 100%|██████████████████████████████████████████| 351/351 [00:25<00:00, 13.98batch/s, Batch Loss=1.28]\n"
     ]
    },
    {
     "name": "stdout",
     "output_type": "stream",
     "text": [
      "Epoch [693/1000], Training Loss: 1.1306, Accuracy: 0.6838\n"
     ]
    },
    {
     "name": "stderr",
     "output_type": "stream",
     "text": [
      "Epoch [694/1000]: 100%|██████████████████████████████████████████| 351/351 [00:24<00:00, 14.23batch/s, Batch Loss=1.09]\n"
     ]
    },
    {
     "name": "stdout",
     "output_type": "stream",
     "text": [
      "Epoch [694/1000], Training Loss: 1.1265, Accuracy: 0.6862\n"
     ]
    },
    {
     "name": "stderr",
     "output_type": "stream",
     "text": [
      "Epoch [695/1000]: 100%|██████████████████████████████████████████| 351/351 [00:24<00:00, 14.44batch/s, Batch Loss=1.09]\n"
     ]
    },
    {
     "name": "stdout",
     "output_type": "stream",
     "text": [
      "Epoch [695/1000], Training Loss: 1.1326, Accuracy: 0.6851\n"
     ]
    },
    {
     "name": "stderr",
     "output_type": "stream",
     "text": [
      "Epoch [696/1000]: 100%|██████████████████████████████████████████| 351/351 [00:24<00:00, 14.15batch/s, Batch Loss=1.32]\n"
     ]
    },
    {
     "name": "stdout",
     "output_type": "stream",
     "text": [
      "Epoch [696/1000], Training Loss: 1.1255, Accuracy: 0.6867\n"
     ]
    },
    {
     "name": "stderr",
     "output_type": "stream",
     "text": [
      "Epoch [697/1000]: 100%|███████████████████████████████████████████| 351/351 [00:24<00:00, 14.09batch/s, Batch Loss=1.3]\n"
     ]
    },
    {
     "name": "stdout",
     "output_type": "stream",
     "text": [
      "Epoch [697/1000], Training Loss: 1.1320, Accuracy: 0.6838\n"
     ]
    },
    {
     "name": "stderr",
     "output_type": "stream",
     "text": [
      "Epoch [698/1000]: 100%|██████████████████████████████████████████| 351/351 [00:24<00:00, 14.13batch/s, Batch Loss=1.21]\n"
     ]
    },
    {
     "name": "stdout",
     "output_type": "stream",
     "text": [
      "Epoch [698/1000], Training Loss: 1.1370, Accuracy: 0.6842\n"
     ]
    },
    {
     "name": "stderr",
     "output_type": "stream",
     "text": [
      "Epoch [699/1000]: 100%|██████████████████████████████████████████| 351/351 [00:24<00:00, 14.06batch/s, Batch Loss=1.16]\n"
     ]
    },
    {
     "name": "stdout",
     "output_type": "stream",
     "text": [
      "Epoch [699/1000], Training Loss: 1.1264, Accuracy: 0.6859\n"
     ]
    },
    {
     "name": "stderr",
     "output_type": "stream",
     "text": [
      "Epoch [700/1000]: 100%|██████████████████████████████████████████| 351/351 [00:24<00:00, 14.07batch/s, Batch Loss=1.11]\n"
     ]
    },
    {
     "name": "stdout",
     "output_type": "stream",
     "text": [
      "Epoch [700/1000], Training Loss: 1.1373, Accuracy: 0.6848\n",
      "Model saved at 'uet4rec64_ml_model_epoch_700.pth'\n"
     ]
    },
    {
     "name": "stderr",
     "output_type": "stream",
     "text": [
      "Epoch [701/1000]: 100%|██████████████████████████████████████████| 351/351 [00:24<00:00, 14.26batch/s, Batch Loss=1.26]\n"
     ]
    },
    {
     "name": "stdout",
     "output_type": "stream",
     "text": [
      "Epoch [701/1000], Training Loss: 1.1336, Accuracy: 0.6840\n"
     ]
    },
    {
     "name": "stderr",
     "output_type": "stream",
     "text": [
      "Epoch [702/1000]: 100%|█████████████████████████████████████████| 351/351 [00:24<00:00, 14.25batch/s, Batch Loss=0.987]\n"
     ]
    },
    {
     "name": "stdout",
     "output_type": "stream",
     "text": [
      "Epoch [702/1000], Training Loss: 1.1228, Accuracy: 0.6868\n"
     ]
    },
    {
     "name": "stderr",
     "output_type": "stream",
     "text": [
      "Epoch [703/1000]: 100%|██████████████████████████████████████████| 351/351 [00:25<00:00, 13.81batch/s, Batch Loss=1.28]\n"
     ]
    },
    {
     "name": "stdout",
     "output_type": "stream",
     "text": [
      "Epoch [703/1000], Training Loss: 1.1314, Accuracy: 0.6855\n"
     ]
    },
    {
     "name": "stderr",
     "output_type": "stream",
     "text": [
      "Epoch [704/1000]: 100%|██████████████████████████████████████████| 351/351 [00:25<00:00, 13.67batch/s, Batch Loss=1.12]\n"
     ]
    },
    {
     "name": "stdout",
     "output_type": "stream",
     "text": [
      "Epoch [704/1000], Training Loss: 1.1276, Accuracy: 0.6854\n"
     ]
    },
    {
     "name": "stderr",
     "output_type": "stream",
     "text": [
      "Epoch [705/1000]: 100%|██████████████████████████████████████████| 351/351 [00:25<00:00, 14.03batch/s, Batch Loss=1.21]\n"
     ]
    },
    {
     "name": "stdout",
     "output_type": "stream",
     "text": [
      "Epoch [705/1000], Training Loss: 1.1346, Accuracy: 0.6847\n"
     ]
    },
    {
     "name": "stderr",
     "output_type": "stream",
     "text": [
      "Epoch [706/1000]: 100%|██████████████████████████████████████████| 351/351 [00:25<00:00, 13.77batch/s, Batch Loss=1.23]\n"
     ]
    },
    {
     "name": "stdout",
     "output_type": "stream",
     "text": [
      "Epoch [706/1000], Training Loss: 1.1319, Accuracy: 0.6857\n"
     ]
    },
    {
     "name": "stderr",
     "output_type": "stream",
     "text": [
      "Epoch [707/1000]: 100%|██████████████████████████████████████████| 351/351 [00:25<00:00, 13.84batch/s, Batch Loss=1.24]\n"
     ]
    },
    {
     "name": "stdout",
     "output_type": "stream",
     "text": [
      "Epoch [707/1000], Training Loss: 1.1244, Accuracy: 0.6849\n"
     ]
    },
    {
     "name": "stderr",
     "output_type": "stream",
     "text": [
      "Epoch [708/1000]: 100%|██████████████████████████████████████████| 351/351 [00:25<00:00, 13.74batch/s, Batch Loss=1.36]\n"
     ]
    },
    {
     "name": "stdout",
     "output_type": "stream",
     "text": [
      "Epoch [708/1000], Training Loss: 1.1277, Accuracy: 0.6855\n"
     ]
    },
    {
     "name": "stderr",
     "output_type": "stream",
     "text": [
      "Epoch [709/1000]: 100%|█████████████████████████████████████████| 351/351 [00:25<00:00, 13.95batch/s, Batch Loss=0.881]\n"
     ]
    },
    {
     "name": "stdout",
     "output_type": "stream",
     "text": [
      "Epoch [709/1000], Training Loss: 1.1308, Accuracy: 0.6852\n"
     ]
    },
    {
     "name": "stderr",
     "output_type": "stream",
     "text": [
      "Epoch [710/1000]: 100%|██████████████████████████████████████████| 351/351 [00:25<00:00, 13.89batch/s, Batch Loss=1.05]\n"
     ]
    },
    {
     "name": "stdout",
     "output_type": "stream",
     "text": [
      "Epoch [710/1000], Training Loss: 1.1266, Accuracy: 0.6859\n"
     ]
    },
    {
     "name": "stderr",
     "output_type": "stream",
     "text": [
      "Epoch [711/1000]: 100%|██████████████████████████████████████████| 351/351 [00:25<00:00, 14.02batch/s, Batch Loss=1.35]\n"
     ]
    },
    {
     "name": "stdout",
     "output_type": "stream",
     "text": [
      "Epoch [711/1000], Training Loss: 1.1211, Accuracy: 0.6877\n"
     ]
    },
    {
     "name": "stderr",
     "output_type": "stream",
     "text": [
      "Epoch [712/1000]: 100%|██████████████████████████████████████████| 351/351 [00:24<00:00, 14.29batch/s, Batch Loss=1.01]\n"
     ]
    },
    {
     "name": "stdout",
     "output_type": "stream",
     "text": [
      "Epoch [712/1000], Training Loss: 1.1224, Accuracy: 0.6871\n"
     ]
    },
    {
     "name": "stderr",
     "output_type": "stream",
     "text": [
      "Epoch [713/1000]: 100%|██████████████████████████████████████████| 351/351 [00:24<00:00, 14.31batch/s, Batch Loss=1.32]\n"
     ]
    },
    {
     "name": "stdout",
     "output_type": "stream",
     "text": [
      "Epoch [713/1000], Training Loss: 1.1235, Accuracy: 0.6857\n"
     ]
    },
    {
     "name": "stderr",
     "output_type": "stream",
     "text": [
      "Epoch [714/1000]: 100%|██████████████████████████████████████████| 351/351 [00:24<00:00, 14.21batch/s, Batch Loss=1.15]\n"
     ]
    },
    {
     "name": "stdout",
     "output_type": "stream",
     "text": [
      "Epoch [714/1000], Training Loss: 1.1210, Accuracy: 0.6873\n"
     ]
    },
    {
     "name": "stderr",
     "output_type": "stream",
     "text": [
      "Epoch [715/1000]: 100%|███████████████████████████████████████████| 351/351 [00:25<00:00, 13.54batch/s, Batch Loss=1.1]\n"
     ]
    },
    {
     "name": "stdout",
     "output_type": "stream",
     "text": [
      "Epoch [715/1000], Training Loss: 1.1250, Accuracy: 0.6872\n"
     ]
    },
    {
     "name": "stderr",
     "output_type": "stream",
     "text": [
      "Epoch [716/1000]: 100%|██████████████████████████████████████████| 351/351 [00:25<00:00, 13.81batch/s, Batch Loss=1.14]\n"
     ]
    },
    {
     "name": "stdout",
     "output_type": "stream",
     "text": [
      "Epoch [716/1000], Training Loss: 1.1271, Accuracy: 0.6847\n"
     ]
    },
    {
     "name": "stderr",
     "output_type": "stream",
     "text": [
      "Epoch [717/1000]: 100%|██████████████████████████████████████████| 351/351 [00:25<00:00, 13.90batch/s, Batch Loss=1.34]\n"
     ]
    },
    {
     "name": "stdout",
     "output_type": "stream",
     "text": [
      "Epoch [717/1000], Training Loss: 1.1274, Accuracy: 0.6838\n"
     ]
    },
    {
     "name": "stderr",
     "output_type": "stream",
     "text": [
      "Epoch [718/1000]: 100%|██████████████████████████████████████████| 351/351 [00:25<00:00, 13.95batch/s, Batch Loss=1.15]\n"
     ]
    },
    {
     "name": "stdout",
     "output_type": "stream",
     "text": [
      "Epoch [718/1000], Training Loss: 1.1197, Accuracy: 0.6879\n"
     ]
    },
    {
     "name": "stderr",
     "output_type": "stream",
     "text": [
      "Epoch [719/1000]: 100%|██████████████████████████████████████████| 351/351 [00:25<00:00, 13.92batch/s, Batch Loss=1.37]\n"
     ]
    },
    {
     "name": "stdout",
     "output_type": "stream",
     "text": [
      "Epoch [719/1000], Training Loss: 1.1198, Accuracy: 0.6862\n"
     ]
    },
    {
     "name": "stderr",
     "output_type": "stream",
     "text": [
      "Epoch [720/1000]: 100%|███████████████████████████████████████████| 351/351 [00:24<00:00, 14.04batch/s, Batch Loss=1.3]\n"
     ]
    },
    {
     "name": "stdout",
     "output_type": "stream",
     "text": [
      "Epoch [720/1000], Training Loss: 1.1154, Accuracy: 0.6872\n"
     ]
    },
    {
     "name": "stderr",
     "output_type": "stream",
     "text": [
      "Epoch [721/1000]: 100%|██████████████████████████████████████████| 351/351 [00:25<00:00, 14.03batch/s, Batch Loss=1.46]\n"
     ]
    },
    {
     "name": "stdout",
     "output_type": "stream",
     "text": [
      "Epoch [721/1000], Training Loss: 1.1194, Accuracy: 0.6882\n"
     ]
    },
    {
     "name": "stderr",
     "output_type": "stream",
     "text": [
      "Epoch [722/1000]: 100%|███████████████████████████████████████████| 351/351 [00:25<00:00, 13.99batch/s, Batch Loss=1.3]\n"
     ]
    },
    {
     "name": "stdout",
     "output_type": "stream",
     "text": [
      "Epoch [722/1000], Training Loss: 1.1178, Accuracy: 0.6861\n"
     ]
    },
    {
     "name": "stderr",
     "output_type": "stream",
     "text": [
      "Epoch [723/1000]: 100%|██████████████████████████████████████████| 351/351 [00:25<00:00, 13.95batch/s, Batch Loss=1.33]\n"
     ]
    },
    {
     "name": "stdout",
     "output_type": "stream",
     "text": [
      "Epoch [723/1000], Training Loss: 1.1145, Accuracy: 0.6889\n"
     ]
    },
    {
     "name": "stderr",
     "output_type": "stream",
     "text": [
      "Epoch [724/1000]: 100%|██████████████████████████████████████████| 351/351 [00:25<00:00, 13.93batch/s, Batch Loss=1.15]\n"
     ]
    },
    {
     "name": "stdout",
     "output_type": "stream",
     "text": [
      "Epoch [724/1000], Training Loss: 1.1209, Accuracy: 0.6869\n"
     ]
    },
    {
     "name": "stderr",
     "output_type": "stream",
     "text": [
      "Epoch [725/1000]: 100%|███████████████████████████████████████████| 351/351 [00:25<00:00, 13.98batch/s, Batch Loss=1.2]\n"
     ]
    },
    {
     "name": "stdout",
     "output_type": "stream",
     "text": [
      "Epoch [725/1000], Training Loss: 1.1217, Accuracy: 0.6867\n"
     ]
    },
    {
     "name": "stderr",
     "output_type": "stream",
     "text": [
      "Epoch [726/1000]: 100%|██████████████████████████████████████████| 351/351 [00:25<00:00, 13.88batch/s, Batch Loss=1.42]\n"
     ]
    },
    {
     "name": "stdout",
     "output_type": "stream",
     "text": [
      "Epoch [726/1000], Training Loss: 1.1228, Accuracy: 0.6866\n"
     ]
    },
    {
     "name": "stderr",
     "output_type": "stream",
     "text": [
      "Epoch [727/1000]: 100%|██████████████████████████████████████████| 351/351 [00:25<00:00, 13.75batch/s, Batch Loss=1.22]\n"
     ]
    },
    {
     "name": "stdout",
     "output_type": "stream",
     "text": [
      "Epoch [727/1000], Training Loss: 1.1136, Accuracy: 0.6881\n"
     ]
    },
    {
     "name": "stderr",
     "output_type": "stream",
     "text": [
      "Epoch [728/1000]: 100%|██████████████████████████████████████████| 351/351 [00:25<00:00, 13.80batch/s, Batch Loss=1.11]\n"
     ]
    },
    {
     "name": "stdout",
     "output_type": "stream",
     "text": [
      "Epoch [728/1000], Training Loss: 1.1139, Accuracy: 0.6886\n"
     ]
    },
    {
     "name": "stderr",
     "output_type": "stream",
     "text": [
      "Epoch [729/1000]: 100%|██████████████████████████████████████████| 351/351 [00:25<00:00, 13.86batch/s, Batch Loss=1.19]\n"
     ]
    },
    {
     "name": "stdout",
     "output_type": "stream",
     "text": [
      "Epoch [729/1000], Training Loss: 1.1235, Accuracy: 0.6871\n"
     ]
    },
    {
     "name": "stderr",
     "output_type": "stream",
     "text": [
      "Epoch [730/1000]: 100%|██████████████████████████████████████████| 351/351 [00:25<00:00, 13.80batch/s, Batch Loss=1.15]\n"
     ]
    },
    {
     "name": "stdout",
     "output_type": "stream",
     "text": [
      "Epoch [730/1000], Training Loss: 1.1195, Accuracy: 0.6864\n"
     ]
    },
    {
     "name": "stderr",
     "output_type": "stream",
     "text": [
      "Epoch [731/1000]: 100%|██████████████████████████████████████████| 351/351 [00:25<00:00, 13.78batch/s, Batch Loss=1.18]\n"
     ]
    },
    {
     "name": "stdout",
     "output_type": "stream",
     "text": [
      "Epoch [731/1000], Training Loss: 1.1145, Accuracy: 0.6885\n"
     ]
    },
    {
     "name": "stderr",
     "output_type": "stream",
     "text": [
      "Epoch [732/1000]: 100%|██████████████████████████████████████████| 351/351 [00:26<00:00, 13.18batch/s, Batch Loss=1.11]\n"
     ]
    },
    {
     "name": "stdout",
     "output_type": "stream",
     "text": [
      "Epoch [732/1000], Training Loss: 1.1138, Accuracy: 0.6884\n"
     ]
    },
    {
     "name": "stderr",
     "output_type": "stream",
     "text": [
      "Epoch [733/1000]: 100%|██████████████████████████████████████████| 351/351 [00:25<00:00, 13.91batch/s, Batch Loss=1.11]\n"
     ]
    },
    {
     "name": "stdout",
     "output_type": "stream",
     "text": [
      "Epoch [733/1000], Training Loss: 1.1241, Accuracy: 0.6845\n"
     ]
    },
    {
     "name": "stderr",
     "output_type": "stream",
     "text": [
      "Epoch [734/1000]: 100%|██████████████████████████████████████████| 351/351 [00:26<00:00, 13.24batch/s, Batch Loss=1.05]\n"
     ]
    },
    {
     "name": "stdout",
     "output_type": "stream",
     "text": [
      "Epoch [734/1000], Training Loss: 1.1139, Accuracy: 0.6897\n"
     ]
    },
    {
     "name": "stderr",
     "output_type": "stream",
     "text": [
      "Epoch [735/1000]: 100%|██████████████████████████████████████████| 351/351 [00:24<00:00, 14.11batch/s, Batch Loss=1.26]\n"
     ]
    },
    {
     "name": "stdout",
     "output_type": "stream",
     "text": [
      "Epoch [735/1000], Training Loss: 1.1182, Accuracy: 0.6872\n"
     ]
    },
    {
     "name": "stderr",
     "output_type": "stream",
     "text": [
      "Epoch [736/1000]: 100%|██████████████████████████████████████████| 351/351 [00:24<00:00, 14.32batch/s, Batch Loss=1.25]\n"
     ]
    },
    {
     "name": "stdout",
     "output_type": "stream",
     "text": [
      "Epoch [736/1000], Training Loss: 1.1089, Accuracy: 0.6907\n"
     ]
    },
    {
     "name": "stderr",
     "output_type": "stream",
     "text": [
      "Epoch [737/1000]: 100%|██████████████████████████████████████████| 351/351 [00:24<00:00, 14.21batch/s, Batch Loss=1.22]\n"
     ]
    },
    {
     "name": "stdout",
     "output_type": "stream",
     "text": [
      "Epoch [737/1000], Training Loss: 1.1145, Accuracy: 0.6879\n"
     ]
    },
    {
     "name": "stderr",
     "output_type": "stream",
     "text": [
      "Epoch [738/1000]: 100%|██████████████████████████████████████████| 351/351 [00:24<00:00, 14.28batch/s, Batch Loss=1.24]\n"
     ]
    },
    {
     "name": "stdout",
     "output_type": "stream",
     "text": [
      "Epoch [738/1000], Training Loss: 1.1190, Accuracy: 0.6870\n"
     ]
    },
    {
     "name": "stderr",
     "output_type": "stream",
     "text": [
      "Epoch [739/1000]: 100%|██████████████████████████████████████████| 351/351 [00:24<00:00, 14.20batch/s, Batch Loss=1.24]\n"
     ]
    },
    {
     "name": "stdout",
     "output_type": "stream",
     "text": [
      "Epoch [739/1000], Training Loss: 1.1119, Accuracy: 0.6886\n"
     ]
    },
    {
     "name": "stderr",
     "output_type": "stream",
     "text": [
      "Epoch [740/1000]: 100%|██████████████████████████████████████████| 351/351 [00:24<00:00, 14.30batch/s, Batch Loss=1.05]\n"
     ]
    },
    {
     "name": "stdout",
     "output_type": "stream",
     "text": [
      "Epoch [740/1000], Training Loss: 1.1118, Accuracy: 0.6908\n"
     ]
    },
    {
     "name": "stderr",
     "output_type": "stream",
     "text": [
      "Epoch [741/1000]: 100%|██████████████████████████████████████████| 351/351 [00:24<00:00, 14.32batch/s, Batch Loss=1.16]\n"
     ]
    },
    {
     "name": "stdout",
     "output_type": "stream",
     "text": [
      "Epoch [741/1000], Training Loss: 1.1124, Accuracy: 0.6883\n"
     ]
    },
    {
     "name": "stderr",
     "output_type": "stream",
     "text": [
      "Epoch [742/1000]: 100%|██████████████████████████████████████████| 351/351 [00:24<00:00, 14.22batch/s, Batch Loss=1.02]\n"
     ]
    },
    {
     "name": "stdout",
     "output_type": "stream",
     "text": [
      "Epoch [742/1000], Training Loss: 1.1098, Accuracy: 0.6895\n"
     ]
    },
    {
     "name": "stderr",
     "output_type": "stream",
     "text": [
      "Epoch [743/1000]: 100%|███████████████████████████████████████████| 351/351 [00:24<00:00, 14.21batch/s, Batch Loss=1.2]\n"
     ]
    },
    {
     "name": "stdout",
     "output_type": "stream",
     "text": [
      "Epoch [743/1000], Training Loss: 1.1146, Accuracy: 0.6892\n"
     ]
    },
    {
     "name": "stderr",
     "output_type": "stream",
     "text": [
      "Epoch [744/1000]: 100%|██████████████████████████████████████████| 351/351 [00:24<00:00, 14.31batch/s, Batch Loss=1.18]\n"
     ]
    },
    {
     "name": "stdout",
     "output_type": "stream",
     "text": [
      "Epoch [744/1000], Training Loss: 1.1071, Accuracy: 0.6911\n"
     ]
    },
    {
     "name": "stderr",
     "output_type": "stream",
     "text": [
      "Epoch [745/1000]: 100%|██████████████████████████████████████████| 351/351 [00:24<00:00, 14.37batch/s, Batch Loss=1.35]\n"
     ]
    },
    {
     "name": "stdout",
     "output_type": "stream",
     "text": [
      "Epoch [745/1000], Training Loss: 1.1065, Accuracy: 0.6913\n"
     ]
    },
    {
     "name": "stderr",
     "output_type": "stream",
     "text": [
      "Epoch [746/1000]: 100%|█████████████████████████████████████████| 351/351 [00:24<00:00, 14.26batch/s, Batch Loss=0.991]\n"
     ]
    },
    {
     "name": "stdout",
     "output_type": "stream",
     "text": [
      "Epoch [746/1000], Training Loss: 1.0965, Accuracy: 0.6941\n"
     ]
    },
    {
     "name": "stderr",
     "output_type": "stream",
     "text": [
      "Epoch [747/1000]: 100%|██████████████████████████████████████████| 351/351 [00:24<00:00, 14.18batch/s, Batch Loss=1.31]\n"
     ]
    },
    {
     "name": "stdout",
     "output_type": "stream",
     "text": [
      "Epoch [747/1000], Training Loss: 1.1087, Accuracy: 0.6895\n"
     ]
    },
    {
     "name": "stderr",
     "output_type": "stream",
     "text": [
      "Epoch [748/1000]: 100%|██████████████████████████████████████████| 351/351 [00:24<00:00, 14.29batch/s, Batch Loss=1.06]\n"
     ]
    },
    {
     "name": "stdout",
     "output_type": "stream",
     "text": [
      "Epoch [748/1000], Training Loss: 1.1144, Accuracy: 0.6882\n"
     ]
    },
    {
     "name": "stderr",
     "output_type": "stream",
     "text": [
      "Epoch [749/1000]: 100%|██████████████████████████████████████████| 351/351 [00:24<00:00, 14.34batch/s, Batch Loss=1.28]\n"
     ]
    },
    {
     "name": "stdout",
     "output_type": "stream",
     "text": [
      "Epoch [749/1000], Training Loss: 1.1068, Accuracy: 0.6899\n"
     ]
    },
    {
     "name": "stderr",
     "output_type": "stream",
     "text": [
      "Epoch [750/1000]: 100%|██████████████████████████████████████████| 351/351 [00:24<00:00, 14.23batch/s, Batch Loss=1.14]\n"
     ]
    },
    {
     "name": "stdout",
     "output_type": "stream",
     "text": [
      "Epoch [750/1000], Training Loss: 1.1090, Accuracy: 0.6892\n",
      "Model saved at 'uet4rec64_ml_model_epoch_750.pth'\n"
     ]
    },
    {
     "name": "stderr",
     "output_type": "stream",
     "text": [
      "Epoch [751/1000]: 100%|██████████████████████████████████████████| 351/351 [00:24<00:00, 14.34batch/s, Batch Loss=1.14]\n"
     ]
    },
    {
     "name": "stdout",
     "output_type": "stream",
     "text": [
      "Epoch [751/1000], Training Loss: 1.1032, Accuracy: 0.6921\n"
     ]
    },
    {
     "name": "stderr",
     "output_type": "stream",
     "text": [
      "Epoch [752/1000]: 100%|██████████████████████████████████████████| 351/351 [00:24<00:00, 14.33batch/s, Batch Loss=1.24]\n"
     ]
    },
    {
     "name": "stdout",
     "output_type": "stream",
     "text": [
      "Epoch [752/1000], Training Loss: 1.1103, Accuracy: 0.6901\n"
     ]
    },
    {
     "name": "stderr",
     "output_type": "stream",
     "text": [
      "Epoch [753/1000]: 100%|█████████████████████████████████████████| 351/351 [00:24<00:00, 14.30batch/s, Batch Loss=0.972]\n"
     ]
    },
    {
     "name": "stdout",
     "output_type": "stream",
     "text": [
      "Epoch [753/1000], Training Loss: 1.1019, Accuracy: 0.6917\n"
     ]
    },
    {
     "name": "stderr",
     "output_type": "stream",
     "text": [
      "Epoch [754/1000]: 100%|██████████████████████████████████████████| 351/351 [00:24<00:00, 14.21batch/s, Batch Loss=1.17]\n"
     ]
    },
    {
     "name": "stdout",
     "output_type": "stream",
     "text": [
      "Epoch [754/1000], Training Loss: 1.1095, Accuracy: 0.6888\n"
     ]
    },
    {
     "name": "stderr",
     "output_type": "stream",
     "text": [
      "Epoch [755/1000]: 100%|██████████████████████████████████████████| 351/351 [00:24<00:00, 14.29batch/s, Batch Loss=1.06]\n"
     ]
    },
    {
     "name": "stdout",
     "output_type": "stream",
     "text": [
      "Epoch [755/1000], Training Loss: 1.1062, Accuracy: 0.6904\n"
     ]
    },
    {
     "name": "stderr",
     "output_type": "stream",
     "text": [
      "Epoch [756/1000]: 100%|██████████████████████████████████████████| 351/351 [00:24<00:00, 14.27batch/s, Batch Loss=1.02]\n"
     ]
    },
    {
     "name": "stdout",
     "output_type": "stream",
     "text": [
      "Epoch [756/1000], Training Loss: 1.1024, Accuracy: 0.6915\n"
     ]
    },
    {
     "name": "stderr",
     "output_type": "stream",
     "text": [
      "Epoch [757/1000]: 100%|███████████████████████████████████████████| 351/351 [00:24<00:00, 14.28batch/s, Batch Loss=1.2]\n"
     ]
    },
    {
     "name": "stdout",
     "output_type": "stream",
     "text": [
      "Epoch [757/1000], Training Loss: 1.1033, Accuracy: 0.6911\n"
     ]
    },
    {
     "name": "stderr",
     "output_type": "stream",
     "text": [
      "Epoch [758/1000]: 100%|██████████████████████████████████████████| 351/351 [00:24<00:00, 14.19batch/s, Batch Loss=1.27]\n"
     ]
    },
    {
     "name": "stdout",
     "output_type": "stream",
     "text": [
      "Epoch [758/1000], Training Loss: 1.1041, Accuracy: 0.6917\n"
     ]
    },
    {
     "name": "stderr",
     "output_type": "stream",
     "text": [
      "Epoch [759/1000]: 100%|██████████████████████████████████████████| 351/351 [00:24<00:00, 14.30batch/s, Batch Loss=1.14]\n"
     ]
    },
    {
     "name": "stdout",
     "output_type": "stream",
     "text": [
      "Epoch [759/1000], Training Loss: 1.1069, Accuracy: 0.6902\n"
     ]
    },
    {
     "name": "stderr",
     "output_type": "stream",
     "text": [
      "Epoch [760/1000]: 100%|██████████████████████████████████████████| 351/351 [00:24<00:00, 14.12batch/s, Batch Loss=1.14]\n"
     ]
    },
    {
     "name": "stdout",
     "output_type": "stream",
     "text": [
      "Epoch [760/1000], Training Loss: 1.0989, Accuracy: 0.6917\n"
     ]
    },
    {
     "name": "stderr",
     "output_type": "stream",
     "text": [
      "Epoch [761/1000]: 100%|██████████████████████████████████████████| 351/351 [00:26<00:00, 13.39batch/s, Batch Loss=1.11]\n"
     ]
    },
    {
     "name": "stdout",
     "output_type": "stream",
     "text": [
      "Epoch [761/1000], Training Loss: 1.1015, Accuracy: 0.6921\n"
     ]
    },
    {
     "name": "stderr",
     "output_type": "stream",
     "text": [
      "Epoch [762/1000]: 100%|██████████████████████████████████████████| 351/351 [00:25<00:00, 14.03batch/s, Batch Loss=1.41]\n"
     ]
    },
    {
     "name": "stdout",
     "output_type": "stream",
     "text": [
      "Epoch [762/1000], Training Loss: 1.1030, Accuracy: 0.6911\n"
     ]
    },
    {
     "name": "stderr",
     "output_type": "stream",
     "text": [
      "Epoch [763/1000]: 100%|█████████████████████████████████████████| 351/351 [00:24<00:00, 14.34batch/s, Batch Loss=0.974]\n"
     ]
    },
    {
     "name": "stdout",
     "output_type": "stream",
     "text": [
      "Epoch [763/1000], Training Loss: 1.1005, Accuracy: 0.6910\n"
     ]
    },
    {
     "name": "stderr",
     "output_type": "stream",
     "text": [
      "Epoch [764/1000]: 100%|██████████████████████████████████████████| 351/351 [00:24<00:00, 14.18batch/s, Batch Loss=1.14]\n"
     ]
    },
    {
     "name": "stdout",
     "output_type": "stream",
     "text": [
      "Epoch [764/1000], Training Loss: 1.1032, Accuracy: 0.6906\n"
     ]
    },
    {
     "name": "stderr",
     "output_type": "stream",
     "text": [
      "Epoch [765/1000]: 100%|██████████████████████████████████████████| 351/351 [00:24<00:00, 14.17batch/s, Batch Loss=1.28]\n"
     ]
    },
    {
     "name": "stdout",
     "output_type": "stream",
     "text": [
      "Epoch [765/1000], Training Loss: 1.1031, Accuracy: 0.6892\n"
     ]
    },
    {
     "name": "stderr",
     "output_type": "stream",
     "text": [
      "Epoch [766/1000]: 100%|██████████████████████████████████████████| 351/351 [00:24<00:00, 14.11batch/s, Batch Loss=1.13]\n"
     ]
    },
    {
     "name": "stdout",
     "output_type": "stream",
     "text": [
      "Epoch [766/1000], Training Loss: 1.1047, Accuracy: 0.6912\n"
     ]
    },
    {
     "name": "stderr",
     "output_type": "stream",
     "text": [
      "Epoch [767/1000]: 100%|███████████████████████████████████████████| 351/351 [00:24<00:00, 14.08batch/s, Batch Loss=1.1]\n"
     ]
    },
    {
     "name": "stdout",
     "output_type": "stream",
     "text": [
      "Epoch [767/1000], Training Loss: 1.0927, Accuracy: 0.6941\n"
     ]
    },
    {
     "name": "stderr",
     "output_type": "stream",
     "text": [
      "Epoch [768/1000]: 100%|██████████████████████████████████████████| 351/351 [00:24<00:00, 14.21batch/s, Batch Loss=1.21]\n"
     ]
    },
    {
     "name": "stdout",
     "output_type": "stream",
     "text": [
      "Epoch [768/1000], Training Loss: 1.0947, Accuracy: 0.6935\n"
     ]
    },
    {
     "name": "stderr",
     "output_type": "stream",
     "text": [
      "Epoch [769/1000]: 100%|██████████████████████████████████████████| 351/351 [00:25<00:00, 13.61batch/s, Batch Loss=1.31]\n"
     ]
    },
    {
     "name": "stdout",
     "output_type": "stream",
     "text": [
      "Epoch [769/1000], Training Loss: 1.0975, Accuracy: 0.6937\n"
     ]
    },
    {
     "name": "stderr",
     "output_type": "stream",
     "text": [
      "Epoch [770/1000]: 100%|██████████████████████████████████████████| 351/351 [00:24<00:00, 14.26batch/s, Batch Loss=1.28]\n"
     ]
    },
    {
     "name": "stdout",
     "output_type": "stream",
     "text": [
      "Epoch [770/1000], Training Loss: 1.0970, Accuracy: 0.6933\n"
     ]
    },
    {
     "name": "stderr",
     "output_type": "stream",
     "text": [
      "Epoch [771/1000]: 100%|██████████████████████████████████████████| 351/351 [00:24<00:00, 14.31batch/s, Batch Loss=1.05]\n"
     ]
    },
    {
     "name": "stdout",
     "output_type": "stream",
     "text": [
      "Epoch [771/1000], Training Loss: 1.0929, Accuracy: 0.6931\n"
     ]
    },
    {
     "name": "stderr",
     "output_type": "stream",
     "text": [
      "Epoch [772/1000]: 100%|██████████████████████████████████████████| 351/351 [00:24<00:00, 14.38batch/s, Batch Loss=1.14]\n"
     ]
    },
    {
     "name": "stdout",
     "output_type": "stream",
     "text": [
      "Epoch [772/1000], Training Loss: 1.0927, Accuracy: 0.6936\n"
     ]
    },
    {
     "name": "stderr",
     "output_type": "stream",
     "text": [
      "Epoch [773/1000]: 100%|██████████████████████████████████████████| 351/351 [00:24<00:00, 14.38batch/s, Batch Loss=1.33]\n"
     ]
    },
    {
     "name": "stdout",
     "output_type": "stream",
     "text": [
      "Epoch [773/1000], Training Loss: 1.1009, Accuracy: 0.6917\n"
     ]
    },
    {
     "name": "stderr",
     "output_type": "stream",
     "text": [
      "Epoch [774/1000]: 100%|██████████████████████████████████████████| 351/351 [00:24<00:00, 14.31batch/s, Batch Loss=1.27]\n"
     ]
    },
    {
     "name": "stdout",
     "output_type": "stream",
     "text": [
      "Epoch [774/1000], Training Loss: 1.0972, Accuracy: 0.6937\n"
     ]
    },
    {
     "name": "stderr",
     "output_type": "stream",
     "text": [
      "Epoch [775/1000]: 100%|██████████████████████████████████████████| 351/351 [00:24<00:00, 14.40batch/s, Batch Loss=1.06]\n"
     ]
    },
    {
     "name": "stdout",
     "output_type": "stream",
     "text": [
      "Epoch [775/1000], Training Loss: 1.0848, Accuracy: 0.6949\n"
     ]
    },
    {
     "name": "stderr",
     "output_type": "stream",
     "text": [
      "Epoch [776/1000]: 100%|██████████████████████████████████████████| 351/351 [00:24<00:00, 14.39batch/s, Batch Loss=1.11]\n"
     ]
    },
    {
     "name": "stdout",
     "output_type": "stream",
     "text": [
      "Epoch [776/1000], Training Loss: 1.0954, Accuracy: 0.6940\n"
     ]
    },
    {
     "name": "stderr",
     "output_type": "stream",
     "text": [
      "Epoch [777/1000]: 100%|██████████████████████████████████████████| 351/351 [00:24<00:00, 14.41batch/s, Batch Loss=1.09]\n"
     ]
    },
    {
     "name": "stdout",
     "output_type": "stream",
     "text": [
      "Epoch [777/1000], Training Loss: 1.0901, Accuracy: 0.6952\n"
     ]
    },
    {
     "name": "stderr",
     "output_type": "stream",
     "text": [
      "Epoch [778/1000]: 100%|██████████████████████████████████████████| 351/351 [00:24<00:00, 14.31batch/s, Batch Loss=1.16]\n"
     ]
    },
    {
     "name": "stdout",
     "output_type": "stream",
     "text": [
      "Epoch [778/1000], Training Loss: 1.1004, Accuracy: 0.6921\n"
     ]
    },
    {
     "name": "stderr",
     "output_type": "stream",
     "text": [
      "Epoch [779/1000]: 100%|██████████████████████████████████████████| 351/351 [00:24<00:00, 14.33batch/s, Batch Loss=1.08]\n"
     ]
    },
    {
     "name": "stdout",
     "output_type": "stream",
     "text": [
      "Epoch [779/1000], Training Loss: 1.0904, Accuracy: 0.6933\n"
     ]
    },
    {
     "name": "stderr",
     "output_type": "stream",
     "text": [
      "Epoch [780/1000]: 100%|██████████████████████████████████████████| 351/351 [00:24<00:00, 14.29batch/s, Batch Loss=1.12]\n"
     ]
    },
    {
     "name": "stdout",
     "output_type": "stream",
     "text": [
      "Epoch [780/1000], Training Loss: 1.0944, Accuracy: 0.6929\n"
     ]
    },
    {
     "name": "stderr",
     "output_type": "stream",
     "text": [
      "Epoch [781/1000]: 100%|██████████████████████████████████████████| 351/351 [00:24<00:00, 14.38batch/s, Batch Loss=1.11]\n"
     ]
    },
    {
     "name": "stdout",
     "output_type": "stream",
     "text": [
      "Epoch [781/1000], Training Loss: 1.0980, Accuracy: 0.6917\n"
     ]
    },
    {
     "name": "stderr",
     "output_type": "stream",
     "text": [
      "Epoch [782/1000]: 100%|██████████████████████████████████████████| 351/351 [00:24<00:00, 14.35batch/s, Batch Loss=1.26]\n"
     ]
    },
    {
     "name": "stdout",
     "output_type": "stream",
     "text": [
      "Epoch [782/1000], Training Loss: 1.0941, Accuracy: 0.6936\n"
     ]
    },
    {
     "name": "stderr",
     "output_type": "stream",
     "text": [
      "Epoch [783/1000]: 100%|██████████████████████████████████████████| 351/351 [00:24<00:00, 14.40batch/s, Batch Loss=1.07]\n"
     ]
    },
    {
     "name": "stdout",
     "output_type": "stream",
     "text": [
      "Epoch [783/1000], Training Loss: 1.0970, Accuracy: 0.6940\n"
     ]
    },
    {
     "name": "stderr",
     "output_type": "stream",
     "text": [
      "Epoch [784/1000]: 100%|██████████████████████████████████████████| 351/351 [00:24<00:00, 14.12batch/s, Batch Loss=1.03]\n"
     ]
    },
    {
     "name": "stdout",
     "output_type": "stream",
     "text": [
      "Epoch [784/1000], Training Loss: 1.0920, Accuracy: 0.6931\n"
     ]
    },
    {
     "name": "stderr",
     "output_type": "stream",
     "text": [
      "Epoch [785/1000]: 100%|██████████████████████████████████████████| 351/351 [00:25<00:00, 13.87batch/s, Batch Loss=1.05]\n"
     ]
    },
    {
     "name": "stdout",
     "output_type": "stream",
     "text": [
      "Epoch [785/1000], Training Loss: 1.0907, Accuracy: 0.6938\n"
     ]
    },
    {
     "name": "stderr",
     "output_type": "stream",
     "text": [
      "Epoch [786/1000]: 100%|██████████████████████████████████████████| 351/351 [00:27<00:00, 12.89batch/s, Batch Loss=1.36]\n"
     ]
    },
    {
     "name": "stdout",
     "output_type": "stream",
     "text": [
      "Epoch [786/1000], Training Loss: 1.0875, Accuracy: 0.6933\n"
     ]
    },
    {
     "name": "stderr",
     "output_type": "stream",
     "text": [
      "Epoch [787/1000]: 100%|███████████████████████████████████████████| 351/351 [00:27<00:00, 12.98batch/s, Batch Loss=1.1]\n"
     ]
    },
    {
     "name": "stdout",
     "output_type": "stream",
     "text": [
      "Epoch [787/1000], Training Loss: 1.0881, Accuracy: 0.6936\n"
     ]
    },
    {
     "name": "stderr",
     "output_type": "stream",
     "text": [
      "Epoch [788/1000]: 100%|██████████████████████████████████████████| 351/351 [00:25<00:00, 13.62batch/s, Batch Loss=1.04]\n"
     ]
    },
    {
     "name": "stdout",
     "output_type": "stream",
     "text": [
      "Epoch [788/1000], Training Loss: 1.0898, Accuracy: 0.6941\n"
     ]
    },
    {
     "name": "stderr",
     "output_type": "stream",
     "text": [
      "Epoch [789/1000]: 100%|███████████████████████████████████████████| 351/351 [00:24<00:00, 14.08batch/s, Batch Loss=1.1]\n"
     ]
    },
    {
     "name": "stdout",
     "output_type": "stream",
     "text": [
      "Epoch [789/1000], Training Loss: 1.0879, Accuracy: 0.6950\n"
     ]
    },
    {
     "name": "stderr",
     "output_type": "stream",
     "text": [
      "Epoch [790/1000]: 100%|███████████████████████████████████████████| 351/351 [00:25<00:00, 14.02batch/s, Batch Loss=1.3]\n"
     ]
    },
    {
     "name": "stdout",
     "output_type": "stream",
     "text": [
      "Epoch [790/1000], Training Loss: 1.0906, Accuracy: 0.6931\n"
     ]
    },
    {
     "name": "stderr",
     "output_type": "stream",
     "text": [
      "Epoch [791/1000]: 100%|██████████████████████████████████████████| 351/351 [00:24<00:00, 14.12batch/s, Batch Loss=1.14]\n"
     ]
    },
    {
     "name": "stdout",
     "output_type": "stream",
     "text": [
      "Epoch [791/1000], Training Loss: 1.0956, Accuracy: 0.6943\n"
     ]
    },
    {
     "name": "stderr",
     "output_type": "stream",
     "text": [
      "Epoch [792/1000]: 100%|██████████████████████████████████████████| 351/351 [00:25<00:00, 13.81batch/s, Batch Loss=1.12]\n"
     ]
    },
    {
     "name": "stdout",
     "output_type": "stream",
     "text": [
      "Epoch [792/1000], Training Loss: 1.0914, Accuracy: 0.6954\n"
     ]
    },
    {
     "name": "stderr",
     "output_type": "stream",
     "text": [
      "Epoch [793/1000]: 100%|██████████████████████████████████████████| 351/351 [00:24<00:00, 14.26batch/s, Batch Loss=1.09]\n"
     ]
    },
    {
     "name": "stdout",
     "output_type": "stream",
     "text": [
      "Epoch [793/1000], Training Loss: 1.0957, Accuracy: 0.6926\n"
     ]
    },
    {
     "name": "stderr",
     "output_type": "stream",
     "text": [
      "Epoch [794/1000]: 100%|██████████████████████████████████████████| 351/351 [00:24<00:00, 14.13batch/s, Batch Loss=1.07]\n"
     ]
    },
    {
     "name": "stdout",
     "output_type": "stream",
     "text": [
      "Epoch [794/1000], Training Loss: 1.0909, Accuracy: 0.6950\n"
     ]
    },
    {
     "name": "stderr",
     "output_type": "stream",
     "text": [
      "Epoch [795/1000]: 100%|██████████████████████████████████████████| 351/351 [00:25<00:00, 13.82batch/s, Batch Loss=0.98]\n"
     ]
    },
    {
     "name": "stdout",
     "output_type": "stream",
     "text": [
      "Epoch [795/1000], Training Loss: 1.0902, Accuracy: 0.6960\n"
     ]
    },
    {
     "name": "stderr",
     "output_type": "stream",
     "text": [
      "Epoch [796/1000]: 100%|██████████████████████████████████████████| 351/351 [00:26<00:00, 13.43batch/s, Batch Loss=1.51]\n"
     ]
    },
    {
     "name": "stdout",
     "output_type": "stream",
     "text": [
      "Epoch [796/1000], Training Loss: 1.0885, Accuracy: 0.6955\n"
     ]
    },
    {
     "name": "stderr",
     "output_type": "stream",
     "text": [
      "Epoch [797/1000]: 100%|██████████████████████████████████████████| 351/351 [00:26<00:00, 13.18batch/s, Batch Loss=1.21]\n"
     ]
    },
    {
     "name": "stdout",
     "output_type": "stream",
     "text": [
      "Epoch [797/1000], Training Loss: 1.0814, Accuracy: 0.6952\n"
     ]
    },
    {
     "name": "stderr",
     "output_type": "stream",
     "text": [
      "Epoch [798/1000]: 100%|██████████████████████████████████████████| 351/351 [00:26<00:00, 13.43batch/s, Batch Loss=1.14]\n"
     ]
    },
    {
     "name": "stdout",
     "output_type": "stream",
     "text": [
      "Epoch [798/1000], Training Loss: 1.0866, Accuracy: 0.6960\n"
     ]
    },
    {
     "name": "stderr",
     "output_type": "stream",
     "text": [
      "Epoch [799/1000]: 100%|██████████████████████████████████████████| 351/351 [00:26<00:00, 13.49batch/s, Batch Loss=0.98]\n"
     ]
    },
    {
     "name": "stdout",
     "output_type": "stream",
     "text": [
      "Epoch [799/1000], Training Loss: 1.0864, Accuracy: 0.6958\n"
     ]
    },
    {
     "name": "stderr",
     "output_type": "stream",
     "text": [
      "Epoch [800/1000]: 100%|██████████████████████████████████████████| 351/351 [00:26<00:00, 13.39batch/s, Batch Loss=1.15]\n"
     ]
    },
    {
     "name": "stdout",
     "output_type": "stream",
     "text": [
      "Epoch [800/1000], Training Loss: 1.0848, Accuracy: 0.6961\n",
      "Model saved at 'uet4rec64_ml_model_epoch_800.pth'\n"
     ]
    },
    {
     "name": "stderr",
     "output_type": "stream",
     "text": [
      "Epoch [801/1000]: 100%|██████████████████████████████████████████| 351/351 [00:25<00:00, 13.51batch/s, Batch Loss=1.25]\n"
     ]
    },
    {
     "name": "stdout",
     "output_type": "stream",
     "text": [
      "Epoch [801/1000], Training Loss: 1.0807, Accuracy: 0.6960\n"
     ]
    },
    {
     "name": "stderr",
     "output_type": "stream",
     "text": [
      "Epoch [802/1000]: 100%|██████████████████████████████████████████| 351/351 [00:25<00:00, 13.73batch/s, Batch Loss=1.13]\n"
     ]
    },
    {
     "name": "stdout",
     "output_type": "stream",
     "text": [
      "Epoch [802/1000], Training Loss: 1.0856, Accuracy: 0.6958\n"
     ]
    },
    {
     "name": "stderr",
     "output_type": "stream",
     "text": [
      "Epoch [803/1000]: 100%|███████████████████████████████████████████| 351/351 [00:25<00:00, 13.66batch/s, Batch Loss=1.2]\n"
     ]
    },
    {
     "name": "stdout",
     "output_type": "stream",
     "text": [
      "Epoch [803/1000], Training Loss: 1.0864, Accuracy: 0.6931\n"
     ]
    },
    {
     "name": "stderr",
     "output_type": "stream",
     "text": [
      "Epoch [804/1000]: 100%|█████████████████████████████████████████████| 351/351 [00:25<00:00, 13.54batch/s, Batch Loss=1]\n"
     ]
    },
    {
     "name": "stdout",
     "output_type": "stream",
     "text": [
      "Epoch [804/1000], Training Loss: 1.0861, Accuracy: 0.6950\n"
     ]
    },
    {
     "name": "stderr",
     "output_type": "stream",
     "text": [
      "Epoch [805/1000]: 100%|██████████████████████████████████████████| 351/351 [00:25<00:00, 13.61batch/s, Batch Loss=1.26]\n"
     ]
    },
    {
     "name": "stdout",
     "output_type": "stream",
     "text": [
      "Epoch [805/1000], Training Loss: 1.0913, Accuracy: 0.6931\n"
     ]
    },
    {
     "name": "stderr",
     "output_type": "stream",
     "text": [
      "Epoch [806/1000]: 100%|██████████████████████████████████████████| 351/351 [00:25<00:00, 13.62batch/s, Batch Loss=1.12]\n"
     ]
    },
    {
     "name": "stdout",
     "output_type": "stream",
     "text": [
      "Epoch [806/1000], Training Loss: 1.0870, Accuracy: 0.6951\n"
     ]
    },
    {
     "name": "stderr",
     "output_type": "stream",
     "text": [
      "Epoch [807/1000]: 100%|██████████████████████████████████████████| 351/351 [00:26<00:00, 13.47batch/s, Batch Loss=1.17]\n"
     ]
    },
    {
     "name": "stdout",
     "output_type": "stream",
     "text": [
      "Epoch [807/1000], Training Loss: 1.0916, Accuracy: 0.6939\n"
     ]
    },
    {
     "name": "stderr",
     "output_type": "stream",
     "text": [
      "Epoch [808/1000]: 100%|██████████████████████████████████████████| 351/351 [00:26<00:00, 13.43batch/s, Batch Loss=1.15]\n"
     ]
    },
    {
     "name": "stdout",
     "output_type": "stream",
     "text": [
      "Epoch [808/1000], Training Loss: 1.0856, Accuracy: 0.6969\n"
     ]
    },
    {
     "name": "stderr",
     "output_type": "stream",
     "text": [
      "Epoch [809/1000]: 100%|██████████████████████████████████████████| 351/351 [00:25<00:00, 13.76batch/s, Batch Loss=1.19]\n"
     ]
    },
    {
     "name": "stdout",
     "output_type": "stream",
     "text": [
      "Epoch [809/1000], Training Loss: 1.0827, Accuracy: 0.6959\n"
     ]
    },
    {
     "name": "stderr",
     "output_type": "stream",
     "text": [
      "Epoch [810/1000]: 100%|██████████████████████████████████████████| 351/351 [00:24<00:00, 14.19batch/s, Batch Loss=1.07]\n"
     ]
    },
    {
     "name": "stdout",
     "output_type": "stream",
     "text": [
      "Epoch [810/1000], Training Loss: 1.0798, Accuracy: 0.6983\n"
     ]
    },
    {
     "name": "stderr",
     "output_type": "stream",
     "text": [
      "Epoch [811/1000]: 100%|███████████████████████████████████████████| 351/351 [00:24<00:00, 14.30batch/s, Batch Loss=1.2]\n"
     ]
    },
    {
     "name": "stdout",
     "output_type": "stream",
     "text": [
      "Epoch [811/1000], Training Loss: 1.0853, Accuracy: 0.6954\n"
     ]
    },
    {
     "name": "stderr",
     "output_type": "stream",
     "text": [
      "Epoch [812/1000]: 100%|██████████████████████████████████████████| 351/351 [00:24<00:00, 14.22batch/s, Batch Loss=1.17]\n"
     ]
    },
    {
     "name": "stdout",
     "output_type": "stream",
     "text": [
      "Epoch [812/1000], Training Loss: 1.0785, Accuracy: 0.6959\n"
     ]
    },
    {
     "name": "stderr",
     "output_type": "stream",
     "text": [
      "Epoch [813/1000]: 100%|██████████████████████████████████████████| 351/351 [00:25<00:00, 14.03batch/s, Batch Loss=1.06]\n"
     ]
    },
    {
     "name": "stdout",
     "output_type": "stream",
     "text": [
      "Epoch [813/1000], Training Loss: 1.0785, Accuracy: 0.6963\n"
     ]
    },
    {
     "name": "stderr",
     "output_type": "stream",
     "text": [
      "Epoch [814/1000]: 100%|██████████████████████████████████████████| 351/351 [00:25<00:00, 13.89batch/s, Batch Loss=1.06]\n"
     ]
    },
    {
     "name": "stdout",
     "output_type": "stream",
     "text": [
      "Epoch [814/1000], Training Loss: 1.0840, Accuracy: 0.6965\n"
     ]
    },
    {
     "name": "stderr",
     "output_type": "stream",
     "text": [
      "Epoch [815/1000]: 100%|██████████████████████████████████████████| 351/351 [00:25<00:00, 13.84batch/s, Batch Loss=1.04]\n"
     ]
    },
    {
     "name": "stdout",
     "output_type": "stream",
     "text": [
      "Epoch [815/1000], Training Loss: 1.0884, Accuracy: 0.6937\n"
     ]
    },
    {
     "name": "stderr",
     "output_type": "stream",
     "text": [
      "Epoch [816/1000]: 100%|██████████████████████████████████████████| 351/351 [00:25<00:00, 13.94batch/s, Batch Loss=1.08]\n"
     ]
    },
    {
     "name": "stdout",
     "output_type": "stream",
     "text": [
      "Epoch [816/1000], Training Loss: 1.0782, Accuracy: 0.6955\n"
     ]
    },
    {
     "name": "stderr",
     "output_type": "stream",
     "text": [
      "Epoch [817/1000]: 100%|██████████████████████████████████████████| 351/351 [00:25<00:00, 13.74batch/s, Batch Loss=1.02]\n"
     ]
    },
    {
     "name": "stdout",
     "output_type": "stream",
     "text": [
      "Epoch [817/1000], Training Loss: 1.0823, Accuracy: 0.6967\n"
     ]
    },
    {
     "name": "stderr",
     "output_type": "stream",
     "text": [
      "Epoch [818/1000]: 100%|██████████████████████████████████████████| 351/351 [00:25<00:00, 13.71batch/s, Batch Loss=1.23]\n"
     ]
    },
    {
     "name": "stdout",
     "output_type": "stream",
     "text": [
      "Epoch [818/1000], Training Loss: 1.0870, Accuracy: 0.6949\n"
     ]
    },
    {
     "name": "stderr",
     "output_type": "stream",
     "text": [
      "Epoch [819/1000]: 100%|██████████████████████████████████████████| 351/351 [00:25<00:00, 13.96batch/s, Batch Loss=1.09]\n"
     ]
    },
    {
     "name": "stdout",
     "output_type": "stream",
     "text": [
      "Epoch [819/1000], Training Loss: 1.0875, Accuracy: 0.6935\n"
     ]
    },
    {
     "name": "stderr",
     "output_type": "stream",
     "text": [
      "Epoch [820/1000]: 100%|██████████████████████████████████████████| 351/351 [00:25<00:00, 13.51batch/s, Batch Loss=1.19]\n"
     ]
    },
    {
     "name": "stdout",
     "output_type": "stream",
     "text": [
      "Epoch [820/1000], Training Loss: 1.0860, Accuracy: 0.6939\n"
     ]
    },
    {
     "name": "stderr",
     "output_type": "stream",
     "text": [
      "Epoch [821/1000]: 100%|██████████████████████████████████████████| 351/351 [00:26<00:00, 13.48batch/s, Batch Loss=1.07]\n"
     ]
    },
    {
     "name": "stdout",
     "output_type": "stream",
     "text": [
      "Epoch [821/1000], Training Loss: 1.0785, Accuracy: 0.6966\n"
     ]
    },
    {
     "name": "stderr",
     "output_type": "stream",
     "text": [
      "Epoch [822/1000]: 100%|██████████████████████████████████████████| 351/351 [00:25<00:00, 13.59batch/s, Batch Loss=1.12]\n"
     ]
    },
    {
     "name": "stdout",
     "output_type": "stream",
     "text": [
      "Epoch [822/1000], Training Loss: 1.0849, Accuracy: 0.6951\n"
     ]
    },
    {
     "name": "stderr",
     "output_type": "stream",
     "text": [
      "Epoch [823/1000]: 100%|██████████████████████████████████████████| 351/351 [00:25<00:00, 13.83batch/s, Batch Loss=1.25]\n"
     ]
    },
    {
     "name": "stdout",
     "output_type": "stream",
     "text": [
      "Epoch [823/1000], Training Loss: 1.0766, Accuracy: 0.6967\n"
     ]
    },
    {
     "name": "stderr",
     "output_type": "stream",
     "text": [
      "Epoch [824/1000]: 100%|██████████████████████████████████████████| 351/351 [00:24<00:00, 14.07batch/s, Batch Loss=0.96]\n"
     ]
    },
    {
     "name": "stdout",
     "output_type": "stream",
     "text": [
      "Epoch [824/1000], Training Loss: 1.0788, Accuracy: 0.6969\n"
     ]
    },
    {
     "name": "stderr",
     "output_type": "stream",
     "text": [
      "Epoch [825/1000]: 100%|██████████████████████████████████████████| 351/351 [00:25<00:00, 13.78batch/s, Batch Loss=1.18]\n"
     ]
    },
    {
     "name": "stdout",
     "output_type": "stream",
     "text": [
      "Epoch [825/1000], Training Loss: 1.0808, Accuracy: 0.6961\n"
     ]
    },
    {
     "name": "stderr",
     "output_type": "stream",
     "text": [
      "Epoch [826/1000]: 100%|█████████████████████████████████████████| 351/351 [00:24<00:00, 14.56batch/s, Batch Loss=0.989]\n"
     ]
    },
    {
     "name": "stdout",
     "output_type": "stream",
     "text": [
      "Epoch [826/1000], Training Loss: 1.0759, Accuracy: 0.6951\n"
     ]
    },
    {
     "name": "stderr",
     "output_type": "stream",
     "text": [
      "Epoch [827/1000]: 100%|██████████████████████████████████████████| 351/351 [00:24<00:00, 14.30batch/s, Batch Loss=1.12]\n"
     ]
    },
    {
     "name": "stdout",
     "output_type": "stream",
     "text": [
      "Epoch [827/1000], Training Loss: 1.0786, Accuracy: 0.6955\n"
     ]
    },
    {
     "name": "stderr",
     "output_type": "stream",
     "text": [
      "Epoch [828/1000]: 100%|█████████████████████████████████████████| 351/351 [00:24<00:00, 14.34batch/s, Batch Loss=0.908]\n"
     ]
    },
    {
     "name": "stdout",
     "output_type": "stream",
     "text": [
      "Epoch [828/1000], Training Loss: 1.0722, Accuracy: 0.6980\n"
     ]
    },
    {
     "name": "stderr",
     "output_type": "stream",
     "text": [
      "Epoch [829/1000]: 100%|██████████████████████████████████████████| 351/351 [00:23<00:00, 14.68batch/s, Batch Loss=1.11]\n"
     ]
    },
    {
     "name": "stdout",
     "output_type": "stream",
     "text": [
      "Epoch [829/1000], Training Loss: 1.0746, Accuracy: 0.6980\n"
     ]
    },
    {
     "name": "stderr",
     "output_type": "stream",
     "text": [
      "Epoch [830/1000]: 100%|█████████████████████████████████████████| 351/351 [00:23<00:00, 14.77batch/s, Batch Loss=0.977]\n"
     ]
    },
    {
     "name": "stdout",
     "output_type": "stream",
     "text": [
      "Epoch [830/1000], Training Loss: 1.0783, Accuracy: 0.6952\n"
     ]
    },
    {
     "name": "stderr",
     "output_type": "stream",
     "text": [
      "Epoch [831/1000]: 100%|█████████████████████████████████████████| 351/351 [00:24<00:00, 14.62batch/s, Batch Loss=0.779]\n"
     ]
    },
    {
     "name": "stdout",
     "output_type": "stream",
     "text": [
      "Epoch [831/1000], Training Loss: 1.0717, Accuracy: 0.7008\n"
     ]
    },
    {
     "name": "stderr",
     "output_type": "stream",
     "text": [
      "Epoch [832/1000]: 100%|██████████████████████████████████████████| 351/351 [00:25<00:00, 13.62batch/s, Batch Loss=1.44]\n"
     ]
    },
    {
     "name": "stdout",
     "output_type": "stream",
     "text": [
      "Epoch [832/1000], Training Loss: 1.0735, Accuracy: 0.6968\n"
     ]
    },
    {
     "name": "stderr",
     "output_type": "stream",
     "text": [
      "Epoch [833/1000]: 100%|██████████████████████████████████████████| 351/351 [00:25<00:00, 13.88batch/s, Batch Loss=1.32]\n"
     ]
    },
    {
     "name": "stdout",
     "output_type": "stream",
     "text": [
      "Epoch [833/1000], Training Loss: 1.0747, Accuracy: 0.6967\n"
     ]
    },
    {
     "name": "stderr",
     "output_type": "stream",
     "text": [
      "Epoch [834/1000]: 100%|██████████████████████████████████████████| 351/351 [00:26<00:00, 13.49batch/s, Batch Loss=1.36]\n"
     ]
    },
    {
     "name": "stdout",
     "output_type": "stream",
     "text": [
      "Epoch [834/1000], Training Loss: 1.0763, Accuracy: 0.6971\n"
     ]
    },
    {
     "name": "stderr",
     "output_type": "stream",
     "text": [
      "Epoch [835/1000]: 100%|███████████████████████████████████████████| 351/351 [00:24<00:00, 14.21batch/s, Batch Loss=1.2]\n"
     ]
    },
    {
     "name": "stdout",
     "output_type": "stream",
     "text": [
      "Epoch [835/1000], Training Loss: 1.0838, Accuracy: 0.6950\n"
     ]
    },
    {
     "name": "stderr",
     "output_type": "stream",
     "text": [
      "Epoch [836/1000]: 100%|██████████████████████████████████████████| 351/351 [00:25<00:00, 13.58batch/s, Batch Loss=1.13]\n"
     ]
    },
    {
     "name": "stdout",
     "output_type": "stream",
     "text": [
      "Epoch [836/1000], Training Loss: 1.0785, Accuracy: 0.6968\n"
     ]
    },
    {
     "name": "stderr",
     "output_type": "stream",
     "text": [
      "Epoch [837/1000]: 100%|██████████████████████████████████████████| 351/351 [00:24<00:00, 14.04batch/s, Batch Loss=1.07]\n"
     ]
    },
    {
     "name": "stdout",
     "output_type": "stream",
     "text": [
      "Epoch [837/1000], Training Loss: 1.0702, Accuracy: 0.6990\n"
     ]
    },
    {
     "name": "stderr",
     "output_type": "stream",
     "text": [
      "Epoch [838/1000]: 100%|███████████████████████████████████████████| 351/351 [00:24<00:00, 14.20batch/s, Batch Loss=1.3]\n"
     ]
    },
    {
     "name": "stdout",
     "output_type": "stream",
     "text": [
      "Epoch [838/1000], Training Loss: 1.0754, Accuracy: 0.6970\n"
     ]
    },
    {
     "name": "stderr",
     "output_type": "stream",
     "text": [
      "Epoch [839/1000]: 100%|██████████████████████████████████████████| 351/351 [00:24<00:00, 14.26batch/s, Batch Loss=1.08]\n"
     ]
    },
    {
     "name": "stdout",
     "output_type": "stream",
     "text": [
      "Epoch [839/1000], Training Loss: 1.0745, Accuracy: 0.6980\n"
     ]
    },
    {
     "name": "stderr",
     "output_type": "stream",
     "text": [
      "Epoch [840/1000]: 100%|██████████████████████████████████████████| 351/351 [00:24<00:00, 14.15batch/s, Batch Loss=1.18]\n"
     ]
    },
    {
     "name": "stdout",
     "output_type": "stream",
     "text": [
      "Epoch [840/1000], Training Loss: 1.0684, Accuracy: 0.6999\n"
     ]
    },
    {
     "name": "stderr",
     "output_type": "stream",
     "text": [
      "Epoch [841/1000]: 100%|██████████████████████████████████████████| 351/351 [00:24<00:00, 14.20batch/s, Batch Loss=1.21]\n"
     ]
    },
    {
     "name": "stdout",
     "output_type": "stream",
     "text": [
      "Epoch [841/1000], Training Loss: 1.0771, Accuracy: 0.6975\n"
     ]
    },
    {
     "name": "stderr",
     "output_type": "stream",
     "text": [
      "Epoch [842/1000]: 100%|██████████████████████████████████████████| 351/351 [00:24<00:00, 14.19batch/s, Batch Loss=1.12]\n"
     ]
    },
    {
     "name": "stdout",
     "output_type": "stream",
     "text": [
      "Epoch [842/1000], Training Loss: 1.0710, Accuracy: 0.6957\n"
     ]
    },
    {
     "name": "stderr",
     "output_type": "stream",
     "text": [
      "Epoch [843/1000]: 100%|██████████████████████████████████████████| 351/351 [00:24<00:00, 14.52batch/s, Batch Loss=1.22]\n"
     ]
    },
    {
     "name": "stdout",
     "output_type": "stream",
     "text": [
      "Epoch [843/1000], Training Loss: 1.0758, Accuracy: 0.6976\n"
     ]
    },
    {
     "name": "stderr",
     "output_type": "stream",
     "text": [
      "Epoch [844/1000]: 100%|██████████████████████████████████████████| 351/351 [00:24<00:00, 14.50batch/s, Batch Loss=1.12]\n"
     ]
    },
    {
     "name": "stdout",
     "output_type": "stream",
     "text": [
      "Epoch [844/1000], Training Loss: 1.0712, Accuracy: 0.6975\n"
     ]
    },
    {
     "name": "stderr",
     "output_type": "stream",
     "text": [
      "Epoch [845/1000]: 100%|██████████████████████████████████████████| 351/351 [00:24<00:00, 14.60batch/s, Batch Loss=1.07]\n"
     ]
    },
    {
     "name": "stdout",
     "output_type": "stream",
     "text": [
      "Epoch [845/1000], Training Loss: 1.0753, Accuracy: 0.6960\n"
     ]
    },
    {
     "name": "stderr",
     "output_type": "stream",
     "text": [
      "Epoch [846/1000]: 100%|██████████████████████████████████████████| 351/351 [00:24<00:00, 14.46batch/s, Batch Loss=1.29]\n"
     ]
    },
    {
     "name": "stdout",
     "output_type": "stream",
     "text": [
      "Epoch [846/1000], Training Loss: 1.0794, Accuracy: 0.6960\n"
     ]
    },
    {
     "name": "stderr",
     "output_type": "stream",
     "text": [
      "Epoch [847/1000]: 100%|██████████████████████████████████████████| 351/351 [00:23<00:00, 14.75batch/s, Batch Loss=1.23]\n"
     ]
    },
    {
     "name": "stdout",
     "output_type": "stream",
     "text": [
      "Epoch [847/1000], Training Loss: 1.0752, Accuracy: 0.6974\n"
     ]
    },
    {
     "name": "stderr",
     "output_type": "stream",
     "text": [
      "Epoch [848/1000]: 100%|█████████████████████████████████████████| 351/351 [00:23<00:00, 14.64batch/s, Batch Loss=0.955]\n"
     ]
    },
    {
     "name": "stdout",
     "output_type": "stream",
     "text": [
      "Epoch [848/1000], Training Loss: 1.0666, Accuracy: 0.6987\n"
     ]
    },
    {
     "name": "stderr",
     "output_type": "stream",
     "text": [
      "Epoch [849/1000]: 100%|█████████████████████████████████████████████| 351/351 [00:24<00:00, 14.52batch/s, Batch Loss=1]\n"
     ]
    },
    {
     "name": "stdout",
     "output_type": "stream",
     "text": [
      "Epoch [849/1000], Training Loss: 1.0678, Accuracy: 0.7002\n"
     ]
    },
    {
     "name": "stderr",
     "output_type": "stream",
     "text": [
      "Epoch [850/1000]: 100%|██████████████████████████████████████████| 351/351 [00:24<00:00, 14.52batch/s, Batch Loss=1.21]\n"
     ]
    },
    {
     "name": "stdout",
     "output_type": "stream",
     "text": [
      "Epoch [850/1000], Training Loss: 1.0683, Accuracy: 0.6973\n",
      "Model saved at 'uet4rec64_ml_model_epoch_850.pth'\n"
     ]
    },
    {
     "name": "stderr",
     "output_type": "stream",
     "text": [
      "Epoch [851/1000]: 100%|██████████████████████████████████████████| 351/351 [00:26<00:00, 13.14batch/s, Batch Loss=1.21]\n"
     ]
    },
    {
     "name": "stdout",
     "output_type": "stream",
     "text": [
      "Epoch [851/1000], Training Loss: 1.0647, Accuracy: 0.7021\n"
     ]
    },
    {
     "name": "stderr",
     "output_type": "stream",
     "text": [
      "Epoch [852/1000]: 100%|██████████████████████████████████████████| 351/351 [00:25<00:00, 14.01batch/s, Batch Loss=1.13]\n"
     ]
    },
    {
     "name": "stdout",
     "output_type": "stream",
     "text": [
      "Epoch [852/1000], Training Loss: 1.0700, Accuracy: 0.6982\n"
     ]
    },
    {
     "name": "stderr",
     "output_type": "stream",
     "text": [
      "Epoch [853/1000]: 100%|███████████████████████████████████████████| 351/351 [00:24<00:00, 14.16batch/s, Batch Loss=1.2]\n"
     ]
    },
    {
     "name": "stdout",
     "output_type": "stream",
     "text": [
      "Epoch [853/1000], Training Loss: 1.0726, Accuracy: 0.6986\n"
     ]
    },
    {
     "name": "stderr",
     "output_type": "stream",
     "text": [
      "Epoch [854/1000]: 100%|██████████████████████████████████████████| 351/351 [00:24<00:00, 14.19batch/s, Batch Loss=1.16]\n"
     ]
    },
    {
     "name": "stdout",
     "output_type": "stream",
     "text": [
      "Epoch [854/1000], Training Loss: 1.0655, Accuracy: 0.6986\n"
     ]
    },
    {
     "name": "stderr",
     "output_type": "stream",
     "text": [
      "Epoch [855/1000]: 100%|███████████████████████████████████████████| 351/351 [00:24<00:00, 14.11batch/s, Batch Loss=1.3]\n"
     ]
    },
    {
     "name": "stdout",
     "output_type": "stream",
     "text": [
      "Epoch [855/1000], Training Loss: 1.0718, Accuracy: 0.6967\n"
     ]
    },
    {
     "name": "stderr",
     "output_type": "stream",
     "text": [
      "Epoch [856/1000]: 100%|██████████████████████████████████████████| 351/351 [00:25<00:00, 14.00batch/s, Batch Loss=1.15]\n"
     ]
    },
    {
     "name": "stdout",
     "output_type": "stream",
     "text": [
      "Epoch [856/1000], Training Loss: 1.0716, Accuracy: 0.6974\n"
     ]
    },
    {
     "name": "stderr",
     "output_type": "stream",
     "text": [
      "Epoch [857/1000]: 100%|██████████████████████████████████████████| 351/351 [00:24<00:00, 14.34batch/s, Batch Loss=1.32]\n"
     ]
    },
    {
     "name": "stdout",
     "output_type": "stream",
     "text": [
      "Epoch [857/1000], Training Loss: 1.0727, Accuracy: 0.6991\n"
     ]
    },
    {
     "name": "stderr",
     "output_type": "stream",
     "text": [
      "Epoch [858/1000]: 100%|███████████████████████████████████████████| 351/351 [00:24<00:00, 14.52batch/s, Batch Loss=1.2]\n"
     ]
    },
    {
     "name": "stdout",
     "output_type": "stream",
     "text": [
      "Epoch [858/1000], Training Loss: 1.0680, Accuracy: 0.6984\n"
     ]
    },
    {
     "name": "stderr",
     "output_type": "stream",
     "text": [
      "Epoch [859/1000]: 100%|██████████████████████████████████████████| 351/351 [00:23<00:00, 14.66batch/s, Batch Loss=1.07]\n"
     ]
    },
    {
     "name": "stdout",
     "output_type": "stream",
     "text": [
      "Epoch [859/1000], Training Loss: 1.0594, Accuracy: 0.7010\n"
     ]
    },
    {
     "name": "stderr",
     "output_type": "stream",
     "text": [
      "Epoch [860/1000]: 100%|██████████████████████████████████████████| 351/351 [00:24<00:00, 14.60batch/s, Batch Loss=1.05]\n"
     ]
    },
    {
     "name": "stdout",
     "output_type": "stream",
     "text": [
      "Epoch [860/1000], Training Loss: 1.0674, Accuracy: 0.6984\n"
     ]
    },
    {
     "name": "stderr",
     "output_type": "stream",
     "text": [
      "Epoch [861/1000]: 100%|██████████████████████████████████████████| 351/351 [00:24<00:00, 14.48batch/s, Batch Loss=1.18]\n"
     ]
    },
    {
     "name": "stdout",
     "output_type": "stream",
     "text": [
      "Epoch [861/1000], Training Loss: 1.0687, Accuracy: 0.7003\n"
     ]
    },
    {
     "name": "stderr",
     "output_type": "stream",
     "text": [
      "Epoch [862/1000]: 100%|██████████████████████████████████████████| 351/351 [00:23<00:00, 14.90batch/s, Batch Loss=1.05]\n"
     ]
    },
    {
     "name": "stdout",
     "output_type": "stream",
     "text": [
      "Epoch [862/1000], Training Loss: 1.0541, Accuracy: 0.7013\n"
     ]
    },
    {
     "name": "stderr",
     "output_type": "stream",
     "text": [
      "Epoch [863/1000]: 100%|███████████████████████████████████████████| 351/351 [00:23<00:00, 14.87batch/s, Batch Loss=1.3]\n"
     ]
    },
    {
     "name": "stdout",
     "output_type": "stream",
     "text": [
      "Epoch [863/1000], Training Loss: 1.0617, Accuracy: 0.7014\n"
     ]
    },
    {
     "name": "stderr",
     "output_type": "stream",
     "text": [
      "Epoch [864/1000]: 100%|█████████████████████████████████████████| 351/351 [00:23<00:00, 14.68batch/s, Batch Loss=0.944]\n"
     ]
    },
    {
     "name": "stdout",
     "output_type": "stream",
     "text": [
      "Epoch [864/1000], Training Loss: 1.0641, Accuracy: 0.7001\n"
     ]
    },
    {
     "name": "stderr",
     "output_type": "stream",
     "text": [
      "Epoch [865/1000]: 100%|██████████████████████████████████████████| 351/351 [00:23<00:00, 14.96batch/s, Batch Loss=1.23]\n"
     ]
    },
    {
     "name": "stdout",
     "output_type": "stream",
     "text": [
      "Epoch [865/1000], Training Loss: 1.0619, Accuracy: 0.7004\n"
     ]
    },
    {
     "name": "stderr",
     "output_type": "stream",
     "text": [
      "Epoch [866/1000]: 100%|█████████████████████████████████████████| 351/351 [00:23<00:00, 14.84batch/s, Batch Loss=0.977]\n"
     ]
    },
    {
     "name": "stdout",
     "output_type": "stream",
     "text": [
      "Epoch [866/1000], Training Loss: 1.0601, Accuracy: 0.7008\n"
     ]
    },
    {
     "name": "stderr",
     "output_type": "stream",
     "text": [
      "Epoch [867/1000]: 100%|███████████████████████████████████████████| 351/351 [00:23<00:00, 14.90batch/s, Batch Loss=1.1]\n"
     ]
    },
    {
     "name": "stdout",
     "output_type": "stream",
     "text": [
      "Epoch [867/1000], Training Loss: 1.0643, Accuracy: 0.7008\n"
     ]
    },
    {
     "name": "stderr",
     "output_type": "stream",
     "text": [
      "Epoch [868/1000]: 100%|███████████████████████████████████████████| 351/351 [00:23<00:00, 14.80batch/s, Batch Loss=1.1]\n"
     ]
    },
    {
     "name": "stdout",
     "output_type": "stream",
     "text": [
      "Epoch [868/1000], Training Loss: 1.0688, Accuracy: 0.7002\n"
     ]
    },
    {
     "name": "stderr",
     "output_type": "stream",
     "text": [
      "Epoch [869/1000]: 100%|███████████████████████████████████████████| 351/351 [00:23<00:00, 14.83batch/s, Batch Loss=1.2]\n"
     ]
    },
    {
     "name": "stdout",
     "output_type": "stream",
     "text": [
      "Epoch [869/1000], Training Loss: 1.0623, Accuracy: 0.7006\n"
     ]
    },
    {
     "name": "stderr",
     "output_type": "stream",
     "text": [
      "Epoch [870/1000]: 100%|██████████████████████████████████████████| 351/351 [00:23<00:00, 15.04batch/s, Batch Loss=1.24]\n"
     ]
    },
    {
     "name": "stdout",
     "output_type": "stream",
     "text": [
      "Epoch [870/1000], Training Loss: 1.0676, Accuracy: 0.6979\n"
     ]
    },
    {
     "name": "stderr",
     "output_type": "stream",
     "text": [
      "Epoch [871/1000]: 100%|██████████████████████████████████████████| 351/351 [00:25<00:00, 13.94batch/s, Batch Loss=1.07]\n"
     ]
    },
    {
     "name": "stdout",
     "output_type": "stream",
     "text": [
      "Epoch [871/1000], Training Loss: 1.0585, Accuracy: 0.7011\n"
     ]
    },
    {
     "name": "stderr",
     "output_type": "stream",
     "text": [
      "Epoch [872/1000]: 100%|███████████████████████████████████████████| 351/351 [00:24<00:00, 14.07batch/s, Batch Loss=1.2]\n"
     ]
    },
    {
     "name": "stdout",
     "output_type": "stream",
     "text": [
      "Epoch [872/1000], Training Loss: 1.0569, Accuracy: 0.7015\n"
     ]
    },
    {
     "name": "stderr",
     "output_type": "stream",
     "text": [
      "Epoch [873/1000]: 100%|██████████████████████████████████████████| 351/351 [00:24<00:00, 14.14batch/s, Batch Loss=1.24]\n"
     ]
    },
    {
     "name": "stdout",
     "output_type": "stream",
     "text": [
      "Epoch [873/1000], Training Loss: 1.0643, Accuracy: 0.6994\n"
     ]
    },
    {
     "name": "stderr",
     "output_type": "stream",
     "text": [
      "Epoch [874/1000]: 100%|███████████████████████████████████████████| 351/351 [00:23<00:00, 14.69batch/s, Batch Loss=1.2]\n"
     ]
    },
    {
     "name": "stdout",
     "output_type": "stream",
     "text": [
      "Epoch [874/1000], Training Loss: 1.0641, Accuracy: 0.7009\n"
     ]
    },
    {
     "name": "stderr",
     "output_type": "stream",
     "text": [
      "Epoch [875/1000]: 100%|██████████████████████████████████████████| 351/351 [00:24<00:00, 14.42batch/s, Batch Loss=1.25]\n"
     ]
    },
    {
     "name": "stdout",
     "output_type": "stream",
     "text": [
      "Epoch [875/1000], Training Loss: 1.0558, Accuracy: 0.7006\n"
     ]
    },
    {
     "name": "stderr",
     "output_type": "stream",
     "text": [
      "Epoch [876/1000]: 100%|██████████████████████████████████████████| 351/351 [00:25<00:00, 14.01batch/s, Batch Loss=1.12]\n"
     ]
    },
    {
     "name": "stdout",
     "output_type": "stream",
     "text": [
      "Epoch [876/1000], Training Loss: 1.0628, Accuracy: 0.7014\n"
     ]
    },
    {
     "name": "stderr",
     "output_type": "stream",
     "text": [
      "Epoch [877/1000]: 100%|██████████████████████████████████████████| 351/351 [00:25<00:00, 13.80batch/s, Batch Loss=1.18]\n"
     ]
    },
    {
     "name": "stdout",
     "output_type": "stream",
     "text": [
      "Epoch [877/1000], Training Loss: 1.0550, Accuracy: 0.7020\n"
     ]
    },
    {
     "name": "stderr",
     "output_type": "stream",
     "text": [
      "Epoch [878/1000]: 100%|██████████████████████████████████████████| 351/351 [00:26<00:00, 13.20batch/s, Batch Loss=1.23]\n"
     ]
    },
    {
     "name": "stdout",
     "output_type": "stream",
     "text": [
      "Epoch [878/1000], Training Loss: 1.0633, Accuracy: 0.7010\n"
     ]
    },
    {
     "name": "stderr",
     "output_type": "stream",
     "text": [
      "Epoch [879/1000]: 100%|██████████████████████████████████████████| 351/351 [00:24<00:00, 14.25batch/s, Batch Loss=1.08]\n"
     ]
    },
    {
     "name": "stdout",
     "output_type": "stream",
     "text": [
      "Epoch [879/1000], Training Loss: 1.0624, Accuracy: 0.7003\n"
     ]
    },
    {
     "name": "stderr",
     "output_type": "stream",
     "text": [
      "Epoch [880/1000]: 100%|██████████████████████████████████████████| 351/351 [00:24<00:00, 14.57batch/s, Batch Loss=1.21]\n"
     ]
    },
    {
     "name": "stdout",
     "output_type": "stream",
     "text": [
      "Epoch [880/1000], Training Loss: 1.0553, Accuracy: 0.7020\n"
     ]
    },
    {
     "name": "stderr",
     "output_type": "stream",
     "text": [
      "Epoch [881/1000]: 100%|██████████████████████████████████████████| 351/351 [00:24<00:00, 14.59batch/s, Batch Loss=1.18]\n"
     ]
    },
    {
     "name": "stdout",
     "output_type": "stream",
     "text": [
      "Epoch [881/1000], Training Loss: 1.0542, Accuracy: 0.7011\n"
     ]
    },
    {
     "name": "stderr",
     "output_type": "stream",
     "text": [
      "Epoch [882/1000]: 100%|██████████████████████████████████████████| 351/351 [00:23<00:00, 14.68batch/s, Batch Loss=1.23]\n"
     ]
    },
    {
     "name": "stdout",
     "output_type": "stream",
     "text": [
      "Epoch [882/1000], Training Loss: 1.0567, Accuracy: 0.7011\n"
     ]
    },
    {
     "name": "stderr",
     "output_type": "stream",
     "text": [
      "Epoch [883/1000]: 100%|██████████████████████████████████████████| 351/351 [00:23<00:00, 14.66batch/s, Batch Loss=1.37]\n"
     ]
    },
    {
     "name": "stdout",
     "output_type": "stream",
     "text": [
      "Epoch [883/1000], Training Loss: 1.0607, Accuracy: 0.7012\n"
     ]
    },
    {
     "name": "stderr",
     "output_type": "stream",
     "text": [
      "Epoch [884/1000]: 100%|██████████████████████████████████████████| 351/351 [00:25<00:00, 14.01batch/s, Batch Loss=1.15]\n"
     ]
    },
    {
     "name": "stdout",
     "output_type": "stream",
     "text": [
      "Epoch [884/1000], Training Loss: 1.0559, Accuracy: 0.7014\n"
     ]
    },
    {
     "name": "stderr",
     "output_type": "stream",
     "text": [
      "Epoch [885/1000]: 100%|██████████████████████████████████████████| 351/351 [00:24<00:00, 14.56batch/s, Batch Loss=1.17]\n"
     ]
    },
    {
     "name": "stdout",
     "output_type": "stream",
     "text": [
      "Epoch [885/1000], Training Loss: 1.0539, Accuracy: 0.7018\n"
     ]
    },
    {
     "name": "stderr",
     "output_type": "stream",
     "text": [
      "Epoch [886/1000]: 100%|██████████████████████████████████████████| 351/351 [00:24<00:00, 14.62batch/s, Batch Loss=1.05]\n"
     ]
    },
    {
     "name": "stdout",
     "output_type": "stream",
     "text": [
      "Epoch [886/1000], Training Loss: 1.0577, Accuracy: 0.7015\n"
     ]
    },
    {
     "name": "stderr",
     "output_type": "stream",
     "text": [
      "Epoch [887/1000]: 100%|██████████████████████████████████████████| 351/351 [00:24<00:00, 14.41batch/s, Batch Loss=1.25]\n"
     ]
    },
    {
     "name": "stdout",
     "output_type": "stream",
     "text": [
      "Epoch [887/1000], Training Loss: 1.0560, Accuracy: 0.7025\n"
     ]
    },
    {
     "name": "stderr",
     "output_type": "stream",
     "text": [
      "Epoch [888/1000]: 100%|██████████████████████████████████████████| 351/351 [00:24<00:00, 14.60batch/s, Batch Loss=1.14]\n"
     ]
    },
    {
     "name": "stdout",
     "output_type": "stream",
     "text": [
      "Epoch [888/1000], Training Loss: 1.0515, Accuracy: 0.7014\n"
     ]
    },
    {
     "name": "stderr",
     "output_type": "stream",
     "text": [
      "Epoch [889/1000]: 100%|██████████████████████████████████████████| 351/351 [00:23<00:00, 14.66batch/s, Batch Loss=1.28]\n"
     ]
    },
    {
     "name": "stdout",
     "output_type": "stream",
     "text": [
      "Epoch [889/1000], Training Loss: 1.0553, Accuracy: 0.7029\n"
     ]
    },
    {
     "name": "stderr",
     "output_type": "stream",
     "text": [
      "Epoch [890/1000]: 100%|██████████████████████████████████████████| 351/351 [00:24<00:00, 14.49batch/s, Batch Loss=1.07]\n"
     ]
    },
    {
     "name": "stdout",
     "output_type": "stream",
     "text": [
      "Epoch [890/1000], Training Loss: 1.0569, Accuracy: 0.7021\n"
     ]
    },
    {
     "name": "stderr",
     "output_type": "stream",
     "text": [
      "Epoch [891/1000]: 100%|██████████████████████████████████████████| 351/351 [00:24<00:00, 14.51batch/s, Batch Loss=1.05]\n"
     ]
    },
    {
     "name": "stdout",
     "output_type": "stream",
     "text": [
      "Epoch [891/1000], Training Loss: 1.0551, Accuracy: 0.7009\n"
     ]
    },
    {
     "name": "stderr",
     "output_type": "stream",
     "text": [
      "Epoch [892/1000]: 100%|██████████████████████████████████████████| 351/351 [00:24<00:00, 14.59batch/s, Batch Loss=1.15]\n"
     ]
    },
    {
     "name": "stdout",
     "output_type": "stream",
     "text": [
      "Epoch [892/1000], Training Loss: 1.0583, Accuracy: 0.7031\n"
     ]
    },
    {
     "name": "stderr",
     "output_type": "stream",
     "text": [
      "Epoch [893/1000]: 100%|██████████████████████████████████████████| 351/351 [00:23<00:00, 14.66batch/s, Batch Loss=1.19]\n"
     ]
    },
    {
     "name": "stdout",
     "output_type": "stream",
     "text": [
      "Epoch [893/1000], Training Loss: 1.0466, Accuracy: 0.7051\n"
     ]
    },
    {
     "name": "stderr",
     "output_type": "stream",
     "text": [
      "Epoch [894/1000]: 100%|███████████████████████████████████████████| 351/351 [00:23<00:00, 14.72batch/s, Batch Loss=1.1]\n"
     ]
    },
    {
     "name": "stdout",
     "output_type": "stream",
     "text": [
      "Epoch [894/1000], Training Loss: 1.0568, Accuracy: 0.7021\n"
     ]
    },
    {
     "name": "stderr",
     "output_type": "stream",
     "text": [
      "Epoch [895/1000]: 100%|██████████████████████████████████████████| 351/351 [00:24<00:00, 14.46batch/s, Batch Loss=1.15]\n"
     ]
    },
    {
     "name": "stdout",
     "output_type": "stream",
     "text": [
      "Epoch [895/1000], Training Loss: 1.0614, Accuracy: 0.6998\n"
     ]
    },
    {
     "name": "stderr",
     "output_type": "stream",
     "text": [
      "Epoch [896/1000]: 100%|██████████████████████████████████████████| 351/351 [00:24<00:00, 14.50batch/s, Batch Loss=1.12]\n"
     ]
    },
    {
     "name": "stdout",
     "output_type": "stream",
     "text": [
      "Epoch [896/1000], Training Loss: 1.0551, Accuracy: 0.7009\n"
     ]
    },
    {
     "name": "stderr",
     "output_type": "stream",
     "text": [
      "Epoch [897/1000]: 100%|█████████████████████████████████████████| 351/351 [00:24<00:00, 14.54batch/s, Batch Loss=0.904]\n"
     ]
    },
    {
     "name": "stdout",
     "output_type": "stream",
     "text": [
      "Epoch [897/1000], Training Loss: 1.0529, Accuracy: 0.7027\n"
     ]
    },
    {
     "name": "stderr",
     "output_type": "stream",
     "text": [
      "Epoch [898/1000]: 100%|██████████████████████████████████████████| 351/351 [00:24<00:00, 14.31batch/s, Batch Loss=1.17]\n"
     ]
    },
    {
     "name": "stdout",
     "output_type": "stream",
     "text": [
      "Epoch [898/1000], Training Loss: 1.0467, Accuracy: 0.7030\n"
     ]
    },
    {
     "name": "stderr",
     "output_type": "stream",
     "text": [
      "Epoch [899/1000]: 100%|█████████████████████████████████████████| 351/351 [00:25<00:00, 13.97batch/s, Batch Loss=0.987]\n"
     ]
    },
    {
     "name": "stdout",
     "output_type": "stream",
     "text": [
      "Epoch [899/1000], Training Loss: 1.0566, Accuracy: 0.7018\n"
     ]
    },
    {
     "name": "stderr",
     "output_type": "stream",
     "text": [
      "Epoch [900/1000]: 100%|█████████████████████████████████████████| 351/351 [00:24<00:00, 14.10batch/s, Batch Loss=0.957]\n"
     ]
    },
    {
     "name": "stdout",
     "output_type": "stream",
     "text": [
      "Epoch [900/1000], Training Loss: 1.0539, Accuracy: 0.7016\n",
      "Model saved at 'uet4rec64_ml_model_epoch_900.pth'\n"
     ]
    },
    {
     "name": "stderr",
     "output_type": "stream",
     "text": [
      "Epoch [901/1000]: 100%|██████████████████████████████████████████| 351/351 [00:25<00:00, 14.04batch/s, Batch Loss=1.12]\n"
     ]
    },
    {
     "name": "stdout",
     "output_type": "stream",
     "text": [
      "Epoch [901/1000], Training Loss: 1.0487, Accuracy: 0.7036\n"
     ]
    },
    {
     "name": "stderr",
     "output_type": "stream",
     "text": [
      "Epoch [902/1000]: 100%|██████████████████████████████████████████| 351/351 [00:24<00:00, 14.15batch/s, Batch Loss=1.08]\n"
     ]
    },
    {
     "name": "stdout",
     "output_type": "stream",
     "text": [
      "Epoch [902/1000], Training Loss: 1.0528, Accuracy: 0.7027\n"
     ]
    },
    {
     "name": "stderr",
     "output_type": "stream",
     "text": [
      "Epoch [903/1000]: 100%|██████████████████████████████████████████| 351/351 [00:25<00:00, 13.96batch/s, Batch Loss=1.11]\n"
     ]
    },
    {
     "name": "stdout",
     "output_type": "stream",
     "text": [
      "Epoch [903/1000], Training Loss: 1.0480, Accuracy: 0.7027\n"
     ]
    },
    {
     "name": "stderr",
     "output_type": "stream",
     "text": [
      "Epoch [904/1000]: 100%|███████████████████████████████████████████| 351/351 [00:24<00:00, 14.10batch/s, Batch Loss=1.2]\n"
     ]
    },
    {
     "name": "stdout",
     "output_type": "stream",
     "text": [
      "Epoch [904/1000], Training Loss: 1.0528, Accuracy: 0.7033\n"
     ]
    },
    {
     "name": "stderr",
     "output_type": "stream",
     "text": [
      "Epoch [905/1000]: 100%|██████████████████████████████████████████| 351/351 [00:24<00:00, 14.20batch/s, Batch Loss=1.01]\n"
     ]
    },
    {
     "name": "stdout",
     "output_type": "stream",
     "text": [
      "Epoch [905/1000], Training Loss: 1.0555, Accuracy: 0.7029\n"
     ]
    },
    {
     "name": "stderr",
     "output_type": "stream",
     "text": [
      "Epoch [906/1000]: 100%|██████████████████████████████████████████| 351/351 [00:25<00:00, 14.02batch/s, Batch Loss=1.09]\n"
     ]
    },
    {
     "name": "stdout",
     "output_type": "stream",
     "text": [
      "Epoch [906/1000], Training Loss: 1.0563, Accuracy: 0.7010\n"
     ]
    },
    {
     "name": "stderr",
     "output_type": "stream",
     "text": [
      "Epoch [907/1000]: 100%|██████████████████████████████████████████| 351/351 [00:25<00:00, 13.90batch/s, Batch Loss=1.32]\n"
     ]
    },
    {
     "name": "stdout",
     "output_type": "stream",
     "text": [
      "Epoch [907/1000], Training Loss: 1.0476, Accuracy: 0.7030\n"
     ]
    },
    {
     "name": "stderr",
     "output_type": "stream",
     "text": [
      "Epoch [908/1000]: 100%|██████████████████████████████████████████| 351/351 [00:24<00:00, 14.08batch/s, Batch Loss=1.25]\n"
     ]
    },
    {
     "name": "stdout",
     "output_type": "stream",
     "text": [
      "Epoch [908/1000], Training Loss: 1.0563, Accuracy: 0.7001\n"
     ]
    },
    {
     "name": "stderr",
     "output_type": "stream",
     "text": [
      "Epoch [909/1000]: 100%|██████████████████████████████████████████| 351/351 [00:25<00:00, 14.03batch/s, Batch Loss=1.15]\n"
     ]
    },
    {
     "name": "stdout",
     "output_type": "stream",
     "text": [
      "Epoch [909/1000], Training Loss: 1.0525, Accuracy: 0.7033\n"
     ]
    },
    {
     "name": "stderr",
     "output_type": "stream",
     "text": [
      "Epoch [910/1000]: 100%|██████████████████████████████████████████| 351/351 [00:25<00:00, 14.02batch/s, Batch Loss=1.13]\n"
     ]
    },
    {
     "name": "stdout",
     "output_type": "stream",
     "text": [
      "Epoch [910/1000], Training Loss: 1.0480, Accuracy: 0.7039\n"
     ]
    },
    {
     "name": "stderr",
     "output_type": "stream",
     "text": [
      "Epoch [911/1000]: 100%|██████████████████████████████████████████| 351/351 [00:24<00:00, 14.14batch/s, Batch Loss=1.07]\n"
     ]
    },
    {
     "name": "stdout",
     "output_type": "stream",
     "text": [
      "Epoch [911/1000], Training Loss: 1.0437, Accuracy: 0.7039\n"
     ]
    },
    {
     "name": "stderr",
     "output_type": "stream",
     "text": [
      "Epoch [912/1000]: 100%|██████████████████████████████████████████| 351/351 [00:24<00:00, 14.26batch/s, Batch Loss=1.12]\n"
     ]
    },
    {
     "name": "stdout",
     "output_type": "stream",
     "text": [
      "Epoch [912/1000], Training Loss: 1.0491, Accuracy: 0.7040\n"
     ]
    },
    {
     "name": "stderr",
     "output_type": "stream",
     "text": [
      "Epoch [913/1000]: 100%|██████████████████████████████████████████| 351/351 [00:24<00:00, 14.16batch/s, Batch Loss=1.08]\n"
     ]
    },
    {
     "name": "stdout",
     "output_type": "stream",
     "text": [
      "Epoch [913/1000], Training Loss: 1.0445, Accuracy: 0.7055\n"
     ]
    },
    {
     "name": "stderr",
     "output_type": "stream",
     "text": [
      "Epoch [914/1000]: 100%|█████████████████████████████████████████| 351/351 [00:24<00:00, 14.10batch/s, Batch Loss=0.995]\n"
     ]
    },
    {
     "name": "stdout",
     "output_type": "stream",
     "text": [
      "Epoch [914/1000], Training Loss: 1.0508, Accuracy: 0.7025\n"
     ]
    },
    {
     "name": "stderr",
     "output_type": "stream",
     "text": [
      "Epoch [915/1000]: 100%|██████████████████████████████████████████| 351/351 [00:24<00:00, 14.17batch/s, Batch Loss=1.12]\n"
     ]
    },
    {
     "name": "stdout",
     "output_type": "stream",
     "text": [
      "Epoch [915/1000], Training Loss: 1.0490, Accuracy: 0.7039\n"
     ]
    },
    {
     "name": "stderr",
     "output_type": "stream",
     "text": [
      "Epoch [916/1000]: 100%|██████████████████████████████████████████| 351/351 [00:24<00:00, 14.05batch/s, Batch Loss=1.21]\n"
     ]
    },
    {
     "name": "stdout",
     "output_type": "stream",
     "text": [
      "Epoch [916/1000], Training Loss: 1.0454, Accuracy: 0.7044\n"
     ]
    },
    {
     "name": "stderr",
     "output_type": "stream",
     "text": [
      "Epoch [917/1000]: 100%|██████████████████████████████████████████| 351/351 [00:24<00:00, 14.10batch/s, Batch Loss=1.07]\n"
     ]
    },
    {
     "name": "stdout",
     "output_type": "stream",
     "text": [
      "Epoch [917/1000], Training Loss: 1.0465, Accuracy: 0.7051\n"
     ]
    },
    {
     "name": "stderr",
     "output_type": "stream",
     "text": [
      "Epoch [918/1000]: 100%|██████████████████████████████████████████| 351/351 [00:25<00:00, 14.01batch/s, Batch Loss=1.13]\n"
     ]
    },
    {
     "name": "stdout",
     "output_type": "stream",
     "text": [
      "Epoch [918/1000], Training Loss: 1.0461, Accuracy: 0.7048\n"
     ]
    },
    {
     "name": "stderr",
     "output_type": "stream",
     "text": [
      "Epoch [919/1000]: 100%|██████████████████████████████████████████| 351/351 [00:24<00:00, 14.13batch/s, Batch Loss=1.05]\n"
     ]
    },
    {
     "name": "stdout",
     "output_type": "stream",
     "text": [
      "Epoch [919/1000], Training Loss: 1.0456, Accuracy: 0.7046\n"
     ]
    },
    {
     "name": "stderr",
     "output_type": "stream",
     "text": [
      "Epoch [920/1000]: 100%|██████████████████████████████████████████| 351/351 [00:24<00:00, 14.23batch/s, Batch Loss=1.09]\n"
     ]
    },
    {
     "name": "stdout",
     "output_type": "stream",
     "text": [
      "Epoch [920/1000], Training Loss: 1.0451, Accuracy: 0.7056\n"
     ]
    },
    {
     "name": "stderr",
     "output_type": "stream",
     "text": [
      "Epoch [921/1000]: 100%|██████████████████████████████████████████| 351/351 [00:24<00:00, 14.25batch/s, Batch Loss=1.22]\n"
     ]
    },
    {
     "name": "stdout",
     "output_type": "stream",
     "text": [
      "Epoch [921/1000], Training Loss: 1.0510, Accuracy: 0.7012\n"
     ]
    },
    {
     "name": "stderr",
     "output_type": "stream",
     "text": [
      "Epoch [922/1000]: 100%|██████████████████████████████████████████| 351/351 [00:24<00:00, 14.11batch/s, Batch Loss=1.07]\n"
     ]
    },
    {
     "name": "stdout",
     "output_type": "stream",
     "text": [
      "Epoch [922/1000], Training Loss: 1.0483, Accuracy: 0.7031\n"
     ]
    },
    {
     "name": "stderr",
     "output_type": "stream",
     "text": [
      "Epoch [923/1000]: 100%|██████████████████████████████████████████| 351/351 [00:24<00:00, 14.16batch/s, Batch Loss=1.24]\n"
     ]
    },
    {
     "name": "stdout",
     "output_type": "stream",
     "text": [
      "Epoch [923/1000], Training Loss: 1.0424, Accuracy: 0.7053\n"
     ]
    },
    {
     "name": "stderr",
     "output_type": "stream",
     "text": [
      "Epoch [924/1000]: 100%|█████████████████████████████████████████| 351/351 [00:24<00:00, 14.15batch/s, Batch Loss=0.904]\n"
     ]
    },
    {
     "name": "stdout",
     "output_type": "stream",
     "text": [
      "Epoch [924/1000], Training Loss: 1.0496, Accuracy: 0.7017\n"
     ]
    },
    {
     "name": "stderr",
     "output_type": "stream",
     "text": [
      "Epoch [925/1000]: 100%|██████████████████████████████████████████| 351/351 [00:24<00:00, 14.21batch/s, Batch Loss=1.25]\n"
     ]
    },
    {
     "name": "stdout",
     "output_type": "stream",
     "text": [
      "Epoch [925/1000], Training Loss: 1.0433, Accuracy: 0.7031\n"
     ]
    },
    {
     "name": "stderr",
     "output_type": "stream",
     "text": [
      "Epoch [926/1000]: 100%|██████████████████████████████████████████| 351/351 [00:24<00:00, 14.10batch/s, Batch Loss=1.01]\n"
     ]
    },
    {
     "name": "stdout",
     "output_type": "stream",
     "text": [
      "Epoch [926/1000], Training Loss: 1.0431, Accuracy: 0.7042\n"
     ]
    },
    {
     "name": "stderr",
     "output_type": "stream",
     "text": [
      "Epoch [927/1000]: 100%|██████████████████████████████████████████| 351/351 [00:24<00:00, 14.28batch/s, Batch Loss=1.17]\n"
     ]
    },
    {
     "name": "stdout",
     "output_type": "stream",
     "text": [
      "Epoch [927/1000], Training Loss: 1.0451, Accuracy: 0.7037\n"
     ]
    },
    {
     "name": "stderr",
     "output_type": "stream",
     "text": [
      "Epoch [928/1000]: 100%|█████████████████████████████████████████| 351/351 [00:24<00:00, 14.30batch/s, Batch Loss=0.826]\n"
     ]
    },
    {
     "name": "stdout",
     "output_type": "stream",
     "text": [
      "Epoch [928/1000], Training Loss: 1.0386, Accuracy: 0.7050\n"
     ]
    },
    {
     "name": "stderr",
     "output_type": "stream",
     "text": [
      "Epoch [929/1000]: 100%|██████████████████████████████████████████| 351/351 [00:24<00:00, 14.16batch/s, Batch Loss=1.16]\n"
     ]
    },
    {
     "name": "stdout",
     "output_type": "stream",
     "text": [
      "Epoch [929/1000], Training Loss: 1.0424, Accuracy: 0.7050\n"
     ]
    },
    {
     "name": "stderr",
     "output_type": "stream",
     "text": [
      "Epoch [930/1000]: 100%|██████████████████████████████████████████| 351/351 [00:24<00:00, 14.21batch/s, Batch Loss=1.11]\n"
     ]
    },
    {
     "name": "stdout",
     "output_type": "stream",
     "text": [
      "Epoch [930/1000], Training Loss: 1.0441, Accuracy: 0.7060\n"
     ]
    },
    {
     "name": "stderr",
     "output_type": "stream",
     "text": [
      "Epoch [931/1000]: 100%|██████████████████████████████████████████| 351/351 [00:24<00:00, 14.18batch/s, Batch Loss=1.17]\n"
     ]
    },
    {
     "name": "stdout",
     "output_type": "stream",
     "text": [
      "Epoch [931/1000], Training Loss: 1.0477, Accuracy: 0.7022\n"
     ]
    },
    {
     "name": "stderr",
     "output_type": "stream",
     "text": [
      "Epoch [932/1000]: 100%|██████████████████████████████████████████| 351/351 [00:24<00:00, 14.16batch/s, Batch Loss=1.22]\n"
     ]
    },
    {
     "name": "stdout",
     "output_type": "stream",
     "text": [
      "Epoch [932/1000], Training Loss: 1.0431, Accuracy: 0.7037\n"
     ]
    },
    {
     "name": "stderr",
     "output_type": "stream",
     "text": [
      "Epoch [933/1000]: 100%|█████████████████████████████████████████| 351/351 [00:24<00:00, 14.22batch/s, Batch Loss=0.968]\n"
     ]
    },
    {
     "name": "stdout",
     "output_type": "stream",
     "text": [
      "Epoch [933/1000], Training Loss: 1.0429, Accuracy: 0.7042\n"
     ]
    },
    {
     "name": "stderr",
     "output_type": "stream",
     "text": [
      "Epoch [934/1000]: 100%|██████████████████████████████████████████| 351/351 [00:24<00:00, 14.08batch/s, Batch Loss=1.33]\n"
     ]
    },
    {
     "name": "stdout",
     "output_type": "stream",
     "text": [
      "Epoch [934/1000], Training Loss: 1.0487, Accuracy: 0.7043\n"
     ]
    },
    {
     "name": "stderr",
     "output_type": "stream",
     "text": [
      "Epoch [935/1000]: 100%|██████████████████████████████████████████| 351/351 [00:24<00:00, 14.21batch/s, Batch Loss=1.04]\n"
     ]
    },
    {
     "name": "stdout",
     "output_type": "stream",
     "text": [
      "Epoch [935/1000], Training Loss: 1.0477, Accuracy: 0.7043\n"
     ]
    },
    {
     "name": "stderr",
     "output_type": "stream",
     "text": [
      "Epoch [936/1000]: 100%|██████████████████████████████████████████| 351/351 [00:24<00:00, 14.22batch/s, Batch Loss=1.24]\n"
     ]
    },
    {
     "name": "stdout",
     "output_type": "stream",
     "text": [
      "Epoch [936/1000], Training Loss: 1.0483, Accuracy: 0.7054\n"
     ]
    },
    {
     "name": "stderr",
     "output_type": "stream",
     "text": [
      "Epoch [937/1000]: 100%|██████████████████████████████████████████| 351/351 [00:24<00:00, 14.24batch/s, Batch Loss=1.21]\n"
     ]
    },
    {
     "name": "stdout",
     "output_type": "stream",
     "text": [
      "Epoch [937/1000], Training Loss: 1.0384, Accuracy: 0.7045\n"
     ]
    },
    {
     "name": "stderr",
     "output_type": "stream",
     "text": [
      "Epoch [938/1000]: 100%|██████████████████████████████████████████| 351/351 [00:24<00:00, 14.18batch/s, Batch Loss=1.13]\n"
     ]
    },
    {
     "name": "stdout",
     "output_type": "stream",
     "text": [
      "Epoch [938/1000], Training Loss: 1.0442, Accuracy: 0.7062\n"
     ]
    },
    {
     "name": "stderr",
     "output_type": "stream",
     "text": [
      "Epoch [939/1000]: 100%|█████████████████████████████████████████| 351/351 [00:24<00:00, 14.12batch/s, Batch Loss=0.964]\n"
     ]
    },
    {
     "name": "stdout",
     "output_type": "stream",
     "text": [
      "Epoch [939/1000], Training Loss: 1.0381, Accuracy: 0.7052\n"
     ]
    },
    {
     "name": "stderr",
     "output_type": "stream",
     "text": [
      "Epoch [940/1000]: 100%|██████████████████████████████████████████| 351/351 [00:24<00:00, 14.38batch/s, Batch Loss=1.09]\n"
     ]
    },
    {
     "name": "stdout",
     "output_type": "stream",
     "text": [
      "Epoch [940/1000], Training Loss: 1.0339, Accuracy: 0.7072\n"
     ]
    },
    {
     "name": "stderr",
     "output_type": "stream",
     "text": [
      "Epoch [941/1000]: 100%|██████████████████████████████████████████| 351/351 [00:24<00:00, 14.14batch/s, Batch Loss=1.16]\n"
     ]
    },
    {
     "name": "stdout",
     "output_type": "stream",
     "text": [
      "Epoch [941/1000], Training Loss: 1.0447, Accuracy: 0.7040\n"
     ]
    },
    {
     "name": "stderr",
     "output_type": "stream",
     "text": [
      "Epoch [942/1000]: 100%|██████████████████████████████████████████| 351/351 [00:24<00:00, 14.17batch/s, Batch Loss=1.07]\n"
     ]
    },
    {
     "name": "stdout",
     "output_type": "stream",
     "text": [
      "Epoch [942/1000], Training Loss: 1.0393, Accuracy: 0.7032\n"
     ]
    },
    {
     "name": "stderr",
     "output_type": "stream",
     "text": [
      "Epoch [943/1000]: 100%|███████████████████████████████████████████| 351/351 [00:24<00:00, 14.27batch/s, Batch Loss=1.2]\n"
     ]
    },
    {
     "name": "stdout",
     "output_type": "stream",
     "text": [
      "Epoch [943/1000], Training Loss: 1.0466, Accuracy: 0.7035\n"
     ]
    },
    {
     "name": "stderr",
     "output_type": "stream",
     "text": [
      "Epoch [944/1000]: 100%|██████████████████████████████████████████| 351/351 [00:24<00:00, 14.46batch/s, Batch Loss=1.22]\n"
     ]
    },
    {
     "name": "stdout",
     "output_type": "stream",
     "text": [
      "Epoch [944/1000], Training Loss: 1.0448, Accuracy: 0.7056\n"
     ]
    },
    {
     "name": "stderr",
     "output_type": "stream",
     "text": [
      "Epoch [945/1000]: 100%|██████████████████████████████████████████| 351/351 [00:25<00:00, 14.00batch/s, Batch Loss=1.09]\n"
     ]
    },
    {
     "name": "stdout",
     "output_type": "stream",
     "text": [
      "Epoch [945/1000], Training Loss: 1.0470, Accuracy: 0.7046\n"
     ]
    },
    {
     "name": "stderr",
     "output_type": "stream",
     "text": [
      "Epoch [946/1000]: 100%|██████████████████████████████████████████| 351/351 [00:25<00:00, 13.79batch/s, Batch Loss=1.11]\n"
     ]
    },
    {
     "name": "stdout",
     "output_type": "stream",
     "text": [
      "Epoch [946/1000], Training Loss: 1.0338, Accuracy: 0.7074\n"
     ]
    },
    {
     "name": "stderr",
     "output_type": "stream",
     "text": [
      "Epoch [947/1000]: 100%|███████████████████████████████████████████| 351/351 [00:26<00:00, 13.41batch/s, Batch Loss=1.1]\n"
     ]
    },
    {
     "name": "stdout",
     "output_type": "stream",
     "text": [
      "Epoch [947/1000], Training Loss: 1.0382, Accuracy: 0.7058\n"
     ]
    },
    {
     "name": "stderr",
     "output_type": "stream",
     "text": [
      "Epoch [948/1000]: 100%|█████████████████████████████████████████| 351/351 [00:24<00:00, 14.32batch/s, Batch Loss=0.955]\n"
     ]
    },
    {
     "name": "stdout",
     "output_type": "stream",
     "text": [
      "Epoch [948/1000], Training Loss: 1.0375, Accuracy: 0.7062\n"
     ]
    },
    {
     "name": "stderr",
     "output_type": "stream",
     "text": [
      "Epoch [949/1000]: 100%|██████████████████████████████████████████| 351/351 [00:24<00:00, 14.05batch/s, Batch Loss=1.13]\n"
     ]
    },
    {
     "name": "stdout",
     "output_type": "stream",
     "text": [
      "Epoch [949/1000], Training Loss: 1.0390, Accuracy: 0.7056\n"
     ]
    },
    {
     "name": "stderr",
     "output_type": "stream",
     "text": [
      "Epoch [950/1000]: 100%|██████████████████████████████████████████| 351/351 [00:24<00:00, 14.25batch/s, Batch Loss=1.26]\n"
     ]
    },
    {
     "name": "stdout",
     "output_type": "stream",
     "text": [
      "Epoch [950/1000], Training Loss: 1.0394, Accuracy: 0.7062\n",
      "Model saved at 'uet4rec64_ml_model_epoch_950.pth'\n"
     ]
    },
    {
     "name": "stderr",
     "output_type": "stream",
     "text": [
      "Epoch [951/1000]: 100%|█████████████████████████████████████████| 351/351 [00:25<00:00, 13.85batch/s, Batch Loss=0.904]\n"
     ]
    },
    {
     "name": "stdout",
     "output_type": "stream",
     "text": [
      "Epoch [951/1000], Training Loss: 1.0367, Accuracy: 0.7071\n"
     ]
    },
    {
     "name": "stderr",
     "output_type": "stream",
     "text": [
      "Epoch [952/1000]: 100%|███████████████████████████████████████████| 351/351 [00:24<00:00, 14.07batch/s, Batch Loss=1.4]\n"
     ]
    },
    {
     "name": "stdout",
     "output_type": "stream",
     "text": [
      "Epoch [952/1000], Training Loss: 1.0399, Accuracy: 0.7063\n"
     ]
    },
    {
     "name": "stderr",
     "output_type": "stream",
     "text": [
      "Epoch [953/1000]: 100%|█████████████████████████████████████████| 351/351 [00:24<00:00, 14.27batch/s, Batch Loss=0.916]\n"
     ]
    },
    {
     "name": "stdout",
     "output_type": "stream",
     "text": [
      "Epoch [953/1000], Training Loss: 1.0351, Accuracy: 0.7048\n"
     ]
    },
    {
     "name": "stderr",
     "output_type": "stream",
     "text": [
      "Epoch [954/1000]: 100%|██████████████████████████████████████████| 351/351 [00:25<00:00, 13.78batch/s, Batch Loss=1.11]\n"
     ]
    },
    {
     "name": "stdout",
     "output_type": "stream",
     "text": [
      "Epoch [954/1000], Training Loss: 1.0334, Accuracy: 0.7058\n"
     ]
    },
    {
     "name": "stderr",
     "output_type": "stream",
     "text": [
      "Epoch [955/1000]: 100%|██████████████████████████████████████████| 351/351 [00:25<00:00, 13.50batch/s, Batch Loss=1.08]\n"
     ]
    },
    {
     "name": "stdout",
     "output_type": "stream",
     "text": [
      "Epoch [955/1000], Training Loss: 1.0372, Accuracy: 0.7057\n"
     ]
    },
    {
     "name": "stderr",
     "output_type": "stream",
     "text": [
      "Epoch [956/1000]: 100%|██████████████████████████████████████████| 351/351 [00:25<00:00, 13.68batch/s, Batch Loss=1.07]\n"
     ]
    },
    {
     "name": "stdout",
     "output_type": "stream",
     "text": [
      "Epoch [956/1000], Training Loss: 1.0371, Accuracy: 0.7058\n"
     ]
    },
    {
     "name": "stderr",
     "output_type": "stream",
     "text": [
      "Epoch [957/1000]: 100%|██████████████████████████████████████████| 351/351 [00:26<00:00, 13.28batch/s, Batch Loss=1.17]\n"
     ]
    },
    {
     "name": "stdout",
     "output_type": "stream",
     "text": [
      "Epoch [957/1000], Training Loss: 1.0378, Accuracy: 0.7065\n"
     ]
    },
    {
     "name": "stderr",
     "output_type": "stream",
     "text": [
      "Epoch [958/1000]: 100%|██████████████████████████████████████████| 351/351 [00:24<00:00, 14.37batch/s, Batch Loss=1.05]\n"
     ]
    },
    {
     "name": "stdout",
     "output_type": "stream",
     "text": [
      "Epoch [958/1000], Training Loss: 1.0275, Accuracy: 0.7078\n"
     ]
    },
    {
     "name": "stderr",
     "output_type": "stream",
     "text": [
      "Epoch [959/1000]: 100%|█████████████████████████████████████████| 351/351 [00:25<00:00, 13.89batch/s, Batch Loss=0.973]\n"
     ]
    },
    {
     "name": "stdout",
     "output_type": "stream",
     "text": [
      "Epoch [959/1000], Training Loss: 1.0344, Accuracy: 0.7064\n"
     ]
    },
    {
     "name": "stderr",
     "output_type": "stream",
     "text": [
      "Epoch [960/1000]: 100%|██████████████████████████████████████████| 351/351 [00:25<00:00, 14.00batch/s, Batch Loss=1.08]\n"
     ]
    },
    {
     "name": "stdout",
     "output_type": "stream",
     "text": [
      "Epoch [960/1000], Training Loss: 1.0322, Accuracy: 0.7067\n"
     ]
    },
    {
     "name": "stderr",
     "output_type": "stream",
     "text": [
      "Epoch [961/1000]: 100%|███████████████████████████████████████████| 351/351 [00:24<00:00, 14.09batch/s, Batch Loss=1.1]\n"
     ]
    },
    {
     "name": "stdout",
     "output_type": "stream",
     "text": [
      "Epoch [961/1000], Training Loss: 1.0401, Accuracy: 0.7049\n"
     ]
    },
    {
     "name": "stderr",
     "output_type": "stream",
     "text": [
      "Epoch [962/1000]: 100%|█████████████████████████████████████████| 351/351 [00:24<00:00, 14.29batch/s, Batch Loss=0.986]\n"
     ]
    },
    {
     "name": "stdout",
     "output_type": "stream",
     "text": [
      "Epoch [962/1000], Training Loss: 1.0370, Accuracy: 0.7072\n"
     ]
    },
    {
     "name": "stderr",
     "output_type": "stream",
     "text": [
      "Epoch [963/1000]: 100%|██████████████████████████████████████████| 351/351 [00:24<00:00, 14.16batch/s, Batch Loss=1.23]\n"
     ]
    },
    {
     "name": "stdout",
     "output_type": "stream",
     "text": [
      "Epoch [963/1000], Training Loss: 1.0363, Accuracy: 0.7063\n"
     ]
    },
    {
     "name": "stderr",
     "output_type": "stream",
     "text": [
      "Epoch [964/1000]: 100%|█████████████████████████████████████████████| 351/351 [00:25<00:00, 13.94batch/s, Batch Loss=1]\n"
     ]
    },
    {
     "name": "stdout",
     "output_type": "stream",
     "text": [
      "Epoch [964/1000], Training Loss: 1.0292, Accuracy: 0.7084\n"
     ]
    },
    {
     "name": "stderr",
     "output_type": "stream",
     "text": [
      "Epoch [965/1000]: 100%|██████████████████████████████████████████| 351/351 [00:24<00:00, 14.09batch/s, Batch Loss=1.06]\n"
     ]
    },
    {
     "name": "stdout",
     "output_type": "stream",
     "text": [
      "Epoch [965/1000], Training Loss: 1.0299, Accuracy: 0.7066\n"
     ]
    },
    {
     "name": "stderr",
     "output_type": "stream",
     "text": [
      "Epoch [966/1000]: 100%|██████████████████████████████████████████| 351/351 [00:24<00:00, 14.07batch/s, Batch Loss=1.13]\n"
     ]
    },
    {
     "name": "stdout",
     "output_type": "stream",
     "text": [
      "Epoch [966/1000], Training Loss: 1.0322, Accuracy: 0.7071\n"
     ]
    },
    {
     "name": "stderr",
     "output_type": "stream",
     "text": [
      "Epoch [967/1000]: 100%|██████████████████████████████████████████| 351/351 [00:24<00:00, 14.23batch/s, Batch Loss=1.21]\n"
     ]
    },
    {
     "name": "stdout",
     "output_type": "stream",
     "text": [
      "Epoch [967/1000], Training Loss: 1.0377, Accuracy: 0.7066\n"
     ]
    },
    {
     "name": "stderr",
     "output_type": "stream",
     "text": [
      "Epoch [968/1000]: 100%|██████████████████████████████████████████| 351/351 [00:24<00:00, 14.27batch/s, Batch Loss=0.96]\n"
     ]
    },
    {
     "name": "stdout",
     "output_type": "stream",
     "text": [
      "Epoch [968/1000], Training Loss: 1.0316, Accuracy: 0.7075\n"
     ]
    },
    {
     "name": "stderr",
     "output_type": "stream",
     "text": [
      "Epoch [969/1000]: 100%|██████████████████████████████████████████| 351/351 [00:24<00:00, 14.34batch/s, Batch Loss=0.97]\n"
     ]
    },
    {
     "name": "stdout",
     "output_type": "stream",
     "text": [
      "Epoch [969/1000], Training Loss: 1.0243, Accuracy: 0.7089\n"
     ]
    },
    {
     "name": "stderr",
     "output_type": "stream",
     "text": [
      "Epoch [970/1000]: 100%|█████████████████████████████████████████| 351/351 [00:24<00:00, 14.14batch/s, Batch Loss=0.966]\n"
     ]
    },
    {
     "name": "stdout",
     "output_type": "stream",
     "text": [
      "Epoch [970/1000], Training Loss: 1.0306, Accuracy: 0.7071\n"
     ]
    },
    {
     "name": "stderr",
     "output_type": "stream",
     "text": [
      "Epoch [971/1000]: 100%|██████████████████████████████████████████| 351/351 [00:25<00:00, 13.88batch/s, Batch Loss=1.15]\n"
     ]
    },
    {
     "name": "stdout",
     "output_type": "stream",
     "text": [
      "Epoch [971/1000], Training Loss: 1.0399, Accuracy: 0.7037\n"
     ]
    },
    {
     "name": "stderr",
     "output_type": "stream",
     "text": [
      "Epoch [972/1000]: 100%|██████████████████████████████████████████| 351/351 [00:24<00:00, 14.34batch/s, Batch Loss=1.24]\n"
     ]
    },
    {
     "name": "stdout",
     "output_type": "stream",
     "text": [
      "Epoch [972/1000], Training Loss: 1.0282, Accuracy: 0.7085\n"
     ]
    },
    {
     "name": "stderr",
     "output_type": "stream",
     "text": [
      "Epoch [973/1000]: 100%|██████████████████████████████████████████| 351/351 [00:25<00:00, 13.83batch/s, Batch Loss=1.04]\n"
     ]
    },
    {
     "name": "stdout",
     "output_type": "stream",
     "text": [
      "Epoch [973/1000], Training Loss: 1.0335, Accuracy: 0.7063\n"
     ]
    },
    {
     "name": "stderr",
     "output_type": "stream",
     "text": [
      "Epoch [974/1000]: 100%|███████████████████████████████████████████| 351/351 [00:24<00:00, 14.46batch/s, Batch Loss=1.1]\n"
     ]
    },
    {
     "name": "stdout",
     "output_type": "stream",
     "text": [
      "Epoch [974/1000], Training Loss: 1.0317, Accuracy: 0.7085\n"
     ]
    },
    {
     "name": "stderr",
     "output_type": "stream",
     "text": [
      "Epoch [975/1000]: 100%|██████████████████████████████████████████| 351/351 [00:24<00:00, 14.08batch/s, Batch Loss=1.04]\n"
     ]
    },
    {
     "name": "stdout",
     "output_type": "stream",
     "text": [
      "Epoch [975/1000], Training Loss: 1.0337, Accuracy: 0.7058\n"
     ]
    },
    {
     "name": "stderr",
     "output_type": "stream",
     "text": [
      "Epoch [976/1000]: 100%|██████████████████████████████████████████| 351/351 [00:25<00:00, 13.93batch/s, Batch Loss=1.18]\n"
     ]
    },
    {
     "name": "stdout",
     "output_type": "stream",
     "text": [
      "Epoch [976/1000], Training Loss: 1.0269, Accuracy: 0.7095\n"
     ]
    },
    {
     "name": "stderr",
     "output_type": "stream",
     "text": [
      "Epoch [977/1000]: 100%|██████████████████████████████████████████| 351/351 [00:26<00:00, 13.48batch/s, Batch Loss=1.06]\n"
     ]
    },
    {
     "name": "stdout",
     "output_type": "stream",
     "text": [
      "Epoch [977/1000], Training Loss: 1.0317, Accuracy: 0.7069\n"
     ]
    },
    {
     "name": "stderr",
     "output_type": "stream",
     "text": [
      "Epoch [978/1000]: 100%|██████████████████████████████████████████| 351/351 [00:24<00:00, 14.14batch/s, Batch Loss=1.24]\n"
     ]
    },
    {
     "name": "stdout",
     "output_type": "stream",
     "text": [
      "Epoch [978/1000], Training Loss: 1.0262, Accuracy: 0.7089\n"
     ]
    },
    {
     "name": "stderr",
     "output_type": "stream",
     "text": [
      "Epoch [979/1000]: 100%|█████████████████████████████████████████| 351/351 [00:25<00:00, 13.67batch/s, Batch Loss=0.966]\n"
     ]
    },
    {
     "name": "stdout",
     "output_type": "stream",
     "text": [
      "Epoch [979/1000], Training Loss: 1.0332, Accuracy: 0.7075\n"
     ]
    },
    {
     "name": "stderr",
     "output_type": "stream",
     "text": [
      "Epoch [980/1000]: 100%|██████████████████████████████████████████| 351/351 [00:25<00:00, 13.89batch/s, Batch Loss=1.15]\n"
     ]
    },
    {
     "name": "stdout",
     "output_type": "stream",
     "text": [
      "Epoch [980/1000], Training Loss: 1.0329, Accuracy: 0.7063\n"
     ]
    },
    {
     "name": "stderr",
     "output_type": "stream",
     "text": [
      "Epoch [981/1000]: 100%|██████████████████████████████████████████| 351/351 [00:25<00:00, 13.70batch/s, Batch Loss=1.11]\n"
     ]
    },
    {
     "name": "stdout",
     "output_type": "stream",
     "text": [
      "Epoch [981/1000], Training Loss: 1.0310, Accuracy: 0.7086\n"
     ]
    },
    {
     "name": "stderr",
     "output_type": "stream",
     "text": [
      "Epoch [982/1000]: 100%|██████████████████████████████████████████| 351/351 [00:26<00:00, 13.38batch/s, Batch Loss=1.17]\n"
     ]
    },
    {
     "name": "stdout",
     "output_type": "stream",
     "text": [
      "Epoch [982/1000], Training Loss: 1.0313, Accuracy: 0.7074\n"
     ]
    },
    {
     "name": "stderr",
     "output_type": "stream",
     "text": [
      "Epoch [983/1000]: 100%|██████████████████████████████████████████| 351/351 [00:26<00:00, 13.05batch/s, Batch Loss=1.11]\n"
     ]
    },
    {
     "name": "stdout",
     "output_type": "stream",
     "text": [
      "Epoch [983/1000], Training Loss: 1.0290, Accuracy: 0.7088\n"
     ]
    },
    {
     "name": "stderr",
     "output_type": "stream",
     "text": [
      "Epoch [984/1000]: 100%|██████████████████████████████████████████| 351/351 [00:28<00:00, 12.48batch/s, Batch Loss=1.23]\n"
     ]
    },
    {
     "name": "stdout",
     "output_type": "stream",
     "text": [
      "Epoch [984/1000], Training Loss: 1.0327, Accuracy: 0.7066\n"
     ]
    },
    {
     "name": "stderr",
     "output_type": "stream",
     "text": [
      "Epoch [985/1000]: 100%|██████████████████████████████████████████| 351/351 [00:26<00:00, 13.21batch/s, Batch Loss=1.09]\n"
     ]
    },
    {
     "name": "stdout",
     "output_type": "stream",
     "text": [
      "Epoch [985/1000], Training Loss: 1.0258, Accuracy: 0.7069\n"
     ]
    },
    {
     "name": "stderr",
     "output_type": "stream",
     "text": [
      "Epoch [986/1000]: 100%|██████████████████████████████████████████| 351/351 [00:29<00:00, 12.05batch/s, Batch Loss=1.21]\n"
     ]
    },
    {
     "name": "stdout",
     "output_type": "stream",
     "text": [
      "Epoch [986/1000], Training Loss: 1.0314, Accuracy: 0.7083\n"
     ]
    },
    {
     "name": "stderr",
     "output_type": "stream",
     "text": [
      "Epoch [987/1000]: 100%|██████████████████████████████████████████| 351/351 [00:28<00:00, 12.42batch/s, Batch Loss=1.12]\n"
     ]
    },
    {
     "name": "stdout",
     "output_type": "stream",
     "text": [
      "Epoch [987/1000], Training Loss: 1.0233, Accuracy: 0.7096\n"
     ]
    },
    {
     "name": "stderr",
     "output_type": "stream",
     "text": [
      "Epoch [988/1000]: 100%|█████████████████████████████████████████| 351/351 [00:27<00:00, 12.57batch/s, Batch Loss=0.953]\n"
     ]
    },
    {
     "name": "stdout",
     "output_type": "stream",
     "text": [
      "Epoch [988/1000], Training Loss: 1.0264, Accuracy: 0.7077\n"
     ]
    },
    {
     "name": "stderr",
     "output_type": "stream",
     "text": [
      "Epoch [989/1000]: 100%|██████████████████████████████████████████| 351/351 [00:27<00:00, 12.56batch/s, Batch Loss=1.15]\n"
     ]
    },
    {
     "name": "stdout",
     "output_type": "stream",
     "text": [
      "Epoch [989/1000], Training Loss: 1.0297, Accuracy: 0.7091\n"
     ]
    },
    {
     "name": "stderr",
     "output_type": "stream",
     "text": [
      "Epoch [990/1000]: 100%|█████████████████████████████████████████| 351/351 [00:28<00:00, 12.22batch/s, Batch Loss=0.925]\n"
     ]
    },
    {
     "name": "stdout",
     "output_type": "stream",
     "text": [
      "Epoch [990/1000], Training Loss: 1.0217, Accuracy: 0.7095\n"
     ]
    },
    {
     "name": "stderr",
     "output_type": "stream",
     "text": [
      "Epoch [991/1000]: 100%|██████████████████████████████████████████| 351/351 [00:28<00:00, 12.49batch/s, Batch Loss=1.04]\n"
     ]
    },
    {
     "name": "stdout",
     "output_type": "stream",
     "text": [
      "Epoch [991/1000], Training Loss: 1.0216, Accuracy: 0.7107\n"
     ]
    },
    {
     "name": "stderr",
     "output_type": "stream",
     "text": [
      "Epoch [992/1000]: 100%|█████████████████████████████████████████| 351/351 [00:27<00:00, 12.76batch/s, Batch Loss=0.997]\n"
     ]
    },
    {
     "name": "stdout",
     "output_type": "stream",
     "text": [
      "Epoch [992/1000], Training Loss: 1.0269, Accuracy: 0.7094\n"
     ]
    },
    {
     "name": "stderr",
     "output_type": "stream",
     "text": [
      "Epoch [993/1000]: 100%|██████████████████████████████████████████| 351/351 [00:28<00:00, 12.32batch/s, Batch Loss=1.16]\n"
     ]
    },
    {
     "name": "stdout",
     "output_type": "stream",
     "text": [
      "Epoch [993/1000], Training Loss: 1.0263, Accuracy: 0.7074\n"
     ]
    },
    {
     "name": "stderr",
     "output_type": "stream",
     "text": [
      "Epoch [994/1000]: 100%|██████████████████████████████████████████| 351/351 [00:25<00:00, 13.80batch/s, Batch Loss=1.17]\n"
     ]
    },
    {
     "name": "stdout",
     "output_type": "stream",
     "text": [
      "Epoch [994/1000], Training Loss: 1.0189, Accuracy: 0.7106\n"
     ]
    },
    {
     "name": "stderr",
     "output_type": "stream",
     "text": [
      "Epoch [995/1000]: 100%|██████████████████████████████████████████| 351/351 [00:27<00:00, 12.81batch/s, Batch Loss=1.06]\n"
     ]
    },
    {
     "name": "stdout",
     "output_type": "stream",
     "text": [
      "Epoch [995/1000], Training Loss: 1.0255, Accuracy: 0.7094\n"
     ]
    },
    {
     "name": "stderr",
     "output_type": "stream",
     "text": [
      "Epoch [996/1000]: 100%|██████████████████████████████████████████| 351/351 [00:25<00:00, 13.54batch/s, Batch Loss=1.08]\n"
     ]
    },
    {
     "name": "stdout",
     "output_type": "stream",
     "text": [
      "Epoch [996/1000], Training Loss: 1.0244, Accuracy: 0.7077\n"
     ]
    },
    {
     "name": "stderr",
     "output_type": "stream",
     "text": [
      "Epoch [997/1000]: 100%|██████████████████████████████████████████| 351/351 [00:22<00:00, 15.32batch/s, Batch Loss=1.07]\n"
     ]
    },
    {
     "name": "stdout",
     "output_type": "stream",
     "text": [
      "Epoch [997/1000], Training Loss: 1.0249, Accuracy: 0.7100\n"
     ]
    },
    {
     "name": "stderr",
     "output_type": "stream",
     "text": [
      "Epoch [998/1000]: 100%|██████████████████████████████████████████| 351/351 [00:25<00:00, 13.69batch/s, Batch Loss=1.13]\n"
     ]
    },
    {
     "name": "stdout",
     "output_type": "stream",
     "text": [
      "Epoch [998/1000], Training Loss: 1.0253, Accuracy: 0.7090\n"
     ]
    },
    {
     "name": "stderr",
     "output_type": "stream",
     "text": [
      "Epoch [999/1000]: 100%|██████████████████████████████████████████| 351/351 [00:24<00:00, 14.16batch/s, Batch Loss=1.06]\n"
     ]
    },
    {
     "name": "stdout",
     "output_type": "stream",
     "text": [
      "Epoch [999/1000], Training Loss: 1.0262, Accuracy: 0.7104\n"
     ]
    },
    {
     "name": "stderr",
     "output_type": "stream",
     "text": [
      "Epoch [1000/1000]: 100%|████████████████████████████████████████| 351/351 [00:24<00:00, 14.56batch/s, Batch Loss=0.929]"
     ]
    },
    {
     "name": "stdout",
     "output_type": "stream",
     "text": [
      "Epoch [1000/1000], Training Loss: 1.0182, Accuracy: 0.7109\n",
      "Model saved at 'uet4rec64_ml_model_epoch_1000.pth'\n",
      "Final model saved as 'uet4rec64_ml_model_final.pth'\n",
      "Training Completed.\n"
     ]
    },
    {
     "name": "stderr",
     "output_type": "stream",
     "text": [
      "\n"
     ]
    }
   ],
   "source": [
    "import torch\n",
    "import torch.optim as optim\n",
    "from tqdm import tqdm\n",
    "\n",
    "criterion = torch.nn.CrossEntropyLoss()\n",
    "optimizer = optim.Adam(model.parameters(), lr=0.001)\n",
    "\n",
    "num_epochs = 1000\n",
    "save_interval = 50\n",
    "\n",
    "print(\"Starting Training...\")\n",
    "\n",
    "for epoch in range(1, num_epochs + 1):\n",
    "    model.train()\n",
    "    total_loss = 0.0\n",
    "    correct_predictions = 0\n",
    "    total_predictions = 0\n",
    "\n",
    "    with tqdm(train_loader, desc=f\"Epoch [{epoch}/{num_epochs}]\", unit=\"batch\") as progress_bar:\n",
    "        for batch_inputs, batch_targets in progress_bar:\n",
    "            batch_inputs, batch_targets = batch_inputs.to(device), batch_targets.to(device)\n",
    "\n",
    "            optimizer.zero_grad()\n",
    "\n",
    "            outputs = model(batch_inputs)  \n",
    "            loss = criterion(outputs, batch_targets)  \n",
    "\n",
    "            loss.backward()  \n",
    "            optimizer.step()  \n",
    "\n",
    "            total_loss += loss.item()\n",
    "\n",
    "            _, predicted = torch.max(outputs, dim=1)\n",
    "            correct_predictions += (predicted == batch_targets).sum().item()\n",
    "            total_predictions += batch_targets.size(0)\n",
    "\n",
    "            progress_bar.set_postfix({\"Batch Loss\": loss.item()})\n",
    "\n",
    "    avg_loss = total_loss / len(train_loader)\n",
    "    accuracy = correct_predictions / total_predictions\n",
    "\n",
    "    print(f\"Epoch [{epoch}/{num_epochs}], Training Loss: {avg_loss:.4f}, Accuracy: {accuracy:.4f}\")\n",
    "\n",
    "    if epoch % save_interval == 0:\n",
    "        model_save_path = f\"uet4rec64_ml_model_epoch_{epoch}.pth\"\n",
    "        torch.save(model.state_dict(), model_save_path)\n",
    "        print(f\"Model saved at '{model_save_path}'\")\n",
    "\n",
    "final_model_path = \"uet4rec64_ml_model_final.pth\"\n",
    "torch.save(model.state_dict(), final_model_path)\n",
    "print(f\"Final model saved as '{final_model_path}'\")\n",
    "\n",
    "print(\"Training Completed.\")\n"
   ]
  },
  {
   "cell_type": "code",
   "execution_count": 30,
   "id": "e504f0ab-61ae-4c08-bacd-3c238e6ad325",
   "metadata": {},
   "outputs": [],
   "source": [
    "import numpy as np\n",
    "import torch\n",
    "from tqdm import tqdm\n",
    "from sklearn.metrics import ndcg_score\n",
    "\n",
    "\n",
    "model = UET4Rec(\n",
    "    num_items=num_items,\n",
    "    embedding_dim=embedding_dim,\n",
    "    nhead=nhead,\n",
    "    max_len=max_len,\n",
    "    dropout=dropout,\n",
    "    ff_dim=ff_dim\n",
    ")\n",
    "\n"
   ]
  },
  {
   "cell_type": "code",
   "execution_count": 32,
   "id": "b6e7cd30-a37d-4815-8417-cf573933b4fd",
   "metadata": {},
   "outputs": [
    {
     "name": "stdout",
     "output_type": "stream",
     "text": [
      "Model loaded successfully.\n"
     ]
    },
    {
     "name": "stderr",
     "output_type": "stream",
     "text": [
      "C:\\Users\\npavi\\AppData\\Local\\Temp\\ipykernel_13796\\252579999.py:2: FutureWarning: You are using `torch.load` with `weights_only=False` (the current default value), which uses the default pickle module implicitly. It is possible to construct malicious pickle data which will execute arbitrary code during unpickling (See https://github.com/pytorch/pytorch/blob/main/SECURITY.md#untrusted-models for more details). In a future release, the default value for `weights_only` will be flipped to `True`. This limits the functions that could be executed during unpickling. Arbitrary objects will no longer be allowed to be loaded via this mode unless they are explicitly allowlisted by the user via `torch.serialization.add_safe_globals`. We recommend you start setting `weights_only=True` for any use case where you don't have full control of the loaded file. Please open an issue on GitHub for any issues related to this experimental feature.\n",
      "  model.load_state_dict(torch.load(\"uet4rec64_ml_model_final.pth\", map_location=device))\n"
     ]
    }
   ],
   "source": [
    "device = torch.device(\"cuda\" if torch.cuda.is_available() else \"cpu\")\n",
    "model.load_state_dict(torch.load(\"uet4rec64_ml_model_final.pth\", map_location=device)) \n",
    "model.to(device)\n",
    "model.eval() \n",
    "print(\"Model loaded successfully.\")"
   ]
  },
  {
   "cell_type": "code",
   "execution_count": 35,
   "id": "d11ea33c-f38e-4964-aecb-17940f6bc757",
   "metadata": {},
   "outputs": [
    {
     "name": "stderr",
     "output_type": "stream",
     "text": [
      "Evaluating HR & NDCG for multiple k: 100%|█████████████████████████████████████████████| 76/76 [00:08<00:00,  9.04it/s]"
     ]
    },
    {
     "name": "stdout",
     "output_type": "stream",
     "text": [
      "\n",
      "Metrics Summary:\n",
      "HR@5: 0.7277\n",
      "NDCG@5: 0.6979\n",
      "HR@10: 0.7540\n",
      "NDCG@10: 0.7064\n",
      "HR@20: 0.7824\n",
      "NDCG@20: 0.7135\n"
     ]
    },
    {
     "name": "stderr",
     "output_type": "stream",
     "text": [
      "\n"
     ]
    }
   ],
   "source": [
    "\n",
    "\n",
    "\n",
    "def evaluate_hit_ndcg_multi_k(model, test_loader, ks=[5, 10, 20]):\n",
    "    model.eval()\n",
    "    total_hr = {k: 0 for k in ks}\n",
    "    total_ndcg = {k: 0 for k in ks}\n",
    "    total_samples = 0\n",
    "\n",
    "    with torch.no_grad():\n",
    "        for batch_inputs, batch_targets in tqdm(test_loader, desc=\"Evaluating HR & NDCG for multiple k\"):\n",
    "            batch_inputs = batch_inputs.to(device)\n",
    "            batch_targets = batch_targets.to(device)\n",
    "            outputs = model(batch_inputs)  \n",
    "            _, top_k_indices = torch.topk(outputs, k=max(ks), dim=1) \n",
    "\n",
    "            for i in range(batch_targets.size(0)):\n",
    "                target = batch_targets[i].item()\n",
    "                predictions = top_k_indices[i].cpu().numpy()\n",
    "\n",
    "                for k in ks:\n",
    "                    top_k_preds = predictions[:k]\n",
    "\n",
    "                    if target in top_k_preds:\n",
    "                        total_hr[k] += 1\n",
    "\n",
    "                    if target in top_k_preds:\n",
    "                        rank = np.where(top_k_preds == target)[0][0] + 1\n",
    "                        total_ndcg[k] += 1 / np.log2(rank + 1)\n",
    "\n",
    "            total_samples += batch_targets.size(0)\n",
    "\n",
    "    hr = {k: total_hr[k] / total_samples for k in ks}\n",
    "    ndcg = {k: total_ndcg[k] / total_samples for k in ks}\n",
    "\n",
    "    return hr, ndcg\n",
    "\n",
    "k_values = [5, 10, 20]\n",
    "hr, ndcg = evaluate_hit_ndcg_multi_k(model, test_loader, ks=k_values)\n",
    "\n",
    "print(\"\\nMetrics Summary:\")\n",
    "for k in k_values:\n",
    "    print(f\"HR@{k}: {hr[k]:.4f}\")\n",
    "    print(f\"NDCG@{k}: {ndcg[k]:.4f}\")\n"
   ]
  },
  {
   "cell_type": "code",
   "execution_count": null,
   "id": "c19077e7-4c4e-4478-a18b-4d2360de4b6b",
   "metadata": {},
   "outputs": [],
   "source": []
  },
  {
   "cell_type": "code",
   "execution_count": null,
   "id": "be4cf777-b331-4aa6-b233-e416239dd436",
   "metadata": {},
   "outputs": [],
   "source": []
  },
  {
   "cell_type": "code",
   "execution_count": null,
   "id": "420864cb-b4fc-4736-b0cd-ad9d3a902a91",
   "metadata": {},
   "outputs": [],
   "source": []
  },
  {
   "cell_type": "code",
   "execution_count": null,
   "id": "ff83e7d6-112f-4808-92d6-9eddbe49f27b",
   "metadata": {},
   "outputs": [],
   "source": []
  },
  {
   "cell_type": "code",
   "execution_count": null,
   "id": "31a87c36-e9ab-4781-b348-36571874cf29",
   "metadata": {},
   "outputs": [],
   "source": []
  },
  {
   "cell_type": "code",
   "execution_count": null,
   "id": "b7c83458-4f71-41f8-83c8-afc438983294",
   "metadata": {},
   "outputs": [],
   "source": []
  },
  {
   "cell_type": "code",
   "execution_count": null,
   "id": "a5d90e82-56f9-43a6-9287-50e297d5e21b",
   "metadata": {},
   "outputs": [],
   "source": []
  },
  {
   "cell_type": "code",
   "execution_count": null,
   "id": "b2c0a31d-c4c8-4917-9dc7-a944cf7517f9",
   "metadata": {},
   "outputs": [],
   "source": []
  }
 ],
 "metadata": {
  "kernelspec": {
   "display_name": "Python 3 (ipykernel)",
   "language": "python",
   "name": "python3"
  },
  "language_info": {
   "codemirror_mode": {
    "name": "ipython",
    "version": 3
   },
   "file_extension": ".py",
   "mimetype": "text/x-python",
   "name": "python",
   "nbconvert_exporter": "python",
   "pygments_lexer": "ipython3",
   "version": "3.12.4"
  }
 },
 "nbformat": 4,
 "nbformat_minor": 5
}
