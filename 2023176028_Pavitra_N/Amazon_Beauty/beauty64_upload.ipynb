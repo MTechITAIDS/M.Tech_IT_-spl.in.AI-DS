{
 "cells": [
  {
   "cell_type": "code",
   "execution_count": null,
   "metadata": {
    "id": "69JjOIhUm8PV"
   },
   "outputs": [],
   "source": []
  },
  {
   "cell_type": "code",
   "execution_count": 1,
   "metadata": {
    "id": "jWxHPC4Wm8PV"
   },
   "outputs": [],
   "source": [
    "import pandas as pd\n",
    "import numpy as np\n",
    "from sklearn.preprocessing import LabelEncoder\n",
    "import torch\n",
    "from torch.utils.data import TensorDataset, DataLoader\n",
    "from torch.nn.utils.rnn import pad_sequence"
   ]
  },
  {
   "cell_type": "code",
   "execution_count": 2,
   "metadata": {
    "id": "T0PXUhLhm8PW",
    "outputId": "a8fc599b-b233-44e8-e305-78ca0a2a546a"
   },
   "outputs": [
    {
     "data": {
      "text/html": [
       "<div>\n",
       "<style scoped>\n",
       "    .dataframe tbody tr th:only-of-type {\n",
       "        vertical-align: middle;\n",
       "    }\n",
       "\n",
       "    .dataframe tbody tr th {\n",
       "        vertical-align: top;\n",
       "    }\n",
       "\n",
       "    .dataframe thead th {\n",
       "        text-align: right;\n",
       "    }\n",
       "</style>\n",
       "<table border=\"1\" class=\"dataframe\">\n",
       "  <thead>\n",
       "    <tr style=\"text-align: right;\">\n",
       "      <th></th>\n",
       "      <th>UserId</th>\n",
       "      <th>ProductId</th>\n",
       "      <th>ProductType</th>\n",
       "      <th>Rating</th>\n",
       "      <th>Timestamp</th>\n",
       "      <th>URL</th>\n",
       "    </tr>\n",
       "  </thead>\n",
       "  <tbody>\n",
       "    <tr>\n",
       "      <th>0</th>\n",
       "      <td>A3NHUQ33CFH3VM</td>\n",
       "      <td>B00LLPT4HI</td>\n",
       "      <td>Eyeliner &amp; Kajal</td>\n",
       "      <td>5</td>\n",
       "      <td>1405814400</td>\n",
       "      <td>https://www.amazon.in/Maybelline-Colossal-Kaja...</td>\n",
       "    </tr>\n",
       "    <tr>\n",
       "      <th>1</th>\n",
       "      <td>A1TIRNQ7O4REOH</td>\n",
       "      <td>B00LLPT4HI</td>\n",
       "      <td>Eyeliner &amp; Kajal</td>\n",
       "      <td>4</td>\n",
       "      <td>1405987200</td>\n",
       "      <td>https://www.amazon.in/Maybelline-Colossal-Kaja...</td>\n",
       "    </tr>\n",
       "    <tr>\n",
       "      <th>2</th>\n",
       "      <td>A2Y36BR4YSY9F7</td>\n",
       "      <td>B00LLPT4HI</td>\n",
       "      <td>Eyeliner &amp; Kajal</td>\n",
       "      <td>5</td>\n",
       "      <td>1405728000</td>\n",
       "      <td>https://www.amazon.in/Maybelline-Colossal-Kaja...</td>\n",
       "    </tr>\n",
       "    <tr>\n",
       "      <th>3</th>\n",
       "      <td>A23H6FAOLEMAKC</td>\n",
       "      <td>B00LLPT4HI</td>\n",
       "      <td>Eyeliner &amp; Kajal</td>\n",
       "      <td>5</td>\n",
       "      <td>1405814400</td>\n",
       "      <td>https://www.amazon.in/Maybelline-Colossal-Kaja...</td>\n",
       "    </tr>\n",
       "    <tr>\n",
       "      <th>4</th>\n",
       "      <td>A3CHYZGF3OO6WD</td>\n",
       "      <td>B00LLPT4HI</td>\n",
       "      <td>Eyeliner &amp; Kajal</td>\n",
       "      <td>5</td>\n",
       "      <td>1405641600</td>\n",
       "      <td>https://www.amazon.in/Maybelline-Colossal-Kaja...</td>\n",
       "    </tr>\n",
       "  </tbody>\n",
       "</table>\n",
       "</div>"
      ],
      "text/plain": [
       "           UserId   ProductId       ProductType  Rating   Timestamp  \\\n",
       "0  A3NHUQ33CFH3VM  B00LLPT4HI  Eyeliner & Kajal       5  1405814400   \n",
       "1  A1TIRNQ7O4REOH  B00LLPT4HI  Eyeliner & Kajal       4  1405987200   \n",
       "2  A2Y36BR4YSY9F7  B00LLPT4HI  Eyeliner & Kajal       5  1405728000   \n",
       "3  A23H6FAOLEMAKC  B00LLPT4HI  Eyeliner & Kajal       5  1405814400   \n",
       "4  A3CHYZGF3OO6WD  B00LLPT4HI  Eyeliner & Kajal       5  1405641600   \n",
       "\n",
       "                                                 URL  \n",
       "0  https://www.amazon.in/Maybelline-Colossal-Kaja...  \n",
       "1  https://www.amazon.in/Maybelline-Colossal-Kaja...  \n",
       "2  https://www.amazon.in/Maybelline-Colossal-Kaja...  \n",
       "3  https://www.amazon.in/Maybelline-Colossal-Kaja...  \n",
       "4  https://www.amazon.in/Maybelline-Colossal-Kaja...  "
      ]
     },
     "execution_count": 2,
     "metadata": {},
     "output_type": "execute_result"
    }
   ],
   "source": [
    "df = pd.read_csv('Amazon_Beauty_Recommendation.csv')\n",
    "df.head()"
   ]
  },
  {
   "cell_type": "code",
   "execution_count": 3,
   "metadata": {
    "id": "js_xJBihm8PW",
    "outputId": "ca78c108-821f-4a57-c93d-0eb22618dfca"
   },
   "outputs": [
    {
     "name": "stdout",
     "output_type": "stream",
     "text": [
      "           UserId   ProductId   Timestamp\n",
      "0  A3NHUQ33CFH3VM  B00LLPT4HI  1405814400\n",
      "1  A1TIRNQ7O4REOH  B00LLPT4HI  1405987200\n",
      "2  A2Y36BR4YSY9F7  B00LLPT4HI  1405728000\n",
      "3  A23H6FAOLEMAKC  B00LLPT4HI  1405814400\n",
      "4  A3CHYZGF3OO6WD  B00LLPT4HI  1405641600\n"
     ]
    }
   ],
   "source": [
    "print(df[['UserId', 'ProductId', 'Timestamp']].head())"
   ]
  },
  {
   "cell_type": "code",
   "execution_count": 4,
   "metadata": {
    "id": "-0PnpBpmm8PX",
    "outputId": "4f8d0376-c782-407c-a3c7-0fe4e171ddc4"
   },
   "outputs": [
    {
     "name": "stdout",
     "output_type": "stream",
     "text": [
      "           UserId   ProductId  Timestamp\n",
      "0  A3NHUQ33CFH3VM  B00LLPT4HI 2014-07-20\n",
      "1  A1TIRNQ7O4REOH  B00LLPT4HI 2014-07-22\n",
      "2  A2Y36BR4YSY9F7  B00LLPT4HI 2014-07-19\n",
      "3  A23H6FAOLEMAKC  B00LLPT4HI 2014-07-20\n",
      "4  A3CHYZGF3OO6WD  B00LLPT4HI 2014-07-18\n",
      "(1348246, 6)\n"
     ]
    }
   ],
   "source": [
    "df['Timestamp'] = pd.to_datetime(df['Timestamp'], unit='s')\n",
    "print(df[['UserId', 'ProductId', 'Timestamp']].head())\n",
    "print(df.shape)"
   ]
  },
  {
   "cell_type": "code",
   "execution_count": 5,
   "metadata": {
    "id": "_mwJdMGam8PX",
    "outputId": "e4aafd78-45c1-433e-8f9e-cec6099a8504"
   },
   "outputs": [
    {
     "name": "stdout",
     "output_type": "stream",
     "text": [
      "Data after filtering: (243601, 6)\n"
     ]
    }
   ],
   "source": [
    "user_counts = df['UserId'].value_counts()\n",
    "filtered_users = user_counts[user_counts >= 5].index\n",
    "df = df[df['UserId'].isin(filtered_users)]\n",
    "print(f\"Data after filtering: {df.shape}\")"
   ]
  },
  {
   "cell_type": "code",
   "execution_count": 6,
   "metadata": {
    "id": "2VhiKsVnm8PX",
    "outputId": "0b505da7-5edc-40e2-d199-05b4ab821f61"
   },
   "outputs": [
    {
     "name": "stdout",
     "output_type": "stream",
     "text": [
      "Data after filtering: (219119, 6)\n"
     ]
    }
   ],
   "source": [
    "item_counts = df['ProductId'].value_counts()\n",
    "filtered_items = item_counts[item_counts >= 5].index\n",
    "df = df[df['ProductId'].isin(filtered_items)]\n",
    "\n",
    "print(f\"Data after filtering: {df.shape}\")"
   ]
  },
  {
   "cell_type": "code",
   "execution_count": 7,
   "metadata": {
    "id": "JxO35BRAm8PY",
    "outputId": "02f239c4-2ed5-459d-9d25-ddfde5793ec2"
   },
   "outputs": [
    {
     "data": {
      "text/plain": [
       "28035"
      ]
     },
     "execution_count": 7,
     "metadata": {},
     "output_type": "execute_result"
    }
   ],
   "source": [
    "user_encoder = LabelEncoder()\n",
    "df['UserId'] = user_encoder.fit_transform(df['UserId'])+1\n",
    "df['UserId'].max()"
   ]
  },
  {
   "cell_type": "code",
   "execution_count": 8,
   "metadata": {
    "id": "LpNcW3jMm8PY",
    "outputId": "55d712bd-87ee-45e3-81ff-70acc1870174"
   },
   "outputs": [
    {
     "data": {
      "text/plain": [
       "12704"
      ]
     },
     "execution_count": 8,
     "metadata": {},
     "output_type": "execute_result"
    }
   ],
   "source": [
    "item_encoder = LabelEncoder()\n",
    "df['ProductId'] = item_encoder.fit_transform(df['ProductId']) + 1\n",
    "df['ProductId'].max()"
   ]
  },
  {
   "cell_type": "code",
   "execution_count": 9,
   "metadata": {
    "id": "tG3ZgeDkm8PY",
    "outputId": "d88dbc82-2a92-4df7-d36a-9ddc54f669e8"
   },
   "outputs": [
    {
     "name": "stdout",
     "output_type": "stream",
     "text": [
      "Total number of items including padding index: 12705\n"
     ]
    }
   ],
   "source": [
    "num_items = df['ProductId'].max() + 1\n",
    "print(f\"Total number of items including padding index: {num_items}\")"
   ]
  },
  {
   "cell_type": "code",
   "execution_count": 10,
   "metadata": {
    "id": "r56e8RUEm8PY",
    "outputId": "f741c522-4f48-46a8-d5c6-a9ae7a67cf6f"
   },
   "outputs": [
    {
     "data": {
      "text/html": [
       "<div>\n",
       "<style scoped>\n",
       "    .dataframe tbody tr th:only-of-type {\n",
       "        vertical-align: middle;\n",
       "    }\n",
       "\n",
       "    .dataframe tbody tr th {\n",
       "        vertical-align: top;\n",
       "    }\n",
       "\n",
       "    .dataframe thead th {\n",
       "        text-align: right;\n",
       "    }\n",
       "</style>\n",
       "<table border=\"1\" class=\"dataframe\">\n",
       "  <thead>\n",
       "    <tr style=\"text-align: right;\">\n",
       "      <th></th>\n",
       "      <th>UserId</th>\n",
       "      <th>ProductId</th>\n",
       "      <th>ProductType</th>\n",
       "      <th>Rating</th>\n",
       "      <th>Timestamp</th>\n",
       "      <th>URL</th>\n",
       "    </tr>\n",
       "  </thead>\n",
       "  <tbody>\n",
       "    <tr>\n",
       "      <th>0</th>\n",
       "      <td>1</td>\n",
       "      <td>12520</td>\n",
       "      <td>Shaving Foam &amp; Gels</td>\n",
       "      <td>5</td>\n",
       "      <td>2014-07-14</td>\n",
       "      <td>https://www.amazon.in/gp/slredirect/picassoRed...</td>\n",
       "    </tr>\n",
       "    <tr>\n",
       "      <th>1</th>\n",
       "      <td>1</td>\n",
       "      <td>12421</td>\n",
       "      <td>Trimmers &amp; Clippers</td>\n",
       "      <td>5</td>\n",
       "      <td>2014-07-14</td>\n",
       "      <td>https://www.amazon.in/Philips-BT3215-Cordless-...</td>\n",
       "    </tr>\n",
       "    <tr>\n",
       "      <th>2</th>\n",
       "      <td>1</td>\n",
       "      <td>11836</td>\n",
       "      <td>Kits &amp; Accessories</td>\n",
       "      <td>3</td>\n",
       "      <td>2014-07-14</td>\n",
       "      <td>https://www.amazon.in/SUGAR-POP-Exclusive-Esse...</td>\n",
       "    </tr>\n",
       "    <tr>\n",
       "      <th>3</th>\n",
       "      <td>1</td>\n",
       "      <td>10802</td>\n",
       "      <td>Conditioner</td>\n",
       "      <td>1</td>\n",
       "      <td>2014-07-14</td>\n",
       "      <td>https://www.amazon.in/Garnier-Fructis-Strong-S...</td>\n",
       "    </tr>\n",
       "    <tr>\n",
       "      <th>4</th>\n",
       "      <td>1</td>\n",
       "      <td>10565</td>\n",
       "      <td>Conditioner</td>\n",
       "      <td>2</td>\n",
       "      <td>2014-07-14</td>\n",
       "      <td>https://www.amazon.in/LOreal-Paris-RESIST-Cond...</td>\n",
       "    </tr>\n",
       "  </tbody>\n",
       "</table>\n",
       "</div>"
      ],
      "text/plain": [
       "   UserId  ProductId          ProductType  Rating  Timestamp  \\\n",
       "0       1      12520  Shaving Foam & Gels       5 2014-07-14   \n",
       "1       1      12421  Trimmers & Clippers       5 2014-07-14   \n",
       "2       1      11836   Kits & Accessories       3 2014-07-14   \n",
       "3       1      10802          Conditioner       1 2014-07-14   \n",
       "4       1      10565          Conditioner       2 2014-07-14   \n",
       "\n",
       "                                                 URL  \n",
       "0  https://www.amazon.in/gp/slredirect/picassoRed...  \n",
       "1  https://www.amazon.in/Philips-BT3215-Cordless-...  \n",
       "2  https://www.amazon.in/SUGAR-POP-Exclusive-Esse...  \n",
       "3  https://www.amazon.in/Garnier-Fructis-Strong-S...  \n",
       "4  https://www.amazon.in/LOreal-Paris-RESIST-Cond...  "
      ]
     },
     "execution_count": 10,
     "metadata": {},
     "output_type": "execute_result"
    }
   ],
   "source": [
    "df = df.sort_values(['UserId', 'Timestamp']).reset_index(drop=True)\n",
    "df.head()"
   ]
  },
  {
   "cell_type": "code",
   "execution_count": 11,
   "metadata": {
    "id": "HMNeH64Tm8PY",
    "outputId": "02dc1969-bf11-4693-bdc1-ab88376855d2"
   },
   "outputs": [
    {
     "name": "stdout",
     "output_type": "stream",
     "text": [
      "[list([12520, 12421, 11836, 10802, 10565, 10186])\n",
      " list([3694, 9806, 5040, 4580, 11636, 55])\n",
      " list([6985, 4850, 4661, 9396, 6227, 492, 10974, 10137])\n",
      " list([10861, 9692, 9564, 9397, 10880, 10498, 3890])\n",
      " list([9662, 11043, 10892, 9089, 8810, 5610, 10951, 9564])]\n",
      "28035\n"
     ]
    }
   ],
   "source": [
    "user_sequences = df.groupby('UserId')['ProductId'].apply(list).values\n",
    "print(user_sequences[:5])\n",
    "print(len(user_sequences))"
   ]
  },
  {
   "cell_type": "code",
   "execution_count": 12,
   "metadata": {
    "id": "fIpRQwp0m8PY",
    "outputId": "1548e0b4-af25-4ebe-e3d7-c09121ca8cf4"
   },
   "outputs": [
    {
     "name": "stdout",
     "output_type": "stream",
     "text": [
      "No ProductId entry has been assigned the value 0.\n"
     ]
    }
   ],
   "source": [
    "if (df['ProductId'] == 0).any():\n",
    "    print(\"The encoder assigned 0 as a value for some ProductId entries.\")\n",
    "else:\n",
    "    print(\"No ProductId entry has been assigned the value 0.\")\n"
   ]
  },
  {
   "cell_type": "code",
   "execution_count": 13,
   "metadata": {
    "id": "EOd9-2vCm8PY"
   },
   "outputs": [],
   "source": [
    "def generate_sequences(sequence, window_size=10):\n",
    "    if len(sequence) < window_size:\n",
    "        sequence = [0] * (window_size - len(sequence)) + sequence\n",
    "    return [sequence[i:i + window_size] for i in range(len(sequence) - window_size + 1)]"
   ]
  },
  {
   "cell_type": "code",
   "execution_count": 14,
   "metadata": {
    "id": "_uvjbwR1m8PZ",
    "outputId": "92c8a2ad-e89e-4fe9-b118-250c3c948126"
   },
   "outputs": [
    {
     "name": "stdout",
     "output_type": "stream",
     "text": [
      "67761\n"
     ]
    }
   ],
   "source": [
    "all_sequences = []\n",
    "for seq in user_sequences:\n",
    "    all_sequences.extend(generate_sequences(seq))\n",
    "print(len(all_sequences))"
   ]
  },
  {
   "cell_type": "code",
   "execution_count": 15,
   "metadata": {
    "id": "ErNPibIQm8PZ",
    "outputId": "6b6a9ab3-d490-4e05-c860-500fa238e2a4"
   },
   "outputs": [
    {
     "name": "stdout",
     "output_type": "stream",
     "text": [
      "[[0, 0, 0, 0, 12520, 12421, 11836, 10802, 10565, 10186], [0, 0, 0, 0, 3694, 9806, 5040, 4580, 11636, 55], [0, 0, 6985, 4850, 4661, 9396, 6227, 492, 10974, 10137], [0, 0, 0, 10861, 9692, 9564, 9397, 10880, 10498, 3890], [0, 0, 9662, 11043, 10892, 9089, 8810, 5610, 10951, 9564], [0, 0, 0, 0, 0, 6643, 5649, 4783, 1095, 856], [10610, 4019, 4338, 9407, 8525, 8762, 6598, 3044, 9937, 5122], [4019, 4338, 9407, 8525, 8762, 6598, 3044, 9937, 5122, 9928], [4338, 9407, 8525, 8762, 6598, 3044, 9937, 5122, 9928, 8149], [0, 0, 0, 0, 0, 0, 11348, 11082, 11597, 11803], [0, 0, 0, 0, 11614, 10582, 10498, 10363, 10323, 7219], [0, 0, 0, 5906, 496, 4734, 2710, 4183, 3283, 3438], [0, 0, 0, 0, 652, 1347, 1046, 8589, 8108, 3266], [7817, 8269, 4328, 3350, 10986, 10303, 8594, 7245, 4337, 4336], [8269, 4328, 3350, 10986, 10303, 8594, 7245, 4337, 4336, 5958], [4328, 3350, 10986, 10303, 8594, 7245, 4337, 4336, 5958, 9353], [3350, 10986, 10303, 8594, 7245, 4337, 4336, 5958, 9353, 11083], [10986, 10303, 8594, 7245, 4337, 4336, 5958, 9353, 11083, 10766], [10303, 8594, 7245, 4337, 4336, 5958, 9353, 11083, 10766, 9358], [8594, 7245, 4337, 4336, 5958, 9353, 11083, 10766, 9358, 9210]]\n"
     ]
    }
   ],
   "source": [
    "print(all_sequences[:20])"
   ]
  },
  {
   "cell_type": "code",
   "execution_count": 16,
   "metadata": {
    "id": "QjtC0tlWm8PZ"
   },
   "outputs": [],
   "source": [
    "all_sequences = torch.tensor(all_sequences, dtype=torch.long)\n",
    "inputs = all_sequences[:, :-1]\n",
    "targets = all_sequences[:, -1]"
   ]
  },
  {
   "cell_type": "code",
   "execution_count": 17,
   "metadata": {
    "id": "nVkg28-hm8PZ",
    "outputId": "c829a40f-1c5b-4b9d-a050-486d558e934f"
   },
   "outputs": [
    {
     "name": "stdout",
     "output_type": "stream",
     "text": [
      "tensor([[    0,     0,     0,  ..., 11836, 10802, 10565],\n",
      "        [    0,     0,     0,  ...,  5040,  4580, 11636],\n",
      "        [    0,     0,  6985,  ...,  6227,   492, 10974],\n",
      "        ...,\n",
      "        [ 6122,  5562,  5362,  ...,  9933,  8364,  6481],\n",
      "        [    0,     0,     0,  ..., 11713, 10830,  7269],\n",
      "        [    0,     0,     0,  ...,  9392,  9265,  7728]])\n"
     ]
    }
   ],
   "source": [
    "print(inputs)\n"
   ]
  },
  {
   "cell_type": "code",
   "execution_count": 18,
   "metadata": {
    "id": "j30_sqkVm8PZ",
    "outputId": "fa1416aa-6d6b-4a15-89a1-40df7d3eed46"
   },
   "outputs": [
    {
     "name": "stdout",
     "output_type": "stream",
     "text": [
      "tensor([[    0,     0,     0,     0, 12520, 12421, 11836, 10802, 10565],\n",
      "        [    0,     0,     0,     0,  3694,  9806,  5040,  4580, 11636],\n",
      "        [    0,     0,  6985,  4850,  4661,  9396,  6227,   492, 10974],\n",
      "        [    0,     0,     0, 10861,  9692,  9564,  9397, 10880, 10498],\n",
      "        [    0,     0,  9662, 11043, 10892,  9089,  8810,  5610, 10951],\n",
      "        [    0,     0,     0,     0,     0,  6643,  5649,  4783,  1095],\n",
      "        [10610,  4019,  4338,  9407,  8525,  8762,  6598,  3044,  9937],\n",
      "        [ 4019,  4338,  9407,  8525,  8762,  6598,  3044,  9937,  5122],\n",
      "        [ 4338,  9407,  8525,  8762,  6598,  3044,  9937,  5122,  9928],\n",
      "        [    0,     0,     0,     0,     0,     0, 11348, 11082, 11597],\n",
      "        [    0,     0,     0,     0, 11614, 10582, 10498, 10363, 10323],\n",
      "        [    0,     0,     0,  5906,   496,  4734,  2710,  4183,  3283],\n",
      "        [    0,     0,     0,     0,   652,  1347,  1046,  8589,  8108],\n",
      "        [ 7817,  8269,  4328,  3350, 10986, 10303,  8594,  7245,  4337],\n",
      "        [ 8269,  4328,  3350, 10986, 10303,  8594,  7245,  4337,  4336],\n",
      "        [ 4328,  3350, 10986, 10303,  8594,  7245,  4337,  4336,  5958],\n",
      "        [ 3350, 10986, 10303,  8594,  7245,  4337,  4336,  5958,  9353],\n",
      "        [10986, 10303,  8594,  7245,  4337,  4336,  5958,  9353, 11083],\n",
      "        [10303,  8594,  7245,  4337,  4336,  5958,  9353, 11083, 10766],\n",
      "        [ 8594,  7245,  4337,  4336,  5958,  9353, 11083, 10766,  9358]])\n"
     ]
    }
   ],
   "source": [
    "print(inputs[:20])"
   ]
  },
  {
   "cell_type": "code",
   "execution_count": 19,
   "metadata": {
    "id": "s3vdDU7rm8PZ",
    "outputId": "c3002394-6bb4-4a65-f215-5713ae203529"
   },
   "outputs": [
    {
     "name": "stdout",
     "output_type": "stream",
     "text": [
      "tensor([10186,    55, 10137,  ...,  2814,  7351,  2347])\n"
     ]
    }
   ],
   "source": [
    "print(targets)\n"
   ]
  },
  {
   "cell_type": "code",
   "execution_count": 20,
   "metadata": {
    "id": "KFM3s_j5m8PZ",
    "outputId": "ac33b7e8-1880-4e7f-a63b-03a3f54ebdec"
   },
   "outputs": [
    {
     "name": "stdout",
     "output_type": "stream",
     "text": [
      "Inputs shape: torch.Size([67761, 9]), Targets shape: torch.Size([67761])\n"
     ]
    }
   ],
   "source": [
    "print(f'Inputs shape: {inputs.shape}, Targets shape: {targets.shape}')"
   ]
  },
  {
   "cell_type": "code",
   "execution_count": 21,
   "metadata": {
    "id": "-hJYfvVMm8PZ",
    "outputId": "434af83a-8202-4ef8-c3b2-12a7b05be9c9"
   },
   "outputs": [
    {
     "name": "stdout",
     "output_type": "stream",
     "text": [
      "Train size: 47432\n",
      "Validation size: 10164\n",
      "Test size: 10165\n"
     ]
    }
   ],
   "source": [
    "import torch\n",
    "from torch.utils.data import TensorDataset, DataLoader, random_split\n",
    "\n",
    "\n",
    "dataset = TensorDataset(inputs, targets)\n",
    "\n",
    "total_size = len(dataset)\n",
    "train_size = int(0.7 * total_size)\n",
    "val_size = int(0.15 * total_size)\n",
    "test_size = total_size - train_size - val_size\n",
    "\n",
    "train_dataset, val_dataset, test_dataset = random_split(dataset, [train_size, val_size, test_size])\n",
    "\n",
    "train_loader = DataLoader(train_dataset, batch_size=32, shuffle=True)\n",
    "val_loader = DataLoader(val_dataset, batch_size=32, shuffle=False)\n",
    "test_loader = DataLoader(test_dataset, batch_size=32, shuffle=False)\n",
    "\n",
    "print(f\"Train size: {len(train_loader.dataset)}\")\n",
    "print(f\"Validation size: {len(val_loader.dataset)}\")\n",
    "print(f\"Test size: {len(test_loader.dataset)}\")\n"
   ]
  },
  {
   "cell_type": "code",
   "execution_count": 22,
   "metadata": {
    "id": "tcu-cuSBm8PZ",
    "outputId": "d10e9f5d-39fd-49f3-8d79-afa8f042330a"
   },
   "outputs": [
    {
     "name": "stdout",
     "output_type": "stream",
     "text": [
      "Batch Inputs: torch.Size([32, 9]), Batch Targets: torch.Size([32])\n"
     ]
    }
   ],
   "source": [
    "for batch_inputs, batch_targets in train_loader:\n",
    "    print(f'Batch Inputs: {batch_inputs.shape}, Batch Targets: {batch_targets.shape}')\n",
    "    break"
   ]
  },
  {
   "cell_type": "code",
   "execution_count": 25,
   "metadata": {
    "id": "6mMNcqcDm8PZ"
   },
   "outputs": [],
   "source": [
    "import torch\n",
    "import torch.nn as nn\n",
    "import torch.nn.functional as F\n",
    "\n",
    "class MultiHeadSelfAttention(nn.Module):\n",
    "    def __init__(self, embedding_dim, num_heads, dropout=0.1):\n",
    "        super(MultiHeadSelfAttention, self).__init__()\n",
    "        self.num_heads = num_heads\n",
    "        self.head_dim = embedding_dim // num_heads\n",
    "\n",
    "        assert embedding_dim % num_heads == 0, \"Embedding dimension must be divisible by number of heads\"\n",
    "\n",
    "        self.query = nn.Linear(embedding_dim, embedding_dim)\n",
    "        self.key = nn.Linear(embedding_dim, embedding_dim)\n",
    "        self.value = nn.Linear(embedding_dim, embedding_dim)\n",
    "\n",
    "        self.out = nn.Linear(embedding_dim, embedding_dim)\n",
    "        self.dropout = nn.Dropout(dropout)\n",
    "\n",
    "    def forward(self, x):\n",
    "        B, N, E = x.size()\n",
    "\n",
    "        Q = self.query(x).view(B, N, self.num_heads, self.head_dim).transpose(1, 2)\n",
    "        K = self.key(x).view(B, N, self.num_heads, self.head_dim).transpose(1, 2)\n",
    "        V = self.value(x).view(B, N, self.num_heads, self.head_dim).transpose(1, 2)\n",
    "\n",
    "        scores = torch.matmul(Q, K.transpose(-2, -1)) / (self.head_dim ** 0.5)\n",
    "        attn = F.softmax(scores, dim=-1)\n",
    "        attn = self.dropout(attn)\n",
    "\n",
    "        output = torch.matmul(attn, V)\n",
    "        output = output.transpose(1, 2).contiguous().view(B, N, E)\n",
    "\n",
    "        return self.out(output)\n",
    "\n",
    "class PointWiseFeedForward(nn.Module):\n",
    "    def __init__(self, embedding_dim, ff_dim, dropout=0.1):\n",
    "        super(PointWiseFeedForward, self).__init__()\n",
    "        self.linear1 = nn.Linear(embedding_dim, ff_dim)\n",
    "        self.dropout = nn.Dropout(dropout)\n",
    "        self.linear2 = nn.Linear(ff_dim, embedding_dim)\n",
    "\n",
    "    def forward(self, x):\n",
    "        x = self.dropout(F.relu(self.linear1(x)))\n",
    "        return self.linear2(x)\n",
    "\n",
    "class CustomTransformerEncoderLayer(nn.Module):\n",
    "    def __init__(self, embedding_dim, num_heads, ff_dim, dropout=0.1):\n",
    "        super(CustomTransformerEncoderLayer, self).__init__()\n",
    "        self.msa = MultiHeadSelfAttention(embedding_dim, num_heads, dropout)\n",
    "        self.ffn = PointWiseFeedForward(embedding_dim, ff_dim, dropout)\n",
    "\n",
    "        self.norm1 = nn.LayerNorm(embedding_dim)\n",
    "        self.norm2 = nn.LayerNorm(embedding_dim)\n",
    "        self.dropout = nn.Dropout(dropout)\n",
    "\n",
    "    def forward(self, x):\n",
    "        x = x + self.dropout(self.msa(self.norm1(x)))\n",
    "\n",
    "        x = x + self.dropout(self.ffn(self.norm2(x)))\n",
    "\n",
    "        return x\n",
    "\n",
    "class UET4Rec(nn.Module):\n",
    "    def __init__(self, num_items, embedding_dim=64, nhead=4, max_len=50, dropout=0.2, ff_dim=256):\n",
    "        super(UET4Rec, self).__init__()\n",
    "\n",
    "        self.item_embedding = nn.Embedding(num_items, embedding_dim, padding_idx=0)\n",
    "\n",
    "        self.position_embedding = nn.Embedding(max_len, embedding_dim)\n",
    "\n",
    "        self.encoder1 = nn.Sequential(\n",
    "            nn.Conv1d(embedding_dim, embedding_dim // 2, kernel_size=5, padding=2),\n",
    "            nn.BatchNorm1d(embedding_dim // 2),\n",
    "            nn.LeakyReLU(0.1),\n",
    "            nn.Dropout(dropout)\n",
    "        )\n",
    "\n",
    "        self.encoder2 = nn.Sequential(\n",
    "            nn.Conv1d(embedding_dim // 2, embedding_dim // 4, kernel_size=5, padding=2),\n",
    "            nn.BatchNorm1d(embedding_dim // 4),\n",
    "            nn.LeakyReLU(0.1),\n",
    "            nn.Dropout(dropout)\n",
    "        )\n",
    "\n",
    "        self.encoder3 = nn.Sequential(\n",
    "            nn.Conv1d(embedding_dim // 4, embedding_dim // 8, kernel_size=5, padding=2)\n",
    "        )\n",
    "\n",
    "        self.transformer = nn.ModuleList([\n",
    "            CustomTransformerEncoderLayer(embedding_dim // 8, nhead, ff_dim, dropout) for _ in range(3)\n",
    "        ])\n",
    "\n",
    "        self.decoder1 = nn.Sequential(\n",
    "            nn.Conv1d(embedding_dim // 8, embedding_dim // 4, kernel_size=5, padding=2),\n",
    "            nn.BatchNorm1d(embedding_dim // 4),\n",
    "            nn.LeakyReLU(0.1),\n",
    "            nn.Dropout(dropout)\n",
    "        )\n",
    "\n",
    "        self.decoder2 = nn.Sequential(\n",
    "            nn.Conv1d(embedding_dim // 4, embedding_dim // 2, kernel_size=5, padding=2),\n",
    "            nn.BatchNorm1d(embedding_dim // 2),\n",
    "            nn.LeakyReLU(0.1),\n",
    "            nn.Dropout(dropout)\n",
    "        )\n",
    "\n",
    "        self.decoder3 = nn.Sequential(\n",
    "            nn.Conv1d(embedding_dim // 2, embedding_dim, kernel_size=5, padding=2)\n",
    "        )\n",
    "\n",
    "        self.fc = nn.Linear(embedding_dim, num_items)\n",
    "\n",
    "    def forward(self, x):\n",
    "        batch_size, seq_len = x.size()\n",
    "\n",
    "        positions = torch.arange(0, seq_len).unsqueeze(0).repeat(batch_size, 1).to(x.device)\n",
    "        x = self.item_embedding(x) + self.position_embedding(positions)\n",
    "\n",
    "        x = x.permute(0, 2, 1)\n",
    "        enc1 = self.encoder1(x)\n",
    "        enc2 = self.encoder2(enc1)\n",
    "        enc3 = self.encoder3(enc2)\n",
    "\n",
    "        x = enc3.permute(0, 2, 1)\n",
    "        for layer in self.transformer:\n",
    "            x = layer(x)\n",
    "        x = x.permute(0, 2, 1)\n",
    "\n",
    "        dec1 = self.decoder1(x + enc3)\n",
    "        dec2 = self.decoder2(dec1 + enc2)\n",
    "        dec3 = self.decoder3(dec2 + enc1)\n",
    "        x = dec3[:, :, -1]\n",
    "        out = self.fc(x)\n",
    "\n",
    "        return out\n"
   ]
  },
  {
   "cell_type": "code",
   "execution_count": 26,
   "metadata": {
    "id": "f9OVVZM8m8PZ",
    "outputId": "7734134b-b511-4910-fe55-95de33746c78"
   },
   "outputs": [
    {
     "name": "stdout",
     "output_type": "stream",
     "text": [
      "UET4Rec(\n",
      "  (item_embedding): Embedding(12705, 64, padding_idx=0)\n",
      "  (position_embedding): Embedding(9, 64)\n",
      "  (encoder1): Sequential(\n",
      "    (0): Conv1d(64, 32, kernel_size=(5,), stride=(1,), padding=(2,))\n",
      "    (1): BatchNorm1d(32, eps=1e-05, momentum=0.1, affine=True, track_running_stats=True)\n",
      "    (2): LeakyReLU(negative_slope=0.1)\n",
      "    (3): Dropout(p=0.2, inplace=False)\n",
      "  )\n",
      "  (encoder2): Sequential(\n",
      "    (0): Conv1d(32, 16, kernel_size=(5,), stride=(1,), padding=(2,))\n",
      "    (1): BatchNorm1d(16, eps=1e-05, momentum=0.1, affine=True, track_running_stats=True)\n",
      "    (2): LeakyReLU(negative_slope=0.1)\n",
      "    (3): Dropout(p=0.2, inplace=False)\n",
      "  )\n",
      "  (encoder3): Sequential(\n",
      "    (0): Conv1d(16, 8, kernel_size=(5,), stride=(1,), padding=(2,))\n",
      "  )\n",
      "  (transformer): ModuleList(\n",
      "    (0-2): 3 x CustomTransformerEncoderLayer(\n",
      "      (msa): MultiHeadSelfAttention(\n",
      "        (query): Linear(in_features=8, out_features=8, bias=True)\n",
      "        (key): Linear(in_features=8, out_features=8, bias=True)\n",
      "        (value): Linear(in_features=8, out_features=8, bias=True)\n",
      "        (out): Linear(in_features=8, out_features=8, bias=True)\n",
      "        (dropout): Dropout(p=0.2, inplace=False)\n",
      "      )\n",
      "      (ffn): PointWiseFeedForward(\n",
      "        (linear1): Linear(in_features=8, out_features=256, bias=True)\n",
      "        (dropout): Dropout(p=0.2, inplace=False)\n",
      "        (linear2): Linear(in_features=256, out_features=8, bias=True)\n",
      "      )\n",
      "      (norm1): LayerNorm((8,), eps=1e-05, elementwise_affine=True)\n",
      "      (norm2): LayerNorm((8,), eps=1e-05, elementwise_affine=True)\n",
      "      (dropout): Dropout(p=0.2, inplace=False)\n",
      "    )\n",
      "  )\n",
      "  (decoder1): Sequential(\n",
      "    (0): Conv1d(8, 16, kernel_size=(5,), stride=(1,), padding=(2,))\n",
      "    (1): BatchNorm1d(16, eps=1e-05, momentum=0.1, affine=True, track_running_stats=True)\n",
      "    (2): LeakyReLU(negative_slope=0.1)\n",
      "    (3): Dropout(p=0.2, inplace=False)\n",
      "  )\n",
      "  (decoder2): Sequential(\n",
      "    (0): Conv1d(16, 32, kernel_size=(5,), stride=(1,), padding=(2,))\n",
      "    (1): BatchNorm1d(32, eps=1e-05, momentum=0.1, affine=True, track_running_stats=True)\n",
      "    (2): LeakyReLU(negative_slope=0.1)\n",
      "    (3): Dropout(p=0.2, inplace=False)\n",
      "  )\n",
      "  (decoder3): Sequential(\n",
      "    (0): Conv1d(32, 64, kernel_size=(5,), stride=(1,), padding=(2,))\n",
      "  )\n",
      "  (fc): Linear(in_features=64, out_features=12705, bias=True)\n",
      ")\n"
     ]
    }
   ],
   "source": [
    "embedding_dim = 64\n",
    "nhead = 4\n",
    "ff_dim = 256\n",
    "dropout = 0.2\n",
    "max_len = 9\n",
    "\n",
    "model = UET4Rec(\n",
    "    num_items=num_items,\n",
    "    embedding_dim=embedding_dim,\n",
    "    nhead=nhead,\n",
    "    max_len=max_len,\n",
    "    dropout=dropout,\n",
    "    ff_dim=ff_dim\n",
    ")\n",
    "\n",
    "device = torch.device(\"cuda\" if torch.cuda.is_available() else \"cpu\")\n",
    "model.to(device)\n",
    "\n",
    "print(model)"
   ]
  },
  {
   "cell_type": "code",
   "execution_count": 28,
   "metadata": {
    "id": "cNGXAXnim8PZ"
   },
   "outputs": [
    {
     "name": "stdout",
     "output_type": "stream",
     "text": [
      "Using device: cuda\n",
      "Starting Training...\n"
     ]
    },
    {
     "name": "stderr",
     "output_type": "stream",
     "text": [
      "Epoch [1/150]: 100%|████████████████████████████████████████████| 1483/1483 [00:39<00:00, 37.20batch/s, Batch Loss=7.4]\n"
     ]
    },
    {
     "name": "stdout",
     "output_type": "stream",
     "text": [
      "Epoch [1/150], Training Loss: 8.7285, Accuracy: 0.0029\n"
     ]
    },
    {
     "name": "stderr",
     "output_type": "stream",
     "text": [
      "Epoch [2/150]: 100%|███████████████████████████████████████████| 1483/1483 [00:37<00:00, 39.97batch/s, Batch Loss=8.86]\n"
     ]
    },
    {
     "name": "stdout",
     "output_type": "stream",
     "text": [
      "Epoch [2/150], Training Loss: 8.0458, Accuracy: 0.0100\n"
     ]
    },
    {
     "name": "stderr",
     "output_type": "stream",
     "text": [
      "Epoch [3/150]: 100%|███████████████████████████████████████████| 1483/1483 [00:34<00:00, 42.94batch/s, Batch Loss=6.83]\n"
     ]
    },
    {
     "name": "stdout",
     "output_type": "stream",
     "text": [
      "Epoch [3/150], Training Loss: 7.6675, Accuracy: 0.0207\n"
     ]
    },
    {
     "name": "stderr",
     "output_type": "stream",
     "text": [
      "Epoch [4/150]: 100%|███████████████████████████████████████████| 1483/1483 [00:32<00:00, 45.50batch/s, Batch Loss=7.17]\n"
     ]
    },
    {
     "name": "stdout",
     "output_type": "stream",
     "text": [
      "Epoch [4/150], Training Loss: 6.9889, Accuracy: 0.0335\n"
     ]
    },
    {
     "name": "stderr",
     "output_type": "stream",
     "text": [
      "Epoch [5/150]: 100%|███████████████████████████████████████████| 1483/1483 [00:32<00:00, 45.03batch/s, Batch Loss=6.55]\n"
     ]
    },
    {
     "name": "stdout",
     "output_type": "stream",
     "text": [
      "Epoch [5/150], Training Loss: 5.9901, Accuracy: 0.0586\n"
     ]
    },
    {
     "name": "stderr",
     "output_type": "stream",
     "text": [
      "Epoch [6/150]: 100%|███████████████████████████████████████████| 1483/1483 [00:51<00:00, 28.93batch/s, Batch Loss=5.71]\n"
     ]
    },
    {
     "name": "stdout",
     "output_type": "stream",
     "text": [
      "Epoch [6/150], Training Loss: 4.9353, Accuracy: 0.1300\n"
     ]
    },
    {
     "name": "stderr",
     "output_type": "stream",
     "text": [
      "Epoch [7/150]: 100%|███████████████████████████████████████████| 1483/1483 [00:55<00:00, 26.56batch/s, Batch Loss=5.61]\n"
     ]
    },
    {
     "name": "stdout",
     "output_type": "stream",
     "text": [
      "Epoch [7/150], Training Loss: 4.0528, Accuracy: 0.2306\n"
     ]
    },
    {
     "name": "stderr",
     "output_type": "stream",
     "text": [
      "Epoch [8/150]: 100%|███████████████████████████████████████████| 1483/1483 [00:50<00:00, 29.43batch/s, Batch Loss=4.29]\n"
     ]
    },
    {
     "name": "stdout",
     "output_type": "stream",
     "text": [
      "Epoch [8/150], Training Loss: 3.3795, Accuracy: 0.3171\n"
     ]
    },
    {
     "name": "stderr",
     "output_type": "stream",
     "text": [
      "Epoch [9/150]: 100%|███████████████████████████████████████████| 1483/1483 [00:43<00:00, 34.01batch/s, Batch Loss=4.58]\n"
     ]
    },
    {
     "name": "stdout",
     "output_type": "stream",
     "text": [
      "Epoch [9/150], Training Loss: 2.9079, Accuracy: 0.3852\n"
     ]
    },
    {
     "name": "stderr",
     "output_type": "stream",
     "text": [
      "Epoch [10/150]: 100%|██████████████████████████████████████████| 1483/1483 [00:45<00:00, 32.94batch/s, Batch Loss=3.55]\n"
     ]
    },
    {
     "name": "stdout",
     "output_type": "stream",
     "text": [
      "Epoch [10/150], Training Loss: 2.5288, Accuracy: 0.4453\n"
     ]
    },
    {
     "name": "stderr",
     "output_type": "stream",
     "text": [
      "Epoch [11/150]: 100%|██████████████████████████████████████████| 1483/1483 [00:38<00:00, 38.89batch/s, Batch Loss=1.06]\n"
     ]
    },
    {
     "name": "stdout",
     "output_type": "stream",
     "text": [
      "Epoch [11/150], Training Loss: 1.6031, Accuracy: 0.6297\n"
     ]
    },
    {
     "name": "stderr",
     "output_type": "stream",
     "text": [
      "Epoch [12/150]: 100%|██████████████████████████████████████████| 1483/1483 [00:38<00:00, 38.84batch/s, Batch Loss=1.29]\n"
     ]
    },
    {
     "name": "stdout",
     "output_type": "stream",
     "text": [
      "Epoch [12/150], Training Loss: 1.3675, Accuracy: 0.6771\n"
     ]
    },
    {
     "name": "stderr",
     "output_type": "stream",
     "text": [
      "Epoch [13/150]: 100%|█████████████████████████████████████████| 1483/1483 [01:14<00:00, 19.89batch/s, Batch Loss=0.825]\n"
     ]
    },
    {
     "name": "stdout",
     "output_type": "stream",
     "text": [
      "Epoch [13/150], Training Loss: 1.2497, Accuracy: 0.6999\n"
     ]
    },
    {
     "name": "stderr",
     "output_type": "stream",
     "text": [
      "Epoch [14/150]: 100%|█████████████████████████████████████████| 1483/1483 [00:36<00:00, 40.76batch/s, Batch Loss=0.162]\n"
     ]
    },
    {
     "name": "stdout",
     "output_type": "stream",
     "text": [
      "Epoch [14/150], Training Loss: 1.1699, Accuracy: 0.7164\n"
     ]
    },
    {
     "name": "stderr",
     "output_type": "stream",
     "text": [
      "Epoch [15/150]: 100%|██████████████████████████████████████████| 1483/1483 [00:51<00:00, 28.59batch/s, Batch Loss=1.75]\n"
     ]
    },
    {
     "name": "stdout",
     "output_type": "stream",
     "text": [
      "Epoch [15/150], Training Loss: 1.1173, Accuracy: 0.7249\n"
     ]
    },
    {
     "name": "stderr",
     "output_type": "stream",
     "text": [
      "Epoch [16/150]: 100%|██████████████████████████████████████████| 1483/1483 [00:37<00:00, 40.02batch/s, Batch Loss=0.32]\n"
     ]
    },
    {
     "name": "stdout",
     "output_type": "stream",
     "text": [
      "Epoch [16/150], Training Loss: 1.0604, Accuracy: 0.7361\n"
     ]
    },
    {
     "name": "stderr",
     "output_type": "stream",
     "text": [
      "Epoch [17/150]: 100%|██████████████████████████████████████████| 1483/1483 [00:42<00:00, 34.81batch/s, Batch Loss=1.58]\n"
     ]
    },
    {
     "name": "stdout",
     "output_type": "stream",
     "text": [
      "Epoch [17/150], Training Loss: 1.0305, Accuracy: 0.7429\n"
     ]
    },
    {
     "name": "stderr",
     "output_type": "stream",
     "text": [
      "Epoch [18/150]: 100%|██████████████████████████████████████████| 1483/1483 [00:38<00:00, 38.18batch/s, Batch Loss=0.48]\n"
     ]
    },
    {
     "name": "stdout",
     "output_type": "stream",
     "text": [
      "Epoch [18/150], Training Loss: 0.9848, Accuracy: 0.7523\n"
     ]
    },
    {
     "name": "stderr",
     "output_type": "stream",
     "text": [
      "Epoch [19/150]: 100%|██████████████████████████████████████████| 1483/1483 [00:36<00:00, 40.70batch/s, Batch Loss=2.36]\n"
     ]
    },
    {
     "name": "stdout",
     "output_type": "stream",
     "text": [
      "Epoch [19/150], Training Loss: 0.9541, Accuracy: 0.7597\n"
     ]
    },
    {
     "name": "stderr",
     "output_type": "stream",
     "text": [
      "Epoch [20/150]: 100%|█████████████████████████████████████████| 1483/1483 [00:40<00:00, 36.78batch/s, Batch Loss=0.208]\n"
     ]
    },
    {
     "name": "stdout",
     "output_type": "stream",
     "text": [
      "Epoch [20/150], Training Loss: 0.9336, Accuracy: 0.7623\n",
      "Model saved after 20 epochs at 'uet4rec64_beauty_model_epoch_20.pth'.\n",
      "\n",
      "Calculating metrics...\n",
      "HR@5: 0.0624, NDCG@5: 0.0459\n",
      "HR@10: 0.0887, NDCG@10: 0.0543\n",
      "HR@20: 0.1231, NDCG@20: 0.0630\n"
     ]
    },
    {
     "name": "stderr",
     "output_type": "stream",
     "text": [
      "Epoch [21/150]: 100%|██████████████████████████████████████████| 1483/1483 [00:45<00:00, 32.75batch/s, Batch Loss=1.41]\n"
     ]
    },
    {
     "name": "stdout",
     "output_type": "stream",
     "text": [
      "Epoch [21/150], Training Loss: 0.9044, Accuracy: 0.7678\n"
     ]
    },
    {
     "name": "stderr",
     "output_type": "stream",
     "text": [
      "Epoch [22/150]: 100%|██████████████████████████████████████████| 1483/1483 [00:35<00:00, 42.11batch/s, Batch Loss=1.21]\n"
     ]
    },
    {
     "name": "stdout",
     "output_type": "stream",
     "text": [
      "Epoch [22/150], Training Loss: 0.8820, Accuracy: 0.7738\n"
     ]
    },
    {
     "name": "stderr",
     "output_type": "stream",
     "text": [
      "Epoch [23/150]: 100%|█████████████████████████████████████████| 1483/1483 [00:57<00:00, 26.00batch/s, Batch Loss=0.699]\n"
     ]
    },
    {
     "name": "stdout",
     "output_type": "stream",
     "text": [
      "Epoch [23/150], Training Loss: 0.8663, Accuracy: 0.7786\n"
     ]
    },
    {
     "name": "stderr",
     "output_type": "stream",
     "text": [
      "Epoch [24/150]: 100%|██████████████████████████████████████████| 1483/1483 [00:37<00:00, 39.83batch/s, Batch Loss=2.42]\n"
     ]
    },
    {
     "name": "stdout",
     "output_type": "stream",
     "text": [
      "Epoch [24/150], Training Loss: 0.8464, Accuracy: 0.7815\n"
     ]
    },
    {
     "name": "stderr",
     "output_type": "stream",
     "text": [
      "Epoch [25/150]: 100%|█████████████████████████████████████████| 1483/1483 [01:15<00:00, 19.72batch/s, Batch Loss=0.571]\n"
     ]
    },
    {
     "name": "stdout",
     "output_type": "stream",
     "text": [
      "Epoch [25/150], Training Loss: 0.8271, Accuracy: 0.7857\n"
     ]
    },
    {
     "name": "stderr",
     "output_type": "stream",
     "text": [
      "Epoch [26/150]: 100%|█████████████████████████████████████████| 1483/1483 [00:54<00:00, 27.16batch/s, Batch Loss=0.483]\n"
     ]
    },
    {
     "name": "stdout",
     "output_type": "stream",
     "text": [
      "Epoch [26/150], Training Loss: 0.8027, Accuracy: 0.7920\n"
     ]
    },
    {
     "name": "stderr",
     "output_type": "stream",
     "text": [
      "Epoch [27/150]: 100%|██████████████████████████████████████████| 1483/1483 [01:17<00:00, 19.17batch/s, Batch Loss=1.13]\n"
     ]
    },
    {
     "name": "stdout",
     "output_type": "stream",
     "text": [
      "Epoch [27/150], Training Loss: 0.7894, Accuracy: 0.7940\n"
     ]
    },
    {
     "name": "stderr",
     "output_type": "stream",
     "text": [
      "Epoch [28/150]: 100%|██████████████████████████████████████████| 1483/1483 [01:02<00:00, 23.61batch/s, Batch Loss=2.42]\n"
     ]
    },
    {
     "name": "stdout",
     "output_type": "stream",
     "text": [
      "Epoch [28/150], Training Loss: 0.7789, Accuracy: 0.7952\n"
     ]
    },
    {
     "name": "stderr",
     "output_type": "stream",
     "text": [
      "Epoch [29/150]: 100%|█████████████████████████████████████████| 1483/1483 [00:40<00:00, 36.41batch/s, Batch Loss=0.305]\n"
     ]
    },
    {
     "name": "stdout",
     "output_type": "stream",
     "text": [
      "Epoch [29/150], Training Loss: 0.7650, Accuracy: 0.7987\n"
     ]
    },
    {
     "name": "stderr",
     "output_type": "stream",
     "text": [
      "Epoch [30/150]: 100%|█████████████████████████████████████████| 1483/1483 [00:43<00:00, 34.15batch/s, Batch Loss=0.337]\n"
     ]
    },
    {
     "name": "stdout",
     "output_type": "stream",
     "text": [
      "Epoch [30/150], Training Loss: 0.7517, Accuracy: 0.8027\n"
     ]
    },
    {
     "name": "stderr",
     "output_type": "stream",
     "text": [
      "Epoch [31/150]: 100%|██████████████████████████████████████████| 1483/1483 [00:43<00:00, 33.90batch/s, Batch Loss=1.45]\n"
     ]
    },
    {
     "name": "stdout",
     "output_type": "stream",
     "text": [
      "Epoch [31/150], Training Loss: 0.7415, Accuracy: 0.8046\n"
     ]
    },
    {
     "name": "stderr",
     "output_type": "stream",
     "text": [
      "Epoch [32/150]: 100%|██████████████████████████████████████████| 1483/1483 [00:50<00:00, 29.43batch/s, Batch Loss=1.19]\n"
     ]
    },
    {
     "name": "stdout",
     "output_type": "stream",
     "text": [
      "Epoch [32/150], Training Loss: 0.7325, Accuracy: 0.8050\n"
     ]
    },
    {
     "name": "stderr",
     "output_type": "stream",
     "text": [
      "Epoch [33/150]: 100%|███████████████████████████████████████████| 1483/1483 [00:40<00:00, 36.33batch/s, Batch Loss=2.1]\n"
     ]
    },
    {
     "name": "stdout",
     "output_type": "stream",
     "text": [
      "Epoch [33/150], Training Loss: 0.7128, Accuracy: 0.8115\n"
     ]
    },
    {
     "name": "stderr",
     "output_type": "stream",
     "text": [
      "Epoch [34/150]: 100%|█████████████████████████████████████████| 1483/1483 [00:42<00:00, 34.99batch/s, Batch Loss=0.607]\n"
     ]
    },
    {
     "name": "stdout",
     "output_type": "stream",
     "text": [
      "Epoch [34/150], Training Loss: 0.7062, Accuracy: 0.8116\n"
     ]
    },
    {
     "name": "stderr",
     "output_type": "stream",
     "text": [
      "Epoch [35/150]: 100%|██████████████████████████████████████████| 1483/1483 [00:36<00:00, 40.74batch/s, Batch Loss=2.44]\n"
     ]
    },
    {
     "name": "stdout",
     "output_type": "stream",
     "text": [
      "Epoch [35/150], Training Loss: 0.6935, Accuracy: 0.8153\n"
     ]
    },
    {
     "name": "stderr",
     "output_type": "stream",
     "text": [
      "Epoch [36/150]: 100%|█████████████████████████████████████████| 1483/1483 [00:49<00:00, 29.90batch/s, Batch Loss=0.233]\n"
     ]
    },
    {
     "name": "stdout",
     "output_type": "stream",
     "text": [
      "Epoch [36/150], Training Loss: 0.6878, Accuracy: 0.8160\n"
     ]
    },
    {
     "name": "stderr",
     "output_type": "stream",
     "text": [
      "Epoch [37/150]: 100%|█████████████████████████████████████████| 1483/1483 [00:41<00:00, 35.59batch/s, Batch Loss=0.552]\n"
     ]
    },
    {
     "name": "stdout",
     "output_type": "stream",
     "text": [
      "Epoch [37/150], Training Loss: 0.6685, Accuracy: 0.8200\n"
     ]
    },
    {
     "name": "stderr",
     "output_type": "stream",
     "text": [
      "Epoch [38/150]: 100%|███████████████████████████████████████| 1483/1483 [01:03<00:00, 23.27batch/s, Batch Loss=0.00795]\n"
     ]
    },
    {
     "name": "stdout",
     "output_type": "stream",
     "text": [
      "Epoch [38/150], Training Loss: 0.6691, Accuracy: 0.8194\n"
     ]
    },
    {
     "name": "stderr",
     "output_type": "stream",
     "text": [
      "Epoch [39/150]: 100%|█████████████████████████████████████████| 1483/1483 [00:48<00:00, 30.40batch/s, Batch Loss=0.448]\n"
     ]
    },
    {
     "name": "stdout",
     "output_type": "stream",
     "text": [
      "Epoch [39/150], Training Loss: 0.6572, Accuracy: 0.8239\n"
     ]
    },
    {
     "name": "stderr",
     "output_type": "stream",
     "text": [
      "Epoch [40/150]: 100%|██████████████████████████████████████████| 1483/1483 [00:46<00:00, 31.57batch/s, Batch Loss=1.27]\n"
     ]
    },
    {
     "name": "stdout",
     "output_type": "stream",
     "text": [
      "Epoch [40/150], Training Loss: 0.6543, Accuracy: 0.8239\n",
      "Model saved after 40 epochs at 'uet4rec64_beauty_model_epoch_40.pth'.\n",
      "\n",
      "Calculating metrics...\n",
      "HR@5: 0.0613, NDCG@5: 0.0444\n",
      "HR@10: 0.0863, NDCG@10: 0.0525\n",
      "HR@20: 0.1189, NDCG@20: 0.0607\n"
     ]
    },
    {
     "name": "stderr",
     "output_type": "stream",
     "text": [
      "Epoch [41/150]: 100%|█████████████████████████████████████████| 1483/1483 [00:43<00:00, 33.82batch/s, Batch Loss=0.699]\n"
     ]
    },
    {
     "name": "stdout",
     "output_type": "stream",
     "text": [
      "Epoch [41/150], Training Loss: 0.6431, Accuracy: 0.8255\n"
     ]
    },
    {
     "name": "stderr",
     "output_type": "stream",
     "text": [
      "Epoch [42/150]: 100%|██████████████████████████████████████████| 1483/1483 [00:40<00:00, 36.18batch/s, Batch Loss=2.19]\n"
     ]
    },
    {
     "name": "stdout",
     "output_type": "stream",
     "text": [
      "Epoch [42/150], Training Loss: 0.6386, Accuracy: 0.8267\n"
     ]
    },
    {
     "name": "stderr",
     "output_type": "stream",
     "text": [
      "Epoch [43/150]: 100%|█████████████████████████████████████████| 1483/1483 [00:57<00:00, 25.68batch/s, Batch Loss=0.932]\n"
     ]
    },
    {
     "name": "stdout",
     "output_type": "stream",
     "text": [
      "Epoch [43/150], Training Loss: 0.6250, Accuracy: 0.8309\n"
     ]
    },
    {
     "name": "stderr",
     "output_type": "stream",
     "text": [
      "Epoch [44/150]: 100%|████████████████████████████████████████| 1483/1483 [00:45<00:00, 32.87batch/s, Batch Loss=0.0311]\n"
     ]
    },
    {
     "name": "stdout",
     "output_type": "stream",
     "text": [
      "Epoch [44/150], Training Loss: 0.6146, Accuracy: 0.8336\n"
     ]
    },
    {
     "name": "stderr",
     "output_type": "stream",
     "text": [
      "Epoch [45/150]: 100%|█████████████████████████████████████████| 1483/1483 [00:40<00:00, 36.37batch/s, Batch Loss=0.781]\n"
     ]
    },
    {
     "name": "stdout",
     "output_type": "stream",
     "text": [
      "Epoch [45/150], Training Loss: 0.6120, Accuracy: 0.8328\n"
     ]
    },
    {
     "name": "stderr",
     "output_type": "stream",
     "text": [
      "Epoch [46/150]: 100%|██████████████████████████████████████████| 1483/1483 [00:42<00:00, 34.58batch/s, Batch Loss=0.12]\n"
     ]
    },
    {
     "name": "stdout",
     "output_type": "stream",
     "text": [
      "Epoch [46/150], Training Loss: 0.5980, Accuracy: 0.8354\n"
     ]
    },
    {
     "name": "stderr",
     "output_type": "stream",
     "text": [
      "Epoch [47/150]: 100%|█████████████████████████████████████████| 1483/1483 [00:50<00:00, 29.44batch/s, Batch Loss=0.727]\n"
     ]
    },
    {
     "name": "stdout",
     "output_type": "stream",
     "text": [
      "Epoch [47/150], Training Loss: 0.6062, Accuracy: 0.8337\n"
     ]
    },
    {
     "name": "stderr",
     "output_type": "stream",
     "text": [
      "Epoch [48/150]: 100%|█████████████████████████████████████████| 1483/1483 [01:01<00:00, 23.98batch/s, Batch Loss=0.994]\n"
     ]
    },
    {
     "name": "stdout",
     "output_type": "stream",
     "text": [
      "Epoch [48/150], Training Loss: 0.6000, Accuracy: 0.8358\n"
     ]
    },
    {
     "name": "stderr",
     "output_type": "stream",
     "text": [
      "Epoch [49/150]: 100%|█████████████████████████████████████████| 1483/1483 [01:17<00:00, 19.13batch/s, Batch Loss=0.786]\n"
     ]
    },
    {
     "name": "stdout",
     "output_type": "stream",
     "text": [
      "Epoch [49/150], Training Loss: 0.5929, Accuracy: 0.8378\n"
     ]
    },
    {
     "name": "stderr",
     "output_type": "stream",
     "text": [
      "Epoch [50/150]: 100%|█████████████████████████████████████████| 1483/1483 [01:56<00:00, 12.71batch/s, Batch Loss=0.911]\n"
     ]
    },
    {
     "name": "stdout",
     "output_type": "stream",
     "text": [
      "Epoch [50/150], Training Loss: 0.5816, Accuracy: 0.8406\n"
     ]
    },
    {
     "name": "stderr",
     "output_type": "stream",
     "text": [
      "Epoch [51/150]: 100%|█████████████████████████████████████████| 1483/1483 [02:09<00:00, 11.41batch/s, Batch Loss=0.394]\n"
     ]
    },
    {
     "name": "stdout",
     "output_type": "stream",
     "text": [
      "Epoch [51/150], Training Loss: 0.5776, Accuracy: 0.8411\n"
     ]
    },
    {
     "name": "stderr",
     "output_type": "stream",
     "text": [
      "Epoch [52/150]: 100%|█████████████████████████████████████████| 1483/1483 [02:29<00:00,  9.90batch/s, Batch Loss=0.453]\n"
     ]
    },
    {
     "name": "stdout",
     "output_type": "stream",
     "text": [
      "Epoch [52/150], Training Loss: 0.5753, Accuracy: 0.8428\n"
     ]
    },
    {
     "name": "stderr",
     "output_type": "stream",
     "text": [
      "Epoch [53/150]: 100%|██████████████████████████████████████████| 1483/1483 [01:42<00:00, 14.50batch/s, Batch Loss=1.24]\n"
     ]
    },
    {
     "name": "stdout",
     "output_type": "stream",
     "text": [
      "Epoch [53/150], Training Loss: 0.5679, Accuracy: 0.8434\n"
     ]
    },
    {
     "name": "stderr",
     "output_type": "stream",
     "text": [
      "Epoch [54/150]: 100%|█████████████████████████████████████████| 1483/1483 [01:35<00:00, 15.60batch/s, Batch Loss=0.132]\n"
     ]
    },
    {
     "name": "stdout",
     "output_type": "stream",
     "text": [
      "Epoch [54/150], Training Loss: 0.5613, Accuracy: 0.8459\n"
     ]
    },
    {
     "name": "stderr",
     "output_type": "stream",
     "text": [
      "Epoch [55/150]: 100%|█████████████████████████████████████████| 1483/1483 [02:12<00:00, 11.19batch/s, Batch Loss=0.101]\n"
     ]
    },
    {
     "name": "stdout",
     "output_type": "stream",
     "text": [
      "Epoch [55/150], Training Loss: 0.5554, Accuracy: 0.8463\n"
     ]
    },
    {
     "name": "stderr",
     "output_type": "stream",
     "text": [
      "Epoch [56/150]: 100%|██████████████████████████████████████████| 1483/1483 [02:34<00:00,  9.58batch/s, Batch Loss=1.65]\n"
     ]
    },
    {
     "name": "stdout",
     "output_type": "stream",
     "text": [
      "Epoch [56/150], Training Loss: 0.5517, Accuracy: 0.8485\n"
     ]
    },
    {
     "name": "stderr",
     "output_type": "stream",
     "text": [
      "Epoch [57/150]: 100%|█████████████████████████████████████████| 1483/1483 [01:27<00:00, 16.87batch/s, Batch Loss=0.273]\n"
     ]
    },
    {
     "name": "stdout",
     "output_type": "stream",
     "text": [
      "Epoch [57/150], Training Loss: 0.5455, Accuracy: 0.8487\n"
     ]
    },
    {
     "name": "stderr",
     "output_type": "stream",
     "text": [
      "Epoch [58/150]: 100%|█████████████████████████████████████████| 1483/1483 [00:45<00:00, 32.43batch/s, Batch Loss=0.159]\n"
     ]
    },
    {
     "name": "stdout",
     "output_type": "stream",
     "text": [
      "Epoch [58/150], Training Loss: 0.5407, Accuracy: 0.8496\n"
     ]
    },
    {
     "name": "stderr",
     "output_type": "stream",
     "text": [
      "Epoch [59/150]: 100%|██████████████████████████████████████████| 1483/1483 [01:03<00:00, 23.34batch/s, Batch Loss=0.44]\n"
     ]
    },
    {
     "name": "stdout",
     "output_type": "stream",
     "text": [
      "Epoch [59/150], Training Loss: 0.5252, Accuracy: 0.8551\n"
     ]
    },
    {
     "name": "stderr",
     "output_type": "stream",
     "text": [
      "Epoch [60/150]: 100%|█████████████████████████████████████████| 1483/1483 [00:55<00:00, 26.78batch/s, Batch Loss=0.135]\n"
     ]
    },
    {
     "name": "stdout",
     "output_type": "stream",
     "text": [
      "Epoch [60/150], Training Loss: 0.5275, Accuracy: 0.8533\n",
      "Model saved after 60 epochs at 'uet4rec64_beauty_model_epoch_60.pth'.\n",
      "\n",
      "Calculating metrics...\n",
      "HR@5: 0.0608, NDCG@5: 0.0447\n",
      "HR@10: 0.0834, NDCG@10: 0.0520\n",
      "HR@20: 0.1149, NDCG@20: 0.0599\n"
     ]
    },
    {
     "name": "stderr",
     "output_type": "stream",
     "text": [
      "Epoch [61/150]: 100%|████████████████████████████████████████| 1483/1483 [00:38<00:00, 38.44batch/s, Batch Loss=0.0923]\n"
     ]
    },
    {
     "name": "stdout",
     "output_type": "stream",
     "text": [
      "Epoch [61/150], Training Loss: 0.5256, Accuracy: 0.8522\n"
     ]
    },
    {
     "name": "stderr",
     "output_type": "stream",
     "text": [
      "Epoch [62/150]: 100%|█████████████████████████████████████████| 1483/1483 [00:57<00:00, 25.71batch/s, Batch Loss=0.287]\n"
     ]
    },
    {
     "name": "stdout",
     "output_type": "stream",
     "text": [
      "Epoch [62/150], Training Loss: 0.5282, Accuracy: 0.8527\n"
     ]
    },
    {
     "name": "stderr",
     "output_type": "stream",
     "text": [
      "Epoch [63/150]: 100%|█████████████████████████████████████████| 1483/1483 [00:48<00:00, 30.57batch/s, Batch Loss=0.796]\n"
     ]
    },
    {
     "name": "stdout",
     "output_type": "stream",
     "text": [
      "Epoch [63/150], Training Loss: 0.5224, Accuracy: 0.8565\n"
     ]
    },
    {
     "name": "stderr",
     "output_type": "stream",
     "text": [
      "Epoch [64/150]: 100%|█████████████████████████████████████████| 1483/1483 [00:38<00:00, 38.34batch/s, Batch Loss=0.894]\n"
     ]
    },
    {
     "name": "stdout",
     "output_type": "stream",
     "text": [
      "Epoch [64/150], Training Loss: 0.5169, Accuracy: 0.8552\n"
     ]
    },
    {
     "name": "stderr",
     "output_type": "stream",
     "text": [
      "Epoch [65/150]: 100%|█████████████████████████████████████████| 1483/1483 [00:38<00:00, 38.58batch/s, Batch Loss=0.778]\n"
     ]
    },
    {
     "name": "stdout",
     "output_type": "stream",
     "text": [
      "Epoch [65/150], Training Loss: 0.5211, Accuracy: 0.8550\n"
     ]
    },
    {
     "name": "stderr",
     "output_type": "stream",
     "text": [
      "Epoch [66/150]: 100%|█████████████████████████████████████████| 1483/1483 [00:36<00:00, 40.29batch/s, Batch Loss=0.369]\n"
     ]
    },
    {
     "name": "stdout",
     "output_type": "stream",
     "text": [
      "Epoch [66/150], Training Loss: 0.5033, Accuracy: 0.8601\n"
     ]
    },
    {
     "name": "stderr",
     "output_type": "stream",
     "text": [
      "Epoch [67/150]: 100%|█████████████████████████████████████████| 1483/1483 [00:55<00:00, 26.82batch/s, Batch Loss=0.227]\n"
     ]
    },
    {
     "name": "stdout",
     "output_type": "stream",
     "text": [
      "Epoch [67/150], Training Loss: 0.5122, Accuracy: 0.8567\n"
     ]
    },
    {
     "name": "stderr",
     "output_type": "stream",
     "text": [
      "Epoch [68/150]: 100%|██████████████████████████████████████████| 1483/1483 [00:50<00:00, 29.28batch/s, Batch Loss=1.46]\n"
     ]
    },
    {
     "name": "stdout",
     "output_type": "stream",
     "text": [
      "Epoch [68/150], Training Loss: 0.5055, Accuracy: 0.8583\n"
     ]
    },
    {
     "name": "stderr",
     "output_type": "stream",
     "text": [
      "Epoch [69/150]: 100%|█████████████████████████████████████████| 1483/1483 [00:43<00:00, 33.86batch/s, Batch Loss=0.661]\n"
     ]
    },
    {
     "name": "stdout",
     "output_type": "stream",
     "text": [
      "Epoch [69/150], Training Loss: 0.4975, Accuracy: 0.8613\n"
     ]
    },
    {
     "name": "stderr",
     "output_type": "stream",
     "text": [
      "Epoch [70/150]: 100%|██████████████████████████████████████████| 1483/1483 [00:46<00:00, 31.90batch/s, Batch Loss=0.95]\n"
     ]
    },
    {
     "name": "stdout",
     "output_type": "stream",
     "text": [
      "Epoch [70/150], Training Loss: 0.5007, Accuracy: 0.8605\n"
     ]
    },
    {
     "name": "stderr",
     "output_type": "stream",
     "text": [
      "Epoch [71/150]: 100%|██████████████████████████████████████████| 1483/1483 [00:48<00:00, 30.84batch/s, Batch Loss=0.79]\n"
     ]
    },
    {
     "name": "stdout",
     "output_type": "stream",
     "text": [
      "Epoch [71/150], Training Loss: 0.4929, Accuracy: 0.8623\n"
     ]
    },
    {
     "name": "stderr",
     "output_type": "stream",
     "text": [
      "Epoch [72/150]: 100%|██████████████████████████████████████████| 1483/1483 [00:44<00:00, 33.00batch/s, Batch Loss=0.39]\n"
     ]
    },
    {
     "name": "stdout",
     "output_type": "stream",
     "text": [
      "Epoch [72/150], Training Loss: 0.4927, Accuracy: 0.8610\n"
     ]
    },
    {
     "name": "stderr",
     "output_type": "stream",
     "text": [
      "Epoch [73/150]: 100%|██████████████████████████████████████████| 1483/1483 [00:44<00:00, 33.53batch/s, Batch Loss=1.72]\n"
     ]
    },
    {
     "name": "stdout",
     "output_type": "stream",
     "text": [
      "Epoch [73/150], Training Loss: 0.4918, Accuracy: 0.8615\n"
     ]
    },
    {
     "name": "stderr",
     "output_type": "stream",
     "text": [
      "Epoch [74/150]: 100%|█████████████████████████████████████████| 1483/1483 [00:45<00:00, 32.80batch/s, Batch Loss=0.622]\n"
     ]
    },
    {
     "name": "stdout",
     "output_type": "stream",
     "text": [
      "Epoch [74/150], Training Loss: 0.4775, Accuracy: 0.8654\n"
     ]
    },
    {
     "name": "stderr",
     "output_type": "stream",
     "text": [
      "Epoch [75/150]: 100%|█████████████████████████████████████████| 1483/1483 [00:43<00:00, 34.22batch/s, Batch Loss=0.584]\n"
     ]
    },
    {
     "name": "stdout",
     "output_type": "stream",
     "text": [
      "Epoch [75/150], Training Loss: 0.4828, Accuracy: 0.8632\n"
     ]
    },
    {
     "name": "stderr",
     "output_type": "stream",
     "text": [
      "Epoch [76/150]: 100%|█████████████████████████████████████████| 1483/1483 [00:54<00:00, 27.28batch/s, Batch Loss=0.911]\n"
     ]
    },
    {
     "name": "stdout",
     "output_type": "stream",
     "text": [
      "Epoch [76/150], Training Loss: 0.4765, Accuracy: 0.8670\n"
     ]
    },
    {
     "name": "stderr",
     "output_type": "stream",
     "text": [
      "Epoch [77/150]: 100%|█████████████████████████████████████████| 1483/1483 [00:52<00:00, 28.25batch/s, Batch Loss=0.612]\n"
     ]
    },
    {
     "name": "stdout",
     "output_type": "stream",
     "text": [
      "Epoch [77/150], Training Loss: 0.4724, Accuracy: 0.8664\n"
     ]
    },
    {
     "name": "stderr",
     "output_type": "stream",
     "text": [
      "Epoch [78/150]: 100%|██████████████████████████████████████████| 1483/1483 [00:54<00:00, 27.34batch/s, Batch Loss=1.14]\n"
     ]
    },
    {
     "name": "stdout",
     "output_type": "stream",
     "text": [
      "Epoch [78/150], Training Loss: 0.4770, Accuracy: 0.8651\n"
     ]
    },
    {
     "name": "stderr",
     "output_type": "stream",
     "text": [
      "Epoch [79/150]: 100%|█████████████████████████████████████████| 1483/1483 [00:35<00:00, 42.23batch/s, Batch Loss=0.402]\n"
     ]
    },
    {
     "name": "stdout",
     "output_type": "stream",
     "text": [
      "Epoch [79/150], Training Loss: 0.4679, Accuracy: 0.8683\n"
     ]
    },
    {
     "name": "stderr",
     "output_type": "stream",
     "text": [
      "Epoch [80/150]: 100%|█████████████████████████████████████████| 1483/1483 [00:53<00:00, 27.91batch/s, Batch Loss=0.154]\n"
     ]
    },
    {
     "name": "stdout",
     "output_type": "stream",
     "text": [
      "Epoch [80/150], Training Loss: 0.4596, Accuracy: 0.8690\n",
      "Model saved after 80 epochs at 'uet4rec64_beauty_model_epoch_80.pth'.\n",
      "\n",
      "Calculating metrics...\n",
      "HR@5: 0.0593, NDCG@5: 0.0433\n",
      "HR@10: 0.0828, NDCG@10: 0.0509\n",
      "HR@20: 0.1121, NDCG@20: 0.0582\n"
     ]
    },
    {
     "name": "stderr",
     "output_type": "stream",
     "text": [
      "Epoch [81/150]: 100%|█████████████████████████████████████████| 1483/1483 [00:49<00:00, 29.79batch/s, Batch Loss=0.557]\n"
     ]
    },
    {
     "name": "stdout",
     "output_type": "stream",
     "text": [
      "Epoch [81/150], Training Loss: 0.4629, Accuracy: 0.8695\n"
     ]
    },
    {
     "name": "stderr",
     "output_type": "stream",
     "text": [
      "Epoch [82/150]: 100%|██████████████████████████████████████████| 1483/1483 [00:50<00:00, 29.42batch/s, Batch Loss=1.02]\n"
     ]
    },
    {
     "name": "stdout",
     "output_type": "stream",
     "text": [
      "Epoch [82/150], Training Loss: 0.4569, Accuracy: 0.8708\n"
     ]
    },
    {
     "name": "stderr",
     "output_type": "stream",
     "text": [
      "Epoch [83/150]: 100%|██████████████████████████████████████████| 1483/1483 [00:54<00:00, 27.08batch/s, Batch Loss=1.27]\n"
     ]
    },
    {
     "name": "stdout",
     "output_type": "stream",
     "text": [
      "Epoch [83/150], Training Loss: 0.4591, Accuracy: 0.8703\n"
     ]
    },
    {
     "name": "stderr",
     "output_type": "stream",
     "text": [
      "Epoch [84/150]: 100%|█████████████████████████████████████████| 1483/1483 [00:58<00:00, 25.40batch/s, Batch Loss=0.115]\n"
     ]
    },
    {
     "name": "stdout",
     "output_type": "stream",
     "text": [
      "Epoch [84/150], Training Loss: 0.4573, Accuracy: 0.8704\n"
     ]
    },
    {
     "name": "stderr",
     "output_type": "stream",
     "text": [
      "Epoch [85/150]: 100%|█████████████████████████████████████████| 1483/1483 [00:57<00:00, 25.67batch/s, Batch Loss=0.324]\n"
     ]
    },
    {
     "name": "stdout",
     "output_type": "stream",
     "text": [
      "Epoch [85/150], Training Loss: 0.4596, Accuracy: 0.8685\n"
     ]
    },
    {
     "name": "stderr",
     "output_type": "stream",
     "text": [
      "Epoch [86/150]: 100%|██████████████████████████████████████████| 1483/1483 [00:50<00:00, 29.65batch/s, Batch Loss=0.21]\n"
     ]
    },
    {
     "name": "stdout",
     "output_type": "stream",
     "text": [
      "Epoch [86/150], Training Loss: 0.4482, Accuracy: 0.8733\n"
     ]
    },
    {
     "name": "stderr",
     "output_type": "stream",
     "text": [
      "Epoch [87/150]: 100%|████████████████████████████████████████| 1483/1483 [00:52<00:00, 28.06batch/s, Batch Loss=0.0989]\n"
     ]
    },
    {
     "name": "stdout",
     "output_type": "stream",
     "text": [
      "Epoch [87/150], Training Loss: 0.4474, Accuracy: 0.8726\n"
     ]
    },
    {
     "name": "stderr",
     "output_type": "stream",
     "text": [
      "Epoch [88/150]: 100%|█████████████████████████████████████████| 1483/1483 [00:44<00:00, 33.28batch/s, Batch Loss=0.114]\n"
     ]
    },
    {
     "name": "stdout",
     "output_type": "stream",
     "text": [
      "Epoch [88/150], Training Loss: 0.4412, Accuracy: 0.8737\n"
     ]
    },
    {
     "name": "stderr",
     "output_type": "stream",
     "text": [
      "Epoch [89/150]: 100%|████████████████████████████████████████| 1483/1483 [00:50<00:00, 29.10batch/s, Batch Loss=0.0276]\n"
     ]
    },
    {
     "name": "stdout",
     "output_type": "stream",
     "text": [
      "Epoch [89/150], Training Loss: 0.4455, Accuracy: 0.8728\n"
     ]
    },
    {
     "name": "stderr",
     "output_type": "stream",
     "text": [
      "Epoch [90/150]: 100%|█████████████████████████████████████████| 1483/1483 [00:50<00:00, 29.48batch/s, Batch Loss=0.608]\n"
     ]
    },
    {
     "name": "stdout",
     "output_type": "stream",
     "text": [
      "Epoch [90/150], Training Loss: 0.4412, Accuracy: 0.8750\n"
     ]
    },
    {
     "name": "stderr",
     "output_type": "stream",
     "text": [
      "Epoch [91/150]: 100%|███████████████████████████████████████| 1483/1483 [00:53<00:00, 27.78batch/s, Batch Loss=0.00142]\n"
     ]
    },
    {
     "name": "stdout",
     "output_type": "stream",
     "text": [
      "Epoch [91/150], Training Loss: 0.4366, Accuracy: 0.8755\n"
     ]
    },
    {
     "name": "stderr",
     "output_type": "stream",
     "text": [
      "Epoch [92/150]: 100%|█████████████████████████████████████████| 1483/1483 [00:44<00:00, 33.63batch/s, Batch Loss=0.602]\n"
     ]
    },
    {
     "name": "stdout",
     "output_type": "stream",
     "text": [
      "Epoch [92/150], Training Loss: 0.4350, Accuracy: 0.8762\n"
     ]
    },
    {
     "name": "stderr",
     "output_type": "stream",
     "text": [
      "Epoch [93/150]: 100%|███████████████████████████████████████| 1483/1483 [00:47<00:00, 30.90batch/s, Batch Loss=0.00595]\n"
     ]
    },
    {
     "name": "stdout",
     "output_type": "stream",
     "text": [
      "Epoch [93/150], Training Loss: 0.4303, Accuracy: 0.8776\n"
     ]
    },
    {
     "name": "stderr",
     "output_type": "stream",
     "text": [
      "Epoch [94/150]: 100%|██████████████████████████████████████████| 1483/1483 [00:51<00:00, 28.53batch/s, Batch Loss=1.63]\n"
     ]
    },
    {
     "name": "stdout",
     "output_type": "stream",
     "text": [
      "Epoch [94/150], Training Loss: 0.4328, Accuracy: 0.8763\n"
     ]
    },
    {
     "name": "stderr",
     "output_type": "stream",
     "text": [
      "Epoch [95/150]: 100%|█████████████████████████████████████████| 1483/1483 [00:46<00:00, 32.00batch/s, Batch Loss=0.518]\n"
     ]
    },
    {
     "name": "stdout",
     "output_type": "stream",
     "text": [
      "Epoch [95/150], Training Loss: 0.4275, Accuracy: 0.8772\n"
     ]
    },
    {
     "name": "stderr",
     "output_type": "stream",
     "text": [
      "Epoch [96/150]: 100%|██████████████████████████████████████████| 1483/1483 [00:49<00:00, 30.02batch/s, Batch Loss=0.24]\n"
     ]
    },
    {
     "name": "stdout",
     "output_type": "stream",
     "text": [
      "Epoch [96/150], Training Loss: 0.4278, Accuracy: 0.8782\n"
     ]
    },
    {
     "name": "stderr",
     "output_type": "stream",
     "text": [
      "Epoch [97/150]: 100%|█████████████████████████████████████████| 1483/1483 [00:48<00:00, 30.43batch/s, Batch Loss=0.219]\n"
     ]
    },
    {
     "name": "stdout",
     "output_type": "stream",
     "text": [
      "Epoch [97/150], Training Loss: 0.4280, Accuracy: 0.8778\n"
     ]
    },
    {
     "name": "stderr",
     "output_type": "stream",
     "text": [
      "Epoch [98/150]: 100%|██████████████████████████████████████████| 1483/1483 [00:55<00:00, 26.80batch/s, Batch Loss=1.48]\n"
     ]
    },
    {
     "name": "stdout",
     "output_type": "stream",
     "text": [
      "Epoch [98/150], Training Loss: 0.4238, Accuracy: 0.8781\n"
     ]
    },
    {
     "name": "stderr",
     "output_type": "stream",
     "text": [
      "Epoch [99/150]: 100%|█████████████████████████████████████████| 1483/1483 [00:53<00:00, 27.63batch/s, Batch Loss=0.442]\n"
     ]
    },
    {
     "name": "stdout",
     "output_type": "stream",
     "text": [
      "Epoch [99/150], Training Loss: 0.4206, Accuracy: 0.8790\n"
     ]
    },
    {
     "name": "stderr",
     "output_type": "stream",
     "text": [
      "Epoch [100/150]: 100%|███████████████████████████████████████| 1483/1483 [00:48<00:00, 30.50batch/s, Batch Loss=0.0218]\n"
     ]
    },
    {
     "name": "stdout",
     "output_type": "stream",
     "text": [
      "Epoch [100/150], Training Loss: 0.4160, Accuracy: 0.8806\n",
      "Model saved after 100 epochs at 'uet4rec64_beauty_model_epoch_100.pth'.\n",
      "\n",
      "Calculating metrics...\n",
      "HR@5: 0.0607, NDCG@5: 0.0438\n",
      "HR@10: 0.0811, NDCG@10: 0.0503\n",
      "HR@20: 0.1095, NDCG@20: 0.0575\n"
     ]
    },
    {
     "name": "stderr",
     "output_type": "stream",
     "text": [
      "Epoch [101/150]: 100%|█████████████████████████████████████████| 1483/1483 [00:49<00:00, 30.24batch/s, Batch Loss=0.57]\n"
     ]
    },
    {
     "name": "stdout",
     "output_type": "stream",
     "text": [
      "Epoch [101/150], Training Loss: 0.4235, Accuracy: 0.8790\n"
     ]
    },
    {
     "name": "stderr",
     "output_type": "stream",
     "text": [
      "Epoch [102/150]: 100%|████████████████████████████████████████| 1483/1483 [00:48<00:00, 30.29batch/s, Batch Loss=0.273]\n"
     ]
    },
    {
     "name": "stdout",
     "output_type": "stream",
     "text": [
      "Epoch [102/150], Training Loss: 0.4148, Accuracy: 0.8810\n"
     ]
    },
    {
     "name": "stderr",
     "output_type": "stream",
     "text": [
      "Epoch [103/150]: 100%|████████████████████████████████████████| 1483/1483 [00:50<00:00, 29.59batch/s, Batch Loss=0.916]\n"
     ]
    },
    {
     "name": "stdout",
     "output_type": "stream",
     "text": [
      "Epoch [103/150], Training Loss: 0.4081, Accuracy: 0.8839\n"
     ]
    },
    {
     "name": "stderr",
     "output_type": "stream",
     "text": [
      "Epoch [104/150]: 100%|█████████████████████████████████████████| 1483/1483 [00:49<00:00, 29.90batch/s, Batch Loss=1.17]\n"
     ]
    },
    {
     "name": "stdout",
     "output_type": "stream",
     "text": [
      "Epoch [104/150], Training Loss: 0.4157, Accuracy: 0.8803\n"
     ]
    },
    {
     "name": "stderr",
     "output_type": "stream",
     "text": [
      "Epoch [105/150]: 100%|████████████████████████████████████████| 1483/1483 [00:50<00:00, 29.45batch/s, Batch Loss=0.631]\n"
     ]
    },
    {
     "name": "stdout",
     "output_type": "stream",
     "text": [
      "Epoch [105/150], Training Loss: 0.4083, Accuracy: 0.8834\n"
     ]
    },
    {
     "name": "stderr",
     "output_type": "stream",
     "text": [
      "Epoch [106/150]: 100%|███████████████████████████████████████| 1483/1483 [00:48<00:00, 30.47batch/s, Batch Loss=0.0482]\n"
     ]
    },
    {
     "name": "stdout",
     "output_type": "stream",
     "text": [
      "Epoch [106/150], Training Loss: 0.4060, Accuracy: 0.8840\n"
     ]
    },
    {
     "name": "stderr",
     "output_type": "stream",
     "text": [
      "Epoch [107/150]: 100%|████████████████████████████████████████| 1483/1483 [00:47<00:00, 30.98batch/s, Batch Loss=0.346]\n"
     ]
    },
    {
     "name": "stdout",
     "output_type": "stream",
     "text": [
      "Epoch [107/150], Training Loss: 0.4050, Accuracy: 0.8825\n"
     ]
    },
    {
     "name": "stderr",
     "output_type": "stream",
     "text": [
      "Epoch [108/150]: 100%|█████████████████████████████████████████| 1483/1483 [00:50<00:00, 29.09batch/s, Batch Loss=2.26]\n"
     ]
    },
    {
     "name": "stdout",
     "output_type": "stream",
     "text": [
      "Epoch [108/150], Training Loss: 0.4041, Accuracy: 0.8840\n"
     ]
    },
    {
     "name": "stderr",
     "output_type": "stream",
     "text": [
      "Epoch [109/150]: 100%|████████████████████████████████████████| 1483/1483 [00:50<00:00, 29.40batch/s, Batch Loss=0.427]\n"
     ]
    },
    {
     "name": "stdout",
     "output_type": "stream",
     "text": [
      "Epoch [109/150], Training Loss: 0.4001, Accuracy: 0.8854\n"
     ]
    },
    {
     "name": "stderr",
     "output_type": "stream",
     "text": [
      "Epoch [110/150]: 100%|████████████████████████████████████████| 1483/1483 [00:53<00:00, 27.75batch/s, Batch Loss=0.394]\n"
     ]
    },
    {
     "name": "stdout",
     "output_type": "stream",
     "text": [
      "Epoch [110/150], Training Loss: 0.4025, Accuracy: 0.8828\n"
     ]
    },
    {
     "name": "stderr",
     "output_type": "stream",
     "text": [
      "Epoch [111/150]: 100%|█████████████████████████████████████████| 1483/1483 [00:52<00:00, 28.34batch/s, Batch Loss=1.04]\n"
     ]
    },
    {
     "name": "stdout",
     "output_type": "stream",
     "text": [
      "Epoch [111/150], Training Loss: 0.3975, Accuracy: 0.8860\n"
     ]
    },
    {
     "name": "stderr",
     "output_type": "stream",
     "text": [
      "Epoch [112/150]: 100%|█████████████████████████████████████████| 1483/1483 [00:55<00:00, 26.67batch/s, Batch Loss=0.32]\n"
     ]
    },
    {
     "name": "stdout",
     "output_type": "stream",
     "text": [
      "Epoch [112/150], Training Loss: 0.3897, Accuracy: 0.8874\n"
     ]
    },
    {
     "name": "stderr",
     "output_type": "stream",
     "text": [
      "Epoch [113/150]: 100%|█████████████████████████████████████████| 1483/1483 [00:53<00:00, 27.76batch/s, Batch Loss=0.78]\n"
     ]
    },
    {
     "name": "stdout",
     "output_type": "stream",
     "text": [
      "Epoch [113/150], Training Loss: 0.3960, Accuracy: 0.8858\n"
     ]
    },
    {
     "name": "stderr",
     "output_type": "stream",
     "text": [
      "Epoch [114/150]: 100%|████████████████████████████████████████| 1483/1483 [00:53<00:00, 27.75batch/s, Batch Loss=0.359]\n"
     ]
    },
    {
     "name": "stdout",
     "output_type": "stream",
     "text": [
      "Epoch [114/150], Training Loss: 0.3962, Accuracy: 0.8865\n"
     ]
    },
    {
     "name": "stderr",
     "output_type": "stream",
     "text": [
      "Epoch [115/150]: 100%|████████████████████████████████████████| 1483/1483 [00:53<00:00, 27.63batch/s, Batch Loss=0.583]\n"
     ]
    },
    {
     "name": "stdout",
     "output_type": "stream",
     "text": [
      "Epoch [115/150], Training Loss: 0.3940, Accuracy: 0.8863\n"
     ]
    },
    {
     "name": "stderr",
     "output_type": "stream",
     "text": [
      "Epoch [116/150]: 100%|████████████████████████████████████████| 1483/1483 [00:52<00:00, 28.08batch/s, Batch Loss=0.795]\n"
     ]
    },
    {
     "name": "stdout",
     "output_type": "stream",
     "text": [
      "Epoch [116/150], Training Loss: 0.3907, Accuracy: 0.8879\n"
     ]
    },
    {
     "name": "stderr",
     "output_type": "stream",
     "text": [
      "Epoch [117/150]: 100%|█████████████████████████████████████████| 1483/1483 [00:54<00:00, 27.35batch/s, Batch Loss=0.33]\n"
     ]
    },
    {
     "name": "stdout",
     "output_type": "stream",
     "text": [
      "Epoch [117/150], Training Loss: 0.3842, Accuracy: 0.8885\n"
     ]
    },
    {
     "name": "stderr",
     "output_type": "stream",
     "text": [
      "Epoch [118/150]: 100%|████████████████████████████████████████| 1483/1483 [00:51<00:00, 28.92batch/s, Batch Loss=0.922]\n"
     ]
    },
    {
     "name": "stdout",
     "output_type": "stream",
     "text": [
      "Epoch [118/150], Training Loss: 0.3902, Accuracy: 0.8864\n"
     ]
    },
    {
     "name": "stderr",
     "output_type": "stream",
     "text": [
      "Epoch [119/150]: 100%|████████████████████████████████████████| 1483/1483 [00:51<00:00, 28.89batch/s, Batch Loss=0.793]\n"
     ]
    },
    {
     "name": "stdout",
     "output_type": "stream",
     "text": [
      "Epoch [119/150], Training Loss: 0.3843, Accuracy: 0.8894\n"
     ]
    },
    {
     "name": "stderr",
     "output_type": "stream",
     "text": [
      "Epoch [120/150]: 100%|█████████████████████████████████████████| 1483/1483 [00:47<00:00, 31.00batch/s, Batch Loss=0.74]\n"
     ]
    },
    {
     "name": "stdout",
     "output_type": "stream",
     "text": [
      "Epoch [120/150], Training Loss: 0.3801, Accuracy: 0.8886\n",
      "Model saved after 120 epochs at 'uet4rec64_beauty_model_epoch_120.pth'.\n",
      "\n",
      "Calculating metrics...\n",
      "HR@5: 0.0601, NDCG@5: 0.0432\n",
      "HR@10: 0.0828, NDCG@10: 0.0505\n",
      "HR@20: 0.1104, NDCG@20: 0.0574\n"
     ]
    },
    {
     "name": "stderr",
     "output_type": "stream",
     "text": [
      "Epoch [121/150]: 100%|███████████████████████████████████████| 1483/1483 [00:48<00:00, 30.35batch/s, Batch Loss=0.0942]\n"
     ]
    },
    {
     "name": "stdout",
     "output_type": "stream",
     "text": [
      "Epoch [121/150], Training Loss: 0.3839, Accuracy: 0.8884\n"
     ]
    },
    {
     "name": "stderr",
     "output_type": "stream",
     "text": [
      "Epoch [122/150]: 100%|████████████████████████████████████████| 1483/1483 [00:50<00:00, 29.25batch/s, Batch Loss=0.102]\n"
     ]
    },
    {
     "name": "stdout",
     "output_type": "stream",
     "text": [
      "Epoch [122/150], Training Loss: 0.3747, Accuracy: 0.8914\n"
     ]
    },
    {
     "name": "stderr",
     "output_type": "stream",
     "text": [
      "Epoch [123/150]: 100%|████████████████████████████████████████| 1483/1483 [00:53<00:00, 27.55batch/s, Batch Loss=0.311]\n"
     ]
    },
    {
     "name": "stdout",
     "output_type": "stream",
     "text": [
      "Epoch [123/150], Training Loss: 0.3827, Accuracy: 0.8905\n"
     ]
    },
    {
     "name": "stderr",
     "output_type": "stream",
     "text": [
      "Epoch [124/150]: 100%|████████████████████████████████████████| 1483/1483 [00:52<00:00, 28.17batch/s, Batch Loss=0.781]\n"
     ]
    },
    {
     "name": "stdout",
     "output_type": "stream",
     "text": [
      "Epoch [124/150], Training Loss: 0.3821, Accuracy: 0.8889\n"
     ]
    },
    {
     "name": "stderr",
     "output_type": "stream",
     "text": [
      "Epoch [125/150]: 100%|████████████████████████████████████████| 1483/1483 [00:49<00:00, 29.98batch/s, Batch Loss=0.202]\n"
     ]
    },
    {
     "name": "stdout",
     "output_type": "stream",
     "text": [
      "Epoch [125/150], Training Loss: 0.3766, Accuracy: 0.8896\n"
     ]
    },
    {
     "name": "stderr",
     "output_type": "stream",
     "text": [
      "Epoch [126/150]: 100%|█████████████████████████████████████████| 1483/1483 [00:53<00:00, 27.91batch/s, Batch Loss=1.62]\n"
     ]
    },
    {
     "name": "stdout",
     "output_type": "stream",
     "text": [
      "Epoch [126/150], Training Loss: 0.3722, Accuracy: 0.8930\n"
     ]
    },
    {
     "name": "stderr",
     "output_type": "stream",
     "text": [
      "Epoch [127/150]: 100%|████████████████████████████████████████| 1483/1483 [00:47<00:00, 31.28batch/s, Batch Loss=0.714]\n"
     ]
    },
    {
     "name": "stdout",
     "output_type": "stream",
     "text": [
      "Epoch [127/150], Training Loss: 0.3796, Accuracy: 0.8900\n"
     ]
    },
    {
     "name": "stderr",
     "output_type": "stream",
     "text": [
      "Epoch [128/150]: 100%|████████████████████████████████████████| 1483/1483 [00:49<00:00, 29.72batch/s, Batch Loss=0.649]\n"
     ]
    },
    {
     "name": "stdout",
     "output_type": "stream",
     "text": [
      "Epoch [128/150], Training Loss: 0.3780, Accuracy: 0.8901\n"
     ]
    },
    {
     "name": "stderr",
     "output_type": "stream",
     "text": [
      "Epoch [129/150]: 100%|███████████████████████████████████████| 1483/1483 [00:53<00:00, 27.49batch/s, Batch Loss=0.0855]\n"
     ]
    },
    {
     "name": "stdout",
     "output_type": "stream",
     "text": [
      "Epoch [129/150], Training Loss: 0.3677, Accuracy: 0.8917\n"
     ]
    },
    {
     "name": "stderr",
     "output_type": "stream",
     "text": [
      "Epoch [130/150]: 100%|████████████████████████████████████████| 1483/1483 [00:47<00:00, 31.01batch/s, Batch Loss=0.318]\n"
     ]
    },
    {
     "name": "stdout",
     "output_type": "stream",
     "text": [
      "Epoch [130/150], Training Loss: 0.3691, Accuracy: 0.8927\n"
     ]
    },
    {
     "name": "stderr",
     "output_type": "stream",
     "text": [
      "Epoch [131/150]: 100%|████████████████████████████████████████| 1483/1483 [00:46<00:00, 31.62batch/s, Batch Loss=0.673]\n"
     ]
    },
    {
     "name": "stdout",
     "output_type": "stream",
     "text": [
      "Epoch [131/150], Training Loss: 0.3659, Accuracy: 0.8936\n"
     ]
    },
    {
     "name": "stderr",
     "output_type": "stream",
     "text": [
      "Epoch [132/150]: 100%|█████████████████████████████████████████| 1483/1483 [01:12<00:00, 20.32batch/s, Batch Loss=0.65]\n"
     ]
    },
    {
     "name": "stdout",
     "output_type": "stream",
     "text": [
      "Epoch [132/150], Training Loss: 0.3622, Accuracy: 0.8952\n"
     ]
    },
    {
     "name": "stderr",
     "output_type": "stream",
     "text": [
      "Epoch [133/150]: 100%|█████████████████████████████████████████| 1483/1483 [01:13<00:00, 20.08batch/s, Batch Loss=0.34]\n"
     ]
    },
    {
     "name": "stdout",
     "output_type": "stream",
     "text": [
      "Epoch [133/150], Training Loss: 0.3655, Accuracy: 0.8936\n"
     ]
    },
    {
     "name": "stderr",
     "output_type": "stream",
     "text": [
      "Epoch [134/150]: 100%|████████████████████████████████████████| 1483/1483 [00:50<00:00, 29.16batch/s, Batch Loss=0.795]\n"
     ]
    },
    {
     "name": "stdout",
     "output_type": "stream",
     "text": [
      "Epoch [134/150], Training Loss: 0.3687, Accuracy: 0.8932\n"
     ]
    },
    {
     "name": "stderr",
     "output_type": "stream",
     "text": [
      "Epoch [135/150]: 100%|████████████████████████████████████████| 1483/1483 [00:48<00:00, 30.68batch/s, Batch Loss=0.208]\n"
     ]
    },
    {
     "name": "stdout",
     "output_type": "stream",
     "text": [
      "Epoch [135/150], Training Loss: 0.3638, Accuracy: 0.8944\n"
     ]
    },
    {
     "name": "stderr",
     "output_type": "stream",
     "text": [
      "Epoch [136/150]: 100%|████████████████████████████████████████| 1483/1483 [00:48<00:00, 30.75batch/s, Batch Loss=0.178]\n"
     ]
    },
    {
     "name": "stdout",
     "output_type": "stream",
     "text": [
      "Epoch [136/150], Training Loss: 0.3695, Accuracy: 0.8927\n"
     ]
    },
    {
     "name": "stderr",
     "output_type": "stream",
     "text": [
      "Epoch [137/150]: 100%|████████████████████████████████████████| 1483/1483 [00:50<00:00, 29.65batch/s, Batch Loss=0.746]\n"
     ]
    },
    {
     "name": "stdout",
     "output_type": "stream",
     "text": [
      "Epoch [137/150], Training Loss: 0.3641, Accuracy: 0.8943\n"
     ]
    },
    {
     "name": "stderr",
     "output_type": "stream",
     "text": [
      "Epoch [138/150]: 100%|███████████████████████████████████████| 1483/1483 [00:44<00:00, 33.62batch/s, Batch Loss=0.0347]\n"
     ]
    },
    {
     "name": "stdout",
     "output_type": "stream",
     "text": [
      "Epoch [138/150], Training Loss: 0.3632, Accuracy: 0.8936\n"
     ]
    },
    {
     "name": "stderr",
     "output_type": "stream",
     "text": [
      "Epoch [139/150]: 100%|████████████████████████████████████████| 1483/1483 [00:44<00:00, 33.32batch/s, Batch Loss=0.756]\n"
     ]
    },
    {
     "name": "stdout",
     "output_type": "stream",
     "text": [
      "Epoch [139/150], Training Loss: 0.3605, Accuracy: 0.8954\n"
     ]
    },
    {
     "name": "stderr",
     "output_type": "stream",
     "text": [
      "Epoch [140/150]: 100%|████████████████████████████████████████| 1483/1483 [00:48<00:00, 30.86batch/s, Batch Loss=0.168]\n"
     ]
    },
    {
     "name": "stdout",
     "output_type": "stream",
     "text": [
      "Epoch [140/150], Training Loss: 0.3635, Accuracy: 0.8954\n",
      "Model saved after 140 epochs at 'uet4rec64_beauty_model_epoch_140.pth'.\n",
      "\n",
      "Calculating metrics...\n",
      "HR@5: 0.0579, NDCG@5: 0.0427\n",
      "HR@10: 0.0800, NDCG@10: 0.0499\n",
      "HR@20: 0.1054, NDCG@20: 0.0563\n"
     ]
    },
    {
     "name": "stderr",
     "output_type": "stream",
     "text": [
      "Epoch [141/150]: 100%|████████████████████████████████████████| 1483/1483 [00:48<00:00, 30.87batch/s, Batch Loss=0.303]\n"
     ]
    },
    {
     "name": "stdout",
     "output_type": "stream",
     "text": [
      "Epoch [141/150], Training Loss: 0.3585, Accuracy: 0.8959\n"
     ]
    },
    {
     "name": "stderr",
     "output_type": "stream",
     "text": [
      "Epoch [142/150]: 100%|████████████████████████████████████████| 1483/1483 [00:47<00:00, 31.36batch/s, Batch Loss=0.629]\n"
     ]
    },
    {
     "name": "stdout",
     "output_type": "stream",
     "text": [
      "Epoch [142/150], Training Loss: 0.3583, Accuracy: 0.8957\n"
     ]
    },
    {
     "name": "stderr",
     "output_type": "stream",
     "text": [
      "Epoch [143/150]: 100%|█████████████████████████████████████████| 1483/1483 [00:49<00:00, 30.25batch/s, Batch Loss=1.03]\n"
     ]
    },
    {
     "name": "stdout",
     "output_type": "stream",
     "text": [
      "Epoch [143/150], Training Loss: 0.3597, Accuracy: 0.8937\n"
     ]
    },
    {
     "name": "stderr",
     "output_type": "stream",
     "text": [
      "Epoch [144/150]: 100%|████████████████████████████████████████| 1483/1483 [00:48<00:00, 30.86batch/s, Batch Loss=0.253]\n"
     ]
    },
    {
     "name": "stdout",
     "output_type": "stream",
     "text": [
      "Epoch [144/150], Training Loss: 0.3497, Accuracy: 0.8981\n"
     ]
    },
    {
     "name": "stderr",
     "output_type": "stream",
     "text": [
      "Epoch [145/150]: 100%|███████████████████████████████████████| 1483/1483 [00:48<00:00, 30.40batch/s, Batch Loss=0.0681]\n"
     ]
    },
    {
     "name": "stdout",
     "output_type": "stream",
     "text": [
      "Epoch [145/150], Training Loss: 0.3437, Accuracy: 0.8991\n"
     ]
    },
    {
     "name": "stderr",
     "output_type": "stream",
     "text": [
      "Epoch [146/150]: 100%|████████████████████████████████████████| 1483/1483 [00:46<00:00, 31.58batch/s, Batch Loss=0.111]\n"
     ]
    },
    {
     "name": "stdout",
     "output_type": "stream",
     "text": [
      "Epoch [146/150], Training Loss: 0.3482, Accuracy: 0.8971\n"
     ]
    },
    {
     "name": "stderr",
     "output_type": "stream",
     "text": [
      "Epoch [147/150]: 100%|████████████████████████████████████████| 1483/1483 [00:47<00:00, 31.12batch/s, Batch Loss=0.765]\n"
     ]
    },
    {
     "name": "stdout",
     "output_type": "stream",
     "text": [
      "Epoch [147/150], Training Loss: 0.3507, Accuracy: 0.8962\n"
     ]
    },
    {
     "name": "stderr",
     "output_type": "stream",
     "text": [
      "Epoch [148/150]: 100%|█████████████████████████████████████████| 1483/1483 [00:48<00:00, 30.77batch/s, Batch Loss=0.56]\n"
     ]
    },
    {
     "name": "stdout",
     "output_type": "stream",
     "text": [
      "Epoch [148/150], Training Loss: 0.3411, Accuracy: 0.8995\n"
     ]
    },
    {
     "name": "stderr",
     "output_type": "stream",
     "text": [
      "Epoch [149/150]: 100%|████████████████████████████████████████| 1483/1483 [00:48<00:00, 30.46batch/s, Batch Loss=0.167]\n"
     ]
    },
    {
     "name": "stdout",
     "output_type": "stream",
     "text": [
      "Epoch [149/150], Training Loss: 0.3518, Accuracy: 0.8978\n"
     ]
    },
    {
     "name": "stderr",
     "output_type": "stream",
     "text": [
      "Epoch [150/150]: 100%|████████████████████████████████████████| 1483/1483 [00:51<00:00, 28.76batch/s, Batch Loss=0.264]\n"
     ]
    },
    {
     "name": "stdout",
     "output_type": "stream",
     "text": [
      "Epoch [150/150], Training Loss: 0.3479, Accuracy: 0.8983\n",
      "Final model saved as 'uet4rec64_beauty_model_final.pth'.\n",
      "Training Completed.\n"
     ]
    }
   ],
   "source": [
    "import torch\n",
    "import torch.optim as optim\n",
    "from tqdm import tqdm\n",
    "import numpy as np\n",
    "\n",
    "device = torch.device(\"cuda\" if torch.cuda.is_available() else \"cpu\")\n",
    "print(\"Using device:\", device)\n",
    "\n",
    "criterion = torch.nn.CrossEntropyLoss()\n",
    "\n",
    "optimizer = optim.Adam(model.parameters(), lr=0.001, betas=(0.9, 0.999))\n",
    "\n",
    "def clip_gradients(model, clip_value):\n",
    "    for param in model.parameters():\n",
    "        if param.grad is not None:\n",
    "            param.grad.data.clamp_(-clip_value, clip_value)\n",
    "\n",
    "num_epochs = 150\n",
    "save_interval = 20\n",
    "\n",
    "def adjust_learning_rate(optimizer, epoch, warmup_epochs=10, warmup_lr=0.005, main_lr=0.001):\n",
    "    if epoch < warmup_epochs:\n",
    "        lr = warmup_lr\n",
    "    else:\n",
    "        lr = main_lr\n",
    "    for param_group in optimizer.param_groups:\n",
    "        param_group['lr'] = lr\n",
    "\n",
    "def calculate_metrics(model, val_loader, ks=[5, 10, 20]):\n",
    "    model.eval()\n",
    "    total_hr = {k: 0 for k in ks}\n",
    "    total_ndcg = {k: 0 for k in ks}\n",
    "    total_samples = 0\n",
    "\n",
    "    with torch.no_grad():\n",
    "        for batch_inputs, batch_targets in val_loader:\n",
    "            batch_inputs, batch_targets = batch_inputs.to(device), batch_targets.to(device)\n",
    "\n",
    "            outputs = model(batch_inputs)\n",
    "            _, top_k_indices = torch.topk(outputs, k=max(ks), dim=1)\n",
    "\n",
    "            for i in range(batch_targets.size(0)):\n",
    "                target = batch_targets[i].item()\n",
    "                predictions = top_k_indices[i].cpu().numpy()\n",
    "\n",
    "                for k in ks:\n",
    "                    top_k_preds = predictions[:k]\n",
    "\n",
    "                    if target in top_k_preds:\n",
    "                        total_hr[k] += 1\n",
    "\n",
    "                    if target in top_k_preds:\n",
    "                        rank = np.where(top_k_preds == target)[0][0] + 1\n",
    "                        total_ndcg[k] += 1 / np.log2(rank + 1)\n",
    "\n",
    "            total_samples += batch_targets.size(0)\n",
    "\n",
    "    hr = {k: total_hr[k] / total_samples for k in ks}\n",
    "    ndcg = {k: total_ndcg[k] / total_samples for k in ks}\n",
    "\n",
    "    return hr, ndcg\n",
    "\n",
    "print(\"Starting Training...\")\n",
    "for epoch in range(num_epochs):\n",
    "    model.train()\n",
    "    total_loss = 0.0\n",
    "    correct_predictions = 0\n",
    "    total_predictions = 0\n",
    "\n",
    "    adjust_learning_rate(optimizer, epoch, warmup_epochs=10, warmup_lr=0.005, main_lr=0.001)\n",
    "\n",
    "    with tqdm(train_loader, desc=f\"Epoch [{epoch+1}/{num_epochs}]\", unit=\"batch\") as progress_bar:\n",
    "        for batch_idx, (batch_inputs, batch_targets) in enumerate(progress_bar):\n",
    "            batch_inputs = batch_inputs.to(device)\n",
    "            batch_targets = batch_targets.to(device)\n",
    "\n",
    "            optimizer.zero_grad()\n",
    "\n",
    "            outputs = model(batch_inputs)\n",
    "\n",
    "            loss = criterion(outputs, batch_targets)\n",
    "\n",
    "            loss.backward()\n",
    "\n",
    "            clip_gradients(model, clip_value=1.0)\n",
    "\n",
    "            optimizer.step()\n",
    "\n",
    "            total_loss += loss.item()\n",
    "\n",
    "            _, predicted = torch.max(outputs, dim=1)\n",
    "            correct_predictions += (predicted == batch_targets).sum().item()\n",
    "            total_predictions += batch_targets.size(0)\n",
    "\n",
    "            progress_bar.set_postfix({\"Batch Loss\": loss.item()})\n",
    "\n",
    "    avg_loss = total_loss / len(train_loader)\n",
    "    accuracy = correct_predictions / total_predictions\n",
    "    print(f\"Epoch [{epoch+1}/{num_epochs}], Training Loss: {avg_loss:.4f}, Accuracy: {accuracy:.4f}\")\n",
    "\n",
    "    if (epoch + 1) % save_interval == 0:\n",
    "        model_save_path = f\"uet4rec64_beauty_model_epoch_{epoch+1}.pth\"\n",
    "        torch.save(model.state_dict(), model_save_path)\n",
    "        print(f\"Model saved after {epoch+1} epochs at '{model_save_path}'.\")\n",
    "\n",
    "        print(\"\\nCalculating metrics...\")\n",
    "        hr, ndcg = calculate_metrics(model, val_loader, ks=[5, 10, 20])\n",
    "        for k in [5, 10, 20]:\n",
    "            print(f\"HR@{k}: {hr[k]:.4f}, NDCG@{k}: {ndcg[k]:.4f}\")\n",
    "\n",
    "final_model_path = \"uet4rec64_beauty_model_final.pth\"\n",
    "torch.save(model.state_dict(), final_model_path)\n",
    "print(f\"Final model saved as '{final_model_path}'.\")\n",
    "\n",
    "print(\"Training Completed.\")\n"
   ]
  },
  {
   "cell_type": "code",
   "execution_count": 29,
   "metadata": {
    "id": "RVEZzIb_m8Pa"
   },
   "outputs": [
    {
     "name": "stderr",
     "output_type": "stream",
     "text": [
      "C:\\Users\\npavi\\AppData\\Local\\Temp\\ipykernel_20096\\1008271148.py:1: FutureWarning: You are using `torch.load` with `weights_only=False` (the current default value), which uses the default pickle module implicitly. It is possible to construct malicious pickle data which will execute arbitrary code during unpickling (See https://github.com/pytorch/pytorch/blob/main/SECURITY.md#untrusted-models for more details). In a future release, the default value for `weights_only` will be flipped to `True`. This limits the functions that could be executed during unpickling. Arbitrary objects will no longer be allowed to be loaded via this mode unless they are explicitly allowlisted by the user via `torch.serialization.add_safe_globals`. We recommend you start setting `weights_only=True` for any use case where you don't have full control of the loaded file. Please open an issue on GitHub for any issues related to this experimental feature.\n",
      "  model.load_state_dict(torch.load(\"uet4rec64_beauty_model_final.pth\"))\n"
     ]
    },
    {
     "name": "stdout",
     "output_type": "stream",
     "text": [
      "Model loaded successfully.\n"
     ]
    },
    {
     "name": "stderr",
     "output_type": "stream",
     "text": [
      "Evaluating HR & NDCG for multiple k: 100%|███████████████████████████████████████████| 318/318 [00:04<00:00, 71.77it/s]"
     ]
    },
    {
     "name": "stdout",
     "output_type": "stream",
     "text": [
      "Hit Ratio@5: 0.0606, NDCG@5: 0.0449\n",
      "Hit Ratio@10: 0.0803, NDCG@10: 0.0512\n",
      "Hit Ratio@20: 0.1066, NDCG@20: 0.0579\n"
     ]
    },
    {
     "name": "stderr",
     "output_type": "stream",
     "text": [
      "\n"
     ]
    }
   ],
   "source": [
    "model.load_state_dict(torch.load(\"uet4rec64_beauty_model_final.pth\"))\n",
    "model.eval()\n",
    "print(\"Model loaded successfully.\")\n",
    "\n",
    "import numpy as np\n",
    "from tqdm import tqdm\n",
    "\n",
    "def evaluate_hit_ndcg_multi_k(model, test_loader, ks=[5, 10, 20]):\n",
    "\n",
    "    model.eval()\n",
    "    total_hr = {k: 0 for k in ks}\n",
    "    total_ndcg = {k: 0 for k in ks}\n",
    "    total_samples = 0\n",
    "\n",
    "    with torch.no_grad():\n",
    "        for batch_inputs, batch_targets in tqdm(test_loader, desc=\"Evaluating HR & NDCG for multiple k\"):\n",
    "            batch_inputs = batch_inputs.to(device)\n",
    "            batch_targets = batch_targets.to(device)\n",
    "            outputs = model(batch_inputs)\n",
    "            _, top_k_indices = torch.topk(outputs, k=max(ks), dim=1)\n",
    "\n",
    "            for i in range(batch_targets.size(0)):\n",
    "                target = batch_targets[i].item()\n",
    "                predictions = top_k_indices[i].cpu().numpy()\n",
    "\n",
    "                for k in ks:\n",
    "                    top_k_preds = predictions[:k]\n",
    "\n",
    "                    if target in top_k_preds:\n",
    "                        total_hr[k] += 1\n",
    "\n",
    "                    if target in top_k_preds:\n",
    "                        rank = np.where(top_k_preds == target)[0][0] + 1\n",
    "                        total_ndcg[k] += 1 / np.log2(rank + 1)\n",
    "\n",
    "            total_samples += batch_targets.size(0)\n",
    "\n",
    "    hr = {k: total_hr[k] / total_samples for k in ks}\n",
    "    ndcg = {k: total_ndcg[k] / total_samples for k in ks}\n",
    "\n",
    "    for k in ks:\n",
    "        print(f\"Hit Ratio@{k}: {hr[k]:.4f}, NDCG@{k}: {ndcg[k]:.4f}\")\n",
    "\n",
    "    return hr, ndcg\n",
    "\n",
    "ks = [5, 10, 20]\n",
    "hr, ndcg = evaluate_hit_ndcg_multi_k(model, test_loader, ks=ks)\n"
   ]
  },
  {
   "cell_type": "code",
   "execution_count": null,
   "metadata": {
    "id": "Vd0wJE_Lm8Pa"
   },
   "outputs": [],
   "source": []
  },
  {
   "cell_type": "code",
   "execution_count": null,
   "metadata": {
    "id": "TwDEqPN_m8Pa",
    "outputId": "19c95cf3-9428-42d9-eb5a-66d5ed174e54"
   },
   "outputs": [],
   "source": []
  },
  {
   "cell_type": "code",
   "execution_count": null,
   "metadata": {
    "execution": {
     "iopub.execute_input": "2024-12-29T18:05:52.500151Z",
     "iopub.status.busy": "2024-12-29T18:05:52.499848Z",
     "iopub.status.idle": "2024-12-29T18:05:52.952902Z",
     "shell.execute_reply": "2024-12-29T18:05:52.951901Z",
     "shell.execute_reply.started": "2024-12-29T18:05:52.500129Z"
    },
    "id": "9mvcT_Ewm8Pa",
    "outputId": "32c1fe6f-7f2e-4f34-bf51-e69dbe4a63ac"
   },
   "outputs": [
    {
     "data": {
      "image/png": "[encoded data removed]",
      "text/plain": [
       "<Figure size 1000x500 with 2 Axes>"
      ]
     },
     "metadata": {},
     "output_type": "display_data"
    }
   ],
   "source": [
    "import matplotlib.pyplot as plt\n",
    "\n",
    "k_values = [5, 10, 20]\n",
    "hr_values = [hr[k] for k in k_values]\n",
    "ndcg_values = [ndcg[k] for k in k_values]\n",
    "\n",
    "plt.figure(figsize=(10, 5))\n",
    "\n",
    "plt.subplot(1, 2, 1)\n",
    "plt.plot(k_values, hr_values, marker='o', label=\"HR@k\")\n",
    "plt.title(\"HR@k\")\n",
    "plt.xlabel(\"k\")\n",
    "plt.ylabel(\"Hit Ratio\")\n",
    "plt.xticks(k_values)\n",
    "plt.ylim(0, 1)\n",
    "plt.grid(True)\n",
    "plt.legend()\n",
    "\n",
    "plt.subplot(1, 2, 2)\n",
    "plt.plot(k_values, ndcg_values, marker='o', label=\"NDCG@k\")\n",
    "plt.title(\"NDCG@k\")\n",
    "plt.xlabel(\"k\")\n",
    "plt.ylabel(\"NDCG\")\n",
    "plt.xticks(k_values)\n",
    "plt.ylim(0, 1)\n",
    "plt.grid(True)\n",
    "plt.legend()\n",
    "\n",
    "plt.tight_layout()\n",
    "plt.show()\n"
   ]
  },
  {
   "cell_type": "code",
   "execution_count": null,
   "metadata": {
    "id": "xQ833YfBm8Pf"
   },
   "outputs": [],
   "source": []
  }
 ],
 "metadata": {
  "colab": {
   "name": "beauty128_100 epochs",
   "provenance": []
  },
  "kaggle": {
   "accelerator": "gpu",
   "dataSources": [
    {
     "datasetId": 6392587,
     "sourceId": 10324700,
     "sourceType": "datasetVersion"
    },
    {
     "datasetId": 6394987,
     "sourceId": 10328129,
     "sourceType": "datasetVersion"
    }
   ],
   "dockerImageVersionId": 30823,
   "isGpuEnabled": true,
   "isInternetEnabled": true,
   "language": "python",
   "sourceType": "notebook"
  },
  "kernelspec": {
   "display_name": "Python 3 (ipykernel)",
   "language": "python",
   "name": "python3"
  },
  "language_info": {
   "codemirror_mode": {
    "name": "ipython",
    "version": 3
   },
   "file_extension": ".py",
   "mimetype": "text/x-python",
   "name": "python",
   "nbconvert_exporter": "python",
   "pygments_lexer": "ipython3",
   "version": "3.12.4"
  }
 },
 "nbformat": 4,
 "nbformat_minor": 4
}
