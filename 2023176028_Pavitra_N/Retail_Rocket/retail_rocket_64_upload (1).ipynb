{
 "cells": [
  {
   "cell_type": "code",
   "execution_count": 1,
   "id": "8ed0e962-ff22-4329-bdcf-305a56d922af",
   "metadata": {},
   "outputs": [],
   "source": [
    "import pandas as pd\n",
    "import numpy as np\n",
    "from sklearn.preprocessing import LabelEncoder\n",
    "import torch\n",
    "from torch.utils.data import TensorDataset, DataLoader, random_split"
   ]
  },
  {
   "cell_type": "code",
   "execution_count": 2,
   "id": "8412a2e7-a662-4b07-b6f7-7bd32782fbff",
   "metadata": {},
   "outputs": [
    {
     "name": "stdout",
     "output_type": "stream",
     "text": [
      "(2756101, 5)\n"
     ]
    }
   ],
   "source": [
    "df = pd.read_csv('events.csv')\n",
    "print(f\"{df.shape}\")"
   ]
  },
  {
   "cell_type": "code",
   "execution_count": 3,
   "id": "9d10d86f-56b9-4a7e-b733-13550ef81ba6",
   "metadata": {},
   "outputs": [
    {
     "data": {
      "text/html": [
       "<div>\n",
       "<style scoped>\n",
       "    .dataframe tbody tr th:only-of-type {\n",
       "        vertical-align: middle;\n",
       "    }\n",
       "\n",
       "    .dataframe tbody tr th {\n",
       "        vertical-align: top;\n",
       "    }\n",
       "\n",
       "    .dataframe thead th {\n",
       "        text-align: right;\n",
       "    }\n",
       "</style>\n",
       "<table border=\"1\" class=\"dataframe\">\n",
       "  <thead>\n",
       "    <tr style=\"text-align: right;\">\n",
       "      <th></th>\n",
       "      <th>timestamp</th>\n",
       "      <th>visitorid</th>\n",
       "      <th>event</th>\n",
       "      <th>itemid</th>\n",
       "      <th>transactionid</th>\n",
       "    </tr>\n",
       "  </thead>\n",
       "  <tbody>\n",
       "    <tr>\n",
       "      <th>0</th>\n",
       "      <td>1433221332117</td>\n",
       "      <td>257597</td>\n",
       "      <td>view</td>\n",
       "      <td>355908</td>\n",
       "      <td>NaN</td>\n",
       "    </tr>\n",
       "    <tr>\n",
       "      <th>1</th>\n",
       "      <td>1433224214164</td>\n",
       "      <td>992329</td>\n",
       "      <td>view</td>\n",
       "      <td>248676</td>\n",
       "      <td>NaN</td>\n",
       "    </tr>\n",
       "    <tr>\n",
       "      <th>2</th>\n",
       "      <td>1433221999827</td>\n",
       "      <td>111016</td>\n",
       "      <td>view</td>\n",
       "      <td>318965</td>\n",
       "      <td>NaN</td>\n",
       "    </tr>\n",
       "    <tr>\n",
       "      <th>3</th>\n",
       "      <td>1433221955914</td>\n",
       "      <td>483717</td>\n",
       "      <td>view</td>\n",
       "      <td>253185</td>\n",
       "      <td>NaN</td>\n",
       "    </tr>\n",
       "    <tr>\n",
       "      <th>4</th>\n",
       "      <td>1433221337106</td>\n",
       "      <td>951259</td>\n",
       "      <td>view</td>\n",
       "      <td>367447</td>\n",
       "      <td>NaN</td>\n",
       "    </tr>\n",
       "  </tbody>\n",
       "</table>\n",
       "</div>"
      ],
      "text/plain": [
       "       timestamp  visitorid event  itemid  transactionid\n",
       "0  1433221332117     257597  view  355908            NaN\n",
       "1  1433224214164     992329  view  248676            NaN\n",
       "2  1433221999827     111016  view  318965            NaN\n",
       "3  1433221955914     483717  view  253185            NaN\n",
       "4  1433221337106     951259  view  367447            NaN"
      ]
     },
     "execution_count": 3,
     "metadata": {},
     "output_type": "execute_result"
    }
   ],
   "source": [
    "df.head()"
   ]
  },
  {
   "cell_type": "code",
   "execution_count": 4,
   "id": "8941d6a4-3919-42ec-9159-34ee0e78466d",
   "metadata": {},
   "outputs": [],
   "source": [
    "df.rename(columns={'visitorid': 'UserId', 'itemid': 'ProductId', 'timestamp': 'Timestamp'}, inplace=True)\n"
   ]
  },
  {
   "cell_type": "code",
   "execution_count": 5,
   "id": "def48e3a-f223-46cd-ae48-c4740e52b0c7",
   "metadata": {},
   "outputs": [
    {
     "data": {
      "text/html": [
       "<div>\n",
       "<style scoped>\n",
       "    .dataframe tbody tr th:only-of-type {\n",
       "        vertical-align: middle;\n",
       "    }\n",
       "\n",
       "    .dataframe tbody tr th {\n",
       "        vertical-align: top;\n",
       "    }\n",
       "\n",
       "    .dataframe thead th {\n",
       "        text-align: right;\n",
       "    }\n",
       "</style>\n",
       "<table border=\"1\" class=\"dataframe\">\n",
       "  <thead>\n",
       "    <tr style=\"text-align: right;\">\n",
       "      <th></th>\n",
       "      <th>Timestamp</th>\n",
       "      <th>UserId</th>\n",
       "      <th>event</th>\n",
       "      <th>ProductId</th>\n",
       "      <th>transactionid</th>\n",
       "    </tr>\n",
       "  </thead>\n",
       "  <tbody>\n",
       "    <tr>\n",
       "      <th>0</th>\n",
       "      <td>1433221332117</td>\n",
       "      <td>257597</td>\n",
       "      <td>view</td>\n",
       "      <td>355908</td>\n",
       "      <td>NaN</td>\n",
       "    </tr>\n",
       "    <tr>\n",
       "      <th>1</th>\n",
       "      <td>1433224214164</td>\n",
       "      <td>992329</td>\n",
       "      <td>view</td>\n",
       "      <td>248676</td>\n",
       "      <td>NaN</td>\n",
       "    </tr>\n",
       "    <tr>\n",
       "      <th>2</th>\n",
       "      <td>1433221999827</td>\n",
       "      <td>111016</td>\n",
       "      <td>view</td>\n",
       "      <td>318965</td>\n",
       "      <td>NaN</td>\n",
       "    </tr>\n",
       "    <tr>\n",
       "      <th>3</th>\n",
       "      <td>1433221955914</td>\n",
       "      <td>483717</td>\n",
       "      <td>view</td>\n",
       "      <td>253185</td>\n",
       "      <td>NaN</td>\n",
       "    </tr>\n",
       "    <tr>\n",
       "      <th>4</th>\n",
       "      <td>1433221337106</td>\n",
       "      <td>951259</td>\n",
       "      <td>view</td>\n",
       "      <td>367447</td>\n",
       "      <td>NaN</td>\n",
       "    </tr>\n",
       "  </tbody>\n",
       "</table>\n",
       "</div>"
      ],
      "text/plain": [
       "       Timestamp  UserId event  ProductId  transactionid\n",
       "0  1433221332117  257597  view     355908            NaN\n",
       "1  1433224214164  992329  view     248676            NaN\n",
       "2  1433221999827  111016  view     318965            NaN\n",
       "3  1433221955914  483717  view     253185            NaN\n",
       "4  1433221337106  951259  view     367447            NaN"
      ]
     },
     "execution_count": 5,
     "metadata": {},
     "output_type": "execute_result"
    }
   ],
   "source": [
    "df = df[df['event'].isin(['view', 'addtocart', 'transaction'])]\n",
    "df.head()"
   ]
  },
  {
   "cell_type": "code",
   "execution_count": 6,
   "id": "e4afcf80-3784-4564-a0ed-f3401863f4b9",
   "metadata": {},
   "outputs": [],
   "source": [
    "reward_map = {'view': 0.2, 'addtocart': 0.5, 'transaction': 1.0}\n",
    "df['reward'] = df['event'].map(reward_map)"
   ]
  },
  {
   "cell_type": "code",
   "execution_count": 7,
   "id": "b3aba8bd-4a8b-4c3e-8ea5-62b863d84595",
   "metadata": {},
   "outputs": [
    {
     "data": {
      "text/html": [
       "<div>\n",
       "<style scoped>\n",
       "    .dataframe tbody tr th:only-of-type {\n",
       "        vertical-align: middle;\n",
       "    }\n",
       "\n",
       "    .dataframe tbody tr th {\n",
       "        vertical-align: top;\n",
       "    }\n",
       "\n",
       "    .dataframe thead th {\n",
       "        text-align: right;\n",
       "    }\n",
       "</style>\n",
       "<table border=\"1\" class=\"dataframe\">\n",
       "  <thead>\n",
       "    <tr style=\"text-align: right;\">\n",
       "      <th></th>\n",
       "      <th>Timestamp</th>\n",
       "      <th>UserId</th>\n",
       "      <th>event</th>\n",
       "      <th>ProductId</th>\n",
       "      <th>transactionid</th>\n",
       "      <th>reward</th>\n",
       "    </tr>\n",
       "  </thead>\n",
       "  <tbody>\n",
       "    <tr>\n",
       "      <th>0</th>\n",
       "      <td>2015-06-02 05:02:12.117</td>\n",
       "      <td>257597</td>\n",
       "      <td>view</td>\n",
       "      <td>355908</td>\n",
       "      <td>NaN</td>\n",
       "      <td>0.2</td>\n",
       "    </tr>\n",
       "    <tr>\n",
       "      <th>1</th>\n",
       "      <td>2015-06-02 05:50:14.164</td>\n",
       "      <td>992329</td>\n",
       "      <td>view</td>\n",
       "      <td>248676</td>\n",
       "      <td>NaN</td>\n",
       "      <td>0.2</td>\n",
       "    </tr>\n",
       "    <tr>\n",
       "      <th>2</th>\n",
       "      <td>2015-06-02 05:13:19.827</td>\n",
       "      <td>111016</td>\n",
       "      <td>view</td>\n",
       "      <td>318965</td>\n",
       "      <td>NaN</td>\n",
       "      <td>0.2</td>\n",
       "    </tr>\n",
       "    <tr>\n",
       "      <th>3</th>\n",
       "      <td>2015-06-02 05:12:35.914</td>\n",
       "      <td>483717</td>\n",
       "      <td>view</td>\n",
       "      <td>253185</td>\n",
       "      <td>NaN</td>\n",
       "      <td>0.2</td>\n",
       "    </tr>\n",
       "    <tr>\n",
       "      <th>4</th>\n",
       "      <td>2015-06-02 05:02:17.106</td>\n",
       "      <td>951259</td>\n",
       "      <td>view</td>\n",
       "      <td>367447</td>\n",
       "      <td>NaN</td>\n",
       "      <td>0.2</td>\n",
       "    </tr>\n",
       "  </tbody>\n",
       "</table>\n",
       "</div>"
      ],
      "text/plain": [
       "                Timestamp  UserId event  ProductId  transactionid  reward\n",
       "0 2015-06-02 05:02:12.117  257597  view     355908            NaN     0.2\n",
       "1 2015-06-02 05:50:14.164  992329  view     248676            NaN     0.2\n",
       "2 2015-06-02 05:13:19.827  111016  view     318965            NaN     0.2\n",
       "3 2015-06-02 05:12:35.914  483717  view     253185            NaN     0.2\n",
       "4 2015-06-02 05:02:17.106  951259  view     367447            NaN     0.2"
      ]
     },
     "execution_count": 7,
     "metadata": {},
     "output_type": "execute_result"
    }
   ],
   "source": [
    "df['Timestamp'] = pd.to_datetime(df['Timestamp'], unit='ms')\n",
    "df.head()"
   ]
  },
  {
   "cell_type": "code",
   "execution_count": 8,
   "id": "25c168da-adb5-4108-80e5-3d08369032ca",
   "metadata": {},
   "outputs": [
    {
     "name": "stdout",
     "output_type": "stream",
     "text": [
      "Data after filtering: (833702, 6)\n"
     ]
    }
   ],
   "source": [
    "user_counts = df['UserId'].value_counts()\n",
    "frequent_users = user_counts[user_counts >= 6].index\n",
    "df = df[df['UserId'].isin(frequent_users)]\n",
    "print(f\"Data after filtering: {df.shape}\")"
   ]
  },
  {
   "cell_type": "code",
   "execution_count": 9,
   "id": "5d33f961-e1f8-4af2-b43d-0037592be83c",
   "metadata": {},
   "outputs": [
    {
     "name": "stdout",
     "output_type": "stream",
     "text": [
      "Data after filtering: (707162, 6)\n"
     ]
    }
   ],
   "source": [
    "item_counts = df['ProductId'].value_counts()\n",
    "frequent_items = item_counts[item_counts >= 6].index\n",
    "df = df[df['ProductId'].isin(frequent_items)]\n",
    "print(f\"Data after filtering: {df.shape}\")"
   ]
  },
  {
   "cell_type": "code",
   "execution_count": 10,
   "id": "644df271-08ed-437d-b2ea-80ee6fcca2c6",
   "metadata": {},
   "outputs": [],
   "source": [
    "user_encoder = LabelEncoder()\n",
    "df['UserId'] = user_encoder.fit_transform(df['UserId']) + 1"
   ]
  },
  {
   "cell_type": "code",
   "execution_count": 11,
   "id": "85d5c195-7695-47c6-af1d-c55c003f9d87",
   "metadata": {},
   "outputs": [],
   "source": [
    "item_encoder = LabelEncoder()\n",
    "df['ProductId'] = item_encoder.fit_transform(df['ProductId']) + 1"
   ]
  },
  {
   "cell_type": "code",
   "execution_count": 12,
   "id": "b99941d5-0642-48d2-9e03-9f3038997543",
   "metadata": {},
   "outputs": [
    {
     "name": "stdout",
     "output_type": "stream",
     "text": [
      "Total number of items (including padding index): 31228\n"
     ]
    }
   ],
   "source": [
    "num_items = df['ProductId'].max() + 1  \n",
    "print(f\"Total number of items (including padding index): {num_items}\")"
   ]
  },
  {
   "cell_type": "code",
   "execution_count": 13,
   "id": "81ef1767-b0ed-41e8-98f5-7db7cd562710",
   "metadata": {},
   "outputs": [
    {
     "data": {
      "text/html": [
       "<div>\n",
       "<style scoped>\n",
       "    .dataframe tbody tr th:only-of-type {\n",
       "        vertical-align: middle;\n",
       "    }\n",
       "\n",
       "    .dataframe tbody tr th {\n",
       "        vertical-align: top;\n",
       "    }\n",
       "\n",
       "    .dataframe thead th {\n",
       "        text-align: right;\n",
       "    }\n",
       "</style>\n",
       "<table border=\"1\" class=\"dataframe\">\n",
       "  <thead>\n",
       "    <tr style=\"text-align: right;\">\n",
       "      <th></th>\n",
       "      <th>Timestamp</th>\n",
       "      <th>UserId</th>\n",
       "      <th>event</th>\n",
       "      <th>ProductId</th>\n",
       "      <th>transactionid</th>\n",
       "      <th>reward</th>\n",
       "    </tr>\n",
       "  </thead>\n",
       "  <tbody>\n",
       "    <tr>\n",
       "      <th>0</th>\n",
       "      <td>2015-08-07 17:51:44.567</td>\n",
       "      <td>1</td>\n",
       "      <td>view</td>\n",
       "      <td>21761</td>\n",
       "      <td>NaN</td>\n",
       "      <td>0.2</td>\n",
       "    </tr>\n",
       "    <tr>\n",
       "      <th>1</th>\n",
       "      <td>2015-08-07 17:53:33.790</td>\n",
       "      <td>1</td>\n",
       "      <td>view</td>\n",
       "      <td>21761</td>\n",
       "      <td>NaN</td>\n",
       "      <td>0.2</td>\n",
       "    </tr>\n",
       "    <tr>\n",
       "      <th>2</th>\n",
       "      <td>2015-08-07 17:56:52.664</td>\n",
       "      <td>1</td>\n",
       "      <td>view</td>\n",
       "      <td>17456</td>\n",
       "      <td>NaN</td>\n",
       "      <td>0.2</td>\n",
       "    </tr>\n",
       "    <tr>\n",
       "      <th>3</th>\n",
       "      <td>2015-08-07 18:01:08.920</td>\n",
       "      <td>1</td>\n",
       "      <td>view</td>\n",
       "      <td>14493</td>\n",
       "      <td>NaN</td>\n",
       "      <td>0.2</td>\n",
       "    </tr>\n",
       "    <tr>\n",
       "      <th>4</th>\n",
       "      <td>2015-08-07 18:08:25.669</td>\n",
       "      <td>1</td>\n",
       "      <td>view</td>\n",
       "      <td>22900</td>\n",
       "      <td>NaN</td>\n",
       "      <td>0.2</td>\n",
       "    </tr>\n",
       "  </tbody>\n",
       "</table>\n",
       "</div>"
      ],
      "text/plain": [
       "                Timestamp  UserId event  ProductId  transactionid  reward\n",
       "0 2015-08-07 17:51:44.567       1  view      21761            NaN     0.2\n",
       "1 2015-08-07 17:53:33.790       1  view      21761            NaN     0.2\n",
       "2 2015-08-07 17:56:52.664       1  view      17456            NaN     0.2\n",
       "3 2015-08-07 18:01:08.920       1  view      14493            NaN     0.2\n",
       "4 2015-08-07 18:08:25.669       1  view      22900            NaN     0.2"
      ]
     },
     "execution_count": 13,
     "metadata": {},
     "output_type": "execute_result"
    }
   ],
   "source": [
    "df = df.sort_values(['UserId', 'Timestamp']).reset_index(drop=True)\n",
    "df.head()"
   ]
  },
  {
   "cell_type": "code",
   "execution_count": 14,
   "id": "25c34029-0d6a-405b-86bf-8bdce9176239",
   "metadata": {},
   "outputs": [
    {
     "name": "stdout",
     "output_type": "stream",
     "text": [
      "No UserId entry has been assigned the value 0.\n",
      "No ProductIdProductId entry has been assigned the value 0.\n"
     ]
    }
   ],
   "source": [
    "if (df['UserId'] == 0).any():\n",
    "    print(\"The encoder assigned 0 as a value for some UserIdUserId entries.\")\n",
    "else:\n",
    "    print(\"No UserId entry has been assigned the value 0.\")\n",
    "\n",
    "if (df['ProductId'] == 0).any():\n",
    "    print(\"The encoder assigned 0 as a value for some ProductId entries.\")\n",
    "else:\n",
    "    print(\"No ProductIdProductId entry has been assigned the value 0.\")\n",
    "\n"
   ]
  },
  {
   "cell_type": "code",
   "execution_count": 15,
   "id": "8fa2e36c-7d72-434e-b8cc-392dd8aa5ad9",
   "metadata": {},
   "outputs": [],
   "source": [
    "user_sequences = df.groupby('UserId')['ProductId'].apply(list).values\n"
   ]
  },
  {
   "cell_type": "code",
   "execution_count": 16,
   "id": "ef0e0380-6870-425f-9276-c5abc3f83db8",
   "metadata": {},
   "outputs": [],
   "source": [
    "def generate_sequences(sequence, window_size=10):\n",
    "    if len(sequence) < window_size:\n",
    "        sequence = [0] * (window_size - len(sequence)) + sequence  # Pad shorter sequences\n",
    "    return [sequence[i:i + window_size] for i in range(len(sequence) - window_size + 1)]"
   ]
  },
  {
   "cell_type": "code",
   "execution_count": 17,
   "id": "8eea3ee6-1a5f-4eb8-98e9-cfb58be8b6fa",
   "metadata": {},
   "outputs": [],
   "source": [
    "all_sequences = []\n",
    "for seq in user_sequences:\n",
    "    all_sequences.extend(generate_sequences(seq))"
   ]
  },
  {
   "cell_type": "code",
   "execution_count": 18,
   "id": "21f7b854-d92b-495e-85d5-51e651164f15",
   "metadata": {},
   "outputs": [],
   "source": [
    "all_sequences = torch.tensor(all_sequences, dtype=torch.long)\n",
    "inputs = all_sequences[:, :-1]  \n",
    "targets = all_sequences[:, -1]  "
   ]
  },
  {
   "cell_type": "code",
   "execution_count": 19,
   "id": "537d0927-fd47-4f4d-b33a-e297b2091308",
   "metadata": {},
   "outputs": [
    {
     "name": "stdout",
     "output_type": "stream",
     "text": [
      "tensor([[    0,     0, 21761, 21761, 17456, 14493, 22900, 22900, 14493, 21761],\n",
      "        [    0,     0,     0,     0,  4299, 17001, 23009, 23009, 23009, 23009],\n",
      "        [    0,     0,     0, 11248, 11248, 11248, 11248, 11248, 11248, 11248],\n",
      "        [    0,     0,     0,     0,     0,     0, 13291, 28742, 13291,  3297],\n",
      "        [    0, 18993,  2553, 21410, 18993, 21410, 29604, 29604, 16722,  2553]])\n"
     ]
    }
   ],
   "source": [
    "print(all_sequences[:5])"
   ]
  },
  {
   "cell_type": "code",
   "execution_count": 20,
   "id": "6f9111d6-8c71-4af6-9e5c-5b5707e71857",
   "metadata": {},
   "outputs": [
    {
     "name": "stdout",
     "output_type": "stream",
     "text": [
      "Inputs shape: torch.Size([341868, 9]), Targets shape: torch.Size([341868])\n"
     ]
    }
   ],
   "source": [
    "print(f\"Inputs shape: {inputs.shape}, Targets shape: {targets.shape}\")\n"
   ]
  },
  {
   "cell_type": "code",
   "execution_count": null,
   "id": "e8295788-2e58-4faa-ba36-5722f7fb7ef7",
   "metadata": {},
   "outputs": [],
   "source": []
  },
  {
   "cell_type": "code",
   "execution_count": 21,
   "id": "330844f2-7325-4520-b1d4-3cf239523659",
   "metadata": {},
   "outputs": [
    {
     "name": "stdout",
     "output_type": "stream",
     "text": [
      "Max target value: 31227, Expected range: [0, 31227]\n",
      "Min target value: 1\n"
     ]
    }
   ],
   "source": [
    "print(f\"Max target value: {targets.max().item()}, Expected range: [0, {num_items - 1}]\")\n",
    "print(f\"Min target value: {targets.min().item()}\")\n"
   ]
  },
  {
   "cell_type": "code",
   "execution_count": 22,
   "id": "df84447c-104a-45b9-9f2a-6c54cc7ec71b",
   "metadata": {},
   "outputs": [
    {
     "name": "stdout",
     "output_type": "stream",
     "text": [
      "Train size: 239307\n",
      "Validation size: 51280\n",
      "Test size: 51281\n",
      "Batch Inputs Shape: torch.Size([256, 9]), Batch Targets Shape: torch.Size([256])\n",
      "Example Inputs: tensor([ 3819,  5894, 23969,  6924, 27564, 24431, 23541,  1849,  3819])\n",
      "Example Target: 22700\n"
     ]
    }
   ],
   "source": [
    "dataset = TensorDataset(inputs, targets)\n",
    "\n",
    "total_size = len(dataset)\n",
    "train_size = int(0.7 * total_size)\n",
    "val_size = int(0.15 * total_size)\n",
    "test_size = total_size - train_size - val_size\n",
    "\n",
    "train_dataset, val_dataset, test_dataset = random_split(dataset, [train_size, val_size, test_size])\n",
    "\n",
    "batch_size = 256\n",
    "train_loader = DataLoader(train_dataset, batch_size=batch_size, shuffle=True)\n",
    "val_loader = DataLoader(val_dataset, batch_size=batch_size, shuffle=False)\n",
    "test_loader = DataLoader(test_dataset, batch_size=batch_size, shuffle=False)\n",
    "\n",
    "print(f\"Train size: {len(train_loader.dataset)}\")\n",
    "print(f\"Validation size: {len(val_loader.dataset)}\")\n",
    "print(f\"Test size: {len(test_loader.dataset)}\")\n",
    "for batch_inputs, batch_targets in train_loader:\n",
    "    print(f\"Batch Inputs Shape: {batch_inputs.shape}, Batch Targets Shape: {batch_targets.shape}\")\n",
    "    print(f\"Example Inputs: {batch_inputs[0]}\")\n",
    "    print(f\"Example Target: {batch_targets[0]}\")\n",
    "    break"
   ]
  },
  {
   "cell_type": "code",
   "execution_count": 23,
   "id": "d3c9094c-adbb-42fe-8c44-771af6bbd5dc",
   "metadata": {},
   "outputs": [
    {
     "name": "stdout",
     "output_type": "stream",
     "text": [
      "UET4Rec(\n",
      "  (item_embedding): Embedding(31228, 64, padding_idx=0)\n",
      "  (position_embedding): Embedding(9, 64)\n",
      "  (encoder1): Sequential(\n",
      "    (0): Conv1d(64, 32, kernel_size=(5,), stride=(1,), padding=(2,))\n",
      "    (1): BatchNorm1d(32, eps=1e-05, momentum=0.1, affine=True, track_running_stats=True)\n",
      "    (2): LeakyReLU(negative_slope=0.1)\n",
      "    (3): Dropout(p=0.7, inplace=False)\n",
      "  )\n",
      "  (encoder2): Sequential(\n",
      "    (0): Conv1d(32, 16, kernel_size=(5,), stride=(1,), padding=(2,))\n",
      "    (1): BatchNorm1d(16, eps=1e-05, momentum=0.1, affine=True, track_running_stats=True)\n",
      "    (2): LeakyReLU(negative_slope=0.1)\n",
      "    (3): Dropout(p=0.7, inplace=False)\n",
      "  )\n",
      "  (encoder3): Sequential(\n",
      "    (0): Conv1d(16, 8, kernel_size=(5,), stride=(1,), padding=(2,))\n",
      "  )\n",
      "  (transformer): ModuleList(\n",
      "    (0-2): 3 x CustomTransformerEncoderLayer(\n",
      "      (msa): MultiHeadSelfAttention(\n",
      "        (query): Linear(in_features=8, out_features=8, bias=True)\n",
      "        (key): Linear(in_features=8, out_features=8, bias=True)\n",
      "        (value): Linear(in_features=8, out_features=8, bias=True)\n",
      "        (out): Linear(in_features=8, out_features=8, bias=True)\n",
      "        (dropout): Dropout(p=0.7, inplace=False)\n",
      "      )\n",
      "      (ffn): PointWiseFeedForward(\n",
      "        (linear1): Linear(in_features=8, out_features=256, bias=True)\n",
      "        (dropout): Dropout(p=0.7, inplace=False)\n",
      "        (linear2): Linear(in_features=256, out_features=8, bias=True)\n",
      "      )\n",
      "      (norm1): LayerNorm((8,), eps=1e-05, elementwise_affine=True)\n",
      "      (norm2): LayerNorm((8,), eps=1e-05, elementwise_affine=True)\n",
      "      (dropout): Dropout(p=0.7, inplace=False)\n",
      "    )\n",
      "  )\n",
      "  (decoder1): Sequential(\n",
      "    (0): Conv1d(8, 16, kernel_size=(5,), stride=(1,), padding=(2,))\n",
      "    (1): BatchNorm1d(16, eps=1e-05, momentum=0.1, affine=True, track_running_stats=True)\n",
      "    (2): LeakyReLU(negative_slope=0.1)\n",
      "    (3): Dropout(p=0.7, inplace=False)\n",
      "  )\n",
      "  (decoder2): Sequential(\n",
      "    (0): Conv1d(16, 32, kernel_size=(5,), stride=(1,), padding=(2,))\n",
      "    (1): BatchNorm1d(32, eps=1e-05, momentum=0.1, affine=True, track_running_stats=True)\n",
      "    (2): LeakyReLU(negative_slope=0.1)\n",
      "    (3): Dropout(p=0.7, inplace=False)\n",
      "  )\n",
      "  (decoder3): Sequential(\n",
      "    (0): Conv1d(32, 64, kernel_size=(5,), stride=(1,), padding=(2,))\n",
      "  )\n",
      "  (ma): ModelAugmentation(\n",
      "    (ffn): Sequential(\n",
      "      (0): Linear(in_features=64, out_features=64, bias=True)\n",
      "      (1): GELU(approximate='none')\n",
      "      (2): Dropout(p=0.7, inplace=False)\n",
      "      (3): Linear(in_features=64, out_features=64, bias=True)\n",
      "    )\n",
      "    (norm): LayerNorm((64,), eps=1e-05, elementwise_affine=True)\n",
      "  )\n",
      "  (fc): Linear(in_features=64, out_features=31228, bias=True)\n",
      ")\n"
     ]
    }
   ],
   "source": [
    "import torch\n",
    "import torch.nn as nn\n",
    "import torch.nn.functional as F\n",
    "\n",
    "class MultiHeadSelfAttention(nn.Module):\n",
    "    def __init__(self, embedding_dim, num_heads, dropout=0.1):\n",
    "        super(MultiHeadSelfAttention, self).__init__()\n",
    "        self.num_heads = num_heads\n",
    "        self.head_dim = embedding_dim // num_heads\n",
    "\n",
    "        assert embedding_dim % num_heads == 0, \"Embedding dimension must be divisible by number of heads\"\n",
    "\n",
    "        self.query = nn.Linear(embedding_dim, embedding_dim)\n",
    "        self.key = nn.Linear(embedding_dim, embedding_dim)\n",
    "        self.value = nn.Linear(embedding_dim, embedding_dim)\n",
    "\n",
    "        self.out = nn.Linear(embedding_dim, embedding_dim)\n",
    "        self.dropout = nn.Dropout(dropout)\n",
    "\n",
    "    def forward(self, x):\n",
    "        B, N, E = x.size()  \n",
    "\n",
    "        Q = self.query(x).view(B, N, self.num_heads, self.head_dim).transpose(1, 2)\n",
    "        K = self.key(x).view(B, N, self.num_heads, self.head_dim).transpose(1, 2)\n",
    "        V = self.value(x).view(B, N, self.num_heads, self.head_dim).transpose(1, 2)\n",
    "\n",
    "        scores = torch.matmul(Q, K.transpose(-2, -1)) / (self.head_dim ** 0.5)\n",
    "        attn = F.softmax(scores, dim=-1)\n",
    "        attn = self.dropout(attn)\n",
    "\n",
    "        output = torch.matmul(attn, V)\n",
    "        output = output.transpose(1, 2).contiguous().view(B, N, E)\n",
    "\n",
    "        return self.out(output)\n",
    "\n",
    "class PointWiseFeedForward(nn.Module):\n",
    "    def __init__(self, embedding_dim, ff_dim, dropout=0.1):\n",
    "        super(PointWiseFeedForward, self).__init__()\n",
    "        self.linear1 = nn.Linear(embedding_dim, ff_dim)\n",
    "        self.dropout = nn.Dropout(dropout)\n",
    "        self.linear2 = nn.Linear(ff_dim, embedding_dim)\n",
    "\n",
    "    def forward(self, x):\n",
    "        x = self.dropout(F.relu(self.linear1(x)))\n",
    "        return self.linear2(x)\n",
    "\n",
    "class CustomTransformerEncoderLayer(nn.Module):\n",
    "    def __init__(self, embedding_dim, num_heads, ff_dim, dropout=0.1):\n",
    "        super(CustomTransformerEncoderLayer, self).__init__()\n",
    "        self.msa = MultiHeadSelfAttention(embedding_dim, num_heads, dropout)\n",
    "        self.ffn = PointWiseFeedForward(embedding_dim, ff_dim, dropout)\n",
    "\n",
    "        self.norm1 = nn.LayerNorm(embedding_dim)\n",
    "        self.norm2 = nn.LayerNorm(embedding_dim)\n",
    "        self.dropout = nn.Dropout(dropout)\n",
    "\n",
    "    def forward(self, x):\n",
    "        x = x + self.dropout(self.msa(self.norm1(x)))\n",
    "        x = x + self.dropout(self.ffn(self.norm2(x)))\n",
    "        return x\n",
    "\n",
    "class ModelAugmentation(nn.Module):\n",
    "    def __init__(self, embedding_dim, dropout=0.1):\n",
    "        super(ModelAugmentation, self).__init__()\n",
    "        self.ffn = nn.Sequential(\n",
    "            nn.Linear(embedding_dim, embedding_dim),\n",
    "            nn.GELU(),\n",
    "            nn.Dropout(dropout),\n",
    "            nn.Linear(embedding_dim, embedding_dim)\n",
    "        )\n",
    "        self.norm = nn.LayerNorm(embedding_dim)\n",
    "\n",
    "    def forward(self, x):\n",
    "        return self.norm(self.ffn(x) + x)\n",
    "\n",
    "class UET4Rec(nn.Module):\n",
    "    def __init__(self, num_items, embedding_dim=128, nhead=2, max_len=9, dropout=0.2, ff_dim=256):\n",
    "        super(UET4Rec, self).__init__()\n",
    "\n",
    "        self.item_embedding = nn.Embedding(num_items, embedding_dim, padding_idx=0)\n",
    "\n",
    "        self.position_embedding = nn.Embedding(max_len, embedding_dim)\n",
    "\n",
    "        self.encoder1 = nn.Sequential(\n",
    "            nn.Conv1d(embedding_dim, embedding_dim // 2, kernel_size=5, padding=2),\n",
    "            nn.BatchNorm1d(embedding_dim // 2),\n",
    "            nn.LeakyReLU(0.1),\n",
    "            nn.Dropout(dropout)\n",
    "        )\n",
    "\n",
    "        self.encoder2 = nn.Sequential(\n",
    "            nn.Conv1d(embedding_dim // 2, embedding_dim // 4, kernel_size=5, padding=2),\n",
    "            nn.BatchNorm1d(embedding_dim // 4),\n",
    "            nn.LeakyReLU(0.1),\n",
    "            nn.Dropout(dropout)\n",
    "        )\n",
    "\n",
    "        self.encoder3 = nn.Sequential(\n",
    "            nn.Conv1d(embedding_dim // 4, embedding_dim // 8, kernel_size=5, padding=2)\n",
    "        )\n",
    "\n",
    "        self.transformer = nn.ModuleList([\n",
    "            CustomTransformerEncoderLayer(embedding_dim // 8, nhead, ff_dim, dropout) for _ in range(3)\n",
    "        ])\n",
    "\n",
    "        self.decoder1 = nn.Sequential(\n",
    "            nn.Conv1d(embedding_dim // 8, embedding_dim // 4, kernel_size=5, padding=2),\n",
    "            nn.BatchNorm1d(embedding_dim // 4),\n",
    "            nn.LeakyReLU(0.1),\n",
    "            nn.Dropout(dropout)\n",
    "        )\n",
    "\n",
    "        self.decoder2 = nn.Sequential(\n",
    "            nn.Conv1d(embedding_dim // 4, embedding_dim // 2, kernel_size=5, padding=2),\n",
    "            nn.BatchNorm1d(embedding_dim // 2),\n",
    "            nn.LeakyReLU(0.1),\n",
    "            nn.Dropout(dropout)\n",
    "        )\n",
    "\n",
    "        self.decoder3 = nn.Sequential(\n",
    "            nn.Conv1d(embedding_dim // 2, embedding_dim, kernel_size=5, padding=2)\n",
    "        )\n",
    "\n",
    "        self.ma = ModelAugmentation(embedding_dim, dropout)\n",
    "\n",
    "        self.fc = nn.Linear(embedding_dim, num_items)\n",
    "\n",
    "    def forward(self, x):\n",
    "        batch_size, seq_len = x.size()\n",
    "\n",
    "        positions = torch.arange(0, seq_len).unsqueeze(0).repeat(batch_size, 1).to(x.device)\n",
    "        x = self.item_embedding(x) + self.position_embedding(positions)\n",
    "\n",
    "        x = x.permute(0, 2, 1)  \n",
    "        enc1 = self.encoder1(x)\n",
    "        enc2 = self.encoder2(enc1)\n",
    "        enc3 = self.encoder3(enc2)\n",
    "\n",
    "        x = enc3.permute(0, 2, 1)  \n",
    "        for layer in self.transformer:\n",
    "            x = layer(x)\n",
    "        x = x.permute(0, 2, 1)  \n",
    "\n",
    "        dec1 = self.decoder1(x + enc3)  \n",
    "        dec2 = self.decoder2(dec1 + enc2)  \n",
    "        dec3 = self.decoder3(dec2 + enc1)  \n",
    "\n",
    "        x = dec3[:, :, -1]  \n",
    "        x = self.ma(x)  \n",
    "        out = self.fc(x)  \n",
    "\n",
    "        return out\n",
    "embedding_dim = 64\n",
    "nhead = 2\n",
    "ff_dim = 256\n",
    "dropout = 0.7\n",
    "max_len = 9\n",
    "\n",
    "model = UET4Rec(\n",
    "    num_items=num_items,\n",
    "    embedding_dim=embedding_dim,\n",
    "    nhead=nhead,\n",
    "    max_len=max_len,\n",
    "    dropout=dropout,\n",
    "    ff_dim=ff_dim\n",
    ")\n",
    "\n",
    "device = torch.device(\"cuda\" if torch.cuda.is_available() else \"cpu\")\n",
    "model.to(device)\n",
    "\n",
    "print(model)"
   ]
  },
  {
   "cell_type": "code",
   "execution_count": null,
   "id": "aa2c536f-98a2-4827-be51-4f5b837c5b4a",
   "metadata": {},
   "outputs": [
    {
     "name": "stdout",
     "output_type": "stream",
     "text": [
      "Using device: cuda\n",
      "Starting Training...\n"
     ]
    },
    {
     "name": "stderr",
     "output_type": "stream",
     "text": [
      "Epoch [1/1000]: 100%|██████████| 935/935 [00:15<00:00, 60.65batch/s, Batch Loss=10]  \n"
     ]
    },
    {
     "name": "stdout",
     "output_type": "stream",
     "text": [
      "Epoch [1/1000], Training Loss: 10.0274, Accuracy: 0.0021\n"
     ]
    },
    {
     "name": "stderr",
     "output_type": "stream",
     "text": [
      "Epoch [2/1000]: 100%|██████████| 935/935 [00:14<00:00, 65.50batch/s, Batch Loss=9.27]\n"
     ]
    },
    {
     "name": "stdout",
     "output_type": "stream",
     "text": [
      "Epoch [2/1000], Training Loss: 9.6034, Accuracy: 0.0098\n"
     ]
    },
    {
     "name": "stderr",
     "output_type": "stream",
     "text": [
      "Epoch [3/1000]: 100%|██████████| 935/935 [00:14<00:00, 65.95batch/s, Batch Loss=8.6] \n"
     ]
    },
    {
     "name": "stdout",
     "output_type": "stream",
     "text": [
      "Epoch [3/1000], Training Loss: 8.9946, Accuracy: 0.0355\n"
     ]
    },
    {
     "name": "stderr",
     "output_type": "stream",
     "text": [
      "Epoch [4/1000]: 100%|██████████| 935/935 [00:14<00:00, 66.00batch/s, Batch Loss=8.21]\n"
     ]
    },
    {
     "name": "stdout",
     "output_type": "stream",
     "text": [
      "Epoch [4/1000], Training Loss: 8.4839, Accuracy: 0.0580\n"
     ]
    },
    {
     "name": "stderr",
     "output_type": "stream",
     "text": [
      "Epoch [5/1000]: 100%|██████████| 935/935 [00:14<00:00, 65.72batch/s, Batch Loss=7.98]\n"
     ]
    },
    {
     "name": "stdout",
     "output_type": "stream",
     "text": [
      "Epoch [5/1000], Training Loss: 8.1092, Accuracy: 0.0731\n"
     ]
    },
    {
     "name": "stderr",
     "output_type": "stream",
     "text": [
      "Epoch [6/1000]: 100%|██████████| 935/935 [00:14<00:00, 65.00batch/s, Batch Loss=8.15]\n"
     ]
    },
    {
     "name": "stdout",
     "output_type": "stream",
     "text": [
      "Epoch [6/1000], Training Loss: 7.8189, Accuracy: 0.0839\n"
     ]
    },
    {
     "name": "stderr",
     "output_type": "stream",
     "text": [
      "Epoch [7/1000]: 100%|██████████| 935/935 [00:14<00:00, 65.92batch/s, Batch Loss=7.63]\n"
     ]
    },
    {
     "name": "stdout",
     "output_type": "stream",
     "text": [
      "Epoch [7/1000], Training Loss: 7.5752, Accuracy: 0.0937\n"
     ]
    },
    {
     "name": "stderr",
     "output_type": "stream",
     "text": [
      "Epoch [8/1000]: 100%|██████████| 935/935 [00:14<00:00, 66.63batch/s, Batch Loss=7.59]\n"
     ]
    },
    {
     "name": "stdout",
     "output_type": "stream",
     "text": [
      "Epoch [8/1000], Training Loss: 7.3740, Accuracy: 0.1021\n"
     ]
    },
    {
     "name": "stderr",
     "output_type": "stream",
     "text": [
      "Epoch [9/1000]: 100%|██████████| 935/935 [00:14<00:00, 66.46batch/s, Batch Loss=7.64]\n"
     ]
    },
    {
     "name": "stdout",
     "output_type": "stream",
     "text": [
      "Epoch [9/1000], Training Loss: 7.1910, Accuracy: 0.1089\n"
     ]
    },
    {
     "name": "stderr",
     "output_type": "stream",
     "text": [
      "Epoch [10/1000]: 100%|██████████| 935/935 [00:14<00:00, 64.98batch/s, Batch Loss=7.03]\n"
     ]
    },
    {
     "name": "stdout",
     "output_type": "stream",
     "text": [
      "Epoch [10/1000], Training Loss: 7.0380, Accuracy: 0.1150\n"
     ]
    },
    {
     "name": "stderr",
     "output_type": "stream",
     "text": [
      "Epoch [11/1000]: 100%|██████████| 935/935 [00:14<00:00, 66.35batch/s, Batch Loss=7.02]\n"
     ]
    },
    {
     "name": "stdout",
     "output_type": "stream",
     "text": [
      "Epoch [11/1000], Training Loss: 6.8928, Accuracy: 0.1207\n"
     ]
    },
    {
     "name": "stderr",
     "output_type": "stream",
     "text": [
      "Epoch [12/1000]: 100%|██████████| 935/935 [00:13<00:00, 67.44batch/s, Batch Loss=7.37]\n"
     ]
    },
    {
     "name": "stdout",
     "output_type": "stream",
     "text": [
      "Epoch [12/1000], Training Loss: 6.7653, Accuracy: 0.1255\n"
     ]
    },
    {
     "name": "stderr",
     "output_type": "stream",
     "text": [
      "Epoch [13/1000]: 100%|██████████| 935/935 [00:14<00:00, 66.15batch/s, Batch Loss=6.71]\n"
     ]
    },
    {
     "name": "stdout",
     "output_type": "stream",
     "text": [
      "Epoch [13/1000], Training Loss: 6.6443, Accuracy: 0.1315\n"
     ]
    },
    {
     "name": "stderr",
     "output_type": "stream",
     "text": [
      "Epoch [14/1000]: 100%|██████████| 935/935 [00:14<00:00, 65.55batch/s, Batch Loss=6.66]\n"
     ]
    },
    {
     "name": "stdout",
     "output_type": "stream",
     "text": [
      "Epoch [14/1000], Training Loss: 6.5337, Accuracy: 0.1342\n"
     ]
    },
    {
     "name": "stderr",
     "output_type": "stream",
     "text": [
      "Epoch [15/1000]: 100%|██████████| 935/935 [00:13<00:00, 67.13batch/s, Batch Loss=6.89]\n"
     ]
    },
    {
     "name": "stdout",
     "output_type": "stream",
     "text": [
      "Epoch [15/1000], Training Loss: 6.4357, Accuracy: 0.1388\n"
     ]
    },
    {
     "name": "stderr",
     "output_type": "stream",
     "text": [
      "Epoch [16/1000]: 100%|██████████| 935/935 [00:14<00:00, 66.34batch/s, Batch Loss=6.76]\n"
     ]
    },
    {
     "name": "stdout",
     "output_type": "stream",
     "text": [
      "Epoch [16/1000], Training Loss: 6.3403, Accuracy: 0.1423\n"
     ]
    },
    {
     "name": "stderr",
     "output_type": "stream",
     "text": [
      "Epoch [17/1000]: 100%|██████████| 935/935 [00:14<00:00, 65.71batch/s, Batch Loss=6.22]\n"
     ]
    },
    {
     "name": "stdout",
     "output_type": "stream",
     "text": [
      "Epoch [17/1000], Training Loss: 6.2602, Accuracy: 0.1455\n"
     ]
    },
    {
     "name": "stderr",
     "output_type": "stream",
     "text": [
      "Epoch [18/1000]: 100%|██████████| 935/935 [00:14<00:00, 66.30batch/s, Batch Loss=6.21]\n"
     ]
    },
    {
     "name": "stdout",
     "output_type": "stream",
     "text": [
      "Epoch [18/1000], Training Loss: 6.1764, Accuracy: 0.1487\n"
     ]
    },
    {
     "name": "stderr",
     "output_type": "stream",
     "text": [
      "Epoch [19/1000]: 100%|██████████| 935/935 [00:14<00:00, 65.38batch/s, Batch Loss=6.14]\n"
     ]
    },
    {
     "name": "stdout",
     "output_type": "stream",
     "text": [
      "Epoch [19/1000], Training Loss: 6.0989, Accuracy: 0.1537\n"
     ]
    },
    {
     "name": "stderr",
     "output_type": "stream",
     "text": [
      "Epoch [20/1000]: 100%|██████████| 935/935 [00:14<00:00, 65.50batch/s, Batch Loss=5.87]\n"
     ]
    },
    {
     "name": "stdout",
     "output_type": "stream",
     "text": [
      "Epoch [20/1000], Training Loss: 6.0362, Accuracy: 0.1562\n"
     ]
    },
    {
     "name": "stderr",
     "output_type": "stream",
     "text": [
      "Epoch [21/1000]: 100%|██████████| 935/935 [00:14<00:00, 65.76batch/s, Batch Loss=5.93]\n"
     ]
    },
    {
     "name": "stdout",
     "output_type": "stream",
     "text": [
      "Epoch [21/1000], Training Loss: 5.9604, Accuracy: 0.1589\n"
     ]
    },
    {
     "name": "stderr",
     "output_type": "stream",
     "text": [
      "Epoch [22/1000]: 100%|██████████| 935/935 [00:14<00:00, 66.13batch/s, Batch Loss=6.16]\n"
     ]
    },
    {
     "name": "stdout",
     "output_type": "stream",
     "text": [
      "Epoch [22/1000], Training Loss: 5.9052, Accuracy: 0.1622\n"
     ]
    },
    {
     "name": "stderr",
     "output_type": "stream",
     "text": [
      "Epoch [23/1000]: 100%|██████████| 935/935 [00:14<00:00, 65.88batch/s, Batch Loss=6.05]\n"
     ]
    },
    {
     "name": "stdout",
     "output_type": "stream",
     "text": [
      "Epoch [23/1000], Training Loss: 5.8455, Accuracy: 0.1635\n"
     ]
    },
    {
     "name": "stderr",
     "output_type": "stream",
     "text": [
      "Epoch [24/1000]: 100%|██████████| 935/935 [00:14<00:00, 65.39batch/s, Batch Loss=6.11]\n"
     ]
    },
    {
     "name": "stdout",
     "output_type": "stream",
     "text": [
      "Epoch [24/1000], Training Loss: 5.7897, Accuracy: 0.1666\n"
     ]
    },
    {
     "name": "stderr",
     "output_type": "stream",
     "text": [
      "Epoch [25/1000]: 100%|██████████| 935/935 [00:14<00:00, 66.18batch/s, Batch Loss=6.14]\n"
     ]
    },
    {
     "name": "stdout",
     "output_type": "stream",
     "text": [
      "Epoch [25/1000], Training Loss: 5.7436, Accuracy: 0.1696\n"
     ]
    },
    {
     "name": "stderr",
     "output_type": "stream",
     "text": [
      "Epoch [26/1000]: 100%|██████████| 935/935 [00:14<00:00, 65.71batch/s, Batch Loss=5.78]\n"
     ]
    },
    {
     "name": "stdout",
     "output_type": "stream",
     "text": [
      "Epoch [26/1000], Training Loss: 5.6881, Accuracy: 0.1722\n"
     ]
    },
    {
     "name": "stderr",
     "output_type": "stream",
     "text": [
      "Epoch [27/1000]: 100%|██████████| 935/935 [00:14<00:00, 66.12batch/s, Batch Loss=5.87]\n"
     ]
    },
    {
     "name": "stdout",
     "output_type": "stream",
     "text": [
      "Epoch [27/1000], Training Loss: 5.6410, Accuracy: 0.1739\n"
     ]
    },
    {
     "name": "stderr",
     "output_type": "stream",
     "text": [
      "Epoch [28/1000]: 100%|██████████| 935/935 [00:14<00:00, 65.52batch/s, Batch Loss=5.83]\n"
     ]
    },
    {
     "name": "stdout",
     "output_type": "stream",
     "text": [
      "Epoch [28/1000], Training Loss: 5.6027, Accuracy: 0.1768\n"
     ]
    },
    {
     "name": "stderr",
     "output_type": "stream",
     "text": [
      "Epoch [29/1000]: 100%|██████████| 935/935 [00:14<00:00, 66.04batch/s, Batch Loss=5.57]\n"
     ]
    },
    {
     "name": "stdout",
     "output_type": "stream",
     "text": [
      "Epoch [29/1000], Training Loss: 5.5529, Accuracy: 0.1785\n"
     ]
    },
    {
     "name": "stderr",
     "output_type": "stream",
     "text": [
      "Epoch [30/1000]: 100%|██████████| 935/935 [00:14<00:00, 65.68batch/s, Batch Loss=5.42]\n"
     ]
    },
    {
     "name": "stdout",
     "output_type": "stream",
     "text": [
      "Epoch [30/1000], Training Loss: 5.5201, Accuracy: 0.1796\n"
     ]
    },
    {
     "name": "stderr",
     "output_type": "stream",
     "text": [
      "Epoch [31/1000]: 100%|██████████| 935/935 [00:14<00:00, 65.16batch/s, Batch Loss=5.75]\n"
     ]
    },
    {
     "name": "stdout",
     "output_type": "stream",
     "text": [
      "Epoch [31/1000], Training Loss: 5.4828, Accuracy: 0.1822\n"
     ]
    },
    {
     "name": "stderr",
     "output_type": "stream",
     "text": [
      "Epoch [32/1000]: 100%|██████████| 935/935 [00:14<00:00, 66.40batch/s, Batch Loss=5.54]\n"
     ]
    },
    {
     "name": "stdout",
     "output_type": "stream",
     "text": [
      "Epoch [32/1000], Training Loss: 5.4440, Accuracy: 0.1835\n"
     ]
    },
    {
     "name": "stderr",
     "output_type": "stream",
     "text": [
      "Epoch [33/1000]: 100%|██████████| 935/935 [00:13<00:00, 67.07batch/s, Batch Loss=5.34]\n"
     ]
    },
    {
     "name": "stdout",
     "output_type": "stream",
     "text": [
      "Epoch [33/1000], Training Loss: 5.4100, Accuracy: 0.1857\n"
     ]
    },
    {
     "name": "stderr",
     "output_type": "stream",
     "text": [
      "Epoch [34/1000]: 100%|██████████| 935/935 [00:14<00:00, 65.81batch/s, Batch Loss=5.85]\n"
     ]
    },
    {
     "name": "stdout",
     "output_type": "stream",
     "text": [
      "Epoch [34/1000], Training Loss: 5.3765, Accuracy: 0.1879\n"
     ]
    },
    {
     "name": "stderr",
     "output_type": "stream",
     "text": [
      "Epoch [35/1000]: 100%|██████████| 935/935 [00:14<00:00, 65.31batch/s, Batch Loss=5.57]\n"
     ]
    },
    {
     "name": "stdout",
     "output_type": "stream",
     "text": [
      "Epoch [35/1000], Training Loss: 5.3426, Accuracy: 0.1895\n"
     ]
    },
    {
     "name": "stderr",
     "output_type": "stream",
     "text": [
      "Epoch [36/1000]: 100%|██████████| 935/935 [00:14<00:00, 66.54batch/s, Batch Loss=5.79]\n"
     ]
    },
    {
     "name": "stdout",
     "output_type": "stream",
     "text": [
      "Epoch [36/1000], Training Loss: 5.3140, Accuracy: 0.1912\n"
     ]
    },
    {
     "name": "stderr",
     "output_type": "stream",
     "text": [
      "Epoch [37/1000]: 100%|██████████| 935/935 [00:14<00:00, 65.31batch/s, Batch Loss=5.74]\n"
     ]
    },
    {
     "name": "stdout",
     "output_type": "stream",
     "text": [
      "Epoch [37/1000], Training Loss: 5.2833, Accuracy: 0.1923\n"
     ]
    },
    {
     "name": "stderr",
     "output_type": "stream",
     "text": [
      "Epoch [38/1000]: 100%|██████████| 935/935 [00:14<00:00, 65.27batch/s, Batch Loss=5.93]\n"
     ]
    },
    {
     "name": "stdout",
     "output_type": "stream",
     "text": [
      "Epoch [38/1000], Training Loss: 5.2524, Accuracy: 0.1936\n"
     ]
    },
    {
     "name": "stderr",
     "output_type": "stream",
     "text": [
      "Epoch [39/1000]: 100%|██████████| 935/935 [00:14<00:00, 64.72batch/s, Batch Loss=5.44]\n"
     ]
    },
    {
     "name": "stdout",
     "output_type": "stream",
     "text": [
      "Epoch [39/1000], Training Loss: 5.2208, Accuracy: 0.1966\n"
     ]
    },
    {
     "name": "stderr",
     "output_type": "stream",
     "text": [
      "Epoch [40/1000]: 100%|██████████| 935/935 [00:14<00:00, 64.77batch/s, Batch Loss=5.33]\n"
     ]
    },
    {
     "name": "stdout",
     "output_type": "stream",
     "text": [
      "Epoch [40/1000], Training Loss: 5.1950, Accuracy: 0.1991\n"
     ]
    },
    {
     "name": "stderr",
     "output_type": "stream",
     "text": [
      "Epoch [41/1000]: 100%|██████████| 935/935 [00:14<00:00, 64.44batch/s, Batch Loss=5.6] \n"
     ]
    },
    {
     "name": "stdout",
     "output_type": "stream",
     "text": [
      "Epoch [41/1000], Training Loss: 5.1671, Accuracy: 0.1990\n"
     ]
    },
    {
     "name": "stderr",
     "output_type": "stream",
     "text": [
      "Epoch [42/1000]: 100%|██████████| 935/935 [00:14<00:00, 64.55batch/s, Batch Loss=5.01]\n"
     ]
    },
    {
     "name": "stdout",
     "output_type": "stream",
     "text": [
      "Epoch [42/1000], Training Loss: 5.1460, Accuracy: 0.2014\n"
     ]
    },
    {
     "name": "stderr",
     "output_type": "stream",
     "text": [
      "Epoch [43/1000]: 100%|██████████| 935/935 [00:14<00:00, 65.30batch/s, Batch Loss=5.12]\n"
     ]
    },
    {
     "name": "stdout",
     "output_type": "stream",
     "text": [
      "Epoch [43/1000], Training Loss: 5.1208, Accuracy: 0.2024\n"
     ]
    },
    {
     "name": "stderr",
     "output_type": "stream",
     "text": [
      "Epoch [44/1000]: 100%|██████████| 935/935 [00:14<00:00, 64.99batch/s, Batch Loss=5.14]\n"
     ]
    },
    {
     "name": "stdout",
     "output_type": "stream",
     "text": [
      "Epoch [44/1000], Training Loss: 5.0951, Accuracy: 0.2032\n"
     ]
    },
    {
     "name": "stderr",
     "output_type": "stream",
     "text": [
      "Epoch [45/1000]: 100%|██████████| 935/935 [00:14<00:00, 64.20batch/s, Batch Loss=5.2] \n"
     ]
    },
    {
     "name": "stdout",
     "output_type": "stream",
     "text": [
      "Epoch [45/1000], Training Loss: 5.0712, Accuracy: 0.2054\n"
     ]
    },
    {
     "name": "stderr",
     "output_type": "stream",
     "text": [
      "Epoch [46/1000]: 100%|██████████| 935/935 [00:14<00:00, 64.17batch/s, Batch Loss=4.86]\n"
     ]
    },
    {
     "name": "stdout",
     "output_type": "stream",
     "text": [
      "Epoch [46/1000], Training Loss: 5.0560, Accuracy: 0.2049\n"
     ]
    },
    {
     "name": "stderr",
     "output_type": "stream",
     "text": [
      "Epoch [47/1000]: 100%|██████████| 935/935 [00:14<00:00, 64.69batch/s, Batch Loss=5.32]\n"
     ]
    },
    {
     "name": "stdout",
     "output_type": "stream",
     "text": [
      "Epoch [47/1000], Training Loss: 5.0263, Accuracy: 0.2079\n"
     ]
    },
    {
     "name": "stderr",
     "output_type": "stream",
     "text": [
      "Epoch [48/1000]: 100%|██████████| 935/935 [00:14<00:00, 64.53batch/s, Batch Loss=4.98]\n"
     ]
    },
    {
     "name": "stdout",
     "output_type": "stream",
     "text": [
      "Epoch [48/1000], Training Loss: 5.0048, Accuracy: 0.2097\n"
     ]
    },
    {
     "name": "stderr",
     "output_type": "stream",
     "text": [
      "Epoch [49/1000]: 100%|██████████| 935/935 [00:14<00:00, 64.46batch/s, Batch Loss=5.09]\n"
     ]
    },
    {
     "name": "stdout",
     "output_type": "stream",
     "text": [
      "Epoch [49/1000], Training Loss: 4.9860, Accuracy: 0.2109\n"
     ]
    },
    {
     "name": "stderr",
     "output_type": "stream",
     "text": [
      "Epoch [50/1000]: 100%|██████████| 935/935 [00:14<00:00, 64.70batch/s, Batch Loss=4.86]\n"
     ]
    },
    {
     "name": "stdout",
     "output_type": "stream",
     "text": [
      "Epoch [50/1000], Training Loss: 4.9673, Accuracy: 0.2114\n",
      "\n",
      "Evaluating on validation set...\n"
     ]
    },
    {
     "name": "stderr",
     "output_type": "stream",
     "text": [
      "Evaluating HR & NDCG for multiple k: 100%|██████████| 201/201 [00:05<00:00, 38.46it/s]\n"
     ]
    },
    {
     "name": "stdout",
     "output_type": "stream",
     "text": [
      "Validation HR@5: 0.3506, NDCG@5: 0.2867\n",
      "Validation HR@10: 0.3976, NDCG@10: 0.3020\n",
      "Validation HR@20: 0.4440, NDCG@20: 0.3137\n",
      "Model saved at 'uet4rec64_rr_model_epoch_50.pth'\n"
     ]
    },
    {
     "name": "stderr",
     "output_type": "stream",
     "text": [
      "Epoch [51/1000]: 100%|██████████| 935/935 [00:14<00:00, 66.06batch/s, Batch Loss=5]   \n"
     ]
    },
    {
     "name": "stdout",
     "output_type": "stream",
     "text": [
      "Epoch [51/1000], Training Loss: 4.9468, Accuracy: 0.2129\n"
     ]
    },
    {
     "name": "stderr",
     "output_type": "stream",
     "text": [
      "Epoch [52/1000]: 100%|██████████| 935/935 [00:14<00:00, 64.18batch/s, Batch Loss=5.16]\n"
     ]
    },
    {
     "name": "stdout",
     "output_type": "stream",
     "text": [
      "Epoch [52/1000], Training Loss: 4.9278, Accuracy: 0.2140\n"
     ]
    },
    {
     "name": "stderr",
     "output_type": "stream",
     "text": [
      "Epoch [53/1000]: 100%|██████████| 935/935 [00:14<00:00, 65.46batch/s, Batch Loss=4.75]\n"
     ]
    },
    {
     "name": "stdout",
     "output_type": "stream",
     "text": [
      "Epoch [53/1000], Training Loss: 4.9134, Accuracy: 0.2145\n"
     ]
    },
    {
     "name": "stderr",
     "output_type": "stream",
     "text": [
      "Epoch [54/1000]: 100%|██████████| 935/935 [00:14<00:00, 65.31batch/s, Batch Loss=5.38]\n"
     ]
    },
    {
     "name": "stdout",
     "output_type": "stream",
     "text": [
      "Epoch [54/1000], Training Loss: 4.8951, Accuracy: 0.2165\n"
     ]
    },
    {
     "name": "stderr",
     "output_type": "stream",
     "text": [
      "Epoch [55/1000]: 100%|██████████| 935/935 [00:14<00:00, 66.32batch/s, Batch Loss=5.19]\n"
     ]
    },
    {
     "name": "stdout",
     "output_type": "stream",
     "text": [
      "Epoch [55/1000], Training Loss: 4.8799, Accuracy: 0.2176\n"
     ]
    },
    {
     "name": "stderr",
     "output_type": "stream",
     "text": [
      "Epoch [56/1000]: 100%|██████████| 935/935 [00:14<00:00, 65.64batch/s, Batch Loss=5.28]\n"
     ]
    },
    {
     "name": "stdout",
     "output_type": "stream",
     "text": [
      "Epoch [56/1000], Training Loss: 4.8616, Accuracy: 0.2190\n"
     ]
    },
    {
     "name": "stderr",
     "output_type": "stream",
     "text": [
      "Epoch [57/1000]: 100%|██████████| 935/935 [00:14<00:00, 66.48batch/s, Batch Loss=4.6] \n"
     ]
    },
    {
     "name": "stdout",
     "output_type": "stream",
     "text": [
      "Epoch [57/1000], Training Loss: 4.8405, Accuracy: 0.2202\n"
     ]
    },
    {
     "name": "stderr",
     "output_type": "stream",
     "text": [
      "Epoch [58/1000]: 100%|██████████| 935/935 [00:14<00:00, 65.96batch/s, Batch Loss=4.88]\n"
     ]
    },
    {
     "name": "stdout",
     "output_type": "stream",
     "text": [
      "Epoch [58/1000], Training Loss: 4.8283, Accuracy: 0.2196\n"
     ]
    },
    {
     "name": "stderr",
     "output_type": "stream",
     "text": [
      "Epoch [59/1000]: 100%|██████████| 935/935 [00:14<00:00, 64.71batch/s, Batch Loss=4.93]\n"
     ]
    },
    {
     "name": "stdout",
     "output_type": "stream",
     "text": [
      "Epoch [59/1000], Training Loss: 4.8142, Accuracy: 0.2214\n"
     ]
    },
    {
     "name": "stderr",
     "output_type": "stream",
     "text": [
      "Epoch [60/1000]: 100%|██████████| 935/935 [00:14<00:00, 64.42batch/s, Batch Loss=5.16]\n"
     ]
    },
    {
     "name": "stdout",
     "output_type": "stream",
     "text": [
      "Epoch [60/1000], Training Loss: 4.7997, Accuracy: 0.2231\n"
     ]
    },
    {
     "name": "stderr",
     "output_type": "stream",
     "text": [
      "Epoch [61/1000]: 100%|██████████| 935/935 [00:14<00:00, 64.88batch/s, Batch Loss=4.83]\n"
     ]
    },
    {
     "name": "stdout",
     "output_type": "stream",
     "text": [
      "Epoch [61/1000], Training Loss: 4.7838, Accuracy: 0.2236\n"
     ]
    },
    {
     "name": "stderr",
     "output_type": "stream",
     "text": [
      "Epoch [62/1000]: 100%|██████████| 935/935 [00:14<00:00, 66.27batch/s, Batch Loss=4.65]\n"
     ]
    },
    {
     "name": "stdout",
     "output_type": "stream",
     "text": [
      "Epoch [62/1000], Training Loss: 4.7657, Accuracy: 0.2249\n"
     ]
    },
    {
     "name": "stderr",
     "output_type": "stream",
     "text": [
      "Epoch [63/1000]: 100%|██████████| 935/935 [00:14<00:00, 65.22batch/s, Batch Loss=5.2] \n"
     ]
    },
    {
     "name": "stdout",
     "output_type": "stream",
     "text": [
      "Epoch [63/1000], Training Loss: 4.7568, Accuracy: 0.2251\n"
     ]
    },
    {
     "name": "stderr",
     "output_type": "stream",
     "text": [
      "Epoch [64/1000]: 100%|██████████| 935/935 [00:14<00:00, 65.22batch/s, Batch Loss=4.93]\n"
     ]
    },
    {
     "name": "stdout",
     "output_type": "stream",
     "text": [
      "Epoch [64/1000], Training Loss: 4.7392, Accuracy: 0.2263\n"
     ]
    },
    {
     "name": "stderr",
     "output_type": "stream",
     "text": [
      "Epoch [65/1000]: 100%|██████████| 935/935 [00:14<00:00, 66.35batch/s, Batch Loss=4.81]\n"
     ]
    },
    {
     "name": "stdout",
     "output_type": "stream",
     "text": [
      "Epoch [65/1000], Training Loss: 4.7262, Accuracy: 0.2273\n"
     ]
    },
    {
     "name": "stderr",
     "output_type": "stream",
     "text": [
      "Epoch [66/1000]: 100%|██████████| 935/935 [00:14<00:00, 65.52batch/s, Batch Loss=4.66]\n"
     ]
    },
    {
     "name": "stdout",
     "output_type": "stream",
     "text": [
      "Epoch [66/1000], Training Loss: 4.7141, Accuracy: 0.2285\n"
     ]
    },
    {
     "name": "stderr",
     "output_type": "stream",
     "text": [
      "Epoch [67/1000]: 100%|██████████| 935/935 [00:14<00:00, 66.39batch/s, Batch Loss=4.93]\n"
     ]
    },
    {
     "name": "stdout",
     "output_type": "stream",
     "text": [
      "Epoch [67/1000], Training Loss: 4.7017, Accuracy: 0.2287\n"
     ]
    },
    {
     "name": "stderr",
     "output_type": "stream",
     "text": [
      "Epoch [68/1000]: 100%|██████████| 935/935 [00:14<00:00, 66.41batch/s, Batch Loss=4.73]\n"
     ]
    },
    {
     "name": "stdout",
     "output_type": "stream",
     "text": [
      "Epoch [68/1000], Training Loss: 4.6867, Accuracy: 0.2295\n"
     ]
    },
    {
     "name": "stderr",
     "output_type": "stream",
     "text": [
      "Epoch [69/1000]: 100%|██████████| 935/935 [00:14<00:00, 65.81batch/s, Batch Loss=5.22]\n"
     ]
    },
    {
     "name": "stdout",
     "output_type": "stream",
     "text": [
      "Epoch [69/1000], Training Loss: 4.6695, Accuracy: 0.2317\n"
     ]
    },
    {
     "name": "stderr",
     "output_type": "stream",
     "text": [
      "Epoch [70/1000]: 100%|██████████| 935/935 [00:14<00:00, 65.45batch/s, Batch Loss=4.81]\n"
     ]
    },
    {
     "name": "stdout",
     "output_type": "stream",
     "text": [
      "Epoch [70/1000], Training Loss: 4.6575, Accuracy: 0.2321\n"
     ]
    },
    {
     "name": "stderr",
     "output_type": "stream",
     "text": [
      "Epoch [71/1000]: 100%|██████████| 935/935 [00:14<00:00, 65.71batch/s, Batch Loss=5.15]\n"
     ]
    },
    {
     "name": "stdout",
     "output_type": "stream",
     "text": [
      "Epoch [71/1000], Training Loss: 4.6492, Accuracy: 0.2323\n"
     ]
    },
    {
     "name": "stderr",
     "output_type": "stream",
     "text": [
      "Epoch [72/1000]: 100%|██████████| 935/935 [00:14<00:00, 66.44batch/s, Batch Loss=4.93]\n"
     ]
    },
    {
     "name": "stdout",
     "output_type": "stream",
     "text": [
      "Epoch [72/1000], Training Loss: 4.6380, Accuracy: 0.2334\n"
     ]
    },
    {
     "name": "stderr",
     "output_type": "stream",
     "text": [
      "Epoch [73/1000]: 100%|██████████| 935/935 [00:14<00:00, 66.73batch/s, Batch Loss=4.6] \n"
     ]
    },
    {
     "name": "stdout",
     "output_type": "stream",
     "text": [
      "Epoch [73/1000], Training Loss: 4.6249, Accuracy: 0.2340\n"
     ]
    },
    {
     "name": "stderr",
     "output_type": "stream",
     "text": [
      "Epoch [74/1000]: 100%|██████████| 935/935 [00:14<00:00, 66.07batch/s, Batch Loss=4.44]\n"
     ]
    },
    {
     "name": "stdout",
     "output_type": "stream",
     "text": [
      "Epoch [74/1000], Training Loss: 4.6133, Accuracy: 0.2341\n"
     ]
    },
    {
     "name": "stderr",
     "output_type": "stream",
     "text": [
      "Epoch [75/1000]: 100%|██████████| 935/935 [00:14<00:00, 66.19batch/s, Batch Loss=4.64]\n"
     ]
    },
    {
     "name": "stdout",
     "output_type": "stream",
     "text": [
      "Epoch [75/1000], Training Loss: 4.6047, Accuracy: 0.2366\n"
     ]
    },
    {
     "name": "stderr",
     "output_type": "stream",
     "text": [
      "Epoch [76/1000]: 100%|██████████| 935/935 [00:14<00:00, 66.10batch/s, Batch Loss=4.39]\n"
     ]
    },
    {
     "name": "stdout",
     "output_type": "stream",
     "text": [
      "Epoch [76/1000], Training Loss: 4.5907, Accuracy: 0.2367\n"
     ]
    },
    {
     "name": "stderr",
     "output_type": "stream",
     "text": [
      "Epoch [77/1000]: 100%|██████████| 935/935 [00:14<00:00, 66.41batch/s, Batch Loss=4.45]\n"
     ]
    },
    {
     "name": "stdout",
     "output_type": "stream",
     "text": [
      "Epoch [77/1000], Training Loss: 4.5753, Accuracy: 0.2382\n"
     ]
    },
    {
     "name": "stderr",
     "output_type": "stream",
     "text": [
      "Epoch [78/1000]: 100%|██████████| 935/935 [00:14<00:00, 66.37batch/s, Batch Loss=4.47]\n"
     ]
    },
    {
     "name": "stdout",
     "output_type": "stream",
     "text": [
      "Epoch [78/1000], Training Loss: 4.5668, Accuracy: 0.2381\n"
     ]
    },
    {
     "name": "stderr",
     "output_type": "stream",
     "text": [
      "Epoch [79/1000]: 100%|██████████| 935/935 [00:13<00:00, 66.84batch/s, Batch Loss=4.55]\n"
     ]
    },
    {
     "name": "stdout",
     "output_type": "stream",
     "text": [
      "Epoch [79/1000], Training Loss: 4.5594, Accuracy: 0.2394\n"
     ]
    },
    {
     "name": "stderr",
     "output_type": "stream",
     "text": [
      "Epoch [80/1000]: 100%|██████████| 935/935 [00:13<00:00, 67.54batch/s, Batch Loss=4.2] \n"
     ]
    },
    {
     "name": "stdout",
     "output_type": "stream",
     "text": [
      "Epoch [80/1000], Training Loss: 4.5469, Accuracy: 0.2400\n"
     ]
    },
    {
     "name": "stderr",
     "output_type": "stream",
     "text": [
      "Epoch [81/1000]: 100%|██████████| 935/935 [00:14<00:00, 66.21batch/s, Batch Loss=4.69]\n"
     ]
    },
    {
     "name": "stdout",
     "output_type": "stream",
     "text": [
      "Epoch [81/1000], Training Loss: 4.5434, Accuracy: 0.2397\n"
     ]
    },
    {
     "name": "stderr",
     "output_type": "stream",
     "text": [
      "Epoch [82/1000]: 100%|██████████| 935/935 [00:14<00:00, 66.53batch/s, Batch Loss=4.81]\n"
     ]
    },
    {
     "name": "stdout",
     "output_type": "stream",
     "text": [
      "Epoch [82/1000], Training Loss: 4.5250, Accuracy: 0.2417\n"
     ]
    },
    {
     "name": "stderr",
     "output_type": "stream",
     "text": [
      "Epoch [83/1000]: 100%|██████████| 935/935 [00:13<00:00, 67.05batch/s, Batch Loss=4.57]\n"
     ]
    },
    {
     "name": "stdout",
     "output_type": "stream",
     "text": [
      "Epoch [83/1000], Training Loss: 4.5159, Accuracy: 0.2418\n"
     ]
    },
    {
     "name": "stderr",
     "output_type": "stream",
     "text": [
      "Epoch [84/1000]: 100%|██████████| 935/935 [00:14<00:00, 65.21batch/s, Batch Loss=4.53]\n"
     ]
    },
    {
     "name": "stdout",
     "output_type": "stream",
     "text": [
      "Epoch [84/1000], Training Loss: 4.5066, Accuracy: 0.2437\n"
     ]
    },
    {
     "name": "stderr",
     "output_type": "stream",
     "text": [
      "Epoch [85/1000]: 100%|██████████| 935/935 [00:14<00:00, 65.98batch/s, Batch Loss=4.73]\n"
     ]
    },
    {
     "name": "stdout",
     "output_type": "stream",
     "text": [
      "Epoch [85/1000], Training Loss: 4.5010, Accuracy: 0.2451\n"
     ]
    },
    {
     "name": "stderr",
     "output_type": "stream",
     "text": [
      "Epoch [86/1000]: 100%|██████████| 935/935 [00:14<00:00, 65.98batch/s, Batch Loss=4.77]\n"
     ]
    },
    {
     "name": "stdout",
     "output_type": "stream",
     "text": [
      "Epoch [86/1000], Training Loss: 4.4888, Accuracy: 0.2455\n"
     ]
    },
    {
     "name": "stderr",
     "output_type": "stream",
     "text": [
      "Epoch [87/1000]: 100%|██████████| 935/935 [00:14<00:00, 66.40batch/s, Batch Loss=4.48]\n"
     ]
    },
    {
     "name": "stdout",
     "output_type": "stream",
     "text": [
      "Epoch [87/1000], Training Loss: 4.4760, Accuracy: 0.2458\n"
     ]
    },
    {
     "name": "stderr",
     "output_type": "stream",
     "text": [
      "Epoch [88/1000]: 100%|██████████| 935/935 [00:13<00:00, 67.05batch/s, Batch Loss=4.67]\n"
     ]
    },
    {
     "name": "stdout",
     "output_type": "stream",
     "text": [
      "Epoch [88/1000], Training Loss: 4.4642, Accuracy: 0.2464\n"
     ]
    },
    {
     "name": "stderr",
     "output_type": "stream",
     "text": [
      "Epoch [89/1000]: 100%|██████████| 935/935 [00:13<00:00, 66.94batch/s, Batch Loss=4.39]\n"
     ]
    },
    {
     "name": "stdout",
     "output_type": "stream",
     "text": [
      "Epoch [89/1000], Training Loss: 4.4658, Accuracy: 0.2452\n"
     ]
    },
    {
     "name": "stderr",
     "output_type": "stream",
     "text": [
      "Epoch [90/1000]: 100%|██████████| 935/935 [00:14<00:00, 66.66batch/s, Batch Loss=4.42]\n"
     ]
    },
    {
     "name": "stdout",
     "output_type": "stream",
     "text": [
      "Epoch [90/1000], Training Loss: 4.4501, Accuracy: 0.2470\n"
     ]
    },
    {
     "name": "stderr",
     "output_type": "stream",
     "text": [
      "Epoch [91/1000]: 100%|██████████| 935/935 [00:14<00:00, 66.28batch/s, Batch Loss=4.56]\n"
     ]
    },
    {
     "name": "stdout",
     "output_type": "stream",
     "text": [
      "Epoch [91/1000], Training Loss: 4.4468, Accuracy: 0.2475\n"
     ]
    },
    {
     "name": "stderr",
     "output_type": "stream",
     "text": [
      "Epoch [92/1000]: 100%|██████████| 935/935 [00:13<00:00, 67.46batch/s, Batch Loss=4.7] \n"
     ]
    },
    {
     "name": "stdout",
     "output_type": "stream",
     "text": [
      "Epoch [92/1000], Training Loss: 4.4384, Accuracy: 0.2481\n"
     ]
    },
    {
     "name": "stderr",
     "output_type": "stream",
     "text": [
      "Epoch [93/1000]: 100%|██████████| 935/935 [00:13<00:00, 66.97batch/s, Batch Loss=4.93]\n"
     ]
    },
    {
     "name": "stdout",
     "output_type": "stream",
     "text": [
      "Epoch [93/1000], Training Loss: 4.4260, Accuracy: 0.2497\n"
     ]
    },
    {
     "name": "stderr",
     "output_type": "stream",
     "text": [
      "Epoch [94/1000]: 100%|██████████| 935/935 [00:13<00:00, 66.89batch/s, Batch Loss=4.81]\n"
     ]
    },
    {
     "name": "stdout",
     "output_type": "stream",
     "text": [
      "Epoch [94/1000], Training Loss: 4.4212, Accuracy: 0.2493\n"
     ]
    },
    {
     "name": "stderr",
     "output_type": "stream",
     "text": [
      "Epoch [95/1000]: 100%|██████████| 935/935 [00:14<00:00, 66.67batch/s, Batch Loss=4.46]\n"
     ]
    },
    {
     "name": "stdout",
     "output_type": "stream",
     "text": [
      "Epoch [95/1000], Training Loss: 4.4092, Accuracy: 0.2520\n"
     ]
    },
    {
     "name": "stderr",
     "output_type": "stream",
     "text": [
      "Epoch [96/1000]: 100%|██████████| 935/935 [00:13<00:00, 67.49batch/s, Batch Loss=4.57]\n"
     ]
    },
    {
     "name": "stdout",
     "output_type": "stream",
     "text": [
      "Epoch [96/1000], Training Loss: 4.4012, Accuracy: 0.2509\n"
     ]
    },
    {
     "name": "stderr",
     "output_type": "stream",
     "text": [
      "Epoch [97/1000]: 100%|██████████| 935/935 [00:13<00:00, 67.54batch/s, Batch Loss=4.18]\n"
     ]
    },
    {
     "name": "stdout",
     "output_type": "stream",
     "text": [
      "Epoch [97/1000], Training Loss: 4.3960, Accuracy: 0.2510\n"
     ]
    },
    {
     "name": "stderr",
     "output_type": "stream",
     "text": [
      "Epoch [98/1000]: 100%|██████████| 935/935 [00:13<00:00, 67.70batch/s, Batch Loss=4.81]\n"
     ]
    },
    {
     "name": "stdout",
     "output_type": "stream",
     "text": [
      "Epoch [98/1000], Training Loss: 4.3837, Accuracy: 0.2531\n"
     ]
    },
    {
     "name": "stderr",
     "output_type": "stream",
     "text": [
      "Epoch [99/1000]: 100%|██████████| 935/935 [00:14<00:00, 66.70batch/s, Batch Loss=4.71]\n"
     ]
    },
    {
     "name": "stdout",
     "output_type": "stream",
     "text": [
      "Epoch [99/1000], Training Loss: 4.3825, Accuracy: 0.2527\n"
     ]
    },
    {
     "name": "stderr",
     "output_type": "stream",
     "text": [
      "Epoch [100/1000]: 100%|██████████| 935/935 [00:14<00:00, 66.48batch/s, Batch Loss=4.64]\n"
     ]
    },
    {
     "name": "stdout",
     "output_type": "stream",
     "text": [
      "Epoch [100/1000], Training Loss: 4.3741, Accuracy: 0.2534\n",
      "\n",
      "Evaluating on validation set...\n"
     ]
    },
    {
     "name": "stderr",
     "output_type": "stream",
     "text": [
      "Evaluating HR & NDCG for multiple k: 100%|██████████| 201/201 [00:05<00:00, 39.31it/s]\n"
     ]
    },
    {
     "name": "stdout",
     "output_type": "stream",
     "text": [
      "Validation HR@5: 0.3645, NDCG@5: 0.2992\n",
      "Validation HR@10: 0.4134, NDCG@10: 0.3150\n",
      "Validation HR@20: 0.4597, NDCG@20: 0.3268\n",
      "Model saved at 'uet4rec64_rr_model_epoch_100.pth'\n"
     ]
    },
    {
     "name": "stderr",
     "output_type": "stream",
     "text": [
      "Epoch [101/1000]: 100%|██████████| 935/935 [00:14<00:00, 66.59batch/s, Batch Loss=4.31]\n"
     ]
    },
    {
     "name": "stdout",
     "output_type": "stream",
     "text": [
      "Epoch [101/1000], Training Loss: 4.3643, Accuracy: 0.2545\n"
     ]
    },
    {
     "name": "stderr",
     "output_type": "stream",
     "text": [
      "Epoch [102/1000]: 100%|██████████| 935/935 [00:13<00:00, 67.29batch/s, Batch Loss=4.63]\n"
     ]
    },
    {
     "name": "stdout",
     "output_type": "stream",
     "text": [
      "Epoch [102/1000], Training Loss: 4.3603, Accuracy: 0.2547\n"
     ]
    },
    {
     "name": "stderr",
     "output_type": "stream",
     "text": [
      "Epoch [103/1000]: 100%|██████████| 935/935 [00:14<00:00, 66.12batch/s, Batch Loss=4.41]\n"
     ]
    },
    {
     "name": "stdout",
     "output_type": "stream",
     "text": [
      "Epoch [103/1000], Training Loss: 4.3425, Accuracy: 0.2560\n"
     ]
    },
    {
     "name": "stderr",
     "output_type": "stream",
     "text": [
      "Epoch [104/1000]: 100%|██████████| 935/935 [00:14<00:00, 66.02batch/s, Batch Loss=4.56]\n"
     ]
    },
    {
     "name": "stdout",
     "output_type": "stream",
     "text": [
      "Epoch [104/1000], Training Loss: 4.3464, Accuracy: 0.2552\n"
     ]
    },
    {
     "name": "stderr",
     "output_type": "stream",
     "text": [
      "Epoch [105/1000]: 100%|██████████| 935/935 [00:13<00:00, 66.86batch/s, Batch Loss=4.58]\n"
     ]
    },
    {
     "name": "stdout",
     "output_type": "stream",
     "text": [
      "Epoch [105/1000], Training Loss: 4.3333, Accuracy: 0.2580\n"
     ]
    },
    {
     "name": "stderr",
     "output_type": "stream",
     "text": [
      "Epoch [106/1000]: 100%|██████████| 935/935 [00:14<00:00, 66.51batch/s, Batch Loss=4.38]\n"
     ]
    },
    {
     "name": "stdout",
     "output_type": "stream",
     "text": [
      "Epoch [106/1000], Training Loss: 4.3284, Accuracy: 0.2576\n"
     ]
    },
    {
     "name": "stderr",
     "output_type": "stream",
     "text": [
      "Epoch [107/1000]: 100%|██████████| 935/935 [00:14<00:00, 65.88batch/s, Batch Loss=4.6] \n"
     ]
    },
    {
     "name": "stdout",
     "output_type": "stream",
     "text": [
      "Epoch [107/1000], Training Loss: 4.3186, Accuracy: 0.2567\n"
     ]
    },
    {
     "name": "stderr",
     "output_type": "stream",
     "text": [
      "Epoch [108/1000]: 100%|██████████| 935/935 [00:14<00:00, 66.54batch/s, Batch Loss=4.22]\n"
     ]
    },
    {
     "name": "stdout",
     "output_type": "stream",
     "text": [
      "Epoch [108/1000], Training Loss: 4.3154, Accuracy: 0.2581\n"
     ]
    },
    {
     "name": "stderr",
     "output_type": "stream",
     "text": [
      "Epoch [109/1000]: 100%|██████████| 935/935 [00:13<00:00, 67.92batch/s, Batch Loss=4.9] \n"
     ]
    },
    {
     "name": "stdout",
     "output_type": "stream",
     "text": [
      "Epoch [109/1000], Training Loss: 4.3096, Accuracy: 0.2579\n"
     ]
    },
    {
     "name": "stderr",
     "output_type": "stream",
     "text": [
      "Epoch [110/1000]: 100%|██████████| 935/935 [00:13<00:00, 66.82batch/s, Batch Loss=3.9] \n"
     ]
    },
    {
     "name": "stdout",
     "output_type": "stream",
     "text": [
      "Epoch [110/1000], Training Loss: 4.3013, Accuracy: 0.2592\n"
     ]
    },
    {
     "name": "stderr",
     "output_type": "stream",
     "text": [
      "Epoch [111/1000]: 100%|██████████| 935/935 [00:14<00:00, 66.46batch/s, Batch Loss=4.2] \n"
     ]
    },
    {
     "name": "stdout",
     "output_type": "stream",
     "text": [
      "Epoch [111/1000], Training Loss: 4.2908, Accuracy: 0.2596\n"
     ]
    },
    {
     "name": "stderr",
     "output_type": "stream",
     "text": [
      "Epoch [112/1000]: 100%|██████████| 935/935 [00:13<00:00, 67.14batch/s, Batch Loss=4.46]\n"
     ]
    },
    {
     "name": "stdout",
     "output_type": "stream",
     "text": [
      "Epoch [112/1000], Training Loss: 4.2863, Accuracy: 0.2598\n"
     ]
    },
    {
     "name": "stderr",
     "output_type": "stream",
     "text": [
      "Epoch [113/1000]: 100%|██████████| 935/935 [00:14<00:00, 66.31batch/s, Batch Loss=4.59]\n"
     ]
    },
    {
     "name": "stdout",
     "output_type": "stream",
     "text": [
      "Epoch [113/1000], Training Loss: 4.2781, Accuracy: 0.2601\n"
     ]
    },
    {
     "name": "stderr",
     "output_type": "stream",
     "text": [
      "Epoch [114/1000]: 100%|██████████| 935/935 [00:14<00:00, 66.67batch/s, Batch Loss=4.62]\n"
     ]
    },
    {
     "name": "stdout",
     "output_type": "stream",
     "text": [
      "Epoch [114/1000], Training Loss: 4.2769, Accuracy: 0.2619\n"
     ]
    },
    {
     "name": "stderr",
     "output_type": "stream",
     "text": [
      "Epoch [115/1000]: 100%|██████████| 935/935 [00:14<00:00, 66.22batch/s, Batch Loss=4.24]\n"
     ]
    },
    {
     "name": "stdout",
     "output_type": "stream",
     "text": [
      "Epoch [115/1000], Training Loss: 4.2624, Accuracy: 0.2620\n"
     ]
    },
    {
     "name": "stderr",
     "output_type": "stream",
     "text": [
      "Epoch [116/1000]: 100%|██████████| 935/935 [00:14<00:00, 66.54batch/s, Batch Loss=4.34]\n"
     ]
    },
    {
     "name": "stdout",
     "output_type": "stream",
     "text": [
      "Epoch [116/1000], Training Loss: 4.2584, Accuracy: 0.2629\n"
     ]
    },
    {
     "name": "stderr",
     "output_type": "stream",
     "text": [
      "Epoch [117/1000]: 100%|██████████| 935/935 [00:14<00:00, 66.08batch/s, Batch Loss=4.74]\n"
     ]
    },
    {
     "name": "stdout",
     "output_type": "stream",
     "text": [
      "Epoch [117/1000], Training Loss: 4.2571, Accuracy: 0.2625\n"
     ]
    },
    {
     "name": "stderr",
     "output_type": "stream",
     "text": [
      "Epoch [118/1000]: 100%|██████████| 935/935 [00:13<00:00, 67.59batch/s, Batch Loss=4.48]\n"
     ]
    },
    {
     "name": "stdout",
     "output_type": "stream",
     "text": [
      "Epoch [118/1000], Training Loss: 4.2495, Accuracy: 0.2622\n"
     ]
    },
    {
     "name": "stderr",
     "output_type": "stream",
     "text": [
      "Epoch [119/1000]: 100%|██████████| 935/935 [00:14<00:00, 66.42batch/s, Batch Loss=4.15]\n"
     ]
    },
    {
     "name": "stdout",
     "output_type": "stream",
     "text": [
      "Epoch [119/1000], Training Loss: 4.2480, Accuracy: 0.2641\n"
     ]
    },
    {
     "name": "stderr",
     "output_type": "stream",
     "text": [
      "Epoch [120/1000]: 100%|██████████| 935/935 [00:13<00:00, 67.34batch/s, Batch Loss=4.08]\n"
     ]
    },
    {
     "name": "stdout",
     "output_type": "stream",
     "text": [
      "Epoch [120/1000], Training Loss: 4.2386, Accuracy: 0.2644\n"
     ]
    },
    {
     "name": "stderr",
     "output_type": "stream",
     "text": [
      "Epoch [121/1000]: 100%|██████████| 935/935 [00:14<00:00, 66.09batch/s, Batch Loss=4.18]\n"
     ]
    },
    {
     "name": "stdout",
     "output_type": "stream",
     "text": [
      "Epoch [121/1000], Training Loss: 4.2253, Accuracy: 0.2648\n"
     ]
    },
    {
     "name": "stderr",
     "output_type": "stream",
     "text": [
      "Epoch [122/1000]: 100%|██████████| 935/935 [00:14<00:00, 66.32batch/s, Batch Loss=4.09]\n"
     ]
    },
    {
     "name": "stdout",
     "output_type": "stream",
     "text": [
      "Epoch [122/1000], Training Loss: 4.2289, Accuracy: 0.2644\n"
     ]
    },
    {
     "name": "stderr",
     "output_type": "stream",
     "text": [
      "Epoch [123/1000]: 100%|██████████| 935/935 [00:14<00:00, 66.46batch/s, Batch Loss=4.27]\n"
     ]
    },
    {
     "name": "stdout",
     "output_type": "stream",
     "text": [
      "Epoch [123/1000], Training Loss: 4.2167, Accuracy: 0.2663\n"
     ]
    },
    {
     "name": "stderr",
     "output_type": "stream",
     "text": [
      "Epoch [124/1000]: 100%|██████████| 935/935 [00:14<00:00, 66.49batch/s, Batch Loss=4.28]\n"
     ]
    },
    {
     "name": "stdout",
     "output_type": "stream",
     "text": [
      "Epoch [124/1000], Training Loss: 4.2108, Accuracy: 0.2659\n"
     ]
    },
    {
     "name": "stderr",
     "output_type": "stream",
     "text": [
      "Epoch [125/1000]: 100%|██████████| 935/935 [00:13<00:00, 66.90batch/s, Batch Loss=4.74]\n"
     ]
    },
    {
     "name": "stdout",
     "output_type": "stream",
     "text": [
      "Epoch [125/1000], Training Loss: 4.2044, Accuracy: 0.2670\n"
     ]
    },
    {
     "name": "stderr",
     "output_type": "stream",
     "text": [
      "Epoch [126/1000]: 100%|██████████| 935/935 [00:13<00:00, 66.89batch/s, Batch Loss=4.17]\n"
     ]
    },
    {
     "name": "stdout",
     "output_type": "stream",
     "text": [
      "Epoch [126/1000], Training Loss: 4.2052, Accuracy: 0.2677\n"
     ]
    },
    {
     "name": "stderr",
     "output_type": "stream",
     "text": [
      "Epoch [127/1000]: 100%|██████████| 935/935 [00:14<00:00, 66.44batch/s, Batch Loss=4.59]\n"
     ]
    },
    {
     "name": "stdout",
     "output_type": "stream",
     "text": [
      "Epoch [127/1000], Training Loss: 4.1897, Accuracy: 0.2677\n"
     ]
    },
    {
     "name": "stderr",
     "output_type": "stream",
     "text": [
      "Epoch [128/1000]: 100%|██████████| 935/935 [00:13<00:00, 66.79batch/s, Batch Loss=4.27]\n"
     ]
    },
    {
     "name": "stdout",
     "output_type": "stream",
     "text": [
      "Epoch [128/1000], Training Loss: 4.1872, Accuracy: 0.2676\n"
     ]
    },
    {
     "name": "stderr",
     "output_type": "stream",
     "text": [
      "Epoch [129/1000]: 100%|██████████| 935/935 [00:14<00:00, 66.22batch/s, Batch Loss=4.55]\n"
     ]
    },
    {
     "name": "stdout",
     "output_type": "stream",
     "text": [
      "Epoch [129/1000], Training Loss: 4.1843, Accuracy: 0.2681\n"
     ]
    },
    {
     "name": "stderr",
     "output_type": "stream",
     "text": [
      "Epoch [130/1000]: 100%|██████████| 935/935 [00:13<00:00, 67.74batch/s, Batch Loss=4.18]\n"
     ]
    },
    {
     "name": "stdout",
     "output_type": "stream",
     "text": [
      "Epoch [130/1000], Training Loss: 4.1734, Accuracy: 0.2698\n"
     ]
    },
    {
     "name": "stderr",
     "output_type": "stream",
     "text": [
      "Epoch [131/1000]: 100%|██████████| 935/935 [00:13<00:00, 67.93batch/s, Batch Loss=4.19]\n"
     ]
    },
    {
     "name": "stdout",
     "output_type": "stream",
     "text": [
      "Epoch [131/1000], Training Loss: 4.1739, Accuracy: 0.2692\n"
     ]
    },
    {
     "name": "stderr",
     "output_type": "stream",
     "text": [
      "Epoch [132/1000]: 100%|██████████| 935/935 [00:13<00:00, 67.39batch/s, Batch Loss=4.58]\n"
     ]
    },
    {
     "name": "stdout",
     "output_type": "stream",
     "text": [
      "Epoch [132/1000], Training Loss: 4.1634, Accuracy: 0.2701\n"
     ]
    },
    {
     "name": "stderr",
     "output_type": "stream",
     "text": [
      "Epoch [133/1000]: 100%|██████████| 935/935 [00:13<00:00, 66.98batch/s, Batch Loss=4.33]\n"
     ]
    },
    {
     "name": "stdout",
     "output_type": "stream",
     "text": [
      "Epoch [133/1000], Training Loss: 4.1578, Accuracy: 0.2702\n"
     ]
    },
    {
     "name": "stderr",
     "output_type": "stream",
     "text": [
      "Epoch [134/1000]: 100%|██████████| 935/935 [00:13<00:00, 68.24batch/s, Batch Loss=4.24]\n"
     ]
    },
    {
     "name": "stdout",
     "output_type": "stream",
     "text": [
      "Epoch [134/1000], Training Loss: 4.1541, Accuracy: 0.2715\n"
     ]
    },
    {
     "name": "stderr",
     "output_type": "stream",
     "text": [
      "Epoch [135/1000]: 100%|██████████| 935/935 [00:13<00:00, 67.68batch/s, Batch Loss=4.15]\n"
     ]
    },
    {
     "name": "stdout",
     "output_type": "stream",
     "text": [
      "Epoch [135/1000], Training Loss: 4.1506, Accuracy: 0.2704\n"
     ]
    },
    {
     "name": "stderr",
     "output_type": "stream",
     "text": [
      "Epoch [136/1000]: 100%|██████████| 935/935 [00:13<00:00, 67.27batch/s, Batch Loss=4.07]\n"
     ]
    },
    {
     "name": "stdout",
     "output_type": "stream",
     "text": [
      "Epoch [136/1000], Training Loss: 4.1480, Accuracy: 0.2715\n"
     ]
    },
    {
     "name": "stderr",
     "output_type": "stream",
     "text": [
      "Epoch [137/1000]: 100%|██████████| 935/935 [00:13<00:00, 67.36batch/s, Batch Loss=4.22]\n"
     ]
    },
    {
     "name": "stdout",
     "output_type": "stream",
     "text": [
      "Epoch [137/1000], Training Loss: 4.1359, Accuracy: 0.2727\n"
     ]
    },
    {
     "name": "stderr",
     "output_type": "stream",
     "text": [
      "Epoch [138/1000]: 100%|██████████| 935/935 [00:13<00:00, 67.87batch/s, Batch Loss=4.36]\n"
     ]
    },
    {
     "name": "stdout",
     "output_type": "stream",
     "text": [
      "Epoch [138/1000], Training Loss: 4.1344, Accuracy: 0.2722\n"
     ]
    },
    {
     "name": "stderr",
     "output_type": "stream",
     "text": [
      "Epoch [139/1000]: 100%|██████████| 935/935 [00:13<00:00, 67.90batch/s, Batch Loss=4.54]\n"
     ]
    },
    {
     "name": "stdout",
     "output_type": "stream",
     "text": [
      "Epoch [139/1000], Training Loss: 4.1345, Accuracy: 0.2733\n"
     ]
    },
    {
     "name": "stderr",
     "output_type": "stream",
     "text": [
      "Epoch [140/1000]: 100%|██████████| 935/935 [00:13<00:00, 67.97batch/s, Batch Loss=4.46]\n"
     ]
    },
    {
     "name": "stdout",
     "output_type": "stream",
     "text": [
      "Epoch [140/1000], Training Loss: 4.1247, Accuracy: 0.2741\n"
     ]
    },
    {
     "name": "stderr",
     "output_type": "stream",
     "text": [
      "Epoch [141/1000]: 100%|██████████| 935/935 [00:13<00:00, 68.00batch/s, Batch Loss=4.36]\n"
     ]
    },
    {
     "name": "stdout",
     "output_type": "stream",
     "text": [
      "Epoch [141/1000], Training Loss: 4.1219, Accuracy: 0.2745\n"
     ]
    },
    {
     "name": "stderr",
     "output_type": "stream",
     "text": [
      "Epoch [142/1000]: 100%|██████████| 935/935 [00:13<00:00, 67.45batch/s, Batch Loss=4.25]\n"
     ]
    },
    {
     "name": "stdout",
     "output_type": "stream",
     "text": [
      "Epoch [142/1000], Training Loss: 4.1209, Accuracy: 0.2738\n"
     ]
    },
    {
     "name": "stderr",
     "output_type": "stream",
     "text": [
      "Epoch [143/1000]: 100%|██████████| 935/935 [00:13<00:00, 67.46batch/s, Batch Loss=3.99]\n"
     ]
    },
    {
     "name": "stdout",
     "output_type": "stream",
     "text": [
      "Epoch [143/1000], Training Loss: 4.1101, Accuracy: 0.2742\n"
     ]
    },
    {
     "name": "stderr",
     "output_type": "stream",
     "text": [
      "Epoch [144/1000]: 100%|██████████| 935/935 [00:13<00:00, 67.30batch/s, Batch Loss=4.48]\n"
     ]
    },
    {
     "name": "stdout",
     "output_type": "stream",
     "text": [
      "Epoch [144/1000], Training Loss: 4.1125, Accuracy: 0.2745\n"
     ]
    },
    {
     "name": "stderr",
     "output_type": "stream",
     "text": [
      "Epoch [145/1000]: 100%|██████████| 935/935 [00:13<00:00, 67.87batch/s, Batch Loss=4.57]\n"
     ]
    },
    {
     "name": "stdout",
     "output_type": "stream",
     "text": [
      "Epoch [145/1000], Training Loss: 4.0989, Accuracy: 0.2757\n"
     ]
    },
    {
     "name": "stderr",
     "output_type": "stream",
     "text": [
      "Epoch [146/1000]: 100%|██████████| 935/935 [00:13<00:00, 67.53batch/s, Batch Loss=3.82]\n"
     ]
    },
    {
     "name": "stdout",
     "output_type": "stream",
     "text": [
      "Epoch [146/1000], Training Loss: 4.0947, Accuracy: 0.2748\n"
     ]
    },
    {
     "name": "stderr",
     "output_type": "stream",
     "text": [
      "Epoch [147/1000]: 100%|██████████| 935/935 [00:13<00:00, 66.93batch/s, Batch Loss=4.31]\n"
     ]
    },
    {
     "name": "stdout",
     "output_type": "stream",
     "text": [
      "Epoch [147/1000], Training Loss: 4.0943, Accuracy: 0.2773\n"
     ]
    },
    {
     "name": "stderr",
     "output_type": "stream",
     "text": [
      "Epoch [148/1000]: 100%|██████████| 935/935 [00:13<00:00, 68.31batch/s, Batch Loss=4.17]\n"
     ]
    },
    {
     "name": "stdout",
     "output_type": "stream",
     "text": [
      "Epoch [148/1000], Training Loss: 4.0856, Accuracy: 0.2764\n"
     ]
    },
    {
     "name": "stderr",
     "output_type": "stream",
     "text": [
      "Epoch [149/1000]: 100%|██████████| 935/935 [00:13<00:00, 66.80batch/s, Batch Loss=4.3] \n"
     ]
    },
    {
     "name": "stdout",
     "output_type": "stream",
     "text": [
      "Epoch [149/1000], Training Loss: 4.0840, Accuracy: 0.2768\n"
     ]
    },
    {
     "name": "stderr",
     "output_type": "stream",
     "text": [
      "Epoch [150/1000]: 100%|██████████| 935/935 [00:13<00:00, 67.25batch/s, Batch Loss=4.22]\n"
     ]
    },
    {
     "name": "stdout",
     "output_type": "stream",
     "text": [
      "Epoch [150/1000], Training Loss: 4.0756, Accuracy: 0.2774\n",
      "\n",
      "Evaluating on validation set...\n"
     ]
    },
    {
     "name": "stderr",
     "output_type": "stream",
     "text": [
      "Evaluating HR & NDCG for multiple k: 100%|██████████| 201/201 [00:05<00:00, 39.37it/s]\n"
     ]
    },
    {
     "name": "stdout",
     "output_type": "stream",
     "text": [
      "Validation HR@5: 0.3713, NDCG@5: 0.3041\n",
      "Validation HR@10: 0.4187, NDCG@10: 0.3195\n",
      "Validation HR@20: 0.4629, NDCG@20: 0.3307\n",
      "Model saved at 'uet4rec64_rr_model_epoch_150.pth'\n"
     ]
    },
    {
     "name": "stderr",
     "output_type": "stream",
     "text": [
      "Epoch [151/1000]: 100%|██████████| 935/935 [00:13<00:00, 67.58batch/s, Batch Loss=4.21]\n"
     ]
    },
    {
     "name": "stdout",
     "output_type": "stream",
     "text": [
      "Epoch [151/1000], Training Loss: 4.0712, Accuracy: 0.2773\n"
     ]
    },
    {
     "name": "stderr",
     "output_type": "stream",
     "text": [
      "Epoch [152/1000]: 100%|██████████| 935/935 [00:13<00:00, 68.24batch/s, Batch Loss=4.33]\n"
     ]
    },
    {
     "name": "stdout",
     "output_type": "stream",
     "text": [
      "Epoch [152/1000], Training Loss: 4.0684, Accuracy: 0.2782\n"
     ]
    },
    {
     "name": "stderr",
     "output_type": "stream",
     "text": [
      "Epoch [153/1000]: 100%|██████████| 935/935 [00:13<00:00, 67.24batch/s, Batch Loss=4.21]\n"
     ]
    },
    {
     "name": "stdout",
     "output_type": "stream",
     "text": [
      "Epoch [153/1000], Training Loss: 4.0572, Accuracy: 0.2792\n"
     ]
    },
    {
     "name": "stderr",
     "output_type": "stream",
     "text": [
      "Epoch [154/1000]: 100%|██████████| 935/935 [00:13<00:00, 67.13batch/s, Batch Loss=4.07]\n"
     ]
    },
    {
     "name": "stdout",
     "output_type": "stream",
     "text": [
      "Epoch [154/1000], Training Loss: 4.0518, Accuracy: 0.2789\n"
     ]
    },
    {
     "name": "stderr",
     "output_type": "stream",
     "text": [
      "Epoch [155/1000]: 100%|██████████| 935/935 [00:13<00:00, 67.34batch/s, Batch Loss=3.98]\n"
     ]
    },
    {
     "name": "stdout",
     "output_type": "stream",
     "text": [
      "Epoch [155/1000], Training Loss: 4.0512, Accuracy: 0.2804\n"
     ]
    },
    {
     "name": "stderr",
     "output_type": "stream",
     "text": [
      "Epoch [156/1000]: 100%|██████████| 935/935 [00:13<00:00, 68.03batch/s, Batch Loss=4.27]\n"
     ]
    },
    {
     "name": "stdout",
     "output_type": "stream",
     "text": [
      "Epoch [156/1000], Training Loss: 4.0432, Accuracy: 0.2799\n"
     ]
    },
    {
     "name": "stderr",
     "output_type": "stream",
     "text": [
      "Epoch [157/1000]: 100%|██████████| 935/935 [00:13<00:00, 67.69batch/s, Batch Loss=4.3] \n"
     ]
    },
    {
     "name": "stdout",
     "output_type": "stream",
     "text": [
      "Epoch [157/1000], Training Loss: 4.0452, Accuracy: 0.2794\n"
     ]
    },
    {
     "name": "stderr",
     "output_type": "stream",
     "text": [
      "Epoch [158/1000]: 100%|██████████| 935/935 [00:14<00:00, 66.74batch/s, Batch Loss=4.31]\n"
     ]
    },
    {
     "name": "stdout",
     "output_type": "stream",
     "text": [
      "Epoch [158/1000], Training Loss: 4.0393, Accuracy: 0.2804\n"
     ]
    },
    {
     "name": "stderr",
     "output_type": "stream",
     "text": [
      "Epoch [159/1000]: 100%|██████████| 935/935 [00:14<00:00, 66.52batch/s, Batch Loss=4.15]\n"
     ]
    },
    {
     "name": "stdout",
     "output_type": "stream",
     "text": [
      "Epoch [159/1000], Training Loss: 4.0396, Accuracy: 0.2814\n"
     ]
    },
    {
     "name": "stderr",
     "output_type": "stream",
     "text": [
      "Epoch [160/1000]: 100%|██████████| 935/935 [00:14<00:00, 65.72batch/s, Batch Loss=3.97]\n"
     ]
    },
    {
     "name": "stdout",
     "output_type": "stream",
     "text": [
      "Epoch [160/1000], Training Loss: 4.0252, Accuracy: 0.2827\n"
     ]
    },
    {
     "name": "stderr",
     "output_type": "stream",
     "text": [
      "Epoch [161/1000]: 100%|██████████| 935/935 [00:14<00:00, 65.57batch/s, Batch Loss=4.07]\n"
     ]
    },
    {
     "name": "stdout",
     "output_type": "stream",
     "text": [
      "Epoch [161/1000], Training Loss: 4.0228, Accuracy: 0.2826\n"
     ]
    },
    {
     "name": "stderr",
     "output_type": "stream",
     "text": [
      "Epoch [162/1000]: 100%|██████████| 935/935 [00:14<00:00, 65.22batch/s, Batch Loss=4.23]\n"
     ]
    },
    {
     "name": "stdout",
     "output_type": "stream",
     "text": [
      "Epoch [162/1000], Training Loss: 4.0201, Accuracy: 0.2832\n"
     ]
    },
    {
     "name": "stderr",
     "output_type": "stream",
     "text": [
      "Epoch [163/1000]: 100%|██████████| 935/935 [00:13<00:00, 66.86batch/s, Batch Loss=4.25]\n"
     ]
    },
    {
     "name": "stdout",
     "output_type": "stream",
     "text": [
      "Epoch [163/1000], Training Loss: 4.0202, Accuracy: 0.2825\n"
     ]
    },
    {
     "name": "stderr",
     "output_type": "stream",
     "text": [
      "Epoch [164/1000]: 100%|██████████| 935/935 [00:14<00:00, 66.32batch/s, Batch Loss=4.36]\n"
     ]
    },
    {
     "name": "stdout",
     "output_type": "stream",
     "text": [
      "Epoch [164/1000], Training Loss: 4.0165, Accuracy: 0.2833\n"
     ]
    },
    {
     "name": "stderr",
     "output_type": "stream",
     "text": [
      "Epoch [165/1000]: 100%|██████████| 935/935 [00:14<00:00, 66.38batch/s, Batch Loss=4.44]\n"
     ]
    },
    {
     "name": "stdout",
     "output_type": "stream",
     "text": [
      "Epoch [165/1000], Training Loss: 4.0054, Accuracy: 0.2839\n"
     ]
    },
    {
     "name": "stderr",
     "output_type": "stream",
     "text": [
      "Epoch [166/1000]: 100%|██████████| 935/935 [00:13<00:00, 67.13batch/s, Batch Loss=3.98]\n"
     ]
    },
    {
     "name": "stdout",
     "output_type": "stream",
     "text": [
      "Epoch [166/1000], Training Loss: 4.0053, Accuracy: 0.2837\n"
     ]
    },
    {
     "name": "stderr",
     "output_type": "stream",
     "text": [
      "Epoch [167/1000]: 100%|██████████| 935/935 [00:13<00:00, 67.40batch/s, Batch Loss=4.05]\n"
     ]
    },
    {
     "name": "stdout",
     "output_type": "stream",
     "text": [
      "Epoch [167/1000], Training Loss: 4.0017, Accuracy: 0.2845\n"
     ]
    },
    {
     "name": "stderr",
     "output_type": "stream",
     "text": [
      "Epoch [168/1000]: 100%|██████████| 935/935 [00:14<00:00, 65.89batch/s, Batch Loss=4.19]\n"
     ]
    },
    {
     "name": "stdout",
     "output_type": "stream",
     "text": [
      "Epoch [168/1000], Training Loss: 3.9998, Accuracy: 0.2843\n"
     ]
    },
    {
     "name": "stderr",
     "output_type": "stream",
     "text": [
      "Epoch [169/1000]: 100%|██████████| 935/935 [00:13<00:00, 67.09batch/s, Batch Loss=4.23]\n"
     ]
    },
    {
     "name": "stdout",
     "output_type": "stream",
     "text": [
      "Epoch [169/1000], Training Loss: 3.9885, Accuracy: 0.2856\n"
     ]
    },
    {
     "name": "stderr",
     "output_type": "stream",
     "text": [
      "Epoch [170/1000]: 100%|██████████| 935/935 [00:13<00:00, 67.42batch/s, Batch Loss=4.08]\n"
     ]
    },
    {
     "name": "stdout",
     "output_type": "stream",
     "text": [
      "Epoch [170/1000], Training Loss: 3.9865, Accuracy: 0.2845\n"
     ]
    },
    {
     "name": "stderr",
     "output_type": "stream",
     "text": [
      "Epoch [171/1000]: 100%|██████████| 935/935 [00:14<00:00, 66.57batch/s, Batch Loss=3.92]\n"
     ]
    },
    {
     "name": "stdout",
     "output_type": "stream",
     "text": [
      "Epoch [171/1000], Training Loss: 3.9808, Accuracy: 0.2854\n"
     ]
    },
    {
     "name": "stderr",
     "output_type": "stream",
     "text": [
      "Epoch [172/1000]: 100%|██████████| 935/935 [00:14<00:00, 65.80batch/s, Batch Loss=3.95]\n"
     ]
    },
    {
     "name": "stdout",
     "output_type": "stream",
     "text": [
      "Epoch [172/1000], Training Loss: 3.9815, Accuracy: 0.2855\n"
     ]
    },
    {
     "name": "stderr",
     "output_type": "stream",
     "text": [
      "Epoch [173/1000]: 100%|██████████| 935/935 [00:14<00:00, 66.35batch/s, Batch Loss=4.18]\n"
     ]
    },
    {
     "name": "stdout",
     "output_type": "stream",
     "text": [
      "Epoch [173/1000], Training Loss: 3.9741, Accuracy: 0.2867\n"
     ]
    },
    {
     "name": "stderr",
     "output_type": "stream",
     "text": [
      "Epoch [174/1000]: 100%|██████████| 935/935 [00:14<00:00, 66.66batch/s, Batch Loss=4.34]\n"
     ]
    },
    {
     "name": "stdout",
     "output_type": "stream",
     "text": [
      "Epoch [174/1000], Training Loss: 3.9732, Accuracy: 0.2870\n"
     ]
    },
    {
     "name": "stderr",
     "output_type": "stream",
     "text": [
      "Epoch [175/1000]: 100%|██████████| 935/935 [00:14<00:00, 66.39batch/s, Batch Loss=3.94]\n"
     ]
    },
    {
     "name": "stdout",
     "output_type": "stream",
     "text": [
      "Epoch [175/1000], Training Loss: 3.9657, Accuracy: 0.2870\n"
     ]
    },
    {
     "name": "stderr",
     "output_type": "stream",
     "text": [
      "Epoch [176/1000]: 100%|██████████| 935/935 [00:14<00:00, 66.28batch/s, Batch Loss=3.57]\n"
     ]
    },
    {
     "name": "stdout",
     "output_type": "stream",
     "text": [
      "Epoch [176/1000], Training Loss: 3.9675, Accuracy: 0.2881\n"
     ]
    },
    {
     "name": "stderr",
     "output_type": "stream",
     "text": [
      "Epoch [177/1000]: 100%|██████████| 935/935 [00:13<00:00, 67.16batch/s, Batch Loss=4.18]\n"
     ]
    },
    {
     "name": "stdout",
     "output_type": "stream",
     "text": [
      "Epoch [177/1000], Training Loss: 3.9610, Accuracy: 0.2881\n"
     ]
    },
    {
     "name": "stderr",
     "output_type": "stream",
     "text": [
      "Epoch [178/1000]: 100%|██████████| 935/935 [00:13<00:00, 66.90batch/s, Batch Loss=4.14]\n"
     ]
    },
    {
     "name": "stdout",
     "output_type": "stream",
     "text": [
      "Epoch [178/1000], Training Loss: 3.9561, Accuracy: 0.2876\n"
     ]
    },
    {
     "name": "stderr",
     "output_type": "stream",
     "text": [
      "Epoch [179/1000]: 100%|██████████| 935/935 [00:14<00:00, 66.67batch/s, Batch Loss=4.32]\n"
     ]
    },
    {
     "name": "stdout",
     "output_type": "stream",
     "text": [
      "Epoch [179/1000], Training Loss: 3.9528, Accuracy: 0.2877\n"
     ]
    },
    {
     "name": "stderr",
     "output_type": "stream",
     "text": [
      "Epoch [180/1000]: 100%|██████████| 935/935 [00:14<00:00, 66.26batch/s, Batch Loss=3.86]\n"
     ]
    },
    {
     "name": "stdout",
     "output_type": "stream",
     "text": [
      "Epoch [180/1000], Training Loss: 3.9415, Accuracy: 0.2897\n"
     ]
    },
    {
     "name": "stderr",
     "output_type": "stream",
     "text": [
      "Epoch [181/1000]: 100%|██████████| 935/935 [00:13<00:00, 67.48batch/s, Batch Loss=4.18]\n"
     ]
    },
    {
     "name": "stdout",
     "output_type": "stream",
     "text": [
      "Epoch [181/1000], Training Loss: 3.9468, Accuracy: 0.2889\n"
     ]
    },
    {
     "name": "stderr",
     "output_type": "stream",
     "text": [
      "Epoch [182/1000]: 100%|██████████| 935/935 [00:14<00:00, 66.54batch/s, Batch Loss=4.17]\n"
     ]
    },
    {
     "name": "stdout",
     "output_type": "stream",
     "text": [
      "Epoch [182/1000], Training Loss: 3.9407, Accuracy: 0.2899\n"
     ]
    },
    {
     "name": "stderr",
     "output_type": "stream",
     "text": [
      "Epoch [183/1000]: 100%|██████████| 935/935 [00:14<00:00, 66.08batch/s, Batch Loss=4.23]\n"
     ]
    },
    {
     "name": "stdout",
     "output_type": "stream",
     "text": [
      "Epoch [183/1000], Training Loss: 3.9364, Accuracy: 0.2901\n"
     ]
    },
    {
     "name": "stderr",
     "output_type": "stream",
     "text": [
      "Epoch [184/1000]: 100%|██████████| 935/935 [00:14<00:00, 66.40batch/s, Batch Loss=4.26]\n"
     ]
    },
    {
     "name": "stdout",
     "output_type": "stream",
     "text": [
      "Epoch [184/1000], Training Loss: 3.9298, Accuracy: 0.2894\n"
     ]
    },
    {
     "name": "stderr",
     "output_type": "stream",
     "text": [
      "Epoch [185/1000]: 100%|██████████| 935/935 [00:13<00:00, 68.02batch/s, Batch Loss=3.95]\n"
     ]
    },
    {
     "name": "stdout",
     "output_type": "stream",
     "text": [
      "Epoch [185/1000], Training Loss: 3.9285, Accuracy: 0.2909\n"
     ]
    },
    {
     "name": "stderr",
     "output_type": "stream",
     "text": [
      "Epoch [186/1000]: 100%|██████████| 935/935 [00:14<00:00, 66.67batch/s, Batch Loss=4.33]\n"
     ]
    },
    {
     "name": "stdout",
     "output_type": "stream",
     "text": [
      "Epoch [186/1000], Training Loss: 3.9209, Accuracy: 0.2919\n"
     ]
    },
    {
     "name": "stderr",
     "output_type": "stream",
     "text": [
      "Epoch [187/1000]: 100%|██████████| 935/935 [00:14<00:00, 66.45batch/s, Batch Loss=4.46]\n"
     ]
    },
    {
     "name": "stdout",
     "output_type": "stream",
     "text": [
      "Epoch [187/1000], Training Loss: 3.9275, Accuracy: 0.2899\n"
     ]
    },
    {
     "name": "stderr",
     "output_type": "stream",
     "text": [
      "Epoch [188/1000]: 100%|██████████| 935/935 [00:13<00:00, 67.99batch/s, Batch Loss=3.87]\n"
     ]
    },
    {
     "name": "stdout",
     "output_type": "stream",
     "text": [
      "Epoch [188/1000], Training Loss: 3.9169, Accuracy: 0.2919\n"
     ]
    },
    {
     "name": "stderr",
     "output_type": "stream",
     "text": [
      "Epoch [189/1000]: 100%|██████████| 935/935 [00:14<00:00, 66.48batch/s, Batch Loss=4.1] \n"
     ]
    },
    {
     "name": "stdout",
     "output_type": "stream",
     "text": [
      "Epoch [189/1000], Training Loss: 3.9078, Accuracy: 0.2915\n"
     ]
    },
    {
     "name": "stderr",
     "output_type": "stream",
     "text": [
      "Epoch [190/1000]: 100%|██████████| 935/935 [00:14<00:00, 66.71batch/s, Batch Loss=3.87]\n"
     ]
    },
    {
     "name": "stdout",
     "output_type": "stream",
     "text": [
      "Epoch [190/1000], Training Loss: 3.9092, Accuracy: 0.2916\n"
     ]
    },
    {
     "name": "stderr",
     "output_type": "stream",
     "text": [
      "Epoch [191/1000]: 100%|██████████| 935/935 [00:14<00:00, 64.44batch/s, Batch Loss=3.94]\n"
     ]
    },
    {
     "name": "stdout",
     "output_type": "stream",
     "text": [
      "Epoch [191/1000], Training Loss: 3.9070, Accuracy: 0.2927\n"
     ]
    },
    {
     "name": "stderr",
     "output_type": "stream",
     "text": [
      "Epoch [192/1000]: 100%|██████████| 935/935 [00:13<00:00, 66.82batch/s, Batch Loss=4.29]\n"
     ]
    },
    {
     "name": "stdout",
     "output_type": "stream",
     "text": [
      "Epoch [192/1000], Training Loss: 3.9023, Accuracy: 0.2939\n"
     ]
    },
    {
     "name": "stderr",
     "output_type": "stream",
     "text": [
      "Epoch [193/1000]: 100%|██████████| 935/935 [00:13<00:00, 66.84batch/s, Batch Loss=4.29]\n"
     ]
    },
    {
     "name": "stdout",
     "output_type": "stream",
     "text": [
      "Epoch [193/1000], Training Loss: 3.8992, Accuracy: 0.2927\n"
     ]
    },
    {
     "name": "stderr",
     "output_type": "stream",
     "text": [
      "Epoch [194/1000]: 100%|██████████| 935/935 [00:14<00:00, 66.21batch/s, Batch Loss=4.32]\n"
     ]
    },
    {
     "name": "stdout",
     "output_type": "stream",
     "text": [
      "Epoch [194/1000], Training Loss: 3.8954, Accuracy: 0.2945\n"
     ]
    },
    {
     "name": "stderr",
     "output_type": "stream",
     "text": [
      "Epoch [195/1000]: 100%|██████████| 935/935 [00:14<00:00, 66.63batch/s, Batch Loss=4.09]\n"
     ]
    },
    {
     "name": "stdout",
     "output_type": "stream",
     "text": [
      "Epoch [195/1000], Training Loss: 3.8903, Accuracy: 0.2937\n"
     ]
    },
    {
     "name": "stderr",
     "output_type": "stream",
     "text": [
      "Epoch [196/1000]: 100%|██████████| 935/935 [00:13<00:00, 66.95batch/s, Batch Loss=4.14]\n"
     ]
    },
    {
     "name": "stdout",
     "output_type": "stream",
     "text": [
      "Epoch [196/1000], Training Loss: 3.8799, Accuracy: 0.2951\n"
     ]
    },
    {
     "name": "stderr",
     "output_type": "stream",
     "text": [
      "Epoch [197/1000]: 100%|██████████| 935/935 [00:14<00:00, 66.14batch/s, Batch Loss=3.84]\n"
     ]
    },
    {
     "name": "stdout",
     "output_type": "stream",
     "text": [
      "Epoch [197/1000], Training Loss: 3.8812, Accuracy: 0.2952\n"
     ]
    },
    {
     "name": "stderr",
     "output_type": "stream",
     "text": [
      "Epoch [198/1000]: 100%|██████████| 935/935 [00:13<00:00, 67.13batch/s, Batch Loss=4.08]\n"
     ]
    },
    {
     "name": "stdout",
     "output_type": "stream",
     "text": [
      "Epoch [198/1000], Training Loss: 3.8815, Accuracy: 0.2948\n"
     ]
    },
    {
     "name": "stderr",
     "output_type": "stream",
     "text": [
      "Epoch [199/1000]: 100%|██████████| 935/935 [00:13<00:00, 67.00batch/s, Batch Loss=4.3] \n"
     ]
    },
    {
     "name": "stdout",
     "output_type": "stream",
     "text": [
      "Epoch [199/1000], Training Loss: 3.8780, Accuracy: 0.2949\n"
     ]
    },
    {
     "name": "stderr",
     "output_type": "stream",
     "text": [
      "Epoch [200/1000]: 100%|██████████| 935/935 [00:13<00:00, 66.82batch/s, Batch Loss=4.26]\n"
     ]
    },
    {
     "name": "stdout",
     "output_type": "stream",
     "text": [
      "Epoch [200/1000], Training Loss: 3.8676, Accuracy: 0.2963\n",
      "\n",
      "Evaluating on validation set...\n"
     ]
    },
    {
     "name": "stderr",
     "output_type": "stream",
     "text": [
      "Evaluating HR & NDCG for multiple k: 100%|██████████| 201/201 [00:05<00:00, 38.54it/s]\n"
     ]
    },
    {
     "name": "stdout",
     "output_type": "stream",
     "text": [
      "Validation HR@5: 0.3716, NDCG@5: 0.3052\n",
      "Validation HR@10: 0.4197, NDCG@10: 0.3208\n",
      "Validation HR@20: 0.4641, NDCG@20: 0.3321\n",
      "Model saved at 'uet4rec64_rr_model_epoch_200.pth'\n"
     ]
    },
    {
     "name": "stderr",
     "output_type": "stream",
     "text": [
      "Epoch [201/1000]: 100%|██████████| 935/935 [00:14<00:00, 66.45batch/s, Batch Loss=4.26]\n"
     ]
    },
    {
     "name": "stdout",
     "output_type": "stream",
     "text": [
      "Epoch [201/1000], Training Loss: 3.8721, Accuracy: 0.2960\n"
     ]
    },
    {
     "name": "stderr",
     "output_type": "stream",
     "text": [
      "Epoch [202/1000]: 100%|██████████| 935/935 [00:14<00:00, 66.04batch/s, Batch Loss=4.13]\n"
     ]
    },
    {
     "name": "stdout",
     "output_type": "stream",
     "text": [
      "Epoch [202/1000], Training Loss: 3.8666, Accuracy: 0.2957\n"
     ]
    },
    {
     "name": "stderr",
     "output_type": "stream",
     "text": [
      "Epoch [203/1000]: 100%|██████████| 935/935 [00:14<00:00, 66.46batch/s, Batch Loss=3.85]\n"
     ]
    },
    {
     "name": "stdout",
     "output_type": "stream",
     "text": [
      "Epoch [203/1000], Training Loss: 3.8674, Accuracy: 0.2958\n"
     ]
    },
    {
     "name": "stderr",
     "output_type": "stream",
     "text": [
      "Epoch [204/1000]: 100%|██████████| 935/935 [00:13<00:00, 66.95batch/s, Batch Loss=3.84]\n"
     ]
    },
    {
     "name": "stdout",
     "output_type": "stream",
     "text": [
      "Epoch [204/1000], Training Loss: 3.8606, Accuracy: 0.2959\n"
     ]
    },
    {
     "name": "stderr",
     "output_type": "stream",
     "text": [
      "Epoch [205/1000]: 100%|██████████| 935/935 [00:14<00:00, 66.50batch/s, Batch Loss=4.09]\n"
     ]
    },
    {
     "name": "stdout",
     "output_type": "stream",
     "text": [
      "Epoch [205/1000], Training Loss: 3.8569, Accuracy: 0.2968\n"
     ]
    },
    {
     "name": "stderr",
     "output_type": "stream",
     "text": [
      "Epoch [206/1000]: 100%|██████████| 935/935 [00:13<00:00, 66.81batch/s, Batch Loss=4.31]\n"
     ]
    },
    {
     "name": "stdout",
     "output_type": "stream",
     "text": [
      "Epoch [206/1000], Training Loss: 3.8545, Accuracy: 0.2973\n"
     ]
    },
    {
     "name": "stderr",
     "output_type": "stream",
     "text": [
      "Epoch [207/1000]: 100%|██████████| 935/935 [00:14<00:00, 66.77batch/s, Batch Loss=3.83]\n"
     ]
    },
    {
     "name": "stdout",
     "output_type": "stream",
     "text": [
      "Epoch [207/1000], Training Loss: 3.8467, Accuracy: 0.2970\n"
     ]
    },
    {
     "name": "stderr",
     "output_type": "stream",
     "text": [
      "Epoch [208/1000]: 100%|██████████| 935/935 [00:14<00:00, 66.20batch/s, Batch Loss=3.87]\n"
     ]
    },
    {
     "name": "stdout",
     "output_type": "stream",
     "text": [
      "Epoch [208/1000], Training Loss: 3.8408, Accuracy: 0.2976\n"
     ]
    },
    {
     "name": "stderr",
     "output_type": "stream",
     "text": [
      "Epoch [209/1000]: 100%|██████████| 935/935 [00:14<00:00, 65.81batch/s, Batch Loss=3.97]\n"
     ]
    },
    {
     "name": "stdout",
     "output_type": "stream",
     "text": [
      "Epoch [209/1000], Training Loss: 3.8393, Accuracy: 0.2979\n"
     ]
    },
    {
     "name": "stderr",
     "output_type": "stream",
     "text": [
      "Epoch [210/1000]: 100%|██████████| 935/935 [00:13<00:00, 67.09batch/s, Batch Loss=3.81]\n"
     ]
    },
    {
     "name": "stdout",
     "output_type": "stream",
     "text": [
      "Epoch [210/1000], Training Loss: 3.8340, Accuracy: 0.2992\n"
     ]
    },
    {
     "name": "stderr",
     "output_type": "stream",
     "text": [
      "Epoch [211/1000]: 100%|██████████| 935/935 [00:14<00:00, 65.08batch/s, Batch Loss=3.91]\n"
     ]
    },
    {
     "name": "stdout",
     "output_type": "stream",
     "text": [
      "Epoch [211/1000], Training Loss: 3.8337, Accuracy: 0.2994\n"
     ]
    },
    {
     "name": "stderr",
     "output_type": "stream",
     "text": [
      "Epoch [212/1000]: 100%|██████████| 935/935 [00:14<00:00, 65.27batch/s, Batch Loss=3.82]\n"
     ]
    },
    {
     "name": "stdout",
     "output_type": "stream",
     "text": [
      "Epoch [212/1000], Training Loss: 3.8296, Accuracy: 0.3000\n"
     ]
    },
    {
     "name": "stderr",
     "output_type": "stream",
     "text": [
      "Epoch [213/1000]: 100%|██████████| 935/935 [00:14<00:00, 65.65batch/s, Batch Loss=4.19]\n"
     ]
    },
    {
     "name": "stdout",
     "output_type": "stream",
     "text": [
      "Epoch [213/1000], Training Loss: 3.8302, Accuracy: 0.2998\n"
     ]
    },
    {
     "name": "stderr",
     "output_type": "stream",
     "text": [
      "Epoch [214/1000]: 100%|██████████| 935/935 [00:14<00:00, 66.75batch/s, Batch Loss=3.81]\n"
     ]
    },
    {
     "name": "stdout",
     "output_type": "stream",
     "text": [
      "Epoch [214/1000], Training Loss: 3.8248, Accuracy: 0.2996\n"
     ]
    },
    {
     "name": "stderr",
     "output_type": "stream",
     "text": [
      "Epoch [215/1000]: 100%|██████████| 935/935 [00:14<00:00, 66.10batch/s, Batch Loss=3.88]\n"
     ]
    },
    {
     "name": "stdout",
     "output_type": "stream",
     "text": [
      "Epoch [215/1000], Training Loss: 3.8170, Accuracy: 0.3009\n"
     ]
    },
    {
     "name": "stderr",
     "output_type": "stream",
     "text": [
      "Epoch [216/1000]: 100%|██████████| 935/935 [00:14<00:00, 65.90batch/s, Batch Loss=4.16]\n"
     ]
    },
    {
     "name": "stdout",
     "output_type": "stream",
     "text": [
      "Epoch [216/1000], Training Loss: 3.8266, Accuracy: 0.2993\n"
     ]
    },
    {
     "name": "stderr",
     "output_type": "stream",
     "text": [
      "Epoch [217/1000]: 100%|██████████| 935/935 [00:14<00:00, 66.48batch/s, Batch Loss=3.72]\n"
     ]
    },
    {
     "name": "stdout",
     "output_type": "stream",
     "text": [
      "Epoch [217/1000], Training Loss: 3.8191, Accuracy: 0.3008\n"
     ]
    },
    {
     "name": "stderr",
     "output_type": "stream",
     "text": [
      "Epoch [218/1000]: 100%|██████████| 935/935 [00:14<00:00, 66.21batch/s, Batch Loss=3.74]\n"
     ]
    },
    {
     "name": "stdout",
     "output_type": "stream",
     "text": [
      "Epoch [218/1000], Training Loss: 3.8134, Accuracy: 0.3007\n"
     ]
    },
    {
     "name": "stderr",
     "output_type": "stream",
     "text": [
      "Epoch [219/1000]: 100%|██████████| 935/935 [00:14<00:00, 66.28batch/s, Batch Loss=3.84]\n"
     ]
    },
    {
     "name": "stdout",
     "output_type": "stream",
     "text": [
      "Epoch [219/1000], Training Loss: 3.8104, Accuracy: 0.3011\n"
     ]
    },
    {
     "name": "stderr",
     "output_type": "stream",
     "text": [
      "Epoch [220/1000]: 100%|██████████| 935/935 [00:13<00:00, 66.79batch/s, Batch Loss=3.56]\n"
     ]
    },
    {
     "name": "stdout",
     "output_type": "stream",
     "text": [
      "Epoch [220/1000], Training Loss: 3.8089, Accuracy: 0.3014\n"
     ]
    },
    {
     "name": "stderr",
     "output_type": "stream",
     "text": [
      "Epoch [221/1000]: 100%|██████████| 935/935 [00:14<00:00, 66.20batch/s, Batch Loss=3.99]\n"
     ]
    },
    {
     "name": "stdout",
     "output_type": "stream",
     "text": [
      "Epoch [221/1000], Training Loss: 3.7988, Accuracy: 0.3015\n"
     ]
    },
    {
     "name": "stderr",
     "output_type": "stream",
     "text": [
      "Epoch [222/1000]: 100%|██████████| 935/935 [00:14<00:00, 65.95batch/s, Batch Loss=3.87]\n"
     ]
    },
    {
     "name": "stdout",
     "output_type": "stream",
     "text": [
      "Epoch [222/1000], Training Loss: 3.8007, Accuracy: 0.3018\n"
     ]
    },
    {
     "name": "stderr",
     "output_type": "stream",
     "text": [
      "Epoch [223/1000]: 100%|██████████| 935/935 [00:14<00:00, 66.35batch/s, Batch Loss=3.86]\n"
     ]
    },
    {
     "name": "stdout",
     "output_type": "stream",
     "text": [
      "Epoch [223/1000], Training Loss: 3.7961, Accuracy: 0.3035\n"
     ]
    },
    {
     "name": "stderr",
     "output_type": "stream",
     "text": [
      "Epoch [224/1000]: 100%|██████████| 935/935 [00:14<00:00, 66.59batch/s, Batch Loss=4.07]\n"
     ]
    },
    {
     "name": "stdout",
     "output_type": "stream",
     "text": [
      "Epoch [224/1000], Training Loss: 3.7911, Accuracy: 0.3037\n"
     ]
    },
    {
     "name": "stderr",
     "output_type": "stream",
     "text": [
      "Epoch [225/1000]: 100%|██████████| 935/935 [00:13<00:00, 66.94batch/s, Batch Loss=3.92]\n"
     ]
    },
    {
     "name": "stdout",
     "output_type": "stream",
     "text": [
      "Epoch [225/1000], Training Loss: 3.7883, Accuracy: 0.3042\n"
     ]
    },
    {
     "name": "stderr",
     "output_type": "stream",
     "text": [
      "Epoch [226/1000]: 100%|██████████| 935/935 [00:13<00:00, 66.86batch/s, Batch Loss=4.02]\n"
     ]
    },
    {
     "name": "stdout",
     "output_type": "stream",
     "text": [
      "Epoch [226/1000], Training Loss: 3.7913, Accuracy: 0.3028\n"
     ]
    },
    {
     "name": "stderr",
     "output_type": "stream",
     "text": [
      "Epoch [227/1000]: 100%|██████████| 935/935 [00:14<00:00, 65.92batch/s, Batch Loss=3.89]\n"
     ]
    },
    {
     "name": "stdout",
     "output_type": "stream",
     "text": [
      "Epoch [227/1000], Training Loss: 3.7817, Accuracy: 0.3040\n"
     ]
    },
    {
     "name": "stderr",
     "output_type": "stream",
     "text": [
      "Epoch [228/1000]: 100%|██████████| 935/935 [00:14<00:00, 66.42batch/s, Batch Loss=3.82]\n"
     ]
    },
    {
     "name": "stdout",
     "output_type": "stream",
     "text": [
      "Epoch [228/1000], Training Loss: 3.7776, Accuracy: 0.3041\n"
     ]
    },
    {
     "name": "stderr",
     "output_type": "stream",
     "text": [
      "Epoch [229/1000]: 100%|██████████| 935/935 [00:14<00:00, 66.10batch/s, Batch Loss=4.2] \n"
     ]
    },
    {
     "name": "stdout",
     "output_type": "stream",
     "text": [
      "Epoch [229/1000], Training Loss: 3.7747, Accuracy: 0.3042\n"
     ]
    },
    {
     "name": "stderr",
     "output_type": "stream",
     "text": [
      "Epoch [230/1000]: 100%|██████████| 935/935 [00:14<00:00, 64.82batch/s, Batch Loss=3.69]\n"
     ]
    },
    {
     "name": "stdout",
     "output_type": "stream",
     "text": [
      "Epoch [230/1000], Training Loss: 3.7759, Accuracy: 0.3041\n"
     ]
    },
    {
     "name": "stderr",
     "output_type": "stream",
     "text": [
      "Epoch [231/1000]: 100%|██████████| 935/935 [00:14<00:00, 64.87batch/s, Batch Loss=4.1] \n"
     ]
    },
    {
     "name": "stdout",
     "output_type": "stream",
     "text": [
      "Epoch [231/1000], Training Loss: 3.7699, Accuracy: 0.3057\n"
     ]
    },
    {
     "name": "stderr",
     "output_type": "stream",
     "text": [
      "Epoch [232/1000]: 100%|██████████| 935/935 [00:14<00:00, 65.36batch/s, Batch Loss=3.48]\n"
     ]
    },
    {
     "name": "stdout",
     "output_type": "stream",
     "text": [
      "Epoch [232/1000], Training Loss: 3.7687, Accuracy: 0.3041\n"
     ]
    },
    {
     "name": "stderr",
     "output_type": "stream",
     "text": [
      "Epoch [233/1000]: 100%|██████████| 935/935 [00:14<00:00, 65.28batch/s, Batch Loss=3.45]\n"
     ]
    },
    {
     "name": "stdout",
     "output_type": "stream",
     "text": [
      "Epoch [233/1000], Training Loss: 3.7707, Accuracy: 0.3043\n"
     ]
    },
    {
     "name": "stderr",
     "output_type": "stream",
     "text": [
      "Epoch [234/1000]: 100%|██████████| 935/935 [00:14<00:00, 65.06batch/s, Batch Loss=3.91]\n"
     ]
    },
    {
     "name": "stdout",
     "output_type": "stream",
     "text": [
      "Epoch [234/1000], Training Loss: 3.7601, Accuracy: 0.3060\n"
     ]
    },
    {
     "name": "stderr",
     "output_type": "stream",
     "text": [
      "Epoch [235/1000]: 100%|██████████| 935/935 [00:14<00:00, 65.25batch/s, Batch Loss=4.33]\n"
     ]
    },
    {
     "name": "stdout",
     "output_type": "stream",
     "text": [
      "Epoch [235/1000], Training Loss: 3.7564, Accuracy: 0.3066\n"
     ]
    },
    {
     "name": "stderr",
     "output_type": "stream",
     "text": [
      "Epoch [236/1000]: 100%|██████████| 935/935 [00:14<00:00, 66.18batch/s, Batch Loss=3.87]\n"
     ]
    },
    {
     "name": "stdout",
     "output_type": "stream",
     "text": [
      "Epoch [236/1000], Training Loss: 3.7604, Accuracy: 0.3063\n"
     ]
    },
    {
     "name": "stderr",
     "output_type": "stream",
     "text": [
      "Epoch [237/1000]: 100%|██████████| 935/935 [00:14<00:00, 66.23batch/s, Batch Loss=4.1] \n"
     ]
    },
    {
     "name": "stdout",
     "output_type": "stream",
     "text": [
      "Epoch [237/1000], Training Loss: 3.7545, Accuracy: 0.3066\n"
     ]
    },
    {
     "name": "stderr",
     "output_type": "stream",
     "text": [
      "Epoch [238/1000]: 100%|██████████| 935/935 [00:14<00:00, 64.73batch/s, Batch Loss=3.7] \n"
     ]
    },
    {
     "name": "stdout",
     "output_type": "stream",
     "text": [
      "Epoch [238/1000], Training Loss: 3.7502, Accuracy: 0.3072\n"
     ]
    },
    {
     "name": "stderr",
     "output_type": "stream",
     "text": [
      "Epoch [239/1000]: 100%|██████████| 935/935 [00:14<00:00, 66.57batch/s, Batch Loss=3.56]\n"
     ]
    },
    {
     "name": "stdout",
     "output_type": "stream",
     "text": [
      "Epoch [239/1000], Training Loss: 3.7405, Accuracy: 0.3083\n"
     ]
    },
    {
     "name": "stderr",
     "output_type": "stream",
     "text": [
      "Epoch [240/1000]: 100%|██████████| 935/935 [00:14<00:00, 65.41batch/s, Batch Loss=3.71]\n"
     ]
    },
    {
     "name": "stdout",
     "output_type": "stream",
     "text": [
      "Epoch [240/1000], Training Loss: 3.7480, Accuracy: 0.3070\n"
     ]
    },
    {
     "name": "stderr",
     "output_type": "stream",
     "text": [
      "Epoch [241/1000]: 100%|██████████| 935/935 [00:14<00:00, 65.56batch/s, Batch Loss=3.76]\n"
     ]
    },
    {
     "name": "stdout",
     "output_type": "stream",
     "text": [
      "Epoch [241/1000], Training Loss: 3.7423, Accuracy: 0.3079\n"
     ]
    },
    {
     "name": "stderr",
     "output_type": "stream",
     "text": [
      "Epoch [242/1000]: 100%|██████████| 935/935 [00:14<00:00, 65.72batch/s, Batch Loss=4]   \n"
     ]
    },
    {
     "name": "stdout",
     "output_type": "stream",
     "text": [
      "Epoch [242/1000], Training Loss: 3.7370, Accuracy: 0.3070\n"
     ]
    },
    {
     "name": "stderr",
     "output_type": "stream",
     "text": [
      "Epoch [243/1000]: 100%|██████████| 935/935 [00:14<00:00, 64.79batch/s, Batch Loss=3.88]\n"
     ]
    },
    {
     "name": "stdout",
     "output_type": "stream",
     "text": [
      "Epoch [243/1000], Training Loss: 3.7338, Accuracy: 0.3074\n"
     ]
    },
    {
     "name": "stderr",
     "output_type": "stream",
     "text": [
      "Epoch [244/1000]: 100%|██████████| 935/935 [00:14<00:00, 66.08batch/s, Batch Loss=3.76]\n"
     ]
    },
    {
     "name": "stdout",
     "output_type": "stream",
     "text": [
      "Epoch [244/1000], Training Loss: 3.7313, Accuracy: 0.3087\n"
     ]
    },
    {
     "name": "stderr",
     "output_type": "stream",
     "text": [
      "Epoch [245/1000]: 100%|██████████| 935/935 [00:14<00:00, 65.74batch/s, Batch Loss=3.73]\n"
     ]
    },
    {
     "name": "stdout",
     "output_type": "stream",
     "text": [
      "Epoch [245/1000], Training Loss: 3.7278, Accuracy: 0.3091\n"
     ]
    },
    {
     "name": "stderr",
     "output_type": "stream",
     "text": [
      "Epoch [246/1000]: 100%|██████████| 935/935 [00:13<00:00, 66.81batch/s, Batch Loss=3.99]\n"
     ]
    },
    {
     "name": "stdout",
     "output_type": "stream",
     "text": [
      "Epoch [246/1000], Training Loss: 3.7271, Accuracy: 0.3084\n"
     ]
    },
    {
     "name": "stderr",
     "output_type": "stream",
     "text": [
      "Epoch [247/1000]: 100%|██████████| 935/935 [00:14<00:00, 66.00batch/s, Batch Loss=3.94]\n"
     ]
    },
    {
     "name": "stdout",
     "output_type": "stream",
     "text": [
      "Epoch [247/1000], Training Loss: 3.7231, Accuracy: 0.3096\n"
     ]
    },
    {
     "name": "stderr",
     "output_type": "stream",
     "text": [
      "Epoch [248/1000]: 100%|██████████| 935/935 [00:14<00:00, 66.58batch/s, Batch Loss=3.94]\n"
     ]
    },
    {
     "name": "stdout",
     "output_type": "stream",
     "text": [
      "Epoch [248/1000], Training Loss: 3.7247, Accuracy: 0.3092\n"
     ]
    },
    {
     "name": "stderr",
     "output_type": "stream",
     "text": [
      "Epoch [249/1000]: 100%|██████████| 935/935 [00:14<00:00, 66.57batch/s, Batch Loss=3.88]\n"
     ]
    },
    {
     "name": "stdout",
     "output_type": "stream",
     "text": [
      "Epoch [249/1000], Training Loss: 3.7175, Accuracy: 0.3088\n"
     ]
    },
    {
     "name": "stderr",
     "output_type": "stream",
     "text": [
      "Epoch [250/1000]: 100%|██████████| 935/935 [00:14<00:00, 66.25batch/s, Batch Loss=4.05]\n"
     ]
    },
    {
     "name": "stdout",
     "output_type": "stream",
     "text": [
      "Epoch [250/1000], Training Loss: 3.7178, Accuracy: 0.3099\n",
      "\n",
      "Evaluating on validation set...\n"
     ]
    },
    {
     "name": "stderr",
     "output_type": "stream",
     "text": [
      "Evaluating HR & NDCG for multiple k: 100%|██████████| 201/201 [00:05<00:00, 38.63it/s]\n"
     ]
    },
    {
     "name": "stdout",
     "output_type": "stream",
     "text": [
      "Validation HR@5: 0.3742, NDCG@5: 0.3067\n",
      "Validation HR@10: 0.4222, NDCG@10: 0.3223\n",
      "Validation HR@20: 0.4651, NDCG@20: 0.3332\n",
      "Model saved at 'uet4rec64_rr_model_epoch_250.pth'\n"
     ]
    },
    {
     "name": "stderr",
     "output_type": "stream",
     "text": [
      "Epoch [251/1000]: 100%|██████████| 935/935 [00:14<00:00, 65.67batch/s, Batch Loss=3.49]\n"
     ]
    },
    {
     "name": "stdout",
     "output_type": "stream",
     "text": [
      "Epoch [251/1000], Training Loss: 3.7162, Accuracy: 0.3104\n"
     ]
    },
    {
     "name": "stderr",
     "output_type": "stream",
     "text": [
      "Epoch [252/1000]: 100%|██████████| 935/935 [00:14<00:00, 66.04batch/s, Batch Loss=3.74]\n"
     ]
    },
    {
     "name": "stdout",
     "output_type": "stream",
     "text": [
      "Epoch [252/1000], Training Loss: 3.7054, Accuracy: 0.3113\n"
     ]
    },
    {
     "name": "stderr",
     "output_type": "stream",
     "text": [
      "Epoch [253/1000]: 100%|██████████| 935/935 [00:14<00:00, 66.46batch/s, Batch Loss=3.56]\n"
     ]
    },
    {
     "name": "stdout",
     "output_type": "stream",
     "text": [
      "Epoch [253/1000], Training Loss: 3.7082, Accuracy: 0.3106\n"
     ]
    },
    {
     "name": "stderr",
     "output_type": "stream",
     "text": [
      "Epoch [254/1000]: 100%|██████████| 935/935 [00:14<00:00, 66.44batch/s, Batch Loss=4.08]\n"
     ]
    },
    {
     "name": "stdout",
     "output_type": "stream",
     "text": [
      "Epoch [254/1000], Training Loss: 3.7110, Accuracy: 0.3099\n"
     ]
    },
    {
     "name": "stderr",
     "output_type": "stream",
     "text": [
      "Epoch [255/1000]: 100%|██████████| 935/935 [00:14<00:00, 66.17batch/s, Batch Loss=3.79]\n"
     ]
    },
    {
     "name": "stdout",
     "output_type": "stream",
     "text": [
      "Epoch [255/1000], Training Loss: 3.7055, Accuracy: 0.3106\n"
     ]
    },
    {
     "name": "stderr",
     "output_type": "stream",
     "text": [
      "Epoch [256/1000]: 100%|██████████| 935/935 [00:14<00:00, 66.31batch/s, Batch Loss=3.77]\n"
     ]
    },
    {
     "name": "stdout",
     "output_type": "stream",
     "text": [
      "Epoch [256/1000], Training Loss: 3.6925, Accuracy: 0.3128\n"
     ]
    },
    {
     "name": "stderr",
     "output_type": "stream",
     "text": [
      "Epoch [257/1000]: 100%|██████████| 935/935 [00:13<00:00, 66.88batch/s, Batch Loss=3.65]\n"
     ]
    },
    {
     "name": "stdout",
     "output_type": "stream",
     "text": [
      "Epoch [257/1000], Training Loss: 3.6973, Accuracy: 0.3103\n"
     ]
    },
    {
     "name": "stderr",
     "output_type": "stream",
     "text": [
      "Epoch [258/1000]: 100%|██████████| 935/935 [00:14<00:00, 66.64batch/s, Batch Loss=4.31]\n"
     ]
    },
    {
     "name": "stdout",
     "output_type": "stream",
     "text": [
      "Epoch [258/1000], Training Loss: 3.6949, Accuracy: 0.3106\n"
     ]
    },
    {
     "name": "stderr",
     "output_type": "stream",
     "text": [
      "Epoch [259/1000]: 100%|██████████| 935/935 [00:14<00:00, 66.50batch/s, Batch Loss=3.93]\n"
     ]
    },
    {
     "name": "stdout",
     "output_type": "stream",
     "text": [
      "Epoch [259/1000], Training Loss: 3.6904, Accuracy: 0.3121\n"
     ]
    },
    {
     "name": "stderr",
     "output_type": "stream",
     "text": [
      "Epoch [260/1000]: 100%|██████████| 935/935 [00:14<00:00, 66.51batch/s, Batch Loss=3.82]\n"
     ]
    },
    {
     "name": "stdout",
     "output_type": "stream",
     "text": [
      "Epoch [260/1000], Training Loss: 3.6837, Accuracy: 0.3130\n"
     ]
    },
    {
     "name": "stderr",
     "output_type": "stream",
     "text": [
      "Epoch [261/1000]: 100%|██████████| 935/935 [00:13<00:00, 67.76batch/s, Batch Loss=4.05]\n"
     ]
    },
    {
     "name": "stdout",
     "output_type": "stream",
     "text": [
      "Epoch [261/1000], Training Loss: 3.6795, Accuracy: 0.3136\n"
     ]
    },
    {
     "name": "stderr",
     "output_type": "stream",
     "text": [
      "Epoch [262/1000]: 100%|██████████| 935/935 [00:14<00:00, 66.61batch/s, Batch Loss=3.67]\n"
     ]
    },
    {
     "name": "stdout",
     "output_type": "stream",
     "text": [
      "Epoch [262/1000], Training Loss: 3.6794, Accuracy: 0.3124\n"
     ]
    },
    {
     "name": "stderr",
     "output_type": "stream",
     "text": [
      "Epoch [263/1000]: 100%|██████████| 935/935 [00:13<00:00, 66.93batch/s, Batch Loss=3.75]\n"
     ]
    },
    {
     "name": "stdout",
     "output_type": "stream",
     "text": [
      "Epoch [263/1000], Training Loss: 3.6783, Accuracy: 0.3126\n"
     ]
    },
    {
     "name": "stderr",
     "output_type": "stream",
     "text": [
      "Epoch [264/1000]: 100%|██████████| 935/935 [00:13<00:00, 67.88batch/s, Batch Loss=4.14]\n"
     ]
    },
    {
     "name": "stdout",
     "output_type": "stream",
     "text": [
      "Epoch [264/1000], Training Loss: 3.6803, Accuracy: 0.3132\n"
     ]
    },
    {
     "name": "stderr",
     "output_type": "stream",
     "text": [
      "Epoch [265/1000]: 100%|██████████| 935/935 [00:13<00:00, 67.11batch/s, Batch Loss=3.89]\n"
     ]
    },
    {
     "name": "stdout",
     "output_type": "stream",
     "text": [
      "Epoch [265/1000], Training Loss: 3.6762, Accuracy: 0.3138\n"
     ]
    },
    {
     "name": "stderr",
     "output_type": "stream",
     "text": [
      "Epoch [266/1000]: 100%|██████████| 935/935 [00:14<00:00, 66.52batch/s, Batch Loss=3.83]\n"
     ]
    },
    {
     "name": "stdout",
     "output_type": "stream",
     "text": [
      "Epoch [266/1000], Training Loss: 3.6731, Accuracy: 0.3137\n"
     ]
    },
    {
     "name": "stderr",
     "output_type": "stream",
     "text": [
      "Epoch [267/1000]: 100%|██████████| 935/935 [00:14<00:00, 66.18batch/s, Batch Loss=3.83]\n"
     ]
    },
    {
     "name": "stdout",
     "output_type": "stream",
     "text": [
      "Epoch [267/1000], Training Loss: 3.6617, Accuracy: 0.3149\n"
     ]
    },
    {
     "name": "stderr",
     "output_type": "stream",
     "text": [
      "Epoch [268/1000]: 100%|██████████| 935/935 [00:13<00:00, 67.52batch/s, Batch Loss=3.87]\n"
     ]
    },
    {
     "name": "stdout",
     "output_type": "stream",
     "text": [
      "Epoch [268/1000], Training Loss: 3.6698, Accuracy: 0.3143\n"
     ]
    },
    {
     "name": "stderr",
     "output_type": "stream",
     "text": [
      "Epoch [269/1000]: 100%|██████████| 935/935 [00:13<00:00, 66.99batch/s, Batch Loss=3.56]\n"
     ]
    },
    {
     "name": "stdout",
     "output_type": "stream",
     "text": [
      "Epoch [269/1000], Training Loss: 3.6637, Accuracy: 0.3156\n"
     ]
    },
    {
     "name": "stderr",
     "output_type": "stream",
     "text": [
      "Epoch [270/1000]: 100%|██████████| 935/935 [00:13<00:00, 67.29batch/s, Batch Loss=4.27]\n"
     ]
    },
    {
     "name": "stdout",
     "output_type": "stream",
     "text": [
      "Epoch [270/1000], Training Loss: 3.6652, Accuracy: 0.3143\n"
     ]
    },
    {
     "name": "stderr",
     "output_type": "stream",
     "text": [
      "Epoch [271/1000]: 100%|██████████| 935/935 [00:13<00:00, 67.27batch/s, Batch Loss=3.83]\n"
     ]
    },
    {
     "name": "stdout",
     "output_type": "stream",
     "text": [
      "Epoch [271/1000], Training Loss: 3.6591, Accuracy: 0.3152\n"
     ]
    },
    {
     "name": "stderr",
     "output_type": "stream",
     "text": [
      "Epoch [272/1000]: 100%|██████████| 935/935 [00:13<00:00, 67.61batch/s, Batch Loss=3.91]\n"
     ]
    },
    {
     "name": "stdout",
     "output_type": "stream",
     "text": [
      "Epoch [272/1000], Training Loss: 3.6566, Accuracy: 0.3158\n"
     ]
    },
    {
     "name": "stderr",
     "output_type": "stream",
     "text": [
      "Epoch [273/1000]: 100%|██████████| 935/935 [00:14<00:00, 66.50batch/s, Batch Loss=3.77]\n"
     ]
    },
    {
     "name": "stdout",
     "output_type": "stream",
     "text": [
      "Epoch [273/1000], Training Loss: 3.6530, Accuracy: 0.3156\n"
     ]
    },
    {
     "name": "stderr",
     "output_type": "stream",
     "text": [
      "Epoch [274/1000]: 100%|██████████| 935/935 [00:13<00:00, 67.26batch/s, Batch Loss=3.5] \n"
     ]
    },
    {
     "name": "stdout",
     "output_type": "stream",
     "text": [
      "Epoch [274/1000], Training Loss: 3.6533, Accuracy: 0.3154\n"
     ]
    },
    {
     "name": "stderr",
     "output_type": "stream",
     "text": [
      "Epoch [275/1000]: 100%|██████████| 935/935 [00:13<00:00, 66.95batch/s, Batch Loss=3.53]\n"
     ]
    },
    {
     "name": "stdout",
     "output_type": "stream",
     "text": [
      "Epoch [275/1000], Training Loss: 3.6493, Accuracy: 0.3160\n"
     ]
    },
    {
     "name": "stderr",
     "output_type": "stream",
     "text": [
      "Epoch [276/1000]: 100%|██████████| 935/935 [00:13<00:00, 67.09batch/s, Batch Loss=3.59]\n"
     ]
    },
    {
     "name": "stdout",
     "output_type": "stream",
     "text": [
      "Epoch [276/1000], Training Loss: 3.6438, Accuracy: 0.3164\n"
     ]
    },
    {
     "name": "stderr",
     "output_type": "stream",
     "text": [
      "Epoch [277/1000]: 100%|██████████| 935/935 [00:13<00:00, 67.59batch/s, Batch Loss=3.72]\n"
     ]
    },
    {
     "name": "stdout",
     "output_type": "stream",
     "text": [
      "Epoch [277/1000], Training Loss: 3.6451, Accuracy: 0.3173\n"
     ]
    },
    {
     "name": "stderr",
     "output_type": "stream",
     "text": [
      "Epoch [278/1000]: 100%|██████████| 935/935 [00:13<00:00, 67.36batch/s, Batch Loss=3.72]\n"
     ]
    },
    {
     "name": "stdout",
     "output_type": "stream",
     "text": [
      "Epoch [278/1000], Training Loss: 3.6410, Accuracy: 0.3161\n"
     ]
    },
    {
     "name": "stderr",
     "output_type": "stream",
     "text": [
      "Epoch [279/1000]: 100%|██████████| 935/935 [00:14<00:00, 66.69batch/s, Batch Loss=3.84]\n"
     ]
    },
    {
     "name": "stdout",
     "output_type": "stream",
     "text": [
      "Epoch [279/1000], Training Loss: 3.6359, Accuracy: 0.3169\n"
     ]
    },
    {
     "name": "stderr",
     "output_type": "stream",
     "text": [
      "Epoch [280/1000]: 100%|██████████| 935/935 [00:13<00:00, 66.97batch/s, Batch Loss=3.81]\n"
     ]
    },
    {
     "name": "stdout",
     "output_type": "stream",
     "text": [
      "Epoch [280/1000], Training Loss: 3.6341, Accuracy: 0.3170\n"
     ]
    },
    {
     "name": "stderr",
     "output_type": "stream",
     "text": [
      "Epoch [281/1000]: 100%|██████████| 935/935 [00:14<00:00, 66.33batch/s, Batch Loss=4.05]\n"
     ]
    },
    {
     "name": "stdout",
     "output_type": "stream",
     "text": [
      "Epoch [281/1000], Training Loss: 3.6324, Accuracy: 0.3186\n"
     ]
    },
    {
     "name": "stderr",
     "output_type": "stream",
     "text": [
      "Epoch [282/1000]: 100%|██████████| 935/935 [00:13<00:00, 67.90batch/s, Batch Loss=3.67]\n"
     ]
    },
    {
     "name": "stdout",
     "output_type": "stream",
     "text": [
      "Epoch [282/1000], Training Loss: 3.6305, Accuracy: 0.3180\n"
     ]
    },
    {
     "name": "stderr",
     "output_type": "stream",
     "text": [
      "Epoch [283/1000]: 100%|██████████| 935/935 [00:13<00:00, 67.16batch/s, Batch Loss=3.71]\n"
     ]
    },
    {
     "name": "stdout",
     "output_type": "stream",
     "text": [
      "Epoch [283/1000], Training Loss: 3.6228, Accuracy: 0.3194\n"
     ]
    },
    {
     "name": "stderr",
     "output_type": "stream",
     "text": [
      "Epoch [284/1000]: 100%|██████████| 935/935 [00:13<00:00, 67.07batch/s, Batch Loss=3.87]\n"
     ]
    },
    {
     "name": "stdout",
     "output_type": "stream",
     "text": [
      "Epoch [284/1000], Training Loss: 3.6310, Accuracy: 0.3175\n"
     ]
    },
    {
     "name": "stderr",
     "output_type": "stream",
     "text": [
      "Epoch [285/1000]: 100%|██████████| 935/935 [00:14<00:00, 66.71batch/s, Batch Loss=3.7] \n"
     ]
    },
    {
     "name": "stdout",
     "output_type": "stream",
     "text": [
      "Epoch [285/1000], Training Loss: 3.6208, Accuracy: 0.3195\n"
     ]
    },
    {
     "name": "stderr",
     "output_type": "stream",
     "text": [
      "Epoch [286/1000]: 100%|██████████| 935/935 [00:13<00:00, 67.82batch/s, Batch Loss=3.73]\n"
     ]
    },
    {
     "name": "stdout",
     "output_type": "stream",
     "text": [
      "Epoch [286/1000], Training Loss: 3.6170, Accuracy: 0.3194\n"
     ]
    },
    {
     "name": "stderr",
     "output_type": "stream",
     "text": [
      "Epoch [287/1000]: 100%|██████████| 935/935 [00:13<00:00, 67.25batch/s, Batch Loss=3.94]\n"
     ]
    },
    {
     "name": "stdout",
     "output_type": "stream",
     "text": [
      "Epoch [287/1000], Training Loss: 3.6225, Accuracy: 0.3181\n"
     ]
    },
    {
     "name": "stderr",
     "output_type": "stream",
     "text": [
      "Epoch [288/1000]: 100%|██████████| 935/935 [00:13<00:00, 66.99batch/s, Batch Loss=3.53]\n"
     ]
    },
    {
     "name": "stdout",
     "output_type": "stream",
     "text": [
      "Epoch [288/1000], Training Loss: 3.6136, Accuracy: 0.3184\n"
     ]
    },
    {
     "name": "stderr",
     "output_type": "stream",
     "text": [
      "Epoch [289/1000]: 100%|██████████| 935/935 [00:13<00:00, 67.08batch/s, Batch Loss=4]   \n"
     ]
    },
    {
     "name": "stdout",
     "output_type": "stream",
     "text": [
      "Epoch [289/1000], Training Loss: 3.6093, Accuracy: 0.3204\n"
     ]
    },
    {
     "name": "stderr",
     "output_type": "stream",
     "text": [
      "Epoch [290/1000]: 100%|██████████| 935/935 [00:14<00:00, 66.18batch/s, Batch Loss=3.88]\n"
     ]
    },
    {
     "name": "stdout",
     "output_type": "stream",
     "text": [
      "Epoch [290/1000], Training Loss: 3.6136, Accuracy: 0.3209\n"
     ]
    },
    {
     "name": "stderr",
     "output_type": "stream",
     "text": [
      "Epoch [291/1000]: 100%|██████████| 935/935 [00:14<00:00, 66.50batch/s, Batch Loss=3.56]\n"
     ]
    },
    {
     "name": "stdout",
     "output_type": "stream",
     "text": [
      "Epoch [291/1000], Training Loss: 3.6027, Accuracy: 0.3201\n"
     ]
    },
    {
     "name": "stderr",
     "output_type": "stream",
     "text": [
      "Epoch [292/1000]: 100%|██████████| 935/935 [00:13<00:00, 66.83batch/s, Batch Loss=3.75]\n"
     ]
    },
    {
     "name": "stdout",
     "output_type": "stream",
     "text": [
      "Epoch [292/1000], Training Loss: 3.6026, Accuracy: 0.3213\n"
     ]
    },
    {
     "name": "stderr",
     "output_type": "stream",
     "text": [
      "Epoch [293/1000]: 100%|██████████| 935/935 [00:13<00:00, 67.07batch/s, Batch Loss=3.75]\n"
     ]
    },
    {
     "name": "stdout",
     "output_type": "stream",
     "text": [
      "Epoch [293/1000], Training Loss: 3.5999, Accuracy: 0.3211\n"
     ]
    },
    {
     "name": "stderr",
     "output_type": "stream",
     "text": [
      "Epoch [294/1000]: 100%|██████████| 935/935 [00:13<00:00, 66.95batch/s, Batch Loss=4.05]\n"
     ]
    },
    {
     "name": "stdout",
     "output_type": "stream",
     "text": [
      "Epoch [294/1000], Training Loss: 3.5998, Accuracy: 0.3203\n"
     ]
    },
    {
     "name": "stderr",
     "output_type": "stream",
     "text": [
      "Epoch [295/1000]: 100%|██████████| 935/935 [00:13<00:00, 66.85batch/s, Batch Loss=3.65]\n"
     ]
    },
    {
     "name": "stdout",
     "output_type": "stream",
     "text": [
      "Epoch [295/1000], Training Loss: 3.5931, Accuracy: 0.3214\n"
     ]
    },
    {
     "name": "stderr",
     "output_type": "stream",
     "text": [
      "Epoch [296/1000]: 100%|██████████| 935/935 [00:13<00:00, 66.80batch/s, Batch Loss=3.98]\n"
     ]
    },
    {
     "name": "stdout",
     "output_type": "stream",
     "text": [
      "Epoch [296/1000], Training Loss: 3.5935, Accuracy: 0.3218\n"
     ]
    },
    {
     "name": "stderr",
     "output_type": "stream",
     "text": [
      "Epoch [297/1000]: 100%|██████████| 935/935 [00:13<00:00, 68.30batch/s, Batch Loss=3.57]\n"
     ]
    },
    {
     "name": "stdout",
     "output_type": "stream",
     "text": [
      "Epoch [297/1000], Training Loss: 3.5896, Accuracy: 0.3220\n"
     ]
    },
    {
     "name": "stderr",
     "output_type": "stream",
     "text": [
      "Epoch [298/1000]: 100%|██████████| 935/935 [00:13<00:00, 67.15batch/s, Batch Loss=4.03]\n"
     ]
    },
    {
     "name": "stdout",
     "output_type": "stream",
     "text": [
      "Epoch [298/1000], Training Loss: 3.5802, Accuracy: 0.3235\n"
     ]
    },
    {
     "name": "stderr",
     "output_type": "stream",
     "text": [
      "Epoch [299/1000]: 100%|██████████| 935/935 [00:14<00:00, 66.66batch/s, Batch Loss=4.03]\n"
     ]
    },
    {
     "name": "stdout",
     "output_type": "stream",
     "text": [
      "Epoch [299/1000], Training Loss: 3.5883, Accuracy: 0.3229\n"
     ]
    },
    {
     "name": "stderr",
     "output_type": "stream",
     "text": [
      "Epoch [300/1000]: 100%|██████████| 935/935 [00:13<00:00, 67.69batch/s, Batch Loss=3.9] \n"
     ]
    },
    {
     "name": "stdout",
     "output_type": "stream",
     "text": [
      "Epoch [300/1000], Training Loss: 3.5836, Accuracy: 0.3234\n",
      "\n",
      "Evaluating on validation set...\n"
     ]
    },
    {
     "name": "stderr",
     "output_type": "stream",
     "text": [
      "Evaluating HR & NDCG for multiple k: 100%|██████████| 201/201 [00:05<00:00, 38.11it/s]\n"
     ]
    },
    {
     "name": "stdout",
     "output_type": "stream",
     "text": [
      "Validation HR@5: 0.3741, NDCG@5: 0.3075\n",
      "Validation HR@10: 0.4208, NDCG@10: 0.3226\n",
      "Validation HR@20: 0.4652, NDCG@20: 0.3339\n",
      "Model saved at 'uet4rec64_rr_model_epoch_300.pth'\n"
     ]
    },
    {
     "name": "stderr",
     "output_type": "stream",
     "text": [
      "Epoch [301/1000]: 100%|██████████| 935/935 [00:14<00:00, 66.72batch/s, Batch Loss=3.81]\n"
     ]
    },
    {
     "name": "stdout",
     "output_type": "stream",
     "text": [
      "Epoch [301/1000], Training Loss: 3.5828, Accuracy: 0.3227\n"
     ]
    },
    {
     "name": "stderr",
     "output_type": "stream",
     "text": [
      "Epoch [302/1000]: 100%|██████████| 935/935 [00:14<00:00, 66.61batch/s, Batch Loss=3.69]\n"
     ]
    },
    {
     "name": "stdout",
     "output_type": "stream",
     "text": [
      "Epoch [302/1000], Training Loss: 3.5791, Accuracy: 0.3223\n"
     ]
    },
    {
     "name": "stderr",
     "output_type": "stream",
     "text": [
      "Epoch [303/1000]: 100%|██████████| 935/935 [00:13<00:00, 67.18batch/s, Batch Loss=4.03]\n"
     ]
    },
    {
     "name": "stdout",
     "output_type": "stream",
     "text": [
      "Epoch [303/1000], Training Loss: 3.5711, Accuracy: 0.3236\n"
     ]
    },
    {
     "name": "stderr",
     "output_type": "stream",
     "text": [
      "Epoch [304/1000]: 100%|██████████| 935/935 [00:13<00:00, 67.02batch/s, Batch Loss=3.96]\n"
     ]
    },
    {
     "name": "stdout",
     "output_type": "stream",
     "text": [
      "Epoch [304/1000], Training Loss: 3.5695, Accuracy: 0.3246\n"
     ]
    },
    {
     "name": "stderr",
     "output_type": "stream",
     "text": [
      "Epoch [305/1000]: 100%|██████████| 935/935 [00:14<00:00, 66.47batch/s, Batch Loss=3.97]\n"
     ]
    },
    {
     "name": "stdout",
     "output_type": "stream",
     "text": [
      "Epoch [305/1000], Training Loss: 3.5741, Accuracy: 0.3231\n"
     ]
    },
    {
     "name": "stderr",
     "output_type": "stream",
     "text": [
      "Epoch [306/1000]: 100%|██████████| 935/935 [00:14<00:00, 66.69batch/s, Batch Loss=3.83]\n"
     ]
    },
    {
     "name": "stdout",
     "output_type": "stream",
     "text": [
      "Epoch [306/1000], Training Loss: 3.5716, Accuracy: 0.3235\n"
     ]
    },
    {
     "name": "stderr",
     "output_type": "stream",
     "text": [
      "Epoch [307/1000]: 100%|██████████| 935/935 [00:13<00:00, 66.88batch/s, Batch Loss=3.53]\n"
     ]
    },
    {
     "name": "stdout",
     "output_type": "stream",
     "text": [
      "Epoch [307/1000], Training Loss: 3.5784, Accuracy: 0.3237\n"
     ]
    },
    {
     "name": "stderr",
     "output_type": "stream",
     "text": [
      "Epoch [308/1000]: 100%|██████████| 935/935 [00:13<00:00, 67.59batch/s, Batch Loss=3.53]\n"
     ]
    },
    {
     "name": "stdout",
     "output_type": "stream",
     "text": [
      "Epoch [308/1000], Training Loss: 3.5643, Accuracy: 0.3246\n"
     ]
    },
    {
     "name": "stderr",
     "output_type": "stream",
     "text": [
      "Epoch [309/1000]: 100%|██████████| 935/935 [00:14<00:00, 66.01batch/s, Batch Loss=3.66]\n"
     ]
    },
    {
     "name": "stdout",
     "output_type": "stream",
     "text": [
      "Epoch [309/1000], Training Loss: 3.5674, Accuracy: 0.3234\n"
     ]
    },
    {
     "name": "stderr",
     "output_type": "stream",
     "text": [
      "Epoch [310/1000]: 100%|██████████| 935/935 [00:14<00:00, 65.84batch/s, Batch Loss=3.66]\n"
     ]
    },
    {
     "name": "stdout",
     "output_type": "stream",
     "text": [
      "Epoch [310/1000], Training Loss: 3.5605, Accuracy: 0.3250\n"
     ]
    },
    {
     "name": "stderr",
     "output_type": "stream",
     "text": [
      "Epoch [311/1000]: 100%|██████████| 935/935 [00:13<00:00, 67.20batch/s, Batch Loss=3.91]\n"
     ]
    },
    {
     "name": "stdout",
     "output_type": "stream",
     "text": [
      "Epoch [311/1000], Training Loss: 3.5628, Accuracy: 0.3243\n"
     ]
    },
    {
     "name": "stderr",
     "output_type": "stream",
     "text": [
      "Epoch [312/1000]: 100%|██████████| 935/935 [00:14<00:00, 66.55batch/s, Batch Loss=3.71]\n"
     ]
    },
    {
     "name": "stdout",
     "output_type": "stream",
     "text": [
      "Epoch [312/1000], Training Loss: 3.5529, Accuracy: 0.3259\n"
     ]
    },
    {
     "name": "stderr",
     "output_type": "stream",
     "text": [
      "Epoch [313/1000]: 100%|██████████| 935/935 [00:13<00:00, 66.92batch/s, Batch Loss=3.59]\n"
     ]
    },
    {
     "name": "stdout",
     "output_type": "stream",
     "text": [
      "Epoch [313/1000], Training Loss: 3.5552, Accuracy: 0.3257\n"
     ]
    },
    {
     "name": "stderr",
     "output_type": "stream",
     "text": [
      "Epoch [314/1000]: 100%|██████████| 935/935 [00:13<00:00, 67.08batch/s, Batch Loss=3.29]\n"
     ]
    },
    {
     "name": "stdout",
     "output_type": "stream",
     "text": [
      "Epoch [314/1000], Training Loss: 3.5530, Accuracy: 0.3252\n"
     ]
    },
    {
     "name": "stderr",
     "output_type": "stream",
     "text": [
      "Epoch [315/1000]: 100%|██████████| 935/935 [00:13<00:00, 66.88batch/s, Batch Loss=3.43]\n"
     ]
    },
    {
     "name": "stdout",
     "output_type": "stream",
     "text": [
      "Epoch [315/1000], Training Loss: 3.5436, Accuracy: 0.3274\n"
     ]
    },
    {
     "name": "stderr",
     "output_type": "stream",
     "text": [
      "Epoch [316/1000]: 100%|██████████| 935/935 [00:14<00:00, 66.63batch/s, Batch Loss=3.57]\n"
     ]
    },
    {
     "name": "stdout",
     "output_type": "stream",
     "text": [
      "Epoch [316/1000], Training Loss: 3.5441, Accuracy: 0.3267\n"
     ]
    },
    {
     "name": "stderr",
     "output_type": "stream",
     "text": [
      "Epoch [317/1000]: 100%|██████████| 935/935 [00:14<00:00, 65.81batch/s, Batch Loss=3.92]\n"
     ]
    },
    {
     "name": "stdout",
     "output_type": "stream",
     "text": [
      "Epoch [317/1000], Training Loss: 3.5410, Accuracy: 0.3285\n"
     ]
    },
    {
     "name": "stderr",
     "output_type": "stream",
     "text": [
      "Epoch [318/1000]: 100%|██████████| 935/935 [00:14<00:00, 65.70batch/s, Batch Loss=3.7] \n"
     ]
    },
    {
     "name": "stdout",
     "output_type": "stream",
     "text": [
      "Epoch [318/1000], Training Loss: 3.5412, Accuracy: 0.3276\n"
     ]
    },
    {
     "name": "stderr",
     "output_type": "stream",
     "text": [
      "Epoch [319/1000]: 100%|██████████| 935/935 [00:14<00:00, 66.35batch/s, Batch Loss=3.71]\n"
     ]
    },
    {
     "name": "stdout",
     "output_type": "stream",
     "text": [
      "Epoch [319/1000], Training Loss: 3.5429, Accuracy: 0.3274\n"
     ]
    },
    {
     "name": "stderr",
     "output_type": "stream",
     "text": [
      "Epoch [320/1000]: 100%|██████████| 935/935 [00:14<00:00, 65.86batch/s, Batch Loss=3.31]\n"
     ]
    },
    {
     "name": "stdout",
     "output_type": "stream",
     "text": [
      "Epoch [320/1000], Training Loss: 3.5380, Accuracy: 0.3273\n"
     ]
    },
    {
     "name": "stderr",
     "output_type": "stream",
     "text": [
      "Epoch [321/1000]: 100%|██████████| 935/935 [00:14<00:00, 65.44batch/s, Batch Loss=3.48]\n"
     ]
    },
    {
     "name": "stdout",
     "output_type": "stream",
     "text": [
      "Epoch [321/1000], Training Loss: 3.5286, Accuracy: 0.3285\n"
     ]
    },
    {
     "name": "stderr",
     "output_type": "stream",
     "text": [
      "Epoch [322/1000]: 100%|██████████| 935/935 [00:14<00:00, 66.01batch/s, Batch Loss=3.5] \n"
     ]
    },
    {
     "name": "stdout",
     "output_type": "stream",
     "text": [
      "Epoch [322/1000], Training Loss: 3.5319, Accuracy: 0.3274\n"
     ]
    },
    {
     "name": "stderr",
     "output_type": "stream",
     "text": [
      "Epoch [323/1000]: 100%|██████████| 935/935 [00:14<00:00, 65.97batch/s, Batch Loss=3.73]\n"
     ]
    },
    {
     "name": "stdout",
     "output_type": "stream",
     "text": [
      "Epoch [323/1000], Training Loss: 3.5326, Accuracy: 0.3272\n"
     ]
    },
    {
     "name": "stderr",
     "output_type": "stream",
     "text": [
      "Epoch [324/1000]: 100%|██████████| 935/935 [00:14<00:00, 65.37batch/s, Batch Loss=3.91]\n"
     ]
    },
    {
     "name": "stdout",
     "output_type": "stream",
     "text": [
      "Epoch [324/1000], Training Loss: 3.5286, Accuracy: 0.3287\n"
     ]
    },
    {
     "name": "stderr",
     "output_type": "stream",
     "text": [
      "Epoch [325/1000]: 100%|██████████| 935/935 [00:14<00:00, 65.66batch/s, Batch Loss=3.49]\n"
     ]
    },
    {
     "name": "stdout",
     "output_type": "stream",
     "text": [
      "Epoch [325/1000], Training Loss: 3.5265, Accuracy: 0.3292\n"
     ]
    },
    {
     "name": "stderr",
     "output_type": "stream",
     "text": [
      "Epoch [326/1000]: 100%|██████████| 935/935 [00:13<00:00, 67.35batch/s, Batch Loss=3.7] \n"
     ]
    },
    {
     "name": "stdout",
     "output_type": "stream",
     "text": [
      "Epoch [326/1000], Training Loss: 3.5191, Accuracy: 0.3294\n"
     ]
    },
    {
     "name": "stderr",
     "output_type": "stream",
     "text": [
      "Epoch [327/1000]: 100%|██████████| 935/935 [00:14<00:00, 66.75batch/s, Batch Loss=3.65]\n"
     ]
    },
    {
     "name": "stdout",
     "output_type": "stream",
     "text": [
      "Epoch [327/1000], Training Loss: 3.5225, Accuracy: 0.3305\n"
     ]
    },
    {
     "name": "stderr",
     "output_type": "stream",
     "text": [
      "Epoch [328/1000]: 100%|██████████| 935/935 [00:14<00:00, 66.08batch/s, Batch Loss=3.44]\n"
     ]
    },
    {
     "name": "stdout",
     "output_type": "stream",
     "text": [
      "Epoch [328/1000], Training Loss: 3.5231, Accuracy: 0.3285\n"
     ]
    },
    {
     "name": "stderr",
     "output_type": "stream",
     "text": [
      "Epoch [329/1000]: 100%|██████████| 935/935 [00:13<00:00, 67.41batch/s, Batch Loss=3.93]\n"
     ]
    },
    {
     "name": "stdout",
     "output_type": "stream",
     "text": [
      "Epoch [329/1000], Training Loss: 3.5164, Accuracy: 0.3298\n"
     ]
    },
    {
     "name": "stderr",
     "output_type": "stream",
     "text": [
      "Epoch [330/1000]: 100%|██████████| 935/935 [00:13<00:00, 66.82batch/s, Batch Loss=3.55]\n"
     ]
    },
    {
     "name": "stdout",
     "output_type": "stream",
     "text": [
      "Epoch [330/1000], Training Loss: 3.5131, Accuracy: 0.3313\n"
     ]
    },
    {
     "name": "stderr",
     "output_type": "stream",
     "text": [
      "Epoch [331/1000]: 100%|██████████| 935/935 [00:14<00:00, 66.40batch/s, Batch Loss=3.72]\n"
     ]
    },
    {
     "name": "stdout",
     "output_type": "stream",
     "text": [
      "Epoch [331/1000], Training Loss: 3.5151, Accuracy: 0.3304\n"
     ]
    },
    {
     "name": "stderr",
     "output_type": "stream",
     "text": [
      "Epoch [332/1000]: 100%|██████████| 935/935 [00:14<00:00, 65.47batch/s, Batch Loss=3.91]\n"
     ]
    },
    {
     "name": "stdout",
     "output_type": "stream",
     "text": [
      "Epoch [332/1000], Training Loss: 3.5176, Accuracy: 0.3299\n"
     ]
    },
    {
     "name": "stderr",
     "output_type": "stream",
     "text": [
      "Epoch [333/1000]: 100%|██████████| 935/935 [00:13<00:00, 67.00batch/s, Batch Loss=3.7] \n"
     ]
    },
    {
     "name": "stdout",
     "output_type": "stream",
     "text": [
      "Epoch [333/1000], Training Loss: 3.5056, Accuracy: 0.3309\n"
     ]
    },
    {
     "name": "stderr",
     "output_type": "stream",
     "text": [
      "Epoch [334/1000]: 100%|██████████| 935/935 [00:14<00:00, 66.49batch/s, Batch Loss=3.75]\n"
     ]
    },
    {
     "name": "stdout",
     "output_type": "stream",
     "text": [
      "Epoch [334/1000], Training Loss: 3.5064, Accuracy: 0.3296\n"
     ]
    },
    {
     "name": "stderr",
     "output_type": "stream",
     "text": [
      "Epoch [335/1000]: 100%|██████████| 935/935 [00:14<00:00, 66.73batch/s, Batch Loss=3.59]\n"
     ]
    },
    {
     "name": "stdout",
     "output_type": "stream",
     "text": [
      "Epoch [335/1000], Training Loss: 3.5054, Accuracy: 0.3316\n"
     ]
    },
    {
     "name": "stderr",
     "output_type": "stream",
     "text": [
      "Epoch [336/1000]: 100%|██████████| 935/935 [00:14<00:00, 66.54batch/s, Batch Loss=3.72]\n"
     ]
    },
    {
     "name": "stdout",
     "output_type": "stream",
     "text": [
      "Epoch [336/1000], Training Loss: 3.4992, Accuracy: 0.3310\n"
     ]
    },
    {
     "name": "stderr",
     "output_type": "stream",
     "text": [
      "Epoch [337/1000]: 100%|██████████| 935/935 [00:14<00:00, 66.56batch/s, Batch Loss=4]   \n"
     ]
    },
    {
     "name": "stdout",
     "output_type": "stream",
     "text": [
      "Epoch [337/1000], Training Loss: 3.5023, Accuracy: 0.3309\n"
     ]
    },
    {
     "name": "stderr",
     "output_type": "stream",
     "text": [
      "Epoch [338/1000]: 100%|██████████| 935/935 [00:14<00:00, 66.33batch/s, Batch Loss=3.48]\n"
     ]
    },
    {
     "name": "stdout",
     "output_type": "stream",
     "text": [
      "Epoch [338/1000], Training Loss: 3.4973, Accuracy: 0.3306\n"
     ]
    },
    {
     "name": "stderr",
     "output_type": "stream",
     "text": [
      "Epoch [339/1000]: 100%|██████████| 935/935 [00:14<00:00, 66.42batch/s, Batch Loss=3.72]\n"
     ]
    },
    {
     "name": "stdout",
     "output_type": "stream",
     "text": [
      "Epoch [339/1000], Training Loss: 3.4911, Accuracy: 0.3312\n"
     ]
    },
    {
     "name": "stderr",
     "output_type": "stream",
     "text": [
      "Epoch [340/1000]: 100%|██████████| 935/935 [00:14<00:00, 66.73batch/s, Batch Loss=3.56]\n"
     ]
    },
    {
     "name": "stdout",
     "output_type": "stream",
     "text": [
      "Epoch [340/1000], Training Loss: 3.4935, Accuracy: 0.3316\n"
     ]
    },
    {
     "name": "stderr",
     "output_type": "stream",
     "text": [
      "Epoch [341/1000]: 100%|██████████| 935/935 [00:13<00:00, 67.36batch/s, Batch Loss=3.43]\n"
     ]
    },
    {
     "name": "stdout",
     "output_type": "stream",
     "text": [
      "Epoch [341/1000], Training Loss: 3.4903, Accuracy: 0.3316\n"
     ]
    },
    {
     "name": "stderr",
     "output_type": "stream",
     "text": [
      "Epoch [342/1000]: 100%|██████████| 935/935 [00:13<00:00, 66.89batch/s, Batch Loss=3.39]\n"
     ]
    },
    {
     "name": "stdout",
     "output_type": "stream",
     "text": [
      "Epoch [342/1000], Training Loss: 3.4917, Accuracy: 0.3316\n"
     ]
    },
    {
     "name": "stderr",
     "output_type": "stream",
     "text": [
      "Epoch [343/1000]: 100%|██████████| 935/935 [00:13<00:00, 67.44batch/s, Batch Loss=3.46]\n"
     ]
    },
    {
     "name": "stdout",
     "output_type": "stream",
     "text": [
      "Epoch [343/1000], Training Loss: 3.4843, Accuracy: 0.3334\n"
     ]
    },
    {
     "name": "stderr",
     "output_type": "stream",
     "text": [
      "Epoch [344/1000]: 100%|██████████| 935/935 [00:14<00:00, 66.61batch/s, Batch Loss=3.67]\n"
     ]
    },
    {
     "name": "stdout",
     "output_type": "stream",
     "text": [
      "Epoch [344/1000], Training Loss: 3.4800, Accuracy: 0.3317\n"
     ]
    },
    {
     "name": "stderr",
     "output_type": "stream",
     "text": [
      "Epoch [345/1000]: 100%|██████████| 935/935 [00:13<00:00, 66.80batch/s, Batch Loss=3.67]\n"
     ]
    },
    {
     "name": "stdout",
     "output_type": "stream",
     "text": [
      "Epoch [345/1000], Training Loss: 3.4805, Accuracy: 0.3332\n"
     ]
    },
    {
     "name": "stderr",
     "output_type": "stream",
     "text": [
      "Epoch [346/1000]: 100%|██████████| 935/935 [00:13<00:00, 66.86batch/s, Batch Loss=3.5] \n"
     ]
    },
    {
     "name": "stdout",
     "output_type": "stream",
     "text": [
      "Epoch [346/1000], Training Loss: 3.4798, Accuracy: 0.3336\n"
     ]
    },
    {
     "name": "stderr",
     "output_type": "stream",
     "text": [
      "Epoch [347/1000]: 100%|██████████| 935/935 [00:13<00:00, 67.29batch/s, Batch Loss=3.9] \n"
     ]
    },
    {
     "name": "stdout",
     "output_type": "stream",
     "text": [
      "Epoch [347/1000], Training Loss: 3.4779, Accuracy: 0.3336\n"
     ]
    },
    {
     "name": "stderr",
     "output_type": "stream",
     "text": [
      "Epoch [348/1000]: 100%|██████████| 935/935 [00:14<00:00, 66.60batch/s, Batch Loss=3.76]\n"
     ]
    },
    {
     "name": "stdout",
     "output_type": "stream",
     "text": [
      "Epoch [348/1000], Training Loss: 3.4672, Accuracy: 0.3340\n"
     ]
    },
    {
     "name": "stderr",
     "output_type": "stream",
     "text": [
      "Epoch [349/1000]: 100%|██████████| 935/935 [00:14<00:00, 66.77batch/s, Batch Loss=3.26]\n"
     ]
    },
    {
     "name": "stdout",
     "output_type": "stream",
     "text": [
      "Epoch [349/1000], Training Loss: 3.4714, Accuracy: 0.3344\n"
     ]
    },
    {
     "name": "stderr",
     "output_type": "stream",
     "text": [
      "Epoch [350/1000]: 100%|██████████| 935/935 [00:13<00:00, 67.11batch/s, Batch Loss=3.68]\n"
     ]
    },
    {
     "name": "stdout",
     "output_type": "stream",
     "text": [
      "Epoch [350/1000], Training Loss: 3.4760, Accuracy: 0.3338\n",
      "\n",
      "Evaluating on validation set...\n"
     ]
    },
    {
     "name": "stderr",
     "output_type": "stream",
     "text": [
      "Evaluating HR & NDCG for multiple k: 100%|██████████| 201/201 [00:05<00:00, 38.83it/s]\n"
     ]
    },
    {
     "name": "stdout",
     "output_type": "stream",
     "text": [
      "Validation HR@5: 0.3754, NDCG@5: 0.3086\n",
      "Validation HR@10: 0.4221, NDCG@10: 0.3237\n",
      "Validation HR@20: 0.4651, NDCG@20: 0.3346\n",
      "Model saved at 'uet4rec64_rr_model_epoch_350.pth'\n"
     ]
    },
    {
     "name": "stderr",
     "output_type": "stream",
     "text": [
      "Epoch [351/1000]: 100%|██████████| 935/935 [00:13<00:00, 67.17batch/s, Batch Loss=3.49]\n"
     ]
    },
    {
     "name": "stdout",
     "output_type": "stream",
     "text": [
      "Epoch [351/1000], Training Loss: 3.4664, Accuracy: 0.3351\n"
     ]
    },
    {
     "name": "stderr",
     "output_type": "stream",
     "text": [
      "Epoch [352/1000]: 100%|██████████| 935/935 [00:14<00:00, 66.17batch/s, Batch Loss=3.56]\n"
     ]
    },
    {
     "name": "stdout",
     "output_type": "stream",
     "text": [
      "Epoch [352/1000], Training Loss: 3.4662, Accuracy: 0.3341\n"
     ]
    },
    {
     "name": "stderr",
     "output_type": "stream",
     "text": [
      "Epoch [353/1000]: 100%|██████████| 935/935 [00:14<00:00, 66.54batch/s, Batch Loss=3.63]\n"
     ]
    },
    {
     "name": "stdout",
     "output_type": "stream",
     "text": [
      "Epoch [353/1000], Training Loss: 3.4647, Accuracy: 0.3352\n"
     ]
    },
    {
     "name": "stderr",
     "output_type": "stream",
     "text": [
      "Epoch [354/1000]: 100%|██████████| 935/935 [00:14<00:00, 66.10batch/s, Batch Loss=3.43]\n"
     ]
    },
    {
     "name": "stdout",
     "output_type": "stream",
     "text": [
      "Epoch [354/1000], Training Loss: 3.4628, Accuracy: 0.3350\n"
     ]
    },
    {
     "name": "stderr",
     "output_type": "stream",
     "text": [
      "Epoch [355/1000]: 100%|██████████| 935/935 [00:13<00:00, 66.87batch/s, Batch Loss=3.76]\n"
     ]
    },
    {
     "name": "stdout",
     "output_type": "stream",
     "text": [
      "Epoch [355/1000], Training Loss: 3.4608, Accuracy: 0.3359\n"
     ]
    },
    {
     "name": "stderr",
     "output_type": "stream",
     "text": [
      "Epoch [356/1000]: 100%|██████████| 935/935 [00:14<00:00, 65.13batch/s, Batch Loss=3.66]\n"
     ]
    },
    {
     "name": "stdout",
     "output_type": "stream",
     "text": [
      "Epoch [356/1000], Training Loss: 3.4543, Accuracy: 0.3361\n"
     ]
    },
    {
     "name": "stderr",
     "output_type": "stream",
     "text": [
      "Epoch [357/1000]: 100%|██████████| 935/935 [00:14<00:00, 65.47batch/s, Batch Loss=3.65]\n"
     ]
    },
    {
     "name": "stdout",
     "output_type": "stream",
     "text": [
      "Epoch [357/1000], Training Loss: 3.4573, Accuracy: 0.3348\n"
     ]
    },
    {
     "name": "stderr",
     "output_type": "stream",
     "text": [
      "Epoch [358/1000]: 100%|██████████| 935/935 [00:14<00:00, 65.82batch/s, Batch Loss=3.77]\n"
     ]
    },
    {
     "name": "stdout",
     "output_type": "stream",
     "text": [
      "Epoch [358/1000], Training Loss: 3.4495, Accuracy: 0.3353\n"
     ]
    },
    {
     "name": "stderr",
     "output_type": "stream",
     "text": [
      "Epoch [359/1000]: 100%|██████████| 935/935 [00:14<00:00, 65.92batch/s, Batch Loss=3.44]\n"
     ]
    },
    {
     "name": "stdout",
     "output_type": "stream",
     "text": [
      "Epoch [359/1000], Training Loss: 3.4518, Accuracy: 0.3356\n"
     ]
    },
    {
     "name": "stderr",
     "output_type": "stream",
     "text": [
      "Epoch [360/1000]: 100%|██████████| 935/935 [00:14<00:00, 65.14batch/s, Batch Loss=3.53]\n"
     ]
    },
    {
     "name": "stdout",
     "output_type": "stream",
     "text": [
      "Epoch [360/1000], Training Loss: 3.4432, Accuracy: 0.3366\n"
     ]
    },
    {
     "name": "stderr",
     "output_type": "stream",
     "text": [
      "Epoch [361/1000]: 100%|██████████| 935/935 [00:14<00:00, 65.42batch/s, Batch Loss=3.54]\n"
     ]
    },
    {
     "name": "stdout",
     "output_type": "stream",
     "text": [
      "Epoch [361/1000], Training Loss: 3.4531, Accuracy: 0.3366\n"
     ]
    },
    {
     "name": "stderr",
     "output_type": "stream",
     "text": [
      "Epoch [362/1000]: 100%|██████████| 935/935 [00:14<00:00, 66.29batch/s, Batch Loss=3.35]\n"
     ]
    },
    {
     "name": "stdout",
     "output_type": "stream",
     "text": [
      "Epoch [362/1000], Training Loss: 3.4426, Accuracy: 0.3374\n"
     ]
    },
    {
     "name": "stderr",
     "output_type": "stream",
     "text": [
      "Epoch [363/1000]: 100%|██████████| 935/935 [00:14<00:00, 65.82batch/s, Batch Loss=3.61]\n"
     ]
    },
    {
     "name": "stdout",
     "output_type": "stream",
     "text": [
      "Epoch [363/1000], Training Loss: 3.4399, Accuracy: 0.3372\n"
     ]
    },
    {
     "name": "stderr",
     "output_type": "stream",
     "text": [
      "Epoch [364/1000]: 100%|██████████| 935/935 [00:14<00:00, 66.22batch/s, Batch Loss=3.7] \n"
     ]
    },
    {
     "name": "stdout",
     "output_type": "stream",
     "text": [
      "Epoch [364/1000], Training Loss: 3.4436, Accuracy: 0.3371\n"
     ]
    },
    {
     "name": "stderr",
     "output_type": "stream",
     "text": [
      "Epoch [365/1000]: 100%|██████████| 935/935 [00:14<00:00, 66.56batch/s, Batch Loss=3.44]\n"
     ]
    },
    {
     "name": "stdout",
     "output_type": "stream",
     "text": [
      "Epoch [365/1000], Training Loss: 3.4359, Accuracy: 0.3378\n"
     ]
    },
    {
     "name": "stderr",
     "output_type": "stream",
     "text": [
      "Epoch [366/1000]: 100%|██████████| 935/935 [00:13<00:00, 67.58batch/s, Batch Loss=3.49]\n"
     ]
    },
    {
     "name": "stdout",
     "output_type": "stream",
     "text": [
      "Epoch [366/1000], Training Loss: 3.4330, Accuracy: 0.3393\n"
     ]
    },
    {
     "name": "stderr",
     "output_type": "stream",
     "text": [
      "Epoch [367/1000]: 100%|██████████| 935/935 [00:14<00:00, 66.11batch/s, Batch Loss=3.54]\n"
     ]
    },
    {
     "name": "stdout",
     "output_type": "stream",
     "text": [
      "Epoch [367/1000], Training Loss: 3.4329, Accuracy: 0.3378\n"
     ]
    },
    {
     "name": "stderr",
     "output_type": "stream",
     "text": [
      "Epoch [368/1000]: 100%|██████████| 935/935 [00:14<00:00, 66.44batch/s, Batch Loss=3.33]\n"
     ]
    },
    {
     "name": "stdout",
     "output_type": "stream",
     "text": [
      "Epoch [368/1000], Training Loss: 3.4295, Accuracy: 0.3393\n"
     ]
    },
    {
     "name": "stderr",
     "output_type": "stream",
     "text": [
      "Epoch [369/1000]: 100%|██████████| 935/935 [00:13<00:00, 67.12batch/s, Batch Loss=3.57]\n"
     ]
    },
    {
     "name": "stdout",
     "output_type": "stream",
     "text": [
      "Epoch [369/1000], Training Loss: 3.4250, Accuracy: 0.3397\n"
     ]
    },
    {
     "name": "stderr",
     "output_type": "stream",
     "text": [
      "Epoch [370/1000]: 100%|██████████| 935/935 [00:14<00:00, 66.11batch/s, Batch Loss=3.44]\n"
     ]
    },
    {
     "name": "stdout",
     "output_type": "stream",
     "text": [
      "Epoch [370/1000], Training Loss: 3.4236, Accuracy: 0.3392\n"
     ]
    },
    {
     "name": "stderr",
     "output_type": "stream",
     "text": [
      "Epoch [371/1000]: 100%|██████████| 935/935 [00:13<00:00, 66.91batch/s, Batch Loss=3.61]\n"
     ]
    },
    {
     "name": "stdout",
     "output_type": "stream",
     "text": [
      "Epoch [371/1000], Training Loss: 3.4218, Accuracy: 0.3394\n"
     ]
    },
    {
     "name": "stderr",
     "output_type": "stream",
     "text": [
      "Epoch [372/1000]: 100%|██████████| 935/935 [00:14<00:00, 66.35batch/s, Batch Loss=3.66]\n"
     ]
    },
    {
     "name": "stdout",
     "output_type": "stream",
     "text": [
      "Epoch [372/1000], Training Loss: 3.4243, Accuracy: 0.3384\n"
     ]
    },
    {
     "name": "stderr",
     "output_type": "stream",
     "text": [
      "Epoch [373/1000]: 100%|██████████| 935/935 [00:14<00:00, 66.42batch/s, Batch Loss=3.67]\n"
     ]
    },
    {
     "name": "stdout",
     "output_type": "stream",
     "text": [
      "Epoch [373/1000], Training Loss: 3.4216, Accuracy: 0.3396\n"
     ]
    },
    {
     "name": "stderr",
     "output_type": "stream",
     "text": [
      "Epoch [374/1000]: 100%|██████████| 935/935 [00:14<00:00, 66.12batch/s, Batch Loss=3.57]\n"
     ]
    },
    {
     "name": "stdout",
     "output_type": "stream",
     "text": [
      "Epoch [374/1000], Training Loss: 3.4195, Accuracy: 0.3394\n"
     ]
    },
    {
     "name": "stderr",
     "output_type": "stream",
     "text": [
      "Epoch [375/1000]: 100%|██████████| 935/935 [00:14<00:00, 65.55batch/s, Batch Loss=3.65]\n"
     ]
    },
    {
     "name": "stdout",
     "output_type": "stream",
     "text": [
      "Epoch [375/1000], Training Loss: 3.4185, Accuracy: 0.3393\n"
     ]
    },
    {
     "name": "stderr",
     "output_type": "stream",
     "text": [
      "Epoch [376/1000]: 100%|██████████| 935/935 [00:13<00:00, 66.85batch/s, Batch Loss=3.65]\n"
     ]
    },
    {
     "name": "stdout",
     "output_type": "stream",
     "text": [
      "Epoch [376/1000], Training Loss: 3.4113, Accuracy: 0.3405\n"
     ]
    },
    {
     "name": "stderr",
     "output_type": "stream",
     "text": [
      "Epoch [377/1000]: 100%|██████████| 935/935 [00:14<00:00, 66.10batch/s, Batch Loss=3.42]\n"
     ]
    },
    {
     "name": "stdout",
     "output_type": "stream",
     "text": [
      "Epoch [377/1000], Training Loss: 3.4131, Accuracy: 0.3401\n"
     ]
    },
    {
     "name": "stderr",
     "output_type": "stream",
     "text": [
      "Epoch [378/1000]: 100%|██████████| 935/935 [00:14<00:00, 66.22batch/s, Batch Loss=3.69]\n"
     ]
    },
    {
     "name": "stdout",
     "output_type": "stream",
     "text": [
      "Epoch [378/1000], Training Loss: 3.4148, Accuracy: 0.3407\n"
     ]
    },
    {
     "name": "stderr",
     "output_type": "stream",
     "text": [
      "Epoch [379/1000]: 100%|██████████| 935/935 [00:14<00:00, 65.52batch/s, Batch Loss=3.49]\n"
     ]
    },
    {
     "name": "stdout",
     "output_type": "stream",
     "text": [
      "Epoch [379/1000], Training Loss: 3.4085, Accuracy: 0.3403\n"
     ]
    },
    {
     "name": "stderr",
     "output_type": "stream",
     "text": [
      "Epoch [380/1000]: 100%|██████████| 935/935 [00:13<00:00, 67.71batch/s, Batch Loss=3.62]\n"
     ]
    },
    {
     "name": "stdout",
     "output_type": "stream",
     "text": [
      "Epoch [380/1000], Training Loss: 3.4067, Accuracy: 0.3404\n"
     ]
    },
    {
     "name": "stderr",
     "output_type": "stream",
     "text": [
      "Epoch [381/1000]: 100%|██████████| 935/935 [00:14<00:00, 66.45batch/s, Batch Loss=3.49]\n"
     ]
    },
    {
     "name": "stdout",
     "output_type": "stream",
     "text": [
      "Epoch [381/1000], Training Loss: 3.4046, Accuracy: 0.3414\n"
     ]
    },
    {
     "name": "stderr",
     "output_type": "stream",
     "text": [
      "Epoch [382/1000]: 100%|██████████| 935/935 [00:13<00:00, 66.96batch/s, Batch Loss=3.36]\n"
     ]
    },
    {
     "name": "stdout",
     "output_type": "stream",
     "text": [
      "Epoch [382/1000], Training Loss: 3.4048, Accuracy: 0.3405\n"
     ]
    },
    {
     "name": "stderr",
     "output_type": "stream",
     "text": [
      "Epoch [383/1000]: 100%|██████████| 935/935 [00:14<00:00, 65.92batch/s, Batch Loss=3.6] \n"
     ]
    },
    {
     "name": "stdout",
     "output_type": "stream",
     "text": [
      "Epoch [383/1000], Training Loss: 3.4024, Accuracy: 0.3408\n"
     ]
    },
    {
     "name": "stderr",
     "output_type": "stream",
     "text": [
      "Epoch [384/1000]: 100%|██████████| 935/935 [00:13<00:00, 67.78batch/s, Batch Loss=3.47]\n"
     ]
    },
    {
     "name": "stdout",
     "output_type": "stream",
     "text": [
      "Epoch [384/1000], Training Loss: 3.3978, Accuracy: 0.3414\n"
     ]
    },
    {
     "name": "stderr",
     "output_type": "stream",
     "text": [
      "Epoch [385/1000]: 100%|██████████| 935/935 [00:13<00:00, 67.42batch/s, Batch Loss=3.69]\n"
     ]
    },
    {
     "name": "stdout",
     "output_type": "stream",
     "text": [
      "Epoch [385/1000], Training Loss: 3.3955, Accuracy: 0.3422\n"
     ]
    },
    {
     "name": "stderr",
     "output_type": "stream",
     "text": [
      "Epoch [386/1000]: 100%|██████████| 935/935 [00:13<00:00, 67.59batch/s, Batch Loss=3.52]\n"
     ]
    },
    {
     "name": "stdout",
     "output_type": "stream",
     "text": [
      "Epoch [386/1000], Training Loss: 3.3930, Accuracy: 0.3430\n"
     ]
    },
    {
     "name": "stderr",
     "output_type": "stream",
     "text": [
      "Epoch [387/1000]: 100%|██████████| 935/935 [00:13<00:00, 67.87batch/s, Batch Loss=3.22]\n"
     ]
    },
    {
     "name": "stdout",
     "output_type": "stream",
     "text": [
      "Epoch [387/1000], Training Loss: 3.3925, Accuracy: 0.3419\n"
     ]
    },
    {
     "name": "stderr",
     "output_type": "stream",
     "text": [
      "Epoch [388/1000]: 100%|██████████| 935/935 [00:13<00:00, 67.80batch/s, Batch Loss=3.31]\n"
     ]
    },
    {
     "name": "stdout",
     "output_type": "stream",
     "text": [
      "Epoch [388/1000], Training Loss: 3.3844, Accuracy: 0.3432\n"
     ]
    },
    {
     "name": "stderr",
     "output_type": "stream",
     "text": [
      "Epoch [389/1000]: 100%|██████████| 935/935 [00:13<00:00, 67.06batch/s, Batch Loss=3.29]\n"
     ]
    },
    {
     "name": "stdout",
     "output_type": "stream",
     "text": [
      "Epoch [389/1000], Training Loss: 3.3838, Accuracy: 0.3420\n"
     ]
    },
    {
     "name": "stderr",
     "output_type": "stream",
     "text": [
      "Epoch [390/1000]: 100%|██████████| 935/935 [00:13<00:00, 67.12batch/s, Batch Loss=3.6] \n"
     ]
    },
    {
     "name": "stdout",
     "output_type": "stream",
     "text": [
      "Epoch [390/1000], Training Loss: 3.3809, Accuracy: 0.3441\n"
     ]
    },
    {
     "name": "stderr",
     "output_type": "stream",
     "text": [
      "Epoch [391/1000]: 100%|██████████| 935/935 [00:13<00:00, 67.19batch/s, Batch Loss=3.65]\n"
     ]
    },
    {
     "name": "stdout",
     "output_type": "stream",
     "text": [
      "Epoch [391/1000], Training Loss: 3.3884, Accuracy: 0.3425\n"
     ]
    },
    {
     "name": "stderr",
     "output_type": "stream",
     "text": [
      "Epoch [392/1000]: 100%|██████████| 935/935 [00:13<00:00, 66.98batch/s, Batch Loss=3.73]\n"
     ]
    },
    {
     "name": "stdout",
     "output_type": "stream",
     "text": [
      "Epoch [392/1000], Training Loss: 3.3764, Accuracy: 0.3443\n"
     ]
    },
    {
     "name": "stderr",
     "output_type": "stream",
     "text": [
      "Epoch [393/1000]: 100%|██████████| 935/935 [00:13<00:00, 67.75batch/s, Batch Loss=3.62]\n"
     ]
    },
    {
     "name": "stdout",
     "output_type": "stream",
     "text": [
      "Epoch [393/1000], Training Loss: 3.3771, Accuracy: 0.3432\n"
     ]
    },
    {
     "name": "stderr",
     "output_type": "stream",
     "text": [
      "Epoch [394/1000]: 100%|██████████| 935/935 [00:13<00:00, 67.83batch/s, Batch Loss=3.92]\n"
     ]
    },
    {
     "name": "stdout",
     "output_type": "stream",
     "text": [
      "Epoch [394/1000], Training Loss: 3.3746, Accuracy: 0.3456\n"
     ]
    },
    {
     "name": "stderr",
     "output_type": "stream",
     "text": [
      "Epoch [395/1000]: 100%|██████████| 935/935 [00:13<00:00, 67.68batch/s, Batch Loss=3.25]\n"
     ]
    },
    {
     "name": "stdout",
     "output_type": "stream",
     "text": [
      "Epoch [395/1000], Training Loss: 3.3778, Accuracy: 0.3446\n"
     ]
    },
    {
     "name": "stderr",
     "output_type": "stream",
     "text": [
      "Epoch [396/1000]: 100%|██████████| 935/935 [00:13<00:00, 67.32batch/s, Batch Loss=3.84]\n"
     ]
    },
    {
     "name": "stdout",
     "output_type": "stream",
     "text": [
      "Epoch [396/1000], Training Loss: 3.3721, Accuracy: 0.3443\n"
     ]
    },
    {
     "name": "stderr",
     "output_type": "stream",
     "text": [
      "Epoch [397/1000]: 100%|██████████| 935/935 [00:13<00:00, 67.33batch/s, Batch Loss=3.64]\n"
     ]
    },
    {
     "name": "stdout",
     "output_type": "stream",
     "text": [
      "Epoch [397/1000], Training Loss: 3.3693, Accuracy: 0.3455\n"
     ]
    },
    {
     "name": "stderr",
     "output_type": "stream",
     "text": [
      "Epoch [398/1000]: 100%|██████████| 935/935 [00:13<00:00, 66.87batch/s, Batch Loss=3.87]\n"
     ]
    },
    {
     "name": "stdout",
     "output_type": "stream",
     "text": [
      "Epoch [398/1000], Training Loss: 3.3675, Accuracy: 0.3449\n"
     ]
    },
    {
     "name": "stderr",
     "output_type": "stream",
     "text": [
      "Epoch [399/1000]: 100%|██████████| 935/935 [00:13<00:00, 66.99batch/s, Batch Loss=3.76]\n"
     ]
    },
    {
     "name": "stdout",
     "output_type": "stream",
     "text": [
      "Epoch [399/1000], Training Loss: 3.3688, Accuracy: 0.3451\n"
     ]
    },
    {
     "name": "stderr",
     "output_type": "stream",
     "text": [
      "Epoch [400/1000]: 100%|██████████| 935/935 [00:13<00:00, 67.36batch/s, Batch Loss=3.71]\n"
     ]
    },
    {
     "name": "stdout",
     "output_type": "stream",
     "text": [
      "Epoch [400/1000], Training Loss: 3.3647, Accuracy: 0.3444\n",
      "\n",
      "Evaluating on validation set...\n"
     ]
    },
    {
     "name": "stderr",
     "output_type": "stream",
     "text": [
      "Evaluating HR & NDCG for multiple k: 100%|██████████| 201/201 [00:05<00:00, 38.92it/s]\n"
     ]
    },
    {
     "name": "stdout",
     "output_type": "stream",
     "text": [
      "Validation HR@5: 0.3760, NDCG@5: 0.3092\n",
      "Validation HR@10: 0.4228, NDCG@10: 0.3244\n",
      "Validation HR@20: 0.4655, NDCG@20: 0.3353\n",
      "Model saved at 'uet4rec64_rr_model_epoch_400.pth'\n"
     ]
    },
    {
     "name": "stderr",
     "output_type": "stream",
     "text": [
      "Epoch [401/1000]: 100%|██████████| 935/935 [00:13<00:00, 67.14batch/s, Batch Loss=3.61]\n"
     ]
    },
    {
     "name": "stdout",
     "output_type": "stream",
     "text": [
      "Epoch [401/1000], Training Loss: 3.3660, Accuracy: 0.3455\n"
     ]
    },
    {
     "name": "stderr",
     "output_type": "stream",
     "text": [
      "Epoch [402/1000]: 100%|██████████| 935/935 [00:13<00:00, 66.96batch/s, Batch Loss=3.87]\n"
     ]
    },
    {
     "name": "stdout",
     "output_type": "stream",
     "text": [
      "Epoch [402/1000], Training Loss: 3.3623, Accuracy: 0.3458\n"
     ]
    },
    {
     "name": "stderr",
     "output_type": "stream",
     "text": [
      "Epoch [403/1000]: 100%|██████████| 935/935 [00:13<00:00, 67.36batch/s, Batch Loss=3.69]\n"
     ]
    },
    {
     "name": "stdout",
     "output_type": "stream",
     "text": [
      "Epoch [403/1000], Training Loss: 3.3623, Accuracy: 0.3457\n"
     ]
    },
    {
     "name": "stderr",
     "output_type": "stream",
     "text": [
      "Epoch [404/1000]: 100%|██████████| 935/935 [00:13<00:00, 66.96batch/s, Batch Loss=3.31]\n"
     ]
    },
    {
     "name": "stdout",
     "output_type": "stream",
     "text": [
      "Epoch [404/1000], Training Loss: 3.3575, Accuracy: 0.3462\n"
     ]
    },
    {
     "name": "stderr",
     "output_type": "stream",
     "text": [
      "Epoch [405/1000]: 100%|██████████| 935/935 [00:13<00:00, 67.33batch/s, Batch Loss=3.34]\n"
     ]
    },
    {
     "name": "stdout",
     "output_type": "stream",
     "text": [
      "Epoch [405/1000], Training Loss: 3.3502, Accuracy: 0.3468\n"
     ]
    },
    {
     "name": "stderr",
     "output_type": "stream",
     "text": [
      "Epoch [406/1000]: 100%|██████████| 935/935 [00:13<00:00, 68.05batch/s, Batch Loss=3.08]\n"
     ]
    },
    {
     "name": "stdout",
     "output_type": "stream",
     "text": [
      "Epoch [406/1000], Training Loss: 3.3581, Accuracy: 0.3460\n"
     ]
    },
    {
     "name": "stderr",
     "output_type": "stream",
     "text": [
      "Epoch [407/1000]: 100%|██████████| 935/935 [00:13<00:00, 67.21batch/s, Batch Loss=3.19]\n"
     ]
    },
    {
     "name": "stdout",
     "output_type": "stream",
     "text": [
      "Epoch [407/1000], Training Loss: 3.3517, Accuracy: 0.3465\n"
     ]
    },
    {
     "name": "stderr",
     "output_type": "stream",
     "text": [
      "Epoch [408/1000]: 100%|██████████| 935/935 [00:13<00:00, 67.46batch/s, Batch Loss=3.72]\n"
     ]
    },
    {
     "name": "stdout",
     "output_type": "stream",
     "text": [
      "Epoch [408/1000], Training Loss: 3.3506, Accuracy: 0.3469\n"
     ]
    },
    {
     "name": "stderr",
     "output_type": "stream",
     "text": [
      "Epoch [409/1000]: 100%|██████████| 935/935 [00:13<00:00, 67.85batch/s, Batch Loss=3.76]\n"
     ]
    },
    {
     "name": "stdout",
     "output_type": "stream",
     "text": [
      "Epoch [409/1000], Training Loss: 3.3462, Accuracy: 0.3478\n"
     ]
    },
    {
     "name": "stderr",
     "output_type": "stream",
     "text": [
      "Epoch [410/1000]: 100%|██████████| 935/935 [00:13<00:00, 67.38batch/s, Batch Loss=3.67]\n"
     ]
    },
    {
     "name": "stdout",
     "output_type": "stream",
     "text": [
      "Epoch [410/1000], Training Loss: 3.3444, Accuracy: 0.3472\n"
     ]
    },
    {
     "name": "stderr",
     "output_type": "stream",
     "text": [
      "Epoch [411/1000]: 100%|██████████| 935/935 [00:13<00:00, 67.24batch/s, Batch Loss=3.16]\n"
     ]
    },
    {
     "name": "stdout",
     "output_type": "stream",
     "text": [
      "Epoch [411/1000], Training Loss: 3.3505, Accuracy: 0.3475\n"
     ]
    },
    {
     "name": "stderr",
     "output_type": "stream",
     "text": [
      "Epoch [412/1000]: 100%|██████████| 935/935 [00:13<00:00, 67.41batch/s, Batch Loss=3.47]\n"
     ]
    },
    {
     "name": "stdout",
     "output_type": "stream",
     "text": [
      "Epoch [412/1000], Training Loss: 3.3429, Accuracy: 0.3478\n"
     ]
    },
    {
     "name": "stderr",
     "output_type": "stream",
     "text": [
      "Epoch [413/1000]: 100%|██████████| 935/935 [00:13<00:00, 67.81batch/s, Batch Loss=3.5] \n"
     ]
    },
    {
     "name": "stdout",
     "output_type": "stream",
     "text": [
      "Epoch [413/1000], Training Loss: 3.3371, Accuracy: 0.3482\n"
     ]
    },
    {
     "name": "stderr",
     "output_type": "stream",
     "text": [
      "Epoch [414/1000]: 100%|██████████| 935/935 [00:13<00:00, 66.82batch/s, Batch Loss=3.51]\n"
     ]
    },
    {
     "name": "stdout",
     "output_type": "stream",
     "text": [
      "Epoch [414/1000], Training Loss: 3.3370, Accuracy: 0.3472\n"
     ]
    },
    {
     "name": "stderr",
     "output_type": "stream",
     "text": [
      "Epoch [415/1000]: 100%|██████████| 935/935 [00:13<00:00, 67.09batch/s, Batch Loss=3.5] \n"
     ]
    },
    {
     "name": "stdout",
     "output_type": "stream",
     "text": [
      "Epoch [415/1000], Training Loss: 3.3406, Accuracy: 0.3477\n"
     ]
    },
    {
     "name": "stderr",
     "output_type": "stream",
     "text": [
      "Epoch [416/1000]: 100%|██████████| 935/935 [00:13<00:00, 68.06batch/s, Batch Loss=3.23]\n"
     ]
    },
    {
     "name": "stdout",
     "output_type": "stream",
     "text": [
      "Epoch [416/1000], Training Loss: 3.3332, Accuracy: 0.3476\n"
     ]
    },
    {
     "name": "stderr",
     "output_type": "stream",
     "text": [
      "Epoch [417/1000]: 100%|██████████| 935/935 [00:13<00:00, 67.35batch/s, Batch Loss=3.25]\n"
     ]
    },
    {
     "name": "stdout",
     "output_type": "stream",
     "text": [
      "Epoch [417/1000], Training Loss: 3.3311, Accuracy: 0.3474\n"
     ]
    },
    {
     "name": "stderr",
     "output_type": "stream",
     "text": [
      "Epoch [418/1000]: 100%|██████████| 935/935 [00:13<00:00, 67.81batch/s, Batch Loss=3.56]\n"
     ]
    },
    {
     "name": "stdout",
     "output_type": "stream",
     "text": [
      "Epoch [418/1000], Training Loss: 3.3337, Accuracy: 0.3486\n"
     ]
    },
    {
     "name": "stderr",
     "output_type": "stream",
     "text": [
      "Epoch [419/1000]: 100%|██████████| 935/935 [00:13<00:00, 67.32batch/s, Batch Loss=3.18]\n"
     ]
    },
    {
     "name": "stdout",
     "output_type": "stream",
     "text": [
      "Epoch [419/1000], Training Loss: 3.3292, Accuracy: 0.3485\n"
     ]
    },
    {
     "name": "stderr",
     "output_type": "stream",
     "text": [
      "Epoch [420/1000]: 100%|██████████| 935/935 [00:13<00:00, 67.34batch/s, Batch Loss=3.57]\n"
     ]
    },
    {
     "name": "stdout",
     "output_type": "stream",
     "text": [
      "Epoch [420/1000], Training Loss: 3.3266, Accuracy: 0.3505\n"
     ]
    },
    {
     "name": "stderr",
     "output_type": "stream",
     "text": [
      "Epoch [421/1000]: 100%|██████████| 935/935 [00:14<00:00, 66.22batch/s, Batch Loss=3.77]\n"
     ]
    },
    {
     "name": "stdout",
     "output_type": "stream",
     "text": [
      "Epoch [421/1000], Training Loss: 3.3241, Accuracy: 0.3497\n"
     ]
    },
    {
     "name": "stderr",
     "output_type": "stream",
     "text": [
      "Epoch [422/1000]: 100%|██████████| 935/935 [00:14<00:00, 66.24batch/s, Batch Loss=3.19]\n"
     ]
    },
    {
     "name": "stdout",
     "output_type": "stream",
     "text": [
      "Epoch [422/1000], Training Loss: 3.3255, Accuracy: 0.3489\n"
     ]
    },
    {
     "name": "stderr",
     "output_type": "stream",
     "text": [
      "Epoch [423/1000]: 100%|██████████| 935/935 [00:14<00:00, 66.49batch/s, Batch Loss=3.34]\n"
     ]
    },
    {
     "name": "stdout",
     "output_type": "stream",
     "text": [
      "Epoch [423/1000], Training Loss: 3.3181, Accuracy: 0.3494\n"
     ]
    },
    {
     "name": "stderr",
     "output_type": "stream",
     "text": [
      "Epoch [424/1000]: 100%|██████████| 935/935 [00:13<00:00, 67.06batch/s, Batch Loss=3.49]\n"
     ]
    },
    {
     "name": "stdout",
     "output_type": "stream",
     "text": [
      "Epoch [424/1000], Training Loss: 3.3200, Accuracy: 0.3498\n"
     ]
    },
    {
     "name": "stderr",
     "output_type": "stream",
     "text": [
      "Epoch [425/1000]: 100%|██████████| 935/935 [00:14<00:00, 65.64batch/s, Batch Loss=3.18]\n"
     ]
    },
    {
     "name": "stdout",
     "output_type": "stream",
     "text": [
      "Epoch [425/1000], Training Loss: 3.3217, Accuracy: 0.3492\n"
     ]
    },
    {
     "name": "stderr",
     "output_type": "stream",
     "text": [
      "Epoch [426/1000]: 100%|██████████| 935/935 [00:14<00:00, 66.28batch/s, Batch Loss=3.21]\n"
     ]
    },
    {
     "name": "stdout",
     "output_type": "stream",
     "text": [
      "Epoch [426/1000], Training Loss: 3.3179, Accuracy: 0.3505\n"
     ]
    },
    {
     "name": "stderr",
     "output_type": "stream",
     "text": [
      "Epoch [427/1000]: 100%|██████████| 935/935 [00:13<00:00, 67.15batch/s, Batch Loss=3.39]\n"
     ]
    },
    {
     "name": "stdout",
     "output_type": "stream",
     "text": [
      "Epoch [427/1000], Training Loss: 3.3128, Accuracy: 0.3502\n"
     ]
    },
    {
     "name": "stderr",
     "output_type": "stream",
     "text": [
      "Epoch [428/1000]: 100%|██████████| 935/935 [00:14<00:00, 65.85batch/s, Batch Loss=3.63]\n"
     ]
    },
    {
     "name": "stdout",
     "output_type": "stream",
     "text": [
      "Epoch [428/1000], Training Loss: 3.3109, Accuracy: 0.3503\n"
     ]
    },
    {
     "name": "stderr",
     "output_type": "stream",
     "text": [
      "Epoch [429/1000]: 100%|██████████| 935/935 [00:14<00:00, 65.35batch/s, Batch Loss=3.49]\n"
     ]
    },
    {
     "name": "stdout",
     "output_type": "stream",
     "text": [
      "Epoch [429/1000], Training Loss: 3.3129, Accuracy: 0.3498\n"
     ]
    },
    {
     "name": "stderr",
     "output_type": "stream",
     "text": [
      "Epoch [430/1000]: 100%|██████████| 935/935 [00:14<00:00, 65.26batch/s, Batch Loss=3.32]\n"
     ]
    },
    {
     "name": "stdout",
     "output_type": "stream",
     "text": [
      "Epoch [430/1000], Training Loss: 3.3033, Accuracy: 0.3510\n"
     ]
    },
    {
     "name": "stderr",
     "output_type": "stream",
     "text": [
      "Epoch [431/1000]: 100%|██████████| 935/935 [00:14<00:00, 66.67batch/s, Batch Loss=3.73]\n"
     ]
    },
    {
     "name": "stdout",
     "output_type": "stream",
     "text": [
      "Epoch [431/1000], Training Loss: 3.3052, Accuracy: 0.3507\n"
     ]
    },
    {
     "name": "stderr",
     "output_type": "stream",
     "text": [
      "Epoch [432/1000]: 100%|██████████| 935/935 [00:14<00:00, 65.96batch/s, Batch Loss=3.45]\n"
     ]
    },
    {
     "name": "stdout",
     "output_type": "stream",
     "text": [
      "Epoch [432/1000], Training Loss: 3.3008, Accuracy: 0.3526\n"
     ]
    },
    {
     "name": "stderr",
     "output_type": "stream",
     "text": [
      "Epoch [433/1000]: 100%|██████████| 935/935 [00:14<00:00, 65.27batch/s, Batch Loss=3.54]\n"
     ]
    },
    {
     "name": "stdout",
     "output_type": "stream",
     "text": [
      "Epoch [433/1000], Training Loss: 3.2991, Accuracy: 0.3528\n"
     ]
    },
    {
     "name": "stderr",
     "output_type": "stream",
     "text": [
      "Epoch [434/1000]: 100%|██████████| 935/935 [00:14<00:00, 65.53batch/s, Batch Loss=3.48]\n"
     ]
    },
    {
     "name": "stdout",
     "output_type": "stream",
     "text": [
      "Epoch [434/1000], Training Loss: 3.3049, Accuracy: 0.3514\n"
     ]
    },
    {
     "name": "stderr",
     "output_type": "stream",
     "text": [
      "Epoch [435/1000]: 100%|██████████| 935/935 [00:14<00:00, 65.62batch/s, Batch Loss=3.66]\n"
     ]
    },
    {
     "name": "stdout",
     "output_type": "stream",
     "text": [
      "Epoch [435/1000], Training Loss: 3.3025, Accuracy: 0.3522\n"
     ]
    },
    {
     "name": "stderr",
     "output_type": "stream",
     "text": [
      "Epoch [436/1000]: 100%|██████████| 935/935 [00:14<00:00, 65.43batch/s, Batch Loss=3.42]\n"
     ]
    },
    {
     "name": "stdout",
     "output_type": "stream",
     "text": [
      "Epoch [436/1000], Training Loss: 3.2975, Accuracy: 0.3539\n"
     ]
    },
    {
     "name": "stderr",
     "output_type": "stream",
     "text": [
      "Epoch [437/1000]: 100%|██████████| 935/935 [00:14<00:00, 65.68batch/s, Batch Loss=3.62]\n"
     ]
    },
    {
     "name": "stdout",
     "output_type": "stream",
     "text": [
      "Epoch [437/1000], Training Loss: 3.2951, Accuracy: 0.3534\n"
     ]
    },
    {
     "name": "stderr",
     "output_type": "stream",
     "text": [
      "Epoch [438/1000]: 100%|██████████| 935/935 [00:14<00:00, 65.53batch/s, Batch Loss=3.41]\n"
     ]
    },
    {
     "name": "stdout",
     "output_type": "stream",
     "text": [
      "Epoch [438/1000], Training Loss: 3.2954, Accuracy: 0.3531\n"
     ]
    },
    {
     "name": "stderr",
     "output_type": "stream",
     "text": [
      "Epoch [439/1000]: 100%|██████████| 935/935 [00:14<00:00, 64.84batch/s, Batch Loss=3.55]\n"
     ]
    },
    {
     "name": "stdout",
     "output_type": "stream",
     "text": [
      "Epoch [439/1000], Training Loss: 3.3013, Accuracy: 0.3516\n"
     ]
    },
    {
     "name": "stderr",
     "output_type": "stream",
     "text": [
      "Epoch [440/1000]: 100%|██████████| 935/935 [00:14<00:00, 65.22batch/s, Batch Loss=3.53]\n"
     ]
    },
    {
     "name": "stdout",
     "output_type": "stream",
     "text": [
      "Epoch [440/1000], Training Loss: 3.2822, Accuracy: 0.3549\n"
     ]
    },
    {
     "name": "stderr",
     "output_type": "stream",
     "text": [
      "Epoch [441/1000]: 100%|██████████| 935/935 [00:14<00:00, 66.20batch/s, Batch Loss=3.33]\n"
     ]
    },
    {
     "name": "stdout",
     "output_type": "stream",
     "text": [
      "Epoch [441/1000], Training Loss: 3.2894, Accuracy: 0.3541\n"
     ]
    },
    {
     "name": "stderr",
     "output_type": "stream",
     "text": [
      "Epoch [442/1000]: 100%|██████████| 935/935 [00:14<00:00, 65.45batch/s, Batch Loss=3.65]\n"
     ]
    },
    {
     "name": "stdout",
     "output_type": "stream",
     "text": [
      "Epoch [442/1000], Training Loss: 3.2891, Accuracy: 0.3537\n"
     ]
    },
    {
     "name": "stderr",
     "output_type": "stream",
     "text": [
      "Epoch [443/1000]: 100%|██████████| 935/935 [00:14<00:00, 66.00batch/s, Batch Loss=3.71]\n"
     ]
    },
    {
     "name": "stdout",
     "output_type": "stream",
     "text": [
      "Epoch [443/1000], Training Loss: 3.2903, Accuracy: 0.3535\n"
     ]
    },
    {
     "name": "stderr",
     "output_type": "stream",
     "text": [
      "Epoch [444/1000]: 100%|██████████| 935/935 [00:14<00:00, 66.78batch/s, Batch Loss=3.06]\n"
     ]
    },
    {
     "name": "stdout",
     "output_type": "stream",
     "text": [
      "Epoch [444/1000], Training Loss: 3.2810, Accuracy: 0.3549\n"
     ]
    },
    {
     "name": "stderr",
     "output_type": "stream",
     "text": [
      "Epoch [445/1000]: 100%|██████████| 935/935 [00:13<00:00, 67.00batch/s, Batch Loss=3.81]\n"
     ]
    },
    {
     "name": "stdout",
     "output_type": "stream",
     "text": [
      "Epoch [445/1000], Training Loss: 3.2796, Accuracy: 0.3538\n"
     ]
    },
    {
     "name": "stderr",
     "output_type": "stream",
     "text": [
      "Epoch [446/1000]: 100%|██████████| 935/935 [00:14<00:00, 65.94batch/s, Batch Loss=3.26]\n"
     ]
    },
    {
     "name": "stdout",
     "output_type": "stream",
     "text": [
      "Epoch [446/1000], Training Loss: 3.2775, Accuracy: 0.3537\n"
     ]
    },
    {
     "name": "stderr",
     "output_type": "stream",
     "text": [
      "Epoch [447/1000]: 100%|██████████| 935/935 [00:14<00:00, 66.09batch/s, Batch Loss=3.51]\n"
     ]
    },
    {
     "name": "stdout",
     "output_type": "stream",
     "text": [
      "Epoch [447/1000], Training Loss: 3.2781, Accuracy: 0.3540\n"
     ]
    },
    {
     "name": "stderr",
     "output_type": "stream",
     "text": [
      "Epoch [538/1000]: 100%|██████████| 935/935 [00:13<00:00, 67.50batch/s, Batch Loss=3.61]\n"
     ]
    },
    {
     "name": "stdout",
     "output_type": "stream",
     "text": [
      "Epoch [538/1000], Training Loss: 3.1267, Accuracy: 0.3740\n"
     ]
    },
    {
     "name": "stderr",
     "output_type": "stream",
     "text": [
      "Epoch [539/1000]: 100%|██████████| 935/935 [00:13<00:00, 67.96batch/s, Batch Loss=2.97]\n"
     ]
    },
    {
     "name": "stdout",
     "output_type": "stream",
     "text": [
      "Epoch [539/1000], Training Loss: 3.1242, Accuracy: 0.3733\n"
     ]
    },
    {
     "name": "stderr",
     "output_type": "stream",
     "text": [
      "Epoch [540/1000]: 100%|██████████| 935/935 [00:13<00:00, 67.25batch/s, Batch Loss=3.27]\n"
     ]
    },
    {
     "name": "stdout",
     "output_type": "stream",
     "text": [
      "Epoch [540/1000], Training Loss: 3.1242, Accuracy: 0.3725\n"
     ]
    },
    {
     "name": "stderr",
     "output_type": "stream",
     "text": [
      "Epoch [541/1000]: 100%|██████████| 935/935 [00:13<00:00, 68.08batch/s, Batch Loss=3.23]\n"
     ]
    },
    {
     "name": "stdout",
     "output_type": "stream",
     "text": [
      "Epoch [541/1000], Training Loss: 3.1278, Accuracy: 0.3720\n"
     ]
    },
    {
     "name": "stderr",
     "output_type": "stream",
     "text": [
      "Epoch [554/1000]: 100%|██████████| 935/935 [00:13<00:00, 67.58batch/s, Batch Loss=2.91]\n"
     ]
    },
    {
     "name": "stdout",
     "output_type": "stream",
     "text": [
      "Epoch [554/1000], Training Loss: 3.1009, Accuracy: 0.3753\n"
     ]
    },
    {
     "name": "stderr",
     "output_type": "stream",
     "text": [
      "Epoch [555/1000]: 100%|██████████| 935/935 [00:14<00:00, 66.53batch/s, Batch Loss=3.45]\n"
     ]
    },
    {
     "name": "stdout",
     "output_type": "stream",
     "text": [
      "Epoch [555/1000], Training Loss: 3.0987, Accuracy: 0.3759\n"
     ]
    },
    {
     "name": "stderr",
     "output_type": "stream",
     "text": [
      "Epoch [556/1000]: 100%|██████████| 935/935 [00:13<00:00, 66.79batch/s, Batch Loss=3.1] \n"
     ]
    },
    {
     "name": "stdout",
     "output_type": "stream",
     "text": [
      "Epoch [556/1000], Training Loss: 3.1016, Accuracy: 0.3757\n"
     ]
    },
    {
     "name": "stderr",
     "output_type": "stream",
     "text": [
      "Epoch [557/1000]: 100%|██████████| 935/935 [00:13<00:00, 67.23batch/s, Batch Loss=3.12]\n"
     ]
    },
    {
     "name": "stdout",
     "output_type": "stream",
     "text": [
      "Epoch [557/1000], Training Loss: 3.0980, Accuracy: 0.3755\n"
     ]
    },
    {
     "name": "stderr",
     "output_type": "stream",
     "text": [
      "Epoch [567/1000]: 100%|██████████| 935/935 [00:13<00:00, 68.25batch/s, Batch Loss=3.34]\n"
     ]
    },
    {
     "name": "stdout",
     "output_type": "stream",
     "text": [
      "Epoch [567/1000], Training Loss: 3.0829, Accuracy: 0.3773\n"
     ]
    },
    {
     "name": "stderr",
     "output_type": "stream",
     "text": [
      "Epoch [568/1000]: 100%|██████████| 935/935 [00:13<00:00, 67.65batch/s, Batch Loss=3.18]\n"
     ]
    },
    {
     "name": "stdout",
     "output_type": "stream",
     "text": [
      "Epoch [568/1000], Training Loss: 3.0874, Accuracy: 0.3771\n"
     ]
    },
    {
     "name": "stderr",
     "output_type": "stream",
     "text": [
      "Epoch [569/1000]: 100%|██████████| 935/935 [00:13<00:00, 67.92batch/s, Batch Loss=3.75]\n"
     ]
    },
    {
     "name": "stdout",
     "output_type": "stream",
     "text": [
      "Epoch [569/1000], Training Loss: 3.0782, Accuracy: 0.3764\n"
     ]
    },
    {
     "name": "stderr",
     "output_type": "stream",
     "text": [
      "Epoch [570/1000]: 100%|██████████| 935/935 [00:13<00:00, 67.23batch/s, Batch Loss=2.92]\n"
     ]
    },
    {
     "name": "stdout",
     "output_type": "stream",
     "text": [
      "Epoch [570/1000], Training Loss: 3.0818, Accuracy: 0.3772\n"
     ]
    },
    {
     "name": "stderr",
     "output_type": "stream",
     "text": [
      "Epoch [571/1000]: 100%|██████████| 935/935 [00:14<00:00, 66.52batch/s, Batch Loss=3.11]\n"
     ]
    },
    {
     "name": "stdout",
     "output_type": "stream",
     "text": [
      "Epoch [571/1000], Training Loss: 3.0806, Accuracy: 0.3772\n"
     ]
    },
    {
     "name": "stderr",
     "output_type": "stream",
     "text": [
      "Epoch [572/1000]: 100%|██████████| 935/935 [00:13<00:00, 67.79batch/s, Batch Loss=3.25]\n"
     ]
    },
    {
     "name": "stdout",
     "output_type": "stream",
     "text": [
      "Epoch [572/1000], Training Loss: 3.0802, Accuracy: 0.3785\n"
     ]
    },
    {
     "name": "stderr",
     "output_type": "stream",
     "text": [
      "Epoch [573/1000]: 100%|██████████| 935/935 [00:13<00:00, 67.81batch/s, Batch Loss=3.12]\n"
     ]
    },
    {
     "name": "stdout",
     "output_type": "stream",
     "text": [
      "Epoch [573/1000], Training Loss: 3.0744, Accuracy: 0.3783\n"
     ]
    },
    {
     "name": "stderr",
     "output_type": "stream",
     "text": [
      "Epoch [574/1000]: 100%|██████████| 935/935 [00:13<00:00, 67.33batch/s, Batch Loss=3.22]\n"
     ]
    },
    {
     "name": "stdout",
     "output_type": "stream",
     "text": [
      "Epoch [574/1000], Training Loss: 3.0748, Accuracy: 0.3779\n"
     ]
    },
    {
     "name": "stderr",
     "output_type": "stream",
     "text": [
      "Epoch [575/1000]: 100%|██████████| 935/935 [00:13<00:00, 68.20batch/s, Batch Loss=3.47]\n"
     ]
    },
    {
     "name": "stdout",
     "output_type": "stream",
     "text": [
      "Epoch [575/1000], Training Loss: 3.0786, Accuracy: 0.3775\n"
     ]
    },
    {
     "name": "stderr",
     "output_type": "stream",
     "text": [
      "Epoch [576/1000]: 100%|██████████| 935/935 [00:13<00:00, 67.47batch/s, Batch Loss=3.56]\n"
     ]
    },
    {
     "name": "stdout",
     "output_type": "stream",
     "text": [
      "Epoch [576/1000], Training Loss: 3.0777, Accuracy: 0.3786\n"
     ]
    },
    {
     "name": "stderr",
     "output_type": "stream",
     "text": [
      "Epoch [577/1000]: 100%|██████████| 935/935 [00:13<00:00, 67.98batch/s, Batch Loss=3.02]\n"
     ]
    },
    {
     "name": "stdout",
     "output_type": "stream",
     "text": [
      "Epoch [577/1000], Training Loss: 3.0737, Accuracy: 0.3787\n"
     ]
    },
    {
     "name": "stderr",
     "output_type": "stream",
     "text": [
      "Epoch [578/1000]: 100%|██████████| 935/935 [00:13<00:00, 67.08batch/s, Batch Loss=3.46]\n"
     ]
    },
    {
     "name": "stdout",
     "output_type": "stream",
     "text": [
      "Epoch [578/1000], Training Loss: 3.0675, Accuracy: 0.3792\n"
     ]
    },
    {
     "name": "stderr",
     "output_type": "stream",
     "text": [
      "Epoch [579/1000]: 100%|██████████| 935/935 [00:13<00:00, 68.22batch/s, Batch Loss=2.89]\n"
     ]
    },
    {
     "name": "stdout",
     "output_type": "stream",
     "text": [
      "Epoch [579/1000], Training Loss: 3.0631, Accuracy: 0.3803\n"
     ]
    },
    {
     "name": "stderr",
     "output_type": "stream",
     "text": [
      "Epoch [580/1000]: 100%|██████████| 935/935 [00:13<00:00, 67.15batch/s, Batch Loss=2.86]\n"
     ]
    },
    {
     "name": "stdout",
     "output_type": "stream",
     "text": [
      "Epoch [580/1000], Training Loss: 3.0660, Accuracy: 0.3793\n"
     ]
    },
    {
     "name": "stderr",
     "output_type": "stream",
     "text": [
      "Epoch [581/1000]: 100%|██████████| 935/935 [00:13<00:00, 67.34batch/s, Batch Loss=3.15]\n"
     ]
    },
    {
     "name": "stdout",
     "output_type": "stream",
     "text": [
      "Epoch [581/1000], Training Loss: 3.0657, Accuracy: 0.3805\n"
     ]
    },
    {
     "name": "stderr",
     "output_type": "stream",
     "text": [
      "Epoch [582/1000]: 100%|██████████| 935/935 [00:13<00:00, 67.32batch/s, Batch Loss=3.21]\n"
     ]
    },
    {
     "name": "stdout",
     "output_type": "stream",
     "text": [
      "Epoch [582/1000], Training Loss: 3.0663, Accuracy: 0.3812\n"
     ]
    },
    {
     "name": "stderr",
     "output_type": "stream",
     "text": [
      "Epoch [583/1000]: 100%|██████████| 935/935 [00:13<00:00, 67.67batch/s, Batch Loss=3.02]\n"
     ]
    },
    {
     "name": "stdout",
     "output_type": "stream",
     "text": [
      "Epoch [583/1000], Training Loss: 3.0588, Accuracy: 0.3797\n"
     ]
    },
    {
     "name": "stderr",
     "output_type": "stream",
     "text": [
      "Epoch [584/1000]: 100%|██████████| 935/935 [00:14<00:00, 66.55batch/s, Batch Loss=3.14]\n"
     ]
    },
    {
     "name": "stdout",
     "output_type": "stream",
     "text": [
      "Epoch [584/1000], Training Loss: 3.0627, Accuracy: 0.3797\n"
     ]
    },
    {
     "name": "stderr",
     "output_type": "stream",
     "text": [
      "Epoch [585/1000]: 100%|██████████| 935/935 [00:13<00:00, 66.79batch/s, Batch Loss=2.9] \n"
     ]
    },
    {
     "name": "stdout",
     "output_type": "stream",
     "text": [
      "Epoch [585/1000], Training Loss: 3.0565, Accuracy: 0.3807\n"
     ]
    },
    {
     "name": "stderr",
     "output_type": "stream",
     "text": [
      "Epoch [586/1000]: 100%|██████████| 935/935 [00:13<00:00, 67.51batch/s, Batch Loss=2.97]\n"
     ]
    },
    {
     "name": "stdout",
     "output_type": "stream",
     "text": [
      "Epoch [586/1000], Training Loss: 3.0620, Accuracy: 0.3796\n"
     ]
    },
    {
     "name": "stderr",
     "output_type": "stream",
     "text": [
      "Epoch [587/1000]: 100%|██████████| 935/935 [00:14<00:00, 66.70batch/s, Batch Loss=2.99]\n"
     ]
    },
    {
     "name": "stdout",
     "output_type": "stream",
     "text": [
      "Epoch [587/1000], Training Loss: 3.0566, Accuracy: 0.3809\n"
     ]
    },
    {
     "name": "stderr",
     "output_type": "stream",
     "text": [
      "Epoch [588/1000]: 100%|██████████| 935/935 [00:13<00:00, 67.22batch/s, Batch Loss=2.98]\n"
     ]
    },
    {
     "name": "stdout",
     "output_type": "stream",
     "text": [
      "Epoch [588/1000], Training Loss: 3.0646, Accuracy: 0.3793\n"
     ]
    },
    {
     "name": "stderr",
     "output_type": "stream",
     "text": [
      "Epoch [589/1000]: 100%|██████████| 935/935 [00:13<00:00, 67.31batch/s, Batch Loss=3.42]\n"
     ]
    },
    {
     "name": "stdout",
     "output_type": "stream",
     "text": [
      "Epoch [589/1000], Training Loss: 3.0504, Accuracy: 0.3807\n"
     ]
    },
    {
     "name": "stderr",
     "output_type": "stream",
     "text": [
      "Epoch [590/1000]: 100%|██████████| 935/935 [00:13<00:00, 68.22batch/s, Batch Loss=3.58]\n"
     ]
    },
    {
     "name": "stdout",
     "output_type": "stream",
     "text": [
      "Epoch [590/1000], Training Loss: 3.0552, Accuracy: 0.3805\n"
     ]
    },
    {
     "name": "stderr",
     "output_type": "stream",
     "text": [
      "Epoch [591/1000]: 100%|██████████| 935/935 [00:13<00:00, 67.16batch/s, Batch Loss=3.06]\n"
     ]
    },
    {
     "name": "stdout",
     "output_type": "stream",
     "text": [
      "Epoch [591/1000], Training Loss: 3.0577, Accuracy: 0.3799\n"
     ]
    },
    {
     "name": "stderr",
     "output_type": "stream",
     "text": [
      "Epoch [592/1000]: 100%|██████████| 935/935 [00:13<00:00, 67.67batch/s, Batch Loss=3.33]\n"
     ]
    },
    {
     "name": "stdout",
     "output_type": "stream",
     "text": [
      "Epoch [592/1000], Training Loss: 3.0496, Accuracy: 0.3806\n"
     ]
    },
    {
     "name": "stderr",
     "output_type": "stream",
     "text": [
      "Epoch [593/1000]: 100%|██████████| 935/935 [00:13<00:00, 67.90batch/s, Batch Loss=2.67]\n"
     ]
    },
    {
     "name": "stdout",
     "output_type": "stream",
     "text": [
      "Epoch [593/1000], Training Loss: 3.0512, Accuracy: 0.3813\n"
     ]
    },
    {
     "name": "stderr",
     "output_type": "stream",
     "text": [
      "Epoch [594/1000]: 100%|██████████| 935/935 [00:13<00:00, 67.61batch/s, Batch Loss=3.5] \n"
     ]
    },
    {
     "name": "stdout",
     "output_type": "stream",
     "text": [
      "Epoch [594/1000], Training Loss: 3.0425, Accuracy: 0.3821\n"
     ]
    },
    {
     "name": "stderr",
     "output_type": "stream",
     "text": [
      "Epoch [595/1000]: 100%|██████████| 935/935 [00:13<00:00, 67.82batch/s, Batch Loss=3.29]\n"
     ]
    },
    {
     "name": "stdout",
     "output_type": "stream",
     "text": [
      "Epoch [595/1000], Training Loss: 3.0450, Accuracy: 0.3821\n"
     ]
    },
    {
     "name": "stderr",
     "output_type": "stream",
     "text": [
      "Epoch [596/1000]: 100%|██████████| 935/935 [00:14<00:00, 66.77batch/s, Batch Loss=3.32]\n"
     ]
    },
    {
     "name": "stdout",
     "output_type": "stream",
     "text": [
      "Epoch [596/1000], Training Loss: 3.0498, Accuracy: 0.3815\n"
     ]
    },
    {
     "name": "stderr",
     "output_type": "stream",
     "text": [
      "Epoch [597/1000]: 100%|██████████| 935/935 [00:13<00:00, 67.87batch/s, Batch Loss=3.21]\n"
     ]
    },
    {
     "name": "stdout",
     "output_type": "stream",
     "text": [
      "Epoch [597/1000], Training Loss: 3.0491, Accuracy: 0.3815\n"
     ]
    },
    {
     "name": "stderr",
     "output_type": "stream",
     "text": [
      "Epoch [598/1000]: 100%|██████████| 935/935 [00:13<00:00, 67.76batch/s, Batch Loss=2.96]\n"
     ]
    },
    {
     "name": "stdout",
     "output_type": "stream",
     "text": [
      "Epoch [598/1000], Training Loss: 3.0494, Accuracy: 0.3812\n"
     ]
    },
    {
     "name": "stderr",
     "output_type": "stream",
     "text": [
      "Epoch [599/1000]: 100%|██████████| 935/935 [00:13<00:00, 68.12batch/s, Batch Loss=3.54]\n"
     ]
    },
    {
     "name": "stdout",
     "output_type": "stream",
     "text": [
      "Epoch [599/1000], Training Loss: 3.0437, Accuracy: 0.3828\n"
     ]
    },
    {
     "name": "stderr",
     "output_type": "stream",
     "text": [
      "Epoch [600/1000]: 100%|██████████| 935/935 [00:13<00:00, 67.06batch/s, Batch Loss=3.3] \n"
     ]
    },
    {
     "name": "stdout",
     "output_type": "stream",
     "text": [
      "Epoch [600/1000], Training Loss: 3.0444, Accuracy: 0.3825\n",
      "\n",
      "Evaluating on validation set...\n"
     ]
    },
    {
     "name": "stderr",
     "output_type": "stream",
     "text": [
      "Evaluating HR & NDCG for multiple k: 100%|██████████| 201/201 [00:05<00:00, 38.84it/s]\n"
     ]
    },
    {
     "name": "stdout",
     "output_type": "stream",
     "text": [
      "Validation HR@5: 0.3740, NDCG@5: 0.3073\n",
      "Validation HR@10: 0.4206, NDCG@10: 0.3224\n",
      "Validation HR@20: 0.4626, NDCG@20: 0.3331\n",
      "Model saved at 'uet4rec64_rr_model_epoch_600.pth'\n"
     ]
    },
    {
     "name": "stderr",
     "output_type": "stream",
     "text": [
      "Epoch [601/1000]: 100%|██████████| 935/935 [00:13<00:00, 68.04batch/s, Batch Loss=3.2] \n"
     ]
    },
    {
     "name": "stdout",
     "output_type": "stream",
     "text": [
      "Epoch [601/1000], Training Loss: 3.0433, Accuracy: 0.3829\n"
     ]
    },
    {
     "name": "stderr",
     "output_type": "stream",
     "text": [
      "Epoch [602/1000]: 100%|██████████| 935/935 [00:13<00:00, 67.39batch/s, Batch Loss=3.27]\n"
     ]
    },
    {
     "name": "stdout",
     "output_type": "stream",
     "text": [
      "Epoch [602/1000], Training Loss: 3.0322, Accuracy: 0.3835\n"
     ]
    },
    {
     "name": "stderr",
     "output_type": "stream",
     "text": [
      "Epoch [603/1000]: 100%|██████████| 935/935 [00:13<00:00, 68.03batch/s, Batch Loss=3.29]\n"
     ]
    },
    {
     "name": "stdout",
     "output_type": "stream",
     "text": [
      "Epoch [603/1000], Training Loss: 3.0392, Accuracy: 0.3839\n"
     ]
    },
    {
     "name": "stderr",
     "output_type": "stream",
     "text": [
      "Epoch [604/1000]: 100%|██████████| 935/935 [00:13<00:00, 68.06batch/s, Batch Loss=3.27]\n"
     ]
    },
    {
     "name": "stdout",
     "output_type": "stream",
     "text": [
      "Epoch [604/1000], Training Loss: 3.0327, Accuracy: 0.3835\n"
     ]
    },
    {
     "name": "stderr",
     "output_type": "stream",
     "text": [
      "Epoch [605/1000]: 100%|██████████| 935/935 [00:13<00:00, 68.47batch/s, Batch Loss=3.34]\n"
     ]
    },
    {
     "name": "stdout",
     "output_type": "stream",
     "text": [
      "Epoch [605/1000], Training Loss: 3.0392, Accuracy: 0.3824\n"
     ]
    },
    {
     "name": "stderr",
     "output_type": "stream",
     "text": [
      "Epoch [606/1000]: 100%|██████████| 935/935 [00:13<00:00, 67.84batch/s, Batch Loss=3.09]\n"
     ]
    },
    {
     "name": "stdout",
     "output_type": "stream",
     "text": [
      "Epoch [606/1000], Training Loss: 3.0373, Accuracy: 0.3821\n"
     ]
    },
    {
     "name": "stderr",
     "output_type": "stream",
     "text": [
      "Epoch [607/1000]: 100%|██████████| 935/935 [00:13<00:00, 68.09batch/s, Batch Loss=3.2] \n"
     ]
    },
    {
     "name": "stdout",
     "output_type": "stream",
     "text": [
      "Epoch [607/1000], Training Loss: 3.0250, Accuracy: 0.3852\n"
     ]
    },
    {
     "name": "stderr",
     "output_type": "stream",
     "text": [
      "Epoch [608/1000]: 100%|██████████| 935/935 [00:13<00:00, 68.46batch/s, Batch Loss=3.32]\n"
     ]
    },
    {
     "name": "stdout",
     "output_type": "stream",
     "text": [
      "Epoch [608/1000], Training Loss: 3.0296, Accuracy: 0.3838\n"
     ]
    },
    {
     "name": "stderr",
     "output_type": "stream",
     "text": [
      "Epoch [609/1000]: 100%|██████████| 935/935 [00:13<00:00, 67.79batch/s, Batch Loss=3.16]\n"
     ]
    },
    {
     "name": "stdout",
     "output_type": "stream",
     "text": [
      "Epoch [609/1000], Training Loss: 3.0207, Accuracy: 0.3843\n"
     ]
    },
    {
     "name": "stderr",
     "output_type": "stream",
     "text": [
      "Epoch [610/1000]: 100%|██████████| 935/935 [00:13<00:00, 68.30batch/s, Batch Loss=3.13]\n"
     ]
    },
    {
     "name": "stdout",
     "output_type": "stream",
     "text": [
      "Epoch [610/1000], Training Loss: 3.0279, Accuracy: 0.3831\n"
     ]
    },
    {
     "name": "stderr",
     "output_type": "stream",
     "text": [
      "Epoch [611/1000]: 100%|██████████| 935/935 [00:13<00:00, 68.76batch/s, Batch Loss=3.15]\n"
     ]
    },
    {
     "name": "stdout",
     "output_type": "stream",
     "text": [
      "Epoch [611/1000], Training Loss: 3.0327, Accuracy: 0.3825\n"
     ]
    },
    {
     "name": "stderr",
     "output_type": "stream",
     "text": [
      "Epoch [612/1000]: 100%|██████████| 935/935 [00:13<00:00, 68.54batch/s, Batch Loss=3.06]\n"
     ]
    },
    {
     "name": "stdout",
     "output_type": "stream",
     "text": [
      "Epoch [612/1000], Training Loss: 3.0236, Accuracy: 0.3837\n"
     ]
    },
    {
     "name": "stderr",
     "output_type": "stream",
     "text": [
      "Epoch [613/1000]: 100%|██████████| 935/935 [00:13<00:00, 67.82batch/s, Batch Loss=3.12]\n"
     ]
    },
    {
     "name": "stdout",
     "output_type": "stream",
     "text": [
      "Epoch [613/1000], Training Loss: 3.0174, Accuracy: 0.3861\n"
     ]
    },
    {
     "name": "stderr",
     "output_type": "stream",
     "text": [
      "Epoch [614/1000]: 100%|██████████| 935/935 [00:13<00:00, 67.11batch/s, Batch Loss=3.23]\n"
     ]
    },
    {
     "name": "stdout",
     "output_type": "stream",
     "text": [
      "Epoch [614/1000], Training Loss: 3.0237, Accuracy: 0.3842\n"
     ]
    },
    {
     "name": "stderr",
     "output_type": "stream",
     "text": [
      "Epoch [615/1000]: 100%|██████████| 935/935 [00:13<00:00, 67.56batch/s, Batch Loss=3.08]\n"
     ]
    },
    {
     "name": "stdout",
     "output_type": "stream",
     "text": [
      "Epoch [615/1000], Training Loss: 3.0243, Accuracy: 0.3830\n"
     ]
    },
    {
     "name": "stderr",
     "output_type": "stream",
     "text": [
      "Epoch [616/1000]: 100%|██████████| 935/935 [00:13<00:00, 67.17batch/s, Batch Loss=2.93]\n"
     ]
    },
    {
     "name": "stdout",
     "output_type": "stream",
     "text": [
      "Epoch [616/1000], Training Loss: 3.0202, Accuracy: 0.3861\n"
     ]
    },
    {
     "name": "stderr",
     "output_type": "stream",
     "text": [
      "Epoch [617/1000]: 100%|██████████| 935/935 [00:14<00:00, 66.22batch/s, Batch Loss=3.1] \n"
     ]
    },
    {
     "name": "stdout",
     "output_type": "stream",
     "text": [
      "Epoch [617/1000], Training Loss: 3.0190, Accuracy: 0.3856\n"
     ]
    },
    {
     "name": "stderr",
     "output_type": "stream",
     "text": [
      "Epoch [618/1000]: 100%|██████████| 935/935 [00:14<00:00, 66.70batch/s, Batch Loss=3.1] \n"
     ]
    },
    {
     "name": "stdout",
     "output_type": "stream",
     "text": [
      "Epoch [618/1000], Training Loss: 3.0181, Accuracy: 0.3859\n"
     ]
    },
    {
     "name": "stderr",
     "output_type": "stream",
     "text": [
      "Epoch [619/1000]: 100%|██████████| 935/935 [00:13<00:00, 67.80batch/s, Batch Loss=3.17]\n"
     ]
    },
    {
     "name": "stdout",
     "output_type": "stream",
     "text": [
      "Epoch [619/1000], Training Loss: 3.0167, Accuracy: 0.3855\n"
     ]
    },
    {
     "name": "stderr",
     "output_type": "stream",
     "text": [
      "Epoch [620/1000]: 100%|██████████| 935/935 [00:14<00:00, 66.19batch/s, Batch Loss=3.18]\n"
     ]
    },
    {
     "name": "stdout",
     "output_type": "stream",
     "text": [
      "Epoch [620/1000], Training Loss: 3.0143, Accuracy: 0.3860\n"
     ]
    },
    {
     "name": "stderr",
     "output_type": "stream",
     "text": [
      "Epoch [621/1000]: 100%|██████████| 935/935 [00:14<00:00, 65.01batch/s, Batch Loss=3.02]\n"
     ]
    },
    {
     "name": "stdout",
     "output_type": "stream",
     "text": [
      "Epoch [621/1000], Training Loss: 3.0064, Accuracy: 0.3865\n"
     ]
    },
    {
     "name": "stderr",
     "output_type": "stream",
     "text": [
      "Epoch [622/1000]: 100%|██████████| 935/935 [00:15<00:00, 62.02batch/s, Batch Loss=3.13]\n"
     ]
    },
    {
     "name": "stdout",
     "output_type": "stream",
     "text": [
      "Epoch [622/1000], Training Loss: 3.0137, Accuracy: 0.3868\n"
     ]
    },
    {
     "name": "stderr",
     "output_type": "stream",
     "text": [
      "Epoch [623/1000]: 100%|██████████| 935/935 [00:14<00:00, 62.73batch/s, Batch Loss=3]   \n"
     ]
    },
    {
     "name": "stdout",
     "output_type": "stream",
     "text": [
      "Epoch [623/1000], Training Loss: 3.0127, Accuracy: 0.3863\n"
     ]
    },
    {
     "name": "stderr",
     "output_type": "stream",
     "text": [
      "Epoch [624/1000]: 100%|██████████| 935/935 [00:14<00:00, 63.49batch/s, Batch Loss=2.97]\n"
     ]
    },
    {
     "name": "stdout",
     "output_type": "stream",
     "text": [
      "Epoch [624/1000], Training Loss: 3.0109, Accuracy: 0.3855\n"
     ]
    },
    {
     "name": "stderr",
     "output_type": "stream",
     "text": [
      "Epoch [625/1000]: 100%|██████████| 935/935 [00:14<00:00, 63.97batch/s, Batch Loss=3.29]\n"
     ]
    },
    {
     "name": "stdout",
     "output_type": "stream",
     "text": [
      "Epoch [625/1000], Training Loss: 3.0055, Accuracy: 0.3873\n"
     ]
    },
    {
     "name": "stderr",
     "output_type": "stream",
     "text": [
      "Epoch [626/1000]: 100%|██████████| 935/935 [00:14<00:00, 64.04batch/s, Batch Loss=3.43]\n"
     ]
    },
    {
     "name": "stdout",
     "output_type": "stream",
     "text": [
      "Epoch [626/1000], Training Loss: 3.0104, Accuracy: 0.3856\n"
     ]
    },
    {
     "name": "stderr",
     "output_type": "stream",
     "text": [
      "Epoch [627/1000]: 100%|██████████| 935/935 [00:14<00:00, 65.90batch/s, Batch Loss=3.12]\n"
     ]
    },
    {
     "name": "stdout",
     "output_type": "stream",
     "text": [
      "Epoch [627/1000], Training Loss: 3.0072, Accuracy: 0.3862\n"
     ]
    },
    {
     "name": "stderr",
     "output_type": "stream",
     "text": [
      "Epoch [628/1000]: 100%|██████████| 935/935 [00:14<00:00, 64.82batch/s, Batch Loss=3.23]\n"
     ]
    },
    {
     "name": "stdout",
     "output_type": "stream",
     "text": [
      "Epoch [628/1000], Training Loss: 3.0075, Accuracy: 0.3863\n"
     ]
    },
    {
     "name": "stderr",
     "output_type": "stream",
     "text": [
      "Epoch [629/1000]: 100%|██████████| 935/935 [00:14<00:00, 65.32batch/s, Batch Loss=2.86]\n"
     ]
    },
    {
     "name": "stdout",
     "output_type": "stream",
     "text": [
      "Epoch [629/1000], Training Loss: 3.0071, Accuracy: 0.3869\n"
     ]
    },
    {
     "name": "stderr",
     "output_type": "stream",
     "text": [
      "Epoch [630/1000]: 100%|██████████| 935/935 [00:13<00:00, 67.38batch/s, Batch Loss=3.02]\n"
     ]
    },
    {
     "name": "stdout",
     "output_type": "stream",
     "text": [
      "Epoch [630/1000], Training Loss: 2.9994, Accuracy: 0.3877\n"
     ]
    },
    {
     "name": "stderr",
     "output_type": "stream",
     "text": [
      "Epoch [631/1000]: 100%|██████████| 935/935 [00:14<00:00, 66.40batch/s, Batch Loss=3.07]\n"
     ]
    },
    {
     "name": "stdout",
     "output_type": "stream",
     "text": [
      "Epoch [631/1000], Training Loss: 2.9961, Accuracy: 0.3876\n"
     ]
    },
    {
     "name": "stderr",
     "output_type": "stream",
     "text": [
      "Epoch [632/1000]: 100%|██████████| 935/935 [00:13<00:00, 67.33batch/s, Batch Loss=2.97]\n"
     ]
    },
    {
     "name": "stdout",
     "output_type": "stream",
     "text": [
      "Epoch [632/1000], Training Loss: 3.0035, Accuracy: 0.3868\n"
     ]
    },
    {
     "name": "stderr",
     "output_type": "stream",
     "text": [
      "Epoch [633/1000]: 100%|██████████| 935/935 [00:13<00:00, 67.38batch/s, Batch Loss=2.95]\n"
     ]
    },
    {
     "name": "stdout",
     "output_type": "stream",
     "text": [
      "Epoch [633/1000], Training Loss: 2.9989, Accuracy: 0.3880\n"
     ]
    },
    {
     "name": "stderr",
     "output_type": "stream",
     "text": [
      "Epoch [634/1000]: 100%|██████████| 935/935 [00:13<00:00, 66.80batch/s, Batch Loss=3.39]\n"
     ]
    },
    {
     "name": "stdout",
     "output_type": "stream",
     "text": [
      "Epoch [634/1000], Training Loss: 2.9976, Accuracy: 0.3875\n"
     ]
    },
    {
     "name": "stderr",
     "output_type": "stream",
     "text": [
      "Epoch [635/1000]: 100%|██████████| 935/935 [00:13<00:00, 66.85batch/s, Batch Loss=3.19]\n"
     ]
    },
    {
     "name": "stdout",
     "output_type": "stream",
     "text": [
      "Epoch [635/1000], Training Loss: 2.9956, Accuracy: 0.3883\n"
     ]
    },
    {
     "name": "stderr",
     "output_type": "stream",
     "text": [
      "Epoch [636/1000]: 100%|██████████| 935/935 [00:13<00:00, 67.13batch/s, Batch Loss=3.25]\n"
     ]
    },
    {
     "name": "stdout",
     "output_type": "stream",
     "text": [
      "Epoch [636/1000], Training Loss: 2.9952, Accuracy: 0.3884\n"
     ]
    },
    {
     "name": "stderr",
     "output_type": "stream",
     "text": [
      "Epoch [637/1000]: 100%|██████████| 935/935 [00:13<00:00, 68.06batch/s, Batch Loss=2.93]\n"
     ]
    },
    {
     "name": "stdout",
     "output_type": "stream",
     "text": [
      "Epoch [637/1000], Training Loss: 2.9950, Accuracy: 0.3878\n"
     ]
    },
    {
     "name": "stderr",
     "output_type": "stream",
     "text": [
      "Epoch [638/1000]: 100%|██████████| 935/935 [00:13<00:00, 67.37batch/s, Batch Loss=3.71]\n"
     ]
    },
    {
     "name": "stdout",
     "output_type": "stream",
     "text": [
      "Epoch [638/1000], Training Loss: 2.9923, Accuracy: 0.3892\n"
     ]
    },
    {
     "name": "stderr",
     "output_type": "stream",
     "text": [
      "Epoch [639/1000]: 100%|██████████| 935/935 [00:13<00:00, 67.12batch/s, Batch Loss=3.09]\n"
     ]
    },
    {
     "name": "stdout",
     "output_type": "stream",
     "text": [
      "Epoch [639/1000], Training Loss: 2.9883, Accuracy: 0.3896\n"
     ]
    },
    {
     "name": "stderr",
     "output_type": "stream",
     "text": [
      "Epoch [640/1000]: 100%|██████████| 935/935 [00:13<00:00, 67.65batch/s, Batch Loss=3.12]\n"
     ]
    },
    {
     "name": "stdout",
     "output_type": "stream",
     "text": [
      "Epoch [640/1000], Training Loss: 2.9901, Accuracy: 0.3885\n"
     ]
    },
    {
     "name": "stderr",
     "output_type": "stream",
     "text": [
      "Epoch [641/1000]: 100%|██████████| 935/935 [00:13<00:00, 67.31batch/s, Batch Loss=3.07]\n"
     ]
    },
    {
     "name": "stdout",
     "output_type": "stream",
     "text": [
      "Epoch [641/1000], Training Loss: 2.9888, Accuracy: 0.3885\n"
     ]
    },
    {
     "name": "stderr",
     "output_type": "stream",
     "text": [
      "Epoch [642/1000]: 100%|██████████| 935/935 [00:13<00:00, 68.00batch/s, Batch Loss=2.76]\n"
     ]
    },
    {
     "name": "stdout",
     "output_type": "stream",
     "text": [
      "Epoch [642/1000], Training Loss: 2.9881, Accuracy: 0.3888\n"
     ]
    },
    {
     "name": "stderr",
     "output_type": "stream",
     "text": [
      "Epoch [643/1000]: 100%|██████████| 935/935 [00:13<00:00, 67.23batch/s, Batch Loss=2.88]\n"
     ]
    },
    {
     "name": "stdout",
     "output_type": "stream",
     "text": [
      "Epoch [643/1000], Training Loss: 2.9897, Accuracy: 0.3898\n"
     ]
    },
    {
     "name": "stderr",
     "output_type": "stream",
     "text": [
      "Epoch [644/1000]: 100%|██████████| 935/935 [00:13<00:00, 68.73batch/s, Batch Loss=2.98]\n"
     ]
    },
    {
     "name": "stdout",
     "output_type": "stream",
     "text": [
      "Epoch [644/1000], Training Loss: 2.9841, Accuracy: 0.3890\n"
     ]
    },
    {
     "name": "stderr",
     "output_type": "stream",
     "text": [
      "Epoch [645/1000]: 100%|██████████| 935/935 [00:13<00:00, 67.71batch/s, Batch Loss=3.16]\n"
     ]
    },
    {
     "name": "stdout",
     "output_type": "stream",
     "text": [
      "Epoch [645/1000], Training Loss: 2.9885, Accuracy: 0.3903\n"
     ]
    },
    {
     "name": "stderr",
     "output_type": "stream",
     "text": [
      "Epoch [646/1000]: 100%|██████████| 935/935 [00:13<00:00, 67.72batch/s, Batch Loss=2.99]\n"
     ]
    },
    {
     "name": "stdout",
     "output_type": "stream",
     "text": [
      "Epoch [646/1000], Training Loss: 2.9810, Accuracy: 0.3917\n"
     ]
    },
    {
     "name": "stderr",
     "output_type": "stream",
     "text": [
      "Epoch [647/1000]: 100%|██████████| 935/935 [00:13<00:00, 67.90batch/s, Batch Loss=3.27]\n"
     ]
    },
    {
     "name": "stdout",
     "output_type": "stream",
     "text": [
      "Epoch [647/1000], Training Loss: 2.9783, Accuracy: 0.3914\n"
     ]
    },
    {
     "name": "stderr",
     "output_type": "stream",
     "text": [
      "Epoch [648/1000]: 100%|██████████| 935/935 [00:13<00:00, 67.97batch/s, Batch Loss=3.06]\n"
     ]
    },
    {
     "name": "stdout",
     "output_type": "stream",
     "text": [
      "Epoch [648/1000], Training Loss: 2.9808, Accuracy: 0.3911\n"
     ]
    },
    {
     "name": "stderr",
     "output_type": "stream",
     "text": [
      "Epoch [649/1000]: 100%|██████████| 935/935 [00:13<00:00, 67.49batch/s, Batch Loss=2.87]\n"
     ]
    },
    {
     "name": "stdout",
     "output_type": "stream",
     "text": [
      "Epoch [649/1000], Training Loss: 2.9805, Accuracy: 0.3894\n"
     ]
    },
    {
     "name": "stderr",
     "output_type": "stream",
     "text": [
      "Epoch [650/1000]: 100%|██████████| 935/935 [00:13<00:00, 67.76batch/s, Batch Loss=3.01]\n"
     ]
    },
    {
     "name": "stdout",
     "output_type": "stream",
     "text": [
      "Epoch [650/1000], Training Loss: 2.9773, Accuracy: 0.3908\n",
      "\n",
      "Evaluating on validation set...\n"
     ]
    },
    {
     "name": "stderr",
     "output_type": "stream",
     "text": [
      "Evaluating HR & NDCG for multiple k: 100%|██████████| 201/201 [00:05<00:00, 38.73it/s]\n"
     ]
    },
    {
     "name": "stdout",
     "output_type": "stream",
     "text": [
      "Validation HR@5: 0.3759, NDCG@5: 0.3083\n",
      "Validation HR@10: 0.4211, NDCG@10: 0.3229\n",
      "Validation HR@20: 0.4624, NDCG@20: 0.3334\n",
      "Model saved at 'uet4rec64_rr_model_epoch_650.pth'\n"
     ]
    },
    {
     "name": "stderr",
     "output_type": "stream",
     "text": [
      "Epoch [651/1000]: 100%|██████████| 935/935 [00:13<00:00, 67.10batch/s, Batch Loss=3.01]\n"
     ]
    },
    {
     "name": "stdout",
     "output_type": "stream",
     "text": [
      "Epoch [651/1000], Training Loss: 2.9759, Accuracy: 0.3909\n"
     ]
    },
    {
     "name": "stderr",
     "output_type": "stream",
     "text": [
      "Epoch [652/1000]: 100%|██████████| 935/935 [00:13<00:00, 68.21batch/s, Batch Loss=2.9] \n"
     ]
    },
    {
     "name": "stdout",
     "output_type": "stream",
     "text": [
      "Epoch [652/1000], Training Loss: 2.9825, Accuracy: 0.3905\n"
     ]
    },
    {
     "name": "stderr",
     "output_type": "stream",
     "text": [
      "Epoch [653/1000]: 100%|██████████| 935/935 [00:13<00:00, 67.56batch/s, Batch Loss=2.94]\n"
     ]
    },
    {
     "name": "stdout",
     "output_type": "stream",
     "text": [
      "Epoch [653/1000], Training Loss: 2.9784, Accuracy: 0.3901\n"
     ]
    },
    {
     "name": "stderr",
     "output_type": "stream",
     "text": [
      "Epoch [654/1000]: 100%|██████████| 935/935 [00:13<00:00, 68.36batch/s, Batch Loss=3]   \n"
     ]
    },
    {
     "name": "stdout",
     "output_type": "stream",
     "text": [
      "Epoch [654/1000], Training Loss: 2.9719, Accuracy: 0.3915\n"
     ]
    },
    {
     "name": "stderr",
     "output_type": "stream",
     "text": [
      "Epoch [655/1000]: 100%|██████████| 935/935 [00:13<00:00, 68.23batch/s, Batch Loss=3.26]\n"
     ]
    },
    {
     "name": "stdout",
     "output_type": "stream",
     "text": [
      "Epoch [655/1000], Training Loss: 2.9673, Accuracy: 0.3914\n"
     ]
    },
    {
     "name": "stderr",
     "output_type": "stream",
     "text": [
      "Epoch [656/1000]: 100%|██████████| 935/935 [00:13<00:00, 66.99batch/s, Batch Loss=3.08]\n"
     ]
    },
    {
     "name": "stdout",
     "output_type": "stream",
     "text": [
      "Epoch [656/1000], Training Loss: 2.9755, Accuracy: 0.3898\n"
     ]
    },
    {
     "name": "stderr",
     "output_type": "stream",
     "text": [
      "Epoch [657/1000]: 100%|██████████| 935/935 [00:13<00:00, 67.45batch/s, Batch Loss=3]   \n"
     ]
    },
    {
     "name": "stdout",
     "output_type": "stream",
     "text": [
      "Epoch [657/1000], Training Loss: 2.9706, Accuracy: 0.3924\n"
     ]
    },
    {
     "name": "stderr",
     "output_type": "stream",
     "text": [
      "Epoch [658/1000]: 100%|██████████| 935/935 [00:13<00:00, 68.17batch/s, Batch Loss=3.19]\n"
     ]
    },
    {
     "name": "stdout",
     "output_type": "stream",
     "text": [
      "Epoch [658/1000], Training Loss: 2.9658, Accuracy: 0.3925\n"
     ]
    },
    {
     "name": "stderr",
     "output_type": "stream",
     "text": [
      "Epoch [659/1000]: 100%|██████████| 935/935 [00:13<00:00, 68.39batch/s, Batch Loss=3.24]\n"
     ]
    },
    {
     "name": "stdout",
     "output_type": "stream",
     "text": [
      "Epoch [659/1000], Training Loss: 2.9732, Accuracy: 0.3905\n"
     ]
    },
    {
     "name": "stderr",
     "output_type": "stream",
     "text": [
      "Epoch [660/1000]: 100%|██████████| 935/935 [00:13<00:00, 68.08batch/s, Batch Loss=3.12]\n"
     ]
    },
    {
     "name": "stdout",
     "output_type": "stream",
     "text": [
      "Epoch [660/1000], Training Loss: 2.9664, Accuracy: 0.3913\n"
     ]
    },
    {
     "name": "stderr",
     "output_type": "stream",
     "text": [
      "Epoch [661/1000]: 100%|██████████| 935/935 [00:13<00:00, 68.27batch/s, Batch Loss=2.85]\n"
     ]
    },
    {
     "name": "stdout",
     "output_type": "stream",
     "text": [
      "Epoch [661/1000], Training Loss: 2.9685, Accuracy: 0.3918\n"
     ]
    },
    {
     "name": "stderr",
     "output_type": "stream",
     "text": [
      "Epoch [662/1000]: 100%|██████████| 935/935 [00:13<00:00, 68.07batch/s, Batch Loss=3.26]\n"
     ]
    },
    {
     "name": "stdout",
     "output_type": "stream",
     "text": [
      "Epoch [662/1000], Training Loss: 2.9686, Accuracy: 0.3905\n"
     ]
    },
    {
     "name": "stderr",
     "output_type": "stream",
     "text": [
      "Epoch [663/1000]: 100%|██████████| 935/935 [00:13<00:00, 67.82batch/s, Batch Loss=2.97]\n"
     ]
    },
    {
     "name": "stdout",
     "output_type": "stream",
     "text": [
      "Epoch [663/1000], Training Loss: 2.9677, Accuracy: 0.3915\n"
     ]
    },
    {
     "name": "stderr",
     "output_type": "stream",
     "text": [
      "Epoch [664/1000]: 100%|██████████| 935/935 [00:13<00:00, 67.78batch/s, Batch Loss=3.32]\n"
     ]
    },
    {
     "name": "stdout",
     "output_type": "stream",
     "text": [
      "Epoch [664/1000], Training Loss: 2.9599, Accuracy: 0.3930\n"
     ]
    },
    {
     "name": "stderr",
     "output_type": "stream",
     "text": [
      "Epoch [665/1000]: 100%|██████████| 935/935 [00:13<00:00, 67.95batch/s, Batch Loss=3.01]\n"
     ]
    },
    {
     "name": "stdout",
     "output_type": "stream",
     "text": [
      "Epoch [665/1000], Training Loss: 2.9550, Accuracy: 0.3944\n"
     ]
    },
    {
     "name": "stderr",
     "output_type": "stream",
     "text": [
      "Epoch [666/1000]: 100%|██████████| 935/935 [00:13<00:00, 68.57batch/s, Batch Loss=3.02]\n"
     ]
    },
    {
     "name": "stdout",
     "output_type": "stream",
     "text": [
      "Epoch [666/1000], Training Loss: 2.9624, Accuracy: 0.3926\n"
     ]
    },
    {
     "name": "stderr",
     "output_type": "stream",
     "text": [
      "Epoch [667/1000]: 100%|██████████| 935/935 [00:13<00:00, 67.91batch/s, Batch Loss=3.23]\n"
     ]
    },
    {
     "name": "stdout",
     "output_type": "stream",
     "text": [
      "Epoch [667/1000], Training Loss: 2.9550, Accuracy: 0.3926\n"
     ]
    },
    {
     "name": "stderr",
     "output_type": "stream",
     "text": [
      "Epoch [668/1000]: 100%|██████████| 935/935 [00:13<00:00, 67.85batch/s, Batch Loss=3.28]\n"
     ]
    },
    {
     "name": "stdout",
     "output_type": "stream",
     "text": [
      "Epoch [668/1000], Training Loss: 2.9556, Accuracy: 0.3927\n"
     ]
    },
    {
     "name": "stderr",
     "output_type": "stream",
     "text": [
      "Epoch [669/1000]: 100%|██████████| 935/935 [00:13<00:00, 68.28batch/s, Batch Loss=3.05]\n"
     ]
    },
    {
     "name": "stdout",
     "output_type": "stream",
     "text": [
      "Epoch [669/1000], Training Loss: 2.9547, Accuracy: 0.3942\n"
     ]
    },
    {
     "name": "stderr",
     "output_type": "stream",
     "text": [
      "Epoch [670/1000]: 100%|██████████| 935/935 [00:13<00:00, 68.07batch/s, Batch Loss=3.13]\n"
     ]
    },
    {
     "name": "stdout",
     "output_type": "stream",
     "text": [
      "Epoch [670/1000], Training Loss: 2.9544, Accuracy: 0.3940\n"
     ]
    },
    {
     "name": "stderr",
     "output_type": "stream",
     "text": [
      "Epoch [671/1000]: 100%|██████████| 935/935 [00:13<00:00, 68.02batch/s, Batch Loss=3.32]\n"
     ]
    },
    {
     "name": "stdout",
     "output_type": "stream",
     "text": [
      "Epoch [671/1000], Training Loss: 2.9542, Accuracy: 0.3941\n"
     ]
    },
    {
     "name": "stderr",
     "output_type": "stream",
     "text": [
      "Epoch [672/1000]: 100%|██████████| 935/935 [00:13<00:00, 67.38batch/s, Batch Loss=3.11]\n"
     ]
    },
    {
     "name": "stdout",
     "output_type": "stream",
     "text": [
      "Epoch [672/1000], Training Loss: 2.9512, Accuracy: 0.3945\n"
     ]
    },
    {
     "name": "stderr",
     "output_type": "stream",
     "text": [
      "Epoch [673/1000]: 100%|██████████| 935/935 [00:13<00:00, 68.62batch/s, Batch Loss=2.87]\n"
     ]
    },
    {
     "name": "stdout",
     "output_type": "stream",
     "text": [
      "Epoch [673/1000], Training Loss: 2.9530, Accuracy: 0.3941\n"
     ]
    },
    {
     "name": "stderr",
     "output_type": "stream",
     "text": [
      "Epoch [674/1000]: 100%|██████████| 935/935 [00:13<00:00, 67.54batch/s, Batch Loss=3.17]\n"
     ]
    },
    {
     "name": "stdout",
     "output_type": "stream",
     "text": [
      "Epoch [674/1000], Training Loss: 2.9478, Accuracy: 0.3945\n"
     ]
    },
    {
     "name": "stderr",
     "output_type": "stream",
     "text": [
      "Epoch [675/1000]: 100%|██████████| 935/935 [00:13<00:00, 67.86batch/s, Batch Loss=3.34]\n"
     ]
    },
    {
     "name": "stdout",
     "output_type": "stream",
     "text": [
      "Epoch [675/1000], Training Loss: 2.9502, Accuracy: 0.3936\n"
     ]
    },
    {
     "name": "stderr",
     "output_type": "stream",
     "text": [
      "Epoch [676/1000]: 100%|██████████| 935/935 [00:13<00:00, 68.15batch/s, Batch Loss=3.41]\n"
     ]
    },
    {
     "name": "stdout",
     "output_type": "stream",
     "text": [
      "Epoch [676/1000], Training Loss: 2.9520, Accuracy: 0.3935\n"
     ]
    },
    {
     "name": "stderr",
     "output_type": "stream",
     "text": [
      "Epoch [677/1000]: 100%|██████████| 935/935 [00:13<00:00, 67.24batch/s, Batch Loss=2.93]\n"
     ]
    },
    {
     "name": "stdout",
     "output_type": "stream",
     "text": [
      "Epoch [677/1000], Training Loss: 2.9454, Accuracy: 0.3943\n"
     ]
    },
    {
     "name": "stderr",
     "output_type": "stream",
     "text": [
      "Epoch [678/1000]: 100%|██████████| 935/935 [00:14<00:00, 66.41batch/s, Batch Loss=3.07]\n"
     ]
    },
    {
     "name": "stdout",
     "output_type": "stream",
     "text": [
      "Epoch [678/1000], Training Loss: 2.9452, Accuracy: 0.3947\n"
     ]
    },
    {
     "name": "stderr",
     "output_type": "stream",
     "text": [
      "Epoch [679/1000]: 100%|██████████| 935/935 [00:14<00:00, 66.71batch/s, Batch Loss=2.86]\n"
     ]
    },
    {
     "name": "stdout",
     "output_type": "stream",
     "text": [
      "Epoch [679/1000], Training Loss: 2.9445, Accuracy: 0.3942\n"
     ]
    },
    {
     "name": "stderr",
     "output_type": "stream",
     "text": [
      "Epoch [680/1000]: 100%|██████████| 935/935 [00:13<00:00, 67.90batch/s, Batch Loss=2.81]\n"
     ]
    },
    {
     "name": "stdout",
     "output_type": "stream",
     "text": [
      "Epoch [680/1000], Training Loss: 2.9476, Accuracy: 0.3946\n"
     ]
    },
    {
     "name": "stderr",
     "output_type": "stream",
     "text": [
      "Epoch [681/1000]: 100%|██████████| 935/935 [00:13<00:00, 67.12batch/s, Batch Loss=2.96]\n"
     ]
    },
    {
     "name": "stdout",
     "output_type": "stream",
     "text": [
      "Epoch [681/1000], Training Loss: 2.9370, Accuracy: 0.3966\n"
     ]
    },
    {
     "name": "stderr",
     "output_type": "stream",
     "text": [
      "Epoch [682/1000]: 100%|██████████| 935/935 [00:13<00:00, 67.38batch/s, Batch Loss=3.32]\n"
     ]
    },
    {
     "name": "stdout",
     "output_type": "stream",
     "text": [
      "Epoch [682/1000], Training Loss: 2.9374, Accuracy: 0.3954\n"
     ]
    },
    {
     "name": "stderr",
     "output_type": "stream",
     "text": [
      "Epoch [683/1000]: 100%|██████████| 935/935 [00:13<00:00, 67.13batch/s, Batch Loss=2.88]\n"
     ]
    },
    {
     "name": "stdout",
     "output_type": "stream",
     "text": [
      "Epoch [683/1000], Training Loss: 2.9393, Accuracy: 0.3958\n"
     ]
    },
    {
     "name": "stderr",
     "output_type": "stream",
     "text": [
      "Epoch [684/1000]: 100%|██████████| 935/935 [00:13<00:00, 67.91batch/s, Batch Loss=2.76]\n"
     ]
    },
    {
     "name": "stdout",
     "output_type": "stream",
     "text": [
      "Epoch [684/1000], Training Loss: 2.9399, Accuracy: 0.3951\n"
     ]
    },
    {
     "name": "stderr",
     "output_type": "stream",
     "text": [
      "Epoch [685/1000]: 100%|██████████| 935/935 [00:13<00:00, 67.68batch/s, Batch Loss=2.78]\n"
     ]
    },
    {
     "name": "stdout",
     "output_type": "stream",
     "text": [
      "Epoch [685/1000], Training Loss: 2.9416, Accuracy: 0.3951\n"
     ]
    },
    {
     "name": "stderr",
     "output_type": "stream",
     "text": [
      "Epoch [686/1000]: 100%|██████████| 935/935 [00:13<00:00, 68.50batch/s, Batch Loss=3.31]\n"
     ]
    },
    {
     "name": "stdout",
     "output_type": "stream",
     "text": [
      "Epoch [686/1000], Training Loss: 2.9364, Accuracy: 0.3955\n"
     ]
    },
    {
     "name": "stderr",
     "output_type": "stream",
     "text": [
      "Epoch [687/1000]: 100%|██████████| 935/935 [00:13<00:00, 67.38batch/s, Batch Loss=3.14]\n"
     ]
    },
    {
     "name": "stdout",
     "output_type": "stream",
     "text": [
      "Epoch [687/1000], Training Loss: 2.9337, Accuracy: 0.3974\n"
     ]
    },
    {
     "name": "stderr",
     "output_type": "stream",
     "text": [
      "Epoch [688/1000]: 100%|██████████| 935/935 [00:13<00:00, 67.96batch/s, Batch Loss=3.05]\n"
     ]
    },
    {
     "name": "stdout",
     "output_type": "stream",
     "text": [
      "Epoch [688/1000], Training Loss: 2.9345, Accuracy: 0.3953\n"
     ]
    },
    {
     "name": "stderr",
     "output_type": "stream",
     "text": [
      "Epoch [689/1000]: 100%|██████████| 935/935 [00:13<00:00, 66.86batch/s, Batch Loss=3.13]\n"
     ]
    },
    {
     "name": "stdout",
     "output_type": "stream",
     "text": [
      "Epoch [689/1000], Training Loss: 2.9288, Accuracy: 0.3965\n"
     ]
    },
    {
     "name": "stderr",
     "output_type": "stream",
     "text": [
      "Epoch [690/1000]: 100%|██████████| 935/935 [00:13<00:00, 67.65batch/s, Batch Loss=3.16]\n"
     ]
    },
    {
     "name": "stdout",
     "output_type": "stream",
     "text": [
      "Epoch [690/1000], Training Loss: 2.9367, Accuracy: 0.3957\n"
     ]
    },
    {
     "name": "stderr",
     "output_type": "stream",
     "text": [
      "Epoch [691/1000]: 100%|██████████| 935/935 [00:13<00:00, 67.87batch/s, Batch Loss=2.77]\n"
     ]
    },
    {
     "name": "stdout",
     "output_type": "stream",
     "text": [
      "Epoch [691/1000], Training Loss: 2.9359, Accuracy: 0.3945\n"
     ]
    },
    {
     "name": "stderr",
     "output_type": "stream",
     "text": [
      "Epoch [692/1000]: 100%|██████████| 935/935 [00:13<00:00, 67.26batch/s, Batch Loss=2.98]\n"
     ]
    },
    {
     "name": "stdout",
     "output_type": "stream",
     "text": [
      "Epoch [692/1000], Training Loss: 2.9324, Accuracy: 0.3969\n"
     ]
    },
    {
     "name": "stderr",
     "output_type": "stream",
     "text": [
      "Epoch [693/1000]: 100%|██████████| 935/935 [00:13<00:00, 68.04batch/s, Batch Loss=3.13]\n"
     ]
    },
    {
     "name": "stdout",
     "output_type": "stream",
     "text": [
      "Epoch [693/1000], Training Loss: 2.9337, Accuracy: 0.3954\n"
     ]
    },
    {
     "name": "stderr",
     "output_type": "stream",
     "text": [
      "Epoch [694/1000]: 100%|██████████| 935/935 [00:13<00:00, 67.52batch/s, Batch Loss=3.49]\n"
     ]
    },
    {
     "name": "stdout",
     "output_type": "stream",
     "text": [
      "Epoch [694/1000], Training Loss: 2.9335, Accuracy: 0.3954\n"
     ]
    },
    {
     "name": "stderr",
     "output_type": "stream",
     "text": [
      "Epoch [695/1000]: 100%|██████████| 935/935 [00:13<00:00, 66.90batch/s, Batch Loss=2.81]\n"
     ]
    },
    {
     "name": "stdout",
     "output_type": "stream",
     "text": [
      "Epoch [695/1000], Training Loss: 2.9281, Accuracy: 0.3958\n"
     ]
    },
    {
     "name": "stderr",
     "output_type": "stream",
     "text": [
      "Epoch [696/1000]: 100%|██████████| 935/935 [00:13<00:00, 67.46batch/s, Batch Loss=2.76]\n"
     ]
    },
    {
     "name": "stdout",
     "output_type": "stream",
     "text": [
      "Epoch [696/1000], Training Loss: 2.9242, Accuracy: 0.3975\n"
     ]
    },
    {
     "name": "stderr",
     "output_type": "stream",
     "text": [
      "Epoch [697/1000]: 100%|██████████| 935/935 [00:13<00:00, 67.56batch/s, Batch Loss=3.04]\n"
     ]
    },
    {
     "name": "stdout",
     "output_type": "stream",
     "text": [
      "Epoch [697/1000], Training Loss: 2.9306, Accuracy: 0.3965\n"
     ]
    },
    {
     "name": "stderr",
     "output_type": "stream",
     "text": [
      "Epoch [698/1000]: 100%|██████████| 935/935 [00:13<00:00, 68.03batch/s, Batch Loss=2.99]\n"
     ]
    },
    {
     "name": "stdout",
     "output_type": "stream",
     "text": [
      "Epoch [698/1000], Training Loss: 2.9240, Accuracy: 0.3965\n"
     ]
    },
    {
     "name": "stderr",
     "output_type": "stream",
     "text": [
      "Epoch [699/1000]: 100%|██████████| 935/935 [00:13<00:00, 67.83batch/s, Batch Loss=2.88]\n"
     ]
    },
    {
     "name": "stdout",
     "output_type": "stream",
     "text": [
      "Epoch [699/1000], Training Loss: 2.9252, Accuracy: 0.3963\n"
     ]
    },
    {
     "name": "stderr",
     "output_type": "stream",
     "text": [
      "Epoch [700/1000]: 100%|██████████| 935/935 [00:13<00:00, 67.08batch/s, Batch Loss=3.37]\n"
     ]
    },
    {
     "name": "stdout",
     "output_type": "stream",
     "text": [
      "Epoch [700/1000], Training Loss: 2.9152, Accuracy: 0.3974\n",
      "\n",
      "Evaluating on validation set...\n"
     ]
    },
    {
     "name": "stderr",
     "output_type": "stream",
     "text": [
      "Evaluating HR & NDCG for multiple k: 100%|██████████| 201/201 [00:05<00:00, 38.77it/s]\n"
     ]
    },
    {
     "name": "stdout",
     "output_type": "stream",
     "text": [
      "Validation HR@5: 0.3749, NDCG@5: 0.3078\n",
      "Validation HR@10: 0.4198, NDCG@10: 0.3224\n",
      "Validation HR@20: 0.4610, NDCG@20: 0.3329\n",
      "Model saved at 'uet4rec64_rr_model_epoch_700.pth'\n"
     ]
    },
    {
     "name": "stderr",
     "output_type": "stream",
     "text": [
      "Epoch [701/1000]: 100%|██████████| 935/935 [00:13<00:00, 66.96batch/s, Batch Loss=3.16]\n"
     ]
    },
    {
     "name": "stdout",
     "output_type": "stream",
     "text": [
      "Epoch [701/1000], Training Loss: 2.9233, Accuracy: 0.3978\n"
     ]
    },
    {
     "name": "stderr",
     "output_type": "stream",
     "text": [
      "Epoch [702/1000]: 100%|██████████| 935/935 [00:13<00:00, 68.42batch/s, Batch Loss=3.24]\n"
     ]
    },
    {
     "name": "stdout",
     "output_type": "stream",
     "text": [
      "Epoch [702/1000], Training Loss: 2.9188, Accuracy: 0.3983\n"
     ]
    },
    {
     "name": "stderr",
     "output_type": "stream",
     "text": [
      "Epoch [703/1000]: 100%|██████████| 935/935 [00:13<00:00, 67.63batch/s, Batch Loss=2.88]\n"
     ]
    },
    {
     "name": "stdout",
     "output_type": "stream",
     "text": [
      "Epoch [703/1000], Training Loss: 2.9207, Accuracy: 0.3980\n"
     ]
    },
    {
     "name": "stderr",
     "output_type": "stream",
     "text": [
      "Epoch [704/1000]: 100%|██████████| 935/935 [00:13<00:00, 67.51batch/s, Batch Loss=3.25]\n"
     ]
    },
    {
     "name": "stdout",
     "output_type": "stream",
     "text": [
      "Epoch [704/1000], Training Loss: 2.9182, Accuracy: 0.3971\n"
     ]
    },
    {
     "name": "stderr",
     "output_type": "stream",
     "text": [
      "Epoch [705/1000]: 100%|██████████| 935/935 [00:13<00:00, 67.31batch/s, Batch Loss=3.07]\n"
     ]
    },
    {
     "name": "stdout",
     "output_type": "stream",
     "text": [
      "Epoch [705/1000], Training Loss: 2.9205, Accuracy: 0.3976\n"
     ]
    },
    {
     "name": "stderr",
     "output_type": "stream",
     "text": [
      "Epoch [706/1000]: 100%|██████████| 935/935 [00:13<00:00, 68.14batch/s, Batch Loss=3.19]\n"
     ]
    },
    {
     "name": "stdout",
     "output_type": "stream",
     "text": [
      "Epoch [706/1000], Training Loss: 2.9159, Accuracy: 0.3978\n"
     ]
    },
    {
     "name": "stderr",
     "output_type": "stream",
     "text": [
      "Epoch [707/1000]: 100%|██████████| 935/935 [00:13<00:00, 67.59batch/s, Batch Loss=3.31]\n"
     ]
    },
    {
     "name": "stdout",
     "output_type": "stream",
     "text": [
      "Epoch [707/1000], Training Loss: 2.9177, Accuracy: 0.3986\n"
     ]
    },
    {
     "name": "stderr",
     "output_type": "stream",
     "text": [
      "Epoch [708/1000]: 100%|██████████| 935/935 [00:13<00:00, 67.69batch/s, Batch Loss=2.93]\n"
     ]
    },
    {
     "name": "stdout",
     "output_type": "stream",
     "text": [
      "Epoch [708/1000], Training Loss: 2.9155, Accuracy: 0.3983\n"
     ]
    },
    {
     "name": "stderr",
     "output_type": "stream",
     "text": [
      "Epoch [709/1000]: 100%|██████████| 935/935 [00:13<00:00, 67.16batch/s, Batch Loss=2.76]\n"
     ]
    },
    {
     "name": "stdout",
     "output_type": "stream",
     "text": [
      "Epoch [709/1000], Training Loss: 2.9156, Accuracy: 0.3988\n"
     ]
    },
    {
     "name": "stderr",
     "output_type": "stream",
     "text": [
      "Epoch [710/1000]: 100%|██████████| 935/935 [00:13<00:00, 67.55batch/s, Batch Loss=3.14]\n"
     ]
    },
    {
     "name": "stdout",
     "output_type": "stream",
     "text": [
      "Epoch [710/1000], Training Loss: 2.9113, Accuracy: 0.3997\n"
     ]
    },
    {
     "name": "stderr",
     "output_type": "stream",
     "text": [
      "Epoch [711/1000]: 100%|██████████| 935/935 [00:13<00:00, 66.90batch/s, Batch Loss=3.08]\n"
     ]
    },
    {
     "name": "stdout",
     "output_type": "stream",
     "text": [
      "Epoch [711/1000], Training Loss: 2.9112, Accuracy: 0.3983\n"
     ]
    },
    {
     "name": "stderr",
     "output_type": "stream",
     "text": [
      "Epoch [712/1000]: 100%|██████████| 935/935 [00:13<00:00, 66.80batch/s, Batch Loss=3.09]\n"
     ]
    },
    {
     "name": "stdout",
     "output_type": "stream",
     "text": [
      "Epoch [712/1000], Training Loss: 2.9133, Accuracy: 0.3989\n"
     ]
    },
    {
     "name": "stderr",
     "output_type": "stream",
     "text": [
      "Epoch [713/1000]: 100%|██████████| 935/935 [00:13<00:00, 67.09batch/s, Batch Loss=3.29]\n"
     ]
    },
    {
     "name": "stdout",
     "output_type": "stream",
     "text": [
      "Epoch [713/1000], Training Loss: 2.9118, Accuracy: 0.3989\n"
     ]
    },
    {
     "name": "stderr",
     "output_type": "stream",
     "text": [
      "Epoch [714/1000]: 100%|██████████| 935/935 [00:13<00:00, 66.93batch/s, Batch Loss=3.03]\n"
     ]
    },
    {
     "name": "stdout",
     "output_type": "stream",
     "text": [
      "Epoch [714/1000], Training Loss: 2.9101, Accuracy: 0.3985\n"
     ]
    },
    {
     "name": "stderr",
     "output_type": "stream",
     "text": [
      "Epoch [715/1000]: 100%|██████████| 935/935 [00:14<00:00, 66.35batch/s, Batch Loss=3.29]\n"
     ]
    },
    {
     "name": "stdout",
     "output_type": "stream",
     "text": [
      "Epoch [715/1000], Training Loss: 2.9059, Accuracy: 0.4005\n"
     ]
    },
    {
     "name": "stderr",
     "output_type": "stream",
     "text": [
      "Epoch [716/1000]: 100%|██████████| 935/935 [00:14<00:00, 66.37batch/s, Batch Loss=3.16]\n"
     ]
    },
    {
     "name": "stdout",
     "output_type": "stream",
     "text": [
      "Epoch [716/1000], Training Loss: 2.9040, Accuracy: 0.4000\n"
     ]
    },
    {
     "name": "stderr",
     "output_type": "stream",
     "text": [
      "Epoch [717/1000]: 100%|██████████| 935/935 [00:14<00:00, 66.55batch/s, Batch Loss=2.96]\n"
     ]
    },
    {
     "name": "stdout",
     "output_type": "stream",
     "text": [
      "Epoch [717/1000], Training Loss: 2.9079, Accuracy: 0.3994\n"
     ]
    },
    {
     "name": "stderr",
     "output_type": "stream",
     "text": [
      "Epoch [718/1000]: 100%|██████████| 935/935 [00:14<00:00, 65.98batch/s, Batch Loss=3.24]\n"
     ]
    },
    {
     "name": "stdout",
     "output_type": "stream",
     "text": [
      "Epoch [718/1000], Training Loss: 2.9077, Accuracy: 0.4002\n"
     ]
    },
    {
     "name": "stderr",
     "output_type": "stream",
     "text": [
      "Epoch [719/1000]: 100%|██████████| 935/935 [00:14<00:00, 66.06batch/s, Batch Loss=2.99]\n"
     ]
    },
    {
     "name": "stdout",
     "output_type": "stream",
     "text": [
      "Epoch [719/1000], Training Loss: 2.9010, Accuracy: 0.4005\n"
     ]
    },
    {
     "name": "stderr",
     "output_type": "stream",
     "text": [
      "Epoch [720/1000]: 100%|██████████| 935/935 [00:14<00:00, 66.50batch/s, Batch Loss=2.97]\n"
     ]
    },
    {
     "name": "stdout",
     "output_type": "stream",
     "text": [
      "Epoch [720/1000], Training Loss: 2.9023, Accuracy: 0.4001\n"
     ]
    },
    {
     "name": "stderr",
     "output_type": "stream",
     "text": [
      "Epoch [721/1000]: 100%|██████████| 935/935 [00:14<00:00, 66.65batch/s, Batch Loss=3]   \n"
     ]
    },
    {
     "name": "stdout",
     "output_type": "stream",
     "text": [
      "Epoch [721/1000], Training Loss: 2.8988, Accuracy: 0.4010\n"
     ]
    },
    {
     "name": "stderr",
     "output_type": "stream",
     "text": [
      "Epoch [722/1000]: 100%|██████████| 935/935 [00:14<00:00, 66.03batch/s, Batch Loss=3.02]\n"
     ]
    },
    {
     "name": "stdout",
     "output_type": "stream",
     "text": [
      "Epoch [722/1000], Training Loss: 2.9002, Accuracy: 0.4001\n"
     ]
    },
    {
     "name": "stderr",
     "output_type": "stream",
     "text": [
      "Epoch [723/1000]: 100%|██████████| 935/935 [00:14<00:00, 65.81batch/s, Batch Loss=3.02]\n"
     ]
    },
    {
     "name": "stdout",
     "output_type": "stream",
     "text": [
      "Epoch [723/1000], Training Loss: 2.8974, Accuracy: 0.4015\n"
     ]
    },
    {
     "name": "stderr",
     "output_type": "stream",
     "text": [
      "Epoch [724/1000]: 100%|██████████| 935/935 [00:14<00:00, 66.71batch/s, Batch Loss=2.9] \n"
     ]
    },
    {
     "name": "stdout",
     "output_type": "stream",
     "text": [
      "Epoch [724/1000], Training Loss: 2.9020, Accuracy: 0.3997\n"
     ]
    },
    {
     "name": "stderr",
     "output_type": "stream",
     "text": [
      "Epoch [725/1000]: 100%|██████████| 935/935 [00:13<00:00, 67.31batch/s, Batch Loss=3.17]\n"
     ]
    },
    {
     "name": "stdout",
     "output_type": "stream",
     "text": [
      "Epoch [725/1000], Training Loss: 2.8933, Accuracy: 0.4012\n"
     ]
    },
    {
     "name": "stderr",
     "output_type": "stream",
     "text": [
      "Epoch [726/1000]: 100%|██████████| 935/935 [00:13<00:00, 67.12batch/s, Batch Loss=3]   \n"
     ]
    },
    {
     "name": "stdout",
     "output_type": "stream",
     "text": [
      "Epoch [726/1000], Training Loss: 2.8982, Accuracy: 0.4002\n"
     ]
    },
    {
     "name": "stderr",
     "output_type": "stream",
     "text": [
      "Epoch [727/1000]: 100%|██████████| 935/935 [00:13<00:00, 68.15batch/s, Batch Loss=3.25]\n"
     ]
    },
    {
     "name": "stdout",
     "output_type": "stream",
     "text": [
      "Epoch [727/1000], Training Loss: 2.8960, Accuracy: 0.4007\n"
     ]
    },
    {
     "name": "stderr",
     "output_type": "stream",
     "text": [
      "Epoch [728/1000]: 100%|██████████| 935/935 [00:13<00:00, 67.48batch/s, Batch Loss=3.05]\n"
     ]
    },
    {
     "name": "stdout",
     "output_type": "stream",
     "text": [
      "Epoch [728/1000], Training Loss: 2.8926, Accuracy: 0.4018\n"
     ]
    },
    {
     "name": "stderr",
     "output_type": "stream",
     "text": [
      "Epoch [729/1000]: 100%|██████████| 935/935 [00:13<00:00, 67.42batch/s, Batch Loss=3.03]\n"
     ]
    },
    {
     "name": "stdout",
     "output_type": "stream",
     "text": [
      "Epoch [729/1000], Training Loss: 2.8905, Accuracy: 0.4008\n"
     ]
    },
    {
     "name": "stderr",
     "output_type": "stream",
     "text": [
      "Epoch [730/1000]: 100%|██████████| 935/935 [00:13<00:00, 67.15batch/s, Batch Loss=2.93]\n"
     ]
    },
    {
     "name": "stdout",
     "output_type": "stream",
     "text": [
      "Epoch [730/1000], Training Loss: 2.8900, Accuracy: 0.4009\n"
     ]
    },
    {
     "name": "stderr",
     "output_type": "stream",
     "text": [
      "Epoch [731/1000]: 100%|██████████| 935/935 [00:13<00:00, 67.95batch/s, Batch Loss=2.87]\n"
     ]
    },
    {
     "name": "stdout",
     "output_type": "stream",
     "text": [
      "Epoch [731/1000], Training Loss: 2.8942, Accuracy: 0.4021\n"
     ]
    },
    {
     "name": "stderr",
     "output_type": "stream",
     "text": [
      "Epoch [732/1000]: 100%|██████████| 935/935 [00:13<00:00, 67.70batch/s, Batch Loss=2.75]\n"
     ]
    },
    {
     "name": "stdout",
     "output_type": "stream",
     "text": [
      "Epoch [732/1000], Training Loss: 2.8919, Accuracy: 0.4013\n"
     ]
    },
    {
     "name": "stderr",
     "output_type": "stream",
     "text": [
      "Epoch [733/1000]: 100%|██████████| 935/935 [00:13<00:00, 67.26batch/s, Batch Loss=2.86]\n"
     ]
    },
    {
     "name": "stdout",
     "output_type": "stream",
     "text": [
      "Epoch [733/1000], Training Loss: 2.8819, Accuracy: 0.4027\n"
     ]
    },
    {
     "name": "stderr",
     "output_type": "stream",
     "text": [
      "Epoch [734/1000]: 100%|██████████| 935/935 [00:13<00:00, 67.34batch/s, Batch Loss=2.73]\n"
     ]
    },
    {
     "name": "stdout",
     "output_type": "stream",
     "text": [
      "Epoch [734/1000], Training Loss: 2.8889, Accuracy: 0.4021\n"
     ]
    },
    {
     "name": "stderr",
     "output_type": "stream",
     "text": [
      "Epoch [735/1000]: 100%|██████████| 935/935 [00:13<00:00, 67.34batch/s, Batch Loss=3.27]\n"
     ]
    },
    {
     "name": "stdout",
     "output_type": "stream",
     "text": [
      "Epoch [735/1000], Training Loss: 2.8862, Accuracy: 0.4025\n"
     ]
    },
    {
     "name": "stderr",
     "output_type": "stream",
     "text": [
      "Epoch [736/1000]: 100%|██████████| 935/935 [00:13<00:00, 67.21batch/s, Batch Loss=3.03]\n"
     ]
    },
    {
     "name": "stdout",
     "output_type": "stream",
     "text": [
      "Epoch [736/1000], Training Loss: 2.8871, Accuracy: 0.4022\n"
     ]
    },
    {
     "name": "stderr",
     "output_type": "stream",
     "text": [
      "Epoch [737/1000]: 100%|██████████| 935/935 [00:13<00:00, 67.57batch/s, Batch Loss=3.42]\n"
     ]
    },
    {
     "name": "stdout",
     "output_type": "stream",
     "text": [
      "Epoch [737/1000], Training Loss: 2.8834, Accuracy: 0.4019\n"
     ]
    },
    {
     "name": "stderr",
     "output_type": "stream",
     "text": [
      "Epoch [738/1000]: 100%|██████████| 935/935 [00:13<00:00, 67.46batch/s, Batch Loss=2.74]\n"
     ]
    },
    {
     "name": "stdout",
     "output_type": "stream",
     "text": [
      "Epoch [738/1000], Training Loss: 2.8777, Accuracy: 0.4037\n"
     ]
    },
    {
     "name": "stderr",
     "output_type": "stream",
     "text": [
      "Epoch [739/1000]: 100%|██████████| 935/935 [00:14<00:00, 66.48batch/s, Batch Loss=3.24]\n"
     ]
    },
    {
     "name": "stdout",
     "output_type": "stream",
     "text": [
      "Epoch [739/1000], Training Loss: 2.8836, Accuracy: 0.4034\n"
     ]
    },
    {
     "name": "stderr",
     "output_type": "stream",
     "text": [
      "Epoch [740/1000]: 100%|██████████| 935/935 [00:14<00:00, 65.91batch/s, Batch Loss=3.05]\n"
     ]
    },
    {
     "name": "stdout",
     "output_type": "stream",
     "text": [
      "Epoch [740/1000], Training Loss: 2.8786, Accuracy: 0.4038\n"
     ]
    },
    {
     "name": "stderr",
     "output_type": "stream",
     "text": [
      "Epoch [741/1000]: 100%|██████████| 935/935 [00:13<00:00, 67.34batch/s, Batch Loss=3.43]\n"
     ]
    },
    {
     "name": "stdout",
     "output_type": "stream",
     "text": [
      "Epoch [741/1000], Training Loss: 2.8828, Accuracy: 0.4023\n"
     ]
    },
    {
     "name": "stderr",
     "output_type": "stream",
     "text": [
      "Epoch [742/1000]: 100%|██████████| 935/935 [00:13<00:00, 66.82batch/s, Batch Loss=2.85]\n"
     ]
    },
    {
     "name": "stdout",
     "output_type": "stream",
     "text": [
      "Epoch [742/1000], Training Loss: 2.8820, Accuracy: 0.4027\n"
     ]
    },
    {
     "name": "stderr",
     "output_type": "stream",
     "text": [
      "Epoch [743/1000]: 100%|██████████| 935/935 [00:14<00:00, 66.08batch/s, Batch Loss=2.9] \n"
     ]
    },
    {
     "name": "stdout",
     "output_type": "stream",
     "text": [
      "Epoch [743/1000], Training Loss: 2.8807, Accuracy: 0.4032\n"
     ]
    },
    {
     "name": "stderr",
     "output_type": "stream",
     "text": [
      "Epoch [744/1000]: 100%|██████████| 935/935 [00:14<00:00, 66.78batch/s, Batch Loss=2.84]\n"
     ]
    },
    {
     "name": "stdout",
     "output_type": "stream",
     "text": [
      "Epoch [744/1000], Training Loss: 2.8735, Accuracy: 0.4047\n"
     ]
    },
    {
     "name": "stderr",
     "output_type": "stream",
     "text": [
      "Epoch [745/1000]: 100%|██████████| 935/935 [00:13<00:00, 67.15batch/s, Batch Loss=3.06]\n"
     ]
    },
    {
     "name": "stdout",
     "output_type": "stream",
     "text": [
      "Epoch [745/1000], Training Loss: 2.8708, Accuracy: 0.4044\n"
     ]
    },
    {
     "name": "stderr",
     "output_type": "stream",
     "text": [
      "Epoch [746/1000]: 100%|██████████| 935/935 [00:14<00:00, 66.53batch/s, Batch Loss=3.03]\n"
     ]
    },
    {
     "name": "stdout",
     "output_type": "stream",
     "text": [
      "Epoch [746/1000], Training Loss: 2.8769, Accuracy: 0.4033\n"
     ]
    },
    {
     "name": "stderr",
     "output_type": "stream",
     "text": [
      "Epoch [747/1000]: 100%|██████████| 935/935 [00:14<00:00, 65.43batch/s, Batch Loss=3.03]\n"
     ]
    },
    {
     "name": "stdout",
     "output_type": "stream",
     "text": [
      "Epoch [747/1000], Training Loss: 2.8744, Accuracy: 0.4036\n"
     ]
    },
    {
     "name": "stderr",
     "output_type": "stream",
     "text": [
      "Epoch [748/1000]: 100%|██████████| 935/935 [00:14<00:00, 66.44batch/s, Batch Loss=3.3] \n"
     ]
    },
    {
     "name": "stdout",
     "output_type": "stream",
     "text": [
      "Epoch [748/1000], Training Loss: 2.8747, Accuracy: 0.4039\n"
     ]
    },
    {
     "name": "stderr",
     "output_type": "stream",
     "text": [
      "Epoch [749/1000]: 100%|██████████| 935/935 [00:13<00:00, 67.26batch/s, Batch Loss=3.07]\n"
     ]
    },
    {
     "name": "stdout",
     "output_type": "stream",
     "text": [
      "Epoch [749/1000], Training Loss: 2.8738, Accuracy: 0.4039\n"
     ]
    },
    {
     "name": "stderr",
     "output_type": "stream",
     "text": [
      "Epoch [750/1000]: 100%|██████████| 935/935 [00:14<00:00, 66.34batch/s, Batch Loss=2.96]\n"
     ]
    },
    {
     "name": "stdout",
     "output_type": "stream",
     "text": [
      "Epoch [750/1000], Training Loss: 2.8737, Accuracy: 0.4020\n",
      "\n",
      "Evaluating on validation set...\n"
     ]
    },
    {
     "name": "stderr",
     "output_type": "stream",
     "text": [
      "Evaluating HR & NDCG for multiple k: 100%|██████████| 201/201 [00:05<00:00, 38.73it/s]\n"
     ]
    },
    {
     "name": "stdout",
     "output_type": "stream",
     "text": [
      "Validation HR@5: 0.3731, NDCG@5: 0.3069\n",
      "Validation HR@10: 0.4187, NDCG@10: 0.3218\n",
      "Validation HR@20: 0.4607, NDCG@20: 0.3324\n",
      "Model saved at 'uet4rec64_rr_model_epoch_750.pth'\n"
     ]
    },
    {
     "name": "stderr",
     "output_type": "stream",
     "text": [
      "Epoch [751/1000]: 100%|██████████| 935/935 [00:14<00:00, 66.06batch/s, Batch Loss=3.06]\n"
     ]
    },
    {
     "name": "stdout",
     "output_type": "stream",
     "text": [
      "Epoch [751/1000], Training Loss: 2.8757, Accuracy: 0.4032\n"
     ]
    },
    {
     "name": "stderr",
     "output_type": "stream",
     "text": [
      "Epoch [752/1000]: 100%|██████████| 935/935 [00:14<00:00, 66.25batch/s, Batch Loss=2.62]\n"
     ]
    },
    {
     "name": "stdout",
     "output_type": "stream",
     "text": [
      "Epoch [752/1000], Training Loss: 2.8714, Accuracy: 0.4031\n"
     ]
    },
    {
     "name": "stderr",
     "output_type": "stream",
     "text": [
      "Epoch [753/1000]: 100%|██████████| 935/935 [00:13<00:00, 67.35batch/s, Batch Loss=2.86]\n"
     ]
    },
    {
     "name": "stdout",
     "output_type": "stream",
     "text": [
      "Epoch [753/1000], Training Loss: 2.8714, Accuracy: 0.4036\n"
     ]
    },
    {
     "name": "stderr",
     "output_type": "stream",
     "text": [
      "Epoch [754/1000]: 100%|██████████| 935/935 [00:14<00:00, 66.72batch/s, Batch Loss=2.97]\n"
     ]
    },
    {
     "name": "stdout",
     "output_type": "stream",
     "text": [
      "Epoch [754/1000], Training Loss: 2.8716, Accuracy: 0.4042\n"
     ]
    },
    {
     "name": "stderr",
     "output_type": "stream",
     "text": [
      "Epoch [755/1000]: 100%|██████████| 935/935 [00:14<00:00, 66.07batch/s, Batch Loss=2.93]\n"
     ]
    },
    {
     "name": "stdout",
     "output_type": "stream",
     "text": [
      "Epoch [755/1000], Training Loss: 2.8631, Accuracy: 0.4055\n"
     ]
    },
    {
     "name": "stderr",
     "output_type": "stream",
     "text": [
      "Epoch [756/1000]: 100%|██████████| 935/935 [00:14<00:00, 66.24batch/s, Batch Loss=2.82]\n"
     ]
    },
    {
     "name": "stdout",
     "output_type": "stream",
     "text": [
      "Epoch [756/1000], Training Loss: 2.8614, Accuracy: 0.4060\n"
     ]
    },
    {
     "name": "stderr",
     "output_type": "stream",
     "text": [
      "Epoch [757/1000]: 100%|██████████| 935/935 [00:14<00:00, 66.68batch/s, Batch Loss=2.67]\n"
     ]
    },
    {
     "name": "stdout",
     "output_type": "stream",
     "text": [
      "Epoch [757/1000], Training Loss: 2.8620, Accuracy: 0.4053\n"
     ]
    },
    {
     "name": "stderr",
     "output_type": "stream",
     "text": [
      "Epoch [758/1000]: 100%|██████████| 935/935 [00:14<00:00, 66.24batch/s, Batch Loss=3]   \n"
     ]
    },
    {
     "name": "stdout",
     "output_type": "stream",
     "text": [
      "Epoch [758/1000], Training Loss: 2.8606, Accuracy: 0.4046\n"
     ]
    },
    {
     "name": "stderr",
     "output_type": "stream",
     "text": [
      "Epoch [759/1000]: 100%|██████████| 935/935 [00:14<00:00, 66.39batch/s, Batch Loss=3.15]\n"
     ]
    },
    {
     "name": "stdout",
     "output_type": "stream",
     "text": [
      "Epoch [759/1000], Training Loss: 2.8688, Accuracy: 0.4037\n"
     ]
    },
    {
     "name": "stderr",
     "output_type": "stream",
     "text": [
      "Epoch [760/1000]: 100%|██████████| 935/935 [00:13<00:00, 67.24batch/s, Batch Loss=3.18]\n"
     ]
    },
    {
     "name": "stdout",
     "output_type": "stream",
     "text": [
      "Epoch [760/1000], Training Loss: 2.8550, Accuracy: 0.4066\n"
     ]
    },
    {
     "name": "stderr",
     "output_type": "stream",
     "text": [
      "Epoch [761/1000]: 100%|██████████| 935/935 [00:14<00:00, 65.91batch/s, Batch Loss=2.63]\n"
     ]
    },
    {
     "name": "stdout",
     "output_type": "stream",
     "text": [
      "Epoch [761/1000], Training Loss: 2.8605, Accuracy: 0.4047\n"
     ]
    },
    {
     "name": "stderr",
     "output_type": "stream",
     "text": [
      "Epoch [762/1000]: 100%|██████████| 935/935 [00:14<00:00, 65.50batch/s, Batch Loss=2.86]\n"
     ]
    },
    {
     "name": "stdout",
     "output_type": "stream",
     "text": [
      "Epoch [762/1000], Training Loss: 2.8599, Accuracy: 0.4063\n"
     ]
    },
    {
     "name": "stderr",
     "output_type": "stream",
     "text": [
      "Epoch [763/1000]: 100%|██████████| 935/935 [00:14<00:00, 65.73batch/s, Batch Loss=2.8] \n"
     ]
    },
    {
     "name": "stdout",
     "output_type": "stream",
     "text": [
      "Epoch [763/1000], Training Loss: 2.8555, Accuracy: 0.4053\n"
     ]
    },
    {
     "name": "stderr",
     "output_type": "stream",
     "text": [
      "Epoch [764/1000]: 100%|██████████| 935/935 [00:14<00:00, 66.02batch/s, Batch Loss=3.03]\n"
     ]
    },
    {
     "name": "stdout",
     "output_type": "stream",
     "text": [
      "Epoch [764/1000], Training Loss: 2.8498, Accuracy: 0.4070\n"
     ]
    },
    {
     "name": "stderr",
     "output_type": "stream",
     "text": [
      "Epoch [765/1000]: 100%|██████████| 935/935 [00:14<00:00, 66.59batch/s, Batch Loss=2.94]\n"
     ]
    },
    {
     "name": "stdout",
     "output_type": "stream",
     "text": [
      "Epoch [765/1000], Training Loss: 2.8569, Accuracy: 0.4065\n"
     ]
    },
    {
     "name": "stderr",
     "output_type": "stream",
     "text": [
      "Epoch [766/1000]: 100%|██████████| 935/935 [00:14<00:00, 66.69batch/s, Batch Loss=3.06]\n"
     ]
    },
    {
     "name": "stdout",
     "output_type": "stream",
     "text": [
      "Epoch [766/1000], Training Loss: 2.8535, Accuracy: 0.4062\n"
     ]
    },
    {
     "name": "stderr",
     "output_type": "stream",
     "text": [
      "Epoch [767/1000]: 100%|██████████| 935/935 [00:13<00:00, 68.37batch/s, Batch Loss=2.97]\n"
     ]
    },
    {
     "name": "stdout",
     "output_type": "stream",
     "text": [
      "Epoch [767/1000], Training Loss: 2.8499, Accuracy: 0.4065\n"
     ]
    },
    {
     "name": "stderr",
     "output_type": "stream",
     "text": [
      "Epoch [768/1000]: 100%|██████████| 935/935 [00:14<00:00, 66.58batch/s, Batch Loss=2.9] \n"
     ]
    },
    {
     "name": "stdout",
     "output_type": "stream",
     "text": [
      "Epoch [768/1000], Training Loss: 2.8560, Accuracy: 0.4065\n"
     ]
    },
    {
     "name": "stderr",
     "output_type": "stream",
     "text": [
      "Epoch [769/1000]: 100%|██████████| 935/935 [00:13<00:00, 67.23batch/s, Batch Loss=2.94]\n"
     ]
    },
    {
     "name": "stdout",
     "output_type": "stream",
     "text": [
      "Epoch [769/1000], Training Loss: 2.8548, Accuracy: 0.4065\n"
     ]
    },
    {
     "name": "stderr",
     "output_type": "stream",
     "text": [
      "Epoch [770/1000]: 100%|██████████| 935/935 [00:13<00:00, 67.34batch/s, Batch Loss=2.98]\n"
     ]
    },
    {
     "name": "stdout",
     "output_type": "stream",
     "text": [
      "Epoch [770/1000], Training Loss: 2.8449, Accuracy: 0.4083\n"
     ]
    },
    {
     "name": "stderr",
     "output_type": "stream",
     "text": [
      "Epoch [771/1000]: 100%|██████████| 935/935 [00:13<00:00, 67.73batch/s, Batch Loss=3.31]\n"
     ]
    },
    {
     "name": "stdout",
     "output_type": "stream",
     "text": [
      "Epoch [771/1000], Training Loss: 2.8523, Accuracy: 0.4067\n"
     ]
    },
    {
     "name": "stderr",
     "output_type": "stream",
     "text": [
      "Epoch [772/1000]: 100%|██████████| 935/935 [00:13<00:00, 67.02batch/s, Batch Loss=2.86]\n"
     ]
    },
    {
     "name": "stdout",
     "output_type": "stream",
     "text": [
      "Epoch [772/1000], Training Loss: 2.8486, Accuracy: 0.4083\n"
     ]
    },
    {
     "name": "stderr",
     "output_type": "stream",
     "text": [
      "Epoch [773/1000]: 100%|██████████| 935/935 [00:13<00:00, 67.37batch/s, Batch Loss=2.99]\n"
     ]
    },
    {
     "name": "stdout",
     "output_type": "stream",
     "text": [
      "Epoch [773/1000], Training Loss: 2.8525, Accuracy: 0.4073\n"
     ]
    },
    {
     "name": "stderr",
     "output_type": "stream",
     "text": [
      "Epoch [774/1000]: 100%|██████████| 935/935 [00:14<00:00, 66.30batch/s, Batch Loss=2.97]\n"
     ]
    },
    {
     "name": "stdout",
     "output_type": "stream",
     "text": [
      "Epoch [774/1000], Training Loss: 2.8443, Accuracy: 0.4085\n"
     ]
    },
    {
     "name": "stderr",
     "output_type": "stream",
     "text": [
      "Epoch [775/1000]: 100%|██████████| 935/935 [00:13<00:00, 66.82batch/s, Batch Loss=3.01]\n"
     ]
    },
    {
     "name": "stdout",
     "output_type": "stream",
     "text": [
      "Epoch [775/1000], Training Loss: 2.8422, Accuracy: 0.4073\n"
     ]
    },
    {
     "name": "stderr",
     "output_type": "stream",
     "text": [
      "Epoch [776/1000]: 100%|██████████| 935/935 [00:13<00:00, 66.89batch/s, Batch Loss=3.09]\n"
     ]
    },
    {
     "name": "stdout",
     "output_type": "stream",
     "text": [
      "Epoch [776/1000], Training Loss: 2.8475, Accuracy: 0.4074\n"
     ]
    },
    {
     "name": "stderr",
     "output_type": "stream",
     "text": [
      "Epoch [777/1000]: 100%|██████████| 935/935 [00:14<00:00, 66.72batch/s, Batch Loss=2.78]\n"
     ]
    },
    {
     "name": "stdout",
     "output_type": "stream",
     "text": [
      "Epoch [777/1000], Training Loss: 2.8423, Accuracy: 0.4077\n"
     ]
    },
    {
     "name": "stderr",
     "output_type": "stream",
     "text": [
      "Epoch [778/1000]: 100%|██████████| 935/935 [00:13<00:00, 67.45batch/s, Batch Loss=2.87]\n"
     ]
    },
    {
     "name": "stdout",
     "output_type": "stream",
     "text": [
      "Epoch [778/1000], Training Loss: 2.8485, Accuracy: 0.4074\n"
     ]
    },
    {
     "name": "stderr",
     "output_type": "stream",
     "text": [
      "Epoch [779/1000]: 100%|██████████| 935/935 [00:14<00:00, 66.45batch/s, Batch Loss=3.12]\n"
     ]
    },
    {
     "name": "stdout",
     "output_type": "stream",
     "text": [
      "Epoch [779/1000], Training Loss: 2.8438, Accuracy: 0.4080\n"
     ]
    },
    {
     "name": "stderr",
     "output_type": "stream",
     "text": [
      "Epoch [780/1000]: 100%|██████████| 935/935 [00:14<00:00, 66.69batch/s, Batch Loss=3.05]\n"
     ]
    },
    {
     "name": "stdout",
     "output_type": "stream",
     "text": [
      "Epoch [780/1000], Training Loss: 2.8321, Accuracy: 0.4093\n"
     ]
    },
    {
     "name": "stderr",
     "output_type": "stream",
     "text": [
      "Epoch [781/1000]: 100%|██████████| 935/935 [00:14<00:00, 66.54batch/s, Batch Loss=3.1] \n"
     ]
    },
    {
     "name": "stdout",
     "output_type": "stream",
     "text": [
      "Epoch [781/1000], Training Loss: 2.8387, Accuracy: 0.4092\n"
     ]
    },
    {
     "name": "stderr",
     "output_type": "stream",
     "text": [
      "Epoch [782/1000]: 100%|██████████| 935/935 [00:13<00:00, 67.17batch/s, Batch Loss=2.75]\n"
     ]
    },
    {
     "name": "stdout",
     "output_type": "stream",
     "text": [
      "Epoch [782/1000], Training Loss: 2.8405, Accuracy: 0.4089\n"
     ]
    },
    {
     "name": "stderr",
     "output_type": "stream",
     "text": [
      "Epoch [783/1000]: 100%|██████████| 935/935 [00:14<00:00, 66.06batch/s, Batch Loss=2.87]\n"
     ]
    },
    {
     "name": "stdout",
     "output_type": "stream",
     "text": [
      "Epoch [783/1000], Training Loss: 2.8354, Accuracy: 0.4091\n"
     ]
    },
    {
     "name": "stderr",
     "output_type": "stream",
     "text": [
      "Epoch [784/1000]: 100%|██████████| 935/935 [00:14<00:00, 66.30batch/s, Batch Loss=3.09]\n"
     ]
    },
    {
     "name": "stdout",
     "output_type": "stream",
     "text": [
      "Epoch [784/1000], Training Loss: 2.8357, Accuracy: 0.4101\n"
     ]
    },
    {
     "name": "stderr",
     "output_type": "stream",
     "text": [
      "Epoch [785/1000]: 100%|██████████| 935/935 [00:14<00:00, 66.29batch/s, Batch Loss=3.04]\n"
     ]
    },
    {
     "name": "stdout",
     "output_type": "stream",
     "text": [
      "Epoch [785/1000], Training Loss: 2.8373, Accuracy: 0.4096\n"
     ]
    },
    {
     "name": "stderr",
     "output_type": "stream",
     "text": [
      "Epoch [786/1000]: 100%|██████████| 935/935 [00:14<00:00, 66.59batch/s, Batch Loss=3.04]\n"
     ]
    },
    {
     "name": "stdout",
     "output_type": "stream",
     "text": [
      "Epoch [786/1000], Training Loss: 2.8373, Accuracy: 0.4089\n"
     ]
    },
    {
     "name": "stderr",
     "output_type": "stream",
     "text": [
      "Epoch [787/1000]: 100%|██████████| 935/935 [00:14<00:00, 65.64batch/s, Batch Loss=2.93]\n"
     ]
    },
    {
     "name": "stdout",
     "output_type": "stream",
     "text": [
      "Epoch [787/1000], Training Loss: 2.8324, Accuracy: 0.4101\n"
     ]
    },
    {
     "name": "stderr",
     "output_type": "stream",
     "text": [
      "Epoch [788/1000]: 100%|██████████| 935/935 [00:14<00:00, 65.53batch/s, Batch Loss=3.01]\n"
     ]
    },
    {
     "name": "stdout",
     "output_type": "stream",
     "text": [
      "Epoch [788/1000], Training Loss: 2.8321, Accuracy: 0.4093\n"
     ]
    },
    {
     "name": "stderr",
     "output_type": "stream",
     "text": [
      "Epoch [789/1000]: 100%|██████████| 935/935 [00:14<00:00, 66.02batch/s, Batch Loss=3.11]\n"
     ]
    },
    {
     "name": "stdout",
     "output_type": "stream",
     "text": [
      "Epoch [789/1000], Training Loss: 2.8357, Accuracy: 0.4078\n"
     ]
    },
    {
     "name": "stderr",
     "output_type": "stream",
     "text": [
      "Epoch [790/1000]: 100%|██████████| 935/935 [00:14<00:00, 65.37batch/s, Batch Loss=2.82]\n"
     ]
    },
    {
     "name": "stdout",
     "output_type": "stream",
     "text": [
      "Epoch [790/1000], Training Loss: 2.8342, Accuracy: 0.4079\n"
     ]
    },
    {
     "name": "stderr",
     "output_type": "stream",
     "text": [
      "Epoch [791/1000]: 100%|██████████| 935/935 [00:14<00:00, 65.75batch/s, Batch Loss=3.26]\n"
     ]
    },
    {
     "name": "stdout",
     "output_type": "stream",
     "text": [
      "Epoch [791/1000], Training Loss: 2.8436, Accuracy: 0.4072\n"
     ]
    },
    {
     "name": "stderr",
     "output_type": "stream",
     "text": [
      "Epoch [792/1000]: 100%|██████████| 935/935 [00:14<00:00, 65.96batch/s, Batch Loss=2.96]\n"
     ]
    },
    {
     "name": "stdout",
     "output_type": "stream",
     "text": [
      "Epoch [792/1000], Training Loss: 2.8334, Accuracy: 0.4090\n"
     ]
    },
    {
     "name": "stderr",
     "output_type": "stream",
     "text": [
      "Epoch [793/1000]: 100%|██████████| 935/935 [00:14<00:00, 66.27batch/s, Batch Loss=2.74]\n"
     ]
    },
    {
     "name": "stdout",
     "output_type": "stream",
     "text": [
      "Epoch [793/1000], Training Loss: 2.8301, Accuracy: 0.4105\n"
     ]
    },
    {
     "name": "stderr",
     "output_type": "stream",
     "text": [
      "Epoch [794/1000]: 100%|██████████| 935/935 [00:13<00:00, 66.79batch/s, Batch Loss=2.57]\n"
     ]
    },
    {
     "name": "stdout",
     "output_type": "stream",
     "text": [
      "Epoch [794/1000], Training Loss: 2.8326, Accuracy: 0.4097\n"
     ]
    },
    {
     "name": "stderr",
     "output_type": "stream",
     "text": [
      "Epoch [795/1000]: 100%|██████████| 935/935 [00:14<00:00, 66.30batch/s, Batch Loss=2.92]\n"
     ]
    },
    {
     "name": "stdout",
     "output_type": "stream",
     "text": [
      "Epoch [795/1000], Training Loss: 2.8294, Accuracy: 0.4103\n"
     ]
    },
    {
     "name": "stderr",
     "output_type": "stream",
     "text": [
      "Epoch [796/1000]: 100%|██████████| 935/935 [00:14<00:00, 66.61batch/s, Batch Loss=2.83]\n"
     ]
    },
    {
     "name": "stdout",
     "output_type": "stream",
     "text": [
      "Epoch [796/1000], Training Loss: 2.8276, Accuracy: 0.4100\n"
     ]
    },
    {
     "name": "stderr",
     "output_type": "stream",
     "text": [
      "Epoch [797/1000]: 100%|██████████| 935/935 [00:14<00:00, 65.74batch/s, Batch Loss=2.95]\n"
     ]
    },
    {
     "name": "stdout",
     "output_type": "stream",
     "text": [
      "Epoch [797/1000], Training Loss: 2.8245, Accuracy: 0.4109\n"
     ]
    },
    {
     "name": "stderr",
     "output_type": "stream",
     "text": [
      "Epoch [798/1000]: 100%|██████████| 935/935 [00:14<00:00, 66.29batch/s, Batch Loss=2.69]\n"
     ]
    },
    {
     "name": "stdout",
     "output_type": "stream",
     "text": [
      "Epoch [798/1000], Training Loss: 2.8255, Accuracy: 0.4097\n"
     ]
    },
    {
     "name": "stderr",
     "output_type": "stream",
     "text": [
      "Epoch [799/1000]: 100%|██████████| 935/935 [00:14<00:00, 66.20batch/s, Batch Loss=2.92]\n"
     ]
    },
    {
     "name": "stdout",
     "output_type": "stream",
     "text": [
      "Epoch [799/1000], Training Loss: 2.8277, Accuracy: 0.4110\n"
     ]
    },
    {
     "name": "stderr",
     "output_type": "stream",
     "text": [
      "Epoch [800/1000]: 100%|██████████| 935/935 [00:14<00:00, 66.56batch/s, Batch Loss=3.13]\n"
     ]
    },
    {
     "name": "stdout",
     "output_type": "stream",
     "text": [
      "Epoch [800/1000], Training Loss: 2.8243, Accuracy: 0.4096\n",
      "\n",
      "Evaluating on validation set...\n"
     ]
    },
    {
     "name": "stderr",
     "output_type": "stream",
     "text": [
      "Evaluating HR & NDCG for multiple k: 100%|██████████| 201/201 [00:05<00:00, 38.91it/s]\n"
     ]
    },
    {
     "name": "stdout",
     "output_type": "stream",
     "text": [
      "Validation HR@5: 0.3720, NDCG@5: 0.3061\n",
      "Validation HR@10: 0.4187, NDCG@10: 0.3213\n",
      "Validation HR@20: 0.4602, NDCG@20: 0.3317\n",
      "Model saved at 'uet4rec64_rr_model_epoch_800.pth'\n"
     ]
    },
    {
     "name": "stderr",
     "output_type": "stream",
     "text": [
      "Epoch [801/1000]: 100%|██████████| 935/935 [00:14<00:00, 66.45batch/s, Batch Loss=3.23]\n"
     ]
    },
    {
     "name": "stdout",
     "output_type": "stream",
     "text": [
      "Epoch [801/1000], Training Loss: 2.8178, Accuracy: 0.4101\n"
     ]
    },
    {
     "name": "stderr",
     "output_type": "stream",
     "text": [
      "Epoch [802/1000]: 100%|██████████| 935/935 [00:14<00:00, 66.22batch/s, Batch Loss=3.31]\n"
     ]
    },
    {
     "name": "stdout",
     "output_type": "stream",
     "text": [
      "Epoch [802/1000], Training Loss: 2.8197, Accuracy: 0.4114\n"
     ]
    },
    {
     "name": "stderr",
     "output_type": "stream",
     "text": [
      "Epoch [803/1000]: 100%|██████████| 935/935 [00:13<00:00, 67.24batch/s, Batch Loss=3.15]\n"
     ]
    },
    {
     "name": "stdout",
     "output_type": "stream",
     "text": [
      "Epoch [803/1000], Training Loss: 2.8225, Accuracy: 0.4110\n"
     ]
    },
    {
     "name": "stderr",
     "output_type": "stream",
     "text": [
      "Epoch [804/1000]: 100%|██████████| 935/935 [00:13<00:00, 66.90batch/s, Batch Loss=2.99]\n"
     ]
    },
    {
     "name": "stdout",
     "output_type": "stream",
     "text": [
      "Epoch [804/1000], Training Loss: 2.8244, Accuracy: 0.4104\n"
     ]
    },
    {
     "name": "stderr",
     "output_type": "stream",
     "text": [
      "Epoch [805/1000]: 100%|██████████| 935/935 [00:13<00:00, 67.26batch/s, Batch Loss=2.88]\n"
     ]
    },
    {
     "name": "stdout",
     "output_type": "stream",
     "text": [
      "Epoch [805/1000], Training Loss: 2.8187, Accuracy: 0.4112\n"
     ]
    },
    {
     "name": "stderr",
     "output_type": "stream",
     "text": [
      "Epoch [806/1000]: 100%|██████████| 935/935 [00:14<00:00, 66.28batch/s, Batch Loss=3.01]\n"
     ]
    },
    {
     "name": "stdout",
     "output_type": "stream",
     "text": [
      "Epoch [806/1000], Training Loss: 2.8176, Accuracy: 0.4102\n"
     ]
    },
    {
     "name": "stderr",
     "output_type": "stream",
     "text": [
      "Epoch [807/1000]: 100%|██████████| 935/935 [00:14<00:00, 66.68batch/s, Batch Loss=3.01]\n"
     ]
    },
    {
     "name": "stdout",
     "output_type": "stream",
     "text": [
      "Epoch [807/1000], Training Loss: 2.8148, Accuracy: 0.4120\n"
     ]
    },
    {
     "name": "stderr",
     "output_type": "stream",
     "text": [
      "Epoch [808/1000]: 100%|██████████| 935/935 [00:14<00:00, 66.42batch/s, Batch Loss=2.69]\n"
     ]
    },
    {
     "name": "stdout",
     "output_type": "stream",
     "text": [
      "Epoch [808/1000], Training Loss: 2.8218, Accuracy: 0.4098\n"
     ]
    },
    {
     "name": "stderr",
     "output_type": "stream",
     "text": [
      "Epoch [809/1000]: 100%|██████████| 935/935 [00:14<00:00, 66.06batch/s, Batch Loss=3.25]\n"
     ]
    },
    {
     "name": "stdout",
     "output_type": "stream",
     "text": [
      "Epoch [809/1000], Training Loss: 2.8213, Accuracy: 0.4107\n"
     ]
    },
    {
     "name": "stderr",
     "output_type": "stream",
     "text": [
      "Epoch [810/1000]: 100%|██████████| 935/935 [00:14<00:00, 65.85batch/s, Batch Loss=2.88]\n"
     ]
    },
    {
     "name": "stdout",
     "output_type": "stream",
     "text": [
      "Epoch [810/1000], Training Loss: 2.8142, Accuracy: 0.4119\n"
     ]
    },
    {
     "name": "stderr",
     "output_type": "stream",
     "text": [
      "Epoch [811/1000]: 100%|██████████| 935/935 [00:14<00:00, 66.16batch/s, Batch Loss=3.31]\n"
     ]
    },
    {
     "name": "stdout",
     "output_type": "stream",
     "text": [
      "Epoch [811/1000], Training Loss: 2.8186, Accuracy: 0.4110\n"
     ]
    },
    {
     "name": "stderr",
     "output_type": "stream",
     "text": [
      "Epoch [812/1000]: 100%|██████████| 935/935 [00:14<00:00, 65.91batch/s, Batch Loss=3.16]\n"
     ]
    },
    {
     "name": "stdout",
     "output_type": "stream",
     "text": [
      "Epoch [812/1000], Training Loss: 2.8119, Accuracy: 0.4107\n"
     ]
    },
    {
     "name": "stderr",
     "output_type": "stream",
     "text": [
      "Epoch [813/1000]: 100%|██████████| 935/935 [00:14<00:00, 66.03batch/s, Batch Loss=2.85]\n"
     ]
    },
    {
     "name": "stdout",
     "output_type": "stream",
     "text": [
      "Epoch [813/1000], Training Loss: 2.8127, Accuracy: 0.4118\n"
     ]
    },
    {
     "name": "stderr",
     "output_type": "stream",
     "text": [
      "Epoch [814/1000]: 100%|██████████| 935/935 [00:14<00:00, 66.23batch/s, Batch Loss=2.82]\n"
     ]
    },
    {
     "name": "stdout",
     "output_type": "stream",
     "text": [
      "Epoch [814/1000], Training Loss: 2.8091, Accuracy: 0.4135\n"
     ]
    },
    {
     "name": "stderr",
     "output_type": "stream",
     "text": [
      "Epoch [815/1000]: 100%|██████████| 935/935 [00:14<00:00, 65.34batch/s, Batch Loss=2.99]\n"
     ]
    },
    {
     "name": "stdout",
     "output_type": "stream",
     "text": [
      "Epoch [815/1000], Training Loss: 2.8106, Accuracy: 0.4119\n"
     ]
    },
    {
     "name": "stderr",
     "output_type": "stream",
     "text": [
      "Epoch [816/1000]: 100%|██████████| 935/935 [00:14<00:00, 65.58batch/s, Batch Loss=2.91]\n"
     ]
    },
    {
     "name": "stdout",
     "output_type": "stream",
     "text": [
      "Epoch [816/1000], Training Loss: 2.8082, Accuracy: 0.4133\n"
     ]
    },
    {
     "name": "stderr",
     "output_type": "stream",
     "text": [
      "Epoch [817/1000]: 100%|██████████| 935/935 [00:14<00:00, 65.85batch/s, Batch Loss=2.9] \n"
     ]
    },
    {
     "name": "stdout",
     "output_type": "stream",
     "text": [
      "Epoch [817/1000], Training Loss: 2.8079, Accuracy: 0.4128\n"
     ]
    },
    {
     "name": "stderr",
     "output_type": "stream",
     "text": [
      "Epoch [818/1000]: 100%|██████████| 935/935 [00:14<00:00, 66.39batch/s, Batch Loss=2.97]\n"
     ]
    },
    {
     "name": "stdout",
     "output_type": "stream",
     "text": [
      "Epoch [818/1000], Training Loss: 2.8038, Accuracy: 0.4140\n"
     ]
    },
    {
     "name": "stderr",
     "output_type": "stream",
     "text": [
      "Epoch [819/1000]: 100%|██████████| 935/935 [00:14<00:00, 65.83batch/s, Batch Loss=2.69]\n"
     ]
    },
    {
     "name": "stdout",
     "output_type": "stream",
     "text": [
      "Epoch [819/1000], Training Loss: 2.8108, Accuracy: 0.4128\n"
     ]
    },
    {
     "name": "stderr",
     "output_type": "stream",
     "text": [
      "Epoch [820/1000]: 100%|██████████| 935/935 [00:14<00:00, 65.18batch/s, Batch Loss=3.11]\n"
     ]
    },
    {
     "name": "stdout",
     "output_type": "stream",
     "text": [
      "Epoch [820/1000], Training Loss: 2.8013, Accuracy: 0.4131\n"
     ]
    },
    {
     "name": "stderr",
     "output_type": "stream",
     "text": [
      "Epoch [821/1000]: 100%|██████████| 935/935 [00:14<00:00, 65.85batch/s, Batch Loss=3.18]\n"
     ]
    },
    {
     "name": "stdout",
     "output_type": "stream",
     "text": [
      "Epoch [821/1000], Training Loss: 2.8097, Accuracy: 0.4122\n"
     ]
    },
    {
     "name": "stderr",
     "output_type": "stream",
     "text": [
      "Epoch [822/1000]: 100%|██████████| 935/935 [00:14<00:00, 66.63batch/s, Batch Loss=2.98]\n"
     ]
    },
    {
     "name": "stdout",
     "output_type": "stream",
     "text": [
      "Epoch [822/1000], Training Loss: 2.8080, Accuracy: 0.4119\n"
     ]
    },
    {
     "name": "stderr",
     "output_type": "stream",
     "text": [
      "Epoch [823/1000]: 100%|██████████| 935/935 [00:14<00:00, 66.42batch/s, Batch Loss=3.14]\n"
     ]
    },
    {
     "name": "stdout",
     "output_type": "stream",
     "text": [
      "Epoch [823/1000], Training Loss: 2.8078, Accuracy: 0.4113\n"
     ]
    },
    {
     "name": "stderr",
     "output_type": "stream",
     "text": [
      "Epoch [824/1000]: 100%|██████████| 935/935 [00:14<00:00, 66.42batch/s, Batch Loss=2.78]\n"
     ]
    },
    {
     "name": "stdout",
     "output_type": "stream",
     "text": [
      "Epoch [824/1000], Training Loss: 2.8080, Accuracy: 0.4129\n"
     ]
    },
    {
     "name": "stderr",
     "output_type": "stream",
     "text": [
      "Epoch [825/1000]: 100%|██████████| 935/935 [00:14<00:00, 66.63batch/s, Batch Loss=2.97]\n"
     ]
    },
    {
     "name": "stdout",
     "output_type": "stream",
     "text": [
      "Epoch [825/1000], Training Loss: 2.8048, Accuracy: 0.4122\n"
     ]
    },
    {
     "name": "stderr",
     "output_type": "stream",
     "text": [
      "Epoch [826/1000]: 100%|██████████| 935/935 [00:14<00:00, 66.11batch/s, Batch Loss=3.06]\n"
     ]
    },
    {
     "name": "stdout",
     "output_type": "stream",
     "text": [
      "Epoch [826/1000], Training Loss: 2.8048, Accuracy: 0.4128\n"
     ]
    },
    {
     "name": "stderr",
     "output_type": "stream",
     "text": [
      "Epoch [827/1000]: 100%|██████████| 935/935 [00:14<00:00, 65.97batch/s, Batch Loss=2.96]\n"
     ]
    },
    {
     "name": "stdout",
     "output_type": "stream",
     "text": [
      "Epoch [827/1000], Training Loss: 2.8036, Accuracy: 0.4147\n"
     ]
    },
    {
     "name": "stderr",
     "output_type": "stream",
     "text": [
      "Epoch [828/1000]: 100%|██████████| 935/935 [00:13<00:00, 66.83batch/s, Batch Loss=3.23]\n"
     ]
    },
    {
     "name": "stdout",
     "output_type": "stream",
     "text": [
      "Epoch [828/1000], Training Loss: 2.8028, Accuracy: 0.4135\n"
     ]
    },
    {
     "name": "stderr",
     "output_type": "stream",
     "text": [
      "Epoch [829/1000]: 100%|██████████| 935/935 [00:14<00:00, 66.69batch/s, Batch Loss=3.07]\n"
     ]
    },
    {
     "name": "stdout",
     "output_type": "stream",
     "text": [
      "Epoch [829/1000], Training Loss: 2.8005, Accuracy: 0.4119\n"
     ]
    },
    {
     "name": "stderr",
     "output_type": "stream",
     "text": [
      "Epoch [830/1000]: 100%|██████████| 935/935 [00:14<00:00, 65.82batch/s, Batch Loss=2.92]\n"
     ]
    },
    {
     "name": "stdout",
     "output_type": "stream",
     "text": [
      "Epoch [830/1000], Training Loss: 2.7956, Accuracy: 0.4143\n"
     ]
    },
    {
     "name": "stderr",
     "output_type": "stream",
     "text": [
      "Epoch [831/1000]: 100%|██████████| 935/935 [00:14<00:00, 65.84batch/s, Batch Loss=3.11]\n"
     ]
    },
    {
     "name": "stdout",
     "output_type": "stream",
     "text": [
      "Epoch [831/1000], Training Loss: 2.8047, Accuracy: 0.4135\n"
     ]
    },
    {
     "name": "stderr",
     "output_type": "stream",
     "text": [
      "Epoch [832/1000]: 100%|██████████| 935/935 [00:14<00:00, 66.73batch/s, Batch Loss=2.45]\n"
     ]
    },
    {
     "name": "stdout",
     "output_type": "stream",
     "text": [
      "Epoch [832/1000], Training Loss: 2.7921, Accuracy: 0.4140\n"
     ]
    },
    {
     "name": "stderr",
     "output_type": "stream",
     "text": [
      "Epoch [833/1000]: 100%|██████████| 935/935 [00:14<00:00, 66.13batch/s, Batch Loss=2.93]\n"
     ]
    },
    {
     "name": "stdout",
     "output_type": "stream",
     "text": [
      "Epoch [833/1000], Training Loss: 2.7905, Accuracy: 0.4149\n"
     ]
    },
    {
     "name": "stderr",
     "output_type": "stream",
     "text": [
      "Epoch [834/1000]: 100%|██████████| 935/935 [00:14<00:00, 66.39batch/s, Batch Loss=3.02]\n"
     ]
    },
    {
     "name": "stdout",
     "output_type": "stream",
     "text": [
      "Epoch [834/1000], Training Loss: 2.7930, Accuracy: 0.4149\n"
     ]
    },
    {
     "name": "stderr",
     "output_type": "stream",
     "text": [
      "Epoch [835/1000]: 100%|██████████| 935/935 [00:14<00:00, 66.14batch/s, Batch Loss=2.83]\n"
     ]
    },
    {
     "name": "stdout",
     "output_type": "stream",
     "text": [
      "Epoch [835/1000], Training Loss: 2.8003, Accuracy: 0.4147\n"
     ]
    },
    {
     "name": "stderr",
     "output_type": "stream",
     "text": [
      "Epoch [836/1000]: 100%|██████████| 935/935 [00:14<00:00, 66.60batch/s, Batch Loss=2.99]\n"
     ]
    },
    {
     "name": "stdout",
     "output_type": "stream",
     "text": [
      "Epoch [836/1000], Training Loss: 2.7918, Accuracy: 0.4161\n"
     ]
    },
    {
     "name": "stderr",
     "output_type": "stream",
     "text": [
      "Epoch [837/1000]: 100%|██████████| 935/935 [00:14<00:00, 65.60batch/s, Batch Loss=3.15]\n"
     ]
    },
    {
     "name": "stdout",
     "output_type": "stream",
     "text": [
      "Epoch [837/1000], Training Loss: 2.7899, Accuracy: 0.4157\n"
     ]
    },
    {
     "name": "stderr",
     "output_type": "stream",
     "text": [
      "Epoch [838/1000]: 100%|██████████| 935/935 [00:14<00:00, 65.58batch/s, Batch Loss=2.4] \n"
     ]
    },
    {
     "name": "stdout",
     "output_type": "stream",
     "text": [
      "Epoch [838/1000], Training Loss: 2.7914, Accuracy: 0.4147\n"
     ]
    },
    {
     "name": "stderr",
     "output_type": "stream",
     "text": [
      "Epoch [839/1000]: 100%|██████████| 935/935 [00:13<00:00, 67.16batch/s, Batch Loss=2.81]\n"
     ]
    },
    {
     "name": "stdout",
     "output_type": "stream",
     "text": [
      "Epoch [839/1000], Training Loss: 2.7945, Accuracy: 0.4140\n"
     ]
    },
    {
     "name": "stderr",
     "output_type": "stream",
     "text": [
      "Epoch [840/1000]: 100%|██████████| 935/935 [00:14<00:00, 65.56batch/s, Batch Loss=2.92]\n"
     ]
    },
    {
     "name": "stdout",
     "output_type": "stream",
     "text": [
      "Epoch [840/1000], Training Loss: 2.7902, Accuracy: 0.4144\n"
     ]
    },
    {
     "name": "stderr",
     "output_type": "stream",
     "text": [
      "Epoch [841/1000]: 100%|██████████| 935/935 [00:14<00:00, 65.58batch/s, Batch Loss=3.03]\n"
     ]
    },
    {
     "name": "stdout",
     "output_type": "stream",
     "text": [
      "Epoch [841/1000], Training Loss: 2.7837, Accuracy: 0.4167\n"
     ]
    },
    {
     "name": "stderr",
     "output_type": "stream",
     "text": [
      "Epoch [842/1000]: 100%|██████████| 935/935 [00:14<00:00, 66.10batch/s, Batch Loss=3.08]\n"
     ]
    },
    {
     "name": "stdout",
     "output_type": "stream",
     "text": [
      "Epoch [842/1000], Training Loss: 2.7834, Accuracy: 0.4158\n"
     ]
    },
    {
     "name": "stderr",
     "output_type": "stream",
     "text": [
      "Epoch [843/1000]: 100%|██████████| 935/935 [00:13<00:00, 66.92batch/s, Batch Loss=2.8] \n"
     ]
    },
    {
     "name": "stdout",
     "output_type": "stream",
     "text": [
      "Epoch [843/1000], Training Loss: 2.7907, Accuracy: 0.4152\n"
     ]
    },
    {
     "name": "stderr",
     "output_type": "stream",
     "text": [
      "Epoch [844/1000]: 100%|██████████| 935/935 [00:14<00:00, 65.46batch/s, Batch Loss=2.81]\n"
     ]
    },
    {
     "name": "stdout",
     "output_type": "stream",
     "text": [
      "Epoch [844/1000], Training Loss: 2.7860, Accuracy: 0.4163\n"
     ]
    },
    {
     "name": "stderr",
     "output_type": "stream",
     "text": [
      "Epoch [845/1000]: 100%|██████████| 935/935 [00:14<00:00, 66.10batch/s, Batch Loss=3.23]\n"
     ]
    },
    {
     "name": "stdout",
     "output_type": "stream",
     "text": [
      "Epoch [845/1000], Training Loss: 2.7901, Accuracy: 0.4148\n"
     ]
    },
    {
     "name": "stderr",
     "output_type": "stream",
     "text": [
      "Epoch [846/1000]: 100%|██████████| 935/935 [00:14<00:00, 66.09batch/s, Batch Loss=2.79]\n"
     ]
    },
    {
     "name": "stdout",
     "output_type": "stream",
     "text": [
      "Epoch [846/1000], Training Loss: 2.7880, Accuracy: 0.4145\n"
     ]
    },
    {
     "name": "stderr",
     "output_type": "stream",
     "text": [
      "Epoch [847/1000]: 100%|██████████| 935/935 [00:14<00:00, 66.43batch/s, Batch Loss=2.91]\n"
     ]
    },
    {
     "name": "stdout",
     "output_type": "stream",
     "text": [
      "Epoch [847/1000], Training Loss: 2.7853, Accuracy: 0.4158\n"
     ]
    },
    {
     "name": "stderr",
     "output_type": "stream",
     "text": [
      "Epoch [848/1000]: 100%|██████████| 935/935 [00:14<00:00, 66.49batch/s, Batch Loss=2.8] \n"
     ]
    },
    {
     "name": "stdout",
     "output_type": "stream",
     "text": [
      "Epoch [848/1000], Training Loss: 2.7868, Accuracy: 0.4161\n"
     ]
    },
    {
     "name": "stderr",
     "output_type": "stream",
     "text": [
      "Epoch [849/1000]: 100%|██████████| 935/935 [00:14<00:00, 66.65batch/s, Batch Loss=2.99]\n"
     ]
    },
    {
     "name": "stdout",
     "output_type": "stream",
     "text": [
      "Epoch [849/1000], Training Loss: 2.7805, Accuracy: 0.4167\n"
     ]
    },
    {
     "name": "stderr",
     "output_type": "stream",
     "text": [
      "Epoch [850/1000]: 100%|██████████| 935/935 [00:13<00:00, 67.59batch/s, Batch Loss=3.33]\n"
     ]
    },
    {
     "name": "stdout",
     "output_type": "stream",
     "text": [
      "Epoch [850/1000], Training Loss: 2.7833, Accuracy: 0.4158\n",
      "\n",
      "Evaluating on validation set...\n"
     ]
    },
    {
     "name": "stderr",
     "output_type": "stream",
     "text": [
      "Evaluating HR & NDCG for multiple k: 100%|██████████| 201/201 [00:05<00:00, 37.86it/s]\n"
     ]
    },
    {
     "name": "stdout",
     "output_type": "stream",
     "text": [
      "Validation HR@5: 0.3729, NDCG@5: 0.3066\n",
      "Validation HR@10: 0.4186, NDCG@10: 0.3215\n",
      "Validation HR@20: 0.4591, NDCG@20: 0.3317\n",
      "Model saved at 'uet4rec64_rr_model_epoch_850.pth'\n"
     ]
    },
    {
     "name": "stderr",
     "output_type": "stream",
     "text": [
      "Epoch [851/1000]: 100%|██████████| 935/935 [00:13<00:00, 67.25batch/s, Batch Loss=3]   \n"
     ]
    },
    {
     "name": "stdout",
     "output_type": "stream",
     "text": [
      "Epoch [851/1000], Training Loss: 2.7805, Accuracy: 0.4168\n"
     ]
    },
    {
     "name": "stderr",
     "output_type": "stream",
     "text": [
      "Epoch [852/1000]: 100%|██████████| 935/935 [00:13<00:00, 66.86batch/s, Batch Loss=2.8] \n"
     ]
    },
    {
     "name": "stdout",
     "output_type": "stream",
     "text": [
      "Epoch [852/1000], Training Loss: 2.7791, Accuracy: 0.4166\n"
     ]
    },
    {
     "name": "stderr",
     "output_type": "stream",
     "text": [
      "Epoch [853/1000]: 100%|██████████| 935/935 [00:14<00:00, 66.48batch/s, Batch Loss=2.84]\n"
     ]
    },
    {
     "name": "stdout",
     "output_type": "stream",
     "text": [
      "Epoch [853/1000], Training Loss: 2.7774, Accuracy: 0.4176\n"
     ]
    },
    {
     "name": "stderr",
     "output_type": "stream",
     "text": [
      "Epoch [854/1000]: 100%|██████████| 935/935 [00:13<00:00, 67.03batch/s, Batch Loss=2.85]\n"
     ]
    },
    {
     "name": "stdout",
     "output_type": "stream",
     "text": [
      "Epoch [854/1000], Training Loss: 2.7722, Accuracy: 0.4171\n"
     ]
    },
    {
     "name": "stderr",
     "output_type": "stream",
     "text": [
      "Epoch [855/1000]: 100%|██████████| 935/935 [00:14<00:00, 66.32batch/s, Batch Loss=2.95]\n"
     ]
    },
    {
     "name": "stdout",
     "output_type": "stream",
     "text": [
      "Epoch [855/1000], Training Loss: 2.7754, Accuracy: 0.4175\n"
     ]
    },
    {
     "name": "stderr",
     "output_type": "stream",
     "text": [
      "Epoch [856/1000]: 100%|██████████| 935/935 [00:14<00:00, 66.41batch/s, Batch Loss=2.9] \n"
     ]
    },
    {
     "name": "stdout",
     "output_type": "stream",
     "text": [
      "Epoch [856/1000], Training Loss: 2.7763, Accuracy: 0.4165\n"
     ]
    },
    {
     "name": "stderr",
     "output_type": "stream",
     "text": [
      "Epoch [857/1000]: 100%|██████████| 935/935 [00:14<00:00, 66.75batch/s, Batch Loss=2.63]\n"
     ]
    },
    {
     "name": "stdout",
     "output_type": "stream",
     "text": [
      "Epoch [857/1000], Training Loss: 2.7753, Accuracy: 0.4188\n"
     ]
    },
    {
     "name": "stderr",
     "output_type": "stream",
     "text": [
      "Epoch [858/1000]: 100%|██████████| 935/935 [00:13<00:00, 67.79batch/s, Batch Loss=3.12]\n"
     ]
    },
    {
     "name": "stdout",
     "output_type": "stream",
     "text": [
      "Epoch [858/1000], Training Loss: 2.7767, Accuracy: 0.4169\n"
     ]
    },
    {
     "name": "stderr",
     "output_type": "stream",
     "text": [
      "Epoch [859/1000]: 100%|██████████| 935/935 [00:14<00:00, 66.35batch/s, Batch Loss=2.72]\n"
     ]
    },
    {
     "name": "stdout",
     "output_type": "stream",
     "text": [
      "Epoch [859/1000], Training Loss: 2.7735, Accuracy: 0.4172\n"
     ]
    },
    {
     "name": "stderr",
     "output_type": "stream",
     "text": [
      "Epoch [860/1000]: 100%|██████████| 935/935 [00:14<00:00, 65.52batch/s, Batch Loss=2.55]\n"
     ]
    },
    {
     "name": "stdout",
     "output_type": "stream",
     "text": [
      "Epoch [860/1000], Training Loss: 2.7734, Accuracy: 0.4177\n"
     ]
    },
    {
     "name": "stderr",
     "output_type": "stream",
     "text": [
      "Epoch [861/1000]: 100%|██████████| 935/935 [00:14<00:00, 66.38batch/s, Batch Loss=3.17]\n"
     ]
    },
    {
     "name": "stdout",
     "output_type": "stream",
     "text": [
      "Epoch [861/1000], Training Loss: 2.7708, Accuracy: 0.4179\n"
     ]
    },
    {
     "name": "stderr",
     "output_type": "stream",
     "text": [
      "Epoch [862/1000]: 100%|██████████| 935/935 [00:14<00:00, 66.42batch/s, Batch Loss=2.84]\n"
     ]
    },
    {
     "name": "stdout",
     "output_type": "stream",
     "text": [
      "Epoch [862/1000], Training Loss: 2.7714, Accuracy: 0.4174\n"
     ]
    },
    {
     "name": "stderr",
     "output_type": "stream",
     "text": [
      "Epoch [863/1000]: 100%|██████████| 935/935 [00:14<00:00, 66.77batch/s, Batch Loss=2.91]\n"
     ]
    },
    {
     "name": "stdout",
     "output_type": "stream",
     "text": [
      "Epoch [863/1000], Training Loss: 2.7711, Accuracy: 0.4166\n"
     ]
    },
    {
     "name": "stderr",
     "output_type": "stream",
     "text": [
      "Epoch [864/1000]: 100%|██████████| 935/935 [00:14<00:00, 66.32batch/s, Batch Loss=2.94]\n"
     ]
    },
    {
     "name": "stdout",
     "output_type": "stream",
     "text": [
      "Epoch [864/1000], Training Loss: 2.7760, Accuracy: 0.4181\n"
     ]
    },
    {
     "name": "stderr",
     "output_type": "stream",
     "text": [
      "Epoch [865/1000]: 100%|██████████| 935/935 [00:14<00:00, 66.40batch/s, Batch Loss=3.08]\n"
     ]
    },
    {
     "name": "stdout",
     "output_type": "stream",
     "text": [
      "Epoch [865/1000], Training Loss: 2.7685, Accuracy: 0.4178\n"
     ]
    },
    {
     "name": "stderr",
     "output_type": "stream",
     "text": [
      "Epoch [866/1000]: 100%|██████████| 935/935 [00:14<00:00, 66.45batch/s, Batch Loss=3.09]\n"
     ]
    },
    {
     "name": "stdout",
     "output_type": "stream",
     "text": [
      "Epoch [866/1000], Training Loss: 2.7704, Accuracy: 0.4175\n"
     ]
    },
    {
     "name": "stderr",
     "output_type": "stream",
     "text": [
      "Epoch [867/1000]: 100%|██████████| 935/935 [00:14<00:00, 66.66batch/s, Batch Loss=2.83]\n"
     ]
    },
    {
     "name": "stdout",
     "output_type": "stream",
     "text": [
      "Epoch [867/1000], Training Loss: 2.7707, Accuracy: 0.4177\n"
     ]
    },
    {
     "name": "stderr",
     "output_type": "stream",
     "text": [
      "Epoch [868/1000]: 100%|██████████| 935/935 [00:14<00:00, 66.16batch/s, Batch Loss=3.07]\n"
     ]
    },
    {
     "name": "stdout",
     "output_type": "stream",
     "text": [
      "Epoch [868/1000], Training Loss: 2.7701, Accuracy: 0.4170\n"
     ]
    },
    {
     "name": "stderr",
     "output_type": "stream",
     "text": [
      "Epoch [869/1000]: 100%|██████████| 935/935 [00:13<00:00, 66.92batch/s, Batch Loss=3.12]\n"
     ]
    },
    {
     "name": "stdout",
     "output_type": "stream",
     "text": [
      "Epoch [869/1000], Training Loss: 2.7627, Accuracy: 0.4182\n"
     ]
    },
    {
     "name": "stderr",
     "output_type": "stream",
     "text": [
      "Epoch [870/1000]: 100%|██████████| 935/935 [00:14<00:00, 65.46batch/s, Batch Loss=3.02]\n"
     ]
    },
    {
     "name": "stdout",
     "output_type": "stream",
     "text": [
      "Epoch [870/1000], Training Loss: 2.7642, Accuracy: 0.4170\n"
     ]
    },
    {
     "name": "stderr",
     "output_type": "stream",
     "text": [
      "Epoch [871/1000]: 100%|██████████| 935/935 [00:14<00:00, 65.36batch/s, Batch Loss=3]   \n"
     ]
    },
    {
     "name": "stdout",
     "output_type": "stream",
     "text": [
      "Epoch [871/1000], Training Loss: 2.7602, Accuracy: 0.4190\n"
     ]
    },
    {
     "name": "stderr",
     "output_type": "stream",
     "text": [
      "Epoch [872/1000]: 100%|██████████| 935/935 [00:14<00:00, 66.43batch/s, Batch Loss=2.96]\n"
     ]
    },
    {
     "name": "stdout",
     "output_type": "stream",
     "text": [
      "Epoch [872/1000], Training Loss: 2.7679, Accuracy: 0.4169\n"
     ]
    },
    {
     "name": "stderr",
     "output_type": "stream",
     "text": [
      "Epoch [873/1000]: 100%|██████████| 935/935 [00:14<00:00, 65.57batch/s, Batch Loss=2.61]\n"
     ]
    },
    {
     "name": "stdout",
     "output_type": "stream",
     "text": [
      "Epoch [873/1000], Training Loss: 2.7632, Accuracy: 0.4191\n"
     ]
    },
    {
     "name": "stderr",
     "output_type": "stream",
     "text": [
      "Epoch [874/1000]: 100%|██████████| 935/935 [00:14<00:00, 64.64batch/s, Batch Loss=2.64]\n"
     ]
    },
    {
     "name": "stdout",
     "output_type": "stream",
     "text": [
      "Epoch [874/1000], Training Loss: 2.7618, Accuracy: 0.4192\n"
     ]
    },
    {
     "name": "stderr",
     "output_type": "stream",
     "text": [
      "Epoch [875/1000]: 100%|██████████| 935/935 [00:14<00:00, 66.56batch/s, Batch Loss=2.57]\n"
     ]
    },
    {
     "name": "stdout",
     "output_type": "stream",
     "text": [
      "Epoch [875/1000], Training Loss: 2.7572, Accuracy: 0.4192\n"
     ]
    },
    {
     "name": "stderr",
     "output_type": "stream",
     "text": [
      "Epoch [876/1000]: 100%|██████████| 935/935 [00:14<00:00, 66.08batch/s, Batch Loss=2.79]\n"
     ]
    },
    {
     "name": "stdout",
     "output_type": "stream",
     "text": [
      "Epoch [876/1000], Training Loss: 2.7605, Accuracy: 0.4183\n"
     ]
    },
    {
     "name": "stderr",
     "output_type": "stream",
     "text": [
      "Epoch [877/1000]: 100%|██████████| 935/935 [00:14<00:00, 66.20batch/s, Batch Loss=2.79]\n"
     ]
    },
    {
     "name": "stdout",
     "output_type": "stream",
     "text": [
      "Epoch [877/1000], Training Loss: 2.7627, Accuracy: 0.4184\n"
     ]
    },
    {
     "name": "stderr",
     "output_type": "stream",
     "text": [
      "Epoch [878/1000]: 100%|██████████| 935/935 [00:14<00:00, 65.10batch/s, Batch Loss=3.07]\n"
     ]
    },
    {
     "name": "stdout",
     "output_type": "stream",
     "text": [
      "Epoch [878/1000], Training Loss: 2.7559, Accuracy: 0.4184\n"
     ]
    },
    {
     "name": "stderr",
     "output_type": "stream",
     "text": [
      "Epoch [879/1000]: 100%|██████████| 935/935 [00:14<00:00, 66.21batch/s, Batch Loss=2.96]\n"
     ]
    },
    {
     "name": "stdout",
     "output_type": "stream",
     "text": [
      "Epoch [879/1000], Training Loss: 2.7615, Accuracy: 0.4187\n"
     ]
    },
    {
     "name": "stderr",
     "output_type": "stream",
     "text": [
      "Epoch [880/1000]: 100%|██████████| 935/935 [00:14<00:00, 65.46batch/s, Batch Loss=2.92]\n"
     ]
    },
    {
     "name": "stdout",
     "output_type": "stream",
     "text": [
      "Epoch [880/1000], Training Loss: 2.7592, Accuracy: 0.4193\n"
     ]
    },
    {
     "name": "stderr",
     "output_type": "stream",
     "text": [
      "Epoch [881/1000]: 100%|██████████| 935/935 [00:14<00:00, 64.99batch/s, Batch Loss=2.87]\n"
     ]
    },
    {
     "name": "stdout",
     "output_type": "stream",
     "text": [
      "Epoch [881/1000], Training Loss: 2.7503, Accuracy: 0.4205\n"
     ]
    },
    {
     "name": "stderr",
     "output_type": "stream",
     "text": [
      "Epoch [882/1000]: 100%|██████████| 935/935 [00:14<00:00, 65.55batch/s, Batch Loss=2.7] \n"
     ]
    },
    {
     "name": "stdout",
     "output_type": "stream",
     "text": [
      "Epoch [882/1000], Training Loss: 2.7569, Accuracy: 0.4187\n"
     ]
    },
    {
     "name": "stderr",
     "output_type": "stream",
     "text": [
      "Epoch [883/1000]: 100%|██████████| 935/935 [00:14<00:00, 65.53batch/s, Batch Loss=2.54]\n"
     ]
    },
    {
     "name": "stdout",
     "output_type": "stream",
     "text": [
      "Epoch [883/1000], Training Loss: 2.7555, Accuracy: 0.4195\n"
     ]
    },
    {
     "name": "stderr",
     "output_type": "stream",
     "text": [
      "Epoch [884/1000]: 100%|██████████| 935/935 [00:14<00:00, 64.48batch/s, Batch Loss=3.03]\n"
     ]
    },
    {
     "name": "stdout",
     "output_type": "stream",
     "text": [
      "Epoch [884/1000], Training Loss: 2.7585, Accuracy: 0.4193\n"
     ]
    },
    {
     "name": "stderr",
     "output_type": "stream",
     "text": [
      "Epoch [885/1000]: 100%|██████████| 935/935 [00:14<00:00, 64.29batch/s, Batch Loss=2.85]\n"
     ]
    },
    {
     "name": "stdout",
     "output_type": "stream",
     "text": [
      "Epoch [885/1000], Training Loss: 2.7607, Accuracy: 0.4193\n"
     ]
    },
    {
     "name": "stderr",
     "output_type": "stream",
     "text": [
      "Epoch [886/1000]: 100%|██████████| 935/935 [00:14<00:00, 65.15batch/s, Batch Loss=2.65]\n"
     ]
    },
    {
     "name": "stdout",
     "output_type": "stream",
     "text": [
      "Epoch [886/1000], Training Loss: 2.7504, Accuracy: 0.4215\n"
     ]
    },
    {
     "name": "stderr",
     "output_type": "stream",
     "text": [
      "Epoch [887/1000]: 100%|██████████| 935/935 [00:14<00:00, 65.83batch/s, Batch Loss=3.1] \n"
     ]
    },
    {
     "name": "stdout",
     "output_type": "stream",
     "text": [
      "Epoch [887/1000], Training Loss: 2.7527, Accuracy: 0.4197\n"
     ]
    },
    {
     "name": "stderr",
     "output_type": "stream",
     "text": [
      "Epoch [888/1000]: 100%|██████████| 935/935 [00:14<00:00, 65.09batch/s, Batch Loss=2.99]\n"
     ]
    },
    {
     "name": "stdout",
     "output_type": "stream",
     "text": [
      "Epoch [888/1000], Training Loss: 2.7542, Accuracy: 0.4208\n"
     ]
    },
    {
     "name": "stderr",
     "output_type": "stream",
     "text": [
      "Epoch [889/1000]:  32%|███▏      | 300/935 [00:04<00:09, 67.22batch/s, Batch Loss=2.71]"
     ]
    }
   ],
   "source": [
    "import torch\n",
    "import torch.optim as optim\n",
    "from tqdm import tqdm\n",
    "import numpy as np\n",
    "from sklearn.metrics import ndcg_score\n",
    "\n",
    "device = torch.device(\"cuda\" if torch.cuda.is_available() else \"cpu\")\n",
    "print(\"Using device:\", device)\n",
    "\n",
    "\n",
    "def evaluate_hit_ndcg_multi_k(model, val_loader, ks=[5, 10, 20]):\n",
    "    model.eval()\n",
    "    total_hr = {k: 0 for k in ks}\n",
    "    total_ndcg = {k: 0 for k in ks}\n",
    "    total_samples = 0\n",
    "\n",
    "    with torch.no_grad():\n",
    "        for batch_inputs, batch_targets in tqdm(val_loader, desc=\"Evaluating HR & NDCG for multiple k\"):\n",
    "            batch_inputs = batch_inputs.to(device)\n",
    "            batch_targets = batch_targets.to(device)\n",
    "            outputs = model(batch_inputs)  # Forward pass\n",
    "            _, top_k_indices = torch.topk(outputs, k=max(ks), dim=1)  # Get top-k indices\n",
    "\n",
    "            for i in range(batch_targets.size(0)):\n",
    "                target = batch_targets[i].item()\n",
    "                predictions = top_k_indices[i].cpu().numpy()\n",
    "\n",
    "                for k in ks:\n",
    "                    top_k_preds = predictions[:k]\n",
    "\n",
    "                    if target in top_k_preds:\n",
    "                        total_hr[k] += 1\n",
    "\n",
    "                    if target in top_k_preds:\n",
    "                        rank = np.where(top_k_preds == target)[0][0] + 1\n",
    "                        total_ndcg[k] += 1 / np.log2(rank + 1)\n",
    "\n",
    "            total_samples += batch_targets.size(0)\n",
    "\n",
    "    hr = {k: total_hr[k] / total_samples for k in ks}\n",
    "    ndcg = {k: total_ndcg[k] / total_samples for k in ks}\n",
    "\n",
    "    return hr, ndcg\n",
    "\n",
    "criterion = torch.nn.CrossEntropyLoss()\n",
    "optimizer = optim.Adam(model.parameters(), lr=0.001)\n",
    "\n",
    "num_epochs = 1000\n",
    "save_interval = 50\n",
    "ks = [5, 10, 20]  \n",
    "\n",
    "print(\"Starting Training...\")\n",
    "\n",
    "for epoch in range(1, num_epochs + 1):\n",
    "    model.train()\n",
    "    total_loss = 0.0\n",
    "    correct_predictions = 0\n",
    "    total_predictions = 0\n",
    "\n",
    "    with tqdm(train_loader, desc=f\"Epoch [{epoch}/{num_epochs}]\", unit=\"batch\") as progress_bar:\n",
    "        for batch_inputs, batch_targets in progress_bar:\n",
    "            batch_inputs, batch_targets = batch_inputs.to(device), batch_targets.to(device)\n",
    "\n",
    "            optimizer.zero_grad()\n",
    "\n",
    "            outputs = model(batch_inputs)  \n",
    "            loss = criterion(outputs, batch_targets)  \n",
    "\n",
    "            loss.backward()  \n",
    "            optimizer.step()  \n",
    "\n",
    "            total_loss += loss.item()\n",
    "\n",
    "            _, predicted = torch.max(outputs, dim=1)\n",
    "            correct_predictions += (predicted == batch_targets).sum().item()\n",
    "            total_predictions += batch_targets.size(0)\n",
    "\n",
    "            progress_bar.set_postfix({\"Batch Loss\": loss.item()})\n",
    "\n",
    "    avg_loss = total_loss / len(train_loader)\n",
    "    accuracy = correct_predictions / total_predictions\n",
    "\n",
    "    print(f\"Epoch [{epoch}/{num_epochs}], Training Loss: {avg_loss:.4f}, Accuracy: {accuracy:.4f}\")\n",
    "\n",
    "    if epoch % save_interval == 0:\n",
    "        print(\"\\nEvaluating on validation set...\")\n",
    "        hr, ndcg = evaluate_hit_ndcg_multi_k(model, val_loader, ks=ks)\n",
    "        for k in ks:\n",
    "            print(f\"Validation HR@{k}: {hr[k]:.4f}, NDCG@{k}: {ndcg[k]:.4f}\")\n",
    "\n",
    "        model_save_path = f\"uet4rec64_rr_model_epoch_{epoch}.pth\"\n",
    "        torch.save(model.state_dict(), model_save_path)\n",
    "        print(f\"Model saved at '{model_save_path}'\")\n",
    "\n",
    "final_model_path = \"uet4rec64_rr_model_final.pth\"\n",
    "torch.save(model.state_dict(), final_model_path)\n",
    "print(f\"Final model saved as '{final_model_path}'\")\n",
    "\n",
    "print(\"Training Completed.\")\n"
   ]
  },
  {
   "cell_type": "code",
   "execution_count": 27,
   "id": "0728722e-cd04-473a-aedf-6b207ca1f8ae",
   "metadata": {},
   "outputs": [
    {
     "data": {
      "text/html": [
       "<div>\n",
       "<style scoped>\n",
       "    .dataframe tbody tr th:only-of-type {\n",
       "        vertical-align: middle;\n",
       "    }\n",
       "\n",
       "    .dataframe tbody tr th {\n",
       "        vertical-align: top;\n",
       "    }\n",
       "\n",
       "    .dataframe thead th {\n",
       "        text-align: right;\n",
       "    }\n",
       "</style>\n",
       "<table border=\"1\" class=\"dataframe\">\n",
       "  <thead>\n",
       "    <tr style=\"text-align: right;\">\n",
       "      <th></th>\n",
       "      <th>Timestamp</th>\n",
       "      <th>UserId</th>\n",
       "      <th>event</th>\n",
       "      <th>ProductId</th>\n",
       "      <th>transactionid</th>\n",
       "      <th>reward</th>\n",
       "    </tr>\n",
       "  </thead>\n",
       "  <tbody>\n",
       "    <tr>\n",
       "      <th>0</th>\n",
       "      <td>2015-08-07 17:51:44.567</td>\n",
       "      <td>1</td>\n",
       "      <td>view</td>\n",
       "      <td>21761</td>\n",
       "      <td>NaN</td>\n",
       "      <td>0.2</td>\n",
       "    </tr>\n",
       "    <tr>\n",
       "      <th>1</th>\n",
       "      <td>2015-08-07 17:53:33.790</td>\n",
       "      <td>1</td>\n",
       "      <td>view</td>\n",
       "      <td>21761</td>\n",
       "      <td>NaN</td>\n",
       "      <td>0.2</td>\n",
       "    </tr>\n",
       "    <tr>\n",
       "      <th>2</th>\n",
       "      <td>2015-08-07 17:56:52.664</td>\n",
       "      <td>1</td>\n",
       "      <td>view</td>\n",
       "      <td>17456</td>\n",
       "      <td>NaN</td>\n",
       "      <td>0.2</td>\n",
       "    </tr>\n",
       "    <tr>\n",
       "      <th>3</th>\n",
       "      <td>2015-08-07 18:01:08.920</td>\n",
       "      <td>1</td>\n",
       "      <td>view</td>\n",
       "      <td>14493</td>\n",
       "      <td>NaN</td>\n",
       "      <td>0.2</td>\n",
       "    </tr>\n",
       "    <tr>\n",
       "      <th>4</th>\n",
       "      <td>2015-08-07 18:08:25.669</td>\n",
       "      <td>1</td>\n",
       "      <td>view</td>\n",
       "      <td>22900</td>\n",
       "      <td>NaN</td>\n",
       "      <td>0.2</td>\n",
       "    </tr>\n",
       "  </tbody>\n",
       "</table>\n",
       "</div>"
      ],
      "text/plain": [
       "                Timestamp  UserId event  ProductId  transactionid  reward\n",
       "0 2015-08-07 17:51:44.567       1  view      21761            NaN     0.2\n",
       "1 2015-08-07 17:53:33.790       1  view      21761            NaN     0.2\n",
       "2 2015-08-07 17:56:52.664       1  view      17456            NaN     0.2\n",
       "3 2015-08-07 18:01:08.920       1  view      14493            NaN     0.2\n",
       "4 2015-08-07 18:08:25.669       1  view      22900            NaN     0.2"
      ]
     },
     "execution_count": 27,
     "metadata": {},
     "output_type": "execute_result"
    }
   ],
   "source": [
    "df.head()"
   ]
  },
  {
   "cell_type": "code",
   "execution_count": 28,
   "id": "e504f0ab-61ae-4c08-bacd-3c238e6ad325",
   "metadata": {},
   "outputs": [],
   "source": [
    "import torch\n",
    "from torch.utils.data import DataLoader\n",
    "import numpy as np\n",
    "from tqdm import tqdm\n"
   ]
  },
  {
   "cell_type": "code",
   "execution_count": 29,
   "id": "d11ea33c-f38e-4964-aecb-17940f6bc757",
   "metadata": {},
   "outputs": [
    {
     "name": "stdout",
     "output_type": "stream",
     "text": [
      "Model loaded successfully.\n"
     ]
    },
    {
     "name": "stderr",
     "output_type": "stream",
     "text": [
      "Evaluating HR & NDCG for multiple k: 100%|██████████| 201/201 [00:05<00:00, 38.73it/s]"
     ]
    },
    {
     "name": "stdout",
     "output_type": "stream",
     "text": [
      "\n",
      "Metrics Summary:\n",
      "HR@5: 0.3721\n",
      "NDCG@5: 0.3070\n",
      "HR@10: 0.4182\n",
      "NDCG@10: 0.3219\n",
      "HR@20: 0.4604\n",
      "NDCG@20: 0.3326\n"
     ]
    },
    {
     "name": "stderr",
     "output_type": "stream",
     "text": [
      "\n"
     ]
    }
   ],
   "source": [
    "import numpy as np\n",
    "import torch\n",
    "from tqdm import tqdm\n",
    "from sklearn.metrics import ndcg_score\n",
    "\n",
    "model = UET4Rec(\n",
    "    num_items=num_items,\n",
    "    embedding_dim=embedding_dim,\n",
    "    nhead=nhead,\n",
    "    max_len=max_len,\n",
    "    dropout=dropout,\n",
    "    ff_dim=ff_dim\n",
    ")\n",
    "\n",
    "device = torch.device(\"cuda\" if torch.cuda.is_available() else \"cpu\")\n",
    "model.load_state_dict(torch.load(\"uet4rec64_rr_model_final.pth\", map_location=device)) \n",
    "model.to(device)\n",
    "model.eval() \n",
    "print(\"Model loaded successfully.\")\n",
    "\n",
    "\n",
    "def evaluate_hit_ndcg_multi_k(model, test_loader, ks=[5, 10, 20]):\n",
    "    model.eval()\n",
    "    total_hr = {k: 0 for k in ks}\n",
    "    total_ndcg = {k: 0 for k in ks}\n",
    "    total_samples = 0\n",
    "\n",
    "    with torch.no_grad():\n",
    "        for batch_inputs, batch_targets in tqdm(test_loader, desc=\"Evaluating HR & NDCG for multiple k\"):\n",
    "            batch_inputs = batch_inputs.to(device)\n",
    "            batch_targets = batch_targets.to(device)\n",
    "            outputs = model(batch_inputs)  \n",
    "            _, top_k_indices = torch.topk(outputs, k=max(ks), dim=1) \n",
    "\n",
    "            for i in range(batch_targets.size(0)):\n",
    "                target = batch_targets[i].item()\n",
    "                predictions = top_k_indices[i].cpu().numpy()\n",
    "\n",
    "                for k in ks:\n",
    "                    top_k_preds = predictions[:k]\n",
    "\n",
    "                    if target in top_k_preds:\n",
    "                        total_hr[k] += 1\n",
    "\n",
    "                    if target in top_k_preds:\n",
    "                        rank = np.where(top_k_preds == target)[0][0] + 1\n",
    "                        total_ndcg[k] += 1 / np.log2(rank + 1)\n",
    "\n",
    "            total_samples += batch_targets.size(0)\n",
    "\n",
    "    hr = {k: total_hr[k] / total_samples for k in ks}\n",
    "    ndcg = {k: total_ndcg[k] / total_samples for k in ks}\n",
    "\n",
    "    return hr, ndcg\n",
    "\n",
    "k_values = [5, 10, 20]\n",
    "hr, ndcg = evaluate_hit_ndcg_multi_k(model, test_loader, ks=k_values)\n",
    "\n",
    "print(\"\\nMetrics Summary:\")\n",
    "for k in k_values:\n",
    "    print(f\"HR@{k}: {hr[k]:.4f}\")\n",
    "    print(f\"NDCG@{k}: {ndcg[k]:.4f}\")\n"
   ]
  },
  {
   "cell_type": "code",
   "execution_count": null,
   "id": "c19077e7-4c4e-4478-a18b-4d2360de4b6b",
   "metadata": {},
   "outputs": [],
   "source": []
  },
  {
   "cell_type": "code",
   "execution_count": null,
   "id": "be4cf777-b331-4aa6-b233-e416239dd436",
   "metadata": {},
   "outputs": [],
   "source": []
  },
  {
   "cell_type": "code",
   "execution_count": null,
   "id": "420864cb-b4fc-4736-b0cd-ad9d3a902a91",
   "metadata": {},
   "outputs": [],
   "source": []
  },
  {
   "cell_type": "code",
   "execution_count": null,
   "id": "ff83e7d6-112f-4808-92d6-9eddbe49f27b",
   "metadata": {},
   "outputs": [],
   "source": []
  },
  {
   "cell_type": "code",
   "execution_count": null,
   "id": "31a87c36-e9ab-4781-b348-36571874cf29",
   "metadata": {},
   "outputs": [],
   "source": []
  },
  {
   "cell_type": "code",
   "execution_count": null,
   "id": "b7c83458-4f71-41f8-83c8-afc438983294",
   "metadata": {},
   "outputs": [],
   "source": []
  },
  {
   "cell_type": "code",
   "execution_count": null,
   "id": "a5d90e82-56f9-43a6-9287-50e297d5e21b",
   "metadata": {},
   "outputs": [],
   "source": []
  },
  {
   "cell_type": "code",
   "execution_count": null,
   "id": "b2c0a31d-c4c8-4917-9dc7-a944cf7517f9",
   "metadata": {},
   "outputs": [],
   "source": []
  }
 ],
 "metadata": {
  "kernelspec": {
   "display_name": "Python 3",
   "language": "python",
   "name": "python3"
  },
  "language_info": {
   "codemirror_mode": {
    "name": "ipython",
    "version": 3
   },
   "file_extension": ".py",
   "mimetype": "text/x-python",
   "name": "python",
   "nbconvert_exporter": "python",
   "pygments_lexer": "ipython3",
   "version": "3.10.10"
  }
 },
 "nbformat": 4,
 "nbformat_minor": 5
}
