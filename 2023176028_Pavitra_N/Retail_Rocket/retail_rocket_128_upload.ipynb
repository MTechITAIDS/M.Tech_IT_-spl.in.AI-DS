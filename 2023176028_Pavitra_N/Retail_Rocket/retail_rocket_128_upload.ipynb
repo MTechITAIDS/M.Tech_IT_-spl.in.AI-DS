{
 "cells": [
  {
   "cell_type": "code",
   "execution_count": 1,
   "id": "8ed0e962-ff22-4329-bdcf-305a56d922af",
   "metadata": {},
   "outputs": [],
   "source": [
    "import pandas as pd\n",
    "import numpy as np\n",
    "from sklearn.preprocessing import LabelEncoder\n",
    "import torch\n",
    "from torch.utils.data import TensorDataset, DataLoader, random_split"
   ]
  },
  {
   "cell_type": "code",
   "execution_count": 2,
   "id": "8412a2e7-a662-4b07-b6f7-7bd32782fbff",
   "metadata": {},
   "outputs": [
    {
     "name": "stdout",
     "output_type": "stream",
     "text": [
      "(2756101, 5)\n"
     ]
    }
   ],
   "source": [
    "df = pd.read_csv('events.csv')\n",
    "print(f\"{df.shape}\")"
   ]
  },
  {
   "cell_type": "code",
   "execution_count": 3,
   "id": "9d10d86f-56b9-4a7e-b733-13550ef81ba6",
   "metadata": {},
   "outputs": [
    {
     "data": {
      "text/html": [
       "<div>\n",
       "<style scoped>\n",
       "    .dataframe tbody tr th:only-of-type {\n",
       "        vertical-align: middle;\n",
       "    }\n",
       "\n",
       "    .dataframe tbody tr th {\n",
       "        vertical-align: top;\n",
       "    }\n",
       "\n",
       "    .dataframe thead th {\n",
       "        text-align: right;\n",
       "    }\n",
       "</style>\n",
       "<table border=\"1\" class=\"dataframe\">\n",
       "  <thead>\n",
       "    <tr style=\"text-align: right;\">\n",
       "      <th></th>\n",
       "      <th>timestamp</th>\n",
       "      <th>visitorid</th>\n",
       "      <th>event</th>\n",
       "      <th>itemid</th>\n",
       "      <th>transactionid</th>\n",
       "    </tr>\n",
       "  </thead>\n",
       "  <tbody>\n",
       "    <tr>\n",
       "      <th>0</th>\n",
       "      <td>1433221332117</td>\n",
       "      <td>257597</td>\n",
       "      <td>view</td>\n",
       "      <td>355908</td>\n",
       "      <td>NaN</td>\n",
       "    </tr>\n",
       "    <tr>\n",
       "      <th>1</th>\n",
       "      <td>1433224214164</td>\n",
       "      <td>992329</td>\n",
       "      <td>view</td>\n",
       "      <td>248676</td>\n",
       "      <td>NaN</td>\n",
       "    </tr>\n",
       "    <tr>\n",
       "      <th>2</th>\n",
       "      <td>1433221999827</td>\n",
       "      <td>111016</td>\n",
       "      <td>view</td>\n",
       "      <td>318965</td>\n",
       "      <td>NaN</td>\n",
       "    </tr>\n",
       "    <tr>\n",
       "      <th>3</th>\n",
       "      <td>1433221955914</td>\n",
       "      <td>483717</td>\n",
       "      <td>view</td>\n",
       "      <td>253185</td>\n",
       "      <td>NaN</td>\n",
       "    </tr>\n",
       "    <tr>\n",
       "      <th>4</th>\n",
       "      <td>1433221337106</td>\n",
       "      <td>951259</td>\n",
       "      <td>view</td>\n",
       "      <td>367447</td>\n",
       "      <td>NaN</td>\n",
       "    </tr>\n",
       "  </tbody>\n",
       "</table>\n",
       "</div>"
      ],
      "text/plain": [
       "       timestamp  visitorid event  itemid  transactionid\n",
       "0  1433221332117     257597  view  355908            NaN\n",
       "1  1433224214164     992329  view  248676            NaN\n",
       "2  1433221999827     111016  view  318965            NaN\n",
       "3  1433221955914     483717  view  253185            NaN\n",
       "4  1433221337106     951259  view  367447            NaN"
      ]
     },
     "execution_count": 3,
     "metadata": {},
     "output_type": "execute_result"
    }
   ],
   "source": [
    "df.head()"
   ]
  },
  {
   "cell_type": "code",
   "execution_count": 4,
   "id": "8941d6a4-3919-42ec-9159-34ee0e78466d",
   "metadata": {},
   "outputs": [],
   "source": [
    "df.rename(columns={'visitorid': 'UserId', 'itemid': 'ProductId', 'timestamp': 'Timestamp'}, inplace=True)\n"
   ]
  },
  {
   "cell_type": "code",
   "execution_count": 5,
   "id": "def48e3a-f223-46cd-ae48-c4740e52b0c7",
   "metadata": {},
   "outputs": [
    {
     "data": {
      "text/html": [
       "<div>\n",
       "<style scoped>\n",
       "    .dataframe tbody tr th:only-of-type {\n",
       "        vertical-align: middle;\n",
       "    }\n",
       "\n",
       "    .dataframe tbody tr th {\n",
       "        vertical-align: top;\n",
       "    }\n",
       "\n",
       "    .dataframe thead th {\n",
       "        text-align: right;\n",
       "    }\n",
       "</style>\n",
       "<table border=\"1\" class=\"dataframe\">\n",
       "  <thead>\n",
       "    <tr style=\"text-align: right;\">\n",
       "      <th></th>\n",
       "      <th>Timestamp</th>\n",
       "      <th>UserId</th>\n",
       "      <th>event</th>\n",
       "      <th>ProductId</th>\n",
       "      <th>transactionid</th>\n",
       "    </tr>\n",
       "  </thead>\n",
       "  <tbody>\n",
       "    <tr>\n",
       "      <th>0</th>\n",
       "      <td>1433221332117</td>\n",
       "      <td>257597</td>\n",
       "      <td>view</td>\n",
       "      <td>355908</td>\n",
       "      <td>NaN</td>\n",
       "    </tr>\n",
       "    <tr>\n",
       "      <th>1</th>\n",
       "      <td>1433224214164</td>\n",
       "      <td>992329</td>\n",
       "      <td>view</td>\n",
       "      <td>248676</td>\n",
       "      <td>NaN</td>\n",
       "    </tr>\n",
       "    <tr>\n",
       "      <th>2</th>\n",
       "      <td>1433221999827</td>\n",
       "      <td>111016</td>\n",
       "      <td>view</td>\n",
       "      <td>318965</td>\n",
       "      <td>NaN</td>\n",
       "    </tr>\n",
       "    <tr>\n",
       "      <th>3</th>\n",
       "      <td>1433221955914</td>\n",
       "      <td>483717</td>\n",
       "      <td>view</td>\n",
       "      <td>253185</td>\n",
       "      <td>NaN</td>\n",
       "    </tr>\n",
       "    <tr>\n",
       "      <th>4</th>\n",
       "      <td>1433221337106</td>\n",
       "      <td>951259</td>\n",
       "      <td>view</td>\n",
       "      <td>367447</td>\n",
       "      <td>NaN</td>\n",
       "    </tr>\n",
       "  </tbody>\n",
       "</table>\n",
       "</div>"
      ],
      "text/plain": [
       "       Timestamp  UserId event  ProductId  transactionid\n",
       "0  1433221332117  257597  view     355908            NaN\n",
       "1  1433224214164  992329  view     248676            NaN\n",
       "2  1433221999827  111016  view     318965            NaN\n",
       "3  1433221955914  483717  view     253185            NaN\n",
       "4  1433221337106  951259  view     367447            NaN"
      ]
     },
     "execution_count": 5,
     "metadata": {},
     "output_type": "execute_result"
    }
   ],
   "source": [
    "df = df[df['event'].isin(['view', 'addtocart', 'transaction'])]\n",
    "df.head()"
   ]
  },
  {
   "cell_type": "code",
   "execution_count": 6,
   "id": "e4afcf80-3784-4564-a0ed-f3401863f4b9",
   "metadata": {},
   "outputs": [],
   "source": [
    "reward_map = {'view': 0.2, 'addtocart': 0.5, 'transaction': 1.0}\n",
    "df['reward'] = df['event'].map(reward_map)"
   ]
  },
  {
   "cell_type": "code",
   "execution_count": 7,
   "id": "b3aba8bd-4a8b-4c3e-8ea5-62b863d84595",
   "metadata": {},
   "outputs": [
    {
     "data": {
      "text/html": [
       "<div>\n",
       "<style scoped>\n",
       "    .dataframe tbody tr th:only-of-type {\n",
       "        vertical-align: middle;\n",
       "    }\n",
       "\n",
       "    .dataframe tbody tr th {\n",
       "        vertical-align: top;\n",
       "    }\n",
       "\n",
       "    .dataframe thead th {\n",
       "        text-align: right;\n",
       "    }\n",
       "</style>\n",
       "<table border=\"1\" class=\"dataframe\">\n",
       "  <thead>\n",
       "    <tr style=\"text-align: right;\">\n",
       "      <th></th>\n",
       "      <th>Timestamp</th>\n",
       "      <th>UserId</th>\n",
       "      <th>event</th>\n",
       "      <th>ProductId</th>\n",
       "      <th>transactionid</th>\n",
       "      <th>reward</th>\n",
       "    </tr>\n",
       "  </thead>\n",
       "  <tbody>\n",
       "    <tr>\n",
       "      <th>0</th>\n",
       "      <td>2015-06-02 05:02:12.117</td>\n",
       "      <td>257597</td>\n",
       "      <td>view</td>\n",
       "      <td>355908</td>\n",
       "      <td>NaN</td>\n",
       "      <td>0.2</td>\n",
       "    </tr>\n",
       "    <tr>\n",
       "      <th>1</th>\n",
       "      <td>2015-06-02 05:50:14.164</td>\n",
       "      <td>992329</td>\n",
       "      <td>view</td>\n",
       "      <td>248676</td>\n",
       "      <td>NaN</td>\n",
       "      <td>0.2</td>\n",
       "    </tr>\n",
       "    <tr>\n",
       "      <th>2</th>\n",
       "      <td>2015-06-02 05:13:19.827</td>\n",
       "      <td>111016</td>\n",
       "      <td>view</td>\n",
       "      <td>318965</td>\n",
       "      <td>NaN</td>\n",
       "      <td>0.2</td>\n",
       "    </tr>\n",
       "    <tr>\n",
       "      <th>3</th>\n",
       "      <td>2015-06-02 05:12:35.914</td>\n",
       "      <td>483717</td>\n",
       "      <td>view</td>\n",
       "      <td>253185</td>\n",
       "      <td>NaN</td>\n",
       "      <td>0.2</td>\n",
       "    </tr>\n",
       "    <tr>\n",
       "      <th>4</th>\n",
       "      <td>2015-06-02 05:02:17.106</td>\n",
       "      <td>951259</td>\n",
       "      <td>view</td>\n",
       "      <td>367447</td>\n",
       "      <td>NaN</td>\n",
       "      <td>0.2</td>\n",
       "    </tr>\n",
       "  </tbody>\n",
       "</table>\n",
       "</div>"
      ],
      "text/plain": [
       "                Timestamp  UserId event  ProductId  transactionid  reward\n",
       "0 2015-06-02 05:02:12.117  257597  view     355908            NaN     0.2\n",
       "1 2015-06-02 05:50:14.164  992329  view     248676            NaN     0.2\n",
       "2 2015-06-02 05:13:19.827  111016  view     318965            NaN     0.2\n",
       "3 2015-06-02 05:12:35.914  483717  view     253185            NaN     0.2\n",
       "4 2015-06-02 05:02:17.106  951259  view     367447            NaN     0.2"
      ]
     },
     "execution_count": 7,
     "metadata": {},
     "output_type": "execute_result"
    }
   ],
   "source": [
    "df['Timestamp'] = pd.to_datetime(df['Timestamp'], unit='ms')\n",
    "df.head()"
   ]
  },
  {
   "cell_type": "code",
   "execution_count": 8,
   "id": "25c168da-adb5-4108-80e5-3d08369032ca",
   "metadata": {},
   "outputs": [
    {
     "name": "stdout",
     "output_type": "stream",
     "text": [
      "Data after filtering: (833702, 6)\n"
     ]
    }
   ],
   "source": [
    "user_counts = df['UserId'].value_counts()\n",
    "frequent_users = user_counts[user_counts >= 6].index\n",
    "df = df[df['UserId'].isin(frequent_users)]\n",
    "print(f\"Data after filtering: {df.shape}\")"
   ]
  },
  {
   "cell_type": "code",
   "execution_count": 9,
   "id": "5d33f961-e1f8-4af2-b43d-0037592be83c",
   "metadata": {},
   "outputs": [
    {
     "name": "stdout",
     "output_type": "stream",
     "text": [
      "Data after filtering: (707162, 6)\n"
     ]
    }
   ],
   "source": [
    "item_counts = df['ProductId'].value_counts()\n",
    "frequent_items = item_counts[item_counts >= 6].index\n",
    "df = df[df['ProductId'].isin(frequent_items)]\n",
    "print(f\"Data after filtering: {df.shape}\")"
   ]
  },
  {
   "cell_type": "code",
   "execution_count": 10,
   "id": "644df271-08ed-437d-b2ea-80ee6fcca2c6",
   "metadata": {},
   "outputs": [],
   "source": [
    "user_encoder = LabelEncoder()\n",
    "df['UserId'] = user_encoder.fit_transform(df['UserId']) + 1"
   ]
  },
  {
   "cell_type": "code",
   "execution_count": 11,
   "id": "85d5c195-7695-47c6-af1d-c55c003f9d87",
   "metadata": {},
   "outputs": [],
   "source": [
    "item_encoder = LabelEncoder()\n",
    "df['ProductId'] = item_encoder.fit_transform(df['ProductId']) + 1"
   ]
  },
  {
   "cell_type": "code",
   "execution_count": 12,
   "id": "b99941d5-0642-48d2-9e03-9f3038997543",
   "metadata": {},
   "outputs": [
    {
     "name": "stdout",
     "output_type": "stream",
     "text": [
      "Total number of items (including padding index): 31228\n"
     ]
    }
   ],
   "source": [
    "num_items = df['ProductId'].max() + 1  \n",
    "print(f\"Total number of items (including padding index): {num_items}\")"
   ]
  },
  {
   "cell_type": "code",
   "execution_count": 13,
   "id": "81ef1767-b0ed-41e8-98f5-7db7cd562710",
   "metadata": {},
   "outputs": [
    {
     "data": {
      "text/html": [
       "<div>\n",
       "<style scoped>\n",
       "    .dataframe tbody tr th:only-of-type {\n",
       "        vertical-align: middle;\n",
       "    }\n",
       "\n",
       "    .dataframe tbody tr th {\n",
       "        vertical-align: top;\n",
       "    }\n",
       "\n",
       "    .dataframe thead th {\n",
       "        text-align: right;\n",
       "    }\n",
       "</style>\n",
       "<table border=\"1\" class=\"dataframe\">\n",
       "  <thead>\n",
       "    <tr style=\"text-align: right;\">\n",
       "      <th></th>\n",
       "      <th>Timestamp</th>\n",
       "      <th>UserId</th>\n",
       "      <th>event</th>\n",
       "      <th>ProductId</th>\n",
       "      <th>transactionid</th>\n",
       "      <th>reward</th>\n",
       "    </tr>\n",
       "  </thead>\n",
       "  <tbody>\n",
       "    <tr>\n",
       "      <th>0</th>\n",
       "      <td>2015-08-07 17:51:44.567</td>\n",
       "      <td>1</td>\n",
       "      <td>view</td>\n",
       "      <td>21761</td>\n",
       "      <td>NaN</td>\n",
       "      <td>0.2</td>\n",
       "    </tr>\n",
       "    <tr>\n",
       "      <th>1</th>\n",
       "      <td>2015-08-07 17:53:33.790</td>\n",
       "      <td>1</td>\n",
       "      <td>view</td>\n",
       "      <td>21761</td>\n",
       "      <td>NaN</td>\n",
       "      <td>0.2</td>\n",
       "    </tr>\n",
       "    <tr>\n",
       "      <th>2</th>\n",
       "      <td>2015-08-07 17:56:52.664</td>\n",
       "      <td>1</td>\n",
       "      <td>view</td>\n",
       "      <td>17456</td>\n",
       "      <td>NaN</td>\n",
       "      <td>0.2</td>\n",
       "    </tr>\n",
       "    <tr>\n",
       "      <th>3</th>\n",
       "      <td>2015-08-07 18:01:08.920</td>\n",
       "      <td>1</td>\n",
       "      <td>view</td>\n",
       "      <td>14493</td>\n",
       "      <td>NaN</td>\n",
       "      <td>0.2</td>\n",
       "    </tr>\n",
       "    <tr>\n",
       "      <th>4</th>\n",
       "      <td>2015-08-07 18:08:25.669</td>\n",
       "      <td>1</td>\n",
       "      <td>view</td>\n",
       "      <td>22900</td>\n",
       "      <td>NaN</td>\n",
       "      <td>0.2</td>\n",
       "    </tr>\n",
       "  </tbody>\n",
       "</table>\n",
       "</div>"
      ],
      "text/plain": [
       "                Timestamp  UserId event  ProductId  transactionid  reward\n",
       "0 2015-08-07 17:51:44.567       1  view      21761            NaN     0.2\n",
       "1 2015-08-07 17:53:33.790       1  view      21761            NaN     0.2\n",
       "2 2015-08-07 17:56:52.664       1  view      17456            NaN     0.2\n",
       "3 2015-08-07 18:01:08.920       1  view      14493            NaN     0.2\n",
       "4 2015-08-07 18:08:25.669       1  view      22900            NaN     0.2"
      ]
     },
     "execution_count": 13,
     "metadata": {},
     "output_type": "execute_result"
    }
   ],
   "source": [
    "df = df.sort_values(['UserId', 'Timestamp']).reset_index(drop=True)\n",
    "df.head()"
   ]
  },
  {
   "cell_type": "code",
   "execution_count": 14,
   "id": "25c34029-0d6a-405b-86bf-8bdce9176239",
   "metadata": {},
   "outputs": [
    {
     "name": "stdout",
     "output_type": "stream",
     "text": [
      "No UserId entry has been assigned the value 0.\n",
      "No ProductIdProductId entry has been assigned the value 0.\n"
     ]
    }
   ],
   "source": [
    "if (df['UserId'] == 0).any():\n",
    "    print(\"The encoder assigned 0 as a value for some UserIdUserId entries.\")\n",
    "else:\n",
    "    print(\"No UserId entry has been assigned the value 0.\")\n",
    "\n",
    "if (df['ProductId'] == 0).any():\n",
    "    print(\"The encoder assigned 0 as a value for some ProductId entries.\")\n",
    "else:\n",
    "    print(\"No ProductIdProductId entry has been assigned the value 0.\")\n",
    "\n"
   ]
  },
  {
   "cell_type": "code",
   "execution_count": 15,
   "id": "8fa2e36c-7d72-434e-b8cc-392dd8aa5ad9",
   "metadata": {},
   "outputs": [],
   "source": [
    "user_sequences = df.groupby('UserId')['ProductId'].apply(list).values\n"
   ]
  },
  {
   "cell_type": "code",
   "execution_count": 16,
   "id": "ef0e0380-6870-425f-9276-c5abc3f83db8",
   "metadata": {},
   "outputs": [],
   "source": [
    "def generate_sequences(sequence, window_size=10):\n",
    "    if len(sequence) < window_size:\n",
    "        sequence = [0] * (window_size - len(sequence)) + sequence  # Pad shorter sequences\n",
    "    return [sequence[i:i + window_size] for i in range(len(sequence) - window_size + 1)]"
   ]
  },
  {
   "cell_type": "code",
   "execution_count": 17,
   "id": "8eea3ee6-1a5f-4eb8-98e9-cfb58be8b6fa",
   "metadata": {},
   "outputs": [],
   "source": [
    "all_sequences = []\n",
    "for seq in user_sequences:\n",
    "    all_sequences.extend(generate_sequences(seq))"
   ]
  },
  {
   "cell_type": "code",
   "execution_count": 18,
   "id": "21f7b854-d92b-495e-85d5-51e651164f15",
   "metadata": {},
   "outputs": [],
   "source": [
    "all_sequences = torch.tensor(all_sequences, dtype=torch.long)\n",
    "inputs = all_sequences[:, :-1]  \n",
    "targets = all_sequences[:, -1]  "
   ]
  },
  {
   "cell_type": "code",
   "execution_count": 19,
   "id": "537d0927-fd47-4f4d-b33a-e297b2091308",
   "metadata": {},
   "outputs": [
    {
     "name": "stdout",
     "output_type": "stream",
     "text": [
      "tensor([[    0,     0, 21761, 21761, 17456, 14493, 22900, 22900, 14493, 21761],\n",
      "        [    0,     0,     0,     0,  4299, 17001, 23009, 23009, 23009, 23009],\n",
      "        [    0,     0,     0, 11248, 11248, 11248, 11248, 11248, 11248, 11248],\n",
      "        [    0,     0,     0,     0,     0,     0, 13291, 28742, 13291,  3297],\n",
      "        [    0, 18993,  2553, 21410, 18993, 21410, 29604, 29604, 16722,  2553]])\n"
     ]
    }
   ],
   "source": [
    "print(all_sequences[:5])"
   ]
  },
  {
   "cell_type": "code",
   "execution_count": 20,
   "id": "6f9111d6-8c71-4af6-9e5c-5b5707e71857",
   "metadata": {},
   "outputs": [
    {
     "name": "stdout",
     "output_type": "stream",
     "text": [
      "Inputs shape: torch.Size([341868, 9]), Targets shape: torch.Size([341868])\n"
     ]
    }
   ],
   "source": [
    "print(f\"Inputs shape: {inputs.shape}, Targets shape: {targets.shape}\")\n"
   ]
  },
  {
   "cell_type": "code",
   "execution_count": null,
   "id": "e8295788-2e58-4faa-ba36-5722f7fb7ef7",
   "metadata": {},
   "outputs": [],
   "source": []
  },
  {
   "cell_type": "code",
   "execution_count": 21,
   "id": "330844f2-7325-4520-b1d4-3cf239523659",
   "metadata": {},
   "outputs": [
    {
     "name": "stdout",
     "output_type": "stream",
     "text": [
      "Max target value: 31227, Expected range: [0, 31227]\n",
      "Min target value: 1\n"
     ]
    }
   ],
   "source": [
    "print(f\"Max target value: {targets.max().item()}, Expected range: [0, {num_items - 1}]\")\n",
    "print(f\"Min target value: {targets.min().item()}\")\n"
   ]
  },
  {
   "cell_type": "code",
   "execution_count": 22,
   "id": "df84447c-104a-45b9-9f2a-6c54cc7ec71b",
   "metadata": {},
   "outputs": [
    {
     "name": "stdout",
     "output_type": "stream",
     "text": [
      "Train size: 239307\n",
      "Validation size: 51280\n",
      "Test size: 51281\n",
      "Batch Inputs Shape: torch.Size([256, 9]), Batch Targets Shape: torch.Size([256])\n",
      "Example Inputs: tensor([29441,  2617,  4382, 28708,  4382,  3140,  4382, 11668, 26877])\n",
      "Example Target: 20868\n"
     ]
    }
   ],
   "source": [
    "dataset = TensorDataset(inputs, targets)\n",
    "\n",
    "total_size = len(dataset)\n",
    "train_size = int(0.7 * total_size)\n",
    "val_size = int(0.15 * total_size)\n",
    "test_size = total_size - train_size - val_size\n",
    "\n",
    "train_dataset, val_dataset, test_dataset = random_split(dataset, [train_size, val_size, test_size])\n",
    "\n",
    "batch_size = 256\n",
    "train_loader = DataLoader(train_dataset, batch_size=batch_size, shuffle=True)\n",
    "val_loader = DataLoader(val_dataset, batch_size=batch_size, shuffle=False)\n",
    "test_loader = DataLoader(test_dataset, batch_size=batch_size, shuffle=False)\n",
    "\n",
    "print(f\"Train size: {len(train_loader.dataset)}\")\n",
    "print(f\"Validation size: {len(val_loader.dataset)}\")\n",
    "print(f\"Test size: {len(test_loader.dataset)}\")\n",
    "for batch_inputs, batch_targets in train_loader:\n",
    "    print(f\"Batch Inputs Shape: {batch_inputs.shape}, Batch Targets Shape: {batch_targets.shape}\")\n",
    "    print(f\"Example Inputs: {batch_inputs[0]}\")\n",
    "    print(f\"Example Target: {batch_targets[0]}\")\n",
    "    break"
   ]
  },
  {
   "cell_type": "code",
   "execution_count": 23,
   "id": "d3c9094c-adbb-42fe-8c44-771af6bbd5dc",
   "metadata": {},
   "outputs": [
    {
     "name": "stdout",
     "output_type": "stream",
     "text": [
      "UET4Rec(\n",
      "  (item_embedding): Embedding(31228, 128, padding_idx=0)\n",
      "  (position_embedding): Embedding(9, 128)\n",
      "  (encoder1): Sequential(\n",
      "    (0): Conv1d(128, 64, kernel_size=(5,), stride=(1,), padding=(2,))\n",
      "    (1): BatchNorm1d(64, eps=1e-05, momentum=0.1, affine=True, track_running_stats=True)\n",
      "    (2): LeakyReLU(negative_slope=0.1)\n",
      "    (3): Dropout(p=0.7, inplace=False)\n",
      "  )\n",
      "  (encoder2): Sequential(\n",
      "    (0): Conv1d(64, 32, kernel_size=(5,), stride=(1,), padding=(2,))\n",
      "    (1): BatchNorm1d(32, eps=1e-05, momentum=0.1, affine=True, track_running_stats=True)\n",
      "    (2): LeakyReLU(negative_slope=0.1)\n",
      "    (3): Dropout(p=0.7, inplace=False)\n",
      "  )\n",
      "  (encoder3): Sequential(\n",
      "    (0): Conv1d(32, 16, kernel_size=(5,), stride=(1,), padding=(2,))\n",
      "  )\n",
      "  (transformer): ModuleList(\n",
      "    (0-2): 3 x CustomTransformerEncoderLayer(\n",
      "      (msa): MultiHeadSelfAttention(\n",
      "        (query): Linear(in_features=16, out_features=16, bias=True)\n",
      "        (key): Linear(in_features=16, out_features=16, bias=True)\n",
      "        (value): Linear(in_features=16, out_features=16, bias=True)\n",
      "        (out): Linear(in_features=16, out_features=16, bias=True)\n",
      "        (dropout): Dropout(p=0.7, inplace=False)\n",
      "      )\n",
      "      (ffn): PointWiseFeedForward(\n",
      "        (linear1): Linear(in_features=16, out_features=256, bias=True)\n",
      "        (dropout): Dropout(p=0.7, inplace=False)\n",
      "        (linear2): Linear(in_features=256, out_features=16, bias=True)\n",
      "      )\n",
      "      (norm1): LayerNorm((16,), eps=1e-05, elementwise_affine=True)\n",
      "      (norm2): LayerNorm((16,), eps=1e-05, elementwise_affine=True)\n",
      "      (dropout): Dropout(p=0.7, inplace=False)\n",
      "    )\n",
      "  )\n",
      "  (decoder1): Sequential(\n",
      "    (0): Conv1d(16, 32, kernel_size=(5,), stride=(1,), padding=(2,))\n",
      "    (1): BatchNorm1d(32, eps=1e-05, momentum=0.1, affine=True, track_running_stats=True)\n",
      "    (2): LeakyReLU(negative_slope=0.1)\n",
      "    (3): Dropout(p=0.7, inplace=False)\n",
      "  )\n",
      "  (decoder2): Sequential(\n",
      "    (0): Conv1d(32, 64, kernel_size=(5,), stride=(1,), padding=(2,))\n",
      "    (1): BatchNorm1d(64, eps=1e-05, momentum=0.1, affine=True, track_running_stats=True)\n",
      "    (2): LeakyReLU(negative_slope=0.1)\n",
      "    (3): Dropout(p=0.7, inplace=False)\n",
      "  )\n",
      "  (decoder3): Sequential(\n",
      "    (0): Conv1d(64, 128, kernel_size=(5,), stride=(1,), padding=(2,))\n",
      "  )\n",
      "  (ma): ModelAugmentation(\n",
      "    (ffn): Sequential(\n",
      "      (0): Linear(in_features=128, out_features=128, bias=True)\n",
      "      (1): GELU(approximate='none')\n",
      "      (2): Dropout(p=0.7, inplace=False)\n",
      "      (3): Linear(in_features=128, out_features=128, bias=True)\n",
      "    )\n",
      "    (norm): LayerNorm((128,), eps=1e-05, elementwise_affine=True)\n",
      "  )\n",
      "  (fc): Linear(in_features=128, out_features=31228, bias=True)\n",
      ")\n"
     ]
    }
   ],
   "source": [
    "import torch\n",
    "import torch.nn as nn\n",
    "import torch.nn.functional as F\n",
    "\n",
    "class MultiHeadSelfAttention(nn.Module):\n",
    "    def __init__(self, embedding_dim, num_heads, dropout=0.1):\n",
    "        super(MultiHeadSelfAttention, self).__init__()\n",
    "        self.num_heads = num_heads\n",
    "        self.head_dim = embedding_dim // num_heads\n",
    "\n",
    "        assert embedding_dim % num_heads == 0, \"Embedding dimension must be divisible by number of heads\"\n",
    "\n",
    "        self.query = nn.Linear(embedding_dim, embedding_dim)\n",
    "        self.key = nn.Linear(embedding_dim, embedding_dim)\n",
    "        self.value = nn.Linear(embedding_dim, embedding_dim)\n",
    "\n",
    "        self.out = nn.Linear(embedding_dim, embedding_dim)\n",
    "        self.dropout = nn.Dropout(dropout)\n",
    "\n",
    "    def forward(self, x):\n",
    "        B, N, E = x.size()  \n",
    "\n",
    "        Q = self.query(x).view(B, N, self.num_heads, self.head_dim).transpose(1, 2)\n",
    "        K = self.key(x).view(B, N, self.num_heads, self.head_dim).transpose(1, 2)\n",
    "        V = self.value(x).view(B, N, self.num_heads, self.head_dim).transpose(1, 2)\n",
    "\n",
    "        scores = torch.matmul(Q, K.transpose(-2, -1)) / (self.head_dim ** 0.5)\n",
    "        attn = F.softmax(scores, dim=-1)\n",
    "        attn = self.dropout(attn)\n",
    "\n",
    "        output = torch.matmul(attn, V)\n",
    "        output = output.transpose(1, 2).contiguous().view(B, N, E)\n",
    "\n",
    "        return self.out(output)\n",
    "\n",
    "class PointWiseFeedForward(nn.Module):\n",
    "    def __init__(self, embedding_dim, ff_dim, dropout=0.1):\n",
    "        super(PointWiseFeedForward, self).__init__()\n",
    "        self.linear1 = nn.Linear(embedding_dim, ff_dim)\n",
    "        self.dropout = nn.Dropout(dropout)\n",
    "        self.linear2 = nn.Linear(ff_dim, embedding_dim)\n",
    "\n",
    "    def forward(self, x):\n",
    "        x = self.dropout(F.relu(self.linear1(x)))\n",
    "        return self.linear2(x)\n",
    "\n",
    "class CustomTransformerEncoderLayer(nn.Module):\n",
    "    def __init__(self, embedding_dim, num_heads, ff_dim, dropout=0.1):\n",
    "        super(CustomTransformerEncoderLayer, self).__init__()\n",
    "        self.msa = MultiHeadSelfAttention(embedding_dim, num_heads, dropout)\n",
    "        self.ffn = PointWiseFeedForward(embedding_dim, ff_dim, dropout)\n",
    "\n",
    "        self.norm1 = nn.LayerNorm(embedding_dim)\n",
    "        self.norm2 = nn.LayerNorm(embedding_dim)\n",
    "        self.dropout = nn.Dropout(dropout)\n",
    "\n",
    "    def forward(self, x):\n",
    "        x = x + self.dropout(self.msa(self.norm1(x)))\n",
    "        x = x + self.dropout(self.ffn(self.norm2(x)))\n",
    "        return x\n",
    "\n",
    "class ModelAugmentation(nn.Module):\n",
    "    def __init__(self, embedding_dim, dropout=0.1):\n",
    "        super(ModelAugmentation, self).__init__()\n",
    "        self.ffn = nn.Sequential(\n",
    "            nn.Linear(embedding_dim, embedding_dim),\n",
    "            nn.GELU(),\n",
    "            nn.Dropout(dropout),\n",
    "            nn.Linear(embedding_dim, embedding_dim)\n",
    "        )\n",
    "        self.norm = nn.LayerNorm(embedding_dim)\n",
    "\n",
    "    def forward(self, x):\n",
    "        return self.norm(self.ffn(x) + x)\n",
    "\n",
    "class UET4Rec(nn.Module):\n",
    "    def __init__(self, num_items, embedding_dim=128, nhead=2, max_len=9, dropout=0.2, ff_dim=256):\n",
    "        super(UET4Rec, self).__init__()\n",
    "\n",
    "        self.item_embedding = nn.Embedding(num_items, embedding_dim, padding_idx=0)\n",
    "\n",
    "        self.position_embedding = nn.Embedding(max_len, embedding_dim)\n",
    "\n",
    "        self.encoder1 = nn.Sequential(\n",
    "            nn.Conv1d(embedding_dim, embedding_dim // 2, kernel_size=5, padding=2),\n",
    "            nn.BatchNorm1d(embedding_dim // 2),\n",
    "            nn.LeakyReLU(0.1),\n",
    "            nn.Dropout(dropout)\n",
    "        )\n",
    "\n",
    "        self.encoder2 = nn.Sequential(\n",
    "            nn.Conv1d(embedding_dim // 2, embedding_dim // 4, kernel_size=5, padding=2),\n",
    "            nn.BatchNorm1d(embedding_dim // 4),\n",
    "            nn.LeakyReLU(0.1),\n",
    "            nn.Dropout(dropout)\n",
    "        )\n",
    "\n",
    "        self.encoder3 = nn.Sequential(\n",
    "            nn.Conv1d(embedding_dim // 4, embedding_dim // 8, kernel_size=5, padding=2)\n",
    "        )\n",
    "\n",
    "        self.transformer = nn.ModuleList([\n",
    "            CustomTransformerEncoderLayer(embedding_dim // 8, nhead, ff_dim, dropout) for _ in range(3)\n",
    "        ])\n",
    "\n",
    "        self.decoder1 = nn.Sequential(\n",
    "            nn.Conv1d(embedding_dim // 8, embedding_dim // 4, kernel_size=5, padding=2),\n",
    "            nn.BatchNorm1d(embedding_dim // 4),\n",
    "            nn.LeakyReLU(0.1),\n",
    "            nn.Dropout(dropout)\n",
    "        )\n",
    "\n",
    "        self.decoder2 = nn.Sequential(\n",
    "            nn.Conv1d(embedding_dim // 4, embedding_dim // 2, kernel_size=5, padding=2),\n",
    "            nn.BatchNorm1d(embedding_dim // 2),\n",
    "            nn.LeakyReLU(0.1),\n",
    "            nn.Dropout(dropout)\n",
    "        )\n",
    "\n",
    "        self.decoder3 = nn.Sequential(\n",
    "            nn.Conv1d(embedding_dim // 2, embedding_dim, kernel_size=5, padding=2)\n",
    "        )\n",
    "\n",
    "        self.ma = ModelAugmentation(embedding_dim, dropout)\n",
    "\n",
    "        self.fc = nn.Linear(embedding_dim, num_items)\n",
    "\n",
    "    def forward(self, x):\n",
    "        batch_size, seq_len = x.size()\n",
    "\n",
    "        positions = torch.arange(0, seq_len).unsqueeze(0).repeat(batch_size, 1).to(x.device)\n",
    "        x = self.item_embedding(x) + self.position_embedding(positions)\n",
    "\n",
    "        x = x.permute(0, 2, 1)  \n",
    "        enc1 = self.encoder1(x)\n",
    "        enc2 = self.encoder2(enc1)\n",
    "        enc3 = self.encoder3(enc2)\n",
    "\n",
    "        x = enc3.permute(0, 2, 1)  \n",
    "        for layer in self.transformer:\n",
    "            x = layer(x)\n",
    "        x = x.permute(0, 2, 1)  \n",
    "\n",
    "        dec1 = self.decoder1(x + enc3)  \n",
    "        dec2 = self.decoder2(dec1 + enc2)  \n",
    "        dec3 = self.decoder3(dec2 + enc1)  \n",
    "\n",
    "        x = dec3[:, :, -1]  \n",
    "        x = self.ma(x)  \n",
    "        out = self.fc(x)  \n",
    "\n",
    "        return out\n",
    "embedding_dim = 128\n",
    "nhead = 2\n",
    "ff_dim = 256\n",
    "dropout = 0.7\n",
    "max_len = 9\n",
    "\n",
    "model = UET4Rec(\n",
    "    num_items=num_items,\n",
    "    embedding_dim=embedding_dim,\n",
    "    nhead=nhead,\n",
    "    max_len=max_len,\n",
    "    dropout=dropout,\n",
    "    ff_dim=ff_dim\n",
    ")\n",
    "\n",
    "device = torch.device(\"cuda\" if torch.cuda.is_available() else \"cpu\")\n",
    "model.to(device)\n",
    "\n",
    "print(model)"
   ]
  },
  {
   "cell_type": "code",
   "execution_count": 24,
   "id": "aa2c536f-98a2-4827-be51-4f5b837c5b4a",
   "metadata": {},
   "outputs": [
    {
     "name": "stdout",
     "output_type": "stream",
     "text": [
      "Starting Training...\n"
     ]
    },
    {
     "name": "stderr",
     "output_type": "stream",
     "text": [
      "Epoch [1/1000]: 100%|██████████| 935/935 [00:15<00:00, 59.00batch/s, Batch Loss=9.89]\n"
     ]
    },
    {
     "name": "stdout",
     "output_type": "stream",
     "text": [
      "Epoch [1/1000], Training Loss: 9.9927, Accuracy: 0.0030\n"
     ]
    },
    {
     "name": "stderr",
     "output_type": "stream",
     "text": [
      "Epoch [2/1000]: 100%|██████████| 935/935 [00:15<00:00, 61.89batch/s, Batch Loss=8.82]\n"
     ]
    },
    {
     "name": "stdout",
     "output_type": "stream",
     "text": [
      "Epoch [2/1000], Training Loss: 9.2475, Accuracy: 0.0324\n"
     ]
    },
    {
     "name": "stderr",
     "output_type": "stream",
     "text": [
      "Epoch [3/1000]: 100%|██████████| 935/935 [00:15<00:00, 61.42batch/s, Batch Loss=7.99]\n"
     ]
    },
    {
     "name": "stdout",
     "output_type": "stream",
     "text": [
      "Epoch [3/1000], Training Loss: 8.3549, Accuracy: 0.0858\n"
     ]
    },
    {
     "name": "stderr",
     "output_type": "stream",
     "text": [
      "Epoch [4/1000]: 100%|██████████| 935/935 [00:15<00:00, 62.13batch/s, Batch Loss=7.55]\n"
     ]
    },
    {
     "name": "stdout",
     "output_type": "stream",
     "text": [
      "Epoch [4/1000], Training Loss: 7.6410, Accuracy: 0.1208\n"
     ]
    },
    {
     "name": "stderr",
     "output_type": "stream",
     "text": [
      "Epoch [5/1000]: 100%|██████████| 935/935 [00:15<00:00, 61.68batch/s, Batch Loss=7.1] \n"
     ]
    },
    {
     "name": "stdout",
     "output_type": "stream",
     "text": [
      "Epoch [5/1000], Training Loss: 7.1049, Accuracy: 0.1454\n"
     ]
    },
    {
     "name": "stderr",
     "output_type": "stream",
     "text": [
      "Epoch [6/1000]: 100%|██████████| 935/935 [00:15<00:00, 61.18batch/s, Batch Loss=6.87]\n"
     ]
    },
    {
     "name": "stdout",
     "output_type": "stream",
     "text": [
      "Epoch [6/1000], Training Loss: 6.6979, Accuracy: 0.1626\n"
     ]
    },
    {
     "name": "stderr",
     "output_type": "stream",
     "text": [
      "Epoch [7/1000]: 100%|██████████| 935/935 [00:15<00:00, 60.27batch/s, Batch Loss=6.69]\n"
     ]
    },
    {
     "name": "stdout",
     "output_type": "stream",
     "text": [
      "Epoch [7/1000], Training Loss: 6.3659, Accuracy: 0.1756\n"
     ]
    },
    {
     "name": "stderr",
     "output_type": "stream",
     "text": [
      "Epoch [8/1000]: 100%|██████████| 935/935 [00:14<00:00, 62.41batch/s, Batch Loss=6.03]\n"
     ]
    },
    {
     "name": "stdout",
     "output_type": "stream",
     "text": [
      "Epoch [8/1000], Training Loss: 6.0913, Accuracy: 0.1880\n"
     ]
    },
    {
     "name": "stderr",
     "output_type": "stream",
     "text": [
      "Epoch [9/1000]: 100%|██████████| 935/935 [00:15<00:00, 61.52batch/s, Batch Loss=5.83]\n"
     ]
    },
    {
     "name": "stdout",
     "output_type": "stream",
     "text": [
      "Epoch [9/1000], Training Loss: 5.8536, Accuracy: 0.1983\n"
     ]
    },
    {
     "name": "stderr",
     "output_type": "stream",
     "text": [
      "Epoch [10/1000]: 100%|██████████| 935/935 [00:15<00:00, 61.69batch/s, Batch Loss=6.14]\n"
     ]
    },
    {
     "name": "stdout",
     "output_type": "stream",
     "text": [
      "Epoch [10/1000], Training Loss: 5.6561, Accuracy: 0.2072\n"
     ]
    },
    {
     "name": "stderr",
     "output_type": "stream",
     "text": [
      "Epoch [11/1000]: 100%|██████████| 935/935 [00:15<00:00, 61.85batch/s, Batch Loss=5.68]\n"
     ]
    },
    {
     "name": "stdout",
     "output_type": "stream",
     "text": [
      "Epoch [11/1000], Training Loss: 5.4810, Accuracy: 0.2149\n"
     ]
    },
    {
     "name": "stderr",
     "output_type": "stream",
     "text": [
      "Epoch [12/1000]: 100%|██████████| 935/935 [00:14<00:00, 62.47batch/s, Batch Loss=5.42]\n"
     ]
    },
    {
     "name": "stdout",
     "output_type": "stream",
     "text": [
      "Epoch [12/1000], Training Loss: 5.3262, Accuracy: 0.2225\n"
     ]
    },
    {
     "name": "stderr",
     "output_type": "stream",
     "text": [
      "Epoch [13/1000]: 100%|██████████| 935/935 [00:14<00:00, 62.76batch/s, Batch Loss=5.02]\n"
     ]
    },
    {
     "name": "stdout",
     "output_type": "stream",
     "text": [
      "Epoch [13/1000], Training Loss: 5.1894, Accuracy: 0.2301\n"
     ]
    },
    {
     "name": "stderr",
     "output_type": "stream",
     "text": [
      "Epoch [14/1000]: 100%|██████████| 935/935 [00:15<00:00, 61.72batch/s, Batch Loss=4.63]\n"
     ]
    },
    {
     "name": "stdout",
     "output_type": "stream",
     "text": [
      "Epoch [14/1000], Training Loss: 5.0601, Accuracy: 0.2376\n"
     ]
    },
    {
     "name": "stderr",
     "output_type": "stream",
     "text": [
      "Epoch [15/1000]: 100%|██████████| 935/935 [00:15<00:00, 62.17batch/s, Batch Loss=5.64]\n"
     ]
    },
    {
     "name": "stdout",
     "output_type": "stream",
     "text": [
      "Epoch [15/1000], Training Loss: 4.9497, Accuracy: 0.2425\n"
     ]
    },
    {
     "name": "stderr",
     "output_type": "stream",
     "text": [
      "Epoch [16/1000]: 100%|██████████| 935/935 [00:15<00:00, 61.31batch/s, Batch Loss=5.05]\n"
     ]
    },
    {
     "name": "stdout",
     "output_type": "stream",
     "text": [
      "Epoch [16/1000], Training Loss: 4.8433, Accuracy: 0.2492\n"
     ]
    },
    {
     "name": "stderr",
     "output_type": "stream",
     "text": [
      "Epoch [17/1000]: 100%|██████████| 935/935 [00:15<00:00, 61.05batch/s, Batch Loss=4.97]\n"
     ]
    },
    {
     "name": "stdout",
     "output_type": "stream",
     "text": [
      "Epoch [17/1000], Training Loss: 4.7469, Accuracy: 0.2547\n"
     ]
    },
    {
     "name": "stderr",
     "output_type": "stream",
     "text": [
      "Epoch [18/1000]: 100%|██████████| 935/935 [00:15<00:00, 62.03batch/s, Batch Loss=4.69]\n"
     ]
    },
    {
     "name": "stdout",
     "output_type": "stream",
     "text": [
      "Epoch [18/1000], Training Loss: 4.6604, Accuracy: 0.2586\n"
     ]
    },
    {
     "name": "stderr",
     "output_type": "stream",
     "text": [
      "Epoch [19/1000]: 100%|██████████| 935/935 [00:15<00:00, 59.53batch/s, Batch Loss=5.06]\n"
     ]
    },
    {
     "name": "stdout",
     "output_type": "stream",
     "text": [
      "Epoch [19/1000], Training Loss: 4.5806, Accuracy: 0.2649\n"
     ]
    },
    {
     "name": "stderr",
     "output_type": "stream",
     "text": [
      "Epoch [20/1000]: 100%|██████████| 935/935 [00:15<00:00, 61.40batch/s, Batch Loss=4.88]\n"
     ]
    },
    {
     "name": "stdout",
     "output_type": "stream",
     "text": [
      "Epoch [20/1000], Training Loss: 4.5033, Accuracy: 0.2690\n"
     ]
    },
    {
     "name": "stderr",
     "output_type": "stream",
     "text": [
      "Epoch [21/1000]: 100%|██████████| 935/935 [00:15<00:00, 60.93batch/s, Batch Loss=4.52]\n"
     ]
    },
    {
     "name": "stdout",
     "output_type": "stream",
     "text": [
      "Epoch [21/1000], Training Loss: 4.4311, Accuracy: 0.2732\n"
     ]
    },
    {
     "name": "stderr",
     "output_type": "stream",
     "text": [
      "Epoch [22/1000]: 100%|██████████| 935/935 [00:15<00:00, 60.78batch/s, Batch Loss=4.32]\n"
     ]
    },
    {
     "name": "stdout",
     "output_type": "stream",
     "text": [
      "Epoch [22/1000], Training Loss: 4.3634, Accuracy: 0.2768\n"
     ]
    },
    {
     "name": "stderr",
     "output_type": "stream",
     "text": [
      "Epoch [23/1000]: 100%|██████████| 935/935 [00:15<00:00, 61.47batch/s, Batch Loss=4.47]\n"
     ]
    },
    {
     "name": "stdout",
     "output_type": "stream",
     "text": [
      "Epoch [23/1000], Training Loss: 4.2920, Accuracy: 0.2824\n"
     ]
    },
    {
     "name": "stderr",
     "output_type": "stream",
     "text": [
      "Epoch [24/1000]: 100%|██████████| 935/935 [00:15<00:00, 61.76batch/s, Batch Loss=4.76]\n"
     ]
    },
    {
     "name": "stdout",
     "output_type": "stream",
     "text": [
      "Epoch [24/1000], Training Loss: 4.2297, Accuracy: 0.2872\n"
     ]
    },
    {
     "name": "stderr",
     "output_type": "stream",
     "text": [
      "Epoch [25/1000]: 100%|██████████| 935/935 [00:15<00:00, 62.00batch/s, Batch Loss=3.89]\n"
     ]
    },
    {
     "name": "stdout",
     "output_type": "stream",
     "text": [
      "Epoch [25/1000], Training Loss: 4.1805, Accuracy: 0.2900\n"
     ]
    },
    {
     "name": "stderr",
     "output_type": "stream",
     "text": [
      "Epoch [26/1000]: 100%|██████████| 935/935 [00:15<00:00, 62.10batch/s, Batch Loss=4.07]\n"
     ]
    },
    {
     "name": "stdout",
     "output_type": "stream",
     "text": [
      "Epoch [26/1000], Training Loss: 4.1221, Accuracy: 0.2947\n"
     ]
    },
    {
     "name": "stderr",
     "output_type": "stream",
     "text": [
      "Epoch [27/1000]: 100%|██████████| 935/935 [00:15<00:00, 61.68batch/s, Batch Loss=4.03]\n"
     ]
    },
    {
     "name": "stdout",
     "output_type": "stream",
     "text": [
      "Epoch [27/1000], Training Loss: 4.0707, Accuracy: 0.2972\n"
     ]
    },
    {
     "name": "stderr",
     "output_type": "stream",
     "text": [
      "Epoch [28/1000]: 100%|██████████| 935/935 [00:15<00:00, 62.08batch/s, Batch Loss=4.33]\n"
     ]
    },
    {
     "name": "stdout",
     "output_type": "stream",
     "text": [
      "Epoch [28/1000], Training Loss: 4.0239, Accuracy: 0.3009\n"
     ]
    },
    {
     "name": "stderr",
     "output_type": "stream",
     "text": [
      "Epoch [29/1000]: 100%|██████████| 935/935 [00:15<00:00, 61.49batch/s, Batch Loss=4.28]\n"
     ]
    },
    {
     "name": "stdout",
     "output_type": "stream",
     "text": [
      "Epoch [29/1000], Training Loss: 3.9742, Accuracy: 0.3048\n"
     ]
    },
    {
     "name": "stderr",
     "output_type": "stream",
     "text": [
      "Epoch [30/1000]: 100%|██████████| 935/935 [00:15<00:00, 61.56batch/s, Batch Loss=4.23]\n"
     ]
    },
    {
     "name": "stdout",
     "output_type": "stream",
     "text": [
      "Epoch [30/1000], Training Loss: 3.9296, Accuracy: 0.3083\n"
     ]
    },
    {
     "name": "stderr",
     "output_type": "stream",
     "text": [
      "Epoch [31/1000]: 100%|██████████| 935/935 [00:15<00:00, 61.33batch/s, Batch Loss=4.47]\n"
     ]
    },
    {
     "name": "stdout",
     "output_type": "stream",
     "text": [
      "Epoch [31/1000], Training Loss: 3.8899, Accuracy: 0.3104\n"
     ]
    },
    {
     "name": "stderr",
     "output_type": "stream",
     "text": [
      "Epoch [32/1000]: 100%|██████████| 935/935 [00:15<00:00, 62.31batch/s, Batch Loss=3.97]\n"
     ]
    },
    {
     "name": "stdout",
     "output_type": "stream",
     "text": [
      "Epoch [32/1000], Training Loss: 3.8444, Accuracy: 0.3150\n"
     ]
    },
    {
     "name": "stderr",
     "output_type": "stream",
     "text": [
      "Epoch [33/1000]: 100%|██████████| 935/935 [00:14<00:00, 63.39batch/s, Batch Loss=4.25]\n"
     ]
    },
    {
     "name": "stdout",
     "output_type": "stream",
     "text": [
      "Epoch [33/1000], Training Loss: 3.8047, Accuracy: 0.3169\n"
     ]
    },
    {
     "name": "stderr",
     "output_type": "stream",
     "text": [
      "Epoch [34/1000]: 100%|██████████| 935/935 [00:14<00:00, 63.44batch/s, Batch Loss=4.28]\n"
     ]
    },
    {
     "name": "stdout",
     "output_type": "stream",
     "text": [
      "Epoch [34/1000], Training Loss: 3.7673, Accuracy: 0.3208\n"
     ]
    },
    {
     "name": "stderr",
     "output_type": "stream",
     "text": [
      "Epoch [35/1000]: 100%|██████████| 935/935 [00:14<00:00, 64.56batch/s, Batch Loss=3.69]\n"
     ]
    },
    {
     "name": "stdout",
     "output_type": "stream",
     "text": [
      "Epoch [35/1000], Training Loss: 3.7365, Accuracy: 0.3233\n"
     ]
    },
    {
     "name": "stderr",
     "output_type": "stream",
     "text": [
      "Epoch [36/1000]: 100%|██████████| 935/935 [00:14<00:00, 64.95batch/s, Batch Loss=3.9] \n"
     ]
    },
    {
     "name": "stdout",
     "output_type": "stream",
     "text": [
      "Epoch [36/1000], Training Loss: 3.6971, Accuracy: 0.3272\n"
     ]
    },
    {
     "name": "stderr",
     "output_type": "stream",
     "text": [
      "Epoch [37/1000]: 100%|██████████| 935/935 [00:14<00:00, 64.13batch/s, Batch Loss=3.98]\n"
     ]
    },
    {
     "name": "stdout",
     "output_type": "stream",
     "text": [
      "Epoch [37/1000], Training Loss: 3.6656, Accuracy: 0.3288\n"
     ]
    },
    {
     "name": "stderr",
     "output_type": "stream",
     "text": [
      "Epoch [38/1000]: 100%|██████████| 935/935 [00:14<00:00, 64.50batch/s, Batch Loss=3.86]\n"
     ]
    },
    {
     "name": "stdout",
     "output_type": "stream",
     "text": [
      "Epoch [38/1000], Training Loss: 3.6266, Accuracy: 0.3317\n"
     ]
    },
    {
     "name": "stderr",
     "output_type": "stream",
     "text": [
      "Epoch [39/1000]: 100%|██████████| 935/935 [00:14<00:00, 65.29batch/s, Batch Loss=3.47]\n"
     ]
    },
    {
     "name": "stdout",
     "output_type": "stream",
     "text": [
      "Epoch [39/1000], Training Loss: 3.6002, Accuracy: 0.3340\n"
     ]
    },
    {
     "name": "stderr",
     "output_type": "stream",
     "text": [
      "Epoch [40/1000]: 100%|██████████| 935/935 [00:14<00:00, 65.56batch/s, Batch Loss=4.09]\n"
     ]
    },
    {
     "name": "stdout",
     "output_type": "stream",
     "text": [
      "Epoch [40/1000], Training Loss: 3.5643, Accuracy: 0.3369\n"
     ]
    },
    {
     "name": "stderr",
     "output_type": "stream",
     "text": [
      "Epoch [41/1000]: 100%|██████████| 935/935 [00:14<00:00, 64.77batch/s, Batch Loss=3.85]\n"
     ]
    },
    {
     "name": "stdout",
     "output_type": "stream",
     "text": [
      "Epoch [41/1000], Training Loss: 3.5417, Accuracy: 0.3394\n"
     ]
    },
    {
     "name": "stderr",
     "output_type": "stream",
     "text": [
      "Epoch [42/1000]: 100%|██████████| 935/935 [00:14<00:00, 64.71batch/s, Batch Loss=3.56]\n"
     ]
    },
    {
     "name": "stdout",
     "output_type": "stream",
     "text": [
      "Epoch [42/1000], Training Loss: 3.5114, Accuracy: 0.3437\n"
     ]
    },
    {
     "name": "stderr",
     "output_type": "stream",
     "text": [
      "Epoch [43/1000]: 100%|██████████| 935/935 [00:14<00:00, 64.96batch/s, Batch Loss=3.8] \n"
     ]
    },
    {
     "name": "stdout",
     "output_type": "stream",
     "text": [
      "Epoch [43/1000], Training Loss: 3.4844, Accuracy: 0.3451\n"
     ]
    },
    {
     "name": "stderr",
     "output_type": "stream",
     "text": [
      "Epoch [44/1000]: 100%|██████████| 935/935 [00:14<00:00, 63.81batch/s, Batch Loss=3.8] \n"
     ]
    },
    {
     "name": "stdout",
     "output_type": "stream",
     "text": [
      "Epoch [44/1000], Training Loss: 3.4608, Accuracy: 0.3467\n"
     ]
    },
    {
     "name": "stderr",
     "output_type": "stream",
     "text": [
      "Epoch [45/1000]: 100%|██████████| 935/935 [00:14<00:00, 64.16batch/s, Batch Loss=3.48]\n"
     ]
    },
    {
     "name": "stdout",
     "output_type": "stream",
     "text": [
      "Epoch [45/1000], Training Loss: 3.4323, Accuracy: 0.3495\n"
     ]
    },
    {
     "name": "stderr",
     "output_type": "stream",
     "text": [
      "Epoch [46/1000]: 100%|██████████| 935/935 [00:14<00:00, 64.39batch/s, Batch Loss=3.76]\n"
     ]
    },
    {
     "name": "stdout",
     "output_type": "stream",
     "text": [
      "Epoch [46/1000], Training Loss: 3.3996, Accuracy: 0.3519\n"
     ]
    },
    {
     "name": "stderr",
     "output_type": "stream",
     "text": [
      "Epoch [47/1000]: 100%|██████████| 935/935 [00:14<00:00, 65.34batch/s, Batch Loss=3.92]\n"
     ]
    },
    {
     "name": "stdout",
     "output_type": "stream",
     "text": [
      "Epoch [47/1000], Training Loss: 3.3750, Accuracy: 0.3543\n"
     ]
    },
    {
     "name": "stderr",
     "output_type": "stream",
     "text": [
      "Epoch [48/1000]: 100%|██████████| 935/935 [00:14<00:00, 63.76batch/s, Batch Loss=3.82]\n"
     ]
    },
    {
     "name": "stdout",
     "output_type": "stream",
     "text": [
      "Epoch [48/1000], Training Loss: 3.3538, Accuracy: 0.3566\n"
     ]
    },
    {
     "name": "stderr",
     "output_type": "stream",
     "text": [
      "Epoch [49/1000]: 100%|██████████| 935/935 [00:14<00:00, 63.61batch/s, Batch Loss=3.27]\n"
     ]
    },
    {
     "name": "stdout",
     "output_type": "stream",
     "text": [
      "Epoch [49/1000], Training Loss: 3.3278, Accuracy: 0.3583\n"
     ]
    },
    {
     "name": "stderr",
     "output_type": "stream",
     "text": [
      "Epoch [50/1000]: 100%|██████████| 935/935 [00:14<00:00, 64.59batch/s, Batch Loss=3.72]\n"
     ]
    },
    {
     "name": "stdout",
     "output_type": "stream",
     "text": [
      "Epoch [50/1000], Training Loss: 3.3103, Accuracy: 0.3599\n",
      "\n",
      "Evaluating on validation set...\n"
     ]
    },
    {
     "name": "stderr",
     "output_type": "stream",
     "text": [
      "Evaluating HR & NDCG for multiple k: 100%|██████████| 201/201 [00:05<00:00, 39.64it/s]\n"
     ]
    },
    {
     "name": "stdout",
     "output_type": "stream",
     "text": [
      "Validation HR@5: 0.3869, NDCG@5: 0.3193\n",
      "Validation HR@10: 0.4347, NDCG@10: 0.3348\n",
      "Validation HR@20: 0.4781, NDCG@20: 0.3458\n",
      "Model saved at 'uet4rec_model_epoch_50.pth'\n"
     ]
    },
    {
     "name": "stderr",
     "output_type": "stream",
     "text": [
      "Epoch [51/1000]: 100%|██████████| 935/935 [00:14<00:00, 64.90batch/s, Batch Loss=3.66]\n"
     ]
    },
    {
     "name": "stdout",
     "output_type": "stream",
     "text": [
      "Epoch [51/1000], Training Loss: 3.2909, Accuracy: 0.3627\n"
     ]
    },
    {
     "name": "stderr",
     "output_type": "stream",
     "text": [
      "Epoch [52/1000]: 100%|██████████| 935/935 [00:14<00:00, 64.41batch/s, Batch Loss=3.36]\n"
     ]
    },
    {
     "name": "stdout",
     "output_type": "stream",
     "text": [
      "Epoch [52/1000], Training Loss: 3.2650, Accuracy: 0.3655\n"
     ]
    },
    {
     "name": "stderr",
     "output_type": "stream",
     "text": [
      "Epoch [53/1000]: 100%|██████████| 935/935 [00:14<00:00, 64.46batch/s, Batch Loss=3.4] \n"
     ]
    },
    {
     "name": "stdout",
     "output_type": "stream",
     "text": [
      "Epoch [53/1000], Training Loss: 3.2433, Accuracy: 0.3680\n"
     ]
    },
    {
     "name": "stderr",
     "output_type": "stream",
     "text": [
      "Epoch [54/1000]: 100%|██████████| 935/935 [00:14<00:00, 64.63batch/s, Batch Loss=3.53]\n"
     ]
    },
    {
     "name": "stdout",
     "output_type": "stream",
     "text": [
      "Epoch [54/1000], Training Loss: 3.2247, Accuracy: 0.3698\n"
     ]
    },
    {
     "name": "stderr",
     "output_type": "stream",
     "text": [
      "Epoch [55/1000]: 100%|██████████| 935/935 [00:14<00:00, 64.86batch/s, Batch Loss=3.6] \n"
     ]
    },
    {
     "name": "stdout",
     "output_type": "stream",
     "text": [
      "Epoch [55/1000], Training Loss: 3.2069, Accuracy: 0.3715\n"
     ]
    },
    {
     "name": "stderr",
     "output_type": "stream",
     "text": [
      "Epoch [56/1000]: 100%|██████████| 935/935 [00:14<00:00, 64.78batch/s, Batch Loss=3.26]\n"
     ]
    },
    {
     "name": "stdout",
     "output_type": "stream",
     "text": [
      "Epoch [56/1000], Training Loss: 3.1863, Accuracy: 0.3729\n"
     ]
    },
    {
     "name": "stderr",
     "output_type": "stream",
     "text": [
      "Epoch [57/1000]: 100%|██████████| 935/935 [00:14<00:00, 64.94batch/s, Batch Loss=3.21]\n"
     ]
    },
    {
     "name": "stdout",
     "output_type": "stream",
     "text": [
      "Epoch [57/1000], Training Loss: 3.1636, Accuracy: 0.3754\n"
     ]
    },
    {
     "name": "stderr",
     "output_type": "stream",
     "text": [
      "Epoch [58/1000]: 100%|██████████| 935/935 [00:14<00:00, 65.19batch/s, Batch Loss=3.23]\n"
     ]
    },
    {
     "name": "stdout",
     "output_type": "stream",
     "text": [
      "Epoch [58/1000], Training Loss: 3.1478, Accuracy: 0.3769\n"
     ]
    },
    {
     "name": "stderr",
     "output_type": "stream",
     "text": [
      "Epoch [59/1000]: 100%|██████████| 935/935 [00:14<00:00, 63.99batch/s, Batch Loss=3.2] \n"
     ]
    },
    {
     "name": "stdout",
     "output_type": "stream",
     "text": [
      "Epoch [59/1000], Training Loss: 3.1250, Accuracy: 0.3796\n"
     ]
    },
    {
     "name": "stderr",
     "output_type": "stream",
     "text": [
      "Epoch [60/1000]: 100%|██████████| 935/935 [00:14<00:00, 64.82batch/s, Batch Loss=3.31]\n"
     ]
    },
    {
     "name": "stdout",
     "output_type": "stream",
     "text": [
      "Epoch [60/1000], Training Loss: 3.1056, Accuracy: 0.3814\n"
     ]
    },
    {
     "name": "stderr",
     "output_type": "stream",
     "text": [
      "Epoch [61/1000]: 100%|██████████| 935/935 [00:14<00:00, 65.39batch/s, Batch Loss=3.2] \n"
     ]
    },
    {
     "name": "stdout",
     "output_type": "stream",
     "text": [
      "Epoch [61/1000], Training Loss: 3.0889, Accuracy: 0.3841\n"
     ]
    },
    {
     "name": "stderr",
     "output_type": "stream",
     "text": [
      "Epoch [62/1000]: 100%|██████████| 935/935 [00:14<00:00, 64.92batch/s, Batch Loss=3.08]\n"
     ]
    },
    {
     "name": "stdout",
     "output_type": "stream",
     "text": [
      "Epoch [62/1000], Training Loss: 3.0770, Accuracy: 0.3848\n"
     ]
    },
    {
     "name": "stderr",
     "output_type": "stream",
     "text": [
      "Epoch [63/1000]: 100%|██████████| 935/935 [00:14<00:00, 64.29batch/s, Batch Loss=3.43]\n"
     ]
    },
    {
     "name": "stdout",
     "output_type": "stream",
     "text": [
      "Epoch [63/1000], Training Loss: 3.0637, Accuracy: 0.3867\n"
     ]
    },
    {
     "name": "stderr",
     "output_type": "stream",
     "text": [
      "Epoch [64/1000]: 100%|██████████| 935/935 [00:14<00:00, 64.01batch/s, Batch Loss=3.36]\n"
     ]
    },
    {
     "name": "stdout",
     "output_type": "stream",
     "text": [
      "Epoch [64/1000], Training Loss: 3.0439, Accuracy: 0.3881\n"
     ]
    },
    {
     "name": "stderr",
     "output_type": "stream",
     "text": [
      "Epoch [65/1000]: 100%|██████████| 935/935 [00:14<00:00, 64.68batch/s, Batch Loss=3.16]\n"
     ]
    },
    {
     "name": "stdout",
     "output_type": "stream",
     "text": [
      "Epoch [65/1000], Training Loss: 3.0212, Accuracy: 0.3911\n"
     ]
    },
    {
     "name": "stderr",
     "output_type": "stream",
     "text": [
      "Epoch [66/1000]: 100%|██████████| 935/935 [00:14<00:00, 63.59batch/s, Batch Loss=3.14]\n"
     ]
    },
    {
     "name": "stdout",
     "output_type": "stream",
     "text": [
      "Epoch [66/1000], Training Loss: 3.0078, Accuracy: 0.3920\n"
     ]
    },
    {
     "name": "stderr",
     "output_type": "stream",
     "text": [
      "Epoch [67/1000]: 100%|██████████| 935/935 [00:14<00:00, 64.67batch/s, Batch Loss=3.05]\n"
     ]
    },
    {
     "name": "stdout",
     "output_type": "stream",
     "text": [
      "Epoch [67/1000], Training Loss: 2.9909, Accuracy: 0.3946\n"
     ]
    },
    {
     "name": "stderr",
     "output_type": "stream",
     "text": [
      "Epoch [68/1000]: 100%|██████████| 935/935 [00:14<00:00, 64.31batch/s, Batch Loss=3]   \n"
     ]
    },
    {
     "name": "stdout",
     "output_type": "stream",
     "text": [
      "Epoch [68/1000], Training Loss: 2.9754, Accuracy: 0.3958\n"
     ]
    },
    {
     "name": "stderr",
     "output_type": "stream",
     "text": [
      "Epoch [69/1000]: 100%|██████████| 935/935 [00:14<00:00, 64.02batch/s, Batch Loss=3.15]\n"
     ]
    },
    {
     "name": "stdout",
     "output_type": "stream",
     "text": [
      "Epoch [69/1000], Training Loss: 2.9701, Accuracy: 0.3962\n"
     ]
    },
    {
     "name": "stderr",
     "output_type": "stream",
     "text": [
      "Epoch [70/1000]: 100%|██████████| 935/935 [00:14<00:00, 64.09batch/s, Batch Loss=3.17]\n"
     ]
    },
    {
     "name": "stdout",
     "output_type": "stream",
     "text": [
      "Epoch [70/1000], Training Loss: 2.9453, Accuracy: 0.4003\n"
     ]
    },
    {
     "name": "stderr",
     "output_type": "stream",
     "text": [
      "Epoch [71/1000]: 100%|██████████| 935/935 [00:14<00:00, 63.64batch/s, Batch Loss=2.99]\n"
     ]
    },
    {
     "name": "stdout",
     "output_type": "stream",
     "text": [
      "Epoch [71/1000], Training Loss: 2.9295, Accuracy: 0.4022\n"
     ]
    },
    {
     "name": "stderr",
     "output_type": "stream",
     "text": [
      "Epoch [72/1000]: 100%|██████████| 935/935 [00:14<00:00, 64.46batch/s, Batch Loss=2.91]\n"
     ]
    },
    {
     "name": "stdout",
     "output_type": "stream",
     "text": [
      "Epoch [72/1000], Training Loss: 2.9146, Accuracy: 0.4029\n"
     ]
    },
    {
     "name": "stderr",
     "output_type": "stream",
     "text": [
      "Epoch [73/1000]: 100%|██████████| 935/935 [00:14<00:00, 64.36batch/s, Batch Loss=2.75]\n"
     ]
    },
    {
     "name": "stdout",
     "output_type": "stream",
     "text": [
      "Epoch [73/1000], Training Loss: 2.9026, Accuracy: 0.4039\n"
     ]
    },
    {
     "name": "stderr",
     "output_type": "stream",
     "text": [
      "Epoch [74/1000]: 100%|██████████| 935/935 [00:14<00:00, 63.51batch/s, Batch Loss=3.17]\n"
     ]
    },
    {
     "name": "stdout",
     "output_type": "stream",
     "text": [
      "Epoch [74/1000], Training Loss: 2.8926, Accuracy: 0.4061\n"
     ]
    },
    {
     "name": "stderr",
     "output_type": "stream",
     "text": [
      "Epoch [75/1000]: 100%|██████████| 935/935 [00:14<00:00, 63.53batch/s, Batch Loss=2.89]\n"
     ]
    },
    {
     "name": "stdout",
     "output_type": "stream",
     "text": [
      "Epoch [75/1000], Training Loss: 2.8724, Accuracy: 0.4084\n"
     ]
    },
    {
     "name": "stderr",
     "output_type": "stream",
     "text": [
      "Epoch [76/1000]: 100%|██████████| 935/935 [00:14<00:00, 64.12batch/s, Batch Loss=2.94]\n"
     ]
    },
    {
     "name": "stdout",
     "output_type": "stream",
     "text": [
      "Epoch [76/1000], Training Loss: 2.8566, Accuracy: 0.4096\n"
     ]
    },
    {
     "name": "stderr",
     "output_type": "stream",
     "text": [
      "Epoch [77/1000]: 100%|██████████| 935/935 [00:14<00:00, 64.07batch/s, Batch Loss=3.35]\n"
     ]
    },
    {
     "name": "stdout",
     "output_type": "stream",
     "text": [
      "Epoch [77/1000], Training Loss: 2.8453, Accuracy: 0.4110\n"
     ]
    },
    {
     "name": "stderr",
     "output_type": "stream",
     "text": [
      "Epoch [78/1000]: 100%|██████████| 935/935 [00:14<00:00, 64.24batch/s, Batch Loss=2.92]\n"
     ]
    },
    {
     "name": "stdout",
     "output_type": "stream",
     "text": [
      "Epoch [78/1000], Training Loss: 2.8390, Accuracy: 0.4121\n"
     ]
    },
    {
     "name": "stderr",
     "output_type": "stream",
     "text": [
      "Epoch [79/1000]: 100%|██████████| 935/935 [00:14<00:00, 64.45batch/s, Batch Loss=3.18]\n"
     ]
    },
    {
     "name": "stdout",
     "output_type": "stream",
     "text": [
      "Epoch [79/1000], Training Loss: 2.8222, Accuracy: 0.4132\n"
     ]
    },
    {
     "name": "stderr",
     "output_type": "stream",
     "text": [
      "Epoch [80/1000]: 100%|██████████| 935/935 [00:14<00:00, 64.61batch/s, Batch Loss=2.83]\n"
     ]
    },
    {
     "name": "stdout",
     "output_type": "stream",
     "text": [
      "Epoch [80/1000], Training Loss: 2.8074, Accuracy: 0.4154\n"
     ]
    },
    {
     "name": "stderr",
     "output_type": "stream",
     "text": [
      "Epoch [81/1000]: 100%|██████████| 935/935 [00:14<00:00, 63.84batch/s, Batch Loss=2.75]\n"
     ]
    },
    {
     "name": "stdout",
     "output_type": "stream",
     "text": [
      "Epoch [81/1000], Training Loss: 2.7987, Accuracy: 0.4163\n"
     ]
    },
    {
     "name": "stderr",
     "output_type": "stream",
     "text": [
      "Epoch [82/1000]: 100%|██████████| 935/935 [00:14<00:00, 63.95batch/s, Batch Loss=3.1] \n"
     ]
    },
    {
     "name": "stdout",
     "output_type": "stream",
     "text": [
      "Epoch [82/1000], Training Loss: 2.7842, Accuracy: 0.4182\n"
     ]
    },
    {
     "name": "stderr",
     "output_type": "stream",
     "text": [
      "Epoch [83/1000]: 100%|██████████| 935/935 [00:14<00:00, 64.58batch/s, Batch Loss=3.11]\n"
     ]
    },
    {
     "name": "stdout",
     "output_type": "stream",
     "text": [
      "Epoch [83/1000], Training Loss: 2.7698, Accuracy: 0.4212\n"
     ]
    },
    {
     "name": "stderr",
     "output_type": "stream",
     "text": [
      "Epoch [84/1000]: 100%|██████████| 935/935 [00:14<00:00, 63.06batch/s, Batch Loss=3.01]\n"
     ]
    },
    {
     "name": "stdout",
     "output_type": "stream",
     "text": [
      "Epoch [84/1000], Training Loss: 2.7630, Accuracy: 0.4206\n"
     ]
    },
    {
     "name": "stderr",
     "output_type": "stream",
     "text": [
      "Epoch [85/1000]: 100%|██████████| 935/935 [00:14<00:00, 62.75batch/s, Batch Loss=3.01]\n"
     ]
    },
    {
     "name": "stdout",
     "output_type": "stream",
     "text": [
      "Epoch [85/1000], Training Loss: 2.7464, Accuracy: 0.4224\n"
     ]
    },
    {
     "name": "stderr",
     "output_type": "stream",
     "text": [
      "Epoch [86/1000]: 100%|██████████| 935/935 [00:14<00:00, 63.95batch/s, Batch Loss=3.03]\n"
     ]
    },
    {
     "name": "stdout",
     "output_type": "stream",
     "text": [
      "Epoch [86/1000], Training Loss: 2.7343, Accuracy: 0.4249\n"
     ]
    },
    {
     "name": "stderr",
     "output_type": "stream",
     "text": [
      "Epoch [87/1000]: 100%|██████████| 935/935 [00:14<00:00, 65.03batch/s, Batch Loss=2.86]\n"
     ]
    },
    {
     "name": "stdout",
     "output_type": "stream",
     "text": [
      "Epoch [87/1000], Training Loss: 2.7209, Accuracy: 0.4267\n"
     ]
    },
    {
     "name": "stderr",
     "output_type": "stream",
     "text": [
      "Epoch [88/1000]: 100%|██████████| 935/935 [00:14<00:00, 63.32batch/s, Batch Loss=3.25]\n"
     ]
    },
    {
     "name": "stdout",
     "output_type": "stream",
     "text": [
      "Epoch [88/1000], Training Loss: 2.7159, Accuracy: 0.4265\n"
     ]
    },
    {
     "name": "stderr",
     "output_type": "stream",
     "text": [
      "Epoch [89/1000]: 100%|██████████| 935/935 [00:14<00:00, 64.31batch/s, Batch Loss=2.72]\n"
     ]
    },
    {
     "name": "stdout",
     "output_type": "stream",
     "text": [
      "Epoch [89/1000], Training Loss: 2.7005, Accuracy: 0.4284\n"
     ]
    },
    {
     "name": "stderr",
     "output_type": "stream",
     "text": [
      "Epoch [90/1000]: 100%|██████████| 935/935 [00:14<00:00, 64.54batch/s, Batch Loss=2.88]\n"
     ]
    },
    {
     "name": "stdout",
     "output_type": "stream",
     "text": [
      "Epoch [90/1000], Training Loss: 2.6960, Accuracy: 0.4294\n"
     ]
    },
    {
     "name": "stderr",
     "output_type": "stream",
     "text": [
      "Epoch [91/1000]: 100%|██████████| 935/935 [00:14<00:00, 64.89batch/s, Batch Loss=2.89]\n"
     ]
    },
    {
     "name": "stdout",
     "output_type": "stream",
     "text": [
      "Epoch [91/1000], Training Loss: 2.6822, Accuracy: 0.4297\n"
     ]
    },
    {
     "name": "stderr",
     "output_type": "stream",
     "text": [
      "Epoch [92/1000]: 100%|██████████| 935/935 [00:14<00:00, 64.52batch/s, Batch Loss=2.96]\n"
     ]
    },
    {
     "name": "stdout",
     "output_type": "stream",
     "text": [
      "Epoch [92/1000], Training Loss: 2.6718, Accuracy: 0.4325\n"
     ]
    },
    {
     "name": "stderr",
     "output_type": "stream",
     "text": [
      "Epoch [93/1000]: 100%|██████████| 935/935 [00:14<00:00, 64.36batch/s, Batch Loss=3.05]\n"
     ]
    },
    {
     "name": "stdout",
     "output_type": "stream",
     "text": [
      "Epoch [93/1000], Training Loss: 2.6588, Accuracy: 0.4331\n"
     ]
    },
    {
     "name": "stderr",
     "output_type": "stream",
     "text": [
      "Epoch [94/1000]: 100%|██████████| 935/935 [00:14<00:00, 65.02batch/s, Batch Loss=2.7] \n"
     ]
    },
    {
     "name": "stdout",
     "output_type": "stream",
     "text": [
      "Epoch [94/1000], Training Loss: 2.6470, Accuracy: 0.4339\n"
     ]
    },
    {
     "name": "stderr",
     "output_type": "stream",
     "text": [
      "Epoch [95/1000]: 100%|██████████| 935/935 [00:14<00:00, 64.34batch/s, Batch Loss=2.59]\n"
     ]
    },
    {
     "name": "stdout",
     "output_type": "stream",
     "text": [
      "Epoch [95/1000], Training Loss: 2.6316, Accuracy: 0.4386\n"
     ]
    },
    {
     "name": "stderr",
     "output_type": "stream",
     "text": [
      "Epoch [96/1000]: 100%|██████████| 935/935 [00:14<00:00, 63.54batch/s, Batch Loss=2.94]\n"
     ]
    },
    {
     "name": "stdout",
     "output_type": "stream",
     "text": [
      "Epoch [96/1000], Training Loss: 2.6267, Accuracy: 0.4392\n"
     ]
    },
    {
     "name": "stderr",
     "output_type": "stream",
     "text": [
      "Epoch [97/1000]: 100%|██████████| 935/935 [00:14<00:00, 63.83batch/s, Batch Loss=2.85]\n"
     ]
    },
    {
     "name": "stdout",
     "output_type": "stream",
     "text": [
      "Epoch [97/1000], Training Loss: 2.6192, Accuracy: 0.4407\n"
     ]
    },
    {
     "name": "stderr",
     "output_type": "stream",
     "text": [
      "Epoch [98/1000]: 100%|██████████| 935/935 [00:14<00:00, 64.14batch/s, Batch Loss=3.14]\n"
     ]
    },
    {
     "name": "stdout",
     "output_type": "stream",
     "text": [
      "Epoch [98/1000], Training Loss: 2.6035, Accuracy: 0.4415\n"
     ]
    },
    {
     "name": "stderr",
     "output_type": "stream",
     "text": [
      "Epoch [99/1000]: 100%|██████████| 935/935 [00:14<00:00, 63.59batch/s, Batch Loss=2.88]\n"
     ]
    },
    {
     "name": "stdout",
     "output_type": "stream",
     "text": [
      "Epoch [99/1000], Training Loss: 2.6000, Accuracy: 0.4422\n"
     ]
    },
    {
     "name": "stderr",
     "output_type": "stream",
     "text": [
      "Epoch [100/1000]: 100%|██████████| 935/935 [00:15<00:00, 62.30batch/s, Batch Loss=2.82]\n"
     ]
    },
    {
     "name": "stdout",
     "output_type": "stream",
     "text": [
      "Epoch [100/1000], Training Loss: 2.5851, Accuracy: 0.4441\n",
      "\n",
      "Evaluating on validation set...\n"
     ]
    },
    {
     "name": "stderr",
     "output_type": "stream",
     "text": [
      "Evaluating HR & NDCG for multiple k: 100%|██████████| 201/201 [00:05<00:00, 39.10it/s]\n"
     ]
    },
    {
     "name": "stdout",
     "output_type": "stream",
     "text": [
      "Validation HR@5: 0.3866, NDCG@5: 0.3181\n",
      "Validation HR@10: 0.4329, NDCG@10: 0.3331\n",
      "Validation HR@20: 0.4738, NDCG@20: 0.3435\n",
      "Model saved at 'uet4rec_model_epoch_100.pth'\n"
     ]
    },
    {
     "name": "stderr",
     "output_type": "stream",
     "text": [
      "Epoch [101/1000]: 100%|██████████| 935/935 [00:14<00:00, 64.05batch/s, Batch Loss=2.83]\n"
     ]
    },
    {
     "name": "stdout",
     "output_type": "stream",
     "text": [
      "Epoch [101/1000], Training Loss: 2.5801, Accuracy: 0.4450\n"
     ]
    },
    {
     "name": "stderr",
     "output_type": "stream",
     "text": [
      "Epoch [102/1000]: 100%|██████████| 935/935 [00:14<00:00, 65.09batch/s, Batch Loss=2.71]\n"
     ]
    },
    {
     "name": "stdout",
     "output_type": "stream",
     "text": [
      "Epoch [102/1000], Training Loss: 2.5681, Accuracy: 0.4454\n"
     ]
    },
    {
     "name": "stderr",
     "output_type": "stream",
     "text": [
      "Epoch [103/1000]: 100%|██████████| 935/935 [00:14<00:00, 63.78batch/s, Batch Loss=2.54]\n"
     ]
    },
    {
     "name": "stdout",
     "output_type": "stream",
     "text": [
      "Epoch [103/1000], Training Loss: 2.5593, Accuracy: 0.4478\n"
     ]
    },
    {
     "name": "stderr",
     "output_type": "stream",
     "text": [
      "Epoch [104/1000]: 100%|██████████| 935/935 [00:14<00:00, 64.43batch/s, Batch Loss=2.65]\n"
     ]
    },
    {
     "name": "stdout",
     "output_type": "stream",
     "text": [
      "Epoch [104/1000], Training Loss: 2.5540, Accuracy: 0.4476\n"
     ]
    },
    {
     "name": "stderr",
     "output_type": "stream",
     "text": [
      "Epoch [105/1000]: 100%|██████████| 935/935 [00:14<00:00, 64.61batch/s, Batch Loss=2.72]\n"
     ]
    },
    {
     "name": "stdout",
     "output_type": "stream",
     "text": [
      "Epoch [105/1000], Training Loss: 2.5354, Accuracy: 0.4498\n"
     ]
    },
    {
     "name": "stderr",
     "output_type": "stream",
     "text": [
      "Epoch [106/1000]: 100%|██████████| 935/935 [00:14<00:00, 64.40batch/s, Batch Loss=2.68]\n"
     ]
    },
    {
     "name": "stdout",
     "output_type": "stream",
     "text": [
      "Epoch [106/1000], Training Loss: 2.5268, Accuracy: 0.4499\n"
     ]
    },
    {
     "name": "stderr",
     "output_type": "stream",
     "text": [
      "Epoch [107/1000]: 100%|██████████| 935/935 [00:14<00:00, 64.56batch/s, Batch Loss=2.64]\n"
     ]
    },
    {
     "name": "stdout",
     "output_type": "stream",
     "text": [
      "Epoch [107/1000], Training Loss: 2.5200, Accuracy: 0.4523\n"
     ]
    },
    {
     "name": "stderr",
     "output_type": "stream",
     "text": [
      "Epoch [108/1000]: 100%|██████████| 935/935 [00:14<00:00, 64.17batch/s, Batch Loss=2.53]\n"
     ]
    },
    {
     "name": "stdout",
     "output_type": "stream",
     "text": [
      "Epoch [108/1000], Training Loss: 2.5173, Accuracy: 0.4542\n"
     ]
    },
    {
     "name": "stderr",
     "output_type": "stream",
     "text": [
      "Epoch [109/1000]: 100%|██████████| 935/935 [00:14<00:00, 63.63batch/s, Batch Loss=2.87]\n"
     ]
    },
    {
     "name": "stdout",
     "output_type": "stream",
     "text": [
      "Epoch [109/1000], Training Loss: 2.5025, Accuracy: 0.4560\n"
     ]
    },
    {
     "name": "stderr",
     "output_type": "stream",
     "text": [
      "Epoch [110/1000]: 100%|██████████| 935/935 [00:14<00:00, 63.15batch/s, Batch Loss=2.74]\n"
     ]
    },
    {
     "name": "stdout",
     "output_type": "stream",
     "text": [
      "Epoch [110/1000], Training Loss: 2.4922, Accuracy: 0.4563\n"
     ]
    },
    {
     "name": "stderr",
     "output_type": "stream",
     "text": [
      "Epoch [111/1000]: 100%|██████████| 935/935 [00:14<00:00, 63.66batch/s, Batch Loss=2.56]\n"
     ]
    },
    {
     "name": "stdout",
     "output_type": "stream",
     "text": [
      "Epoch [111/1000], Training Loss: 2.4846, Accuracy: 0.4572\n"
     ]
    },
    {
     "name": "stderr",
     "output_type": "stream",
     "text": [
      "Epoch [112/1000]: 100%|██████████| 935/935 [00:14<00:00, 64.35batch/s, Batch Loss=2.64]\n"
     ]
    },
    {
     "name": "stdout",
     "output_type": "stream",
     "text": [
      "Epoch [112/1000], Training Loss: 2.4779, Accuracy: 0.4585\n"
     ]
    },
    {
     "name": "stderr",
     "output_type": "stream",
     "text": [
      "Epoch [113/1000]: 100%|██████████| 935/935 [00:14<00:00, 64.22batch/s, Batch Loss=2.85]\n"
     ]
    },
    {
     "name": "stdout",
     "output_type": "stream",
     "text": [
      "Epoch [113/1000], Training Loss: 2.4656, Accuracy: 0.4600\n"
     ]
    },
    {
     "name": "stderr",
     "output_type": "stream",
     "text": [
      "Epoch [114/1000]: 100%|██████████| 935/935 [00:14<00:00, 63.96batch/s, Batch Loss=2.66]\n"
     ]
    },
    {
     "name": "stdout",
     "output_type": "stream",
     "text": [
      "Epoch [114/1000], Training Loss: 2.4543, Accuracy: 0.4618\n"
     ]
    },
    {
     "name": "stderr",
     "output_type": "stream",
     "text": [
      "Epoch [115/1000]: 100%|██████████| 935/935 [00:14<00:00, 64.24batch/s, Batch Loss=2.67]\n"
     ]
    },
    {
     "name": "stdout",
     "output_type": "stream",
     "text": [
      "Epoch [115/1000], Training Loss: 2.4500, Accuracy: 0.4630\n"
     ]
    },
    {
     "name": "stderr",
     "output_type": "stream",
     "text": [
      "Epoch [116/1000]: 100%|██████████| 935/935 [00:14<00:00, 64.63batch/s, Batch Loss=2.81]\n"
     ]
    },
    {
     "name": "stdout",
     "output_type": "stream",
     "text": [
      "Epoch [116/1000], Training Loss: 2.4450, Accuracy: 0.4641\n"
     ]
    },
    {
     "name": "stderr",
     "output_type": "stream",
     "text": [
      "Epoch [117/1000]: 100%|██████████| 935/935 [00:14<00:00, 64.34batch/s, Batch Loss=2.62]\n"
     ]
    },
    {
     "name": "stdout",
     "output_type": "stream",
     "text": [
      "Epoch [117/1000], Training Loss: 2.4367, Accuracy: 0.4632\n"
     ]
    },
    {
     "name": "stderr",
     "output_type": "stream",
     "text": [
      "Epoch [118/1000]: 100%|██████████| 935/935 [00:14<00:00, 63.98batch/s, Batch Loss=2.47]\n"
     ]
    },
    {
     "name": "stdout",
     "output_type": "stream",
     "text": [
      "Epoch [118/1000], Training Loss: 2.4237, Accuracy: 0.4659\n"
     ]
    },
    {
     "name": "stderr",
     "output_type": "stream",
     "text": [
      "Epoch [119/1000]: 100%|██████████| 935/935 [00:14<00:00, 63.03batch/s, Batch Loss=2.39]\n"
     ]
    },
    {
     "name": "stdout",
     "output_type": "stream",
     "text": [
      "Epoch [119/1000], Training Loss: 2.4189, Accuracy: 0.4667\n"
     ]
    },
    {
     "name": "stderr",
     "output_type": "stream",
     "text": [
      "Epoch [120/1000]: 100%|██████████| 935/935 [00:14<00:00, 63.58batch/s, Batch Loss=2.54]\n"
     ]
    },
    {
     "name": "stdout",
     "output_type": "stream",
     "text": [
      "Epoch [120/1000], Training Loss: 2.4067, Accuracy: 0.4678\n"
     ]
    },
    {
     "name": "stderr",
     "output_type": "stream",
     "text": [
      "Epoch [121/1000]: 100%|██████████| 935/935 [00:14<00:00, 63.48batch/s, Batch Loss=2.55]\n"
     ]
    },
    {
     "name": "stdout",
     "output_type": "stream",
     "text": [
      "Epoch [121/1000], Training Loss: 2.4016, Accuracy: 0.4697\n"
     ]
    },
    {
     "name": "stderr",
     "output_type": "stream",
     "text": [
      "Epoch [122/1000]: 100%|██████████| 935/935 [00:14<00:00, 63.71batch/s, Batch Loss=2.7] \n"
     ]
    },
    {
     "name": "stdout",
     "output_type": "stream",
     "text": [
      "Epoch [122/1000], Training Loss: 2.3932, Accuracy: 0.4700\n"
     ]
    },
    {
     "name": "stderr",
     "output_type": "stream",
     "text": [
      "Epoch [123/1000]: 100%|██████████| 935/935 [00:14<00:00, 62.67batch/s, Batch Loss=2.54]\n"
     ]
    },
    {
     "name": "stdout",
     "output_type": "stream",
     "text": [
      "Epoch [123/1000], Training Loss: 2.3835, Accuracy: 0.4716\n"
     ]
    },
    {
     "name": "stderr",
     "output_type": "stream",
     "text": [
      "Epoch [124/1000]: 100%|██████████| 935/935 [00:14<00:00, 64.20batch/s, Batch Loss=2.63]\n"
     ]
    },
    {
     "name": "stdout",
     "output_type": "stream",
     "text": [
      "Epoch [124/1000], Training Loss: 2.3769, Accuracy: 0.4740\n"
     ]
    },
    {
     "name": "stderr",
     "output_type": "stream",
     "text": [
      "Epoch [125/1000]: 100%|██████████| 935/935 [00:14<00:00, 64.61batch/s, Batch Loss=2.45]\n"
     ]
    },
    {
     "name": "stdout",
     "output_type": "stream",
     "text": [
      "Epoch [125/1000], Training Loss: 2.3704, Accuracy: 0.4743\n"
     ]
    },
    {
     "name": "stderr",
     "output_type": "stream",
     "text": [
      "Epoch [126/1000]: 100%|██████████| 935/935 [00:14<00:00, 64.39batch/s, Batch Loss=2.49]\n"
     ]
    },
    {
     "name": "stdout",
     "output_type": "stream",
     "text": [
      "Epoch [126/1000], Training Loss: 2.3592, Accuracy: 0.4762\n"
     ]
    },
    {
     "name": "stderr",
     "output_type": "stream",
     "text": [
      "Epoch [127/1000]: 100%|██████████| 935/935 [00:14<00:00, 65.31batch/s, Batch Loss=2.85]\n"
     ]
    },
    {
     "name": "stdout",
     "output_type": "stream",
     "text": [
      "Epoch [127/1000], Training Loss: 2.3533, Accuracy: 0.4768\n"
     ]
    },
    {
     "name": "stderr",
     "output_type": "stream",
     "text": [
      "Epoch [128/1000]: 100%|██████████| 935/935 [00:14<00:00, 64.32batch/s, Batch Loss=2.52]\n"
     ]
    },
    {
     "name": "stdout",
     "output_type": "stream",
     "text": [
      "Epoch [128/1000], Training Loss: 2.3445, Accuracy: 0.4783\n"
     ]
    },
    {
     "name": "stderr",
     "output_type": "stream",
     "text": [
      "Epoch [129/1000]: 100%|██████████| 935/935 [00:14<00:00, 64.77batch/s, Batch Loss=2.64]\n"
     ]
    },
    {
     "name": "stdout",
     "output_type": "stream",
     "text": [
      "Epoch [129/1000], Training Loss: 2.3371, Accuracy: 0.4779\n"
     ]
    },
    {
     "name": "stderr",
     "output_type": "stream",
     "text": [
      "Epoch [130/1000]: 100%|██████████| 935/935 [00:14<00:00, 64.84batch/s, Batch Loss=2.49]\n"
     ]
    },
    {
     "name": "stdout",
     "output_type": "stream",
     "text": [
      "Epoch [130/1000], Training Loss: 2.3297, Accuracy: 0.4805\n"
     ]
    },
    {
     "name": "stderr",
     "output_type": "stream",
     "text": [
      "Epoch [131/1000]: 100%|██████████| 935/935 [00:14<00:00, 64.32batch/s, Batch Loss=2.76]\n"
     ]
    },
    {
     "name": "stdout",
     "output_type": "stream",
     "text": [
      "Epoch [131/1000], Training Loss: 2.3288, Accuracy: 0.4802\n"
     ]
    },
    {
     "name": "stderr",
     "output_type": "stream",
     "text": [
      "Epoch [132/1000]: 100%|██████████| 935/935 [00:14<00:00, 64.52batch/s, Batch Loss=2.56]\n"
     ]
    },
    {
     "name": "stdout",
     "output_type": "stream",
     "text": [
      "Epoch [132/1000], Training Loss: 2.3172, Accuracy: 0.4822\n"
     ]
    },
    {
     "name": "stderr",
     "output_type": "stream",
     "text": [
      "Epoch [133/1000]: 100%|██████████| 935/935 [00:14<00:00, 64.56batch/s, Batch Loss=2.37]\n"
     ]
    },
    {
     "name": "stdout",
     "output_type": "stream",
     "text": [
      "Epoch [133/1000], Training Loss: 2.3130, Accuracy: 0.4812\n"
     ]
    },
    {
     "name": "stderr",
     "output_type": "stream",
     "text": [
      "Epoch [134/1000]: 100%|██████████| 935/935 [00:14<00:00, 65.00batch/s, Batch Loss=2.8] \n"
     ]
    },
    {
     "name": "stdout",
     "output_type": "stream",
     "text": [
      "Epoch [134/1000], Training Loss: 2.3010, Accuracy: 0.4843\n"
     ]
    },
    {
     "name": "stderr",
     "output_type": "stream",
     "text": [
      "Epoch [135/1000]: 100%|██████████| 935/935 [00:14<00:00, 64.36batch/s, Batch Loss=2.59]\n"
     ]
    },
    {
     "name": "stdout",
     "output_type": "stream",
     "text": [
      "Epoch [135/1000], Training Loss: 2.2951, Accuracy: 0.4856\n"
     ]
    },
    {
     "name": "stderr",
     "output_type": "stream",
     "text": [
      "Epoch [136/1000]: 100%|██████████| 935/935 [00:14<00:00, 64.72batch/s, Batch Loss=2.54]\n"
     ]
    },
    {
     "name": "stdout",
     "output_type": "stream",
     "text": [
      "Epoch [136/1000], Training Loss: 2.2838, Accuracy: 0.4867\n"
     ]
    },
    {
     "name": "stderr",
     "output_type": "stream",
     "text": [
      "Epoch [137/1000]: 100%|██████████| 935/935 [00:14<00:00, 64.63batch/s, Batch Loss=2.37]\n"
     ]
    },
    {
     "name": "stdout",
     "output_type": "stream",
     "text": [
      "Epoch [137/1000], Training Loss: 2.2827, Accuracy: 0.4877\n"
     ]
    },
    {
     "name": "stderr",
     "output_type": "stream",
     "text": [
      "Epoch [138/1000]: 100%|██████████| 935/935 [00:14<00:00, 65.05batch/s, Batch Loss=2.16]\n"
     ]
    },
    {
     "name": "stdout",
     "output_type": "stream",
     "text": [
      "Epoch [138/1000], Training Loss: 2.2735, Accuracy: 0.4886\n"
     ]
    },
    {
     "name": "stderr",
     "output_type": "stream",
     "text": [
      "Epoch [139/1000]: 100%|██████████| 935/935 [00:14<00:00, 64.43batch/s, Batch Loss=2.71]\n"
     ]
    },
    {
     "name": "stdout",
     "output_type": "stream",
     "text": [
      "Epoch [139/1000], Training Loss: 2.2603, Accuracy: 0.4896\n"
     ]
    },
    {
     "name": "stderr",
     "output_type": "stream",
     "text": [
      "Epoch [140/1000]: 100%|██████████| 935/935 [00:14<00:00, 64.42batch/s, Batch Loss=2.34]\n"
     ]
    },
    {
     "name": "stdout",
     "output_type": "stream",
     "text": [
      "Epoch [140/1000], Training Loss: 2.2588, Accuracy: 0.4894\n"
     ]
    },
    {
     "name": "stderr",
     "output_type": "stream",
     "text": [
      "Epoch [141/1000]: 100%|██████████| 935/935 [00:14<00:00, 64.56batch/s, Batch Loss=2.67]\n"
     ]
    },
    {
     "name": "stdout",
     "output_type": "stream",
     "text": [
      "Epoch [141/1000], Training Loss: 2.2505, Accuracy: 0.4921\n"
     ]
    },
    {
     "name": "stderr",
     "output_type": "stream",
     "text": [
      "Epoch [142/1000]: 100%|██████████| 935/935 [00:14<00:00, 62.59batch/s, Batch Loss=2.45]\n"
     ]
    },
    {
     "name": "stdout",
     "output_type": "stream",
     "text": [
      "Epoch [142/1000], Training Loss: 2.2412, Accuracy: 0.4937\n"
     ]
    },
    {
     "name": "stderr",
     "output_type": "stream",
     "text": [
      "Epoch [143/1000]: 100%|██████████| 935/935 [00:14<00:00, 63.80batch/s, Batch Loss=2.26]\n"
     ]
    },
    {
     "name": "stdout",
     "output_type": "stream",
     "text": [
      "Epoch [143/1000], Training Loss: 2.2378, Accuracy: 0.4928\n"
     ]
    },
    {
     "name": "stderr",
     "output_type": "stream",
     "text": [
      "Epoch [144/1000]: 100%|██████████| 935/935 [00:14<00:00, 63.01batch/s, Batch Loss=2.73]\n"
     ]
    },
    {
     "name": "stdout",
     "output_type": "stream",
     "text": [
      "Epoch [144/1000], Training Loss: 2.2249, Accuracy: 0.4961\n"
     ]
    },
    {
     "name": "stderr",
     "output_type": "stream",
     "text": [
      "Epoch [145/1000]: 100%|██████████| 935/935 [00:14<00:00, 64.30batch/s, Batch Loss=2.02]\n"
     ]
    },
    {
     "name": "stdout",
     "output_type": "stream",
     "text": [
      "Epoch [145/1000], Training Loss: 2.2212, Accuracy: 0.4966\n"
     ]
    },
    {
     "name": "stderr",
     "output_type": "stream",
     "text": [
      "Epoch [146/1000]: 100%|██████████| 935/935 [00:14<00:00, 63.51batch/s, Batch Loss=2.13]\n"
     ]
    },
    {
     "name": "stdout",
     "output_type": "stream",
     "text": [
      "Epoch [146/1000], Training Loss: 2.2148, Accuracy: 0.4968\n"
     ]
    },
    {
     "name": "stderr",
     "output_type": "stream",
     "text": [
      "Epoch [147/1000]: 100%|██████████| 935/935 [00:14<00:00, 64.59batch/s, Batch Loss=2.29]\n"
     ]
    },
    {
     "name": "stdout",
     "output_type": "stream",
     "text": [
      "Epoch [147/1000], Training Loss: 2.2122, Accuracy: 0.4975\n"
     ]
    },
    {
     "name": "stderr",
     "output_type": "stream",
     "text": [
      "Epoch [148/1000]: 100%|██████████| 935/935 [00:14<00:00, 64.93batch/s, Batch Loss=2.23]\n"
     ]
    },
    {
     "name": "stdout",
     "output_type": "stream",
     "text": [
      "Epoch [148/1000], Training Loss: 2.2069, Accuracy: 0.4984\n"
     ]
    },
    {
     "name": "stderr",
     "output_type": "stream",
     "text": [
      "Epoch [149/1000]: 100%|██████████| 935/935 [00:14<00:00, 63.96batch/s, Batch Loss=2.21]\n"
     ]
    },
    {
     "name": "stdout",
     "output_type": "stream",
     "text": [
      "Epoch [149/1000], Training Loss: 2.1955, Accuracy: 0.5005\n"
     ]
    },
    {
     "name": "stderr",
     "output_type": "stream",
     "text": [
      "Epoch [150/1000]: 100%|██████████| 935/935 [00:14<00:00, 62.70batch/s, Batch Loss=2.2] \n"
     ]
    },
    {
     "name": "stdout",
     "output_type": "stream",
     "text": [
      "Epoch [150/1000], Training Loss: 2.1860, Accuracy: 0.5029\n",
      "\n",
      "Evaluating on validation set...\n"
     ]
    },
    {
     "name": "stderr",
     "output_type": "stream",
     "text": [
      "Evaluating HR & NDCG for multiple k: 100%|██████████| 201/201 [00:05<00:00, 39.59it/s]\n"
     ]
    },
    {
     "name": "stdout",
     "output_type": "stream",
     "text": [
      "Validation HR@5: 0.3847, NDCG@5: 0.3165\n",
      "Validation HR@10: 0.4304, NDCG@10: 0.3314\n",
      "Validation HR@20: 0.4703, NDCG@20: 0.3415\n",
      "Model saved at 'uet4rec_model_epoch_150.pth'\n"
     ]
    },
    {
     "name": "stderr",
     "output_type": "stream",
     "text": [
      "Epoch [151/1000]: 100%|██████████| 935/935 [00:14<00:00, 64.07batch/s, Batch Loss=2.26]\n"
     ]
    },
    {
     "name": "stdout",
     "output_type": "stream",
     "text": [
      "Epoch [151/1000], Training Loss: 2.1796, Accuracy: 0.5034\n"
     ]
    },
    {
     "name": "stderr",
     "output_type": "stream",
     "text": [
      "Epoch [152/1000]: 100%|██████████| 935/935 [00:14<00:00, 64.47batch/s, Batch Loss=2.42]\n"
     ]
    },
    {
     "name": "stdout",
     "output_type": "stream",
     "text": [
      "Epoch [152/1000], Training Loss: 2.1712, Accuracy: 0.5026\n"
     ]
    },
    {
     "name": "stderr",
     "output_type": "stream",
     "text": [
      "Epoch [153/1000]: 100%|██████████| 935/935 [00:14<00:00, 64.36batch/s, Batch Loss=2.41]\n"
     ]
    },
    {
     "name": "stdout",
     "output_type": "stream",
     "text": [
      "Epoch [153/1000], Training Loss: 2.1668, Accuracy: 0.5048\n"
     ]
    },
    {
     "name": "stderr",
     "output_type": "stream",
     "text": [
      "Epoch [154/1000]: 100%|██████████| 935/935 [00:14<00:00, 64.38batch/s, Batch Loss=2.41]\n"
     ]
    },
    {
     "name": "stdout",
     "output_type": "stream",
     "text": [
      "Epoch [154/1000], Training Loss: 2.1595, Accuracy: 0.5061\n"
     ]
    },
    {
     "name": "stderr",
     "output_type": "stream",
     "text": [
      "Epoch [155/1000]: 100%|██████████| 935/935 [00:14<00:00, 64.40batch/s, Batch Loss=2.37]\n"
     ]
    },
    {
     "name": "stdout",
     "output_type": "stream",
     "text": [
      "Epoch [155/1000], Training Loss: 2.1566, Accuracy: 0.5066\n"
     ]
    },
    {
     "name": "stderr",
     "output_type": "stream",
     "text": [
      "Epoch [156/1000]: 100%|██████████| 935/935 [00:14<00:00, 64.98batch/s, Batch Loss=2.45]\n"
     ]
    },
    {
     "name": "stdout",
     "output_type": "stream",
     "text": [
      "Epoch [156/1000], Training Loss: 2.1504, Accuracy: 0.5072\n"
     ]
    },
    {
     "name": "stderr",
     "output_type": "stream",
     "text": [
      "Epoch [157/1000]: 100%|██████████| 935/935 [00:14<00:00, 64.00batch/s, Batch Loss=2.39]\n"
     ]
    },
    {
     "name": "stdout",
     "output_type": "stream",
     "text": [
      "Epoch [157/1000], Training Loss: 2.1400, Accuracy: 0.5097\n"
     ]
    },
    {
     "name": "stderr",
     "output_type": "stream",
     "text": [
      "Epoch [158/1000]: 100%|██████████| 935/935 [00:14<00:00, 63.90batch/s, Batch Loss=2.38]\n"
     ]
    },
    {
     "name": "stdout",
     "output_type": "stream",
     "text": [
      "Epoch [158/1000], Training Loss: 2.1361, Accuracy: 0.5093\n"
     ]
    },
    {
     "name": "stderr",
     "output_type": "stream",
     "text": [
      "Epoch [159/1000]: 100%|██████████| 935/935 [00:14<00:00, 64.47batch/s, Batch Loss=2.37]\n"
     ]
    },
    {
     "name": "stdout",
     "output_type": "stream",
     "text": [
      "Epoch [159/1000], Training Loss: 2.1254, Accuracy: 0.5118\n"
     ]
    },
    {
     "name": "stderr",
     "output_type": "stream",
     "text": [
      "Epoch [160/1000]: 100%|██████████| 935/935 [00:14<00:00, 64.69batch/s, Batch Loss=2.19]\n"
     ]
    },
    {
     "name": "stdout",
     "output_type": "stream",
     "text": [
      "Epoch [160/1000], Training Loss: 2.1264, Accuracy: 0.5110\n"
     ]
    },
    {
     "name": "stderr",
     "output_type": "stream",
     "text": [
      "Epoch [161/1000]: 100%|██████████| 935/935 [00:14<00:00, 64.39batch/s, Batch Loss=2]   \n"
     ]
    },
    {
     "name": "stdout",
     "output_type": "stream",
     "text": [
      "Epoch [161/1000], Training Loss: 2.1170, Accuracy: 0.5107\n"
     ]
    },
    {
     "name": "stderr",
     "output_type": "stream",
     "text": [
      "Epoch [162/1000]: 100%|██████████| 935/935 [00:14<00:00, 63.55batch/s, Batch Loss=2.39]\n"
     ]
    },
    {
     "name": "stdout",
     "output_type": "stream",
     "text": [
      "Epoch [162/1000], Training Loss: 2.1065, Accuracy: 0.5153\n"
     ]
    },
    {
     "name": "stderr",
     "output_type": "stream",
     "text": [
      "Epoch [163/1000]: 100%|██████████| 935/935 [00:14<00:00, 64.73batch/s, Batch Loss=2.07]\n"
     ]
    },
    {
     "name": "stdout",
     "output_type": "stream",
     "text": [
      "Epoch [163/1000], Training Loss: 2.1029, Accuracy: 0.5163\n"
     ]
    },
    {
     "name": "stderr",
     "output_type": "stream",
     "text": [
      "Epoch [164/1000]: 100%|██████████| 935/935 [00:14<00:00, 62.75batch/s, Batch Loss=2.2] \n"
     ]
    },
    {
     "name": "stdout",
     "output_type": "stream",
     "text": [
      "Epoch [164/1000], Training Loss: 2.1001, Accuracy: 0.5164\n"
     ]
    },
    {
     "name": "stderr",
     "output_type": "stream",
     "text": [
      "Epoch [165/1000]: 100%|██████████| 935/935 [00:14<00:00, 63.88batch/s, Batch Loss=2.12]\n"
     ]
    },
    {
     "name": "stdout",
     "output_type": "stream",
     "text": [
      "Epoch [165/1000], Training Loss: 2.0963, Accuracy: 0.5168\n"
     ]
    },
    {
     "name": "stderr",
     "output_type": "stream",
     "text": [
      "Epoch [166/1000]: 100%|██████████| 935/935 [00:15<00:00, 62.03batch/s, Batch Loss=2.41]\n"
     ]
    },
    {
     "name": "stdout",
     "output_type": "stream",
     "text": [
      "Epoch [166/1000], Training Loss: 2.0833, Accuracy: 0.5183\n"
     ]
    },
    {
     "name": "stderr",
     "output_type": "stream",
     "text": [
      "Epoch [167/1000]: 100%|██████████| 935/935 [00:14<00:00, 62.76batch/s, Batch Loss=2.38]\n"
     ]
    },
    {
     "name": "stdout",
     "output_type": "stream",
     "text": [
      "Epoch [167/1000], Training Loss: 2.0780, Accuracy: 0.5206\n"
     ]
    },
    {
     "name": "stderr",
     "output_type": "stream",
     "text": [
      "Epoch [168/1000]: 100%|██████████| 935/935 [00:15<00:00, 61.06batch/s, Batch Loss=2.15]\n"
     ]
    },
    {
     "name": "stdout",
     "output_type": "stream",
     "text": [
      "Epoch [168/1000], Training Loss: 2.0759, Accuracy: 0.5198\n"
     ]
    },
    {
     "name": "stderr",
     "output_type": "stream",
     "text": [
      "Epoch [169/1000]: 100%|██████████| 935/935 [00:14<00:00, 62.71batch/s, Batch Loss=2.65]\n"
     ]
    },
    {
     "name": "stdout",
     "output_type": "stream",
     "text": [
      "Epoch [169/1000], Training Loss: 2.0693, Accuracy: 0.5206\n"
     ]
    },
    {
     "name": "stderr",
     "output_type": "stream",
     "text": [
      "Epoch [170/1000]: 100%|██████████| 935/935 [00:14<00:00, 62.98batch/s, Batch Loss=2.13]\n"
     ]
    },
    {
     "name": "stdout",
     "output_type": "stream",
     "text": [
      "Epoch [170/1000], Training Loss: 2.0642, Accuracy: 0.5220\n"
     ]
    },
    {
     "name": "stderr",
     "output_type": "stream",
     "text": [
      "Epoch [171/1000]: 100%|██████████| 935/935 [00:14<00:00, 62.55batch/s, Batch Loss=2.29]\n"
     ]
    },
    {
     "name": "stdout",
     "output_type": "stream",
     "text": [
      "Epoch [171/1000], Training Loss: 2.0552, Accuracy: 0.5236\n"
     ]
    },
    {
     "name": "stderr",
     "output_type": "stream",
     "text": [
      "Epoch [172/1000]: 100%|██████████| 935/935 [00:14<00:00, 62.95batch/s, Batch Loss=2.36]\n"
     ]
    },
    {
     "name": "stdout",
     "output_type": "stream",
     "text": [
      "Epoch [172/1000], Training Loss: 2.0548, Accuracy: 0.5224\n"
     ]
    },
    {
     "name": "stderr",
     "output_type": "stream",
     "text": [
      "Epoch [173/1000]: 100%|██████████| 935/935 [00:14<00:00, 62.94batch/s, Batch Loss=2.09]\n"
     ]
    },
    {
     "name": "stdout",
     "output_type": "stream",
     "text": [
      "Epoch [173/1000], Training Loss: 2.0451, Accuracy: 0.5248\n"
     ]
    },
    {
     "name": "stderr",
     "output_type": "stream",
     "text": [
      "Epoch [174/1000]: 100%|██████████| 935/935 [00:14<00:00, 63.19batch/s, Batch Loss=2.3] \n"
     ]
    },
    {
     "name": "stdout",
     "output_type": "stream",
     "text": [
      "Epoch [174/1000], Training Loss: 2.0382, Accuracy: 0.5258\n"
     ]
    },
    {
     "name": "stderr",
     "output_type": "stream",
     "text": [
      "Epoch [175/1000]: 100%|██████████| 935/935 [00:14<00:00, 62.49batch/s, Batch Loss=2.77]\n"
     ]
    },
    {
     "name": "stdout",
     "output_type": "stream",
     "text": [
      "Epoch [175/1000], Training Loss: 2.0374, Accuracy: 0.5251\n"
     ]
    },
    {
     "name": "stderr",
     "output_type": "stream",
     "text": [
      "Epoch [176/1000]: 100%|██████████| 935/935 [00:15<00:00, 61.40batch/s, Batch Loss=2.15]\n"
     ]
    },
    {
     "name": "stdout",
     "output_type": "stream",
     "text": [
      "Epoch [176/1000], Training Loss: 2.0354, Accuracy: 0.5273\n"
     ]
    },
    {
     "name": "stderr",
     "output_type": "stream",
     "text": [
      "Epoch [177/1000]: 100%|██████████| 935/935 [00:15<00:00, 61.84batch/s, Batch Loss=2.06]\n"
     ]
    },
    {
     "name": "stdout",
     "output_type": "stream",
     "text": [
      "Epoch [177/1000], Training Loss: 2.0259, Accuracy: 0.5291\n"
     ]
    },
    {
     "name": "stderr",
     "output_type": "stream",
     "text": [
      "Epoch [178/1000]: 100%|██████████| 935/935 [00:14<00:00, 63.38batch/s, Batch Loss=2.15]\n"
     ]
    },
    {
     "name": "stdout",
     "output_type": "stream",
     "text": [
      "Epoch [178/1000], Training Loss: 2.0170, Accuracy: 0.5286\n"
     ]
    },
    {
     "name": "stderr",
     "output_type": "stream",
     "text": [
      "Epoch [179/1000]: 100%|██████████| 935/935 [00:14<00:00, 62.85batch/s, Batch Loss=2.24]\n"
     ]
    },
    {
     "name": "stdout",
     "output_type": "stream",
     "text": [
      "Epoch [179/1000], Training Loss: 2.0135, Accuracy: 0.5298\n"
     ]
    },
    {
     "name": "stderr",
     "output_type": "stream",
     "text": [
      "Epoch [180/1000]: 100%|██████████| 935/935 [00:14<00:00, 63.18batch/s, Batch Loss=1.98]\n"
     ]
    },
    {
     "name": "stdout",
     "output_type": "stream",
     "text": [
      "Epoch [180/1000], Training Loss: 2.0084, Accuracy: 0.5313\n"
     ]
    },
    {
     "name": "stderr",
     "output_type": "stream",
     "text": [
      "Epoch [181/1000]: 100%|██████████| 935/935 [00:14<00:00, 63.71batch/s, Batch Loss=2.19]\n"
     ]
    },
    {
     "name": "stdout",
     "output_type": "stream",
     "text": [
      "Epoch [181/1000], Training Loss: 1.9999, Accuracy: 0.5325\n"
     ]
    },
    {
     "name": "stderr",
     "output_type": "stream",
     "text": [
      "Epoch [182/1000]: 100%|██████████| 935/935 [00:14<00:00, 62.99batch/s, Batch Loss=1.91]\n"
     ]
    },
    {
     "name": "stdout",
     "output_type": "stream",
     "text": [
      "Epoch [182/1000], Training Loss: 2.0004, Accuracy: 0.5316\n"
     ]
    },
    {
     "name": "stderr",
     "output_type": "stream",
     "text": [
      "Epoch [183/1000]: 100%|██████████| 935/935 [00:14<00:00, 62.84batch/s, Batch Loss=2.17]\n"
     ]
    },
    {
     "name": "stdout",
     "output_type": "stream",
     "text": [
      "Epoch [183/1000], Training Loss: 1.9862, Accuracy: 0.5338\n"
     ]
    },
    {
     "name": "stderr",
     "output_type": "stream",
     "text": [
      "Epoch [184/1000]: 100%|██████████| 935/935 [00:14<00:00, 62.99batch/s, Batch Loss=2]   \n"
     ]
    },
    {
     "name": "stdout",
     "output_type": "stream",
     "text": [
      "Epoch [184/1000], Training Loss: 1.9861, Accuracy: 0.5345\n"
     ]
    },
    {
     "name": "stderr",
     "output_type": "stream",
     "text": [
      "Epoch [185/1000]: 100%|██████████| 935/935 [00:14<00:00, 63.64batch/s, Batch Loss=1.99]\n"
     ]
    },
    {
     "name": "stdout",
     "output_type": "stream",
     "text": [
      "Epoch [185/1000], Training Loss: 1.9825, Accuracy: 0.5357\n"
     ]
    },
    {
     "name": "stderr",
     "output_type": "stream",
     "text": [
      "Epoch [186/1000]: 100%|██████████| 935/935 [00:14<00:00, 62.44batch/s, Batch Loss=2.16]\n"
     ]
    },
    {
     "name": "stdout",
     "output_type": "stream",
     "text": [
      "Epoch [186/1000], Training Loss: 1.9812, Accuracy: 0.5357\n"
     ]
    },
    {
     "name": "stderr",
     "output_type": "stream",
     "text": [
      "Epoch [187/1000]: 100%|██████████| 935/935 [00:14<00:00, 63.13batch/s, Batch Loss=2.01]\n"
     ]
    },
    {
     "name": "stdout",
     "output_type": "stream",
     "text": [
      "Epoch [187/1000], Training Loss: 1.9719, Accuracy: 0.5363\n"
     ]
    },
    {
     "name": "stderr",
     "output_type": "stream",
     "text": [
      "Epoch [188/1000]: 100%|██████████| 935/935 [00:14<00:00, 63.65batch/s, Batch Loss=2.2] \n"
     ]
    },
    {
     "name": "stdout",
     "output_type": "stream",
     "text": [
      "Epoch [188/1000], Training Loss: 1.9635, Accuracy: 0.5387\n"
     ]
    },
    {
     "name": "stderr",
     "output_type": "stream",
     "text": [
      "Epoch [189/1000]: 100%|██████████| 935/935 [00:14<00:00, 63.27batch/s, Batch Loss=2.05]\n"
     ]
    },
    {
     "name": "stdout",
     "output_type": "stream",
     "text": [
      "Epoch [189/1000], Training Loss: 1.9601, Accuracy: 0.5382\n"
     ]
    },
    {
     "name": "stderr",
     "output_type": "stream",
     "text": [
      "Epoch [190/1000]: 100%|██████████| 935/935 [00:14<00:00, 63.52batch/s, Batch Loss=2]   \n"
     ]
    },
    {
     "name": "stdout",
     "output_type": "stream",
     "text": [
      "Epoch [190/1000], Training Loss: 1.9546, Accuracy: 0.5399\n"
     ]
    },
    {
     "name": "stderr",
     "output_type": "stream",
     "text": [
      "Epoch [191/1000]: 100%|██████████| 935/935 [00:14<00:00, 62.64batch/s, Batch Loss=2.13]\n"
     ]
    },
    {
     "name": "stdout",
     "output_type": "stream",
     "text": [
      "Epoch [191/1000], Training Loss: 1.9464, Accuracy: 0.5410\n"
     ]
    },
    {
     "name": "stderr",
     "output_type": "stream",
     "text": [
      "Epoch [192/1000]: 100%|██████████| 935/935 [00:14<00:00, 63.52batch/s, Batch Loss=1.87]\n"
     ]
    },
    {
     "name": "stdout",
     "output_type": "stream",
     "text": [
      "Epoch [192/1000], Training Loss: 1.9444, Accuracy: 0.5422\n"
     ]
    },
    {
     "name": "stderr",
     "output_type": "stream",
     "text": [
      "Epoch [193/1000]: 100%|██████████| 935/935 [00:14<00:00, 63.29batch/s, Batch Loss=2.06]\n"
     ]
    },
    {
     "name": "stdout",
     "output_type": "stream",
     "text": [
      "Epoch [193/1000], Training Loss: 1.9407, Accuracy: 0.5418\n"
     ]
    },
    {
     "name": "stderr",
     "output_type": "stream",
     "text": [
      "Epoch [194/1000]: 100%|██████████| 935/935 [00:14<00:00, 63.42batch/s, Batch Loss=2.03]\n"
     ]
    },
    {
     "name": "stdout",
     "output_type": "stream",
     "text": [
      "Epoch [194/1000], Training Loss: 1.9363, Accuracy: 0.5432\n"
     ]
    },
    {
     "name": "stderr",
     "output_type": "stream",
     "text": [
      "Epoch [195/1000]: 100%|██████████| 935/935 [00:14<00:00, 63.61batch/s, Batch Loss=2.09]\n"
     ]
    },
    {
     "name": "stdout",
     "output_type": "stream",
     "text": [
      "Epoch [195/1000], Training Loss: 1.9305, Accuracy: 0.5431\n"
     ]
    },
    {
     "name": "stderr",
     "output_type": "stream",
     "text": [
      "Epoch [196/1000]: 100%|██████████| 935/935 [00:14<00:00, 64.23batch/s, Batch Loss=2.13]\n"
     ]
    },
    {
     "name": "stdout",
     "output_type": "stream",
     "text": [
      "Epoch [196/1000], Training Loss: 1.9258, Accuracy: 0.5452\n"
     ]
    },
    {
     "name": "stderr",
     "output_type": "stream",
     "text": [
      "Epoch [197/1000]: 100%|██████████| 935/935 [00:14<00:00, 64.73batch/s, Batch Loss=2.06]\n"
     ]
    },
    {
     "name": "stdout",
     "output_type": "stream",
     "text": [
      "Epoch [197/1000], Training Loss: 1.9169, Accuracy: 0.5470\n"
     ]
    },
    {
     "name": "stderr",
     "output_type": "stream",
     "text": [
      "Epoch [198/1000]: 100%|██████████| 935/935 [00:14<00:00, 64.41batch/s, Batch Loss=1.68]\n"
     ]
    },
    {
     "name": "stdout",
     "output_type": "stream",
     "text": [
      "Epoch [198/1000], Training Loss: 1.9136, Accuracy: 0.5470\n"
     ]
    },
    {
     "name": "stderr",
     "output_type": "stream",
     "text": [
      "Epoch [199/1000]: 100%|██████████| 935/935 [00:14<00:00, 64.93batch/s, Batch Loss=1.98]\n"
     ]
    },
    {
     "name": "stdout",
     "output_type": "stream",
     "text": [
      "Epoch [199/1000], Training Loss: 1.9057, Accuracy: 0.5481\n"
     ]
    },
    {
     "name": "stderr",
     "output_type": "stream",
     "text": [
      "Epoch [200/1000]: 100%|██████████| 935/935 [00:14<00:00, 64.72batch/s, Batch Loss=1.87]\n"
     ]
    },
    {
     "name": "stdout",
     "output_type": "stream",
     "text": [
      "Epoch [200/1000], Training Loss: 1.9022, Accuracy: 0.5496\n",
      "\n",
      "Evaluating on validation set...\n"
     ]
    },
    {
     "name": "stderr",
     "output_type": "stream",
     "text": [
      "Evaluating HR & NDCG for multiple k: 100%|██████████| 201/201 [00:05<00:00, 40.15it/s]\n"
     ]
    },
    {
     "name": "stdout",
     "output_type": "stream",
     "text": [
      "Validation HR@5: 0.3840, NDCG@5: 0.3162\n",
      "Validation HR@10: 0.4279, NDCG@10: 0.3305\n",
      "Validation HR@20: 0.4689, NDCG@20: 0.3409\n",
      "Model saved at 'uet4rec_model_epoch_200.pth'\n"
     ]
    },
    {
     "name": "stderr",
     "output_type": "stream",
     "text": [
      "Epoch [201/1000]: 100%|██████████| 935/935 [00:14<00:00, 64.18batch/s, Batch Loss=2.09]\n"
     ]
    },
    {
     "name": "stdout",
     "output_type": "stream",
     "text": [
      "Epoch [201/1000], Training Loss: 1.8977, Accuracy: 0.5496\n"
     ]
    },
    {
     "name": "stderr",
     "output_type": "stream",
     "text": [
      "Epoch [202/1000]: 100%|██████████| 935/935 [00:14<00:00, 64.23batch/s, Batch Loss=2.26]\n"
     ]
    },
    {
     "name": "stdout",
     "output_type": "stream",
     "text": [
      "Epoch [202/1000], Training Loss: 1.8948, Accuracy: 0.5497\n"
     ]
    },
    {
     "name": "stderr",
     "output_type": "stream",
     "text": [
      "Epoch [203/1000]: 100%|██████████| 935/935 [00:14<00:00, 64.95batch/s, Batch Loss=2.14]\n"
     ]
    },
    {
     "name": "stdout",
     "output_type": "stream",
     "text": [
      "Epoch [203/1000], Training Loss: 1.8897, Accuracy: 0.5517\n"
     ]
    },
    {
     "name": "stderr",
     "output_type": "stream",
     "text": [
      "Epoch [204/1000]: 100%|██████████| 935/935 [00:14<00:00, 64.63batch/s, Batch Loss=2.02]\n"
     ]
    },
    {
     "name": "stdout",
     "output_type": "stream",
     "text": [
      "Epoch [204/1000], Training Loss: 1.8861, Accuracy: 0.5523\n"
     ]
    },
    {
     "name": "stderr",
     "output_type": "stream",
     "text": [
      "Epoch [205/1000]: 100%|██████████| 935/935 [00:14<00:00, 63.95batch/s, Batch Loss=2.07]\n"
     ]
    },
    {
     "name": "stdout",
     "output_type": "stream",
     "text": [
      "Epoch [205/1000], Training Loss: 1.8786, Accuracy: 0.5532\n"
     ]
    },
    {
     "name": "stderr",
     "output_type": "stream",
     "text": [
      "Epoch [206/1000]: 100%|██████████| 935/935 [00:14<00:00, 63.90batch/s, Batch Loss=1.94]\n"
     ]
    },
    {
     "name": "stdout",
     "output_type": "stream",
     "text": [
      "Epoch [206/1000], Training Loss: 1.8783, Accuracy: 0.5533\n"
     ]
    },
    {
     "name": "stderr",
     "output_type": "stream",
     "text": [
      "Epoch [207/1000]: 100%|██████████| 935/935 [00:14<00:00, 64.33batch/s, Batch Loss=2.01]\n"
     ]
    },
    {
     "name": "stdout",
     "output_type": "stream",
     "text": [
      "Epoch [207/1000], Training Loss: 1.8751, Accuracy: 0.5539\n"
     ]
    },
    {
     "name": "stderr",
     "output_type": "stream",
     "text": [
      "Epoch [208/1000]: 100%|██████████| 935/935 [00:14<00:00, 64.25batch/s, Batch Loss=2.09]\n"
     ]
    },
    {
     "name": "stdout",
     "output_type": "stream",
     "text": [
      "Epoch [208/1000], Training Loss: 1.8640, Accuracy: 0.5565\n"
     ]
    },
    {
     "name": "stderr",
     "output_type": "stream",
     "text": [
      "Epoch [209/1000]: 100%|██████████| 935/935 [00:14<00:00, 64.34batch/s, Batch Loss=1.95]\n"
     ]
    },
    {
     "name": "stdout",
     "output_type": "stream",
     "text": [
      "Epoch [209/1000], Training Loss: 1.8601, Accuracy: 0.5569\n"
     ]
    },
    {
     "name": "stderr",
     "output_type": "stream",
     "text": [
      "Epoch [210/1000]: 100%|██████████| 935/935 [00:14<00:00, 64.26batch/s, Batch Loss=2.26]\n"
     ]
    },
    {
     "name": "stdout",
     "output_type": "stream",
     "text": [
      "Epoch [210/1000], Training Loss: 1.8615, Accuracy: 0.5568\n"
     ]
    },
    {
     "name": "stderr",
     "output_type": "stream",
     "text": [
      "Epoch [211/1000]: 100%|██████████| 935/935 [00:14<00:00, 64.27batch/s, Batch Loss=2.09]\n"
     ]
    },
    {
     "name": "stdout",
     "output_type": "stream",
     "text": [
      "Epoch [211/1000], Training Loss: 1.8513, Accuracy: 0.5575\n"
     ]
    },
    {
     "name": "stderr",
     "output_type": "stream",
     "text": [
      "Epoch [212/1000]: 100%|██████████| 935/935 [00:14<00:00, 64.24batch/s, Batch Loss=1.96]\n"
     ]
    },
    {
     "name": "stdout",
     "output_type": "stream",
     "text": [
      "Epoch [212/1000], Training Loss: 1.8436, Accuracy: 0.5603\n"
     ]
    },
    {
     "name": "stderr",
     "output_type": "stream",
     "text": [
      "Epoch [213/1000]: 100%|██████████| 935/935 [00:14<00:00, 64.02batch/s, Batch Loss=1.76]\n"
     ]
    },
    {
     "name": "stdout",
     "output_type": "stream",
     "text": [
      "Epoch [213/1000], Training Loss: 1.8446, Accuracy: 0.5592\n"
     ]
    },
    {
     "name": "stderr",
     "output_type": "stream",
     "text": [
      "Epoch [214/1000]: 100%|██████████| 935/935 [00:14<00:00, 63.94batch/s, Batch Loss=1.97]\n"
     ]
    },
    {
     "name": "stdout",
     "output_type": "stream",
     "text": [
      "Epoch [214/1000], Training Loss: 1.8364, Accuracy: 0.5607\n"
     ]
    },
    {
     "name": "stderr",
     "output_type": "stream",
     "text": [
      "Epoch [215/1000]: 100%|██████████| 935/935 [00:14<00:00, 64.63batch/s, Batch Loss=1.87]\n"
     ]
    },
    {
     "name": "stdout",
     "output_type": "stream",
     "text": [
      "Epoch [215/1000], Training Loss: 1.8352, Accuracy: 0.5613\n"
     ]
    },
    {
     "name": "stderr",
     "output_type": "stream",
     "text": [
      "Epoch [216/1000]: 100%|██████████| 935/935 [00:14<00:00, 64.49batch/s, Batch Loss=1.84]\n"
     ]
    },
    {
     "name": "stdout",
     "output_type": "stream",
     "text": [
      "Epoch [216/1000], Training Loss: 1.8338, Accuracy: 0.5618\n"
     ]
    },
    {
     "name": "stderr",
     "output_type": "stream",
     "text": [
      "Epoch [217/1000]: 100%|██████████| 935/935 [00:14<00:00, 65.08batch/s, Batch Loss=1.72]\n"
     ]
    },
    {
     "name": "stdout",
     "output_type": "stream",
     "text": [
      "Epoch [217/1000], Training Loss: 1.8263, Accuracy: 0.5630\n"
     ]
    },
    {
     "name": "stderr",
     "output_type": "stream",
     "text": [
      "Epoch [218/1000]: 100%|██████████| 935/935 [00:14<00:00, 64.20batch/s, Batch Loss=2.01]\n"
     ]
    },
    {
     "name": "stdout",
     "output_type": "stream",
     "text": [
      "Epoch [218/1000], Training Loss: 1.8172, Accuracy: 0.5648\n"
     ]
    },
    {
     "name": "stderr",
     "output_type": "stream",
     "text": [
      "Epoch [219/1000]: 100%|██████████| 935/935 [00:14<00:00, 64.10batch/s, Batch Loss=1.76]\n"
     ]
    },
    {
     "name": "stdout",
     "output_type": "stream",
     "text": [
      "Epoch [219/1000], Training Loss: 1.8210, Accuracy: 0.5628\n"
     ]
    },
    {
     "name": "stderr",
     "output_type": "stream",
     "text": [
      "Epoch [220/1000]: 100%|██████████| 935/935 [00:14<00:00, 64.44batch/s, Batch Loss=1.92]\n"
     ]
    },
    {
     "name": "stdout",
     "output_type": "stream",
     "text": [
      "Epoch [220/1000], Training Loss: 1.8127, Accuracy: 0.5653\n"
     ]
    },
    {
     "name": "stderr",
     "output_type": "stream",
     "text": [
      "Epoch [221/1000]: 100%|██████████| 935/935 [00:14<00:00, 64.80batch/s, Batch Loss=2.06]\n"
     ]
    },
    {
     "name": "stdout",
     "output_type": "stream",
     "text": [
      "Epoch [221/1000], Training Loss: 1.8030, Accuracy: 0.5669\n"
     ]
    },
    {
     "name": "stderr",
     "output_type": "stream",
     "text": [
      "Epoch [222/1000]: 100%|██████████| 935/935 [00:14<00:00, 64.62batch/s, Batch Loss=2.02]\n"
     ]
    },
    {
     "name": "stdout",
     "output_type": "stream",
     "text": [
      "Epoch [222/1000], Training Loss: 1.8023, Accuracy: 0.5656\n"
     ]
    },
    {
     "name": "stderr",
     "output_type": "stream",
     "text": [
      "Epoch [223/1000]: 100%|██████████| 935/935 [00:14<00:00, 64.47batch/s, Batch Loss=1.66]\n"
     ]
    },
    {
     "name": "stdout",
     "output_type": "stream",
     "text": [
      "Epoch [223/1000], Training Loss: 1.8001, Accuracy: 0.5678\n"
     ]
    },
    {
     "name": "stderr",
     "output_type": "stream",
     "text": [
      "Epoch [224/1000]: 100%|██████████| 935/935 [00:14<00:00, 64.30batch/s, Batch Loss=1.97]\n"
     ]
    },
    {
     "name": "stdout",
     "output_type": "stream",
     "text": [
      "Epoch [224/1000], Training Loss: 1.7972, Accuracy: 0.5683\n"
     ]
    },
    {
     "name": "stderr",
     "output_type": "stream",
     "text": [
      "Epoch [225/1000]: 100%|██████████| 935/935 [00:14<00:00, 64.87batch/s, Batch Loss=2.1] \n"
     ]
    },
    {
     "name": "stdout",
     "output_type": "stream",
     "text": [
      "Epoch [225/1000], Training Loss: 1.7905, Accuracy: 0.5695\n"
     ]
    },
    {
     "name": "stderr",
     "output_type": "stream",
     "text": [
      "Epoch [226/1000]: 100%|██████████| 935/935 [00:14<00:00, 64.66batch/s, Batch Loss=1.75]\n"
     ]
    },
    {
     "name": "stdout",
     "output_type": "stream",
     "text": [
      "Epoch [226/1000], Training Loss: 1.7847, Accuracy: 0.5709\n"
     ]
    },
    {
     "name": "stderr",
     "output_type": "stream",
     "text": [
      "Epoch [227/1000]: 100%|██████████| 935/935 [00:14<00:00, 64.45batch/s, Batch Loss=1.85]\n"
     ]
    },
    {
     "name": "stdout",
     "output_type": "stream",
     "text": [
      "Epoch [227/1000], Training Loss: 1.7818, Accuracy: 0.5702\n"
     ]
    },
    {
     "name": "stderr",
     "output_type": "stream",
     "text": [
      "Epoch [228/1000]: 100%|██████████| 935/935 [00:14<00:00, 65.27batch/s, Batch Loss=1.97]\n"
     ]
    },
    {
     "name": "stdout",
     "output_type": "stream",
     "text": [
      "Epoch [228/1000], Training Loss: 1.7752, Accuracy: 0.5726\n"
     ]
    },
    {
     "name": "stderr",
     "output_type": "stream",
     "text": [
      "Epoch [229/1000]: 100%|██████████| 935/935 [00:14<00:00, 64.39batch/s, Batch Loss=2.1] \n"
     ]
    },
    {
     "name": "stdout",
     "output_type": "stream",
     "text": [
      "Epoch [229/1000], Training Loss: 1.7709, Accuracy: 0.5714\n"
     ]
    },
    {
     "name": "stderr",
     "output_type": "stream",
     "text": [
      "Epoch [230/1000]: 100%|██████████| 935/935 [00:14<00:00, 64.53batch/s, Batch Loss=1.99]\n"
     ]
    },
    {
     "name": "stdout",
     "output_type": "stream",
     "text": [
      "Epoch [230/1000], Training Loss: 1.7654, Accuracy: 0.5738\n"
     ]
    },
    {
     "name": "stderr",
     "output_type": "stream",
     "text": [
      "Epoch [231/1000]: 100%|██████████| 935/935 [00:14<00:00, 64.86batch/s, Batch Loss=1.91]\n"
     ]
    },
    {
     "name": "stdout",
     "output_type": "stream",
     "text": [
      "Epoch [231/1000], Training Loss: 1.7654, Accuracy: 0.5739\n"
     ]
    },
    {
     "name": "stderr",
     "output_type": "stream",
     "text": [
      "Epoch [232/1000]: 100%|██████████| 935/935 [00:14<00:00, 64.95batch/s, Batch Loss=1.92]\n"
     ]
    },
    {
     "name": "stdout",
     "output_type": "stream",
     "text": [
      "Epoch [232/1000], Training Loss: 1.7634, Accuracy: 0.5740\n"
     ]
    },
    {
     "name": "stderr",
     "output_type": "stream",
     "text": [
      "Epoch [233/1000]: 100%|██████████| 935/935 [00:14<00:00, 64.40batch/s, Batch Loss=1.8] \n"
     ]
    },
    {
     "name": "stdout",
     "output_type": "stream",
     "text": [
      "Epoch [233/1000], Training Loss: 1.7609, Accuracy: 0.5753\n"
     ]
    },
    {
     "name": "stderr",
     "output_type": "stream",
     "text": [
      "Epoch [234/1000]: 100%|██████████| 935/935 [00:14<00:00, 64.48batch/s, Batch Loss=1.94]\n"
     ]
    },
    {
     "name": "stdout",
     "output_type": "stream",
     "text": [
      "Epoch [234/1000], Training Loss: 1.7543, Accuracy: 0.5754\n"
     ]
    },
    {
     "name": "stderr",
     "output_type": "stream",
     "text": [
      "Epoch [235/1000]: 100%|██████████| 935/935 [00:14<00:00, 65.04batch/s, Batch Loss=1.83]\n"
     ]
    },
    {
     "name": "stdout",
     "output_type": "stream",
     "text": [
      "Epoch [235/1000], Training Loss: 1.7489, Accuracy: 0.5764\n"
     ]
    },
    {
     "name": "stderr",
     "output_type": "stream",
     "text": [
      "Epoch [236/1000]: 100%|██████████| 935/935 [00:14<00:00, 64.29batch/s, Batch Loss=1.94]\n"
     ]
    },
    {
     "name": "stdout",
     "output_type": "stream",
     "text": [
      "Epoch [236/1000], Training Loss: 1.7477, Accuracy: 0.5780\n"
     ]
    },
    {
     "name": "stderr",
     "output_type": "stream",
     "text": [
      "Epoch [237/1000]: 100%|██████████| 935/935 [00:14<00:00, 63.78batch/s, Batch Loss=1.63]\n"
     ]
    },
    {
     "name": "stdout",
     "output_type": "stream",
     "text": [
      "Epoch [237/1000], Training Loss: 1.7388, Accuracy: 0.5779\n"
     ]
    },
    {
     "name": "stderr",
     "output_type": "stream",
     "text": [
      "Epoch [238/1000]: 100%|██████████| 935/935 [00:14<00:00, 63.99batch/s, Batch Loss=2]   \n"
     ]
    },
    {
     "name": "stdout",
     "output_type": "stream",
     "text": [
      "Epoch [238/1000], Training Loss: 1.7410, Accuracy: 0.5782\n"
     ]
    },
    {
     "name": "stderr",
     "output_type": "stream",
     "text": [
      "Epoch [239/1000]: 100%|██████████| 935/935 [00:14<00:00, 64.80batch/s, Batch Loss=2.08]\n"
     ]
    },
    {
     "name": "stdout",
     "output_type": "stream",
     "text": [
      "Epoch [239/1000], Training Loss: 1.7324, Accuracy: 0.5805\n"
     ]
    },
    {
     "name": "stderr",
     "output_type": "stream",
     "text": [
      "Epoch [240/1000]: 100%|██████████| 935/935 [00:14<00:00, 64.59batch/s, Batch Loss=1.72]\n"
     ]
    },
    {
     "name": "stdout",
     "output_type": "stream",
     "text": [
      "Epoch [240/1000], Training Loss: 1.7273, Accuracy: 0.5813\n"
     ]
    },
    {
     "name": "stderr",
     "output_type": "stream",
     "text": [
      "Epoch [241/1000]: 100%|██████████| 935/935 [00:14<00:00, 64.57batch/s, Batch Loss=1.73]\n"
     ]
    },
    {
     "name": "stdout",
     "output_type": "stream",
     "text": [
      "Epoch [241/1000], Training Loss: 1.7232, Accuracy: 0.5826\n"
     ]
    },
    {
     "name": "stderr",
     "output_type": "stream",
     "text": [
      "Epoch [242/1000]: 100%|██████████| 935/935 [00:14<00:00, 64.71batch/s, Batch Loss=1.74]\n"
     ]
    },
    {
     "name": "stdout",
     "output_type": "stream",
     "text": [
      "Epoch [242/1000], Training Loss: 1.7170, Accuracy: 0.5827\n"
     ]
    },
    {
     "name": "stderr",
     "output_type": "stream",
     "text": [
      "Epoch [243/1000]: 100%|██████████| 935/935 [00:14<00:00, 64.61batch/s, Batch Loss=1.72]\n"
     ]
    },
    {
     "name": "stdout",
     "output_type": "stream",
     "text": [
      "Epoch [243/1000], Training Loss: 1.7200, Accuracy: 0.5824\n"
     ]
    },
    {
     "name": "stderr",
     "output_type": "stream",
     "text": [
      "Epoch [244/1000]: 100%|██████████| 935/935 [00:14<00:00, 64.78batch/s, Batch Loss=1.86]\n"
     ]
    },
    {
     "name": "stdout",
     "output_type": "stream",
     "text": [
      "Epoch [244/1000], Training Loss: 1.7121, Accuracy: 0.5846\n"
     ]
    },
    {
     "name": "stderr",
     "output_type": "stream",
     "text": [
      "Epoch [245/1000]: 100%|██████████| 935/935 [00:14<00:00, 64.77batch/s, Batch Loss=1.79]\n"
     ]
    },
    {
     "name": "stdout",
     "output_type": "stream",
     "text": [
      "Epoch [245/1000], Training Loss: 1.7072, Accuracy: 0.5841\n"
     ]
    },
    {
     "name": "stderr",
     "output_type": "stream",
     "text": [
      "Epoch [246/1000]: 100%|██████████| 935/935 [00:14<00:00, 65.33batch/s, Batch Loss=1.9] \n"
     ]
    },
    {
     "name": "stdout",
     "output_type": "stream",
     "text": [
      "Epoch [246/1000], Training Loss: 1.7049, Accuracy: 0.5841\n"
     ]
    },
    {
     "name": "stderr",
     "output_type": "stream",
     "text": [
      "Epoch [247/1000]: 100%|██████████| 935/935 [00:14<00:00, 64.61batch/s, Batch Loss=1.54]\n"
     ]
    },
    {
     "name": "stdout",
     "output_type": "stream",
     "text": [
      "Epoch [247/1000], Training Loss: 1.6999, Accuracy: 0.5856\n"
     ]
    },
    {
     "name": "stderr",
     "output_type": "stream",
     "text": [
      "Epoch [248/1000]: 100%|██████████| 935/935 [00:14<00:00, 64.79batch/s, Batch Loss=1.51]\n"
     ]
    },
    {
     "name": "stdout",
     "output_type": "stream",
     "text": [
      "Epoch [248/1000], Training Loss: 1.6931, Accuracy: 0.5885\n"
     ]
    },
    {
     "name": "stderr",
     "output_type": "stream",
     "text": [
      "Epoch [249/1000]: 100%|██████████| 935/935 [00:14<00:00, 64.89batch/s, Batch Loss=1.56]\n"
     ]
    },
    {
     "name": "stdout",
     "output_type": "stream",
     "text": [
      "Epoch [249/1000], Training Loss: 1.6916, Accuracy: 0.5871\n"
     ]
    },
    {
     "name": "stderr",
     "output_type": "stream",
     "text": [
      "Epoch [250/1000]: 100%|██████████| 935/935 [00:14<00:00, 65.08batch/s, Batch Loss=1.6] \n"
     ]
    },
    {
     "name": "stdout",
     "output_type": "stream",
     "text": [
      "Epoch [250/1000], Training Loss: 1.6885, Accuracy: 0.5872\n",
      "\n",
      "Evaluating on validation set...\n"
     ]
    },
    {
     "name": "stderr",
     "output_type": "stream",
     "text": [
      "Evaluating HR & NDCG for multiple k: 100%|██████████| 201/201 [00:04<00:00, 40.51it/s]\n"
     ]
    },
    {
     "name": "stdout",
     "output_type": "stream",
     "text": [
      "Validation HR@5: 0.3811, NDCG@5: 0.3144\n",
      "Validation HR@10: 0.4250, NDCG@10: 0.3286\n",
      "Validation HR@20: 0.4655, NDCG@20: 0.3389\n",
      "Model saved at 'uet4rec_model_epoch_250.pth'\n"
     ]
    },
    {
     "name": "stderr",
     "output_type": "stream",
     "text": [
      "Epoch [251/1000]: 100%|██████████| 935/935 [00:14<00:00, 64.68batch/s, Batch Loss=1.61]\n"
     ]
    },
    {
     "name": "stdout",
     "output_type": "stream",
     "text": [
      "Epoch [251/1000], Training Loss: 1.6832, Accuracy: 0.5899\n"
     ]
    },
    {
     "name": "stderr",
     "output_type": "stream",
     "text": [
      "Epoch [252/1000]: 100%|██████████| 935/935 [00:14<00:00, 64.86batch/s, Batch Loss=1.87]\n"
     ]
    },
    {
     "name": "stdout",
     "output_type": "stream",
     "text": [
      "Epoch [252/1000], Training Loss: 1.6813, Accuracy: 0.5885\n"
     ]
    },
    {
     "name": "stderr",
     "output_type": "stream",
     "text": [
      "Epoch [253/1000]: 100%|██████████| 935/935 [00:14<00:00, 64.71batch/s, Batch Loss=1.69]\n"
     ]
    },
    {
     "name": "stdout",
     "output_type": "stream",
     "text": [
      "Epoch [253/1000], Training Loss: 1.6782, Accuracy: 0.5899\n"
     ]
    },
    {
     "name": "stderr",
     "output_type": "stream",
     "text": [
      "Epoch [254/1000]: 100%|██████████| 935/935 [00:14<00:00, 65.09batch/s, Batch Loss=1.83]\n"
     ]
    },
    {
     "name": "stdout",
     "output_type": "stream",
     "text": [
      "Epoch [254/1000], Training Loss: 1.6793, Accuracy: 0.5902\n"
     ]
    },
    {
     "name": "stderr",
     "output_type": "stream",
     "text": [
      "Epoch [255/1000]: 100%|██████████| 935/935 [00:14<00:00, 63.27batch/s, Batch Loss=2.17]\n"
     ]
    },
    {
     "name": "stdout",
     "output_type": "stream",
     "text": [
      "Epoch [255/1000], Training Loss: 1.6712, Accuracy: 0.5923\n"
     ]
    },
    {
     "name": "stderr",
     "output_type": "stream",
     "text": [
      "Epoch [256/1000]: 100%|██████████| 935/935 [00:14<00:00, 62.66batch/s, Batch Loss=2.06]\n"
     ]
    },
    {
     "name": "stdout",
     "output_type": "stream",
     "text": [
      "Epoch [256/1000], Training Loss: 1.6697, Accuracy: 0.5913\n"
     ]
    },
    {
     "name": "stderr",
     "output_type": "stream",
     "text": [
      "Epoch [257/1000]: 100%|██████████| 935/935 [00:14<00:00, 64.60batch/s, Batch Loss=1.8] \n"
     ]
    },
    {
     "name": "stdout",
     "output_type": "stream",
     "text": [
      "Epoch [257/1000], Training Loss: 1.6687, Accuracy: 0.5923\n"
     ]
    },
    {
     "name": "stderr",
     "output_type": "stream",
     "text": [
      "Epoch [258/1000]: 100%|██████████| 935/935 [00:14<00:00, 63.81batch/s, Batch Loss=2.01]\n"
     ]
    },
    {
     "name": "stdout",
     "output_type": "stream",
     "text": [
      "Epoch [258/1000], Training Loss: 1.6622, Accuracy: 0.5933\n"
     ]
    },
    {
     "name": "stderr",
     "output_type": "stream",
     "text": [
      "Epoch [259/1000]: 100%|██████████| 935/935 [00:14<00:00, 64.16batch/s, Batch Loss=2.25]\n"
     ]
    },
    {
     "name": "stdout",
     "output_type": "stream",
     "text": [
      "Epoch [259/1000], Training Loss: 1.6591, Accuracy: 0.5941\n"
     ]
    },
    {
     "name": "stderr",
     "output_type": "stream",
     "text": [
      "Epoch [260/1000]: 100%|██████████| 935/935 [00:14<00:00, 63.56batch/s, Batch Loss=1.92]\n"
     ]
    },
    {
     "name": "stdout",
     "output_type": "stream",
     "text": [
      "Epoch [260/1000], Training Loss: 1.6519, Accuracy: 0.5951\n"
     ]
    },
    {
     "name": "stderr",
     "output_type": "stream",
     "text": [
      "Epoch [261/1000]: 100%|██████████| 935/935 [00:14<00:00, 64.96batch/s, Batch Loss=1.84]\n"
     ]
    },
    {
     "name": "stdout",
     "output_type": "stream",
     "text": [
      "Epoch [261/1000], Training Loss: 1.6483, Accuracy: 0.5957\n"
     ]
    },
    {
     "name": "stderr",
     "output_type": "stream",
     "text": [
      "Epoch [262/1000]: 100%|██████████| 935/935 [00:14<00:00, 64.10batch/s, Batch Loss=1.77]\n"
     ]
    },
    {
     "name": "stdout",
     "output_type": "stream",
     "text": [
      "Epoch [262/1000], Training Loss: 1.6498, Accuracy: 0.5937\n"
     ]
    },
    {
     "name": "stderr",
     "output_type": "stream",
     "text": [
      "Epoch [263/1000]: 100%|██████████| 935/935 [00:14<00:00, 64.55batch/s, Batch Loss=1.72]\n"
     ]
    },
    {
     "name": "stdout",
     "output_type": "stream",
     "text": [
      "Epoch [263/1000], Training Loss: 1.6424, Accuracy: 0.5964\n"
     ]
    },
    {
     "name": "stderr",
     "output_type": "stream",
     "text": [
      "Epoch [264/1000]: 100%|██████████| 935/935 [00:14<00:00, 64.48batch/s, Batch Loss=2.14]\n"
     ]
    },
    {
     "name": "stdout",
     "output_type": "stream",
     "text": [
      "Epoch [264/1000], Training Loss: 1.6404, Accuracy: 0.5965\n"
     ]
    },
    {
     "name": "stderr",
     "output_type": "stream",
     "text": [
      "Epoch [265/1000]: 100%|██████████| 935/935 [00:14<00:00, 65.18batch/s, Batch Loss=1.63]\n"
     ]
    },
    {
     "name": "stdout",
     "output_type": "stream",
     "text": [
      "Epoch [265/1000], Training Loss: 1.6353, Accuracy: 0.5980\n"
     ]
    },
    {
     "name": "stderr",
     "output_type": "stream",
     "text": [
      "Epoch [266/1000]: 100%|██████████| 935/935 [00:14<00:00, 64.08batch/s, Batch Loss=1.55]\n"
     ]
    },
    {
     "name": "stdout",
     "output_type": "stream",
     "text": [
      "Epoch [266/1000], Training Loss: 1.6381, Accuracy: 0.5977\n"
     ]
    },
    {
     "name": "stderr",
     "output_type": "stream",
     "text": [
      "Epoch [267/1000]: 100%|██████████| 935/935 [00:14<00:00, 64.50batch/s, Batch Loss=1.56]\n"
     ]
    },
    {
     "name": "stdout",
     "output_type": "stream",
     "text": [
      "Epoch [267/1000], Training Loss: 1.6298, Accuracy: 0.5987\n"
     ]
    },
    {
     "name": "stderr",
     "output_type": "stream",
     "text": [
      "Epoch [268/1000]: 100%|██████████| 935/935 [00:14<00:00, 65.06batch/s, Batch Loss=1.84]\n"
     ]
    },
    {
     "name": "stdout",
     "output_type": "stream",
     "text": [
      "Epoch [268/1000], Training Loss: 1.6254, Accuracy: 0.5998\n"
     ]
    },
    {
     "name": "stderr",
     "output_type": "stream",
     "text": [
      "Epoch [269/1000]: 100%|██████████| 935/935 [00:14<00:00, 64.46batch/s, Batch Loss=1.8] \n"
     ]
    },
    {
     "name": "stdout",
     "output_type": "stream",
     "text": [
      "Epoch [269/1000], Training Loss: 1.6235, Accuracy: 0.5999\n"
     ]
    },
    {
     "name": "stderr",
     "output_type": "stream",
     "text": [
      "Epoch [270/1000]: 100%|██████████| 935/935 [00:14<00:00, 64.76batch/s, Batch Loss=1.56]\n"
     ]
    },
    {
     "name": "stdout",
     "output_type": "stream",
     "text": [
      "Epoch [270/1000], Training Loss: 1.6221, Accuracy: 0.6006\n"
     ]
    },
    {
     "name": "stderr",
     "output_type": "stream",
     "text": [
      "Epoch [271/1000]: 100%|██████████| 935/935 [00:14<00:00, 64.20batch/s, Batch Loss=1.79]\n"
     ]
    },
    {
     "name": "stdout",
     "output_type": "stream",
     "text": [
      "Epoch [271/1000], Training Loss: 1.6124, Accuracy: 0.6017\n"
     ]
    },
    {
     "name": "stderr",
     "output_type": "stream",
     "text": [
      "Epoch [272/1000]: 100%|██████████| 935/935 [00:14<00:00, 65.43batch/s, Batch Loss=1.39]\n"
     ]
    },
    {
     "name": "stdout",
     "output_type": "stream",
     "text": [
      "Epoch [272/1000], Training Loss: 1.6143, Accuracy: 0.6032\n"
     ]
    },
    {
     "name": "stderr",
     "output_type": "stream",
     "text": [
      "Epoch [273/1000]: 100%|██████████| 935/935 [00:14<00:00, 64.69batch/s, Batch Loss=1.97]\n"
     ]
    },
    {
     "name": "stdout",
     "output_type": "stream",
     "text": [
      "Epoch [273/1000], Training Loss: 1.6080, Accuracy: 0.6040\n"
     ]
    },
    {
     "name": "stderr",
     "output_type": "stream",
     "text": [
      "Epoch [274/1000]: 100%|██████████| 935/935 [00:14<00:00, 64.92batch/s, Batch Loss=1.81]\n"
     ]
    },
    {
     "name": "stdout",
     "output_type": "stream",
     "text": [
      "Epoch [274/1000], Training Loss: 1.6036, Accuracy: 0.6045\n"
     ]
    },
    {
     "name": "stderr",
     "output_type": "stream",
     "text": [
      "Epoch [275/1000]: 100%|██████████| 935/935 [00:14<00:00, 65.37batch/s, Batch Loss=1.8] \n"
     ]
    },
    {
     "name": "stdout",
     "output_type": "stream",
     "text": [
      "Epoch [275/1000], Training Loss: 1.6064, Accuracy: 0.6031\n"
     ]
    },
    {
     "name": "stderr",
     "output_type": "stream",
     "text": [
      "Epoch [276/1000]: 100%|██████████| 935/935 [00:14<00:00, 64.92batch/s, Batch Loss=1.53]\n"
     ]
    },
    {
     "name": "stdout",
     "output_type": "stream",
     "text": [
      "Epoch [276/1000], Training Loss: 1.5995, Accuracy: 0.6048\n"
     ]
    },
    {
     "name": "stderr",
     "output_type": "stream",
     "text": [
      "Epoch [277/1000]: 100%|██████████| 935/935 [00:14<00:00, 64.62batch/s, Batch Loss=1.61]\n"
     ]
    },
    {
     "name": "stdout",
     "output_type": "stream",
     "text": [
      "Epoch [277/1000], Training Loss: 1.5985, Accuracy: 0.6049\n"
     ]
    },
    {
     "name": "stderr",
     "output_type": "stream",
     "text": [
      "Epoch [278/1000]: 100%|██████████| 935/935 [00:14<00:00, 63.59batch/s, Batch Loss=1.72]\n"
     ]
    },
    {
     "name": "stdout",
     "output_type": "stream",
     "text": [
      "Epoch [278/1000], Training Loss: 1.5945, Accuracy: 0.6056\n"
     ]
    },
    {
     "name": "stderr",
     "output_type": "stream",
     "text": [
      "Epoch [279/1000]: 100%|██████████| 935/935 [00:14<00:00, 65.00batch/s, Batch Loss=1.7] \n"
     ]
    },
    {
     "name": "stdout",
     "output_type": "stream",
     "text": [
      "Epoch [279/1000], Training Loss: 1.5966, Accuracy: 0.6056\n"
     ]
    },
    {
     "name": "stderr",
     "output_type": "stream",
     "text": [
      "Epoch [280/1000]: 100%|██████████| 935/935 [00:14<00:00, 64.49batch/s, Batch Loss=1.7] \n"
     ]
    },
    {
     "name": "stdout",
     "output_type": "stream",
     "text": [
      "Epoch [280/1000], Training Loss: 1.5860, Accuracy: 0.6073\n"
     ]
    },
    {
     "name": "stderr",
     "output_type": "stream",
     "text": [
      "Epoch [281/1000]: 100%|██████████| 935/935 [00:14<00:00, 64.41batch/s, Batch Loss=1.68]\n"
     ]
    },
    {
     "name": "stdout",
     "output_type": "stream",
     "text": [
      "Epoch [281/1000], Training Loss: 1.5841, Accuracy: 0.6079\n"
     ]
    },
    {
     "name": "stderr",
     "output_type": "stream",
     "text": [
      "Epoch [282/1000]: 100%|██████████| 935/935 [00:14<00:00, 65.35batch/s, Batch Loss=1.47]\n"
     ]
    },
    {
     "name": "stdout",
     "output_type": "stream",
     "text": [
      "Epoch [282/1000], Training Loss: 1.5845, Accuracy: 0.6067\n"
     ]
    },
    {
     "name": "stderr",
     "output_type": "stream",
     "text": [
      "Epoch [283/1000]: 100%|██████████| 935/935 [00:14<00:00, 64.12batch/s, Batch Loss=1.92]\n"
     ]
    },
    {
     "name": "stdout",
     "output_type": "stream",
     "text": [
      "Epoch [283/1000], Training Loss: 1.5824, Accuracy: 0.6082\n"
     ]
    },
    {
     "name": "stderr",
     "output_type": "stream",
     "text": [
      "Epoch [284/1000]: 100%|██████████| 935/935 [00:14<00:00, 64.48batch/s, Batch Loss=1.67]\n"
     ]
    },
    {
     "name": "stdout",
     "output_type": "stream",
     "text": [
      "Epoch [284/1000], Training Loss: 1.5749, Accuracy: 0.6110\n"
     ]
    },
    {
     "name": "stderr",
     "output_type": "stream",
     "text": [
      "Epoch [285/1000]: 100%|██████████| 935/935 [00:14<00:00, 63.39batch/s, Batch Loss=1.82]\n"
     ]
    },
    {
     "name": "stdout",
     "output_type": "stream",
     "text": [
      "Epoch [285/1000], Training Loss: 1.5750, Accuracy: 0.6092\n"
     ]
    },
    {
     "name": "stderr",
     "output_type": "stream",
     "text": [
      "Epoch [286/1000]: 100%|██████████| 935/935 [00:14<00:00, 64.81batch/s, Batch Loss=1.55]\n"
     ]
    },
    {
     "name": "stdout",
     "output_type": "stream",
     "text": [
      "Epoch [286/1000], Training Loss: 1.5676, Accuracy: 0.6106\n"
     ]
    },
    {
     "name": "stderr",
     "output_type": "stream",
     "text": [
      "Epoch [287/1000]: 100%|██████████| 935/935 [00:14<00:00, 64.52batch/s, Batch Loss=1.65]\n"
     ]
    },
    {
     "name": "stdout",
     "output_type": "stream",
     "text": [
      "Epoch [287/1000], Training Loss: 1.5649, Accuracy: 0.6114\n"
     ]
    },
    {
     "name": "stderr",
     "output_type": "stream",
     "text": [
      "Epoch [288/1000]: 100%|██████████| 935/935 [00:14<00:00, 64.70batch/s, Batch Loss=1.88]\n"
     ]
    },
    {
     "name": "stdout",
     "output_type": "stream",
     "text": [
      "Epoch [288/1000], Training Loss: 1.5590, Accuracy: 0.6136\n"
     ]
    },
    {
     "name": "stderr",
     "output_type": "stream",
     "text": [
      "Epoch [289/1000]: 100%|██████████| 935/935 [00:14<00:00, 64.26batch/s, Batch Loss=1.68]\n"
     ]
    },
    {
     "name": "stdout",
     "output_type": "stream",
     "text": [
      "Epoch [289/1000], Training Loss: 1.5636, Accuracy: 0.6132\n"
     ]
    },
    {
     "name": "stderr",
     "output_type": "stream",
     "text": [
      "Epoch [290/1000]: 100%|██████████| 935/935 [00:14<00:00, 64.72batch/s, Batch Loss=1.62]\n"
     ]
    },
    {
     "name": "stdout",
     "output_type": "stream",
     "text": [
      "Epoch [290/1000], Training Loss: 1.5577, Accuracy: 0.6117\n"
     ]
    },
    {
     "name": "stderr",
     "output_type": "stream",
     "text": [
      "Epoch [291/1000]: 100%|██████████| 935/935 [00:14<00:00, 64.56batch/s, Batch Loss=1.63]\n"
     ]
    },
    {
     "name": "stdout",
     "output_type": "stream",
     "text": [
      "Epoch [291/1000], Training Loss: 1.5510, Accuracy: 0.6151\n"
     ]
    },
    {
     "name": "stderr",
     "output_type": "stream",
     "text": [
      "Epoch [292/1000]: 100%|██████████| 935/935 [00:14<00:00, 64.21batch/s, Batch Loss=1.75]\n"
     ]
    },
    {
     "name": "stdout",
     "output_type": "stream",
     "text": [
      "Epoch [292/1000], Training Loss: 1.5551, Accuracy: 0.6139\n"
     ]
    },
    {
     "name": "stderr",
     "output_type": "stream",
     "text": [
      "Epoch [293/1000]: 100%|██████████| 935/935 [00:14<00:00, 63.74batch/s, Batch Loss=1.52]\n"
     ]
    },
    {
     "name": "stdout",
     "output_type": "stream",
     "text": [
      "Epoch [293/1000], Training Loss: 1.5483, Accuracy: 0.6163\n"
     ]
    },
    {
     "name": "stderr",
     "output_type": "stream",
     "text": [
      "Epoch [294/1000]: 100%|██████████| 935/935 [00:15<00:00, 62.21batch/s, Batch Loss=1.48]\n"
     ]
    },
    {
     "name": "stdout",
     "output_type": "stream",
     "text": [
      "Epoch [294/1000], Training Loss: 1.5486, Accuracy: 0.6145\n"
     ]
    },
    {
     "name": "stderr",
     "output_type": "stream",
     "text": [
      "Epoch [295/1000]: 100%|██████████| 935/935 [00:14<00:00, 63.99batch/s, Batch Loss=1.78]\n"
     ]
    },
    {
     "name": "stdout",
     "output_type": "stream",
     "text": [
      "Epoch [295/1000], Training Loss: 1.5381, Accuracy: 0.6168\n"
     ]
    },
    {
     "name": "stderr",
     "output_type": "stream",
     "text": [
      "Epoch [296/1000]: 100%|██████████| 935/935 [00:14<00:00, 64.26batch/s, Batch Loss=1.75]\n"
     ]
    },
    {
     "name": "stdout",
     "output_type": "stream",
     "text": [
      "Epoch [296/1000], Training Loss: 1.5387, Accuracy: 0.6178\n"
     ]
    },
    {
     "name": "stderr",
     "output_type": "stream",
     "text": [
      "Epoch [297/1000]: 100%|██████████| 935/935 [00:14<00:00, 64.52batch/s, Batch Loss=1.68]\n"
     ]
    },
    {
     "name": "stdout",
     "output_type": "stream",
     "text": [
      "Epoch [297/1000], Training Loss: 1.5317, Accuracy: 0.6189\n"
     ]
    },
    {
     "name": "stderr",
     "output_type": "stream",
     "text": [
      "Epoch [298/1000]: 100%|██████████| 935/935 [00:14<00:00, 64.39batch/s, Batch Loss=1.71]\n"
     ]
    },
    {
     "name": "stdout",
     "output_type": "stream",
     "text": [
      "Epoch [298/1000], Training Loss: 1.5326, Accuracy: 0.6185\n"
     ]
    },
    {
     "name": "stderr",
     "output_type": "stream",
     "text": [
      "Epoch [299/1000]: 100%|██████████| 935/935 [00:14<00:00, 64.46batch/s, Batch Loss=1.64]\n"
     ]
    },
    {
     "name": "stdout",
     "output_type": "stream",
     "text": [
      "Epoch [299/1000], Training Loss: 1.5280, Accuracy: 0.6199\n"
     ]
    },
    {
     "name": "stderr",
     "output_type": "stream",
     "text": [
      "Epoch [300/1000]: 100%|██████████| 935/935 [00:14<00:00, 64.89batch/s, Batch Loss=1.53]\n"
     ]
    },
    {
     "name": "stdout",
     "output_type": "stream",
     "text": [
      "Epoch [300/1000], Training Loss: 1.5313, Accuracy: 0.6181\n",
      "\n",
      "Evaluating on validation set...\n"
     ]
    },
    {
     "name": "stderr",
     "output_type": "stream",
     "text": [
      "Evaluating HR & NDCG for multiple k: 100%|██████████| 201/201 [00:05<00:00, 38.83it/s]\n"
     ]
    },
    {
     "name": "stdout",
     "output_type": "stream",
     "text": [
      "Validation HR@5: 0.3798, NDCG@5: 0.3128\n",
      "Validation HR@10: 0.4234, NDCG@10: 0.3270\n",
      "Validation HR@20: 0.4639, NDCG@20: 0.3372\n",
      "Model saved at 'uet4rec_model_epoch_300.pth'\n"
     ]
    },
    {
     "name": "stderr",
     "output_type": "stream",
     "text": [
      "Epoch [301/1000]: 100%|██████████| 935/935 [00:14<00:00, 64.64batch/s, Batch Loss=1.86]\n"
     ]
    },
    {
     "name": "stdout",
     "output_type": "stream",
     "text": [
      "Epoch [301/1000], Training Loss: 1.5279, Accuracy: 0.6195\n"
     ]
    },
    {
     "name": "stderr",
     "output_type": "stream",
     "text": [
      "Epoch [302/1000]: 100%|██████████| 935/935 [00:14<00:00, 64.48batch/s, Batch Loss=1.65]\n"
     ]
    },
    {
     "name": "stdout",
     "output_type": "stream",
     "text": [
      "Epoch [302/1000], Training Loss: 1.5218, Accuracy: 0.6197\n"
     ]
    },
    {
     "name": "stderr",
     "output_type": "stream",
     "text": [
      "Epoch [303/1000]: 100%|██████████| 935/935 [00:14<00:00, 64.56batch/s, Batch Loss=1.78]\n"
     ]
    },
    {
     "name": "stdout",
     "output_type": "stream",
     "text": [
      "Epoch [303/1000], Training Loss: 1.5130, Accuracy: 0.6228\n"
     ]
    },
    {
     "name": "stderr",
     "output_type": "stream",
     "text": [
      "Epoch [304/1000]: 100%|██████████| 935/935 [00:14<00:00, 65.08batch/s, Batch Loss=1.83]\n"
     ]
    },
    {
     "name": "stdout",
     "output_type": "stream",
     "text": [
      "Epoch [304/1000], Training Loss: 1.5197, Accuracy: 0.6210\n"
     ]
    },
    {
     "name": "stderr",
     "output_type": "stream",
     "text": [
      "Epoch [305/1000]: 100%|██████████| 935/935 [00:14<00:00, 64.38batch/s, Batch Loss=1.61]\n"
     ]
    },
    {
     "name": "stdout",
     "output_type": "stream",
     "text": [
      "Epoch [305/1000], Training Loss: 1.5162, Accuracy: 0.6211\n"
     ]
    },
    {
     "name": "stderr",
     "output_type": "stream",
     "text": [
      "Epoch [306/1000]: 100%|██████████| 935/935 [00:14<00:00, 64.63batch/s, Batch Loss=1.42]\n"
     ]
    },
    {
     "name": "stdout",
     "output_type": "stream",
     "text": [
      "Epoch [306/1000], Training Loss: 1.5124, Accuracy: 0.6222\n"
     ]
    },
    {
     "name": "stderr",
     "output_type": "stream",
     "text": [
      "Epoch [307/1000]: 100%|██████████| 935/935 [00:14<00:00, 64.31batch/s, Batch Loss=1.5] \n"
     ]
    },
    {
     "name": "stdout",
     "output_type": "stream",
     "text": [
      "Epoch [307/1000], Training Loss: 1.5071, Accuracy: 0.6244\n"
     ]
    },
    {
     "name": "stderr",
     "output_type": "stream",
     "text": [
      "Epoch [308/1000]: 100%|██████████| 935/935 [00:14<00:00, 64.92batch/s, Batch Loss=1.58]\n"
     ]
    },
    {
     "name": "stdout",
     "output_type": "stream",
     "text": [
      "Epoch [308/1000], Training Loss: 1.5050, Accuracy: 0.6236\n"
     ]
    },
    {
     "name": "stderr",
     "output_type": "stream",
     "text": [
      "Epoch [309/1000]: 100%|██████████| 935/935 [00:14<00:00, 64.51batch/s, Batch Loss=1.68]\n"
     ]
    },
    {
     "name": "stdout",
     "output_type": "stream",
     "text": [
      "Epoch [309/1000], Training Loss: 1.5026, Accuracy: 0.6248\n"
     ]
    },
    {
     "name": "stderr",
     "output_type": "stream",
     "text": [
      "Epoch [310/1000]: 100%|██████████| 935/935 [00:14<00:00, 64.41batch/s, Batch Loss=1.76]\n"
     ]
    },
    {
     "name": "stdout",
     "output_type": "stream",
     "text": [
      "Epoch [310/1000], Training Loss: 1.4965, Accuracy: 0.6258\n"
     ]
    },
    {
     "name": "stderr",
     "output_type": "stream",
     "text": [
      "Epoch [311/1000]: 100%|██████████| 935/935 [00:14<00:00, 64.59batch/s, Batch Loss=1.82]\n"
     ]
    },
    {
     "name": "stdout",
     "output_type": "stream",
     "text": [
      "Epoch [311/1000], Training Loss: 1.4989, Accuracy: 0.6250\n"
     ]
    },
    {
     "name": "stderr",
     "output_type": "stream",
     "text": [
      "Epoch [312/1000]: 100%|██████████| 935/935 [00:14<00:00, 65.19batch/s, Batch Loss=1.78]\n"
     ]
    },
    {
     "name": "stdout",
     "output_type": "stream",
     "text": [
      "Epoch [312/1000], Training Loss: 1.4927, Accuracy: 0.6270\n"
     ]
    },
    {
     "name": "stderr",
     "output_type": "stream",
     "text": [
      "Epoch [313/1000]: 100%|██████████| 935/935 [00:14<00:00, 64.71batch/s, Batch Loss=1.26]\n"
     ]
    },
    {
     "name": "stdout",
     "output_type": "stream",
     "text": [
      "Epoch [313/1000], Training Loss: 1.4950, Accuracy: 0.6248\n"
     ]
    },
    {
     "name": "stderr",
     "output_type": "stream",
     "text": [
      "Epoch [314/1000]: 100%|██████████| 935/935 [00:14<00:00, 64.39batch/s, Batch Loss=1.73]\n"
     ]
    },
    {
     "name": "stdout",
     "output_type": "stream",
     "text": [
      "Epoch [314/1000], Training Loss: 1.4906, Accuracy: 0.6277\n"
     ]
    },
    {
     "name": "stderr",
     "output_type": "stream",
     "text": [
      "Epoch [315/1000]: 100%|██████████| 935/935 [00:14<00:00, 64.86batch/s, Batch Loss=1.43]\n"
     ]
    },
    {
     "name": "stdout",
     "output_type": "stream",
     "text": [
      "Epoch [315/1000], Training Loss: 1.4895, Accuracy: 0.6267\n"
     ]
    },
    {
     "name": "stderr",
     "output_type": "stream",
     "text": [
      "Epoch [316/1000]: 100%|██████████| 935/935 [00:14<00:00, 63.97batch/s, Batch Loss=1.79]\n"
     ]
    },
    {
     "name": "stdout",
     "output_type": "stream",
     "text": [
      "Epoch [316/1000], Training Loss: 1.4775, Accuracy: 0.6300\n"
     ]
    },
    {
     "name": "stderr",
     "output_type": "stream",
     "text": [
      "Epoch [317/1000]: 100%|██████████| 935/935 [00:14<00:00, 64.37batch/s, Batch Loss=1.59]\n"
     ]
    },
    {
     "name": "stdout",
     "output_type": "stream",
     "text": [
      "Epoch [317/1000], Training Loss: 1.4831, Accuracy: 0.6290\n"
     ]
    },
    {
     "name": "stderr",
     "output_type": "stream",
     "text": [
      "Epoch [318/1000]: 100%|██████████| 935/935 [00:14<00:00, 63.95batch/s, Batch Loss=1.47]\n"
     ]
    },
    {
     "name": "stdout",
     "output_type": "stream",
     "text": [
      "Epoch [318/1000], Training Loss: 1.4788, Accuracy: 0.6297\n"
     ]
    },
    {
     "name": "stderr",
     "output_type": "stream",
     "text": [
      "Epoch [319/1000]: 100%|██████████| 935/935 [00:14<00:00, 65.21batch/s, Batch Loss=1.54]\n"
     ]
    },
    {
     "name": "stdout",
     "output_type": "stream",
     "text": [
      "Epoch [319/1000], Training Loss: 1.4793, Accuracy: 0.6294\n"
     ]
    },
    {
     "name": "stderr",
     "output_type": "stream",
     "text": [
      "Epoch [320/1000]: 100%|██████████| 935/935 [00:14<00:00, 64.77batch/s, Batch Loss=1.65]\n"
     ]
    },
    {
     "name": "stdout",
     "output_type": "stream",
     "text": [
      "Epoch [320/1000], Training Loss: 1.4773, Accuracy: 0.6297\n"
     ]
    },
    {
     "name": "stderr",
     "output_type": "stream",
     "text": [
      "Epoch [321/1000]: 100%|██████████| 935/935 [00:14<00:00, 64.87batch/s, Batch Loss=1.66]\n"
     ]
    },
    {
     "name": "stdout",
     "output_type": "stream",
     "text": [
      "Epoch [321/1000], Training Loss: 1.4698, Accuracy: 0.6310\n"
     ]
    },
    {
     "name": "stderr",
     "output_type": "stream",
     "text": [
      "Epoch [322/1000]: 100%|██████████| 935/935 [00:14<00:00, 65.26batch/s, Batch Loss=1.46]\n"
     ]
    },
    {
     "name": "stdout",
     "output_type": "stream",
     "text": [
      "Epoch [322/1000], Training Loss: 1.4643, Accuracy: 0.6320\n"
     ]
    },
    {
     "name": "stderr",
     "output_type": "stream",
     "text": [
      "Epoch [323/1000]: 100%|██████████| 935/935 [00:15<00:00, 61.75batch/s, Batch Loss=1.53]\n"
     ]
    },
    {
     "name": "stdout",
     "output_type": "stream",
     "text": [
      "Epoch [323/1000], Training Loss: 1.4670, Accuracy: 0.6309\n"
     ]
    },
    {
     "name": "stderr",
     "output_type": "stream",
     "text": [
      "Epoch [324/1000]: 100%|██████████| 935/935 [00:15<00:00, 61.65batch/s, Batch Loss=1.38]\n"
     ]
    },
    {
     "name": "stdout",
     "output_type": "stream",
     "text": [
      "Epoch [324/1000], Training Loss: 1.4704, Accuracy: 0.6312\n"
     ]
    },
    {
     "name": "stderr",
     "output_type": "stream",
     "text": [
      "Epoch [325/1000]: 100%|██████████| 935/935 [00:14<00:00, 62.35batch/s, Batch Loss=1.64]\n"
     ]
    },
    {
     "name": "stdout",
     "output_type": "stream",
     "text": [
      "Epoch [325/1000], Training Loss: 1.4601, Accuracy: 0.6322\n"
     ]
    },
    {
     "name": "stderr",
     "output_type": "stream",
     "text": [
      "Epoch [326/1000]: 100%|██████████| 935/935 [00:14<00:00, 64.14batch/s, Batch Loss=1.68]\n"
     ]
    },
    {
     "name": "stdout",
     "output_type": "stream",
     "text": [
      "Epoch [326/1000], Training Loss: 1.4584, Accuracy: 0.6334\n"
     ]
    },
    {
     "name": "stderr",
     "output_type": "stream",
     "text": [
      "Epoch [327/1000]: 100%|██████████| 935/935 [00:14<00:00, 64.64batch/s, Batch Loss=1.66]\n"
     ]
    },
    {
     "name": "stdout",
     "output_type": "stream",
     "text": [
      "Epoch [327/1000], Training Loss: 1.4562, Accuracy: 0.6346\n"
     ]
    },
    {
     "name": "stderr",
     "output_type": "stream",
     "text": [
      "Epoch [328/1000]: 100%|██████████| 935/935 [00:14<00:00, 64.41batch/s, Batch Loss=1.69]\n"
     ]
    },
    {
     "name": "stdout",
     "output_type": "stream",
     "text": [
      "Epoch [328/1000], Training Loss: 1.4533, Accuracy: 0.6337\n"
     ]
    },
    {
     "name": "stderr",
     "output_type": "stream",
     "text": [
      "Epoch [329/1000]: 100%|██████████| 935/935 [00:14<00:00, 63.86batch/s, Batch Loss=1.72]\n"
     ]
    },
    {
     "name": "stdout",
     "output_type": "stream",
     "text": [
      "Epoch [329/1000], Training Loss: 1.4489, Accuracy: 0.6360\n"
     ]
    },
    {
     "name": "stderr",
     "output_type": "stream",
     "text": [
      "Epoch [330/1000]: 100%|██████████| 935/935 [00:14<00:00, 64.52batch/s, Batch Loss=1.39]\n"
     ]
    },
    {
     "name": "stdout",
     "output_type": "stream",
     "text": [
      "Epoch [330/1000], Training Loss: 1.4459, Accuracy: 0.6366\n"
     ]
    },
    {
     "name": "stderr",
     "output_type": "stream",
     "text": [
      "Epoch [331/1000]: 100%|██████████| 935/935 [00:14<00:00, 64.18batch/s, Batch Loss=1.76]\n"
     ]
    },
    {
     "name": "stdout",
     "output_type": "stream",
     "text": [
      "Epoch [331/1000], Training Loss: 1.4442, Accuracy: 0.6354\n"
     ]
    },
    {
     "name": "stderr",
     "output_type": "stream",
     "text": [
      "Epoch [332/1000]: 100%|██████████| 935/935 [00:14<00:00, 64.56batch/s, Batch Loss=1.66]\n"
     ]
    },
    {
     "name": "stdout",
     "output_type": "stream",
     "text": [
      "Epoch [332/1000], Training Loss: 1.4407, Accuracy: 0.6374\n"
     ]
    },
    {
     "name": "stderr",
     "output_type": "stream",
     "text": [
      "Epoch [333/1000]: 100%|██████████| 935/935 [00:14<00:00, 64.96batch/s, Batch Loss=1.49]\n"
     ]
    },
    {
     "name": "stdout",
     "output_type": "stream",
     "text": [
      "Epoch [333/1000], Training Loss: 1.4422, Accuracy: 0.6367\n"
     ]
    },
    {
     "name": "stderr",
     "output_type": "stream",
     "text": [
      "Epoch [334/1000]: 100%|██████████| 935/935 [00:14<00:00, 64.20batch/s, Batch Loss=1.49]\n"
     ]
    },
    {
     "name": "stdout",
     "output_type": "stream",
     "text": [
      "Epoch [334/1000], Training Loss: 1.4396, Accuracy: 0.6357\n"
     ]
    },
    {
     "name": "stderr",
     "output_type": "stream",
     "text": [
      "Epoch [335/1000]: 100%|██████████| 935/935 [00:14<00:00, 64.05batch/s, Batch Loss=1.76]\n"
     ]
    },
    {
     "name": "stdout",
     "output_type": "stream",
     "text": [
      "Epoch [335/1000], Training Loss: 1.4352, Accuracy: 0.6380\n"
     ]
    },
    {
     "name": "stderr",
     "output_type": "stream",
     "text": [
      "Epoch [336/1000]: 100%|██████████| 935/935 [00:14<00:00, 63.57batch/s, Batch Loss=1.65]\n"
     ]
    },
    {
     "name": "stdout",
     "output_type": "stream",
     "text": [
      "Epoch [336/1000], Training Loss: 1.4354, Accuracy: 0.6372\n"
     ]
    },
    {
     "name": "stderr",
     "output_type": "stream",
     "text": [
      "Epoch [337/1000]: 100%|██████████| 935/935 [00:14<00:00, 64.40batch/s, Batch Loss=1.47]\n"
     ]
    },
    {
     "name": "stdout",
     "output_type": "stream",
     "text": [
      "Epoch [337/1000], Training Loss: 1.4299, Accuracy: 0.6383\n"
     ]
    },
    {
     "name": "stderr",
     "output_type": "stream",
     "text": [
      "Epoch [338/1000]: 100%|██████████| 935/935 [00:14<00:00, 64.32batch/s, Batch Loss=1.33]\n"
     ]
    },
    {
     "name": "stdout",
     "output_type": "stream",
     "text": [
      "Epoch [338/1000], Training Loss: 1.4276, Accuracy: 0.6395\n"
     ]
    },
    {
     "name": "stderr",
     "output_type": "stream",
     "text": [
      "Epoch [339/1000]: 100%|██████████| 935/935 [00:14<00:00, 64.12batch/s, Batch Loss=1.76]\n"
     ]
    },
    {
     "name": "stdout",
     "output_type": "stream",
     "text": [
      "Epoch [339/1000], Training Loss: 1.4291, Accuracy: 0.6393\n"
     ]
    },
    {
     "name": "stderr",
     "output_type": "stream",
     "text": [
      "Epoch [340/1000]: 100%|██████████| 935/935 [00:14<00:00, 64.26batch/s, Batch Loss=1.67]\n"
     ]
    },
    {
     "name": "stdout",
     "output_type": "stream",
     "text": [
      "Epoch [340/1000], Training Loss: 1.4262, Accuracy: 0.6395\n"
     ]
    },
    {
     "name": "stderr",
     "output_type": "stream",
     "text": [
      "Epoch [341/1000]: 100%|██████████| 935/935 [00:14<00:00, 64.72batch/s, Batch Loss=1.37]\n"
     ]
    },
    {
     "name": "stdout",
     "output_type": "stream",
     "text": [
      "Epoch [341/1000], Training Loss: 1.4228, Accuracy: 0.6397\n"
     ]
    },
    {
     "name": "stderr",
     "output_type": "stream",
     "text": [
      "Epoch [342/1000]: 100%|██████████| 935/935 [00:14<00:00, 64.61batch/s, Batch Loss=1.75] \n"
     ]
    },
    {
     "name": "stdout",
     "output_type": "stream",
     "text": [
      "Epoch [342/1000], Training Loss: 1.4210, Accuracy: 0.6421\n"
     ]
    },
    {
     "name": "stderr",
     "output_type": "stream",
     "text": [
      "Epoch [343/1000]: 100%|██████████| 935/935 [00:14<00:00, 64.45batch/s, Batch Loss=1.6] \n"
     ]
    },
    {
     "name": "stdout",
     "output_type": "stream",
     "text": [
      "Epoch [343/1000], Training Loss: 1.4167, Accuracy: 0.6413\n"
     ]
    },
    {
     "name": "stderr",
     "output_type": "stream",
     "text": [
      "Epoch [344/1000]: 100%|██████████| 935/935 [00:14<00:00, 64.72batch/s, Batch Loss=1.52]\n"
     ]
    },
    {
     "name": "stdout",
     "output_type": "stream",
     "text": [
      "Epoch [344/1000], Training Loss: 1.4155, Accuracy: 0.6416\n"
     ]
    },
    {
     "name": "stderr",
     "output_type": "stream",
     "text": [
      "Epoch [345/1000]: 100%|██████████| 935/935 [00:14<00:00, 64.27batch/s, Batch Loss=1.6] \n"
     ]
    },
    {
     "name": "stdout",
     "output_type": "stream",
     "text": [
      "Epoch [345/1000], Training Loss: 1.4124, Accuracy: 0.6431\n"
     ]
    },
    {
     "name": "stderr",
     "output_type": "stream",
     "text": [
      "Epoch [346/1000]: 100%|██████████| 935/935 [00:14<00:00, 63.91batch/s, Batch Loss=1.37] \n"
     ]
    },
    {
     "name": "stdout",
     "output_type": "stream",
     "text": [
      "Epoch [346/1000], Training Loss: 1.4112, Accuracy: 0.6421\n"
     ]
    },
    {
     "name": "stderr",
     "output_type": "stream",
     "text": [
      "Epoch [347/1000]: 100%|██████████| 935/935 [00:14<00:00, 64.21batch/s, Batch Loss=1.61]\n"
     ]
    },
    {
     "name": "stdout",
     "output_type": "stream",
     "text": [
      "Epoch [347/1000], Training Loss: 1.4051, Accuracy: 0.6430\n"
     ]
    },
    {
     "name": "stderr",
     "output_type": "stream",
     "text": [
      "Epoch [348/1000]: 100%|██████████| 935/935 [00:14<00:00, 64.16batch/s, Batch Loss=1.58]\n"
     ]
    },
    {
     "name": "stdout",
     "output_type": "stream",
     "text": [
      "Epoch [348/1000], Training Loss: 1.4054, Accuracy: 0.6456\n"
     ]
    },
    {
     "name": "stderr",
     "output_type": "stream",
     "text": [
      "Epoch [349/1000]: 100%|██████████| 935/935 [00:14<00:00, 63.11batch/s, Batch Loss=1.58] \n"
     ]
    },
    {
     "name": "stdout",
     "output_type": "stream",
     "text": [
      "Epoch [349/1000], Training Loss: 1.4040, Accuracy: 0.6451\n"
     ]
    },
    {
     "name": "stderr",
     "output_type": "stream",
     "text": [
      "Epoch [350/1000]: 100%|██████████| 935/935 [00:14<00:00, 63.60batch/s, Batch Loss=1.49]\n"
     ]
    },
    {
     "name": "stdout",
     "output_type": "stream",
     "text": [
      "Epoch [350/1000], Training Loss: 1.4064, Accuracy: 0.6452\n",
      "\n",
      "Evaluating on validation set...\n"
     ]
    },
    {
     "name": "stderr",
     "output_type": "stream",
     "text": [
      "Evaluating HR & NDCG for multiple k: 100%|██████████| 201/201 [00:05<00:00, 39.35it/s]\n"
     ]
    },
    {
     "name": "stdout",
     "output_type": "stream",
     "text": [
      "Validation HR@5: 0.3787, NDCG@5: 0.3117\n",
      "Validation HR@10: 0.4213, NDCG@10: 0.3256\n",
      "Validation HR@20: 0.4606, NDCG@20: 0.3355\n",
      "Model saved at 'uet4rec_model_epoch_350.pth'\n"
     ]
    },
    {
     "name": "stderr",
     "output_type": "stream",
     "text": [
      "Epoch [351/1000]: 100%|██████████| 935/935 [00:14<00:00, 63.57batch/s, Batch Loss=1.52]\n"
     ]
    },
    {
     "name": "stdout",
     "output_type": "stream",
     "text": [
      "Epoch [351/1000], Training Loss: 1.3917, Accuracy: 0.6457\n"
     ]
    },
    {
     "name": "stderr",
     "output_type": "stream",
     "text": [
      "Epoch [352/1000]: 100%|██████████| 935/935 [00:14<00:00, 64.28batch/s, Batch Loss=1.39] \n"
     ]
    },
    {
     "name": "stdout",
     "output_type": "stream",
     "text": [
      "Epoch [352/1000], Training Loss: 1.3968, Accuracy: 0.6453\n"
     ]
    },
    {
     "name": "stderr",
     "output_type": "stream",
     "text": [
      "Epoch [353/1000]: 100%|██████████| 935/935 [00:14<00:00, 64.14batch/s, Batch Loss=1.58]\n"
     ]
    },
    {
     "name": "stdout",
     "output_type": "stream",
     "text": [
      "Epoch [353/1000], Training Loss: 1.3898, Accuracy: 0.6470\n"
     ]
    },
    {
     "name": "stderr",
     "output_type": "stream",
     "text": [
      "Epoch [354/1000]: 100%|██████████| 935/935 [00:14<00:00, 63.81batch/s, Batch Loss=1.83]\n"
     ]
    },
    {
     "name": "stdout",
     "output_type": "stream",
     "text": [
      "Epoch [354/1000], Training Loss: 1.3990, Accuracy: 0.6461\n"
     ]
    },
    {
     "name": "stderr",
     "output_type": "stream",
     "text": [
      "Epoch [355/1000]: 100%|██████████| 935/935 [00:14<00:00, 64.46batch/s, Batch Loss=1.43] \n"
     ]
    },
    {
     "name": "stdout",
     "output_type": "stream",
     "text": [
      "Epoch [355/1000], Training Loss: 1.3928, Accuracy: 0.6464\n"
     ]
    },
    {
     "name": "stderr",
     "output_type": "stream",
     "text": [
      "Epoch [356/1000]: 100%|██████████| 935/935 [00:14<00:00, 64.19batch/s, Batch Loss=1.51]\n"
     ]
    },
    {
     "name": "stdout",
     "output_type": "stream",
     "text": [
      "Epoch [356/1000], Training Loss: 1.3851, Accuracy: 0.6485\n"
     ]
    },
    {
     "name": "stderr",
     "output_type": "stream",
     "text": [
      "Epoch [357/1000]: 100%|██████████| 935/935 [00:14<00:00, 64.08batch/s, Batch Loss=1.55]\n"
     ]
    },
    {
     "name": "stdout",
     "output_type": "stream",
     "text": [
      "Epoch [357/1000], Training Loss: 1.3811, Accuracy: 0.6493\n"
     ]
    },
    {
     "name": "stderr",
     "output_type": "stream",
     "text": [
      "Epoch [358/1000]: 100%|██████████| 935/935 [00:14<00:00, 64.23batch/s, Batch Loss=1.39]\n"
     ]
    },
    {
     "name": "stdout",
     "output_type": "stream",
     "text": [
      "Epoch [358/1000], Training Loss: 1.3837, Accuracy: 0.6495\n"
     ]
    },
    {
     "name": "stderr",
     "output_type": "stream",
     "text": [
      "Epoch [359/1000]: 100%|██████████| 935/935 [00:14<00:00, 65.04batch/s, Batch Loss=1.58] \n"
     ]
    },
    {
     "name": "stdout",
     "output_type": "stream",
     "text": [
      "Epoch [359/1000], Training Loss: 1.3822, Accuracy: 0.6494\n"
     ]
    },
    {
     "name": "stderr",
     "output_type": "stream",
     "text": [
      "Epoch [360/1000]: 100%|██████████| 935/935 [00:14<00:00, 64.40batch/s, Batch Loss=1.29] \n"
     ]
    },
    {
     "name": "stdout",
     "output_type": "stream",
     "text": [
      "Epoch [360/1000], Training Loss: 1.3832, Accuracy: 0.6488\n"
     ]
    },
    {
     "name": "stderr",
     "output_type": "stream",
     "text": [
      "Epoch [361/1000]: 100%|██████████| 935/935 [00:14<00:00, 64.36batch/s, Batch Loss=1.4]  \n"
     ]
    },
    {
     "name": "stdout",
     "output_type": "stream",
     "text": [
      "Epoch [361/1000], Training Loss: 1.3787, Accuracy: 0.6496\n"
     ]
    },
    {
     "name": "stderr",
     "output_type": "stream",
     "text": [
      "Epoch [362/1000]: 100%|██████████| 935/935 [00:14<00:00, 64.86batch/s, Batch Loss=1.51]\n"
     ]
    },
    {
     "name": "stdout",
     "output_type": "stream",
     "text": [
      "Epoch [362/1000], Training Loss: 1.3712, Accuracy: 0.6520\n"
     ]
    },
    {
     "name": "stderr",
     "output_type": "stream",
     "text": [
      "Epoch [363/1000]: 100%|██████████| 935/935 [00:14<00:00, 63.94batch/s, Batch Loss=1.58] \n"
     ]
    },
    {
     "name": "stdout",
     "output_type": "stream",
     "text": [
      "Epoch [363/1000], Training Loss: 1.3715, Accuracy: 0.6516\n"
     ]
    },
    {
     "name": "stderr",
     "output_type": "stream",
     "text": [
      "Epoch [364/1000]: 100%|██████████| 935/935 [00:14<00:00, 62.98batch/s, Batch Loss=1.32] \n"
     ]
    },
    {
     "name": "stdout",
     "output_type": "stream",
     "text": [
      "Epoch [364/1000], Training Loss: 1.3635, Accuracy: 0.6516\n"
     ]
    },
    {
     "name": "stderr",
     "output_type": "stream",
     "text": [
      "Epoch [365/1000]: 100%|██████████| 935/935 [00:14<00:00, 62.72batch/s, Batch Loss=1.31] \n"
     ]
    },
    {
     "name": "stdout",
     "output_type": "stream",
     "text": [
      "Epoch [365/1000], Training Loss: 1.3704, Accuracy: 0.6515\n"
     ]
    },
    {
     "name": "stderr",
     "output_type": "stream",
     "text": [
      "Epoch [366/1000]: 100%|██████████| 935/935 [00:14<00:00, 64.04batch/s, Batch Loss=1.52] \n"
     ]
    },
    {
     "name": "stdout",
     "output_type": "stream",
     "text": [
      "Epoch [366/1000], Training Loss: 1.3623, Accuracy: 0.6537\n"
     ]
    },
    {
     "name": "stderr",
     "output_type": "stream",
     "text": [
      "Epoch [367/1000]: 100%|██████████| 935/935 [00:14<00:00, 63.54batch/s, Batch Loss=1.25] \n"
     ]
    },
    {
     "name": "stdout",
     "output_type": "stream",
     "text": [
      "Epoch [367/1000], Training Loss: 1.3627, Accuracy: 0.6524\n"
     ]
    },
    {
     "name": "stderr",
     "output_type": "stream",
     "text": [
      "Epoch [368/1000]: 100%|██████████| 935/935 [00:14<00:00, 63.24batch/s, Batch Loss=1.69]\n"
     ]
    },
    {
     "name": "stdout",
     "output_type": "stream",
     "text": [
      "Epoch [368/1000], Training Loss: 1.3619, Accuracy: 0.6525\n"
     ]
    },
    {
     "name": "stderr",
     "output_type": "stream",
     "text": [
      "Epoch [369/1000]: 100%|██████████| 935/935 [00:14<00:00, 64.76batch/s, Batch Loss=1.3] \n"
     ]
    },
    {
     "name": "stdout",
     "output_type": "stream",
     "text": [
      "Epoch [369/1000], Training Loss: 1.3590, Accuracy: 0.6528\n"
     ]
    },
    {
     "name": "stderr",
     "output_type": "stream",
     "text": [
      "Epoch [370/1000]: 100%|██████████| 935/935 [00:14<00:00, 64.37batch/s, Batch Loss=1.6]  \n"
     ]
    },
    {
     "name": "stdout",
     "output_type": "stream",
     "text": [
      "Epoch [370/1000], Training Loss: 1.3546, Accuracy: 0.6547\n"
     ]
    },
    {
     "name": "stderr",
     "output_type": "stream",
     "text": [
      "Epoch [371/1000]: 100%|██████████| 935/935 [00:14<00:00, 64.33batch/s, Batch Loss=1.6] \n"
     ]
    },
    {
     "name": "stdout",
     "output_type": "stream",
     "text": [
      "Epoch [371/1000], Training Loss: 1.3546, Accuracy: 0.6542\n"
     ]
    },
    {
     "name": "stderr",
     "output_type": "stream",
     "text": [
      "Epoch [372/1000]: 100%|██████████| 935/935 [00:14<00:00, 64.25batch/s, Batch Loss=1.51]\n"
     ]
    },
    {
     "name": "stdout",
     "output_type": "stream",
     "text": [
      "Epoch [372/1000], Training Loss: 1.3562, Accuracy: 0.6542\n"
     ]
    },
    {
     "name": "stderr",
     "output_type": "stream",
     "text": [
      "Epoch [373/1000]: 100%|██████████| 935/935 [00:14<00:00, 64.98batch/s, Batch Loss=1.44]\n"
     ]
    },
    {
     "name": "stdout",
     "output_type": "stream",
     "text": [
      "Epoch [373/1000], Training Loss: 1.3512, Accuracy: 0.6556\n"
     ]
    },
    {
     "name": "stderr",
     "output_type": "stream",
     "text": [
      "Epoch [374/1000]: 100%|██████████| 935/935 [00:14<00:00, 64.46batch/s, Batch Loss=1.57] \n"
     ]
    },
    {
     "name": "stdout",
     "output_type": "stream",
     "text": [
      "Epoch [374/1000], Training Loss: 1.3536, Accuracy: 0.6561\n"
     ]
    },
    {
     "name": "stderr",
     "output_type": "stream",
     "text": [
      "Epoch [375/1000]: 100%|██████████| 935/935 [00:14<00:00, 63.63batch/s, Batch Loss=1.41] \n"
     ]
    },
    {
     "name": "stdout",
     "output_type": "stream",
     "text": [
      "Epoch [375/1000], Training Loss: 1.3424, Accuracy: 0.6573\n"
     ]
    },
    {
     "name": "stderr",
     "output_type": "stream",
     "text": [
      "Epoch [376/1000]: 100%|██████████| 935/935 [00:14<00:00, 64.66batch/s, Batch Loss=1.83] \n"
     ]
    },
    {
     "name": "stdout",
     "output_type": "stream",
     "text": [
      "Epoch [376/1000], Training Loss: 1.3468, Accuracy: 0.6564\n"
     ]
    },
    {
     "name": "stderr",
     "output_type": "stream",
     "text": [
      "Epoch [377/1000]: 100%|██████████| 935/935 [00:14<00:00, 64.54batch/s, Batch Loss=1.57] \n"
     ]
    },
    {
     "name": "stdout",
     "output_type": "stream",
     "text": [
      "Epoch [377/1000], Training Loss: 1.3454, Accuracy: 0.6562\n"
     ]
    },
    {
     "name": "stderr",
     "output_type": "stream",
     "text": [
      "Epoch [378/1000]: 100%|██████████| 935/935 [00:14<00:00, 63.72batch/s, Batch Loss=1.59] \n"
     ]
    },
    {
     "name": "stdout",
     "output_type": "stream",
     "text": [
      "Epoch [378/1000], Training Loss: 1.3427, Accuracy: 0.6580\n"
     ]
    },
    {
     "name": "stderr",
     "output_type": "stream",
     "text": [
      "Epoch [379/1000]: 100%|██████████| 935/935 [00:14<00:00, 63.64batch/s, Batch Loss=1.38] \n"
     ]
    },
    {
     "name": "stdout",
     "output_type": "stream",
     "text": [
      "Epoch [379/1000], Training Loss: 1.3394, Accuracy: 0.6583\n"
     ]
    },
    {
     "name": "stderr",
     "output_type": "stream",
     "text": [
      "Epoch [380/1000]: 100%|██████████| 935/935 [00:14<00:00, 64.61batch/s, Batch Loss=1.35] \n"
     ]
    },
    {
     "name": "stdout",
     "output_type": "stream",
     "text": [
      "Epoch [380/1000], Training Loss: 1.3364, Accuracy: 0.6584\n"
     ]
    },
    {
     "name": "stderr",
     "output_type": "stream",
     "text": [
      "Epoch [381/1000]: 100%|██████████| 935/935 [00:14<00:00, 64.33batch/s, Batch Loss=1.4]  \n"
     ]
    },
    {
     "name": "stdout",
     "output_type": "stream",
     "text": [
      "Epoch [381/1000], Training Loss: 1.3360, Accuracy: 0.6579\n"
     ]
    },
    {
     "name": "stderr",
     "output_type": "stream",
     "text": [
      "Epoch [382/1000]: 100%|██████████| 935/935 [00:14<00:00, 64.32batch/s, Batch Loss=1.49]\n"
     ]
    },
    {
     "name": "stdout",
     "output_type": "stream",
     "text": [
      "Epoch [382/1000], Training Loss: 1.3355, Accuracy: 0.6585\n"
     ]
    },
    {
     "name": "stderr",
     "output_type": "stream",
     "text": [
      "Epoch [383/1000]: 100%|██████████| 935/935 [00:14<00:00, 64.05batch/s, Batch Loss=1.64] \n"
     ]
    },
    {
     "name": "stdout",
     "output_type": "stream",
     "text": [
      "Epoch [383/1000], Training Loss: 1.3339, Accuracy: 0.6590\n"
     ]
    },
    {
     "name": "stderr",
     "output_type": "stream",
     "text": [
      "Epoch [384/1000]: 100%|██████████| 935/935 [00:14<00:00, 64.67batch/s, Batch Loss=1.38]\n"
     ]
    },
    {
     "name": "stdout",
     "output_type": "stream",
     "text": [
      "Epoch [384/1000], Training Loss: 1.3309, Accuracy: 0.6596\n"
     ]
    },
    {
     "name": "stderr",
     "output_type": "stream",
     "text": [
      "Epoch [385/1000]: 100%|██████████| 935/935 [00:14<00:00, 64.66batch/s, Batch Loss=1.41] \n"
     ]
    },
    {
     "name": "stdout",
     "output_type": "stream",
     "text": [
      "Epoch [385/1000], Training Loss: 1.3261, Accuracy: 0.6607\n"
     ]
    },
    {
     "name": "stderr",
     "output_type": "stream",
     "text": [
      "Epoch [386/1000]: 100%|██████████| 935/935 [00:14<00:00, 64.92batch/s, Batch Loss=1.3]  \n"
     ]
    },
    {
     "name": "stdout",
     "output_type": "stream",
     "text": [
      "Epoch [386/1000], Training Loss: 1.3254, Accuracy: 0.6607\n"
     ]
    },
    {
     "name": "stderr",
     "output_type": "stream",
     "text": [
      "Epoch [387/1000]: 100%|██████████| 935/935 [00:14<00:00, 65.39batch/s, Batch Loss=1.27]\n"
     ]
    },
    {
     "name": "stdout",
     "output_type": "stream",
     "text": [
      "Epoch [387/1000], Training Loss: 1.3214, Accuracy: 0.6620\n"
     ]
    },
    {
     "name": "stderr",
     "output_type": "stream",
     "text": [
      "Epoch [388/1000]: 100%|██████████| 935/935 [00:14<00:00, 64.79batch/s, Batch Loss=1.52] \n"
     ]
    },
    {
     "name": "stdout",
     "output_type": "stream",
     "text": [
      "Epoch [388/1000], Training Loss: 1.3233, Accuracy: 0.6610\n"
     ]
    },
    {
     "name": "stderr",
     "output_type": "stream",
     "text": [
      "Epoch [389/1000]: 100%|██████████| 935/935 [00:14<00:00, 64.39batch/s, Batch Loss=1.63] \n"
     ]
    },
    {
     "name": "stdout",
     "output_type": "stream",
     "text": [
      "Epoch [389/1000], Training Loss: 1.3240, Accuracy: 0.6614\n"
     ]
    },
    {
     "name": "stderr",
     "output_type": "stream",
     "text": [
      "Epoch [390/1000]: 100%|██████████| 935/935 [00:14<00:00, 64.42batch/s, Batch Loss=1.35] \n"
     ]
    },
    {
     "name": "stdout",
     "output_type": "stream",
     "text": [
      "Epoch [390/1000], Training Loss: 1.3164, Accuracy: 0.6628\n"
     ]
    },
    {
     "name": "stderr",
     "output_type": "stream",
     "text": [
      "Epoch [391/1000]: 100%|██████████| 935/935 [00:14<00:00, 64.78batch/s, Batch Loss=1.48] \n"
     ]
    },
    {
     "name": "stdout",
     "output_type": "stream",
     "text": [
      "Epoch [391/1000], Training Loss: 1.3120, Accuracy: 0.6638\n"
     ]
    },
    {
     "name": "stderr",
     "output_type": "stream",
     "text": [
      "Epoch [392/1000]: 100%|██████████| 935/935 [00:14<00:00, 64.52batch/s, Batch Loss=1.46] \n"
     ]
    },
    {
     "name": "stdout",
     "output_type": "stream",
     "text": [
      "Epoch [392/1000], Training Loss: 1.3136, Accuracy: 0.6637\n"
     ]
    },
    {
     "name": "stderr",
     "output_type": "stream",
     "text": [
      "Epoch [393/1000]: 100%|██████████| 935/935 [00:14<00:00, 64.47batch/s, Batch Loss=1.61] \n"
     ]
    },
    {
     "name": "stdout",
     "output_type": "stream",
     "text": [
      "Epoch [393/1000], Training Loss: 1.3106, Accuracy: 0.6634\n"
     ]
    },
    {
     "name": "stderr",
     "output_type": "stream",
     "text": [
      "Epoch [394/1000]: 100%|██████████| 935/935 [00:14<00:00, 64.89batch/s, Batch Loss=1.32] \n"
     ]
    },
    {
     "name": "stdout",
     "output_type": "stream",
     "text": [
      "Epoch [394/1000], Training Loss: 1.3143, Accuracy: 0.6640\n"
     ]
    },
    {
     "name": "stderr",
     "output_type": "stream",
     "text": [
      "Epoch [395/1000]: 100%|██████████| 935/935 [00:14<00:00, 65.31batch/s, Batch Loss=1.44] \n"
     ]
    },
    {
     "name": "stdout",
     "output_type": "stream",
     "text": [
      "Epoch [395/1000], Training Loss: 1.3103, Accuracy: 0.6641\n"
     ]
    },
    {
     "name": "stderr",
     "output_type": "stream",
     "text": [
      "Epoch [396/1000]: 100%|██████████| 935/935 [00:14<00:00, 64.08batch/s, Batch Loss=1.45] \n"
     ]
    },
    {
     "name": "stdout",
     "output_type": "stream",
     "text": [
      "Epoch [396/1000], Training Loss: 1.3128, Accuracy: 0.6623\n"
     ]
    },
    {
     "name": "stderr",
     "output_type": "stream",
     "text": [
      "Epoch [397/1000]: 100%|██████████| 935/935 [00:14<00:00, 64.58batch/s, Batch Loss=1.43] \n"
     ]
    },
    {
     "name": "stdout",
     "output_type": "stream",
     "text": [
      "Epoch [397/1000], Training Loss: 1.3068, Accuracy: 0.6649\n"
     ]
    },
    {
     "name": "stderr",
     "output_type": "stream",
     "text": [
      "Epoch [398/1000]: 100%|██████████| 935/935 [00:14<00:00, 65.13batch/s, Batch Loss=1.21] \n"
     ]
    },
    {
     "name": "stdout",
     "output_type": "stream",
     "text": [
      "Epoch [398/1000], Training Loss: 1.3042, Accuracy: 0.6642\n"
     ]
    },
    {
     "name": "stderr",
     "output_type": "stream",
     "text": [
      "Epoch [399/1000]: 100%|██████████| 935/935 [00:14<00:00, 64.45batch/s, Batch Loss=1.53] \n"
     ]
    },
    {
     "name": "stdout",
     "output_type": "stream",
     "text": [
      "Epoch [399/1000], Training Loss: 1.3021, Accuracy: 0.6655\n"
     ]
    },
    {
     "name": "stderr",
     "output_type": "stream",
     "text": [
      "Epoch [400/1000]: 100%|██████████| 935/935 [00:14<00:00, 64.62batch/s, Batch Loss=1.43] \n"
     ]
    },
    {
     "name": "stdout",
     "output_type": "stream",
     "text": [
      "Epoch [400/1000], Training Loss: 1.2974, Accuracy: 0.6667\n",
      "\n",
      "Evaluating on validation set...\n"
     ]
    },
    {
     "name": "stderr",
     "output_type": "stream",
     "text": [
      "Evaluating HR & NDCG for multiple k: 100%|██████████| 201/201 [00:04<00:00, 40.23it/s]\n"
     ]
    },
    {
     "name": "stdout",
     "output_type": "stream",
     "text": [
      "Validation HR@5: 0.3791, NDCG@5: 0.3119\n",
      "Validation HR@10: 0.4207, NDCG@10: 0.3254\n",
      "Validation HR@20: 0.4598, NDCG@20: 0.3353\n",
      "Model saved at 'uet4rec_model_epoch_400.pth'\n"
     ]
    },
    {
     "name": "stderr",
     "output_type": "stream",
     "text": [
      "Epoch [653/1000]: 100%|██████████| 935/935 [00:15<00:00, 61.87batch/s, Batch Loss=0.884]\n"
     ]
    },
    {
     "name": "stdout",
     "output_type": "stream",
     "text": [
      "Epoch [653/1000], Training Loss: 0.9945, Accuracy: 0.7353\n"
     ]
    },
    {
     "name": "stderr",
     "output_type": "stream",
     "text": [
      "Epoch [654/1000]: 100%|██████████| 935/935 [00:14<00:00, 63.68batch/s, Batch Loss=1.13] \n"
     ]
    },
    {
     "name": "stdout",
     "output_type": "stream",
     "text": [
      "Epoch [654/1000], Training Loss: 1.0007, Accuracy: 0.7348\n"
     ]
    },
    {
     "name": "stderr",
     "output_type": "stream",
     "text": [
      "Epoch [655/1000]: 100%|██████████| 935/935 [00:14<00:00, 65.07batch/s, Batch Loss=1.19] \n"
     ]
    },
    {
     "name": "stdout",
     "output_type": "stream",
     "text": [
      "Epoch [655/1000], Training Loss: 0.9988, Accuracy: 0.7342\n"
     ]
    },
    {
     "name": "stderr",
     "output_type": "stream",
     "text": [
      "Epoch [656/1000]:   8%|▊         | 76/935 [00:01<00:13, 66.03batch/s, Batch Loss=0.866]IOPub message rate exceeded.\n",
      "The Jupyter server will temporarily stop sending output\n",
      "to the client in order to avoid crashing it.\n",
      "To change this limit, set the config variable\n",
      "`--ServerApp.iopub_msg_rate_limit`.\n",
      "\n",
      "Current values:\n",
      "ServerApp.iopub_msg_rate_limit=1000.0 (msgs/sec)\n",
      "ServerApp.rate_limit_window=3.0 (secs)\n",
      "\n",
      "Epoch [685/1000]: 100%|██████████| 935/935 [00:14<00:00, 65.20batch/s, Batch Loss=1.04] \n"
     ]
    },
    {
     "name": "stdout",
     "output_type": "stream",
     "text": [
      "Epoch [685/1000], Training Loss: 0.9760, Accuracy: 0.7398\n"
     ]
    },
    {
     "name": "stderr",
     "output_type": "stream",
     "text": [
      "Epoch [686/1000]: 100%|██████████| 935/935 [00:14<00:00, 65.27batch/s, Batch Loss=0.869]\n"
     ]
    },
    {
     "name": "stdout",
     "output_type": "stream",
     "text": [
      "Epoch [686/1000], Training Loss: 0.9738, Accuracy: 0.7392\n"
     ]
    },
    {
     "name": "stderr",
     "output_type": "stream",
     "text": [
      "Epoch [687/1000]: 100%|██████████| 935/935 [00:14<00:00, 65.21batch/s, Batch Loss=1.1]  \n"
     ]
    },
    {
     "name": "stdout",
     "output_type": "stream",
     "text": [
      "Epoch [687/1000], Training Loss: 0.9700, Accuracy: 0.7413\n"
     ]
    },
    {
     "name": "stderr",
     "output_type": "stream",
     "text": [
      "Epoch [688/1000]: 100%|██████████| 935/935 [00:14<00:00, 65.93batch/s, Batch Loss=0.974]\n"
     ]
    },
    {
     "name": "stdout",
     "output_type": "stream",
     "text": [
      "Epoch [688/1000], Training Loss: 0.9762, Accuracy: 0.7403\n"
     ]
    },
    {
     "name": "stderr",
     "output_type": "stream",
     "text": [
      "Epoch [691/1000]: 100%|██████████| 935/935 [00:14<00:00, 66.10batch/s, Batch Loss=1.01] \n"
     ]
    },
    {
     "name": "stdout",
     "output_type": "stream",
     "text": [
      "Epoch [691/1000], Training Loss: 0.9699, Accuracy: 0.7407\n"
     ]
    },
    {
     "name": "stderr",
     "output_type": "stream",
     "text": [
      "Epoch [692/1000]: 100%|██████████| 935/935 [00:14<00:00, 65.68batch/s, Batch Loss=0.942]\n"
     ]
    },
    {
     "name": "stdout",
     "output_type": "stream",
     "text": [
      "Epoch [692/1000], Training Loss: 0.9686, Accuracy: 0.7416\n"
     ]
    },
    {
     "name": "stderr",
     "output_type": "stream",
     "text": [
      "Epoch [693/1000]: 100%|██████████| 935/935 [00:14<00:00, 65.63batch/s, Batch Loss=0.963]\n"
     ]
    },
    {
     "name": "stdout",
     "output_type": "stream",
     "text": [
      "Epoch [693/1000], Training Loss: 0.9707, Accuracy: 0.7417\n"
     ]
    },
    {
     "name": "stderr",
     "output_type": "stream",
     "text": [
      "Epoch [694/1000]:  45%|████▍     | 419/935 [00:06<00:07, 66.13batch/s, Batch Loss=0.838]IOPub message rate exceeded.\n",
      "The Jupyter server will temporarily stop sending output\n",
      "to the client in order to avoid crashing it.\n",
      "To change this limit, set the config variable\n",
      "`--ServerApp.iopub_msg_rate_limit`.\n",
      "\n",
      "Current values:\n",
      "ServerApp.iopub_msg_rate_limit=1000.0 (msgs/sec)\n",
      "ServerApp.rate_limit_window=3.0 (secs)\n",
      "\n",
      "Epoch [706/1000]: 100%|██████████| 935/935 [00:14<00:00, 64.83batch/s, Batch Loss=0.939]\n"
     ]
    },
    {
     "name": "stdout",
     "output_type": "stream",
     "text": [
      "Epoch [706/1000], Training Loss: 0.9590, Accuracy: 0.7439\n"
     ]
    },
    {
     "name": "stderr",
     "output_type": "stream",
     "text": [
      "Epoch [707/1000]: 100%|██████████| 935/935 [00:14<00:00, 65.07batch/s, Batch Loss=1.26] \n"
     ]
    },
    {
     "name": "stdout",
     "output_type": "stream",
     "text": [
      "Epoch [707/1000], Training Loss: 0.9625, Accuracy: 0.7428\n"
     ]
    },
    {
     "name": "stderr",
     "output_type": "stream",
     "text": [
      "Epoch [708/1000]: 100%|██████████| 935/935 [00:14<00:00, 65.57batch/s, Batch Loss=1.02] \n"
     ]
    },
    {
     "name": "stdout",
     "output_type": "stream",
     "text": [
      "Epoch [708/1000], Training Loss: 0.9607, Accuracy: 0.7429\n"
     ]
    },
    {
     "name": "stderr",
     "output_type": "stream",
     "text": [
      "Epoch [709/1000]: 100%|██████████| 935/935 [00:14<00:00, 65.46batch/s, Batch Loss=0.982]\n"
     ]
    },
    {
     "name": "stdout",
     "output_type": "stream",
     "text": [
      "Epoch [709/1000], Training Loss: 0.9589, Accuracy: 0.7449\n"
     ]
    },
    {
     "name": "stderr",
     "output_type": "stream",
     "text": [
      "Epoch [713/1000]: 100%|██████████| 935/935 [00:14<00:00, 65.10batch/s, Batch Loss=1.22] \n"
     ]
    },
    {
     "name": "stdout",
     "output_type": "stream",
     "text": [
      "Epoch [713/1000], Training Loss: 0.9546, Accuracy: 0.7447\n"
     ]
    },
    {
     "name": "stderr",
     "output_type": "stream",
     "text": [
      "Epoch [714/1000]: 100%|██████████| 935/935 [00:14<00:00, 65.02batch/s, Batch Loss=1.29] \n"
     ]
    },
    {
     "name": "stdout",
     "output_type": "stream",
     "text": [
      "Epoch [714/1000], Training Loss: 0.9591, Accuracy: 0.7442\n"
     ]
    },
    {
     "name": "stderr",
     "output_type": "stream",
     "text": [
      "Epoch [715/1000]:  86%|████████▌ | 804/935 [00:12<00:01, 66.19batch/s, Batch Loss=0.907]IOPub message rate exceeded.\n",
      "The Jupyter server will temporarily stop sending output\n",
      "to the client in order to avoid crashing it.\n",
      "To change this limit, set the config variable\n",
      "`--ServerApp.iopub_msg_rate_limit`.\n",
      "\n",
      "Current values:\n",
      "ServerApp.iopub_msg_rate_limit=1000.0 (msgs/sec)\n",
      "ServerApp.rate_limit_window=3.0 (secs)\n",
      "\n",
      "Epoch [728/1000]: 100%|██████████| 935/935 [00:14<00:00, 65.79batch/s, Batch Loss=0.847]\n"
     ]
    },
    {
     "name": "stdout",
     "output_type": "stream",
     "text": [
      "Epoch [728/1000], Training Loss: 0.9458, Accuracy: 0.7469\n"
     ]
    },
    {
     "name": "stderr",
     "output_type": "stream",
     "text": [
      "Epoch [729/1000]: 100%|██████████| 935/935 [00:14<00:00, 64.69batch/s, Batch Loss=1.06] \n"
     ]
    },
    {
     "name": "stdout",
     "output_type": "stream",
     "text": [
      "Epoch [729/1000], Training Loss: 0.9461, Accuracy: 0.7471\n"
     ]
    },
    {
     "name": "stderr",
     "output_type": "stream",
     "text": [
      "Epoch [730/1000]: 100%|██████████| 935/935 [00:14<00:00, 65.65batch/s, Batch Loss=0.952]\n"
     ]
    },
    {
     "name": "stdout",
     "output_type": "stream",
     "text": [
      "Epoch [730/1000], Training Loss: 0.9417, Accuracy: 0.7473\n"
     ]
    },
    {
     "name": "stderr",
     "output_type": "stream",
     "text": [
      "Epoch [731/1000]: 100%|██████████| 935/935 [00:14<00:00, 65.69batch/s, Batch Loss=1.03] \n"
     ]
    },
    {
     "name": "stdout",
     "output_type": "stream",
     "text": [
      "Epoch [731/1000], Training Loss: 0.9451, Accuracy: 0.7472\n"
     ]
    },
    {
     "name": "stderr",
     "output_type": "stream",
     "text": [
      "Epoch [735/1000]: 100%|██████████| 935/935 [00:14<00:00, 65.95batch/s, Batch Loss=1.16] \n"
     ]
    },
    {
     "name": "stdout",
     "output_type": "stream",
     "text": [
      "Epoch [735/1000], Training Loss: 0.9399, Accuracy: 0.7491\n"
     ]
    },
    {
     "name": "stderr",
     "output_type": "stream",
     "text": [
      "Epoch [736/1000]: 100%|██████████| 935/935 [00:14<00:00, 65.37batch/s, Batch Loss=0.898]\n"
     ]
    },
    {
     "name": "stdout",
     "output_type": "stream",
     "text": [
      "Epoch [736/1000], Training Loss: 0.9421, Accuracy: 0.7480\n"
     ]
    },
    {
     "name": "stderr",
     "output_type": "stream",
     "text": [
      "Epoch [737/1000]: 100%|██████████| 935/935 [00:14<00:00, 65.11batch/s, Batch Loss=0.973]\n"
     ]
    },
    {
     "name": "stdout",
     "output_type": "stream",
     "text": [
      "Epoch [737/1000], Training Loss: 0.9421, Accuracy: 0.7476\n"
     ]
    },
    {
     "name": "stderr",
     "output_type": "stream",
     "text": [
      "Epoch [738/1000]:   7%|▋         | 62/935 [00:00<00:13, 65.52batch/s, Batch Loss=0.784]IOPub message rate exceeded.\n",
      "The Jupyter server will temporarily stop sending output\n",
      "to the client in order to avoid crashing it.\n",
      "To change this limit, set the config variable\n",
      "`--ServerApp.iopub_msg_rate_limit`.\n",
      "\n",
      "Current values:\n",
      "ServerApp.iopub_msg_rate_limit=1000.0 (msgs/sec)\n",
      "ServerApp.rate_limit_window=3.0 (secs)\n",
      "\n",
      "Evaluating HR & NDCG for multiple k: 100%|██████████| 201/201 [00:04<00:00, 40.89it/s]\n"
     ]
    },
    {
     "name": "stdout",
     "output_type": "stream",
     "text": [
      "Validation HR@5: 0.3744, NDCG@5: 0.3083\n",
      "Validation HR@10: 0.4148, NDCG@10: 0.3214\n",
      "Validation HR@20: 0.4522, NDCG@20: 0.3309\n",
      "Model saved at 'uet4rec_model_epoch_750.pth'\n"
     ]
    },
    {
     "name": "stderr",
     "output_type": "stream",
     "text": [
      "Epoch [751/1000]: 100%|██████████| 935/935 [00:14<00:00, 65.58batch/s, Batch Loss=0.916]\n"
     ]
    },
    {
     "name": "stdout",
     "output_type": "stream",
     "text": [
      "Epoch [751/1000], Training Loss: 0.9314, Accuracy: 0.7502\n"
     ]
    },
    {
     "name": "stderr",
     "output_type": "stream",
     "text": [
      "Epoch [752/1000]: 100%|██████████| 935/935 [00:14<00:00, 64.68batch/s, Batch Loss=1.07] \n"
     ]
    },
    {
     "name": "stdout",
     "output_type": "stream",
     "text": [
      "Epoch [752/1000], Training Loss: 0.9373, Accuracy: 0.7494\n"
     ]
    },
    {
     "name": "stderr",
     "output_type": "stream",
     "text": [
      "Epoch [753/1000]: 100%|██████████| 935/935 [00:14<00:00, 64.56batch/s, Batch Loss=0.955]\n"
     ]
    },
    {
     "name": "stdout",
     "output_type": "stream",
     "text": [
      "Epoch [753/1000], Training Loss: 0.9288, Accuracy: 0.7513\n"
     ]
    },
    {
     "name": "stderr",
     "output_type": "stream",
     "text": [
      "Epoch [757/1000]: 100%|██████████| 935/935 [00:14<00:00, 66.01batch/s, Batch Loss=1.11] \n"
     ]
    },
    {
     "name": "stdout",
     "output_type": "stream",
     "text": [
      "Epoch [757/1000], Training Loss: 0.9273, Accuracy: 0.7526\n"
     ]
    },
    {
     "name": "stderr",
     "output_type": "stream",
     "text": [
      "Epoch [758/1000]: 100%|██████████| 935/935 [00:14<00:00, 65.47batch/s, Batch Loss=1.1]  \n"
     ]
    },
    {
     "name": "stdout",
     "output_type": "stream",
     "text": [
      "Epoch [758/1000], Training Loss: 0.9284, Accuracy: 0.7513\n"
     ]
    },
    {
     "name": "stderr",
     "output_type": "stream",
     "text": [
      "Epoch [759/1000]: 100%|██████████| 935/935 [00:14<00:00, 65.70batch/s, Batch Loss=0.934]\n"
     ]
    },
    {
     "name": "stdout",
     "output_type": "stream",
     "text": [
      "Epoch [759/1000], Training Loss: 0.9206, Accuracy: 0.7522\n"
     ]
    },
    {
     "name": "stderr",
     "output_type": "stream",
     "text": [
      "Epoch [760/1000]:  13%|█▎        | 118/935 [00:01<00:12, 65.82batch/s, Batch Loss=0.752]IOPub message rate exceeded.\n",
      "The Jupyter server will temporarily stop sending output\n",
      "to the client in order to avoid crashing it.\n",
      "To change this limit, set the config variable\n",
      "`--ServerApp.iopub_msg_rate_limit`.\n",
      "\n",
      "Current values:\n",
      "ServerApp.iopub_msg_rate_limit=1000.0 (msgs/sec)\n",
      "ServerApp.rate_limit_window=3.0 (secs)\n",
      "\n",
      "Epoch [773/1000]: 100%|██████████| 935/935 [00:14<00:00, 65.37batch/s, Batch Loss=1.04] \n"
     ]
    },
    {
     "name": "stdout",
     "output_type": "stream",
     "text": [
      "Epoch [773/1000], Training Loss: 0.9193, Accuracy: 0.7535\n"
     ]
    },
    {
     "name": "stderr",
     "output_type": "stream",
     "text": [
      "Epoch [774/1000]: 100%|██████████| 935/935 [00:14<00:00, 65.05batch/s, Batch Loss=1.05] \n"
     ]
    },
    {
     "name": "stdout",
     "output_type": "stream",
     "text": [
      "Epoch [774/1000], Training Loss: 0.9218, Accuracy: 0.7539\n"
     ]
    },
    {
     "name": "stderr",
     "output_type": "stream",
     "text": [
      "Epoch [775/1000]: 100%|██████████| 935/935 [00:14<00:00, 65.74batch/s, Batch Loss=1.04] \n"
     ]
    },
    {
     "name": "stdout",
     "output_type": "stream",
     "text": [
      "Epoch [775/1000], Training Loss: 0.9159, Accuracy: 0.7534\n"
     ]
    },
    {
     "name": "stderr",
     "output_type": "stream",
     "text": [
      "Epoch [776/1000]: 100%|██████████| 935/935 [00:14<00:00, 65.48batch/s, Batch Loss=0.87] \n"
     ]
    },
    {
     "name": "stdout",
     "output_type": "stream",
     "text": [
      "Epoch [776/1000], Training Loss: 0.9168, Accuracy: 0.7540\n"
     ]
    },
    {
     "name": "stderr",
     "output_type": "stream",
     "text": [
      "Epoch [780/1000]: 100%|██████████| 935/935 [00:14<00:00, 64.51batch/s, Batch Loss=0.793]\n"
     ]
    },
    {
     "name": "stdout",
     "output_type": "stream",
     "text": [
      "Epoch [780/1000], Training Loss: 0.9170, Accuracy: 0.7544\n"
     ]
    },
    {
     "name": "stderr",
     "output_type": "stream",
     "text": [
      "Epoch [781/1000]: 100%|██████████| 935/935 [00:14<00:00, 64.67batch/s, Batch Loss=0.902]\n"
     ]
    },
    {
     "name": "stdout",
     "output_type": "stream",
     "text": [
      "Epoch [781/1000], Training Loss: 0.9123, Accuracy: 0.7558\n"
     ]
    },
    {
     "name": "stderr",
     "output_type": "stream",
     "text": [
      "Epoch [782/1000]: 100%|██████████| 935/935 [00:14<00:00, 65.14batch/s, Batch Loss=1.14] \n"
     ]
    },
    {
     "name": "stdout",
     "output_type": "stream",
     "text": [
      "Epoch [782/1000], Training Loss: 0.9139, Accuracy: 0.7546\n"
     ]
    },
    {
     "name": "stderr",
     "output_type": "stream",
     "text": [
      "Epoch [783/1000]:   6%|▌         | 55/935 [00:00<00:13, 63.73batch/s, Batch Loss=0.785]IOPub message rate exceeded.\n",
      "The Jupyter server will temporarily stop sending output\n",
      "to the client in order to avoid crashing it.\n",
      "To change this limit, set the config variable\n",
      "`--ServerApp.iopub_msg_rate_limit`.\n",
      "\n",
      "Current values:\n",
      "ServerApp.iopub_msg_rate_limit=1000.0 (msgs/sec)\n",
      "ServerApp.rate_limit_window=3.0 (secs)\n",
      "\n",
      "Epoch [797/1000]: 100%|██████████| 935/935 [00:14<00:00, 62.71batch/s, Batch Loss=0.762]\n"
     ]
    },
    {
     "name": "stdout",
     "output_type": "stream",
     "text": [
      "Epoch [797/1000], Training Loss: 0.9094, Accuracy: 0.7558\n"
     ]
    },
    {
     "name": "stderr",
     "output_type": "stream",
     "text": [
      "Epoch [798/1000]: 100%|██████████| 935/935 [00:14<00:00, 63.36batch/s, Batch Loss=0.85] \n"
     ]
    },
    {
     "name": "stdout",
     "output_type": "stream",
     "text": [
      "Epoch [798/1000], Training Loss: 0.9079, Accuracy: 0.7566\n"
     ]
    },
    {
     "name": "stderr",
     "output_type": "stream",
     "text": [
      "Epoch [803/1000]: 100%|██████████| 935/935 [00:14<00:00, 64.37batch/s, Batch Loss=0.849]\n"
     ]
    },
    {
     "name": "stdout",
     "output_type": "stream",
     "text": [
      "Epoch [803/1000], Training Loss: 0.9041, Accuracy: 0.7570\n"
     ]
    },
    {
     "name": "stderr",
     "output_type": "stream",
     "text": [
      "Epoch [804/1000]: 100%|██████████| 935/935 [00:14<00:00, 64.90batch/s, Batch Loss=0.951]\n"
     ]
    },
    {
     "name": "stdout",
     "output_type": "stream",
     "text": [
      "Epoch [804/1000], Training Loss: 0.9047, Accuracy: 0.7569\n"
     ]
    },
    {
     "name": "stderr",
     "output_type": "stream",
     "text": [
      "Epoch [805/1000]:  90%|████████▉ | 839/935 [00:13<00:01, 63.70batch/s, Batch Loss=0.964]IOPub message rate exceeded.\n",
      "The Jupyter server will temporarily stop sending output\n",
      "to the client in order to avoid crashing it.\n",
      "To change this limit, set the config variable\n",
      "`--ServerApp.iopub_msg_rate_limit`.\n",
      "\n",
      "Current values:\n",
      "ServerApp.iopub_msg_rate_limit=1000.0 (msgs/sec)\n",
      "ServerApp.rate_limit_window=3.0 (secs)\n",
      "\n",
      "Epoch [812/1000]: 100%|██████████| 935/935 [00:14<00:00, 64.53batch/s, Batch Loss=0.97] \n"
     ]
    },
    {
     "name": "stdout",
     "output_type": "stream",
     "text": [
      "Epoch [812/1000], Training Loss: 0.8961, Accuracy: 0.7588\n"
     ]
    },
    {
     "name": "stderr",
     "output_type": "stream",
     "text": [
      "Epoch [813/1000]: 100%|██████████| 935/935 [00:14<00:00, 63.56batch/s, Batch Loss=1.1]  \n"
     ]
    },
    {
     "name": "stdout",
     "output_type": "stream",
     "text": [
      "Epoch [813/1000], Training Loss: 0.8969, Accuracy: 0.7600\n"
     ]
    },
    {
     "name": "stderr",
     "output_type": "stream",
     "text": [
      "Epoch [814/1000]: 100%|██████████| 935/935 [00:14<00:00, 63.95batch/s, Batch Loss=0.865]\n"
     ]
    },
    {
     "name": "stdout",
     "output_type": "stream",
     "text": [
      "Epoch [814/1000], Training Loss: 0.8966, Accuracy: 0.7586\n"
     ]
    },
    {
     "name": "stderr",
     "output_type": "stream",
     "text": [
      "Epoch [815/1000]: 100%|██████████| 935/935 [00:14<00:00, 64.72batch/s, Batch Loss=1.24] \n"
     ]
    },
    {
     "name": "stdout",
     "output_type": "stream",
     "text": [
      "Epoch [815/1000], Training Loss: 0.8999, Accuracy: 0.7570\n"
     ]
    },
    {
     "name": "stderr",
     "output_type": "stream",
     "text": [
      "Epoch [819/1000]: 100%|██████████| 935/935 [00:14<00:00, 64.69batch/s, Batch Loss=1.05] \n"
     ]
    },
    {
     "name": "stdout",
     "output_type": "stream",
     "text": [
      "Epoch [819/1000], Training Loss: 0.8981, Accuracy: 0.7591\n"
     ]
    },
    {
     "name": "stderr",
     "output_type": "stream",
     "text": [
      "Epoch [820/1000]: 100%|██████████| 935/935 [00:14<00:00, 64.94batch/s, Batch Loss=1.19] \n"
     ]
    },
    {
     "name": "stdout",
     "output_type": "stream",
     "text": [
      "Epoch [820/1000], Training Loss: 0.8933, Accuracy: 0.7597\n"
     ]
    },
    {
     "name": "stderr",
     "output_type": "stream",
     "text": [
      "Epoch [821/1000]:  90%|████████▉ | 839/935 [00:13<00:01, 62.02batch/s, Batch Loss=0.916]IOPub message rate exceeded.\n",
      "The Jupyter server will temporarily stop sending output\n",
      "to the client in order to avoid crashing it.\n",
      "To change this limit, set the config variable\n",
      "`--ServerApp.iopub_msg_rate_limit`.\n",
      "\n",
      "Current values:\n",
      "ServerApp.iopub_msg_rate_limit=1000.0 (msgs/sec)\n",
      "ServerApp.rate_limit_window=3.0 (secs)\n",
      "\n",
      "Epoch [836/1000]: 100%|██████████| 935/935 [00:14<00:00, 65.11batch/s, Batch Loss=0.852]\n"
     ]
    },
    {
     "name": "stdout",
     "output_type": "stream",
     "text": [
      "Epoch [836/1000], Training Loss: 0.8853, Accuracy: 0.7624\n"
     ]
    },
    {
     "name": "stderr",
     "output_type": "stream",
     "text": [
      "Epoch [837/1000]: 100%|██████████| 935/935 [00:14<00:00, 64.76batch/s, Batch Loss=0.941]\n"
     ]
    },
    {
     "name": "stdout",
     "output_type": "stream",
     "text": [
      "Epoch [837/1000], Training Loss: 0.8863, Accuracy: 0.7619\n"
     ]
    },
    {
     "name": "stderr",
     "output_type": "stream",
     "text": [
      "Epoch [838/1000]: 100%|██████████| 935/935 [00:14<00:00, 64.52batch/s, Batch Loss=1.08] \n"
     ]
    },
    {
     "name": "stdout",
     "output_type": "stream",
     "text": [
      "Epoch [838/1000], Training Loss: 0.8866, Accuracy: 0.7617\n"
     ]
    },
    {
     "name": "stderr",
     "output_type": "stream",
     "text": [
      "Epoch [839/1000]: 100%|██████████| 935/935 [00:14<00:00, 64.32batch/s, Batch Loss=0.792]\n"
     ]
    },
    {
     "name": "stdout",
     "output_type": "stream",
     "text": [
      "Epoch [839/1000], Training Loss: 0.8875, Accuracy: 0.7616\n"
     ]
    },
    {
     "name": "stderr",
     "output_type": "stream",
     "text": [
      "Epoch [842/1000]: 100%|██████████| 935/935 [00:14<00:00, 64.48batch/s, Batch Loss=1.2]  \n"
     ]
    },
    {
     "name": "stdout",
     "output_type": "stream",
     "text": [
      "Epoch [842/1000], Training Loss: 0.8844, Accuracy: 0.7624\n"
     ]
    },
    {
     "name": "stderr",
     "output_type": "stream",
     "text": [
      "Epoch [843/1000]: 100%|██████████| 935/935 [00:14<00:00, 64.98batch/s, Batch Loss=0.866]\n"
     ]
    },
    {
     "name": "stdout",
     "output_type": "stream",
     "text": [
      "Epoch [843/1000], Training Loss: 0.8856, Accuracy: 0.7628\n"
     ]
    },
    {
     "name": "stderr",
     "output_type": "stream",
     "text": [
      "Epoch [844/1000]: 100%|██████████| 935/935 [00:14<00:00, 65.40batch/s, Batch Loss=0.998]\n"
     ]
    },
    {
     "name": "stdout",
     "output_type": "stream",
     "text": [
      "Epoch [844/1000], Training Loss: 0.8797, Accuracy: 0.7632\n"
     ]
    },
    {
     "name": "stderr",
     "output_type": "stream",
     "text": [
      "Epoch [845/1000]:  57%|█████▋    | 531/935 [00:08<00:06, 66.04batch/s, Batch Loss=0.92] IOPub message rate exceeded.\n",
      "The Jupyter server will temporarily stop sending output\n",
      "to the client in order to avoid crashing it.\n",
      "To change this limit, set the config variable\n",
      "`--ServerApp.iopub_msg_rate_limit`.\n",
      "\n",
      "Current values:\n",
      "ServerApp.iopub_msg_rate_limit=1000.0 (msgs/sec)\n",
      "ServerApp.rate_limit_window=3.0 (secs)\n",
      "\n",
      "Epoch [860/1000]: 100%|██████████| 935/935 [00:14<00:00, 63.99batch/s, Batch Loss=0.945]\n"
     ]
    },
    {
     "name": "stdout",
     "output_type": "stream",
     "text": [
      "Epoch [860/1000], Training Loss: 0.8754, Accuracy: 0.7636\n"
     ]
    },
    {
     "name": "stderr",
     "output_type": "stream",
     "text": [
      "Epoch [861/1000]: 100%|██████████| 935/935 [00:14<00:00, 64.12batch/s, Batch Loss=0.731]\n"
     ]
    },
    {
     "name": "stdout",
     "output_type": "stream",
     "text": [
      "Epoch [861/1000], Training Loss: 0.8770, Accuracy: 0.7636\n"
     ]
    },
    {
     "name": "stderr",
     "output_type": "stream",
     "text": [
      "Epoch [862/1000]: 100%|██████████| 935/935 [00:14<00:00, 64.06batch/s, Batch Loss=0.996]\n"
     ]
    },
    {
     "name": "stdout",
     "output_type": "stream",
     "text": [
      "Epoch [862/1000], Training Loss: 0.8743, Accuracy: 0.7651\n"
     ]
    },
    {
     "name": "stderr",
     "output_type": "stream",
     "text": [
      "Epoch [863/1000]: 100%|██████████| 935/935 [00:14<00:00, 64.33batch/s, Batch Loss=0.86] \n"
     ]
    },
    {
     "name": "stdout",
     "output_type": "stream",
     "text": [
      "Epoch [863/1000], Training Loss: 0.8712, Accuracy: 0.7666\n"
     ]
    },
    {
     "name": "stderr",
     "output_type": "stream",
     "text": [
      "Epoch [866/1000]: 100%|██████████| 935/935 [00:14<00:00, 64.74batch/s, Batch Loss=1.01] \n"
     ]
    },
    {
     "name": "stdout",
     "output_type": "stream",
     "text": [
      "Epoch [866/1000], Training Loss: 0.8715, Accuracy: 0.7648\n"
     ]
    },
    {
     "name": "stderr",
     "output_type": "stream",
     "text": [
      "Epoch [867/1000]: 100%|██████████| 935/935 [00:14<00:00, 64.71batch/s, Batch Loss=0.879]\n"
     ]
    },
    {
     "name": "stdout",
     "output_type": "stream",
     "text": [
      "Epoch [867/1000], Training Loss: 0.8711, Accuracy: 0.7650\n"
     ]
    },
    {
     "name": "stderr",
     "output_type": "stream",
     "text": [
      "Epoch [868/1000]: 100%|██████████| 935/935 [00:14<00:00, 64.84batch/s, Batch Loss=0.926]\n"
     ]
    },
    {
     "name": "stdout",
     "output_type": "stream",
     "text": [
      "Epoch [868/1000], Training Loss: 0.8716, Accuracy: 0.7661\n"
     ]
    },
    {
     "name": "stderr",
     "output_type": "stream",
     "text": [
      "Epoch [869/1000]:  22%|██▏       | 210/935 [00:03<00:10, 66.33batch/s, Batch Loss=1.03] IOPub message rate exceeded.\n",
      "The Jupyter server will temporarily stop sending output\n",
      "to the client in order to avoid crashing it.\n",
      "To change this limit, set the config variable\n",
      "`--ServerApp.iopub_msg_rate_limit`.\n",
      "\n",
      "Current values:\n",
      "ServerApp.iopub_msg_rate_limit=1000.0 (msgs/sec)\n",
      "ServerApp.rate_limit_window=3.0 (secs)\n",
      "\n",
      "Epoch [884/1000]: 100%|██████████| 935/935 [00:14<00:00, 64.88batch/s, Batch Loss=0.842]\n"
     ]
    },
    {
     "name": "stdout",
     "output_type": "stream",
     "text": [
      "Epoch [884/1000], Training Loss: 0.8641, Accuracy: 0.7669\n"
     ]
    },
    {
     "name": "stderr",
     "output_type": "stream",
     "text": [
      "Epoch [885/1000]: 100%|██████████| 935/935 [00:14<00:00, 64.83batch/s, Batch Loss=0.851]\n"
     ]
    },
    {
     "name": "stdout",
     "output_type": "stream",
     "text": [
      "Epoch [885/1000], Training Loss: 0.8602, Accuracy: 0.7687\n"
     ]
    },
    {
     "name": "stderr",
     "output_type": "stream",
     "text": [
      "Epoch [886/1000]: 100%|██████████| 935/935 [00:14<00:00, 64.85batch/s, Batch Loss=1.09] \n"
     ]
    },
    {
     "name": "stdout",
     "output_type": "stream",
     "text": [
      "Epoch [886/1000], Training Loss: 0.8655, Accuracy: 0.7665\n"
     ]
    },
    {
     "name": "stderr",
     "output_type": "stream",
     "text": [
      "Epoch [887/1000]: 100%|██████████| 935/935 [00:14<00:00, 65.59batch/s, Batch Loss=1.05] \n"
     ]
    },
    {
     "name": "stdout",
     "output_type": "stream",
     "text": [
      "Epoch [887/1000], Training Loss: 0.8620, Accuracy: 0.7672\n"
     ]
    },
    {
     "name": "stderr",
     "output_type": "stream",
     "text": [
      "Epoch [890/1000]: 100%|██████████| 935/935 [00:14<00:00, 64.63batch/s, Batch Loss=0.843]\n"
     ]
    },
    {
     "name": "stdout",
     "output_type": "stream",
     "text": [
      "Epoch [890/1000], Training Loss: 0.8615, Accuracy: 0.7674\n"
     ]
    },
    {
     "name": "stderr",
     "output_type": "stream",
     "text": [
      "Epoch [891/1000]: 100%|██████████| 935/935 [00:14<00:00, 64.55batch/s, Batch Loss=0.976]\n"
     ]
    },
    {
     "name": "stdout",
     "output_type": "stream",
     "text": [
      "Epoch [891/1000], Training Loss: 0.8608, Accuracy: 0.7684\n"
     ]
    },
    {
     "name": "stderr",
     "output_type": "stream",
     "text": [
      "Epoch [892/1000]: 100%|██████████| 935/935 [00:14<00:00, 64.89batch/s, Batch Loss=1.05] \n"
     ]
    },
    {
     "name": "stdout",
     "output_type": "stream",
     "text": [
      "Epoch [892/1000], Training Loss: 0.8651, Accuracy: 0.7666\n"
     ]
    },
    {
     "name": "stderr",
     "output_type": "stream",
     "text": [
      "Epoch [893/1000]:  64%|██████▍   | 601/935 [00:09<00:05, 65.28batch/s, Batch Loss=0.9]  IOPub message rate exceeded.\n",
      "The Jupyter server will temporarily stop sending output\n",
      "to the client in order to avoid crashing it.\n",
      "To change this limit, set the config variable\n",
      "`--ServerApp.iopub_msg_rate_limit`.\n",
      "\n",
      "Current values:\n",
      "ServerApp.iopub_msg_rate_limit=1000.0 (msgs/sec)\n",
      "ServerApp.rate_limit_window=3.0 (secs)\n",
      "\n",
      "Epoch [909/1000]: 100%|██████████| 935/935 [00:14<00:00, 65.39batch/s, Batch Loss=1.03] \n"
     ]
    },
    {
     "name": "stdout",
     "output_type": "stream",
     "text": [
      "Epoch [909/1000], Training Loss: 0.8539, Accuracy: 0.7697\n"
     ]
    },
    {
     "name": "stderr",
     "output_type": "stream",
     "text": [
      "Epoch [910/1000]: 100%|██████████| 935/935 [00:14<00:00, 64.82batch/s, Batch Loss=0.976]\n"
     ]
    },
    {
     "name": "stdout",
     "output_type": "stream",
     "text": [
      "Epoch [910/1000], Training Loss: 0.8545, Accuracy: 0.7698\n"
     ]
    },
    {
     "name": "stderr",
     "output_type": "stream",
     "text": [
      "Epoch [911/1000]: 100%|██████████| 935/935 [00:14<00:00, 64.54batch/s, Batch Loss=0.823]\n"
     ]
    },
    {
     "name": "stdout",
     "output_type": "stream",
     "text": [
      "Epoch [911/1000], Training Loss: 0.8515, Accuracy: 0.7708\n"
     ]
    },
    {
     "name": "stderr",
     "output_type": "stream",
     "text": [
      "Epoch [912/1000]: 100%|██████████| 935/935 [00:14<00:00, 65.16batch/s, Batch Loss=1.11] \n",
      "Epoch [915/1000]: 100%|██████████| 935/935 [00:14<00:00, 64.94batch/s, Batch Loss=0.837]\n"
     ]
    },
    {
     "name": "stdout",
     "output_type": "stream",
     "text": [
      "Epoch [915/1000], Training Loss: 0.8509, Accuracy: 0.7701\n"
     ]
    },
    {
     "name": "stderr",
     "output_type": "stream",
     "text": [
      "Epoch [916/1000]: 100%|██████████| 935/935 [00:14<00:00, 65.09batch/s, Batch Loss=0.814]\n"
     ]
    },
    {
     "name": "stdout",
     "output_type": "stream",
     "text": [
      "Epoch [916/1000], Training Loss: 0.8511, Accuracy: 0.7706\n"
     ]
    },
    {
     "name": "stderr",
     "output_type": "stream",
     "text": [
      "Epoch [917/1000]: 100%|██████████| 935/935 [00:14<00:00, 64.94batch/s, Batch Loss=0.856]\n"
     ]
    },
    {
     "name": "stdout",
     "output_type": "stream",
     "text": [
      "Epoch [917/1000], Training Loss: 0.8511, Accuracy: 0.7703\n"
     ]
    },
    {
     "name": "stderr",
     "output_type": "stream",
     "text": [
      "Epoch [918/1000]:  20%|██        | 188/935 [00:02<00:11, 64.45batch/s, Batch Loss=0.858]IOPub message rate exceeded.\n",
      "The Jupyter server will temporarily stop sending output\n",
      "to the client in order to avoid crashing it.\n",
      "To change this limit, set the config variable\n",
      "`--ServerApp.iopub_msg_rate_limit`.\n",
      "\n",
      "Current values:\n",
      "ServerApp.iopub_msg_rate_limit=1000.0 (msgs/sec)\n",
      "ServerApp.rate_limit_window=3.0 (secs)\n",
      "\n",
      "Epoch [934/1000]: 100%|██████████| 935/935 [00:14<00:00, 64.76batch/s, Batch Loss=0.826]\n"
     ]
    },
    {
     "name": "stdout",
     "output_type": "stream",
     "text": [
      "Epoch [934/1000], Training Loss: 0.8484, Accuracy: 0.7708\n"
     ]
    },
    {
     "name": "stderr",
     "output_type": "stream",
     "text": [
      "Epoch [935/1000]: 100%|██████████| 935/935 [00:14<00:00, 64.53batch/s, Batch Loss=1.11] \n"
     ]
    },
    {
     "name": "stdout",
     "output_type": "stream",
     "text": [
      "Epoch [935/1000], Training Loss: 0.8447, Accuracy: 0.7710\n"
     ]
    },
    {
     "name": "stderr",
     "output_type": "stream",
     "text": [
      "Epoch [936/1000]: 100%|██████████| 935/935 [00:14<00:00, 64.58batch/s, Batch Loss=0.912]\n"
     ]
    },
    {
     "name": "stdout",
     "output_type": "stream",
     "text": [
      "Epoch [936/1000], Training Loss: 0.8427, Accuracy: 0.7721\n"
     ]
    },
    {
     "name": "stderr",
     "output_type": "stream",
     "text": [
      "Epoch [937/1000]: 100%|██████████| 935/935 [00:14<00:00, 64.31batch/s, Batch Loss=1.03] \n"
     ]
    },
    {
     "name": "stdout",
     "output_type": "stream",
     "text": [
      "Epoch [937/1000], Training Loss: 0.8427, Accuracy: 0.7713\n"
     ]
    },
    {
     "name": "stderr",
     "output_type": "stream",
     "text": [
      "Epoch [940/1000]: 100%|██████████| 935/935 [00:14<00:00, 64.01batch/s, Batch Loss=0.828]\n"
     ]
    },
    {
     "name": "stdout",
     "output_type": "stream",
     "text": [
      "Epoch [940/1000], Training Loss: 0.8419, Accuracy: 0.7724\n"
     ]
    },
    {
     "name": "stderr",
     "output_type": "stream",
     "text": [
      "Epoch [941/1000]: 100%|██████████| 935/935 [00:14<00:00, 64.67batch/s, Batch Loss=0.949]\n"
     ]
    },
    {
     "name": "stdout",
     "output_type": "stream",
     "text": [
      "Epoch [941/1000], Training Loss: 0.8423, Accuracy: 0.7724\n"
     ]
    },
    {
     "name": "stderr",
     "output_type": "stream",
     "text": [
      "Epoch [942/1000]: 100%|██████████| 935/935 [00:14<00:00, 64.85batch/s, Batch Loss=0.961]\n"
     ]
    },
    {
     "name": "stdout",
     "output_type": "stream",
     "text": [
      "Epoch [942/1000], Training Loss: 0.8362, Accuracy: 0.7742\n"
     ]
    },
    {
     "name": "stderr",
     "output_type": "stream",
     "text": [
      "Epoch [943/1000]:  34%|███▍      | 321/935 [00:04<00:09, 65.55batch/s, Batch Loss=0.808]IOPub message rate exceeded.\n",
      "The Jupyter server will temporarily stop sending output\n",
      "to the client in order to avoid crashing it.\n",
      "To change this limit, set the config variable\n",
      "`--ServerApp.iopub_msg_rate_limit`.\n",
      "\n",
      "Current values:\n",
      "ServerApp.iopub_msg_rate_limit=1000.0 (msgs/sec)\n",
      "ServerApp.rate_limit_window=3.0 (secs)\n",
      "\n",
      "Epoch [959/1000]: 100%|██████████| 935/935 [00:14<00:00, 63.90batch/s, Batch Loss=0.995]\n"
     ]
    },
    {
     "name": "stdout",
     "output_type": "stream",
     "text": [
      "Epoch [959/1000], Training Loss: 0.8330, Accuracy: 0.7752\n"
     ]
    },
    {
     "name": "stderr",
     "output_type": "stream",
     "text": [
      "Epoch [960/1000]: 100%|██████████| 935/935 [00:14<00:00, 65.14batch/s, Batch Loss=0.904]\n"
     ]
    },
    {
     "name": "stdout",
     "output_type": "stream",
     "text": [
      "Epoch [960/1000], Training Loss: 0.8349, Accuracy: 0.7746\n"
     ]
    },
    {
     "name": "stderr",
     "output_type": "stream",
     "text": [
      "Epoch [961/1000]: 100%|██████████| 935/935 [00:14<00:00, 64.88batch/s, Batch Loss=1.01] \n"
     ]
    },
    {
     "name": "stdout",
     "output_type": "stream",
     "text": [
      "Epoch [961/1000], Training Loss: 0.8337, Accuracy: 0.7748\n"
     ]
    },
    {
     "name": "stderr",
     "output_type": "stream",
     "text": [
      "Epoch [962/1000]: 100%|██████████| 935/935 [00:14<00:00, 64.95batch/s, Batch Loss=0.994]\n"
     ]
    },
    {
     "name": "stdout",
     "output_type": "stream",
     "text": [
      "Epoch [962/1000], Training Loss: 0.8362, Accuracy: 0.7738\n"
     ]
    },
    {
     "name": "stderr",
     "output_type": "stream",
     "text": [
      "Epoch [965/1000]: 100%|██████████| 935/935 [00:14<00:00, 64.20batch/s, Batch Loss=0.896]\n"
     ]
    },
    {
     "name": "stdout",
     "output_type": "stream",
     "text": [
      "Epoch [965/1000], Training Loss: 0.8302, Accuracy: 0.7752\n"
     ]
    },
    {
     "name": "stderr",
     "output_type": "stream",
     "text": [
      "Epoch [966/1000]: 100%|██████████| 935/935 [00:14<00:00, 64.36batch/s, Batch Loss=0.922]\n"
     ]
    },
    {
     "name": "stdout",
     "output_type": "stream",
     "text": [
      "Epoch [966/1000], Training Loss: 0.8312, Accuracy: 0.7753\n"
     ]
    },
    {
     "name": "stderr",
     "output_type": "stream",
     "text": [
      "Epoch [967/1000]: 100%|██████████| 935/935 [00:14<00:00, 64.97batch/s, Batch Loss=0.992]\n"
     ]
    },
    {
     "name": "stdout",
     "output_type": "stream",
     "text": [
      "Epoch [967/1000], Training Loss: 0.8306, Accuracy: 0.7748\n"
     ]
    },
    {
     "name": "stderr",
     "output_type": "stream",
     "text": [
      "Epoch [968/1000]:  63%|██████▎   | 586/935 [00:09<00:05, 65.43batch/s, Batch Loss=0.8]  IOPub message rate exceeded.\n",
      "The Jupyter server will temporarily stop sending output\n",
      "to the client in order to avoid crashing it.\n",
      "To change this limit, set the config variable\n",
      "`--ServerApp.iopub_msg_rate_limit`.\n",
      "\n",
      "Current values:\n",
      "ServerApp.iopub_msg_rate_limit=1000.0 (msgs/sec)\n",
      "ServerApp.rate_limit_window=3.0 (secs)\n",
      "\n",
      "Epoch [985/1000]: 100%|██████████| 935/935 [00:14<00:00, 65.25batch/s, Batch Loss=1.05] \n"
     ]
    },
    {
     "name": "stdout",
     "output_type": "stream",
     "text": [
      "Epoch [985/1000], Training Loss: 0.8277, Accuracy: 0.7764\n"
     ]
    },
    {
     "name": "stderr",
     "output_type": "stream",
     "text": [
      "Epoch [986/1000]: 100%|██████████| 935/935 [00:14<00:00, 65.21batch/s, Batch Loss=0.995]\n"
     ]
    },
    {
     "name": "stdout",
     "output_type": "stream",
     "text": [
      "Epoch [986/1000], Training Loss: 0.8269, Accuracy: 0.7770\n"
     ]
    },
    {
     "name": "stderr",
     "output_type": "stream",
     "text": [
      "Epoch [987/1000]: 100%|██████████| 935/935 [00:14<00:00, 64.81batch/s, Batch Loss=0.583]\n"
     ]
    },
    {
     "name": "stdout",
     "output_type": "stream",
     "text": [
      "Epoch [987/1000], Training Loss: 0.8286, Accuracy: 0.7765\n"
     ]
    },
    {
     "name": "stderr",
     "output_type": "stream",
     "text": [
      "Epoch [988/1000]: 100%|██████████| 935/935 [00:14<00:00, 65.08batch/s, Batch Loss=0.916]\n"
     ]
    },
    {
     "name": "stdout",
     "output_type": "stream",
     "text": [
      "Epoch [988/1000], Training Loss: 0.8260, Accuracy: 0.7771\n"
     ]
    },
    {
     "name": "stderr",
     "output_type": "stream",
     "text": [
      "Epoch [991/1000]: 100%|██████████| 935/935 [00:14<00:00, 64.10batch/s, Batch Loss=0.931]\n"
     ]
    },
    {
     "name": "stdout",
     "output_type": "stream",
     "text": [
      "Epoch [991/1000], Training Loss: 0.8267, Accuracy: 0.7765\n"
     ]
    },
    {
     "name": "stderr",
     "output_type": "stream",
     "text": [
      "Epoch [992/1000]: 100%|██████████| 935/935 [00:14<00:00, 64.46batch/s, Batch Loss=0.936]\n"
     ]
    },
    {
     "name": "stdout",
     "output_type": "stream",
     "text": [
      "Epoch [992/1000], Training Loss: 0.8232, Accuracy: 0.7767\n"
     ]
    },
    {
     "name": "stderr",
     "output_type": "stream",
     "text": [
      "Epoch [993/1000]: 100%|██████████| 935/935 [00:14<00:00, 64.79batch/s, Batch Loss=0.758]\n"
     ]
    },
    {
     "name": "stdout",
     "output_type": "stream",
     "text": [
      "Epoch [993/1000], Training Loss: 0.8261, Accuracy: 0.7770\n"
     ]
    },
    {
     "name": "stderr",
     "output_type": "stream",
     "text": [
      "Epoch [994/1000]:  61%|██████    | 566/935 [00:08<00:05, 64.78batch/s, Batch Loss=0.809]IOPub message rate exceeded.\n",
      "The Jupyter server will temporarily stop sending output\n",
      "to the client in order to avoid crashing it.\n",
      "To change this limit, set the config variable\n",
      "`--ServerApp.iopub_msg_rate_limit`.\n",
      "\n",
      "Current values:\n",
      "ServerApp.iopub_msg_rate_limit=1000.0 (msgs/sec)\n",
      "ServerApp.rate_limit_window=3.0 (secs)\n",
      "\n"
     ]
    }
   ],
   "source": [
    "import torch\n",
    "import torch.optim as optim\n",
    "from tqdm import tqdm\n",
    "import numpy as np\n",
    "from sklearn.metrics import ndcg_score\n",
    "\n",
    "\n",
    "def evaluate_hit_ndcg_multi_k(model, val_loader, ks=[5, 10, 20]):\n",
    "    model.eval()\n",
    "    total_hr = {k: 0 for k in ks}\n",
    "    total_ndcg = {k: 0 for k in ks}\n",
    "    total_samples = 0\n",
    "\n",
    "    with torch.no_grad():\n",
    "        for batch_inputs, batch_targets in tqdm(val_loader, desc=\"Evaluating HR & NDCG for multiple k\"):\n",
    "            batch_inputs = batch_inputs.to(device)\n",
    "            batch_targets = batch_targets.to(device)\n",
    "            outputs = model(batch_inputs)  # Forward pass\n",
    "            _, top_k_indices = torch.topk(outputs, k=max(ks), dim=1)  # Get top-k indices\n",
    "\n",
    "            for i in range(batch_targets.size(0)):\n",
    "                target = batch_targets[i].item()\n",
    "                predictions = top_k_indices[i].cpu().numpy()\n",
    "\n",
    "                for k in ks:\n",
    "                    top_k_preds = predictions[:k]\n",
    "\n",
    "                    if target in top_k_preds:\n",
    "                        total_hr[k] += 1\n",
    "\n",
    "                    if target in top_k_preds:\n",
    "                        rank = np.where(top_k_preds == target)[0][0] + 1\n",
    "                        total_ndcg[k] += 1 / np.log2(rank + 1)\n",
    "\n",
    "            total_samples += batch_targets.size(0)\n",
    "\n",
    "    hr = {k: total_hr[k] / total_samples for k in ks}\n",
    "    ndcg = {k: total_ndcg[k] / total_samples for k in ks}\n",
    "\n",
    "    return hr, ndcg\n",
    "\n",
    "criterion = torch.nn.CrossEntropyLoss()\n",
    "optimizer = optim.Adam(model.parameters(), lr=0.001)\n",
    "\n",
    "num_epochs = 1000\n",
    "save_interval = 50\n",
    "ks = [5, 10, 20]  \n",
    "\n",
    "print(\"Starting Training...\")\n",
    "\n",
    "for epoch in range(1, num_epochs + 1):\n",
    "    model.train()\n",
    "    total_loss = 0.0\n",
    "    correct_predictions = 0\n",
    "    total_predictions = 0\n",
    "\n",
    "    with tqdm(train_loader, desc=f\"Epoch [{epoch}/{num_epochs}]\", unit=\"batch\") as progress_bar:\n",
    "        for batch_inputs, batch_targets in progress_bar:\n",
    "            batch_inputs, batch_targets = batch_inputs.to(device), batch_targets.to(device)\n",
    "\n",
    "            optimizer.zero_grad()\n",
    "\n",
    "            outputs = model(batch_inputs)  \n",
    "            loss = criterion(outputs, batch_targets)  \n",
    "\n",
    "            loss.backward()  \n",
    "            optimizer.step()  \n",
    "\n",
    "            total_loss += loss.item()\n",
    "\n",
    "            _, predicted = torch.max(outputs, dim=1)\n",
    "            correct_predictions += (predicted == batch_targets).sum().item()\n",
    "            total_predictions += batch_targets.size(0)\n",
    "\n",
    "            progress_bar.set_postfix({\"Batch Loss\": loss.item()})\n",
    "\n",
    "    avg_loss = total_loss / len(train_loader)\n",
    "    accuracy = correct_predictions / total_predictions\n",
    "\n",
    "    print(f\"Epoch [{epoch}/{num_epochs}], Training Loss: {avg_loss:.4f}, Accuracy: {accuracy:.4f}\")\n",
    "\n",
    "    if epoch % save_interval == 0:\n",
    "        print(\"\\nEvaluating on validation set...\")\n",
    "        hr, ndcg = evaluate_hit_ndcg_multi_k(model, val_loader, ks=ks)\n",
    "        for k in ks:\n",
    "            print(f\"Validation HR@{k}: {hr[k]:.4f}, NDCG@{k}: {ndcg[k]:.4f}\")\n",
    "\n",
    "        model_save_path = f\"uet4rec_model_epoch_{epoch}.pth\"\n",
    "        torch.save(model.state_dict(), model_save_path)\n",
    "        print(f\"Model saved at '{model_save_path}'\")\n",
    "\n",
    "final_model_path = \"uet4rec_model_final.pth\"\n",
    "torch.save(model.state_dict(), final_model_path)\n",
    "print(f\"Final model saved as '{final_model_path}'\")\n",
    "\n",
    "print(\"Training Completed.\")\n"
   ]
  },
  {
   "cell_type": "code",
   "execution_count": 27,
   "id": "e504f0ab-61ae-4c08-bacd-3c238e6ad325",
   "metadata": {},
   "outputs": [],
   "source": [
    "import torch\n",
    "from torch.utils.data import DataLoader\n",
    "import numpy as np\n",
    "from tqdm import tqdm\n"
   ]
  },
  {
   "cell_type": "code",
   "execution_count": 29,
   "id": "d11ea33c-f38e-4964-aecb-17940f6bc757",
   "metadata": {},
   "outputs": [
    {
     "name": "stdout",
     "output_type": "stream",
     "text": [
      "Model loaded successfully.\n"
     ]
    },
    {
     "name": "stderr",
     "output_type": "stream",
     "text": [
      "Evaluating HR & NDCG for multiple k: 100%|██████████| 201/201 [00:05<00:00, 38.70it/s]"
     ]
    },
    {
     "name": "stdout",
     "output_type": "stream",
     "text": [
      "\n",
      "Metrics Summary:\n",
      "HR@5: 0.3735\n",
      "NDCG@5: 0.3068\n",
      "HR@10: 0.4147\n",
      "NDCG@10: 0.3202\n",
      "HR@20: 0.4515\n",
      "NDCG@20: 0.3295\n"
     ]
    },
    {
     "name": "stderr",
     "output_type": "stream",
     "text": [
      "\n"
     ]
    }
   ],
   "source": [
    "import numpy as np\n",
    "import torch\n",
    "from tqdm import tqdm\n",
    "from sklearn.metrics import ndcg_score\n",
    "\n",
    "model = UET4Rec(\n",
    "    num_items=num_items,\n",
    "    embedding_dim=embedding_dim,\n",
    "    nhead=nhead,\n",
    "    max_len=max_len,\n",
    "    dropout=dropout,\n",
    "    ff_dim=ff_dim\n",
    ")\n",
    "\n",
    "device = torch.device(\"cuda\" if torch.cuda.is_available() else \"cpu\")\n",
    "model.load_state_dict(torch.load(\"uet4rec_model_final.pth\", map_location=device)) \n",
    "model.to(device)\n",
    "model.eval() \n",
    "print(\"Model loaded successfully.\")\n",
    "\n",
    "\n",
    "def evaluate_hit_ndcg_multi_k(model, test_loader, ks=[5, 10, 20]):\n",
    "    model.eval()\n",
    "    total_hr = {k: 0 for k in ks}\n",
    "    total_ndcg = {k: 0 for k in ks}\n",
    "    total_samples = 0\n",
    "\n",
    "    with torch.no_grad():\n",
    "        for batch_inputs, batch_targets in tqdm(test_loader, desc=\"Evaluating HR & NDCG for multiple k\"):\n",
    "            batch_inputs = batch_inputs.to(device)\n",
    "            batch_targets = batch_targets.to(device)\n",
    "            outputs = model(batch_inputs)  \n",
    "            _, top_k_indices = torch.topk(outputs, k=max(ks), dim=1) \n",
    "\n",
    "            for i in range(batch_targets.size(0)):\n",
    "                target = batch_targets[i].item()\n",
    "                predictions = top_k_indices[i].cpu().numpy()\n",
    "\n",
    "                for k in ks:\n",
    "                    top_k_preds = predictions[:k]\n",
    "\n",
    "                    if target in top_k_preds:\n",
    "                        total_hr[k] += 1\n",
    "\n",
    "                    if target in top_k_preds:\n",
    "                        rank = np.where(top_k_preds == target)[0][0] + 1\n",
    "                        total_ndcg[k] += 1 / np.log2(rank + 1)\n",
    "\n",
    "            total_samples += batch_targets.size(0)\n",
    "\n",
    "    hr = {k: total_hr[k] / total_samples for k in ks}\n",
    "    ndcg = {k: total_ndcg[k] / total_samples for k in ks}\n",
    "\n",
    "    return hr, ndcg\n",
    "\n",
    "k_values = [5, 10, 20]\n",
    "hr, ndcg = evaluate_hit_ndcg_multi_k(model, test_loader, ks=k_values)\n",
    "\n",
    "print(\"\\nMetrics Summary:\")\n",
    "for k in k_values:\n",
    "    print(f\"HR@{k}: {hr[k]:.4f}\")\n",
    "    print(f\"NDCG@{k}: {ndcg[k]:.4f}\")\n"
   ]
  },
  {
   "cell_type": "code",
   "execution_count": null,
   "id": "c19077e7-4c4e-4478-a18b-4d2360de4b6b",
   "metadata": {},
   "outputs": [],
   "source": []
  },
  {
   "cell_type": "code",
   "execution_count": 32,
   "id": "d4b124af-2f71-4181-a1e6-c89625d005c4",
   "metadata": {},
   "outputs": [
    {
     "data": {
      "text/html": [
       "<div>\n",
       "<style scoped>\n",
       "    .dataframe tbody tr th:only-of-type {\n",
       "        vertical-align: middle;\n",
       "    }\n",
       "\n",
       "    .dataframe tbody tr th {\n",
       "        vertical-align: top;\n",
       "    }\n",
       "\n",
       "    .dataframe thead th {\n",
       "        text-align: right;\n",
       "    }\n",
       "</style>\n",
       "<table border=\"1\" class=\"dataframe\">\n",
       "  <thead>\n",
       "    <tr style=\"text-align: right;\">\n",
       "      <th></th>\n",
       "      <th>Timestamp</th>\n",
       "      <th>UserId</th>\n",
       "      <th>event</th>\n",
       "      <th>ProductId</th>\n",
       "      <th>transactionid</th>\n",
       "      <th>reward</th>\n",
       "    </tr>\n",
       "  </thead>\n",
       "  <tbody>\n",
       "    <tr>\n",
       "      <th>0</th>\n",
       "      <td>2015-08-07 17:51:44.567</td>\n",
       "      <td>1</td>\n",
       "      <td>view</td>\n",
       "      <td>21761</td>\n",
       "      <td>NaN</td>\n",
       "      <td>0.2</td>\n",
       "    </tr>\n",
       "    <tr>\n",
       "      <th>1</th>\n",
       "      <td>2015-08-07 17:53:33.790</td>\n",
       "      <td>1</td>\n",
       "      <td>view</td>\n",
       "      <td>21761</td>\n",
       "      <td>NaN</td>\n",
       "      <td>0.2</td>\n",
       "    </tr>\n",
       "    <tr>\n",
       "      <th>2</th>\n",
       "      <td>2015-08-07 17:56:52.664</td>\n",
       "      <td>1</td>\n",
       "      <td>view</td>\n",
       "      <td>17456</td>\n",
       "      <td>NaN</td>\n",
       "      <td>0.2</td>\n",
       "    </tr>\n",
       "    <tr>\n",
       "      <th>3</th>\n",
       "      <td>2015-08-07 18:01:08.920</td>\n",
       "      <td>1</td>\n",
       "      <td>view</td>\n",
       "      <td>14493</td>\n",
       "      <td>NaN</td>\n",
       "      <td>0.2</td>\n",
       "    </tr>\n",
       "    <tr>\n",
       "      <th>4</th>\n",
       "      <td>2015-08-07 18:08:25.669</td>\n",
       "      <td>1</td>\n",
       "      <td>view</td>\n",
       "      <td>22900</td>\n",
       "      <td>NaN</td>\n",
       "      <td>0.2</td>\n",
       "    </tr>\n",
       "  </tbody>\n",
       "</table>\n",
       "</div>"
      ],
      "text/plain": [
       "                Timestamp  UserId event  ProductId  transactionid  reward\n",
       "0 2015-08-07 17:51:44.567       1  view      21761            NaN     0.2\n",
       "1 2015-08-07 17:53:33.790       1  view      21761            NaN     0.2\n",
       "2 2015-08-07 17:56:52.664       1  view      17456            NaN     0.2\n",
       "3 2015-08-07 18:01:08.920       1  view      14493            NaN     0.2\n",
       "4 2015-08-07 18:08:25.669       1  view      22900            NaN     0.2"
      ]
     },
     "execution_count": 32,
     "metadata": {},
     "output_type": "execute_result"
    }
   ],
   "source": [
    "df.head()"
   ]
  },
  {
   "cell_type": "code",
   "execution_count": null,
   "id": "be4cf777-b331-4aa6-b233-e416239dd436",
   "metadata": {},
   "outputs": [],
   "source": []
  },
  {
   "cell_type": "code",
   "execution_count": null,
   "id": "420864cb-b4fc-4736-b0cd-ad9d3a902a91",
   "metadata": {},
   "outputs": [],
   "source": []
  },
  {
   "cell_type": "code",
   "execution_count": null,
   "id": "ff83e7d6-112f-4808-92d6-9eddbe49f27b",
   "metadata": {},
   "outputs": [],
   "source": []
  },
  {
   "cell_type": "code",
   "execution_count": null,
   "id": "31a87c36-e9ab-4781-b348-36571874cf29",
   "metadata": {},
   "outputs": [],
   "source": []
  },
  {
   "cell_type": "code",
   "execution_count": null,
   "id": "b7c83458-4f71-41f8-83c8-afc438983294",
   "metadata": {},
   "outputs": [],
   "source": []
  },
  {
   "cell_type": "code",
   "execution_count": null,
   "id": "a5d90e82-56f9-43a6-9287-50e297d5e21b",
   "metadata": {},
   "outputs": [],
   "source": []
  },
  {
   "cell_type": "code",
   "execution_count": null,
   "id": "b2c0a31d-c4c8-4917-9dc7-a944cf7517f9",
   "metadata": {},
   "outputs": [],
   "source": []
  }
 ],
 "metadata": {
  "kernelspec": {
   "display_name": "Python 3",
   "language": "python",
   "name": "python3"
  },
  "language_info": {
   "codemirror_mode": {
    "name": "ipython",
    "version": 3
   },
   "file_extension": ".py",
   "mimetype": "text/x-python",
   "name": "python",
   "nbconvert_exporter": "python",
   "pygments_lexer": "ipython3",
   "version": "3.10.10"
  }
 },
 "nbformat": 4,
 "nbformat_minor": 5
}
