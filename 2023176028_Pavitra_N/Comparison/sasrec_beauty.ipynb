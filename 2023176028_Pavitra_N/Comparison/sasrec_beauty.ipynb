{
 "cells": [
  {
   "cell_type": "code",
   "execution_count": 1,
   "id": "07f519d3-9ee2-4e0d-a27f-ae041ee4ebe7",
   "metadata": {},
   "outputs": [],
   "source": [
    "import pandas as pd\n",
    "import numpy as np\n",
    "from sklearn.preprocessing import LabelEncoder\n",
    "import torch\n",
    "from torch.utils.data import TensorDataset, DataLoader\n",
    "from torch.nn.utils.rnn import pad_sequence"
   ]
  },
  {
   "cell_type": "code",
   "execution_count": 2,
   "id": "b030fd94-c7a3-4353-b94a-b1a42b98b144",
   "metadata": {},
   "outputs": [
    {
     "data": {
      "text/html": [
       "<div>\n",
       "<style scoped>\n",
       "    .dataframe tbody tr th:only-of-type {\n",
       "        vertical-align: middle;\n",
       "    }\n",
       "\n",
       "    .dataframe tbody tr th {\n",
       "        vertical-align: top;\n",
       "    }\n",
       "\n",
       "    .dataframe thead th {\n",
       "        text-align: right;\n",
       "    }\n",
       "</style>\n",
       "<table border=\"1\" class=\"dataframe\">\n",
       "  <thead>\n",
       "    <tr style=\"text-align: right;\">\n",
       "      <th></th>\n",
       "      <th>UserId</th>\n",
       "      <th>ProductId</th>\n",
       "      <th>ProductType</th>\n",
       "      <th>Rating</th>\n",
       "      <th>Timestamp</th>\n",
       "      <th>URL</th>\n",
       "    </tr>\n",
       "  </thead>\n",
       "  <tbody>\n",
       "    <tr>\n",
       "      <th>0</th>\n",
       "      <td>A3NHUQ33CFH3VM</td>\n",
       "      <td>B00LLPT4HI</td>\n",
       "      <td>Eyeliner &amp; Kajal</td>\n",
       "      <td>5</td>\n",
       "      <td>1405814400</td>\n",
       "      <td>https://www.amazon.in/Maybelline-Colossal-Kaja...</td>\n",
       "    </tr>\n",
       "    <tr>\n",
       "      <th>1</th>\n",
       "      <td>A1TIRNQ7O4REOH</td>\n",
       "      <td>B00LLPT4HI</td>\n",
       "      <td>Eyeliner &amp; Kajal</td>\n",
       "      <td>4</td>\n",
       "      <td>1405987200</td>\n",
       "      <td>https://www.amazon.in/Maybelline-Colossal-Kaja...</td>\n",
       "    </tr>\n",
       "    <tr>\n",
       "      <th>2</th>\n",
       "      <td>A2Y36BR4YSY9F7</td>\n",
       "      <td>B00LLPT4HI</td>\n",
       "      <td>Eyeliner &amp; Kajal</td>\n",
       "      <td>5</td>\n",
       "      <td>1405728000</td>\n",
       "      <td>https://www.amazon.in/Maybelline-Colossal-Kaja...</td>\n",
       "    </tr>\n",
       "    <tr>\n",
       "      <th>3</th>\n",
       "      <td>A23H6FAOLEMAKC</td>\n",
       "      <td>B00LLPT4HI</td>\n",
       "      <td>Eyeliner &amp; Kajal</td>\n",
       "      <td>5</td>\n",
       "      <td>1405814400</td>\n",
       "      <td>https://www.amazon.in/Maybelline-Colossal-Kaja...</td>\n",
       "    </tr>\n",
       "    <tr>\n",
       "      <th>4</th>\n",
       "      <td>A3CHYZGF3OO6WD</td>\n",
       "      <td>B00LLPT4HI</td>\n",
       "      <td>Eyeliner &amp; Kajal</td>\n",
       "      <td>5</td>\n",
       "      <td>1405641600</td>\n",
       "      <td>https://www.amazon.in/Maybelline-Colossal-Kaja...</td>\n",
       "    </tr>\n",
       "  </tbody>\n",
       "</table>\n",
       "</div>"
      ],
      "text/plain": [
       "           UserId   ProductId       ProductType  Rating   Timestamp  \\\n",
       "0  A3NHUQ33CFH3VM  B00LLPT4HI  Eyeliner & Kajal       5  1405814400   \n",
       "1  A1TIRNQ7O4REOH  B00LLPT4HI  Eyeliner & Kajal       4  1405987200   \n",
       "2  A2Y36BR4YSY9F7  B00LLPT4HI  Eyeliner & Kajal       5  1405728000   \n",
       "3  A23H6FAOLEMAKC  B00LLPT4HI  Eyeliner & Kajal       5  1405814400   \n",
       "4  A3CHYZGF3OO6WD  B00LLPT4HI  Eyeliner & Kajal       5  1405641600   \n",
       "\n",
       "                                                 URL  \n",
       "0  https://www.amazon.in/Maybelline-Colossal-Kaja...  \n",
       "1  https://www.amazon.in/Maybelline-Colossal-Kaja...  \n",
       "2  https://www.amazon.in/Maybelline-Colossal-Kaja...  \n",
       "3  https://www.amazon.in/Maybelline-Colossal-Kaja...  \n",
       "4  https://www.amazon.in/Maybelline-Colossal-Kaja...  "
      ]
     },
     "execution_count": 2,
     "metadata": {},
     "output_type": "execute_result"
    }
   ],
   "source": [
    "df = pd.read_csv('Amazon_Beauty_Recommendation.csv')\n",
    "df.head()"
   ]
  },
  {
   "cell_type": "code",
   "execution_count": 3,
   "id": "838965bc-1838-40b8-9123-4957ac5f706b",
   "metadata": {},
   "outputs": [
    {
     "name": "stdout",
     "output_type": "stream",
     "text": [
      "           UserId   ProductId   Timestamp\n",
      "0  A3NHUQ33CFH3VM  B00LLPT4HI  1405814400\n",
      "1  A1TIRNQ7O4REOH  B00LLPT4HI  1405987200\n",
      "2  A2Y36BR4YSY9F7  B00LLPT4HI  1405728000\n",
      "3  A23H6FAOLEMAKC  B00LLPT4HI  1405814400\n",
      "4  A3CHYZGF3OO6WD  B00LLPT4HI  1405641600\n"
     ]
    }
   ],
   "source": [
    "print(df[['UserId', 'ProductId', 'Timestamp']].head())"
   ]
  },
  {
   "cell_type": "code",
   "execution_count": 4,
   "id": "133b78c4-e4fb-4a6b-ac5d-9cf1d9b5ac0f",
   "metadata": {},
   "outputs": [
    {
     "name": "stdout",
     "output_type": "stream",
     "text": [
      "           UserId   ProductId  Timestamp\n",
      "0  A3NHUQ33CFH3VM  B00LLPT4HI 2014-07-20\n",
      "1  A1TIRNQ7O4REOH  B00LLPT4HI 2014-07-22\n",
      "2  A2Y36BR4YSY9F7  B00LLPT4HI 2014-07-19\n",
      "3  A23H6FAOLEMAKC  B00LLPT4HI 2014-07-20\n",
      "4  A3CHYZGF3OO6WD  B00LLPT4HI 2014-07-18\n",
      "(1348246, 6)\n"
     ]
    }
   ],
   "source": [
    "df['Timestamp'] = pd.to_datetime(df['Timestamp'], unit='s')\n",
    "print(df[['UserId', 'ProductId', 'Timestamp']].head())\n",
    "print(df.shape)"
   ]
  },
  {
   "cell_type": "code",
   "execution_count": 5,
   "id": "e14e9693-e0c4-4a64-9e3e-c56a7ca5002d",
   "metadata": {},
   "outputs": [
    {
     "name": "stdout",
     "output_type": "stream",
     "text": [
      "Data after filtering: (243601, 6)\n"
     ]
    }
   ],
   "source": [
    "user_counts = df['UserId'].value_counts()\n",
    "filtered_users = user_counts[user_counts >= 5].index\n",
    "df = df[df['UserId'].isin(filtered_users)]\n",
    "print(f\"Data after filtering: {df.shape}\")"
   ]
  },
  {
   "cell_type": "code",
   "execution_count": 6,
   "id": "8af8e526-3cf8-43e6-a98c-2cb08b65ecd6",
   "metadata": {},
   "outputs": [
    {
     "name": "stdout",
     "output_type": "stream",
     "text": [
      "Data after filtering: (219119, 6)\n"
     ]
    }
   ],
   "source": [
    "item_counts = df['ProductId'].value_counts()\n",
    "filtered_items = item_counts[item_counts >= 5].index\n",
    "df = df[df['ProductId'].isin(filtered_items)]\n",
    "\n",
    "print(f\"Data after filtering: {df.shape}\")"
   ]
  },
  {
   "cell_type": "code",
   "execution_count": 7,
   "id": "9139486b-2723-4d9f-a78e-feaeb24ebe9d",
   "metadata": {},
   "outputs": [
    {
     "data": {
      "text/plain": [
       "28035"
      ]
     },
     "execution_count": 7,
     "metadata": {},
     "output_type": "execute_result"
    }
   ],
   "source": [
    "user_encoder = LabelEncoder()\n",
    "df['UserId'] = user_encoder.fit_transform(df['UserId'])+1\n",
    "df['UserId'].max()"
   ]
  },
  {
   "cell_type": "code",
   "execution_count": 8,
   "id": "c901bedf-2fc0-479d-860d-2c1b4aaf73b3",
   "metadata": {},
   "outputs": [
    {
     "data": {
      "text/plain": [
       "12704"
      ]
     },
     "execution_count": 8,
     "metadata": {},
     "output_type": "execute_result"
    }
   ],
   "source": [
    "item_encoder = LabelEncoder()\n",
    "df['ProductId'] = item_encoder.fit_transform(df['ProductId']) + 1\n",
    "df['ProductId'].max()"
   ]
  },
  {
   "cell_type": "code",
   "execution_count": 9,
   "id": "5eb1adb9-411a-4e13-9857-90d3591f814f",
   "metadata": {},
   "outputs": [
    {
     "name": "stdout",
     "output_type": "stream",
     "text": [
      "Total number of items including padding index: 12705\n"
     ]
    }
   ],
   "source": [
    "num_items = df['ProductId'].max() + 1\n",
    "print(f\"Total number of items including padding index: {num_items}\")"
   ]
  },
  {
   "cell_type": "code",
   "execution_count": 10,
   "id": "400ad414-d813-48a5-bc77-0782e163f1c2",
   "metadata": {},
   "outputs": [
    {
     "data": {
      "text/html": [
       "<div>\n",
       "<style scoped>\n",
       "    .dataframe tbody tr th:only-of-type {\n",
       "        vertical-align: middle;\n",
       "    }\n",
       "\n",
       "    .dataframe tbody tr th {\n",
       "        vertical-align: top;\n",
       "    }\n",
       "\n",
       "    .dataframe thead th {\n",
       "        text-align: right;\n",
       "    }\n",
       "</style>\n",
       "<table border=\"1\" class=\"dataframe\">\n",
       "  <thead>\n",
       "    <tr style=\"text-align: right;\">\n",
       "      <th></th>\n",
       "      <th>UserId</th>\n",
       "      <th>ProductId</th>\n",
       "      <th>ProductType</th>\n",
       "      <th>Rating</th>\n",
       "      <th>Timestamp</th>\n",
       "      <th>URL</th>\n",
       "    </tr>\n",
       "  </thead>\n",
       "  <tbody>\n",
       "    <tr>\n",
       "      <th>0</th>\n",
       "      <td>1</td>\n",
       "      <td>12520</td>\n",
       "      <td>Shaving Foam &amp; Gels</td>\n",
       "      <td>5</td>\n",
       "      <td>2014-07-14</td>\n",
       "      <td>https://www.amazon.in/gp/slredirect/picassoRed...</td>\n",
       "    </tr>\n",
       "    <tr>\n",
       "      <th>1</th>\n",
       "      <td>1</td>\n",
       "      <td>12421</td>\n",
       "      <td>Trimmers &amp; Clippers</td>\n",
       "      <td>5</td>\n",
       "      <td>2014-07-14</td>\n",
       "      <td>https://www.amazon.in/Philips-BT3215-Cordless-...</td>\n",
       "    </tr>\n",
       "    <tr>\n",
       "      <th>2</th>\n",
       "      <td>1</td>\n",
       "      <td>11836</td>\n",
       "      <td>Kits &amp; Accessories</td>\n",
       "      <td>3</td>\n",
       "      <td>2014-07-14</td>\n",
       "      <td>https://www.amazon.in/SUGAR-POP-Exclusive-Esse...</td>\n",
       "    </tr>\n",
       "    <tr>\n",
       "      <th>3</th>\n",
       "      <td>1</td>\n",
       "      <td>10802</td>\n",
       "      <td>Conditioner</td>\n",
       "      <td>1</td>\n",
       "      <td>2014-07-14</td>\n",
       "      <td>https://www.amazon.in/Garnier-Fructis-Strong-S...</td>\n",
       "    </tr>\n",
       "    <tr>\n",
       "      <th>4</th>\n",
       "      <td>1</td>\n",
       "      <td>10565</td>\n",
       "      <td>Conditioner</td>\n",
       "      <td>2</td>\n",
       "      <td>2014-07-14</td>\n",
       "      <td>https://www.amazon.in/LOreal-Paris-RESIST-Cond...</td>\n",
       "    </tr>\n",
       "  </tbody>\n",
       "</table>\n",
       "</div>"
      ],
      "text/plain": [
       "   UserId  ProductId          ProductType  Rating  Timestamp  \\\n",
       "0       1      12520  Shaving Foam & Gels       5 2014-07-14   \n",
       "1       1      12421  Trimmers & Clippers       5 2014-07-14   \n",
       "2       1      11836   Kits & Accessories       3 2014-07-14   \n",
       "3       1      10802          Conditioner       1 2014-07-14   \n",
       "4       1      10565          Conditioner       2 2014-07-14   \n",
       "\n",
       "                                                 URL  \n",
       "0  https://www.amazon.in/gp/slredirect/picassoRed...  \n",
       "1  https://www.amazon.in/Philips-BT3215-Cordless-...  \n",
       "2  https://www.amazon.in/SUGAR-POP-Exclusive-Esse...  \n",
       "3  https://www.amazon.in/Garnier-Fructis-Strong-S...  \n",
       "4  https://www.amazon.in/LOreal-Paris-RESIST-Cond...  "
      ]
     },
     "execution_count": 10,
     "metadata": {},
     "output_type": "execute_result"
    }
   ],
   "source": [
    "df = df.sort_values(['UserId', 'Timestamp']).reset_index(drop=True)\n",
    "df.head()"
   ]
  },
  {
   "cell_type": "code",
   "execution_count": 11,
   "id": "cac0c111-30fa-4a1a-9fd9-a997ca6accfd",
   "metadata": {},
   "outputs": [
    {
     "name": "stdout",
     "output_type": "stream",
     "text": [
      "[list([12520, 12421, 11836, 10802, 10565, 10186])\n",
      " list([3694, 9806, 5040, 4580, 11636, 55])\n",
      " list([6985, 4850, 4661, 9396, 6227, 492, 10974, 10137])\n",
      " list([10861, 9692, 9564, 9397, 10880, 10498, 3890])\n",
      " list([9662, 11043, 10892, 9089, 8810, 5610, 10951, 9564])]\n",
      "28035\n"
     ]
    }
   ],
   "source": [
    "user_sequences = df.groupby('UserId')['ProductId'].apply(list).values\n",
    "print(user_sequences[:5])\n",
    "print(len(user_sequences))"
   ]
  },
  {
   "cell_type": "code",
   "execution_count": 12,
   "id": "e97eee69-1e01-4c0d-8d19-cd57357c5155",
   "metadata": {},
   "outputs": [
    {
     "name": "stdout",
     "output_type": "stream",
     "text": [
      "No ProductId entry has been assigned the value 0.\n"
     ]
    }
   ],
   "source": [
    "if (df['ProductId'] == 0).any():\n",
    "    print(\"The encoder assigned 0 as a value for some ProductId entries.\")\n",
    "else:\n",
    "    print(\"No ProductId entry has been assigned the value 0.\")\n"
   ]
  },
  {
   "cell_type": "code",
   "execution_count": 13,
   "id": "4915f82a-bd1d-41c1-a333-b576e7feaee4",
   "metadata": {},
   "outputs": [],
   "source": [
    "def generate_sequences(sequence, window_size=10):\n",
    "    if len(sequence) < window_size:\n",
    "        sequence = [0] * (window_size - len(sequence)) + sequence\n",
    "    return [sequence[i:i + window_size] for i in range(len(sequence) - window_size + 1)]"
   ]
  },
  {
   "cell_type": "code",
   "execution_count": 14,
   "id": "dab5bad4-ee08-4980-a3fd-49d919952245",
   "metadata": {},
   "outputs": [
    {
     "name": "stdout",
     "output_type": "stream",
     "text": [
      "67761\n"
     ]
    }
   ],
   "source": [
    "all_sequences = []\n",
    "for seq in user_sequences:\n",
    "    all_sequences.extend(generate_sequences(seq))\n",
    "print(len(all_sequences))"
   ]
  },
  {
   "cell_type": "code",
   "execution_count": 15,
   "id": "9e05b2d6-1dc5-40b8-b4bb-924adfbfcbe6",
   "metadata": {},
   "outputs": [
    {
     "name": "stdout",
     "output_type": "stream",
     "text": [
      "[[0, 0, 0, 0, 12520, 12421, 11836, 10802, 10565, 10186], [0, 0, 0, 0, 3694, 9806, 5040, 4580, 11636, 55], [0, 0, 6985, 4850, 4661, 9396, 6227, 492, 10974, 10137], [0, 0, 0, 10861, 9692, 9564, 9397, 10880, 10498, 3890], [0, 0, 9662, 11043, 10892, 9089, 8810, 5610, 10951, 9564], [0, 0, 0, 0, 0, 6643, 5649, 4783, 1095, 856], [10610, 4019, 4338, 9407, 8525, 8762, 6598, 3044, 9937, 5122], [4019, 4338, 9407, 8525, 8762, 6598, 3044, 9937, 5122, 9928], [4338, 9407, 8525, 8762, 6598, 3044, 9937, 5122, 9928, 8149], [0, 0, 0, 0, 0, 0, 11348, 11082, 11597, 11803], [0, 0, 0, 0, 11614, 10582, 10498, 10363, 10323, 7219], [0, 0, 0, 5906, 496, 4734, 2710, 4183, 3283, 3438], [0, 0, 0, 0, 652, 1347, 1046, 8589, 8108, 3266], [7817, 8269, 4328, 3350, 10986, 10303, 8594, 7245, 4337, 4336], [8269, 4328, 3350, 10986, 10303, 8594, 7245, 4337, 4336, 5958], [4328, 3350, 10986, 10303, 8594, 7245, 4337, 4336, 5958, 9353], [3350, 10986, 10303, 8594, 7245, 4337, 4336, 5958, 9353, 11083], [10986, 10303, 8594, 7245, 4337, 4336, 5958, 9353, 11083, 10766], [10303, 8594, 7245, 4337, 4336, 5958, 9353, 11083, 10766, 9358], [8594, 7245, 4337, 4336, 5958, 9353, 11083, 10766, 9358, 9210]]\n"
     ]
    }
   ],
   "source": [
    "print(all_sequences[:20])"
   ]
  },
  {
   "cell_type": "code",
   "execution_count": 16,
   "id": "f133ed34-bc32-4153-8d86-a7fa702168ef",
   "metadata": {},
   "outputs": [],
   "source": [
    "all_sequences = torch.tensor(all_sequences, dtype=torch.long)\n",
    "inputs = all_sequences[:, :-1]\n",
    "targets = all_sequences[:, -1]"
   ]
  },
  {
   "cell_type": "code",
   "execution_count": 17,
   "id": "be741c9d-10c5-40c6-ad13-207de5f3a7f9",
   "metadata": {},
   "outputs": [
    {
     "name": "stdout",
     "output_type": "stream",
     "text": [
      "tensor([[    0,     0,     0,  ..., 11836, 10802, 10565],\n",
      "        [    0,     0,     0,  ...,  5040,  4580, 11636],\n",
      "        [    0,     0,  6985,  ...,  6227,   492, 10974],\n",
      "        ...,\n",
      "        [ 6122,  5562,  5362,  ...,  9933,  8364,  6481],\n",
      "        [    0,     0,     0,  ..., 11713, 10830,  7269],\n",
      "        [    0,     0,     0,  ...,  9392,  9265,  7728]])\n"
     ]
    }
   ],
   "source": [
    "print(inputs)\n"
   ]
  },
  {
   "cell_type": "code",
   "execution_count": 18,
   "id": "46507626-d7ff-4896-be6e-8ad3095bc468",
   "metadata": {},
   "outputs": [
    {
     "name": "stdout",
     "output_type": "stream",
     "text": [
      "tensor([[    0,     0,     0,     0, 12520, 12421, 11836, 10802, 10565],\n",
      "        [    0,     0,     0,     0,  3694,  9806,  5040,  4580, 11636],\n",
      "        [    0,     0,  6985,  4850,  4661,  9396,  6227,   492, 10974],\n",
      "        [    0,     0,     0, 10861,  9692,  9564,  9397, 10880, 10498],\n",
      "        [    0,     0,  9662, 11043, 10892,  9089,  8810,  5610, 10951],\n",
      "        [    0,     0,     0,     0,     0,  6643,  5649,  4783,  1095],\n",
      "        [10610,  4019,  4338,  9407,  8525,  8762,  6598,  3044,  9937],\n",
      "        [ 4019,  4338,  9407,  8525,  8762,  6598,  3044,  9937,  5122],\n",
      "        [ 4338,  9407,  8525,  8762,  6598,  3044,  9937,  5122,  9928],\n",
      "        [    0,     0,     0,     0,     0,     0, 11348, 11082, 11597],\n",
      "        [    0,     0,     0,     0, 11614, 10582, 10498, 10363, 10323],\n",
      "        [    0,     0,     0,  5906,   496,  4734,  2710,  4183,  3283],\n",
      "        [    0,     0,     0,     0,   652,  1347,  1046,  8589,  8108],\n",
      "        [ 7817,  8269,  4328,  3350, 10986, 10303,  8594,  7245,  4337],\n",
      "        [ 8269,  4328,  3350, 10986, 10303,  8594,  7245,  4337,  4336],\n",
      "        [ 4328,  3350, 10986, 10303,  8594,  7245,  4337,  4336,  5958],\n",
      "        [ 3350, 10986, 10303,  8594,  7245,  4337,  4336,  5958,  9353],\n",
      "        [10986, 10303,  8594,  7245,  4337,  4336,  5958,  9353, 11083],\n",
      "        [10303,  8594,  7245,  4337,  4336,  5958,  9353, 11083, 10766],\n",
      "        [ 8594,  7245,  4337,  4336,  5958,  9353, 11083, 10766,  9358]])\n"
     ]
    }
   ],
   "source": [
    "print(inputs[:20])"
   ]
  },
  {
   "cell_type": "code",
   "execution_count": 19,
   "id": "cb78435e-411e-4081-aaf9-29d88143ed92",
   "metadata": {},
   "outputs": [
    {
     "name": "stdout",
     "output_type": "stream",
     "text": [
      "tensor([10186,    55, 10137,  ...,  2814,  7351,  2347])\n"
     ]
    }
   ],
   "source": [
    "print(targets)\n"
   ]
  },
  {
   "cell_type": "code",
   "execution_count": 20,
   "id": "08021a1e-5ec2-4ce2-9649-603e627c7747",
   "metadata": {},
   "outputs": [
    {
     "name": "stdout",
     "output_type": "stream",
     "text": [
      "Inputs shape: torch.Size([67761, 9]), Targets shape: torch.Size([67761])\n"
     ]
    }
   ],
   "source": [
    "print(f'Inputs shape: {inputs.shape}, Targets shape: {targets.shape}')"
   ]
  },
  {
   "cell_type": "code",
   "execution_count": 21,
   "id": "203c856d-6c5e-4140-861d-1ffcdc104391",
   "metadata": {},
   "outputs": [
    {
     "name": "stdout",
     "output_type": "stream",
     "text": [
      "Train size: 47432\n",
      "Validation size: 10164\n",
      "Test size: 10165\n"
     ]
    }
   ],
   "source": [
    "import torch\n",
    "from torch.utils.data import TensorDataset, DataLoader, random_split\n",
    "\n",
    "\n",
    "dataset = TensorDataset(inputs, targets)\n",
    "\n",
    "total_size = len(dataset)\n",
    "train_size = int(0.7 * total_size)\n",
    "val_size = int(0.15 * total_size)\n",
    "test_size = total_size - train_size - val_size\n",
    "\n",
    "train_dataset, val_dataset, test_dataset = random_split(dataset, [train_size, val_size, test_size])\n",
    "\n",
    "train_loader = DataLoader(train_dataset, batch_size=32, shuffle=True)\n",
    "val_loader = DataLoader(val_dataset, batch_size=32, shuffle=False)\n",
    "test_loader = DataLoader(test_dataset, batch_size=32, shuffle=False)\n",
    "\n",
    "print(f\"Train size: {len(train_loader.dataset)}\")\n",
    "print(f\"Validation size: {len(val_loader.dataset)}\")\n",
    "print(f\"Test size: {len(test_loader.dataset)}\")\n"
   ]
  },
  {
   "cell_type": "code",
   "execution_count": 22,
   "id": "2a00749d-71c5-4b9a-ba60-f59a5760ad29",
   "metadata": {},
   "outputs": [
    {
     "name": "stdout",
     "output_type": "stream",
     "text": [
      "Batch Inputs: torch.Size([32, 9]), Batch Targets: torch.Size([32])\n"
     ]
    }
   ],
   "source": [
    "for batch_inputs, batch_targets in train_loader:\n",
    "    print(f'Batch Inputs: {batch_inputs.shape}, Batch Targets: {batch_targets.shape}')\n",
    "    break"
   ]
  },
  {
   "cell_type": "code",
   "execution_count": 23,
   "id": "3baf47ea-9d65-4d08-aae9-f1a8c6eefc49",
   "metadata": {},
   "outputs": [],
   "source": [
    "import torch\n",
    "import torch.nn as nn\n",
    "\n",
    "class PointWiseFeedForward(nn.Module):\n",
    "    def __init__(self, hidden_units, dropout_rate):\n",
    "        super(PointWiseFeedForward, self).__init__()\n",
    "        self.conv1 = nn.Conv1d(hidden_units, hidden_units, kernel_size=1)\n",
    "        self.dropout1 = nn.Dropout(p=dropout_rate)\n",
    "        self.relu = nn.ReLU()\n",
    "        self.conv2 = nn.Conv1d(hidden_units, hidden_units, kernel_size=1)\n",
    "        self.dropout2 = nn.Dropout(p=dropout_rate)\n",
    "\n",
    "    def forward(self, inputs):\n",
    "        outputs = self.dropout2(self.conv2(self.relu(self.dropout1(self.conv1(inputs.transpose(-1, -2))))))\n",
    "        outputs = outputs.transpose(-1, -2)\n",
    "        outputs += inputs\n",
    "        return outputs\n",
    "\n",
    "class SASRec(nn.Module):\n",
    "    def __init__(self, user_num, item_num, args):\n",
    "        super(SASRec, self).__init__()\n",
    "        self.user_num = user_num\n",
    "        self.item_num = item_num\n",
    "        self.dev = args.device\n",
    "\n",
    "        self.item_emb = nn.Embedding(self.item_num + 1, args.hidden_units, padding_idx=0)\n",
    "        self.pos_emb = nn.Embedding(args.maxlen + 1, args.hidden_units, padding_idx=0)\n",
    "        self.emb_dropout = nn.Dropout(p=args.dropout_rate)\n",
    "\n",
    "        self.attention_layernorms = nn.ModuleList()\n",
    "        self.attention_layers = nn.ModuleList()\n",
    "        self.forward_layernorms = nn.ModuleList()\n",
    "        self.forward_layers = nn.ModuleList()\n",
    "\n",
    "        self.last_layernorm = nn.LayerNorm(args.hidden_units, eps=1e-8)\n",
    "\n",
    "        for _ in range(args.num_blocks):\n",
    "            self.attention_layernorms.append(nn.LayerNorm(args.hidden_units, eps=1e-8))\n",
    "            self.attention_layers.append(\n",
    "                nn.MultiheadAttention(args.hidden_units, args.num_heads, args.dropout_rate)\n",
    "            )\n",
    "            self.forward_layernorms.append(nn.LayerNorm(args.hidden_units, eps=1e-8))\n",
    "            self.forward_layers.append(PointWiseFeedForward(args.hidden_units, args.dropout_rate))\n",
    "\n",
    "    def forward(self, inputs, targets):\n",
    "        embeddings = self.item_emb(inputs.to(self.dev))\n",
    "        embeddings *= self.item_emb.embedding_dim ** 0.5\n",
    "        seqs = self.emb_dropout(embeddings)\n",
    "\n",
    "        for i in range(len(self.attention_layers)):\n",
    "            Q = self.attention_layernorms[i](seqs)\n",
    "            seqs, _ = self.attention_layers[i](Q, seqs, seqs)\n",
    "            seqs = Q + seqs\n",
    "            seqs = self.forward_layernorms[i](seqs)\n",
    "            seqs = self.forward_layers[i](seqs)\n",
    "\n",
    "        logits = seqs[:, -1, :]  \n",
    "        logits = logits.matmul(self.item_emb.weight.t())\n",
    "\n",
    "        return logits\n",
    "\n"
   ]
  },
  {
   "cell_type": "code",
   "execution_count": 24,
   "id": "2c7d6f77-9c69-42ec-8063-e34a989c3ff2",
   "metadata": {},
   "outputs": [
    {
     "name": "stdout",
     "output_type": "stream",
     "text": [
      "SASRec(\n",
      "  (item_emb): Embedding(12705, 128, padding_idx=0)\n",
      "  (pos_emb): Embedding(10, 128, padding_idx=0)\n",
      "  (emb_dropout): Dropout(p=0.2, inplace=False)\n",
      "  (attention_layernorms): ModuleList(\n",
      "    (0-1): 2 x LayerNorm((128,), eps=1e-08, elementwise_affine=True)\n",
      "  )\n",
      "  (attention_layers): ModuleList(\n",
      "    (0-1): 2 x MultiheadAttention(\n",
      "      (out_proj): NonDynamicallyQuantizableLinear(in_features=128, out_features=128, bias=True)\n",
      "    )\n",
      "  )\n",
      "  (forward_layernorms): ModuleList(\n",
      "    (0-1): 2 x LayerNorm((128,), eps=1e-08, elementwise_affine=True)\n",
      "  )\n",
      "  (forward_layers): ModuleList(\n",
      "    (0-1): 2 x PointWiseFeedForward(\n",
      "      (conv1): Conv1d(128, 128, kernel_size=(1,), stride=(1,))\n",
      "      (dropout1): Dropout(p=0.2, inplace=False)\n",
      "      (relu): ReLU()\n",
      "      (conv2): Conv1d(128, 128, kernel_size=(1,), stride=(1,))\n",
      "      (dropout2): Dropout(p=0.2, inplace=False)\n",
      "    )\n",
      "  )\n",
      "  (last_layernorm): LayerNorm((128,), eps=1e-08, elementwise_affine=True)\n",
      ")\n"
     ]
    }
   ],
   "source": [
    "args = type('Args', (object,), {\n",
    "    'device': torch.device('cuda' if torch.cuda.is_available() else 'cpu'),\n",
    "    'hidden_units': 128,\n",
    "    'num_blocks': 2,\n",
    "    'num_heads': 2,\n",
    "    'maxlen': 9,\n",
    "    'dropout_rate': 0.2,\n",
    "})()\n",
    "user_num = len(df[\"UserId\"].unique())\n",
    "item_num = len(df[\"ProductId\"].unique())\n",
    "model = SASRec(user_num, item_num, args)\n",
    "\n",
    "device = torch.device(\"cuda\" if torch.cuda.is_available() else \"cpu\")\n",
    "model.to(device)\n",
    "print(model)\n"
   ]
  },
  {
   "cell_type": "code",
   "execution_count": null,
   "id": "35f5e098-d2d8-4ad0-afbd-7c6f550ebbe9",
   "metadata": {},
   "outputs": [
    {
     "name": "stdout",
     "output_type": "stream",
     "text": [
      "Starting Training...\n"
     ]
    },
    {
     "name": "stderr",
     "output_type": "stream",
     "text": [
      "Epoch [1/100]: 100%|██████████| 1483/1483 [00:10<00:00, 136.69batch/s, Batch Loss=9.32]\n"
     ]
    },
    {
     "name": "stdout",
     "output_type": "stream",
     "text": [
      "Epoch [1/100], Training Loss: 12.8146, Training Accuracy: 0.0002\n",
      "Epoch [1/100], Validation Loss: 9.4142, Validation Accuracy: 0.0002\n"
     ]
    },
    {
     "name": "stderr",
     "output_type": "stream",
     "text": [
      "Epoch [2/100]: 100%|██████████| 1483/1483 [00:09<00:00, 148.56batch/s, Batch Loss=8.72]\n"
     ]
    },
    {
     "name": "stdout",
     "output_type": "stream",
     "text": [
      "Epoch [2/100], Training Loss: 9.2619, Training Accuracy: 0.0005\n",
      "Epoch [2/100], Validation Loss: 9.2524, Validation Accuracy: 0.0013\n"
     ]
    },
    {
     "name": "stderr",
     "output_type": "stream",
     "text": [
      "Epoch [3/100]: 100%|██████████| 1483/1483 [00:10<00:00, 147.57batch/s, Batch Loss=8.89]\n"
     ]
    },
    {
     "name": "stdout",
     "output_type": "stream",
     "text": [
      "Epoch [3/100], Training Loss: 9.0028, Training Accuracy: 0.0013\n",
      "Epoch [3/100], Validation Loss: 9.0522, Validation Accuracy: 0.0013\n"
     ]
    },
    {
     "name": "stderr",
     "output_type": "stream",
     "text": [
      "Epoch [4/100]: 100%|██████████| 1483/1483 [00:10<00:00, 147.00batch/s, Batch Loss=8.25]\n"
     ]
    },
    {
     "name": "stdout",
     "output_type": "stream",
     "text": [
      "Epoch [4/100], Training Loss: 8.8147, Training Accuracy: 0.0017\n",
      "Epoch [4/100], Validation Loss: 8.9697, Validation Accuracy: 0.0024\n"
     ]
    },
    {
     "name": "stderr",
     "output_type": "stream",
     "text": [
      "Epoch [5/100]: 100%|██████████| 1483/1483 [00:10<00:00, 148.24batch/s, Batch Loss=8.9] \n"
     ]
    },
    {
     "name": "stdout",
     "output_type": "stream",
     "text": [
      "Epoch [5/100], Training Loss: 8.7721, Training Accuracy: 0.0021\n",
      "Epoch [5/100], Validation Loss: 8.9752, Validation Accuracy: 0.0026\n"
     ]
    },
    {
     "name": "stderr",
     "output_type": "stream",
     "text": [
      "Epoch [6/100]: 100%|██████████| 1483/1483 [00:09<00:00, 149.98batch/s, Batch Loss=8.7] \n"
     ]
    },
    {
     "name": "stdout",
     "output_type": "stream",
     "text": [
      "Epoch [6/100], Training Loss: 8.7202, Training Accuracy: 0.0019\n",
      "Epoch [6/100], Validation Loss: 8.9794, Validation Accuracy: 0.0018\n"
     ]
    },
    {
     "name": "stderr",
     "output_type": "stream",
     "text": [
      "Epoch [7/100]: 100%|██████████| 1483/1483 [00:09<00:00, 150.27batch/s, Batch Loss=8.69]\n"
     ]
    },
    {
     "name": "stdout",
     "output_type": "stream",
     "text": [
      "Epoch [7/100], Training Loss: 8.6969, Training Accuracy: 0.0018\n",
      "Epoch [7/100], Validation Loss: 8.9759, Validation Accuracy: 0.0014\n"
     ]
    },
    {
     "name": "stderr",
     "output_type": "stream",
     "text": [
      "Epoch [8/100]: 100%|██████████| 1483/1483 [00:10<00:00, 148.00batch/s, Batch Loss=9.36]\n"
     ]
    },
    {
     "name": "stdout",
     "output_type": "stream",
     "text": [
      "Epoch [8/100], Training Loss: 8.6892, Training Accuracy: 0.0021\n",
      "Epoch [8/100], Validation Loss: 8.9826, Validation Accuracy: 0.0026\n"
     ]
    },
    {
     "name": "stderr",
     "output_type": "stream",
     "text": [
      "Epoch [9/100]: 100%|██████████| 1483/1483 [00:09<00:00, 149.09batch/s, Batch Loss=8.52]\n"
     ]
    },
    {
     "name": "stdout",
     "output_type": "stream",
     "text": [
      "Epoch [9/100], Training Loss: 8.6804, Training Accuracy: 0.0023\n",
      "Epoch [9/100], Validation Loss: 8.9823, Validation Accuracy: 0.0012\n"
     ]
    },
    {
     "name": "stderr",
     "output_type": "stream",
     "text": [
      "Epoch [10/100]: 100%|██████████| 1483/1483 [00:09<00:00, 149.27batch/s, Batch Loss=9.1] \n"
     ]
    },
    {
     "name": "stdout",
     "output_type": "stream",
     "text": [
      "Epoch [10/100], Training Loss: 8.6786, Training Accuracy: 0.0017\n",
      "Epoch [10/100], Validation Loss: 9.0034, Validation Accuracy: 0.0010\n"
     ]
    },
    {
     "name": "stderr",
     "output_type": "stream",
     "text": [
      "Epoch [11/100]: 100%|██████████| 1483/1483 [00:09<00:00, 149.64batch/s, Batch Loss=8.09]\n"
     ]
    },
    {
     "name": "stdout",
     "output_type": "stream",
     "text": [
      "Epoch [11/100], Training Loss: 8.6738, Training Accuracy: 0.0022\n",
      "Epoch [11/100], Validation Loss: 9.0288, Validation Accuracy: 0.0023\n"
     ]
    },
    {
     "name": "stderr",
     "output_type": "stream",
     "text": [
      "Epoch [12/100]: 100%|██████████| 1483/1483 [00:09<00:00, 149.89batch/s, Batch Loss=8.84]\n"
     ]
    },
    {
     "name": "stdout",
     "output_type": "stream",
     "text": [
      "Epoch [12/100], Training Loss: 8.6698, Training Accuracy: 0.0020\n",
      "Epoch [12/100], Validation Loss: 9.0130, Validation Accuracy: 0.0014\n"
     ]
    },
    {
     "name": "stderr",
     "output_type": "stream",
     "text": [
      "Epoch [13/100]: 100%|██████████| 1483/1483 [00:09<00:00, 150.62batch/s, Batch Loss=8.3] \n"
     ]
    },
    {
     "name": "stdout",
     "output_type": "stream",
     "text": [
      "Epoch [13/100], Training Loss: 8.6679, Training Accuracy: 0.0020\n",
      "Epoch [13/100], Validation Loss: 9.0047, Validation Accuracy: 0.0017\n"
     ]
    },
    {
     "name": "stderr",
     "output_type": "stream",
     "text": [
      "Epoch [14/100]: 100%|██████████| 1483/1483 [00:09<00:00, 150.46batch/s, Batch Loss=9.02]\n"
     ]
    },
    {
     "name": "stdout",
     "output_type": "stream",
     "text": [
      "Epoch [14/100], Training Loss: 8.6525, Training Accuracy: 0.0019\n",
      "Epoch [14/100], Validation Loss: 8.9514, Validation Accuracy: 0.0018\n"
     ]
    },
    {
     "name": "stderr",
     "output_type": "stream",
     "text": [
      "Epoch [15/100]: 100%|██████████| 1483/1483 [00:09<00:00, 150.55batch/s, Batch Loss=9.39]\n"
     ]
    },
    {
     "name": "stdout",
     "output_type": "stream",
     "text": [
      "Epoch [15/100], Training Loss: 8.6214, Training Accuracy: 0.0024\n",
      "Epoch [15/100], Validation Loss: 8.9211, Validation Accuracy: 0.0024\n"
     ]
    },
    {
     "name": "stderr",
     "output_type": "stream",
     "text": [
      "Epoch [16/100]: 100%|██████████| 1483/1483 [00:09<00:00, 149.92batch/s, Batch Loss=8.14]\n"
     ]
    },
    {
     "name": "stdout",
     "output_type": "stream",
     "text": [
      "Epoch [16/100], Training Loss: 8.5868, Training Accuracy: 0.0024\n",
      "Epoch [16/100], Validation Loss: 8.8871, Validation Accuracy: 0.0026\n"
     ]
    },
    {
     "name": "stderr",
     "output_type": "stream",
     "text": [
      "Epoch [17/100]: 100%|██████████| 1483/1483 [00:10<00:00, 146.94batch/s, Batch Loss=8.69]\n"
     ]
    },
    {
     "name": "stdout",
     "output_type": "stream",
     "text": [
      "Epoch [17/100], Training Loss: 8.5674, Training Accuracy: 0.0028\n",
      "Epoch [17/100], Validation Loss: 8.8721, Validation Accuracy: 0.0024\n"
     ]
    },
    {
     "name": "stderr",
     "output_type": "stream",
     "text": [
      "Epoch [18/100]: 100%|██████████| 1483/1483 [00:10<00:00, 148.00batch/s, Batch Loss=8.64]\n"
     ]
    },
    {
     "name": "stdout",
     "output_type": "stream",
     "text": [
      "Epoch [18/100], Training Loss: 8.5530, Training Accuracy: 0.0024\n",
      "Epoch [18/100], Validation Loss: 8.8754, Validation Accuracy: 0.0022\n"
     ]
    },
    {
     "name": "stderr",
     "output_type": "stream",
     "text": [
      "Epoch [19/100]: 100%|██████████| 1483/1483 [00:09<00:00, 150.08batch/s, Batch Loss=8.78]\n"
     ]
    },
    {
     "name": "stdout",
     "output_type": "stream",
     "text": [
      "Epoch [19/100], Training Loss: 8.5377, Training Accuracy: 0.0027\n",
      "Epoch [19/100], Validation Loss: 8.8556, Validation Accuracy: 0.0036\n"
     ]
    },
    {
     "name": "stderr",
     "output_type": "stream",
     "text": [
      "Epoch [20/100]: 100%|██████████| 1483/1483 [00:09<00:00, 150.53batch/s, Batch Loss=7.67]\n"
     ]
    },
    {
     "name": "stdout",
     "output_type": "stream",
     "text": [
      "Epoch [20/100], Training Loss: 8.5164, Training Accuracy: 0.0029\n",
      "Epoch [20/100], Validation Loss: 8.8614, Validation Accuracy: 0.0022\n"
     ]
    },
    {
     "name": "stderr",
     "output_type": "stream",
     "text": [
      "Epoch [21/100]: 100%|██████████| 1483/1483 [00:10<00:00, 147.39batch/s, Batch Loss=8.7] \n"
     ]
    },
    {
     "name": "stdout",
     "output_type": "stream",
     "text": [
      "Epoch [21/100], Training Loss: 8.4948, Training Accuracy: 0.0031\n",
      "Epoch [21/100], Validation Loss: 8.8018, Validation Accuracy: 0.0033\n"
     ]
    },
    {
     "name": "stderr",
     "output_type": "stream",
     "text": [
      "Epoch [22/100]: 100%|██████████| 1483/1483 [00:09<00:00, 150.26batch/s, Batch Loss=7.4] \n"
     ]
    },
    {
     "name": "stdout",
     "output_type": "stream",
     "text": [
      "Epoch [22/100], Training Loss: 8.4706, Training Accuracy: 0.0027\n",
      "Epoch [22/100], Validation Loss: 8.8073, Validation Accuracy: 0.0023\n"
     ]
    },
    {
     "name": "stderr",
     "output_type": "stream",
     "text": [
      "Epoch [23/100]: 100%|██████████| 1483/1483 [00:10<00:00, 144.77batch/s, Batch Loss=9.03]\n"
     ]
    },
    {
     "name": "stdout",
     "output_type": "stream",
     "text": [
      "Epoch [23/100], Training Loss: 8.4434, Training Accuracy: 0.0031\n",
      "Epoch [23/100], Validation Loss: 8.7984, Validation Accuracy: 0.0024\n"
     ]
    },
    {
     "name": "stderr",
     "output_type": "stream",
     "text": [
      "Epoch [24/100]: 100%|██████████| 1483/1483 [00:10<00:00, 142.99batch/s, Batch Loss=8.21]\n"
     ]
    },
    {
     "name": "stdout",
     "output_type": "stream",
     "text": [
      "Epoch [24/100], Training Loss: 8.4203, Training Accuracy: 0.0031\n",
      "Epoch [24/100], Validation Loss: 8.7676, Validation Accuracy: 0.0028\n"
     ]
    },
    {
     "name": "stderr",
     "output_type": "stream",
     "text": [
      "Epoch [25/100]: 100%|██████████| 1483/1483 [00:10<00:00, 144.21batch/s, Batch Loss=8.02]\n"
     ]
    },
    {
     "name": "stdout",
     "output_type": "stream",
     "text": [
      "Epoch [25/100], Training Loss: 8.3958, Training Accuracy: 0.0034\n",
      "Epoch [25/100], Validation Loss: 8.7617, Validation Accuracy: 0.0024\n"
     ]
    },
    {
     "name": "stderr",
     "output_type": "stream",
     "text": [
      "Epoch [26/100]: 100%|██████████| 1483/1483 [00:10<00:00, 147.91batch/s, Batch Loss=7.6] \n"
     ]
    },
    {
     "name": "stdout",
     "output_type": "stream",
     "text": [
      "Epoch [26/100], Training Loss: 8.3785, Training Accuracy: 0.0030\n",
      "Epoch [26/100], Validation Loss: 8.7405, Validation Accuracy: 0.0023\n"
     ]
    },
    {
     "name": "stderr",
     "output_type": "stream",
     "text": [
      "Epoch [27/100]: 100%|██████████| 1483/1483 [00:09<00:00, 148.76batch/s, Batch Loss=7.67]\n"
     ]
    },
    {
     "name": "stdout",
     "output_type": "stream",
     "text": [
      "Epoch [27/100], Training Loss: 8.3585, Training Accuracy: 0.0038\n",
      "Epoch [27/100], Validation Loss: 8.7631, Validation Accuracy: 0.0026\n"
     ]
    },
    {
     "name": "stderr",
     "output_type": "stream",
     "text": [
      "Epoch [28/100]: 100%|██████████| 1483/1483 [00:10<00:00, 145.78batch/s, Batch Loss=8.59]\n"
     ]
    },
    {
     "name": "stdout",
     "output_type": "stream",
     "text": [
      "Epoch [28/100], Training Loss: 8.3440, Training Accuracy: 0.0038\n",
      "Epoch [28/100], Validation Loss: 8.7155, Validation Accuracy: 0.0026\n"
     ]
    },
    {
     "name": "stderr",
     "output_type": "stream",
     "text": [
      "Epoch [29/100]: 100%|██████████| 1483/1483 [00:10<00:00, 144.73batch/s, Batch Loss=8.41]\n"
     ]
    },
    {
     "name": "stdout",
     "output_type": "stream",
     "text": [
      "Epoch [29/100], Training Loss: 8.3329, Training Accuracy: 0.0034\n",
      "Epoch [29/100], Validation Loss: 8.7156, Validation Accuracy: 0.0034\n"
     ]
    },
    {
     "name": "stderr",
     "output_type": "stream",
     "text": [
      "Epoch [30/100]: 100%|██████████| 1483/1483 [00:10<00:00, 144.56batch/s, Batch Loss=8.34]\n"
     ]
    },
    {
     "name": "stdout",
     "output_type": "stream",
     "text": [
      "Epoch [30/100], Training Loss: 8.3227, Training Accuracy: 0.0033\n",
      "Epoch [30/100], Validation Loss: 8.6767, Validation Accuracy: 0.0030\n"
     ]
    },
    {
     "name": "stderr",
     "output_type": "stream",
     "text": [
      "Epoch [31/100]: 100%|██████████| 1483/1483 [00:09<00:00, 149.04batch/s, Batch Loss=6.96]\n"
     ]
    },
    {
     "name": "stdout",
     "output_type": "stream",
     "text": [
      "Epoch [31/100], Training Loss: 8.3100, Training Accuracy: 0.0035\n",
      "Epoch [31/100], Validation Loss: 8.6740, Validation Accuracy: 0.0024\n"
     ]
    },
    {
     "name": "stderr",
     "output_type": "stream",
     "text": [
      "Epoch [32/100]: 100%|██████████| 1483/1483 [00:10<00:00, 146.13batch/s, Batch Loss=7.79]\n"
     ]
    },
    {
     "name": "stdout",
     "output_type": "stream",
     "text": [
      "Epoch [32/100], Training Loss: 8.3026, Training Accuracy: 0.0039\n",
      "Epoch [32/100], Validation Loss: 8.7355, Validation Accuracy: 0.0030\n"
     ]
    },
    {
     "name": "stderr",
     "output_type": "stream",
     "text": [
      "Epoch [33/100]: 100%|██████████| 1483/1483 [00:10<00:00, 146.41batch/s, Batch Loss=8.66]\n"
     ]
    },
    {
     "name": "stdout",
     "output_type": "stream",
     "text": [
      "Epoch [33/100], Training Loss: 8.2978, Training Accuracy: 0.0038\n",
      "Epoch [33/100], Validation Loss: 8.7371, Validation Accuracy: 0.0033\n"
     ]
    },
    {
     "name": "stderr",
     "output_type": "stream",
     "text": [
      "Epoch [34/100]: 100%|██████████| 1483/1483 [00:10<00:00, 147.56batch/s, Batch Loss=8.32]\n"
     ]
    },
    {
     "name": "stdout",
     "output_type": "stream",
     "text": [
      "Epoch [34/100], Training Loss: 8.3000, Training Accuracy: 0.0032\n",
      "Epoch [34/100], Validation Loss: 8.6503, Validation Accuracy: 0.0033\n"
     ]
    },
    {
     "name": "stderr",
     "output_type": "stream",
     "text": [
      "Epoch [35/100]: 100%|██████████| 1483/1483 [00:10<00:00, 147.82batch/s, Batch Loss=7.93]\n"
     ]
    },
    {
     "name": "stdout",
     "output_type": "stream",
     "text": [
      "Epoch [35/100], Training Loss: 8.2825, Training Accuracy: 0.0036\n",
      "Epoch [35/100], Validation Loss: 8.6842, Validation Accuracy: 0.0025\n"
     ]
    },
    {
     "name": "stderr",
     "output_type": "stream",
     "text": [
      "Epoch [36/100]: 100%|██████████| 1483/1483 [00:09<00:00, 149.43batch/s, Batch Loss=9.06]\n"
     ]
    },
    {
     "name": "stdout",
     "output_type": "stream",
     "text": [
      "Epoch [36/100], Training Loss: 8.2734, Training Accuracy: 0.0034\n",
      "Epoch [36/100], Validation Loss: 8.6720, Validation Accuracy: 0.0025\n"
     ]
    },
    {
     "name": "stderr",
     "output_type": "stream",
     "text": [
      "Epoch [37/100]: 100%|██████████| 1483/1483 [00:10<00:00, 147.06batch/s, Batch Loss=8.74]\n"
     ]
    },
    {
     "name": "stdout",
     "output_type": "stream",
     "text": [
      "Epoch [37/100], Training Loss: 8.2729, Training Accuracy: 0.0034\n",
      "Epoch [37/100], Validation Loss: 8.6756, Validation Accuracy: 0.0032\n"
     ]
    },
    {
     "name": "stderr",
     "output_type": "stream",
     "text": [
      "Epoch [38/100]: 100%|██████████| 1483/1483 [00:10<00:00, 146.98batch/s, Batch Loss=8.41]\n"
     ]
    },
    {
     "name": "stdout",
     "output_type": "stream",
     "text": [
      "Epoch [38/100], Training Loss: 8.2713, Training Accuracy: 0.0039\n",
      "Epoch [38/100], Validation Loss: 8.6979, Validation Accuracy: 0.0030\n"
     ]
    },
    {
     "name": "stderr",
     "output_type": "stream",
     "text": [
      "Epoch [39/100]: 100%|██████████| 1483/1483 [00:10<00:00, 147.81batch/s, Batch Loss=7.9] \n"
     ]
    },
    {
     "name": "stdout",
     "output_type": "stream",
     "text": [
      "Epoch [39/100], Training Loss: 8.2675, Training Accuracy: 0.0038\n",
      "Epoch [39/100], Validation Loss: 8.7072, Validation Accuracy: 0.0037\n"
     ]
    },
    {
     "name": "stderr",
     "output_type": "stream",
     "text": [
      "Epoch [40/100]:  70%|██████▉   | 1037/1483 [00:07<00:03, 147.06batch/s, Batch Loss=8.37]"
     ]
    }
   ],
   "source": [
    "import torch\n",
    "import torch.optim as optim\n",
    "from tqdm import tqdm\n",
    "import numpy as np\n",
    "\n",
    "criterion = torch.nn.CrossEntropyLoss()\n",
    "optimizer = optim.Adam(model.parameters(), lr=0.001)\n",
    "\n",
    "num_epochs = 100\n",
    "\n",
    "train_losses = []\n",
    "val_losses = []\n",
    "train_accuracies = []\n",
    "val_accuracies = []\n",
    "\n",
    "print(\"Starting Training...\")\n",
    "\n",
    "for epoch in range(num_epochs):\n",
    "    model.train()\n",
    "    total_loss = 0.0\n",
    "    correct_predictions = 0\n",
    "    total_predictions = 0\n",
    "\n",
    "    with tqdm(train_loader, desc=f\"Epoch [{epoch+1}/{num_epochs}]\", unit=\"batch\") as progress_bar:\n",
    "        for batch_inputs, batch_targets in progress_bar:\n",
    "            batch_inputs, batch_targets = batch_inputs.to(device), batch_targets.to(device)\n",
    "\n",
    "            optimizer.zero_grad()\n",
    "            outputs = model(batch_inputs, batch_targets)  \n",
    "\n",
    "            loss = criterion(outputs, batch_targets)  \n",
    "            loss.backward()  \n",
    "            optimizer.step()  \n",
    "\n",
    "            total_loss += loss.item()\n",
    "\n",
    "            _, predicted = torch.max(outputs, dim=1)\n",
    "            correct_predictions += (predicted == batch_targets).sum().item()\n",
    "            total_predictions += batch_targets.size(0)\n",
    "\n",
    "            progress_bar.set_postfix({\"Batch Loss\": loss.item()})\n",
    "\n",
    "    avg_train_loss = total_loss / len(train_loader)\n",
    "    train_accuracy = correct_predictions / total_predictions\n",
    "    train_losses.append(avg_train_loss)\n",
    "    train_accuracies.append(train_accuracy)\n",
    "\n",
    "    print(f\"Epoch [{epoch+1}/{num_epochs}], Training Loss: {avg_train_loss:.4f}, Training Accuracy: {train_accuracy:.4f}\")\n",
    "\n",
    "    model.eval()\n",
    "    val_loss = 0.0\n",
    "    val_correct_predictions = 0\n",
    "    val_total_predictions = 0\n",
    "\n",
    "    with torch.no_grad():\n",
    "        for batch_inputs, batch_targets in val_loader:\n",
    "            batch_inputs, batch_targets = batch_inputs.to(device), batch_targets.to(device)\n",
    "\n",
    "            outputs = model(batch_inputs, batch_targets)\n",
    "\n",
    "            loss = criterion(outputs, batch_targets)\n",
    "            val_loss += loss.item()\n",
    "\n",
    "            _, val_predicted = torch.max(outputs, dim=1)\n",
    "            val_correct_predictions += (val_predicted == batch_targets).sum().item()\n",
    "            val_total_predictions += batch_targets.size(0)\n",
    "\n",
    "    avg_val_loss = val_loss / len(val_loader)\n",
    "    val_accuracy = val_correct_predictions / val_total_predictions\n",
    "    val_losses.append(avg_val_loss)\n",
    "    val_accuracies.append(val_accuracy)\n",
    "\n",
    "    print(f\"Epoch [{epoch+1}/{num_epochs}], Validation Loss: {avg_val_loss:.4f}, Validation Accuracy: {val_accuracy:.4f}\")\n",
    "\n",
    "np.save(\"train_losses.npy\", train_losses)\n",
    "np.save(\"val_losses.npy\", val_losses)\n",
    "np.save(\"train_accuracies.npy\", train_accuracies)\n",
    "np.save(\"val_accuracies.npy\", val_accuracies)\n",
    "\n",
    "final_model_path = \"sasrec_model_final.pth\"\n",
    "torch.save(model.state_dict(), final_model_path)\n",
    "print(f\"Final model saved as '{final_model_path}'.\")\n",
    "\n",
    "print(\"Training Completed. Metrics and model saved for future use.\")\n"
   ]
  },
  {
   "cell_type": "code",
   "execution_count": 1,
   "id": "adbb7daf-517c-4fef-b268-9ec3a14a5506",
   "metadata": {},
   "outputs": [
    {
     "data": {
      "image/png": "[encoded data removed]",
      "text/plain": [
       "<Figure size 1000x600 with 1 Axes>"
      ]
     },
     "metadata": {},
     "output_type": "display_data"
    },
    {
     "data": {
      "image/png": "[encoded data removed]",
      "text/plain": [
       "<Figure size 1000x600 with 1 Axes>"
      ]
     },
     "metadata": {},
     "output_type": "display_data"
    }
   ],
   "source": [
    "import numpy as np\n",
    "import matplotlib.pyplot as plt\n",
    "\n",
    "train_losses = np.load(\"train_losses.npy\")\n",
    "train_accuracies = np.load(\"train_accuracies.npy\")\n",
    "\n",
    "plt.figure(figsize=(10, 6))\n",
    "plt.plot(train_losses, label=\"Training Loss\")\n",
    "plt.title(\"Training Loss Curve\")\n",
    "plt.xlabel(\"Epochs\")\n",
    "plt.ylabel(\"Loss\")\n",
    "plt.legend()\n",
    "plt.grid()\n",
    "plt.savefig(\"loss_curve.png\")  \n",
    "plt.show()\n",
    "\n",
    "plt.figure(figsize=(10, 6))\n",
    "plt.plot(train_accuracies, label=\"Training Accuracy\")\n",
    "plt.title(\"Training Accuracy Curve\")\n",
    "plt.xlabel(\"Epochs\")\n",
    "plt.ylabel(\"Accuracy\")\n",
    "plt.legend()\n",
    "plt.grid()\n",
    "plt.savefig(\"accuracy_curve.png\")  \n",
    "plt.show()\n"
   ]
  },
  {
   "cell_type": "code",
   "execution_count": 27,
   "id": "04789675-47f0-481c-adbc-2f4260f8d2a6",
   "metadata": {},
   "outputs": [
    {
     "name": "stdout",
     "output_type": "stream",
     "text": [
      "Model loaded successfully.\n"
     ]
    },
    {
     "name": "stderr",
     "output_type": "stream",
     "text": [
      "Evaluating HR & NDCG for multiple k: 100%|██████████| 318/318 [00:01<00:00, 232.38it/s]"
     ]
    },
    {
     "name": "stdout",
     "output_type": "stream",
     "text": [
      "Hit Ratio@5: 0.0210, NDCG@5: 0.0125\n",
      "Hit Ratio@10: 0.0320, NDCG@10: 0.0161\n",
      "Hit Ratio@20: 0.0513, NDCG@20: 0.0209\n"
     ]
    },
    {
     "name": "stderr",
     "output_type": "stream",
     "text": [
      "\n"
     ]
    }
   ],
   "source": [
    "model.load_state_dict(torch.load(\"sasrec_model_final.pth\"))\n",
    "model.eval()\n",
    "print(\"Model loaded successfully.\")\n",
    "\n",
    "import numpy as np\n",
    "from tqdm import tqdm\n",
    "\n",
    "def evaluate_hit_ndcg_multi_k(model, test_loader, ks=[5, 10, 20]):\n",
    "    model.eval()\n",
    "    total_hr = {k: 0 for k in ks}\n",
    "    total_ndcg = {k: 0 for k in ks}\n",
    "    total_samples = 0\n",
    "\n",
    "    with torch.no_grad():\n",
    "        for batch_inputs, batch_targets in tqdm(test_loader, desc=\"Evaluating HR & NDCG for multiple k\"):\n",
    "            batch_inputs = batch_inputs.to(device)\n",
    "            batch_targets = batch_targets.to(device)\n",
    "\n",
    "            # Pass targets=None during evaluation\n",
    "            outputs = model(batch_inputs, targets=None)\n",
    "            _, top_k_indices = torch.topk(outputs, k=max(ks), dim=1)\n",
    "\n",
    "            for i in range(batch_targets.size(0)):\n",
    "                target = batch_targets[i].item()\n",
    "                predictions = top_k_indices[i].cpu().numpy()\n",
    "\n",
    "                for k in ks:\n",
    "                    top_k_preds = predictions[:k]\n",
    "\n",
    "                    if target in top_k_preds:\n",
    "                        total_hr[k] += 1\n",
    "\n",
    "                    if target in top_k_preds:\n",
    "                        rank = np.where(top_k_preds == target)[0][0] + 1\n",
    "                        total_ndcg[k] += 1 / np.log2(rank + 1)\n",
    "\n",
    "            total_samples += batch_targets.size(0)\n",
    "\n",
    "    hr = {k: total_hr[k] / total_samples for k in ks}\n",
    "    ndcg = {k: total_ndcg[k] / total_samples for k in ks}\n",
    "\n",
    "    for k in ks:\n",
    "        print(f\"Hit Ratio@{k}: {hr[k]:.4f}, NDCG@{k}: {ndcg[k]:.4f}\")\n",
    "\n",
    "    return hr, ndcg\n",
    "\n",
    "\n",
    "ks = [5, 10, 20]\n",
    "hr, ndcg = evaluate_hit_ndcg_multi_k(model, test_loader, ks=ks)\n"
   ]
  },
  {
   "cell_type": "code",
   "execution_count": null,
   "id": "e92633dc-3c5a-4632-9634-75d533b1779f",
   "metadata": {},
   "outputs": [],
   "source": []
  }
 ],
 "metadata": {
  "kernelspec": {
   "display_name": "Python 3",
   "language": "python",
   "name": "python3"
  },
  "language_info": {
   "codemirror_mode": {
    "name": "ipython",
    "version": 3
   },
   "file_extension": ".py",
   "mimetype": "text/x-python",
   "name": "python",
   "nbconvert_exporter": "python",
   "pygments_lexer": "ipython3",
   "version": "3.10.10"
  }
 },
 "nbformat": 4,
 "nbformat_minor": 5
}
