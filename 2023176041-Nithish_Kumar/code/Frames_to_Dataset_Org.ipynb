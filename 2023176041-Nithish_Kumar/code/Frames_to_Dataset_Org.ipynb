{
 "cells": [
  {
   "cell_type": "code",
   "execution_count": 1,
   "metadata": {},
   "outputs": [],
   "source": [
    "import tensorflow as tf\n",
    "import numpy as np\n",
    "import pandas as pd\n",
    "import os\n",
    "from tensorflow.keras.preprocessing.image import load_img, img_to_array\n"
   ]
  },
  {
   "cell_type": "code",
   "execution_count": 2,
   "metadata": {},
   "outputs": [
    {
     "name": "stdout",
     "output_type": "stream",
     "text": [
      "        frame_name label\n",
      "0  000_frame_0.jpg  real\n",
      "1  000_frame_1.jpg  real\n",
      "2  000_frame_2.jpg  real\n",
      "3  000_frame_3.jpg  real\n",
      "4  000_frame_4.jpg  real\n"
     ]
    }
   ],
   "source": [
    "# Load the labels from video_frames.csv without a header\n",
    "labels_df = pd.read_csv('video_frames.csv', header=None, names=['frame_name', 'label'])\n",
    "\n",
    "# Display the first few rows of the dataframe\n",
    "print(labels_df.head())\n",
    "\n"
   ]
  },
  {
   "cell_type": "code",
   "execution_count": 4,
   "metadata": {},
   "outputs": [
    {
     "name": "stdout",
     "output_type": "stream",
     "text": [
      "Loaded 30000 images with shape: (30000, 150, 150, 3)\n"
     ]
    }
   ],
   "source": [
    "# Function to load and preprocess the image\n",
    "def preprocess_image(image_path, target_size=(150, 150)):\n",
    "    img = load_img(image_path, target_size=target_size)  # Load image and resize\n",
    "    img_array = img_to_array(img)  # Convert to array\n",
    "    img_array = img_array / 255.0  # Normalize the values\n",
    "    return img_array\n",
    "\n",
    "# Load and preprocess all images based on the labels\n",
    "def load_dataset_in_batches(frames_folder, labels_df, batch_size=1000):\n",
    "    num_samples = len(labels_df)\n",
    "    X, y = [], []\n",
    "    \n",
    "    for start in range(0, num_samples, batch_size):\n",
    "        end = min(start + batch_size, num_samples)\n",
    "        batch_X, batch_y = [], []\n",
    "        \n",
    "        for index in range(start, end):\n",
    "            row = labels_df.iloc[index]\n",
    "            image_path = os.path.join(frames_folder, row['frame_name'])\n",
    "            label = [1, 0] if row['label'] == 'real' else [0, 1]\n",
    "\n",
    "            if os.path.exists(image_path):\n",
    "                img_array = preprocess_image(image_path)\n",
    "                batch_X.append(img_array)\n",
    "                batch_y.append(label)\n",
    "        \n",
    "        X.append(batch_X)\n",
    "        y.append(batch_y)\n",
    "\n",
    "    return np.concatenate(X), np.concatenate(y)\n",
    "\n",
    "\n",
    "# Load the dataset\n",
    "frames_folder = 'frames_dataset'\n",
    "X, y = load_dataset_in_batches(frames_folder, labels_df)\n",
    "\n",
    "print(f'Loaded {len(X)} images with shape: {X.shape}')\n"
   ]
  },
  {
   "cell_type": "code",
   "execution_count": 6,
   "metadata": {},
   "outputs": [],
   "source": [
    "import pickle\n",
    "\n",
    "# Save X and y using pickle\n",
    "with open('dataset.pkl', 'wb') as f:\n",
    "    pickle.dump((X, y), f)"
   ]
  }
 ],
 "metadata": {
  "kernelspec": {
   "display_name": "Python 3",
   "language": "python",
   "name": "python3"
  },
  "language_info": {
   "codemirror_mode": {
    "name": "ipython",
    "version": 3
   },
   "file_extension": ".py",
   "mimetype": "text/x-python",
   "name": "python",
   "nbconvert_exporter": "python",
   "pygments_lexer": "ipython3",
   "version": "3.11.3"
  }
 },
 "nbformat": 4,
 "nbformat_minor": 2
}
